{
 "cells": [
  {
   "cell_type": "code",
   "execution_count": null,
   "id": "b7f4bbf0",
   "metadata": {},
   "outputs": [],
   "source": [
    "from dotenv import load_dotenv\n",
    "import os\n",
    "\n",
    "load_dotenv()\n",
    "qdrant_api_key = os.getenv(\"qdrant_api_key\")\n",
    "gemini_api_key = os.getenv(\"gemini_api_key\")"
   ]
  },
  {
   "cell_type": "markdown",
   "id": "d057f9e2",
   "metadata": {},
   "source": [
    "# Load model embedding"
   ]
  },
  {
   "cell_type": "code",
   "execution_count": 64,
   "id": "977068e1",
   "metadata": {},
   "outputs": [],
   "source": [
    "\n",
    "import torch\n",
    "import tqdm\n",
    "\n",
    "\n",
    "from sentence_transformers import SentenceTransformer\n",
    "from tqdm import tqdm\n",
    "\n",
    "class BGEEmbedder:\n",
    "    def __init__(self, model_name=\"BAAI/bge-m3\"):\n",
    "        self.model = SentenceTransformer(model_name)\n",
    "        self.prefix = \"Represent this sentence for searching relevant passages: \"\n",
    "\n",
    "    def embed(self, texts, batch_size=16):\n",
    "        # BGE-M3 yêu cầu prefix cho truy vấn và văn bản\n",
    "        texts_with_prefix = [\n",
    "            text if text.startswith(self.prefix) else self.prefix + text\n",
    "            for text in texts\n",
    "        ]\n",
    "\n",
    "        # Dùng encode với batch size và normalize sẵn\n",
    "        embeddings = self.model.encode(\n",
    "            texts_with_prefix,\n",
    "            batch_size=batch_size,\n",
    "            normalize_embeddings=True,\n",
    "            show_progress_bar=True\n",
    "        )\n",
    "        return embeddings\n",
    "\n",
    "\n"
   ]
  },
  {
   "cell_type": "code",
   "execution_count": 2,
   "id": "37a11166",
   "metadata": {},
   "outputs": [],
   "source": [
    "# from sentence_transformers import SentenceTransformer\n",
    "\n",
    "# # Load model BGE-M3\n",
    "# model = SentenceTransformer(\"BAAI/bge-m3\")\n",
    "\n",
    "# def embed_fn(text: str):\n",
    "#     # BGE-M3 khuyến nghị prefix truy vấn bằng \"Represent this sentence for searching relevant passages:\"\n",
    "#     if not text.startswith(\"Represent\"):\n",
    "#         text = \"Represent this sentence for searching relevant passages: \" + text\n",
    "#     return model.encode(text, normalize_embeddings=True)\n"
   ]
  },
  {
   "cell_type": "markdown",
   "id": "d03c7161",
   "metadata": {},
   "source": [
    "# Gọi Qdrant vector DB"
   ]
  },
  {
   "cell_type": "code",
   "execution_count": null,
   "id": "14ef1b6c",
   "metadata": {},
   "outputs": [],
   "source": [
    "from qdrant_client import QdrantClient\n",
    "from qdrant_client.models import VectorParams, Distance\n",
    "from qdrant_client.models import Filter\n",
    "# api=qdrant_api_key\n",
    "# client = QdrantClient(\n",
    "#     url=r\"https://0f47d391-b7c1-45d9-a956-5f7228cd80f3.europe-west3-0.gcp.cloud.qdrant.io:6333\",\n",
    "#     api_key=api,\n",
    "#     prefer_grpc=False\n",
    "# )\n",
    "from qdrant_client import QdrantClient\n",
    "\n",
    "client = QdrantClient(\n",
    "    host=\"localhost\",\n",
    "    port=6333\n",
    ")\n",
    "\n",
    "\n",
    "# client.recreate_collection(\n",
    "#     collection_name=\"flm_fap\",\n",
    "#     vectors_config=VectorParams(size=1024, distance=Distance.COSINE)\n",
    "# )\n",
    "# client.delete(\n",
    "#     collection_name=\"flm_fap\",\n",
    "#     points_selector=Filter(must=[])  # Xoá toàn bộ points\n",
    "# )\n"
   ]
  },
  {
   "cell_type": "code",
   "execution_count": null,
   "id": "d1060c77",
   "metadata": {},
   "outputs": [
    {
     "name": "stdout",
     "output_type": "stream",
     "text": [
      "[+] Copying vectors...\n"
     ]
    },
    {
     "name": "stderr",
     "output_type": "stream",
     "text": [
      "28784it [07:15, 66.07it/s]\n"
     ]
    },
    {
     "ename": "KeyboardInterrupt",
     "evalue": "",
     "output_type": "error",
     "traceback": [
      "\u001b[1;31m---------------------------------------------------------------------------\u001b[0m",
      "\u001b[1;31mConnectionRefusedError\u001b[0m                    Traceback (most recent call last)",
      "File \u001b[1;32mc:\\Users\\DO TUAN MINH\\AppData\\Local\\Programs\\Python\\Python312\\Lib\\socket.py:837\u001b[0m, in \u001b[0;36mcreate_connection\u001b[1;34m(address, timeout, source_address, all_errors)\u001b[0m\n\u001b[0;32m    836\u001b[0m     sock\u001b[38;5;241m.\u001b[39mbind(source_address)\n\u001b[1;32m--> 837\u001b[0m \u001b[43msock\u001b[49m\u001b[38;5;241;43m.\u001b[39;49m\u001b[43mconnect\u001b[49m\u001b[43m(\u001b[49m\u001b[43msa\u001b[49m\u001b[43m)\u001b[49m\n\u001b[0;32m    838\u001b[0m \u001b[38;5;66;03m# Break explicitly a reference cycle\u001b[39;00m\n",
      "\u001b[1;31mConnectionRefusedError\u001b[0m: [WinError 10061] No connection could be made because the target machine actively refused it",
      "\nDuring handling of the above exception, another exception occurred:\n",
      "\u001b[1;31mKeyboardInterrupt\u001b[0m                         Traceback (most recent call last)",
      "Cell \u001b[1;32mIn[89], line 64\u001b[0m\n\u001b[0;32m     57\u001b[0m \u001b[38;5;28;01mfrom\u001b[39;00m\u001b[38;5;250m \u001b[39m\u001b[38;5;21;01mqdrant_client\u001b[39;00m\u001b[38;5;21;01m.\u001b[39;00m\u001b[38;5;21;01mhttp\u001b[39;00m\u001b[38;5;21;01m.\u001b[39;00m\u001b[38;5;21;01mmodels\u001b[39;00m\u001b[38;5;250m \u001b[39m\u001b[38;5;28;01mimport\u001b[39;00m PointStruct\n\u001b[0;32m     59\u001b[0m converted_points \u001b[38;5;241m=\u001b[39m [\n\u001b[0;32m     60\u001b[0m     PointStruct(\u001b[38;5;28mid\u001b[39m\u001b[38;5;241m=\u001b[39mpoint\u001b[38;5;241m.\u001b[39mid, vector\u001b[38;5;241m=\u001b[39mpoint\u001b[38;5;241m.\u001b[39mvector, payload\u001b[38;5;241m=\u001b[39mpoint\u001b[38;5;241m.\u001b[39mpayload)\n\u001b[0;32m     61\u001b[0m     \u001b[38;5;28;01mfor\u001b[39;00m point \u001b[38;5;129;01min\u001b[39;00m points\n\u001b[0;32m     62\u001b[0m ]\n\u001b[1;32m---> 64\u001b[0m \u001b[43mlocal_client\u001b[49m\u001b[38;5;241;43m.\u001b[39;49m\u001b[43mupsert\u001b[49m\u001b[43m(\u001b[49m\n\u001b[0;32m     65\u001b[0m \u001b[43m    \u001b[49m\u001b[43mcollection_name\u001b[49m\u001b[38;5;241;43m=\u001b[39;49m\u001b[43mCOLLECTION_NAME\u001b[49m\u001b[43m,\u001b[49m\n\u001b[0;32m     66\u001b[0m \u001b[43m    \u001b[49m\u001b[43mpoints\u001b[49m\u001b[38;5;241;43m=\u001b[39;49m\u001b[43mconverted_points\u001b[49m\n\u001b[0;32m     67\u001b[0m \u001b[43m\u001b[49m\u001b[43m)\u001b[49m\n\u001b[0;32m     70\u001b[0m total \u001b[38;5;241m+\u001b[39m\u001b[38;5;241m=\u001b[39m \u001b[38;5;28mlen\u001b[39m(points)\n\u001b[0;32m     71\u001b[0m pbar\u001b[38;5;241m.\u001b[39mupdate(\u001b[38;5;28mlen\u001b[39m(points))\n",
      "File \u001b[1;32mc:\\Users\\DO TUAN MINH\\AppData\\Local\\Programs\\Python\\Python312\\Lib\\site-packages\\qdrant_client\\qdrant_client.py:796\u001b[0m, in \u001b[0;36mupsert\u001b[1;34m(self, collection_name, points, wait, ordering, **kwargs)\u001b[0m\n\u001b[0;32m    752\u001b[0m                 prefetch \u001b[38;5;241m=\u001b[39m \u001b[38;5;28mnext\u001b[39m(\n\u001b[0;32m    753\u001b[0m                     \u001b[38;5;28miter\u001b[39m(\n\u001b[0;32m    754\u001b[0m                         \u001b[38;5;28mself\u001b[39m\u001b[38;5;241m.\u001b[39m_embed_models(\n\u001b[1;32m   (...)\u001b[0m\n\u001b[0;32m    757\u001b[0m                     )\n\u001b[0;32m    758\u001b[0m                 )\n\u001b[0;32m    760\u001b[0m     \u001b[38;5;28;01mreturn\u001b[39;00m \u001b[38;5;28mself\u001b[39m\u001b[38;5;241m.\u001b[39m_client\u001b[38;5;241m.\u001b[39mquery_points_groups(\n\u001b[0;32m    761\u001b[0m         collection_name\u001b[38;5;241m=\u001b[39mcollection_name,\n\u001b[0;32m    762\u001b[0m         query\u001b[38;5;241m=\u001b[39mquery,\n\u001b[1;32m   (...)\u001b[0m\n\u001b[0;32m    777\u001b[0m         \u001b[38;5;241m*\u001b[39m\u001b[38;5;241m*\u001b[39mkwargs,\n\u001b[0;32m    778\u001b[0m     )\n\u001b[0;32m    780\u001b[0m \u001b[38;5;28;01mdef\u001b[39;00m\u001b[38;5;250m \u001b[39m\u001b[38;5;21msearch_groups\u001b[39m(\n\u001b[0;32m    781\u001b[0m     \u001b[38;5;28mself\u001b[39m,\n\u001b[0;32m    782\u001b[0m     collection_name: \u001b[38;5;28mstr\u001b[39m,\n\u001b[0;32m    783\u001b[0m     query_vector: Union[\n\u001b[0;32m    784\u001b[0m         Sequence[\u001b[38;5;28mfloat\u001b[39m],\n\u001b[0;32m    785\u001b[0m         \u001b[38;5;28mtuple\u001b[39m[\u001b[38;5;28mstr\u001b[39m, \u001b[38;5;28mlist\u001b[39m[\u001b[38;5;28mfloat\u001b[39m]],\n\u001b[0;32m    786\u001b[0m         types\u001b[38;5;241m.\u001b[39mNamedVector,\n\u001b[0;32m    787\u001b[0m         types\u001b[38;5;241m.\u001b[39mNamedSparseVector,\n\u001b[0;32m    788\u001b[0m         types\u001b[38;5;241m.\u001b[39mNumpyArray,\n\u001b[0;32m    789\u001b[0m     ],\n\u001b[0;32m    790\u001b[0m     group_by: \u001b[38;5;28mstr\u001b[39m,\n\u001b[0;32m    791\u001b[0m     query_filter: Optional[types\u001b[38;5;241m.\u001b[39mFilter] \u001b[38;5;241m=\u001b[39m \u001b[38;5;28;01mNone\u001b[39;00m,\n\u001b[0;32m    792\u001b[0m     search_params: Optional[types\u001b[38;5;241m.\u001b[39mSearchParams] \u001b[38;5;241m=\u001b[39m \u001b[38;5;28;01mNone\u001b[39;00m,\n\u001b[0;32m    793\u001b[0m     limit: \u001b[38;5;28mint\u001b[39m \u001b[38;5;241m=\u001b[39m \u001b[38;5;241m10\u001b[39m,\n\u001b[0;32m    794\u001b[0m     group_size: \u001b[38;5;28mint\u001b[39m \u001b[38;5;241m=\u001b[39m \u001b[38;5;241m1\u001b[39m,\n\u001b[0;32m    795\u001b[0m     with_payload: Union[\u001b[38;5;28mbool\u001b[39m, Sequence[\u001b[38;5;28mstr\u001b[39m], types\u001b[38;5;241m.\u001b[39mPayloadSelector] \u001b[38;5;241m=\u001b[39m \u001b[38;5;28;01mTrue\u001b[39;00m,\n\u001b[1;32m--> 796\u001b[0m     with_vectors: Union[\u001b[38;5;28mbool\u001b[39m, Sequence[\u001b[38;5;28mstr\u001b[39m]] \u001b[38;5;241m=\u001b[39m \u001b[38;5;28;01mFalse\u001b[39;00m,\n\u001b[0;32m    797\u001b[0m     score_threshold: Optional[\u001b[38;5;28mfloat\u001b[39m] \u001b[38;5;241m=\u001b[39m \u001b[38;5;28;01mNone\u001b[39;00m,\n\u001b[0;32m    798\u001b[0m     with_lookup: Optional[types\u001b[38;5;241m.\u001b[39mWithLookupInterface] \u001b[38;5;241m=\u001b[39m \u001b[38;5;28;01mNone\u001b[39;00m,\n\u001b[0;32m    799\u001b[0m     consistency: Optional[types\u001b[38;5;241m.\u001b[39mReadConsistency] \u001b[38;5;241m=\u001b[39m \u001b[38;5;28;01mNone\u001b[39;00m,\n\u001b[0;32m    800\u001b[0m     shard_key_selector: Optional[types\u001b[38;5;241m.\u001b[39mShardKeySelector] \u001b[38;5;241m=\u001b[39m \u001b[38;5;28;01mNone\u001b[39;00m,\n\u001b[0;32m    801\u001b[0m     timeout: Optional[\u001b[38;5;28mint\u001b[39m] \u001b[38;5;241m=\u001b[39m \u001b[38;5;28;01mNone\u001b[39;00m,\n\u001b[0;32m    802\u001b[0m     \u001b[38;5;241m*\u001b[39m\u001b[38;5;241m*\u001b[39mkwargs: Any,\n\u001b[0;32m    803\u001b[0m ) \u001b[38;5;241m-\u001b[39m\u001b[38;5;241m>\u001b[39m types\u001b[38;5;241m.\u001b[39mGroupsResult:\n\u001b[0;32m    804\u001b[0m \u001b[38;5;250m    \u001b[39m\u001b[38;5;124;03m\"\"\"Search for closest vectors grouped by payload field.\u001b[39;00m\n\u001b[0;32m    805\u001b[0m \n\u001b[0;32m    806\u001b[0m \u001b[38;5;124;03m    Searches best matches for query vector grouped by the value of payload field.\u001b[39;00m\n\u001b[1;32m   (...)\u001b[0m\n\u001b[0;32m    860\u001b[0m \u001b[38;5;124;03m        Each group also contains an id of the group, which is the value of the payload field.\u001b[39;00m\n\u001b[0;32m    861\u001b[0m \u001b[38;5;124;03m    \"\"\"\u001b[39;00m\n\u001b[0;32m    862\u001b[0m     \u001b[38;5;28;01massert\u001b[39;00m \u001b[38;5;28mlen\u001b[39m(kwargs) \u001b[38;5;241m==\u001b[39m \u001b[38;5;241m0\u001b[39m, \u001b[38;5;124mf\u001b[39m\u001b[38;5;124m\"\u001b[39m\u001b[38;5;124mUnknown arguments: \u001b[39m\u001b[38;5;132;01m{\u001b[39;00m\u001b[38;5;28mlist\u001b[39m(kwargs\u001b[38;5;241m.\u001b[39mkeys())\u001b[38;5;132;01m}\u001b[39;00m\u001b[38;5;124m\"\u001b[39m\n",
      "File \u001b[1;32mc:\\Users\\DO TUAN MINH\\AppData\\Local\\Programs\\Python\\Python312\\Lib\\site-packages\\qdrant_client\\qdrant_remote.py:1054\u001b[0m, in \u001b[0;36mupsert\u001b[1;34m(self, collection_name, points, wait, ordering, **kwargs)\u001b[0m\n\u001b[0;32m   1040\u001b[0m     \u001b[38;5;28;01mif\u001b[39;00m \u001b[38;5;28misinstance\u001b[39m(consistency, get_args_subscribed(models\u001b[38;5;241m.\u001b[39mReadConsistency)):\n\u001b[0;32m   1041\u001b[0m         consistency \u001b[38;5;241m=\u001b[39m RestToGrpc\u001b[38;5;241m.\u001b[39mconvert_read_consistency(consistency)\n\u001b[0;32m   1043\u001b[0m     response \u001b[38;5;241m=\u001b[39m \u001b[38;5;28mself\u001b[39m\u001b[38;5;241m.\u001b[39mgrpc_points\u001b[38;5;241m.\u001b[39mSearchMatrixPairs(\n\u001b[0;32m   1044\u001b[0m         grpc\u001b[38;5;241m.\u001b[39mSearchMatrixPoints(\n\u001b[0;32m   1045\u001b[0m             collection_name\u001b[38;5;241m=\u001b[39mcollection_name,\n\u001b[0;32m   1046\u001b[0m             \u001b[38;5;28mfilter\u001b[39m\u001b[38;5;241m=\u001b[39mquery_filter,\n\u001b[0;32m   1047\u001b[0m             sample\u001b[38;5;241m=\u001b[39msample,\n\u001b[0;32m   1048\u001b[0m             limit\u001b[38;5;241m=\u001b[39mlimit,\n\u001b[0;32m   1049\u001b[0m             using\u001b[38;5;241m=\u001b[39musing,\n\u001b[0;32m   1050\u001b[0m             timeout\u001b[38;5;241m=\u001b[39mtimeout,\n\u001b[0;32m   1051\u001b[0m             read_consistency\u001b[38;5;241m=\u001b[39mconsistency,\n\u001b[0;32m   1052\u001b[0m             shard_key_selector\u001b[38;5;241m=\u001b[39mshard_key_selector,\n\u001b[0;32m   1053\u001b[0m         ),\n\u001b[1;32m-> 1054\u001b[0m         timeout\u001b[38;5;241m=\u001b[39mtimeout \u001b[38;5;28;01mif\u001b[39;00m timeout \u001b[38;5;129;01mis\u001b[39;00m \u001b[38;5;129;01mnot\u001b[39;00m \u001b[38;5;28;01mNone\u001b[39;00m \u001b[38;5;28;01melse\u001b[39;00m \u001b[38;5;28mself\u001b[39m\u001b[38;5;241m.\u001b[39m_timeout,\n\u001b[0;32m   1055\u001b[0m     )\n\u001b[0;32m   1056\u001b[0m     \u001b[38;5;28;01mreturn\u001b[39;00m GrpcToRest\u001b[38;5;241m.\u001b[39mconvert_search_matrix_pairs(response\u001b[38;5;241m.\u001b[39mresult)\n\u001b[0;32m   1058\u001b[0m \u001b[38;5;28;01mif\u001b[39;00m \u001b[38;5;28misinstance\u001b[39m(query_filter, grpc\u001b[38;5;241m.\u001b[39mFilter):\n",
      "File \u001b[1;32mc:\\Users\\DO TUAN MINH\\AppData\\Local\\Programs\\Python\\Python312\\Lib\\site-packages\\qdrant_client\\http\\api\\points_api.py:1247\u001b[0m, in \u001b[0;36mupsert_points\u001b[1;34m(self, collection_name, wait, ordering, point_insert_operations)\u001b[0m\n\u001b[0;32m      0\u001b[0m <Error retrieving source code with stack_data see ipython/ipython#13598>\n",
      "File \u001b[1;32mc:\\Users\\DO TUAN MINH\\AppData\\Local\\Programs\\Python\\Python312\\Lib\\site-packages\\qdrant_client\\http\\api\\points_api.py:638\u001b[0m, in \u001b[0;36m_build_for_upsert_points\u001b[1;34m(self, collection_name, wait, ordering, point_insert_operations)\u001b[0m\n\u001b[0;32m    624\u001b[0m \u001b[38;5;28;01masync\u001b[39;00m \u001b[38;5;28;01mdef\u001b[39;00m\u001b[38;5;250m \u001b[39m\u001b[38;5;21mfacet\u001b[39m(\n\u001b[0;32m    625\u001b[0m     \u001b[38;5;28mself\u001b[39m,\n\u001b[0;32m    626\u001b[0m     collection_name: \u001b[38;5;28mstr\u001b[39m,\n\u001b[1;32m   (...)\u001b[0m\n\u001b[0;32m    629\u001b[0m     facet_request: m\u001b[38;5;241m.\u001b[39mFacetRequest \u001b[38;5;241m=\u001b[39m \u001b[38;5;28;01mNone\u001b[39;00m,\n\u001b[0;32m    630\u001b[0m ) \u001b[38;5;241m-\u001b[39m\u001b[38;5;241m>\u001b[39m m\u001b[38;5;241m.\u001b[39mInlineResponse20021:\n\u001b[0;32m    631\u001b[0m \u001b[38;5;250m    \u001b[39m\u001b[38;5;124;03m\"\"\"\u001b[39;00m\n\u001b[0;32m    632\u001b[0m \u001b[38;5;124;03m    Count points that satisfy the given filter for each unique value of a payload key.\u001b[39;00m\n\u001b[0;32m    633\u001b[0m \u001b[38;5;124;03m    \"\"\"\u001b[39;00m\n\u001b[0;32m    634\u001b[0m     \u001b[38;5;28;01mreturn\u001b[39;00m \u001b[38;5;28;01mawait\u001b[39;00m \u001b[38;5;28mself\u001b[39m\u001b[38;5;241m.\u001b[39m_build_for_facet(\n\u001b[0;32m    635\u001b[0m         collection_name\u001b[38;5;241m=\u001b[39mcollection_name,\n\u001b[0;32m    636\u001b[0m         timeout\u001b[38;5;241m=\u001b[39mtimeout,\n\u001b[0;32m    637\u001b[0m         consistency\u001b[38;5;241m=\u001b[39mconsistency,\n\u001b[1;32m--> 638\u001b[0m         facet_request\u001b[38;5;241m=\u001b[39mfacet_request,\n\u001b[0;32m    639\u001b[0m     )\n",
      "File \u001b[1;32mc:\\Users\\DO TUAN MINH\\AppData\\Local\\Programs\\Python\\Python312\\Lib\\site-packages\\qdrant_client\\http\\api_client.py:74\u001b[0m, in \u001b[0;36mApiClient.request\u001b[1;34m(self, type_, method, url, path_params, **kwargs)\u001b[0m\n\u001b[0;32m     72\u001b[0m url \u001b[38;5;241m=\u001b[39m (\u001b[38;5;28mself\u001b[39m\u001b[38;5;241m.\u001b[39mhost \u001b[38;5;129;01mor\u001b[39;00m \u001b[38;5;124m\"\u001b[39m\u001b[38;5;124m\"\u001b[39m) \u001b[38;5;241m+\u001b[39m url\u001b[38;5;241m.\u001b[39mformat(\u001b[38;5;241m*\u001b[39m\u001b[38;5;241m*\u001b[39mpath_params)\n\u001b[0;32m     73\u001b[0m request \u001b[38;5;241m=\u001b[39m \u001b[38;5;28mself\u001b[39m\u001b[38;5;241m.\u001b[39m_client\u001b[38;5;241m.\u001b[39mbuild_request(method, url, \u001b[38;5;241m*\u001b[39m\u001b[38;5;241m*\u001b[39mkwargs)\n\u001b[1;32m---> 74\u001b[0m \u001b[38;5;28;01mreturn\u001b[39;00m \u001b[38;5;28;43mself\u001b[39;49m\u001b[38;5;241;43m.\u001b[39;49m\u001b[43msend\u001b[49m\u001b[43m(\u001b[49m\u001b[43mrequest\u001b[49m\u001b[43m,\u001b[49m\u001b[43m \u001b[49m\u001b[43mtype_\u001b[49m\u001b[43m)\u001b[49m\n",
      "File \u001b[1;32mc:\\Users\\DO TUAN MINH\\AppData\\Local\\Programs\\Python\\Python312\\Lib\\site-packages\\qdrant_client\\http\\api_client.py:91\u001b[0m, in \u001b[0;36msend\u001b[1;34m(self, request, type_)\u001b[0m\n\u001b[0;32m     88\u001b[0m url \u001b[38;5;241m=\u001b[39m url[\u001b[38;5;241m1\u001b[39m:] \u001b[38;5;28;01mif\u001b[39;00m url\u001b[38;5;241m.\u001b[39mstartswith(\u001b[38;5;124m\"\u001b[39m\u001b[38;5;124m/\u001b[39m\u001b[38;5;124m\"\u001b[39m) \u001b[38;5;28;01melse\u001b[39;00m url\n\u001b[0;32m     89\u001b[0m \u001b[38;5;66;03m# in order to do a correct join, url join requires base_url to end with /, and url to not start with /,\u001b[39;00m\n\u001b[0;32m     90\u001b[0m \u001b[38;5;66;03m# since url is treated as an absolute path and might truncate prefix in base_url\u001b[39;00m\n\u001b[1;32m---> 91\u001b[0m url \u001b[38;5;241m=\u001b[39m urljoin(host, url\u001b[38;5;241m.\u001b[39mformat(\u001b[38;5;241m*\u001b[39m\u001b[38;5;241m*\u001b[39mpath_params))\n\u001b[0;32m     92\u001b[0m \u001b[38;5;28;01mif\u001b[39;00m \u001b[38;5;124m\"\u001b[39m\u001b[38;5;124mparams\u001b[39m\u001b[38;5;124m\"\u001b[39m \u001b[38;5;129;01min\u001b[39;00m kwargs \u001b[38;5;129;01mand\u001b[39;00m \u001b[38;5;124m\"\u001b[39m\u001b[38;5;124mtimeout\u001b[39m\u001b[38;5;124m\"\u001b[39m \u001b[38;5;129;01min\u001b[39;00m kwargs[\u001b[38;5;124m\"\u001b[39m\u001b[38;5;124mparams\u001b[39m\u001b[38;5;124m\"\u001b[39m]:\n\u001b[0;32m     93\u001b[0m     kwargs[\u001b[38;5;124m\"\u001b[39m\u001b[38;5;124mtimeout\u001b[39m\u001b[38;5;124m\"\u001b[39m] \u001b[38;5;241m=\u001b[39m \u001b[38;5;28mint\u001b[39m(kwargs[\u001b[38;5;124m\"\u001b[39m\u001b[38;5;124mparams\u001b[39m\u001b[38;5;124m\"\u001b[39m][\u001b[38;5;124m\"\u001b[39m\u001b[38;5;124mtimeout\u001b[39m\u001b[38;5;124m\"\u001b[39m])\n",
      "File \u001b[1;32mc:\\Users\\DO TUAN MINH\\AppData\\Local\\Programs\\Python\\Python312\\Lib\\site-packages\\qdrant_client\\http\\api_client.py:200\u001b[0m, in \u001b[0;36m__call__\u001b[1;34m(self, request, call_next)\u001b[0m\n\u001b[0;32m    195\u001b[0m \u001b[38;5;250m    \u001b[39m\u001b[38;5;124;03m\"\"\"\u001b[39;00m\n\u001b[0;32m    196\u001b[0m \u001b[38;5;124;03m    This method is not used by the generated apis, but is included for convenience\u001b[39;00m\n\u001b[0;32m    197\u001b[0m \u001b[38;5;124;03m    \"\"\"\u001b[39;00m\n\u001b[0;32m    198\u001b[0m     \u001b[38;5;28;01mreturn\u001b[39;00m get_event_loop()\u001b[38;5;241m.\u001b[39mrun_until_complete(\u001b[38;5;28mself\u001b[39m\u001b[38;5;241m.\u001b[39mrequest(type_\u001b[38;5;241m=\u001b[39mtype_, \u001b[38;5;241m*\u001b[39m\u001b[38;5;241m*\u001b[39mkwargs))\n\u001b[1;32m--> 200\u001b[0m \u001b[38;5;28;01masync\u001b[39;00m \u001b[38;5;28;01mdef\u001b[39;00m\u001b[38;5;250m \u001b[39m\u001b[38;5;21msend\u001b[39m(\u001b[38;5;28mself\u001b[39m, request: Request, type_: Type[T]) \u001b[38;5;241m-\u001b[39m\u001b[38;5;241m>\u001b[39m T:\n\u001b[0;32m    201\u001b[0m     response \u001b[38;5;241m=\u001b[39m \u001b[38;5;28;01mawait\u001b[39;00m \u001b[38;5;28mself\u001b[39m\u001b[38;5;241m.\u001b[39mmiddleware(request, \u001b[38;5;28mself\u001b[39m\u001b[38;5;241m.\u001b[39msend_inner)\n\u001b[0;32m    203\u001b[0m     \u001b[38;5;28;01mif\u001b[39;00m response\u001b[38;5;241m.\u001b[39mstatus_code \u001b[38;5;241m==\u001b[39m \u001b[38;5;241m429\u001b[39m:\n",
      "File \u001b[1;32mc:\\Users\\DO TUAN MINH\\AppData\\Local\\Programs\\Python\\Python312\\Lib\\site-packages\\qdrant_client\\http\\api_client.py:101\u001b[0m, in \u001b[0;36msend_inner\u001b[1;34m(self, request)\u001b[0m\n\u001b[0;32m     97\u001b[0m \u001b[38;5;129m@overload\u001b[39m\n\u001b[0;32m     98\u001b[0m \u001b[38;5;28;01mdef\u001b[39;00m\u001b[38;5;250m \u001b[39m\u001b[38;5;21mrequest_sync\u001b[39m(\u001b[38;5;28mself\u001b[39m, \u001b[38;5;241m*\u001b[39m, type_: Type[T], \u001b[38;5;241m*\u001b[39m\u001b[38;5;241m*\u001b[39mkwargs: Any) \u001b[38;5;241m-\u001b[39m\u001b[38;5;241m>\u001b[39m T:\n\u001b[0;32m     99\u001b[0m     \u001b[38;5;241m.\u001b[39m\u001b[38;5;241m.\u001b[39m\u001b[38;5;241m.\u001b[39m\n\u001b[1;32m--> 101\u001b[0m \u001b[38;5;129m@overload\u001b[39m  \u001b[38;5;66;03m# noqa F811\u001b[39;00m\n\u001b[0;32m    102\u001b[0m \u001b[38;5;28;01mdef\u001b[39;00m\u001b[38;5;250m \u001b[39m\u001b[38;5;21mrequest_sync\u001b[39m(\u001b[38;5;28mself\u001b[39m, \u001b[38;5;241m*\u001b[39m, type_: \u001b[38;5;28;01mNone\u001b[39;00m, \u001b[38;5;241m*\u001b[39m\u001b[38;5;241m*\u001b[39mkwargs: Any) \u001b[38;5;241m-\u001b[39m\u001b[38;5;241m>\u001b[39m \u001b[38;5;28;01mNone\u001b[39;00m:\n\u001b[0;32m    103\u001b[0m     \u001b[38;5;241m.\u001b[39m\u001b[38;5;241m.\u001b[39m\u001b[38;5;241m.\u001b[39m\n\u001b[0;32m    105\u001b[0m \u001b[38;5;28;01mdef\u001b[39;00m\u001b[38;5;250m \u001b[39m\u001b[38;5;21mrequest_sync\u001b[39m(\u001b[38;5;28mself\u001b[39m, \u001b[38;5;241m*\u001b[39m, type_: Any, \u001b[38;5;241m*\u001b[39m\u001b[38;5;241m*\u001b[39mkwargs: Any) \u001b[38;5;241m-\u001b[39m\u001b[38;5;241m>\u001b[39m Any:  \u001b[38;5;66;03m# noqa F811\u001b[39;00m\n",
      "File \u001b[1;32mc:\\Users\\DO TUAN MINH\\AppData\\Local\\Programs\\Python\\Python312\\Lib\\site-packages\\httpx\\_client.py:901\u001b[0m, in \u001b[0;36mClient.send\u001b[1;34m(self, request, stream, auth, follow_redirects)\u001b[0m\n\u001b[0;32m    893\u001b[0m follow_redirects \u001b[38;5;241m=\u001b[39m (\n\u001b[0;32m    894\u001b[0m     \u001b[38;5;28mself\u001b[39m\u001b[38;5;241m.\u001b[39mfollow_redirects\n\u001b[0;32m    895\u001b[0m     \u001b[38;5;28;01mif\u001b[39;00m \u001b[38;5;28misinstance\u001b[39m(follow_redirects, UseClientDefault)\n\u001b[0;32m    896\u001b[0m     \u001b[38;5;28;01melse\u001b[39;00m follow_redirects\n\u001b[0;32m    897\u001b[0m )\n\u001b[0;32m    899\u001b[0m auth \u001b[38;5;241m=\u001b[39m \u001b[38;5;28mself\u001b[39m\u001b[38;5;241m.\u001b[39m_build_request_auth(request, auth)\n\u001b[1;32m--> 901\u001b[0m response \u001b[38;5;241m=\u001b[39m \u001b[38;5;28;43mself\u001b[39;49m\u001b[38;5;241;43m.\u001b[39;49m\u001b[43m_send_handling_auth\u001b[49m\u001b[43m(\u001b[49m\n\u001b[0;32m    902\u001b[0m \u001b[43m    \u001b[49m\u001b[43mrequest\u001b[49m\u001b[43m,\u001b[49m\n\u001b[0;32m    903\u001b[0m \u001b[43m    \u001b[49m\u001b[43mauth\u001b[49m\u001b[38;5;241;43m=\u001b[39;49m\u001b[43mauth\u001b[49m\u001b[43m,\u001b[49m\n\u001b[0;32m    904\u001b[0m \u001b[43m    \u001b[49m\u001b[43mfollow_redirects\u001b[49m\u001b[38;5;241;43m=\u001b[39;49m\u001b[43mfollow_redirects\u001b[49m\u001b[43m,\u001b[49m\n\u001b[0;32m    905\u001b[0m \u001b[43m    \u001b[49m\u001b[43mhistory\u001b[49m\u001b[38;5;241;43m=\u001b[39;49m\u001b[43m[\u001b[49m\u001b[43m]\u001b[49m\u001b[43m,\u001b[49m\n\u001b[0;32m    906\u001b[0m \u001b[43m\u001b[49m\u001b[43m)\u001b[49m\n\u001b[0;32m    907\u001b[0m \u001b[38;5;28;01mtry\u001b[39;00m:\n\u001b[0;32m    908\u001b[0m     \u001b[38;5;28;01mif\u001b[39;00m \u001b[38;5;129;01mnot\u001b[39;00m stream:\n",
      "File \u001b[1;32mc:\\Users\\DO TUAN MINH\\AppData\\Local\\Programs\\Python\\Python312\\Lib\\site-packages\\httpx\\_client.py:929\u001b[0m, in \u001b[0;36mClient._send_handling_auth\u001b[1;34m(self, request, auth, follow_redirects, history)\u001b[0m\n\u001b[0;32m    926\u001b[0m request \u001b[38;5;241m=\u001b[39m \u001b[38;5;28mnext\u001b[39m(auth_flow)\n\u001b[0;32m    928\u001b[0m \u001b[38;5;28;01mwhile\u001b[39;00m \u001b[38;5;28;01mTrue\u001b[39;00m:\n\u001b[1;32m--> 929\u001b[0m     response \u001b[38;5;241m=\u001b[39m \u001b[38;5;28;43mself\u001b[39;49m\u001b[38;5;241;43m.\u001b[39;49m\u001b[43m_send_handling_redirects\u001b[49m\u001b[43m(\u001b[49m\n\u001b[0;32m    930\u001b[0m \u001b[43m        \u001b[49m\u001b[43mrequest\u001b[49m\u001b[43m,\u001b[49m\n\u001b[0;32m    931\u001b[0m \u001b[43m        \u001b[49m\u001b[43mfollow_redirects\u001b[49m\u001b[38;5;241;43m=\u001b[39;49m\u001b[43mfollow_redirects\u001b[49m\u001b[43m,\u001b[49m\n\u001b[0;32m    932\u001b[0m \u001b[43m        \u001b[49m\u001b[43mhistory\u001b[49m\u001b[38;5;241;43m=\u001b[39;49m\u001b[43mhistory\u001b[49m\u001b[43m,\u001b[49m\n\u001b[0;32m    933\u001b[0m \u001b[43m    \u001b[49m\u001b[43m)\u001b[49m\n\u001b[0;32m    934\u001b[0m     \u001b[38;5;28;01mtry\u001b[39;00m:\n\u001b[0;32m    935\u001b[0m         \u001b[38;5;28;01mtry\u001b[39;00m:\n",
      "File \u001b[1;32mc:\\Users\\DO TUAN MINH\\AppData\\Local\\Programs\\Python\\Python312\\Lib\\site-packages\\httpx\\_client.py:966\u001b[0m, in \u001b[0;36mClient._send_handling_redirects\u001b[1;34m(self, request, follow_redirects, history)\u001b[0m\n\u001b[0;32m    963\u001b[0m \u001b[38;5;28;01mfor\u001b[39;00m hook \u001b[38;5;129;01min\u001b[39;00m \u001b[38;5;28mself\u001b[39m\u001b[38;5;241m.\u001b[39m_event_hooks[\u001b[38;5;124m\"\u001b[39m\u001b[38;5;124mrequest\u001b[39m\u001b[38;5;124m\"\u001b[39m]:\n\u001b[0;32m    964\u001b[0m     hook(request)\n\u001b[1;32m--> 966\u001b[0m response \u001b[38;5;241m=\u001b[39m \u001b[38;5;28;43mself\u001b[39;49m\u001b[38;5;241;43m.\u001b[39;49m\u001b[43m_send_single_request\u001b[49m\u001b[43m(\u001b[49m\u001b[43mrequest\u001b[49m\u001b[43m)\u001b[49m\n\u001b[0;32m    967\u001b[0m \u001b[38;5;28;01mtry\u001b[39;00m:\n\u001b[0;32m    968\u001b[0m     \u001b[38;5;28;01mfor\u001b[39;00m hook \u001b[38;5;129;01min\u001b[39;00m \u001b[38;5;28mself\u001b[39m\u001b[38;5;241m.\u001b[39m_event_hooks[\u001b[38;5;124m\"\u001b[39m\u001b[38;5;124mresponse\u001b[39m\u001b[38;5;124m\"\u001b[39m]:\n",
      "File \u001b[1;32mc:\\Users\\DO TUAN MINH\\AppData\\Local\\Programs\\Python\\Python312\\Lib\\site-packages\\httpx\\_client.py:1002\u001b[0m, in \u001b[0;36mClient._send_single_request\u001b[1;34m(self, request)\u001b[0m\n\u001b[0;32m    997\u001b[0m     \u001b[38;5;28;01mraise\u001b[39;00m \u001b[38;5;167;01mRuntimeError\u001b[39;00m(\n\u001b[0;32m    998\u001b[0m         \u001b[38;5;124m\"\u001b[39m\u001b[38;5;124mAttempted to send an async request with a sync Client instance.\u001b[39m\u001b[38;5;124m\"\u001b[39m\n\u001b[0;32m    999\u001b[0m     )\n\u001b[0;32m   1001\u001b[0m \u001b[38;5;28;01mwith\u001b[39;00m request_context(request\u001b[38;5;241m=\u001b[39mrequest):\n\u001b[1;32m-> 1002\u001b[0m     response \u001b[38;5;241m=\u001b[39m \u001b[43mtransport\u001b[49m\u001b[38;5;241;43m.\u001b[39;49m\u001b[43mhandle_request\u001b[49m\u001b[43m(\u001b[49m\u001b[43mrequest\u001b[49m\u001b[43m)\u001b[49m\n\u001b[0;32m   1004\u001b[0m \u001b[38;5;28;01massert\u001b[39;00m \u001b[38;5;28misinstance\u001b[39m(response\u001b[38;5;241m.\u001b[39mstream, SyncByteStream)\n\u001b[0;32m   1006\u001b[0m response\u001b[38;5;241m.\u001b[39mrequest \u001b[38;5;241m=\u001b[39m request\n",
      "File \u001b[1;32mc:\\Users\\DO TUAN MINH\\AppData\\Local\\Programs\\Python\\Python312\\Lib\\site-packages\\httpx\\_transports\\default.py:218\u001b[0m, in \u001b[0;36mHTTPTransport.handle_request\u001b[1;34m(self, request)\u001b[0m\n\u001b[0;32m    205\u001b[0m req \u001b[38;5;241m=\u001b[39m httpcore\u001b[38;5;241m.\u001b[39mRequest(\n\u001b[0;32m    206\u001b[0m     method\u001b[38;5;241m=\u001b[39mrequest\u001b[38;5;241m.\u001b[39mmethod,\n\u001b[0;32m    207\u001b[0m     url\u001b[38;5;241m=\u001b[39mhttpcore\u001b[38;5;241m.\u001b[39mURL(\n\u001b[1;32m   (...)\u001b[0m\n\u001b[0;32m    215\u001b[0m     extensions\u001b[38;5;241m=\u001b[39mrequest\u001b[38;5;241m.\u001b[39mextensions,\n\u001b[0;32m    216\u001b[0m )\n\u001b[0;32m    217\u001b[0m \u001b[38;5;28;01mwith\u001b[39;00m map_httpcore_exceptions():\n\u001b[1;32m--> 218\u001b[0m     resp \u001b[38;5;241m=\u001b[39m \u001b[38;5;28;43mself\u001b[39;49m\u001b[38;5;241;43m.\u001b[39;49m\u001b[43m_pool\u001b[49m\u001b[38;5;241;43m.\u001b[39;49m\u001b[43mhandle_request\u001b[49m\u001b[43m(\u001b[49m\u001b[43mreq\u001b[49m\u001b[43m)\u001b[49m\n\u001b[0;32m    220\u001b[0m \u001b[38;5;28;01massert\u001b[39;00m \u001b[38;5;28misinstance\u001b[39m(resp\u001b[38;5;241m.\u001b[39mstream, typing\u001b[38;5;241m.\u001b[39mIterable)\n\u001b[0;32m    222\u001b[0m \u001b[38;5;28;01mreturn\u001b[39;00m Response(\n\u001b[0;32m    223\u001b[0m     status_code\u001b[38;5;241m=\u001b[39mresp\u001b[38;5;241m.\u001b[39mstatus,\n\u001b[0;32m    224\u001b[0m     headers\u001b[38;5;241m=\u001b[39mresp\u001b[38;5;241m.\u001b[39mheaders,\n\u001b[0;32m    225\u001b[0m     stream\u001b[38;5;241m=\u001b[39mResponseStream(resp\u001b[38;5;241m.\u001b[39mstream),\n\u001b[0;32m    226\u001b[0m     extensions\u001b[38;5;241m=\u001b[39mresp\u001b[38;5;241m.\u001b[39mextensions,\n\u001b[0;32m    227\u001b[0m )\n",
      "File \u001b[1;32mc:\\Users\\DO TUAN MINH\\AppData\\Local\\Programs\\Python\\Python312\\Lib\\site-packages\\httpcore\\_sync\\connection_pool.py:262\u001b[0m, in \u001b[0;36mConnectionPool.handle_request\u001b[1;34m(self, request)\u001b[0m\n\u001b[0;32m    260\u001b[0m     \u001b[38;5;28;01mwith\u001b[39;00m ShieldCancellation():\n\u001b[0;32m    261\u001b[0m         \u001b[38;5;28mself\u001b[39m\u001b[38;5;241m.\u001b[39mresponse_closed(status)\n\u001b[1;32m--> 262\u001b[0m     \u001b[38;5;28;01mraise\u001b[39;00m exc\n\u001b[0;32m    263\u001b[0m \u001b[38;5;28;01melse\u001b[39;00m:\n\u001b[0;32m    264\u001b[0m     \u001b[38;5;28;01mbreak\u001b[39;00m\n",
      "File \u001b[1;32mc:\\Users\\DO TUAN MINH\\AppData\\Local\\Programs\\Python\\Python312\\Lib\\site-packages\\httpcore\\_sync\\connection_pool.py:245\u001b[0m, in \u001b[0;36mConnectionPool.handle_request\u001b[1;34m(self, request)\u001b[0m\n\u001b[0;32m    242\u001b[0m         \u001b[38;5;28;01mraise\u001b[39;00m exc\n\u001b[0;32m    244\u001b[0m \u001b[38;5;28;01mtry\u001b[39;00m:\n\u001b[1;32m--> 245\u001b[0m     response \u001b[38;5;241m=\u001b[39m \u001b[43mconnection\u001b[49m\u001b[38;5;241;43m.\u001b[39;49m\u001b[43mhandle_request\u001b[49m\u001b[43m(\u001b[49m\u001b[43mrequest\u001b[49m\u001b[43m)\u001b[49m\n\u001b[0;32m    246\u001b[0m \u001b[38;5;28;01mexcept\u001b[39;00m ConnectionNotAvailable:\n\u001b[0;32m    247\u001b[0m     \u001b[38;5;66;03m# The ConnectionNotAvailable exception is a special case, that\u001b[39;00m\n\u001b[0;32m    248\u001b[0m     \u001b[38;5;66;03m# indicates we need to retry the request on a new connection.\u001b[39;00m\n\u001b[1;32m   (...)\u001b[0m\n\u001b[0;32m    252\u001b[0m     \u001b[38;5;66;03m# might end up as an HTTP/2 connection, but which actually ends\u001b[39;00m\n\u001b[0;32m    253\u001b[0m     \u001b[38;5;66;03m# up as HTTP/1.1.\u001b[39;00m\n\u001b[0;32m    254\u001b[0m     \u001b[38;5;28;01mwith\u001b[39;00m \u001b[38;5;28mself\u001b[39m\u001b[38;5;241m.\u001b[39m_pool_lock:\n\u001b[0;32m    255\u001b[0m         \u001b[38;5;66;03m# Maintain our position in the request queue, but reset the\u001b[39;00m\n\u001b[0;32m    256\u001b[0m         \u001b[38;5;66;03m# status so that the request becomes queued again.\u001b[39;00m\n",
      "File \u001b[1;32mc:\\Users\\DO TUAN MINH\\AppData\\Local\\Programs\\Python\\Python312\\Lib\\site-packages\\httpcore\\_sync\\connection.py:69\u001b[0m, in \u001b[0;36mHTTPConnection.handle_request\u001b[1;34m(self, request)\u001b[0m\n\u001b[0;32m     67\u001b[0m \u001b[38;5;28;01mif\u001b[39;00m \u001b[38;5;28mself\u001b[39m\u001b[38;5;241m.\u001b[39m_connection \u001b[38;5;129;01mis\u001b[39;00m \u001b[38;5;28;01mNone\u001b[39;00m:\n\u001b[0;32m     68\u001b[0m     \u001b[38;5;28;01mtry\u001b[39;00m:\n\u001b[1;32m---> 69\u001b[0m         stream \u001b[38;5;241m=\u001b[39m \u001b[38;5;28;43mself\u001b[39;49m\u001b[38;5;241;43m.\u001b[39;49m\u001b[43m_connect\u001b[49m\u001b[43m(\u001b[49m\u001b[43mrequest\u001b[49m\u001b[43m)\u001b[49m\n\u001b[0;32m     71\u001b[0m         ssl_object \u001b[38;5;241m=\u001b[39m stream\u001b[38;5;241m.\u001b[39mget_extra_info(\u001b[38;5;124m\"\u001b[39m\u001b[38;5;124mssl_object\u001b[39m\u001b[38;5;124m\"\u001b[39m)\n\u001b[0;32m     72\u001b[0m         http2_negotiated \u001b[38;5;241m=\u001b[39m (\n\u001b[0;32m     73\u001b[0m             ssl_object \u001b[38;5;129;01mis\u001b[39;00m \u001b[38;5;129;01mnot\u001b[39;00m \u001b[38;5;28;01mNone\u001b[39;00m\n\u001b[0;32m     74\u001b[0m             \u001b[38;5;129;01mand\u001b[39;00m ssl_object\u001b[38;5;241m.\u001b[39mselected_alpn_protocol() \u001b[38;5;241m==\u001b[39m \u001b[38;5;124m\"\u001b[39m\u001b[38;5;124mh2\u001b[39m\u001b[38;5;124m\"\u001b[39m\n\u001b[0;32m     75\u001b[0m         )\n",
      "File \u001b[1;32mc:\\Users\\DO TUAN MINH\\AppData\\Local\\Programs\\Python\\Python312\\Lib\\site-packages\\httpcore\\_sync\\connection.py:117\u001b[0m, in \u001b[0;36mHTTPConnection._connect\u001b[1;34m(self, request)\u001b[0m\n\u001b[0;32m    109\u001b[0m     kwargs \u001b[38;5;241m=\u001b[39m {\n\u001b[0;32m    110\u001b[0m         \u001b[38;5;124m\"\u001b[39m\u001b[38;5;124mhost\u001b[39m\u001b[38;5;124m\"\u001b[39m: \u001b[38;5;28mself\u001b[39m\u001b[38;5;241m.\u001b[39m_origin\u001b[38;5;241m.\u001b[39mhost\u001b[38;5;241m.\u001b[39mdecode(\u001b[38;5;124m\"\u001b[39m\u001b[38;5;124mascii\u001b[39m\u001b[38;5;124m\"\u001b[39m),\n\u001b[0;32m    111\u001b[0m         \u001b[38;5;124m\"\u001b[39m\u001b[38;5;124mport\u001b[39m\u001b[38;5;124m\"\u001b[39m: \u001b[38;5;28mself\u001b[39m\u001b[38;5;241m.\u001b[39m_origin\u001b[38;5;241m.\u001b[39mport,\n\u001b[1;32m   (...)\u001b[0m\n\u001b[0;32m    114\u001b[0m         \u001b[38;5;124m\"\u001b[39m\u001b[38;5;124msocket_options\u001b[39m\u001b[38;5;124m\"\u001b[39m: \u001b[38;5;28mself\u001b[39m\u001b[38;5;241m.\u001b[39m_socket_options,\n\u001b[0;32m    115\u001b[0m     }\n\u001b[0;32m    116\u001b[0m     \u001b[38;5;28;01mwith\u001b[39;00m Trace(\u001b[38;5;124m\"\u001b[39m\u001b[38;5;124mconnect_tcp\u001b[39m\u001b[38;5;124m\"\u001b[39m, logger, request, kwargs) \u001b[38;5;28;01mas\u001b[39;00m trace:\n\u001b[1;32m--> 117\u001b[0m         stream \u001b[38;5;241m=\u001b[39m \u001b[38;5;28;43mself\u001b[39;49m\u001b[38;5;241;43m.\u001b[39;49m\u001b[43m_network_backend\u001b[49m\u001b[38;5;241;43m.\u001b[39;49m\u001b[43mconnect_tcp\u001b[49m\u001b[43m(\u001b[49m\u001b[38;5;241;43m*\u001b[39;49m\u001b[38;5;241;43m*\u001b[39;49m\u001b[43mkwargs\u001b[49m\u001b[43m)\u001b[49m\n\u001b[0;32m    118\u001b[0m         trace\u001b[38;5;241m.\u001b[39mreturn_value \u001b[38;5;241m=\u001b[39m stream\n\u001b[0;32m    119\u001b[0m \u001b[38;5;28;01melse\u001b[39;00m:\n",
      "File \u001b[1;32mc:\\Users\\DO TUAN MINH\\AppData\\Local\\Programs\\Python\\Python312\\Lib\\site-packages\\httpcore\\_backends\\sync.py:100\u001b[0m, in \u001b[0;36mSyncBackend.connect_tcp\u001b[1;34m(self, host, port, timeout, local_address, socket_options)\u001b[0m\n\u001b[0;32m     94\u001b[0m exc_map: ExceptionMapping \u001b[38;5;241m=\u001b[39m {\n\u001b[0;32m     95\u001b[0m     socket\u001b[38;5;241m.\u001b[39mtimeout: ConnectTimeout,\n\u001b[0;32m     96\u001b[0m     \u001b[38;5;167;01mOSError\u001b[39;00m: ConnectError,\n\u001b[0;32m     97\u001b[0m }\n\u001b[0;32m     99\u001b[0m \u001b[38;5;28;01mwith\u001b[39;00m map_exceptions(exc_map):\n\u001b[1;32m--> 100\u001b[0m     sock \u001b[38;5;241m=\u001b[39m \u001b[43msocket\u001b[49m\u001b[38;5;241;43m.\u001b[39;49m\u001b[43mcreate_connection\u001b[49m\u001b[43m(\u001b[49m\n\u001b[0;32m    101\u001b[0m \u001b[43m        \u001b[49m\u001b[43maddress\u001b[49m\u001b[43m,\u001b[49m\n\u001b[0;32m    102\u001b[0m \u001b[43m        \u001b[49m\u001b[43mtimeout\u001b[49m\u001b[43m,\u001b[49m\n\u001b[0;32m    103\u001b[0m \u001b[43m        \u001b[49m\u001b[43msource_address\u001b[49m\u001b[38;5;241;43m=\u001b[39;49m\u001b[43msource_address\u001b[49m\u001b[43m,\u001b[49m\n\u001b[0;32m    104\u001b[0m \u001b[43m    \u001b[49m\u001b[43m)\u001b[49m\n\u001b[0;32m    105\u001b[0m     \u001b[38;5;28;01mfor\u001b[39;00m option \u001b[38;5;129;01min\u001b[39;00m socket_options:\n\u001b[0;32m    106\u001b[0m         sock\u001b[38;5;241m.\u001b[39msetsockopt(\u001b[38;5;241m*\u001b[39moption)  \u001b[38;5;66;03m# pragma: no cover\u001b[39;00m\n",
      "File \u001b[1;32mc:\\Users\\DO TUAN MINH\\AppData\\Local\\Programs\\Python\\Python312\\Lib\\socket.py:844\u001b[0m, in \u001b[0;36mcreate_connection\u001b[1;34m(address, timeout, source_address, all_errors)\u001b[0m\n\u001b[0;32m    842\u001b[0m \u001b[38;5;28;01mexcept\u001b[39;00m error \u001b[38;5;28;01mas\u001b[39;00m exc:\n\u001b[0;32m    843\u001b[0m     \u001b[38;5;28;01mif\u001b[39;00m \u001b[38;5;129;01mnot\u001b[39;00m all_errors:\n\u001b[1;32m--> 844\u001b[0m         \u001b[43mexceptions\u001b[49m\u001b[38;5;241;43m.\u001b[39;49m\u001b[43mclear\u001b[49m\u001b[43m(\u001b[49m\u001b[43m)\u001b[49m  \u001b[38;5;66;03m# raise only the last error\u001b[39;00m\n\u001b[0;32m    845\u001b[0m     exceptions\u001b[38;5;241m.\u001b[39mappend(exc)\n\u001b[0;32m    846\u001b[0m     \u001b[38;5;28;01mif\u001b[39;00m sock \u001b[38;5;129;01mis\u001b[39;00m \u001b[38;5;129;01mnot\u001b[39;00m \u001b[38;5;28;01mNone\u001b[39;00m:\n",
      "\u001b[1;31mKeyboardInterrupt\u001b[0m: "
     ]
    }
   ],
   "source": [
    "# from qdrant_client import QdrantClient\n",
    "# from qdrant_client.http.models import Distance, VectorParams\n",
    "# from tqdm import tqdm\n",
    "\n",
    "# # === CONFIGURATION ===\n",
    "# CLOUD_URL = \"https://0f47d391-b7c1-45d9-a956-5f7228cd80f3.europe-west3-0.gcp.cloud.qdrant.io:6333\"\n",
    "# CLOUD_API_KEY = api\n",
    "# COLLECTION_NAME = \"flm_fap\"\n",
    "# LOCAL_HOST = \"localhost\"\n",
    "# LOCAL_PORT = 6333\n",
    "\n",
    "# # === 1. Connect to Cloud and Local ===\n",
    "# cloud_client = QdrantClient(\n",
    "#     url=CLOUD_URL,\n",
    "#     api_key=CLOUD_API_KEY\n",
    "# )\n",
    "\n",
    "# local_client = QdrantClient(\n",
    "#     host=LOCAL_HOST,\n",
    "#     port=LOCAL_PORT\n",
    "# )\n",
    "\n",
    "# # === 2. Get schema (vector size + distance) ===\n",
    "# from qdrant_client.http.models import Distance, VectorParams\n",
    "\n",
    "# VECTOR_SIZE = 1024  # Hoặc đúng dimension bạn dùng\n",
    "# DISTANCE = Distance.COSINE  # Hoặc Distance.DOT, Distance.EUCLID\n",
    "\n",
    "# # # Tạo lại collection local\n",
    "# # local_client.recreate_collection(\n",
    "# #     collection_name=COLLECTION_NAME,\n",
    "# #     vectors_config=VectorParams(\n",
    "# #         size=VECTOR_SIZE,\n",
    "# #         distance=DISTANCE\n",
    "# #     )\n",
    "# # )\n",
    "\n",
    "\n",
    "# # === 4. Scroll all data from cloud and upsert to local ===\n",
    "# BATCH_SIZE = 256\n",
    "# offset = None\n",
    "# total = 0\n",
    "\n",
    "# print(\"[+] Copying vectors...\")\n",
    "# with tqdm() as pbar:\n",
    "#     while True:\n",
    "#         points, offset = cloud_client.scroll(\n",
    "#             collection_name=COLLECTION_NAME,\n",
    "#             limit=BATCH_SIZE,\n",
    "#             with_payload=True,\n",
    "#             with_vectors=True,\n",
    "#             offset=offset\n",
    "#         )\n",
    "#         if not points:\n",
    "#             break\n",
    "\n",
    "#         from qdrant_client.http.models import PointStruct\n",
    "\n",
    "#         converted_points = [\n",
    "#             PointStruct(id=point.id, vector=point.vector, payload=point.payload)\n",
    "#             for point in points\n",
    "#         ]\n",
    "\n",
    "#         local_client.upsert(\n",
    "#             collection_name=COLLECTION_NAME,\n",
    "#             points=converted_points\n",
    "#         )\n",
    "\n",
    "        \n",
    "#         total += len(points)\n",
    "#         pbar.update(len(points))\n",
    "\n",
    "# print(f\"[✓] Done! Copied {total} vectors to local Qdrant.\")\n"
   ]
  },
  {
   "cell_type": "code",
   "execution_count": 90,
   "id": "8c665cc0",
   "metadata": {},
   "outputs": [
    {
     "data": {
      "text/plain": [
       "CountResult(count=5852)"
      ]
     },
     "execution_count": 90,
     "metadata": {},
     "output_type": "execute_result"
    }
   ],
   "source": [
    "\n",
    "local_client.count(collection_name=\"flm_fap\", count_filter=None)\n"
   ]
  },
  {
   "cell_type": "code",
   "execution_count": 68,
   "id": "18247afb",
   "metadata": {},
   "outputs": [],
   "source": [
    "embedder = BGEEmbedder()  "
   ]
  },
  {
   "cell_type": "markdown",
   "id": "1230bfb1",
   "metadata": {},
   "source": [
    "# Demo search"
   ]
  },
  {
   "cell_type": "markdown",
   "id": "f79e1ec2",
   "metadata": {},
   "source": [
    "## Tạo subject map cho các môn học"
   ]
  },
  {
   "cell_type": "code",
   "execution_count": 69,
   "id": "1685bf4c",
   "metadata": {},
   "outputs": [
    {
     "data": {
      "application/vnd.jupyter.widget-view+json": {
       "model_id": "3a07cc021cea46b58301fbb7d86fa085",
       "version_major": 2,
       "version_minor": 0
      },
      "text/plain": [
       "Batches:   0%|          | 0/1 [00:00<?, ?it/s]"
      ]
     },
     "metadata": {},
     "output_type": "display_data"
    },
    {
     "data": {
      "application/vnd.jupyter.widget-view+json": {
       "model_id": "3abb9cd6b6c4480ba62c9b5d7f156438",
       "version_major": 2,
       "version_minor": 0
      },
      "text/plain": [
       "Batches:   0%|          | 0/1 [00:00<?, ?it/s]"
      ]
     },
     "metadata": {},
     "output_type": "display_data"
    },
    {
     "data": {
      "application/vnd.jupyter.widget-view+json": {
       "model_id": "280dc16c820d4ceab0ec5261db1eb367",
       "version_major": 2,
       "version_minor": 0
      },
      "text/plain": [
       "Batches:   0%|          | 0/1 [00:00<?, ?it/s]"
      ]
     },
     "metadata": {},
     "output_type": "display_data"
    },
    {
     "data": {
      "application/vnd.jupyter.widget-view+json": {
       "model_id": "29ca1b521f4c4a609e687ccd31aa8225",
       "version_major": 2,
       "version_minor": 0
      },
      "text/plain": [
       "Batches:   0%|          | 0/1 [00:00<?, ?it/s]"
      ]
     },
     "metadata": {},
     "output_type": "display_data"
    },
    {
     "data": {
      "application/vnd.jupyter.widget-view+json": {
       "model_id": "a3d10421f74348399fc384d351ad2986",
       "version_major": 2,
       "version_minor": 0
      },
      "text/plain": [
       "Batches:   0%|          | 0/1 [00:00<?, ?it/s]"
      ]
     },
     "metadata": {},
     "output_type": "display_data"
    },
    {
     "data": {
      "application/vnd.jupyter.widget-view+json": {
       "model_id": "4ce6b1a3011446baa921e06f3067095f",
       "version_major": 2,
       "version_minor": 0
      },
      "text/plain": [
       "Batches:   0%|          | 0/1 [00:00<?, ?it/s]"
      ]
     },
     "metadata": {},
     "output_type": "display_data"
    },
    {
     "data": {
      "application/vnd.jupyter.widget-view+json": {
       "model_id": "83da53d8485e4fb9afe6c061543c1ffc",
       "version_major": 2,
       "version_minor": 0
      },
      "text/plain": [
       "Batches:   0%|          | 0/1 [00:00<?, ?it/s]"
      ]
     },
     "metadata": {},
     "output_type": "display_data"
    },
    {
     "data": {
      "application/vnd.jupyter.widget-view+json": {
       "model_id": "9bb204f37ca7400890a8a38a282957a9",
       "version_major": 2,
       "version_minor": 0
      },
      "text/plain": [
       "Batches:   0%|          | 0/1 [00:00<?, ?it/s]"
      ]
     },
     "metadata": {},
     "output_type": "display_data"
    },
    {
     "data": {
      "application/vnd.jupyter.widget-view+json": {
       "model_id": "fd0d1fcd420247febd0615ab2dec2da5",
       "version_major": 2,
       "version_minor": 0
      },
      "text/plain": [
       "Batches:   0%|          | 0/1 [00:00<?, ?it/s]"
      ]
     },
     "metadata": {},
     "output_type": "display_data"
    },
    {
     "data": {
      "application/vnd.jupyter.widget-view+json": {
       "model_id": "c3818a2cc3404d2694180356b46b5d9e",
       "version_major": 2,
       "version_minor": 0
      },
      "text/plain": [
       "Batches:   0%|          | 0/1 [00:00<?, ?it/s]"
      ]
     },
     "metadata": {},
     "output_type": "display_data"
    },
    {
     "data": {
      "application/vnd.jupyter.widget-view+json": {
       "model_id": "8a8acfa515084463856af244bf8adb1d",
       "version_major": 2,
       "version_minor": 0
      },
      "text/plain": [
       "Batches:   0%|          | 0/1 [00:00<?, ?it/s]"
      ]
     },
     "metadata": {},
     "output_type": "display_data"
    },
    {
     "data": {
      "application/vnd.jupyter.widget-view+json": {
       "model_id": "003c587254954dc799f41b625b38533a",
       "version_major": 2,
       "version_minor": 0
      },
      "text/plain": [
       "Batches:   0%|          | 0/1 [00:00<?, ?it/s]"
      ]
     },
     "metadata": {},
     "output_type": "display_data"
    },
    {
     "data": {
      "application/vnd.jupyter.widget-view+json": {
       "model_id": "2dc99ab96ea14680b3464d6223f30897",
       "version_major": 2,
       "version_minor": 0
      },
      "text/plain": [
       "Batches:   0%|          | 0/1 [00:00<?, ?it/s]"
      ]
     },
     "metadata": {},
     "output_type": "display_data"
    },
    {
     "data": {
      "application/vnd.jupyter.widget-view+json": {
       "model_id": "581610901b78408d9d56aed67528ab49",
       "version_major": 2,
       "version_minor": 0
      },
      "text/plain": [
       "Batches:   0%|          | 0/1 [00:00<?, ?it/s]"
      ]
     },
     "metadata": {},
     "output_type": "display_data"
    },
    {
     "data": {
      "application/vnd.jupyter.widget-view+json": {
       "model_id": "379e6f85931144a8983d37bfff15d752",
       "version_major": 2,
       "version_minor": 0
      },
      "text/plain": [
       "Batches:   0%|          | 0/1 [00:00<?, ?it/s]"
      ]
     },
     "metadata": {},
     "output_type": "display_data"
    },
    {
     "data": {
      "application/vnd.jupyter.widget-view+json": {
       "model_id": "f91eea0056ab410593698631a287eaad",
       "version_major": 2,
       "version_minor": 0
      },
      "text/plain": [
       "Batches:   0%|          | 0/1 [00:00<?, ?it/s]"
      ]
     },
     "metadata": {},
     "output_type": "display_data"
    },
    {
     "data": {
      "application/vnd.jupyter.widget-view+json": {
       "model_id": "adbb44d067504b3288138928f626eaec",
       "version_major": 2,
       "version_minor": 0
      },
      "text/plain": [
       "Batches:   0%|          | 0/1 [00:00<?, ?it/s]"
      ]
     },
     "metadata": {},
     "output_type": "display_data"
    },
    {
     "data": {
      "application/vnd.jupyter.widget-view+json": {
       "model_id": "6df3aad993294e109ae40ddb7ca0891e",
       "version_major": 2,
       "version_minor": 0
      },
      "text/plain": [
       "Batches:   0%|          | 0/1 [00:00<?, ?it/s]"
      ]
     },
     "metadata": {},
     "output_type": "display_data"
    },
    {
     "data": {
      "application/vnd.jupyter.widget-view+json": {
       "model_id": "76a9986545164e04ad84ad1f990cff6e",
       "version_major": 2,
       "version_minor": 0
      },
      "text/plain": [
       "Batches:   0%|          | 0/1 [00:00<?, ?it/s]"
      ]
     },
     "metadata": {},
     "output_type": "display_data"
    },
    {
     "data": {
      "application/vnd.jupyter.widget-view+json": {
       "model_id": "a9ea0bb314cd488087ab702cc36da77d",
       "version_major": 2,
       "version_minor": 0
      },
      "text/plain": [
       "Batches:   0%|          | 0/1 [00:00<?, ?it/s]"
      ]
     },
     "metadata": {},
     "output_type": "display_data"
    },
    {
     "data": {
      "application/vnd.jupyter.widget-view+json": {
       "model_id": "b27b89a938134518b942781d5fee9a4e",
       "version_major": 2,
       "version_minor": 0
      },
      "text/plain": [
       "Batches:   0%|          | 0/1 [00:00<?, ?it/s]"
      ]
     },
     "metadata": {},
     "output_type": "display_data"
    },
    {
     "data": {
      "application/vnd.jupyter.widget-view+json": {
       "model_id": "5b472ae517ea4f3a80a2de48798e4efa",
       "version_major": 2,
       "version_minor": 0
      },
      "text/plain": [
       "Batches:   0%|          | 0/1 [00:00<?, ?it/s]"
      ]
     },
     "metadata": {},
     "output_type": "display_data"
    },
    {
     "data": {
      "application/vnd.jupyter.widget-view+json": {
       "model_id": "7e3573ff1af745d7b5b9c4a648fccd28",
       "version_major": 2,
       "version_minor": 0
      },
      "text/plain": [
       "Batches:   0%|          | 0/1 [00:00<?, ?it/s]"
      ]
     },
     "metadata": {},
     "output_type": "display_data"
    },
    {
     "data": {
      "application/vnd.jupyter.widget-view+json": {
       "model_id": "b05d294d1e064395923274e464ca796e",
       "version_major": 2,
       "version_minor": 0
      },
      "text/plain": [
       "Batches:   0%|          | 0/1 [00:00<?, ?it/s]"
      ]
     },
     "metadata": {},
     "output_type": "display_data"
    },
    {
     "data": {
      "application/vnd.jupyter.widget-view+json": {
       "model_id": "ff8b9c74951545e699c374d83c2661f7",
       "version_major": 2,
       "version_minor": 0
      },
      "text/plain": [
       "Batches:   0%|          | 0/1 [00:00<?, ?it/s]"
      ]
     },
     "metadata": {},
     "output_type": "display_data"
    },
    {
     "data": {
      "application/vnd.jupyter.widget-view+json": {
       "model_id": "ae74cdeea7ea472dbbf3678a5efe8726",
       "version_major": 2,
       "version_minor": 0
      },
      "text/plain": [
       "Batches:   0%|          | 0/1 [00:00<?, ?it/s]"
      ]
     },
     "metadata": {},
     "output_type": "display_data"
    },
    {
     "data": {
      "application/vnd.jupyter.widget-view+json": {
       "model_id": "6cafef9a815f45e1a15c8c2eae4cf3b7",
       "version_major": 2,
       "version_minor": 0
      },
      "text/plain": [
       "Batches:   0%|          | 0/1 [00:00<?, ?it/s]"
      ]
     },
     "metadata": {},
     "output_type": "display_data"
    },
    {
     "data": {
      "application/vnd.jupyter.widget-view+json": {
       "model_id": "6c4d0e33b9074d0495539b68a09af331",
       "version_major": 2,
       "version_minor": 0
      },
      "text/plain": [
       "Batches:   0%|          | 0/1 [00:00<?, ?it/s]"
      ]
     },
     "metadata": {},
     "output_type": "display_data"
    },
    {
     "data": {
      "application/vnd.jupyter.widget-view+json": {
       "model_id": "b082623898bb420d90ef94286bd64229",
       "version_major": 2,
       "version_minor": 0
      },
      "text/plain": [
       "Batches:   0%|          | 0/1 [00:00<?, ?it/s]"
      ]
     },
     "metadata": {},
     "output_type": "display_data"
    },
    {
     "data": {
      "application/vnd.jupyter.widget-view+json": {
       "model_id": "2f2cdaa92fae4e23905d445ef9986a4d",
       "version_major": 2,
       "version_minor": 0
      },
      "text/plain": [
       "Batches:   0%|          | 0/1 [00:00<?, ?it/s]"
      ]
     },
     "metadata": {},
     "output_type": "display_data"
    },
    {
     "data": {
      "application/vnd.jupyter.widget-view+json": {
       "model_id": "f501210c35f64e2d85efdb318a9313dd",
       "version_major": 2,
       "version_minor": 0
      },
      "text/plain": [
       "Batches:   0%|          | 0/1 [00:00<?, ?it/s]"
      ]
     },
     "metadata": {},
     "output_type": "display_data"
    },
    {
     "data": {
      "application/vnd.jupyter.widget-view+json": {
       "model_id": "3917dac3a6b146d5b3b84ee45baab7c8",
       "version_major": 2,
       "version_minor": 0
      },
      "text/plain": [
       "Batches:   0%|          | 0/1 [00:00<?, ?it/s]"
      ]
     },
     "metadata": {},
     "output_type": "display_data"
    },
    {
     "data": {
      "application/vnd.jupyter.widget-view+json": {
       "model_id": "c55d9fb1f6b64315bb0c0e586d296298",
       "version_major": 2,
       "version_minor": 0
      },
      "text/plain": [
       "Batches:   0%|          | 0/1 [00:00<?, ?it/s]"
      ]
     },
     "metadata": {},
     "output_type": "display_data"
    },
    {
     "data": {
      "application/vnd.jupyter.widget-view+json": {
       "model_id": "d78a4a7be5f94e58ae27d2c7d27c9dd0",
       "version_major": 2,
       "version_minor": 0
      },
      "text/plain": [
       "Batches:   0%|          | 0/1 [00:00<?, ?it/s]"
      ]
     },
     "metadata": {},
     "output_type": "display_data"
    },
    {
     "data": {
      "application/vnd.jupyter.widget-view+json": {
       "model_id": "ef3b10ad2ae94403aeda3335faa3b3b7",
       "version_major": 2,
       "version_minor": 0
      },
      "text/plain": [
       "Batches:   0%|          | 0/1 [00:00<?, ?it/s]"
      ]
     },
     "metadata": {},
     "output_type": "display_data"
    },
    {
     "data": {
      "application/vnd.jupyter.widget-view+json": {
       "model_id": "493923e998594a568d921ce7328b8655",
       "version_major": 2,
       "version_minor": 0
      },
      "text/plain": [
       "Batches:   0%|          | 0/1 [00:00<?, ?it/s]"
      ]
     },
     "metadata": {},
     "output_type": "display_data"
    },
    {
     "data": {
      "application/vnd.jupyter.widget-view+json": {
       "model_id": "9ce74a5ca13f453abcc9ea8535724cd1",
       "version_major": 2,
       "version_minor": 0
      },
      "text/plain": [
       "Batches:   0%|          | 0/1 [00:00<?, ?it/s]"
      ]
     },
     "metadata": {},
     "output_type": "display_data"
    },
    {
     "data": {
      "application/vnd.jupyter.widget-view+json": {
       "model_id": "2efad04e8f0749638243149661369994",
       "version_major": 2,
       "version_minor": 0
      },
      "text/plain": [
       "Batches:   0%|          | 0/1 [00:00<?, ?it/s]"
      ]
     },
     "metadata": {},
     "output_type": "display_data"
    },
    {
     "data": {
      "application/vnd.jupyter.widget-view+json": {
       "model_id": "253c72ee8acc4399b635ef2d7a5cb4de",
       "version_major": 2,
       "version_minor": 0
      },
      "text/plain": [
       "Batches:   0%|          | 0/1 [00:00<?, ?it/s]"
      ]
     },
     "metadata": {},
     "output_type": "display_data"
    },
    {
     "data": {
      "application/vnd.jupyter.widget-view+json": {
       "model_id": "5b361e24e9b74092b9ba3a231c900c35",
       "version_major": 2,
       "version_minor": 0
      },
      "text/plain": [
       "Batches:   0%|          | 0/1 [00:00<?, ?it/s]"
      ]
     },
     "metadata": {},
     "output_type": "display_data"
    },
    {
     "data": {
      "application/vnd.jupyter.widget-view+json": {
       "model_id": "d3cdced1091d4a908448c2fc410deabf",
       "version_major": 2,
       "version_minor": 0
      },
      "text/plain": [
       "Batches:   0%|          | 0/1 [00:00<?, ?it/s]"
      ]
     },
     "metadata": {},
     "output_type": "display_data"
    },
    {
     "data": {
      "application/vnd.jupyter.widget-view+json": {
       "model_id": "4743acc7cec24b37894da4984912adf7",
       "version_major": 2,
       "version_minor": 0
      },
      "text/plain": [
       "Batches:   0%|          | 0/1 [00:00<?, ?it/s]"
      ]
     },
     "metadata": {},
     "output_type": "display_data"
    },
    {
     "data": {
      "application/vnd.jupyter.widget-view+json": {
       "model_id": "ba89a3a9e8fe41fb879f71e4d264a4de",
       "version_major": 2,
       "version_minor": 0
      },
      "text/plain": [
       "Batches:   0%|          | 0/1 [00:00<?, ?it/s]"
      ]
     },
     "metadata": {},
     "output_type": "display_data"
    },
    {
     "data": {
      "application/vnd.jupyter.widget-view+json": {
       "model_id": "531ffaba7a0c4d078efc9efbcc00ae34",
       "version_major": 2,
       "version_minor": 0
      },
      "text/plain": [
       "Batches:   0%|          | 0/1 [00:00<?, ?it/s]"
      ]
     },
     "metadata": {},
     "output_type": "display_data"
    },
    {
     "data": {
      "application/vnd.jupyter.widget-view+json": {
       "model_id": "728a74b123a0495f9dc703da0c0616df",
       "version_major": 2,
       "version_minor": 0
      },
      "text/plain": [
       "Batches:   0%|          | 0/1 [00:00<?, ?it/s]"
      ]
     },
     "metadata": {},
     "output_type": "display_data"
    },
    {
     "data": {
      "application/vnd.jupyter.widget-view+json": {
       "model_id": "443218c7721c4721bb2d1d24bb212d41",
       "version_major": 2,
       "version_minor": 0
      },
      "text/plain": [
       "Batches:   0%|          | 0/1 [00:00<?, ?it/s]"
      ]
     },
     "metadata": {},
     "output_type": "display_data"
    },
    {
     "data": {
      "application/vnd.jupyter.widget-view+json": {
       "model_id": "f25b23e907e745bcb7ca2753f29220e8",
       "version_major": 2,
       "version_minor": 0
      },
      "text/plain": [
       "Batches:   0%|          | 0/1 [00:00<?, ?it/s]"
      ]
     },
     "metadata": {},
     "output_type": "display_data"
    },
    {
     "data": {
      "application/vnd.jupyter.widget-view+json": {
       "model_id": "4ca0aa7c64d1447a9531510c1fdb87df",
       "version_major": 2,
       "version_minor": 0
      },
      "text/plain": [
       "Batches:   0%|          | 0/1 [00:00<?, ?it/s]"
      ]
     },
     "metadata": {},
     "output_type": "display_data"
    },
    {
     "data": {
      "application/vnd.jupyter.widget-view+json": {
       "model_id": "f1f94c330b16485fae643df97edb8f99",
       "version_major": 2,
       "version_minor": 0
      },
      "text/plain": [
       "Batches:   0%|          | 0/1 [00:00<?, ?it/s]"
      ]
     },
     "metadata": {},
     "output_type": "display_data"
    },
    {
     "data": {
      "application/vnd.jupyter.widget-view+json": {
       "model_id": "4f18b97a1c1141dab004a4dc888cbc0f",
       "version_major": 2,
       "version_minor": 0
      },
      "text/plain": [
       "Batches:   0%|          | 0/1 [00:00<?, ?it/s]"
      ]
     },
     "metadata": {},
     "output_type": "display_data"
    },
    {
     "data": {
      "application/vnd.jupyter.widget-view+json": {
       "model_id": "e6301af2dfef43939186f2acb95083a3",
       "version_major": 2,
       "version_minor": 0
      },
      "text/plain": [
       "Batches:   0%|          | 0/1 [00:00<?, ?it/s]"
      ]
     },
     "metadata": {},
     "output_type": "display_data"
    },
    {
     "data": {
      "application/vnd.jupyter.widget-view+json": {
       "model_id": "d0f91410f24440b48a3e19ae6a3460cb",
       "version_major": 2,
       "version_minor": 0
      },
      "text/plain": [
       "Batches:   0%|          | 0/1 [00:00<?, ?it/s]"
      ]
     },
     "metadata": {},
     "output_type": "display_data"
    },
    {
     "data": {
      "application/vnd.jupyter.widget-view+json": {
       "model_id": "0f73be00582c46f0905a6e581ec75a2b",
       "version_major": 2,
       "version_minor": 0
      },
      "text/plain": [
       "Batches:   0%|          | 0/1 [00:00<?, ?it/s]"
      ]
     },
     "metadata": {},
     "output_type": "display_data"
    },
    {
     "data": {
      "application/vnd.jupyter.widget-view+json": {
       "model_id": "a12579d29679483eae2e95e90799424d",
       "version_major": 2,
       "version_minor": 0
      },
      "text/plain": [
       "Batches:   0%|          | 0/1 [00:00<?, ?it/s]"
      ]
     },
     "metadata": {},
     "output_type": "display_data"
    },
    {
     "data": {
      "application/vnd.jupyter.widget-view+json": {
       "model_id": "8106939dbea84027885c9ea1a37b9587",
       "version_major": 2,
       "version_minor": 0
      },
      "text/plain": [
       "Batches:   0%|          | 0/1 [00:00<?, ?it/s]"
      ]
     },
     "metadata": {},
     "output_type": "display_data"
    },
    {
     "data": {
      "application/vnd.jupyter.widget-view+json": {
       "model_id": "af80fcc2eda24ff5b11ecb50c75b9f41",
       "version_major": 2,
       "version_minor": 0
      },
      "text/plain": [
       "Batches:   0%|          | 0/1 [00:00<?, ?it/s]"
      ]
     },
     "metadata": {},
     "output_type": "display_data"
    },
    {
     "data": {
      "application/vnd.jupyter.widget-view+json": {
       "model_id": "5e09cd6274b24570a357fa289a79b63c",
       "version_major": 2,
       "version_minor": 0
      },
      "text/plain": [
       "Batches:   0%|          | 0/1 [00:00<?, ?it/s]"
      ]
     },
     "metadata": {},
     "output_type": "display_data"
    },
    {
     "data": {
      "application/vnd.jupyter.widget-view+json": {
       "model_id": "55ffa8caaeb54e2887870a891d732c30",
       "version_major": 2,
       "version_minor": 0
      },
      "text/plain": [
       "Batches:   0%|          | 0/1 [00:00<?, ?it/s]"
      ]
     },
     "metadata": {},
     "output_type": "display_data"
    },
    {
     "data": {
      "application/vnd.jupyter.widget-view+json": {
       "model_id": "b6c9e2a5364b465bab93b51820f322bd",
       "version_major": 2,
       "version_minor": 0
      },
      "text/plain": [
       "Batches:   0%|          | 0/1 [00:00<?, ?it/s]"
      ]
     },
     "metadata": {},
     "output_type": "display_data"
    },
    {
     "data": {
      "application/vnd.jupyter.widget-view+json": {
       "model_id": "860781027369426eb45e15307221237b",
       "version_major": 2,
       "version_minor": 0
      },
      "text/plain": [
       "Batches:   0%|          | 0/1 [00:00<?, ?it/s]"
      ]
     },
     "metadata": {},
     "output_type": "display_data"
    },
    {
     "data": {
      "application/vnd.jupyter.widget-view+json": {
       "model_id": "83e92f351d09402dbe897137060c4ab7",
       "version_major": 2,
       "version_minor": 0
      },
      "text/plain": [
       "Batches:   0%|          | 0/1 [00:00<?, ?it/s]"
      ]
     },
     "metadata": {},
     "output_type": "display_data"
    },
    {
     "data": {
      "application/vnd.jupyter.widget-view+json": {
       "model_id": "232e75dee66a433cb09446603b67ffc2",
       "version_major": 2,
       "version_minor": 0
      },
      "text/plain": [
       "Batches:   0%|          | 0/1 [00:00<?, ?it/s]"
      ]
     },
     "metadata": {},
     "output_type": "display_data"
    },
    {
     "data": {
      "application/vnd.jupyter.widget-view+json": {
       "model_id": "0f4dd3ccd03944a496a6deb9ba9d9f8f",
       "version_major": 2,
       "version_minor": 0
      },
      "text/plain": [
       "Batches:   0%|          | 0/1 [00:00<?, ?it/s]"
      ]
     },
     "metadata": {},
     "output_type": "display_data"
    },
    {
     "data": {
      "application/vnd.jupyter.widget-view+json": {
       "model_id": "cb64f72b371540aaac01e82312a957b2",
       "version_major": 2,
       "version_minor": 0
      },
      "text/plain": [
       "Batches:   0%|          | 0/1 [00:00<?, ?it/s]"
      ]
     },
     "metadata": {},
     "output_type": "display_data"
    },
    {
     "data": {
      "application/vnd.jupyter.widget-view+json": {
       "model_id": "1a47921b8f9949628a4c366c3a3a54f7",
       "version_major": 2,
       "version_minor": 0
      },
      "text/plain": [
       "Batches:   0%|          | 0/1 [00:00<?, ?it/s]"
      ]
     },
     "metadata": {},
     "output_type": "display_data"
    },
    {
     "data": {
      "application/vnd.jupyter.widget-view+json": {
       "model_id": "5404e5978bd743279624ff782dbd9da3",
       "version_major": 2,
       "version_minor": 0
      },
      "text/plain": [
       "Batches:   0%|          | 0/1 [00:00<?, ?it/s]"
      ]
     },
     "metadata": {},
     "output_type": "display_data"
    },
    {
     "data": {
      "application/vnd.jupyter.widget-view+json": {
       "model_id": "da577c26168645dfaa3b6e07e73a4bb0",
       "version_major": 2,
       "version_minor": 0
      },
      "text/plain": [
       "Batches:   0%|          | 0/1 [00:00<?, ?it/s]"
      ]
     },
     "metadata": {},
     "output_type": "display_data"
    },
    {
     "data": {
      "application/vnd.jupyter.widget-view+json": {
       "model_id": "ca9dad6aa1c94a16855cc6a5bfe51dc9",
       "version_major": 2,
       "version_minor": 0
      },
      "text/plain": [
       "Batches:   0%|          | 0/1 [00:00<?, ?it/s]"
      ]
     },
     "metadata": {},
     "output_type": "display_data"
    },
    {
     "data": {
      "application/vnd.jupyter.widget-view+json": {
       "model_id": "e437abdad6f844499e6f6dc37e5d5492",
       "version_major": 2,
       "version_minor": 0
      },
      "text/plain": [
       "Batches:   0%|          | 0/1 [00:00<?, ?it/s]"
      ]
     },
     "metadata": {},
     "output_type": "display_data"
    },
    {
     "data": {
      "application/vnd.jupyter.widget-view+json": {
       "model_id": "4ea954dfd7fa4760b1e523c65d868662",
       "version_major": 2,
       "version_minor": 0
      },
      "text/plain": [
       "Batches:   0%|          | 0/1 [00:00<?, ?it/s]"
      ]
     },
     "metadata": {},
     "output_type": "display_data"
    },
    {
     "data": {
      "application/vnd.jupyter.widget-view+json": {
       "model_id": "24ff192b13d840dfbd63d3691b628dd6",
       "version_major": 2,
       "version_minor": 0
      },
      "text/plain": [
       "Batches:   0%|          | 0/1 [00:00<?, ?it/s]"
      ]
     },
     "metadata": {},
     "output_type": "display_data"
    },
    {
     "data": {
      "application/vnd.jupyter.widget-view+json": {
       "model_id": "5b8c9b8569ba48db954739b69369b9b6",
       "version_major": 2,
       "version_minor": 0
      },
      "text/plain": [
       "Batches:   0%|          | 0/1 [00:00<?, ?it/s]"
      ]
     },
     "metadata": {},
     "output_type": "display_data"
    },
    {
     "data": {
      "application/vnd.jupyter.widget-view+json": {
       "model_id": "58a5be64e0434b7e8c818b8a51a54c66",
       "version_major": 2,
       "version_minor": 0
      },
      "text/plain": [
       "Batches:   0%|          | 0/1 [00:00<?, ?it/s]"
      ]
     },
     "metadata": {},
     "output_type": "display_data"
    }
   ],
   "source": [
    "import pandas as pd\n",
    "df_flm=pd.read_csv(r'D:\\Learn\\Kì 5\\SEG301\\Fap-Chat\\data\\DATA cố định\\FLM\\FINAL\\FINAL_DF_FLM.csv')\n",
    "subject_map = {\n",
    "    row[\"SubjectCode\"]: f\"{row[\"SubjectCode\"]} - {row[\"Subject Name\"]}\"\n",
    "    for _, row in df_flm[[\"SubjectCode\", \"Subject Name\"]].dropna().drop_duplicates().iterrows()\n",
    "}\n",
    "subject_embeddings = {\n",
    "    code: embedder.embed([name])[0]\n",
    "    for code, name in subject_map.items()\n",
    "}\n"
   ]
  },
  {
   "cell_type": "code",
   "execution_count": 7,
   "id": "c2067779",
   "metadata": {},
   "outputs": [],
   "source": [
    "# Xoá trong subject_map\n",
    "subject_map = {\n",
    "    k: v for k, v in subject_map.items()\n",
    "    if not k.startswith(\"PHE_COM\")\n",
    "}\n",
    "\n",
    "# Xoá trong embeddings\n",
    "subject_embeddings = {\n",
    "    k: v for k, v in subject_embeddings.items()\n",
    "    if not k.startswith(\"PHE_COM\")\n",
    "}\n"
   ]
  },
  {
   "cell_type": "markdown",
   "id": "210b3ab9",
   "metadata": {},
   "source": [
    "## Đây là hàm để chọn ra top các môn học liên quan dựa vào việc so sánh querry với các subject map mới tạo ở trên\n",
    "\n",
    "ae thấy có cái top_k là top các môn học nên trả ra"
   ]
  },
  {
   "cell_type": "code",
   "execution_count": 71,
   "id": "52d57fa4",
   "metadata": {},
   "outputs": [],
   "source": [
    "from numpy import dot\n",
    "from numpy.linalg import norm\n",
    "import heapq\n",
    "\n",
    "\n",
    "def detect_subject(query, top_k=2, threshold=0.75):\n",
    "    query_vec = embedder.embed([query])[0]\n",
    "    \n",
    "    sims = {\n",
    "        code: dot(query_vec, emb) / (norm(query_vec) * norm(emb))\n",
    "        for code, emb in subject_embeddings.items()\n",
    "    }\n",
    "\n",
    "    top_subjects = heapq.nlargest(top_k, sims.items(), key=lambda x: x[1])\n",
    "\n",
    "    # Chỉ giữ lại những cái vượt ngưỡng\n",
    "    top_subjects = [(code, score) for code, score in top_subjects if score >= threshold]\n",
    "\n",
    "    # Nếu không có gì đạt ngưỡng → trả về danh sách rỗng\n",
    "    return top_subjects\n",
    "\n"
   ]
  },
  {
   "cell_type": "markdown",
   "id": "ef5f9575",
   "metadata": {},
   "source": [
    "## Hàm dịch"
   ]
  },
  {
   "cell_type": "code",
   "execution_count": 95,
   "id": "dc1ad8dd",
   "metadata": {},
   "outputs": [],
   "source": [
    "from deep_translator import GoogleTranslator\n",
    "from transformers import AutoTokenizer, AutoModelForSeq2SeqLM, pipeline\n",
    "\n",
    "model_id = \"facebook/nllb-200-distilled-600M\"\n",
    "tokenizer = AutoTokenizer.from_pretrained(model_id)\n",
    "model = AutoModelForSeq2SeqLM.from_pretrained(model_id)\n",
    "\n",
    "  # => \"I am learning natural language processing.\"\n",
    "\n",
    "# def translate_vi_to_en_google(text):\n",
    "#     return GoogleTranslator(source='auto', target='en').translate(text)\n",
    "def translate_vi_to_en_google(text):\n",
    "    translator = pipeline(\"translation\", model=model, tokenizer=tokenizer, src_lang=\"vie\", tgt_lang=\"eng_Latn\")\n",
    "\n",
    "    output = translator(text)\n",
    "    \n",
    "    return output[0]['translation_text']"
   ]
  },
  {
   "cell_type": "markdown",
   "id": "ef7ba2fd",
   "metadata": {},
   "source": [
    "## Type_map đây ae"
   ]
  },
  {
   "cell_type": "code",
   "execution_count": 137,
   "id": "f354e452",
   "metadata": {},
   "outputs": [
    {
     "data": {
      "application/vnd.jupyter.widget-view+json": {
       "model_id": "c7f843980ea3429cba1a46d38d7c9a7c",
       "version_major": 2,
       "version_minor": 0
      },
      "text/plain": [
       "Batches:   0%|          | 0/1 [00:00<?, ?it/s]"
      ]
     },
     "metadata": {},
     "output_type": "display_data"
    },
    {
     "data": {
      "application/vnd.jupyter.widget-view+json": {
       "model_id": "5fe1bad5a2c84992a1b7b9795c777427",
       "version_major": 2,
       "version_minor": 0
      },
      "text/plain": [
       "Batches:   0%|          | 0/1 [00:00<?, ?it/s]"
      ]
     },
     "metadata": {},
     "output_type": "display_data"
    },
    {
     "data": {
      "application/vnd.jupyter.widget-view+json": {
       "model_id": "5323f3ead3ef46218d8a6435dc79f610",
       "version_major": 2,
       "version_minor": 0
      },
      "text/plain": [
       "Batches:   0%|          | 0/1 [00:00<?, ?it/s]"
      ]
     },
     "metadata": {},
     "output_type": "display_data"
    },
    {
     "data": {
      "application/vnd.jupyter.widget-view+json": {
       "model_id": "46c6651644a1463ab0d56e3fedc56010",
       "version_major": 2,
       "version_minor": 0
      },
      "text/plain": [
       "Batches:   0%|          | 0/1 [00:00<?, ?it/s]"
      ]
     },
     "metadata": {},
     "output_type": "display_data"
    },
    {
     "data": {
      "application/vnd.jupyter.widget-view+json": {
       "model_id": "fb51e06165804587a77e6d5fd0ca9cd5",
       "version_major": 2,
       "version_minor": 0
      },
      "text/plain": [
       "Batches:   0%|          | 0/1 [00:00<?, ?it/s]"
      ]
     },
     "metadata": {},
     "output_type": "display_data"
    },
    {
     "data": {
      "application/vnd.jupyter.widget-view+json": {
       "model_id": "96fb33dbdf5b48d6b472affc6e031fd7",
       "version_major": 2,
       "version_minor": 0
      },
      "text/plain": [
       "Batches:   0%|          | 0/1 [00:00<?, ?it/s]"
      ]
     },
     "metadata": {},
     "output_type": "display_data"
    },
    {
     "data": {
      "application/vnd.jupyter.widget-view+json": {
       "model_id": "2cb54d03587d4786a0064f358afc26ec",
       "version_major": 2,
       "version_minor": 0
      },
      "text/plain": [
       "Batches:   0%|          | 0/1 [00:00<?, ?it/s]"
      ]
     },
     "metadata": {},
     "output_type": "display_data"
    }
   ],
   "source": [
    "TYPE_DESCRIPTIONS = {\n",
    "    \"overview\": \"general overview of the subject, goals, credits, syllabus, semester, prerequisite, Any subject\",\n",
    "    \"construtive_question\": \"thought-provoking questions\",\n",
    "    \"assessment\": \"evaluations, types of tests, exams, and grading weights for the subject\",\n",
    "    \"session\": \"lecture sessions, lessons, topics covered in each week or session\",\n",
    "    \"material\": \"recommended textbooks, reference materials, slides, or other learning resources\",\n",
    "    \"learning outcome\": \"learning outcome, expected knowledge, skills, or competencies students should achieve after completing the course\",\n",
    "    \"student_list\": \"list of students enrolled in the course, including name, student ID, and email\"\n",
    "}\n",
    "\n",
    "TYPE_KEYWORDS = {\n",
    "    \"overview\": [\"overview\", \"objective\", \"goal\", \"credits\", \"semester\", \"pre-requisite\", \"syllabus\", \"any\"],\n",
    "    \"construtive_question\": [\"why\", \"how\", \"what if\", \"critical\", \"discussion\", \"reflect\", \"ethical\"],\n",
    "    \"assessment\": [\"exam\", \"test\", \"quiz\", \"grading\", \"project\", \"evaluation\", \"score\"],\n",
    "    \"session\": [\"week\", \"lesson\", \"lecture\", \"topic\", \"schedule\", \"session\", \"class\"],\n",
    "    \"material\": [\"textbook\", \"slide\", \"document\", \"reading\", \"reference\", \"material\", \"resource\"],\n",
    "    \"learning outcome\": [\"learn\", \"outcome\", \"skill\", \"competency\", \"ability\", \"achieve\", \"knowledge\"],\n",
    "    \"student_list\": [\"student\", \"name\", \"id\", \"mssv\", \"email\", \"class list\", \"enrolled\", \"danh sách sinh viên\"]\n",
    "}\n",
    "type_embeddings = {\n",
    "    t: embedder.embed([desc])[0] for t, desc in TYPE_DESCRIPTIONS.items()\n",
    "}"
   ]
  },
  {
   "cell_type": "markdown",
   "id": "0d879d91",
   "metadata": {},
   "source": [
    "## Hàm chạy chính"
   ]
  },
  {
   "cell_type": "code",
   "execution_count": 130,
   "id": "3abb35d4",
   "metadata": {},
   "outputs": [
    {
     "name": "stdout",
     "output_type": "stream",
     "text": [
      "I/--------------Querry sau khi dịch:---------------\n",
      "Any subject related to image processing.\n",
      "II/--------------Xác định chủ đề của querry---------------\n"
     ]
    },
    {
     "data": {
      "application/vnd.jupyter.widget-view+json": {
       "model_id": "929d3d74544c4bd08133f6696109ba9d",
       "version_major": 2,
       "version_minor": 0
      },
      "text/plain": [
       "Batches:   0%|          | 0/1 [00:00<?, ?it/s]"
      ]
     },
     "metadata": {},
     "output_type": "display_data"
    },
    {
     "name": "stdout",
     "output_type": "stream",
     "text": [
      "Similarity scores: {'overview': 0.64287305, 'construtive_question': 0.6045393, 'assessment': 0.6490637, 'session': 0.6439435, 'material': 0.6581179, 'learning outcome': 0.5622215, 'student_list': 0.5417621}\n",
      "Keyword scores: {'overview': 1, 'construtive_question': 0, 'assessment': 0, 'session': 0, 'material': 0, 'learning outcome': 0, 'student_list': 0}\n",
      "Final combined scores: {'overview': 0.7142984390258789, 'construtive_question': 0.4836314201354981, 'assessment': 0.5192509651184082, 'session': 0.515154790878296, 'material': 0.526494312286377, 'learning outcome': 0.44977722167968753, 'student_list': 0.4334096908569336}\n",
      "III/--------------Xác định môn học của querry (nếu có)---------------\n"
     ]
    },
    {
     "data": {
      "application/vnd.jupyter.widget-view+json": {
       "model_id": "b01b4feb558948e0b8b88161ad2990a9",
       "version_major": 2,
       "version_minor": 0
      },
      "text/plain": [
       "Batches:   0%|          | 0/1 [00:00<?, ?it/s]"
      ]
     },
     "metadata": {},
     "output_type": "display_data"
    },
    {
     "data": {
      "application/vnd.jupyter.widget-view+json": {
       "model_id": "6ba7a1d5985e4e9c9390b5b594547bf5",
       "version_major": 2,
       "version_minor": 0
      },
      "text/plain": [
       "Batches:   0%|          | 0/1 [00:00<?, ?it/s]"
      ]
     },
     "metadata": {},
     "output_type": "display_data"
    },
    {
     "name": "stdout",
     "output_type": "stream",
     "text": [
      "Loại detect được là:\n",
      "overview\n",
      "\n",
      "⭐ Top 1\n",
      "🔍 Score: 0.5514\n",
      "📘 Subject: CPV301 - overview\n",
      "📄 Content:\n",
      "TYPE: overview\n",
      "Subject Code: CPV301\n",
      "Subject Name: Computer Vision_Thị giác máy tính\n",
      "Degree Level: Bachelor | Credits: 3 | Semester: 4\n",
      "Pre-requisites: PFP 191, CSD 203\n",
      "Scoring Scale: 10.0 | Min Avg Mark to Pass: 5.0\n",
      "Approved: True on 11/24/2022\n",
      "Subject Link: https://flm.fpt.edu.vn/gui/role/student/Syllabuses.aspx?sub Code=CPV 301&curriculum ID=2347\n",
      "\n",
      "--- TIME ALLOCATION ---\n",
      "45 h (60 sessions) contact hours + 1 h final exam + 104 h self-study\n",
      "---TIME ALLOCATION END ---\n",
      "\n",
      "Note:\n",
      "- None\n",
      "\n",
      "--------\n",
      "\n",
      "⭐ Top 2\n",
      "🔍 Score: 0.5427\n",
      "📘 Subject: NLP301c - overview\n",
      "📄 Content:\n",
      "TYPE: overview\n",
      "Subject Code: NLP301c\n",
      "Subject Name: Natural Language Processing_Xử lý ngôn ngữ tự nhiên\n",
      "Degree Level: Bachelor | Credits: 3 | Semester: 6\n",
      "Pre-requisites: AIL 30 x and (PRP 201 c or PFP 191)\n",
      "Scoring Scale: 10.0 | Min Avg Mark to Pass: 5.0\n",
      "Approved: True on 4/9/2025\n",
      "Subject Link: https://flm.fpt.edu.vn/gui/role/student/Syllabuses.aspx?sub Code=NLP 301 c&curriculum ID=2347\n",
      "\n",
      "--- TIME ALLOCATION ---\n",
      "Study hour (150 h) = 121 h online + 3 h offline + 1 h TE + 2 h PE + 23 h self-study\n",
      "---TIME ALLOCATION END ---\n",
      "\n",
      "Note:\n",
      "- 1. Complete the online course to be allowed to take Final Exam 2. Final Exam is included of Final Theory Exam (TE) & Final Practical Exam (PE): 100%3. Students who complete all MOOCs before the course deadline will receive 1 bonus point; otherwise, no bonus point will be awarded.4. Completion Criteria: Final TE Score >=4 & Final PE Score >=4 & FR >= 5(FR = min(10, (Final TE Score + Final PE Score)/2 + bonus)\n",
      "\n",
      "--------\n",
      "\n",
      "⭐ Top 3\n",
      "🔍 Score: 0.5368\n",
      "📘 Subject: DBM302m - overview\n",
      "📄 Content:\n",
      "TYPE: overview\n",
      "Subject Code: DBM302m\n",
      "Subject Name: Data Mining_Khai phá dữ liệu\n",
      "Degree Level: Bachelor | Credits: 3 | Semester: 7\n",
      "Pre-requisites: None\n",
      "Scoring Scale: 10.0 | Min Avg Mark to Pass: 5.0\n",
      "Approved: True on 4/3/2024\n",
      "Subject Link: https://flm.fpt.edu.vn/gui/role/student/Syllabus Details.aspx?sylid=11218\n",
      "\n",
      "--- TIME ALLOCATION ---\n",
      "45 h (60 sessions) contact hours + 1 h final exam + 104 h self-study;\n",
      "---TIME ALLOCATION END ---\n",
      "\n",
      "Note:\n",
      "- Assignment: plus 0.5 to 1 points for completed Coursera certification, Final Result <=10\n",
      "\n",
      "--------\n",
      "\n",
      "⭐ Top 4\n",
      "🔍 Score: 0.5339\n",
      "📘 Subject: CSD203 - overview\n",
      "📄 Content:\n",
      "TYPE: overview\n",
      "Subject Code: CSD203\n",
      "Subject Name: Data Structures and Algorithm with Python_Cấu trúc dữ liệu và giải thuật với Python\n",
      "Degree Level: Bachelor | Credits: 3 | Semester: 2\n",
      "Pre-requisites: PFP 191 (Programming Fundamentals with Python_Cơ sở lập trình với Python)\n",
      "Scoring Scale: 10.0 | Min Avg Mark to Pass: 5.0\n",
      "Approved: True on 4/3/2024\n",
      "Subject Link: https://flm.fpt.edu.vn/gui/role/student/Syllabuses.aspx?sub Code=CSD 203&curriculum ID=2347\n",
      "\n",
      "--- TIME ALLOCATION ---\n",
      "45 h (60 sessions) contact hours + 1 h TE + 1 h PE + 103 h self-study\n",
      "---TIME ALLOCATION END ---\n",
      "\n",
      "Note:\n",
      "- None\n",
      "\n",
      "--------\n",
      "\n",
      "⭐ Top 5\n",
      "🔍 Score: 0.5323\n",
      "📘 Subject: CSI106 - overview\n",
      "📄 Content:\n",
      "TYPE: overview\n",
      "Subject Code: CSI106\n",
      "Subject Name: Introduction to Computer Science_Nhập môn khoa học máy tính\n",
      "Degree Level: Bachelor | Credits: 3 | Semester: 1\n",
      "Pre-requisites: None\n",
      "Scoring Scale: 10.0 | Min Avg Mark to Pass: 5.0\n",
      "Approved: True on 7/29/2024\n",
      "Subject Link: https://flm.fpt.edu.vn/gui/role/student/Syllabuses.aspx?sub Code=CSI 106&curriculum ID=2347\n",
      "\n",
      "--- TIME ALLOCATION ---\n",
      "Study hour (150 h) = 45 h contact hours + 5 h online + 1 h final exam + 99 h self-study\n",
      "---TIME ALLOCATION END ---\n",
      "\n",
      "Note:\n",
      "- None\n",
      "\n",
      "--------\n",
      "\n",
      "⭐ Top 6\n",
      "🔍 Score: 0.5301\n",
      "📘 Subject: ENW493c - overview\n",
      "📄 Content:\n",
      "TYPE: overview\n",
      "Subject Code: ENW493c\n",
      "Subject Name: Research Methods & Academic Writing Skills_Phương pháp nghiên cứu & Kỹ năng viết học thuật\n",
      "Degree Level: Bachelor | Credits: 3 | Semester: 7\n",
      "Pre-requisites: None\n",
      "Scoring Scale: 10.0 | Min Avg Mark to Pass: 5.0\n",
      "Approved: True on 4/9/2025\n",
      "Subject Link: https://flm.fpt.edu.vn/gui/role/student/Syllabuses.aspx?sub Code=ENW 493 c&curriculum ID=2347\n",
      "\n",
      "--- TIME ALLOCATION ---\n",
      "Study hour (150 h) = 58 h online + 3 h offline + 100' PE + 87.3 h self-study\n",
      "---TIME ALLOCATION END ---\n",
      "\n",
      "Note:\n",
      "- 1. Complete the online courses and get certifications to be allowed to take Final Exam 2. Final Exam included Practical Exam (PE): 100%3. Students who complete all MOOCs before the course deadline will receive 1 bonus point; otherwise, no bonus point will be awarded.4. Completion Criteria: Final PE Score >=4 & (Final PE Score + bonus) >= 5\n",
      "\n",
      "--------\n",
      "\n",
      "⭐ Top 7\n",
      "🔍 Score: 0.5285\n",
      "📘 Subject: PEN - overview\n",
      "📄 Content:\n",
      "TYPE: overview\n",
      "Subject Code: PEN\n",
      "Subject Name: Preparation English_Tiếng Anh chuẩn bị\n",
      "Degree Level: N/A | Credits: 0 | Semester: 0\n",
      "Pre-requisites: None\n",
      "Scoring Scale: N/A | Min Avg Mark to Pass: N/A\n",
      "Approved: False on N/A\n",
      "Subject Link: https://flm.fpt.edu.vn/gui/role/student/Syllabuses.aspx?sub Code=PEN&curriculum ID=2347\n",
      "\n",
      "--- TIME ALLOCATION ---\n",
      "N/A\n",
      "---TIME ALLOCATION END ---\n",
      "\n",
      "Note:\n",
      "- None\n",
      "\n",
      "--------\n",
      "\n",
      "⭐ Top 8\n",
      "🔍 Score: 0.5257\n",
      "📘 Subject: DSR301m - overview\n",
      "📄 Content:\n",
      "TYPE: overview\n",
      "Subject Code: DSR301m\n",
      "Subject Name: Applied Data Science with R - Khoa học dữ liệu ứng dụng với R\n",
      "Degree Level: Bachelor | Credits: 3 | Semester: 5\n",
      "Pre-requisites: None\n",
      "Scoring Scale: 10.0 | Min Avg Mark to Pass: 5.0\n",
      "Approved: True on 4/3/2024\n",
      "Subject Link: https://flm.fpt.edu.vn/gui/role/student/Syllabus Details.aspx?sylid=11217\n",
      "\n",
      "--- TIME ALLOCATION ---\n",
      "Study hour (150 h) =45 h (60 sessions) contact hours + 1 h final exam + 104 h self-study\n",
      "---TIME ALLOCATION END ---\n",
      "\n",
      "Note:\n",
      "- Assignment: plus 0.5 to 1 points for completed IBM certification\n",
      "\n",
      "--------\n",
      "\n",
      "⭐ Top 9\n",
      "🔍 Score: 0.5240\n",
      "📘 Subject: SWE201c - overview\n",
      "📄 Content:\n",
      "TYPE: overview\n",
      "Subject Code: SWE201c\n",
      "Subject Name: Introduction to Software Engineering_Nhập môn kĩ thuật phần mềm\n",
      "Degree Level: Bachelor | Credits: 3 | Semester: 4\n",
      "Pre-requisites: PRO 192 (not applied to the BIT_AI 17 and BA programs)\n",
      "Scoring Scale: 10.0 | Min Avg Mark to Pass: 5.0\n",
      "Approved: True on 4/9/2025\n",
      "Subject Link: https://flm.fpt.edu.vn/gui/role/student/Syllabuses.aspx?sub Code=SWE 201 c&curriculum ID=2347\n",
      "\n",
      "--- TIME ALLOCATION ---\n",
      "Study hour (150 h) = 62 h online + 3 h offline + 1 h TE + 2 h PE + 82 h self-study\n",
      "---TIME ALLOCATION END ---\n",
      "\n",
      "Note:\n",
      "- 1. Complete the online course to be allowed to take Final Exam 2. Final Exam is included of Final Theory Exam (TE) & Final Practical Exam (PE): 100%3. Students who complete all MOOCs before the course deadline will receive 1 bonus point; otherwise, no bonus point will be awarded.4. Completion Criteria: Final TE Score >=4 & Final PE Score >=4 & FR >= 5(FR = min(10, (Final TE Score + Final PE Score)/2 + bonus)\n",
      "\n",
      "--------\n",
      "\n",
      "⭐ Top 10\n",
      "🔍 Score: 0.5226\n",
      "📘 Subject: REL301m - overview\n",
      "📄 Content:\n",
      "TYPE: overview\n",
      "Subject Code: REL301m\n",
      "Subject Name: Reinforcement Learning_Học tăng cường\n",
      "Degree Level: Bachelor | Credits: 3 | Semester: 8\n",
      "Pre-requisites: AIL 303 m, DPL 302 m\n",
      "Scoring Scale: 10.0 | Min Avg Mark to Pass: 5.0\n",
      "Approved: True on 4/3/2024\n",
      "Subject Link: https://flm.fpt.edu.vn/gui/role/student/Syllabuses.aspx?sub Code=REL 301 m&curriculum ID=2347\n",
      "\n",
      "--- TIME ALLOCATION ---\n",
      "45 h (60 sessions) contact hours + 1 h final exam + 104 h self-study;\n",
      "---TIME ALLOCATION END ---\n",
      "\n",
      "Note:\n",
      "- None\n",
      "\n",
      "--------\n"
     ]
    }
   ],
   "source": [
    "from numpy import dot\n",
    "from numpy.linalg import norm\n",
    "from collections import defaultdict\n",
    "import re\n",
    "# from rank_bm25 import BM25Okapi\n",
    "\n",
    "# # Tokenize mô tả\n",
    "# type_docs = [desc.lower().split() for desc in TYPE_DESCRIPTIONS.values()]\n",
    "# bm25 = BM25Okapi(type_docs)\n",
    "# type_list = list(TYPE_DESCRIPTIONS.keys())\n",
    "\n",
    "\n",
    "\n",
    "# # --- Step 0: Optional Translate Query (nếu cần)\n",
    "# query = \"tổng quan môn search engine\"\n",
    "\n",
    "# # Nếu có hàm dịch: query_en = translate_vi_to_en_nllb(query)\n",
    "# query_en = query  # nếu bạn không cần dịch hoặc đã là tiếng Anh\n",
    "\n",
    "# --- Step 1: Detect type bằng embedding\n",
    "# def detect_type_by_embedding(query_en):\n",
    "#     query_vec = embedder.embed([query_en])[0]\n",
    "#     sims = {\n",
    "#         t: dot(query_vec, vec) / (norm(query_vec) * norm(vec))\n",
    "#         for t, vec in type_embeddings.items()\n",
    "#     }\n",
    "#     print(sims)\n",
    "#     best_type = max(sims, key=sims.get)\n",
    "\n",
    "#     return best_type \n",
    "def detect_type_by_embedding(query_en, alpha=0.8, beta=0.2):\n",
    "    query_vec = embedder.embed([query_en])[0]\n",
    "    \n",
    "    # 1. Embedding similarity\n",
    "    sims = {\n",
    "        t: dot(query_vec, vec) / (norm(query_vec) * norm(vec))\n",
    "        for t, vec in type_embeddings.items()\n",
    "    }\n",
    "\n",
    "    # 2. Keyword score\n",
    "    keyword_scores = defaultdict(int)\n",
    "    query_lower = query_en.lower()\n",
    "    for t, keywords in TYPE_KEYWORDS.items():\n",
    "        for kw in keywords:\n",
    "            if re.search(rf\"\\b{re.escape(kw)}\\b\", query_lower):\n",
    "                keyword_scores[t] += 1\n",
    "\n",
    "    # 3. Normalize keyword scores\n",
    "    max_kw = max(keyword_scores.values(), default=1)\n",
    "    keyword_scores_norm = {\n",
    "        t: keyword_scores[t] / max_kw if max_kw > 0 else 0\n",
    "        for t in type_embeddings\n",
    "    }\n",
    "\n",
    "    # 4. Combine scores\n",
    "    final_scores = {\n",
    "        t: alpha * sims.get(t, 0) + beta * keyword_scores_norm.get(t, 0)\n",
    "        for t in type_embeddings\n",
    "    }\n",
    "\n",
    "    print(\"Similarity scores:\", sims)\n",
    "    print(\"Keyword scores:\", dict(keyword_scores))\n",
    "    print(\"Final combined scores:\", final_scores)\n",
    "\n",
    "    best_type = max(final_scores, key=final_scores.get)\n",
    "    return best_type\n",
    "# def detect_type_by_embedding(query_en, alpha=0.8, beta=0.2):\n",
    "#     # 1. Embedding similarity\n",
    "#     query_vec = embedder.embed([query_en])[0]\n",
    "#     sims = {\n",
    "#         t: dot(query_vec, vec) / (norm(query_vec) * norm(vec))\n",
    "#         for t, vec in type_embeddings.items()\n",
    "#     }\n",
    "\n",
    "#     # 2. BM25 keyword-based score\n",
    "#     query_tokens = query_en.lower().split()\n",
    "#     bm25_scores = bm25.get_scores(query_tokens)\n",
    "#     max_bm25 = max(bm25_scores) if max(bm25_scores) > 0 else 1\n",
    "#     bm25_scores_norm = {type_list[i]: bm25_scores[i] / max_bm25 for i in range(len(type_list))}\n",
    "\n",
    "#     # 3. Kết hợp\n",
    "#     final_scores = {\n",
    "#         t: alpha * sims.get(t, 0) + beta * bm25_scores_norm.get(t, 0)\n",
    "#         for t in type_list\n",
    "#     }\n",
    "\n",
    "#     print(\"Cosine scores:\", sims)\n",
    "#     print(\"BM25 scores:\", bm25_scores_norm)\n",
    "#     print(\"Combined scores:\", final_scores)\n",
    "\n",
    "#     best_type = max(final_scores, key=final_scores.get)\n",
    "#     return best_type\n",
    "\n",
    "# query_type = detect_type_by_embedding(query_en)\n",
    "\n",
    "\n",
    "query = \"môn nào liên quan tới xử lí hình ảnh\"\n",
    "# query_en = query  # hoặc dùng translate nếu cần\n",
    "query_en = translate_vi_to_en_google(query)\n",
    "print('I/--------------Querry sau khi dịch:---------------')\n",
    "print(query_en)\n",
    "\n",
    "print('II/--------------Xác định chủ đề của querry---------------')\n",
    "detected_type = detect_type_by_embedding(query_en)\n",
    "print('III/--------------Xác định môn học của querry (nếu có)---------------')\n",
    "detected_subject = detect_subject(query_en)\n",
    "\n",
    "query_vec = embedder.embed([query])[0]\n",
    "\n",
    "\n",
    "# query_filter = {\"must\": []}\n",
    "# if detected_type:\n",
    "#     query_filter[\"must\"].append({\"key\": \"type\", \"match\": {\"value\": detected_type}})\n",
    "# if detected_subject:\n",
    "#     query_filter[\"must\"].append({\"key\": \"subject_code\", \"match\": {\"value\": detected_subject}})\n",
    "\n",
    "query_filter = {\"should\": [], \"must\":[]}\n",
    "if detected_type:\n",
    "    print(\"Loại detect được là:\")\n",
    "    print(detected_type)\n",
    "    query_filter[\"must\"].append({\"key\": \"type\", \"match\": {\"value\": detected_type}})\n",
    "if detected_subject:\n",
    "    for subject_code in detected_subject:\n",
    "        print(subject_code[0])\n",
    "        query_filter[\"should\"].append({\n",
    "            \"key\": \"subject_code\",\n",
    "            \"match\": {\"value\": subject_code[0]}\n",
    "        })\n",
    "\n",
    "hits = client.search(\n",
    "    collection_name=\"flm_fap\",\n",
    "    query_vector=query_vec.tolist(),\n",
    "    limit=10,\n",
    "    query_filter=query_filter if query_filter[\"must\"] or query_filter[\"should\"] else None\n",
    ")\n",
    "\n",
    "\n",
    "# --- Step 4: Hiển thị kết quả\n",
    "for i, hit in enumerate(hits, 1):  # bắt đầu từ 1\n",
    "    print(f\"\\n⭐ Top {i}\")\n",
    "    print(f\"🔍 Score: {hit.score:.4f}\")\n",
    "    print(f\"📘 Subject: {hit.payload.get('subject_code')} - {hit.payload.get('type')}\")\n",
    "    print(f\"📄 Content:\\n{hit.payload.get('content')}\")\n",
    "    print(\"--------\")\n"
   ]
  },
  {
   "cell_type": "code",
   "execution_count": null,
   "id": "7eda7413",
   "metadata": {},
   "outputs": [],
   "source": [
    "# --- CÁC IMPORT CẦN THIẾT ---\n",
    "from numpy import dot\n",
    "from numpy.linalg import norm\n",
    "from collections import defaultdict\n",
    "import re\n",
    "import requests\n",
    "import json\n",
    "import time\n",
    "\n",
    "# --- HÀM TỔNG HỢP VÀ TÓM TẮT BẰNG GEMINI ---\n",
    "def summarize_with_gemini_combined(contents: list, query: str, api_key: str, model: str = \"models/gemini-2.0-flash\") -> str:\n",
    "    \"\"\"\n",
    "    Tổng hợp và tóm tắt danh sách nội dung thành một câu trả lời ngắn gọn, chính xác cho query.\n",
    "    \"\"\"\n",
    "    url = f\"https://generativelanguage.googleapis.com/v1beta/{model}:generateContent?key={api_key}\"\n",
    "    headers = {\"Content-Type\": \"application/json\"}\n",
    "    \n",
    "    # Gộp tất cả nội dung từ các hits thành một chuỗi\n",
    "    combined_content = \"\\n\\n\".join([content for content in contents])\n",
    "    \n",
    "    prompt = f\"\"\"\n",
    "    Bạn là một trợ lý AI về trường đại học FPT. Hãy đọc và phân tích danh sách nội dung sau, sau đó đưa ra một câu trả lời đầy đủ bằng tiếng Việt để trả lời chính xác câu hỏi: \"{query}\".\n",
    "    \n",
    "    NỘI DUNG:\n",
    "    ---\n",
    "    {combined_content}\n",
    "    ---\n",
    "\n",
    "    CÂU TRẢ LỜI: Bắt đầu câu trả lời đừng có Dựa vào thông tin cung cấp\n",
    "    \"\"\"\n",
    "    \n",
    "    data = {\"contents\": [{\"parts\": [{\"text\": prompt}]}]}\n",
    "    \n",
    "    try:\n",
    "        response = requests.post(url, headers=headers, json=data)\n",
    "        response.raise_for_status()\n",
    "        result = response.json()\n",
    "        summary = result[\"candidates\"][0][\"content\"][\"parts\"][0][\"text\"]\n",
    "        return summary.strip()\n",
    "    except requests.exceptions.RequestException as e:\n",
    "        print(f\"Lỗi gọi API: {e}\")\n",
    "        return \"Lỗi khi gọi API tóm tắt.\"\n",
    "    except (KeyError, IndexError) as e:\n",
    "        print(f\"Lỗi khi xử lý response từ API: {e}. Response: {response.text}\")\n",
    "        return \"Không thể tóm tắt nội dung do lỗi xử lý response.\"\n",
    "\n",
    "\n",
    "def search(querry=''):\n",
    "    # --- Chạy RAG -------------\n",
    "    query = querry\n",
    "    # query_en = query  # hoặc dùng translate nếu cần\n",
    "    query_en = translate_vi_to_en_google(query)\n",
    "    print('I/--------------Querry sau khi dịch:---------------')\n",
    "    print(query_en)\n",
    "\n",
    "    print('II/--------------Xác định chủ đề của querry---------------')\n",
    "    detected_type = detect_type_by_embedding(query_en)\n",
    "    print('III/--------------Xác định môn học của querry (nếu có)---------------')\n",
    "    detected_subject = detect_subject(query_en)\n",
    "\n",
    "    query_vec = embedder.embed([query])[0]\n",
    "\n",
    "\n",
    "    # query_filter = {\"must\": []}\n",
    "    # if detected_type:\n",
    "    #     query_filter[\"must\"].append({\"key\": \"type\", \"match\": {\"value\": detected_type}})\n",
    "    # if detected_subject:\n",
    "    #     query_filter[\"must\"].append({\"key\": \"subject_code\", \"match\": {\"value\": detected_subject}})\n",
    "\n",
    "    query_filter = {\"should\": [], \"must\":[]}\n",
    "    if detected_type:\n",
    "        print(\"Loại detect được là:\")\n",
    "        print(detected_type)\n",
    "        query_filter[\"must\"].append({\"key\": \"type\", \"match\": {\"value\": detected_type}})\n",
    "    if detected_subject:\n",
    "        for subject_code in detected_subject:\n",
    "            print(subject_code[0])\n",
    "            query_filter[\"should\"].append({\n",
    "                \"key\": \"subject_code\",\n",
    "                \"match\": {\"value\": subject_code[0]}\n",
    "            })\n",
    "\n",
    "    hits = client.search(\n",
    "        collection_name=\"flm_fap\",\n",
    "        query_vector=query_vec.tolist(),\n",
    "        limit=50,\n",
    "        query_filter=query_filter if query_filter[\"must\"] or query_filter[\"should\"] else None\n",
    "    )\n",
    "\n",
    "\n",
    "\n",
    "    # --- TỔNG HỢP KẾT QUẢ TÌM KIẾM VÀ ĐƯA RA CÂU TRẢ LỜI CHÍNH XÁC NHẤT ---\n",
    "    \n",
    "    print(\"\\n==============================================\")\n",
    "    print(\"✅ KẾT QUẢ TỔNG HỢP CHO QUERY BẰNG GEMINI ✅\")\n",
    "    print(\"==============================================\")\n",
    "    if not hits:\n",
    "        print(\"Không tìm thấy kết quả phù hợp.\")\n",
    "    else:\n",
    "        print(\"\\n🔍 CHI TIẾT CÁC KẾT QUẢ TÌM KIẾM:\")\n",
    "        for i, hit in enumerate(hits, 1):\n",
    "            print(f\"\\n⭐ Top {i}\")\n",
    "            print(f\"🔍 Score: {hit.score:.4f}\")\n",
    "            print(f\"📘 Subject: {hit.payload.get('subject_code')} - {hit.payload.get('type')}\")\n",
    "            \n",
    "            original_content = hit.payload.get('content', '')\n",
    "            print(f\"📄 Content Gốc: {original_content}...\")\n",
    "       \n",
    "        print(\"------------------------------------------\")\n",
    "\n",
    "        # [TÙY CHỌN] Nếu bạn vẫn muốn hiển thị từng kết quả riêng lẻ với tóm tắt như trước\n",
    "         # Lấy tất cả nội dung từ hits\n",
    "        hit_contents = [hit.payload.get('content', '') for hit in hits]\n",
    "        \n",
    "        # Gọi Gemini API để tổng hợp và đưa ra câu trả lời chính xác nhất\n",
    "        print(\"[*] Gemini đang tổng hợp và trả lời...\")\n",
    "        final_answer = summarize_with_gemini_combined(\n",
    "            contents=hit_contents,\n",
    "            query=query,  # Query gốc: \"bạn cho tôi biết môn seg dạy cái gì\"\n",
    "            api_key=gemini_api_key\n",
    "        )\n",
    "        \n",
    "        print(f\"✨ Câu trả lời cuối cùng: {final_answer}\")\n",
    "        \n",
    "        # print(\"[*] Gemini đang tóm tắt...\")\n",
    "        # summary = summarize_with_gemini_combined(\n",
    "        #     contents=[original_content],  # Tóm tắt riêng từng hit\n",
    "        #     query=query,\n",
    "        #     api_key=gemini_api_key\n",
    "        # )\n",
    "        # # print(f\"✨ Tóm tắt của Gemini: {summary}\")\n",
    "        # print(\"------------------------------------------\")\n",
    "        \n",
    "        # # Tạm dừng 4 giây để tránh rate limit (trừ lần cuối)\n",
    "        # if i < len(hits):\n",
    "        #     time.sleep(4)"
   ]
  },
  {
   "cell_type": "code",
   "execution_count": 150,
   "id": "d77bc74a",
   "metadata": {},
   "outputs": [
    {
     "name": "stdout",
     "output_type": "stream",
     "text": [
      "I/--------------Querry sau khi dịch:---------------\n",
      "The subjects of the 5th semester are discussed.\n",
      "II/--------------Xác định chủ đề của querry---------------\n"
     ]
    },
    {
     "data": {
      "application/vnd.jupyter.widget-view+json": {
       "model_id": "33146f74752f4fc2ac77c4e9d1938d74",
       "version_major": 2,
       "version_minor": 0
      },
      "text/plain": [
       "Batches:   0%|          | 0/1 [00:00<?, ?it/s]"
      ]
     },
     "metadata": {},
     "output_type": "display_data"
    },
    {
     "name": "stdout",
     "output_type": "stream",
     "text": [
      "Similarity scores: {'overview': 0.6417157, 'construtive_question': 0.5791711, 'assessment': 0.62764615, 'session': 0.681198, 'material': 0.6172932, 'learning outcome': 0.5694497, 'student_list': 0.578665}\n",
      "Keyword scores: {'overview': 1, 'construtive_question': 0, 'assessment': 0, 'session': 0, 'material': 0, 'learning outcome': 0, 'student_list': 0}\n",
      "Final combined scores: {'overview': 0.713372564315796, 'construtive_question': 0.4633368968963623, 'assessment': 0.5021169185638428, 'session': 0.5449584007263184, 'material': 0.49383454322814946, 'learning outcome': 0.455559778213501, 'student_list': 0.46293201446533205}\n",
      "III/--------------Xác định môn học của querry (nếu có)---------------\n"
     ]
    },
    {
     "data": {
      "application/vnd.jupyter.widget-view+json": {
       "model_id": "5cf141dd64254baeb1bb51ae1eb2b67c",
       "version_major": 2,
       "version_minor": 0
      },
      "text/plain": [
       "Batches:   0%|          | 0/1 [00:00<?, ?it/s]"
      ]
     },
     "metadata": {},
     "output_type": "display_data"
    },
    {
     "data": {
      "application/vnd.jupyter.widget-view+json": {
       "model_id": "5d5d4379637c4d0099d81107eea649b2",
       "version_major": 2,
       "version_minor": 0
      },
      "text/plain": [
       "Batches:   0%|          | 0/1 [00:00<?, ?it/s]"
      ]
     },
     "metadata": {},
     "output_type": "display_data"
    },
    {
     "name": "stdout",
     "output_type": "stream",
     "text": [
      "Loại detect được là:\n",
      "overview\n",
      "\n",
      "==============================================\n",
      "✅ KẾT QUẢ TỔNG HỢP CHO QUERY BẰNG GEMINI ✅\n",
      "==============================================\n",
      "\n",
      "🔍 CHI TIẾT CÁC KẾT QUẢ TÌM KIẾM:\n",
      "\n",
      "⭐ Top 1\n",
      "🔍 Score: 0.5564\n",
      "📘 Subject: ENW493c - overview\n",
      "📄 Content Gốc: TYPE: overview\n",
      "Subject Code: ENW493c\n",
      "Subject Name: Research Methods & Academic Writing Skills_Phương pháp nghiên cứu & Kỹ năng viết học thuật\n",
      "Degree Level: Bachelor | Credits: 3 | Semester: 7\n",
      "Pre-requisites: None\n",
      "Scoring Scale: 10.0 | Min Avg Mark to Pass: 5.0\n",
      "Approved: True on 4/9/2025\n",
      "Subject Link: https://flm.fpt.edu.vn/gui/role/student/Syllabuses.aspx?sub Code=ENW 493 c&curriculum ID=2347\n",
      "\n",
      "--- TIME ALLOCATION ---\n",
      "Study hour (150 h) = 58 h online + 3 h offline + 100' PE + 87.3 h self-study\n",
      "---TIME ALLOCATION END ---\n",
      "\n",
      "Note:\n",
      "- 1. Complete the online courses and get certifications to be allowed to take Final Exam 2. Final Exam included Practical Exam (PE): 100%3. Students who complete all MOOCs before the course deadline will receive 1 bonus point; otherwise, no bonus point will be awarded.4. Completion Criteria: Final PE Score >=4 & (Final PE Score + bonus) >= 5\n",
      "...\n",
      "\n",
      "⭐ Top 2\n",
      "🔍 Score: 0.5521\n",
      "📘 Subject: CSI106 - overview\n",
      "📄 Content Gốc: TYPE: overview\n",
      "Subject Code: CSI106\n",
      "Subject Name: Introduction to Computer Science_Nhập môn khoa học máy tính\n",
      "Degree Level: Bachelor | Credits: 3 | Semester: 1\n",
      "Pre-requisites: None\n",
      "Scoring Scale: 10.0 | Min Avg Mark to Pass: 5.0\n",
      "Approved: True on 7/29/2024\n",
      "Subject Link: https://flm.fpt.edu.vn/gui/role/student/Syllabuses.aspx?sub Code=CSI 106&curriculum ID=2347\n",
      "\n",
      "--- TIME ALLOCATION ---\n",
      "Study hour (150 h) = 45 h contact hours + 5 h online + 1 h final exam + 99 h self-study\n",
      "---TIME ALLOCATION END ---\n",
      "\n",
      "Note:\n",
      "- None\n",
      "...\n",
      "\n",
      "⭐ Top 3\n",
      "🔍 Score: 0.5505\n",
      "📘 Subject: MLN131 - overview\n",
      "📄 Content Gốc: TYPE: overview\n",
      "Subject Code: MLN131\n",
      "Subject Name: Scientific socialism_Chủ nghĩa xã hội khoa học\n",
      "Degree Level: Bachelor | Credits: 2 | Semester: 9\n",
      "Pre-requisites: MLN 111, MLN 122\n",
      "Scoring Scale: 10.0 | Min Avg Mark to Pass: 5.0\n",
      "Approved: True on 8/16/2024\n",
      "Subject Link: https://flm.fpt.edu.vn/gui/role/student/Syllabuses.aspx?sub Code=MLN 131&curriculum ID=2347\n",
      "\n",
      "--- TIME ALLOCATION ---\n",
      "Thời gian học (100 h) = 22.5 giờ học trên lớp (30 tiết) + 1 giờ thi cuối kỳ + 76.5 giờ tự học Study hour (100 h) = 22.5 contact hours (30 sessions) + 1 hour final exam + 76.5 hours self-study\n",
      "---TIME ALLOCATION END ---\n",
      "\n",
      "Note:\n",
      "- 1)'Progress tests + Assignment: 70%- Participation: 10%- 02 Progress tests: 30%(2 x 15%)- 1 Assignment: 30 %2) Final Exam: 30%3) Final result:100%4) Completion Criteria:Final Result >=5 & Final Exam Score >=4\n",
      "...\n",
      "\n",
      "⭐ Top 4\n",
      "🔍 Score: 0.5464\n",
      "📘 Subject: PEN - overview\n",
      "📄 Content Gốc: TYPE: overview\n",
      "Subject Code: PEN\n",
      "Subject Name: Preparation English_Tiếng Anh chuẩn bị\n",
      "Degree Level: N/A | Credits: 0 | Semester: 0\n",
      "Pre-requisites: None\n",
      "Scoring Scale: N/A | Min Avg Mark to Pass: N/A\n",
      "Approved: False on N/A\n",
      "Subject Link: https://flm.fpt.edu.vn/gui/role/student/Syllabuses.aspx?sub Code=PEN&curriculum ID=2347\n",
      "\n",
      "--- TIME ALLOCATION ---\n",
      "N/A\n",
      "---TIME ALLOCATION END ---\n",
      "\n",
      "Note:\n",
      "- None\n",
      "...\n",
      "\n",
      "⭐ Top 5\n",
      "🔍 Score: 0.5463\n",
      "📘 Subject: COV111 - overview\n",
      "📄 Content Gốc: TYPE: overview\n",
      "Subject Code: COV111\n",
      "Subject Name: Cờ Vua 1_Chess 1\n",
      "Degree Level: Bachelor | Credits: 2 | Semester: 0\n",
      "Pre-requisites: None\n",
      "Scoring Scale: 10.0 | Min Avg Mark to Pass: 5.0\n",
      "Approved: True on 8/16/2024\n",
      "Subject Link: https://flm.fpt.edu.vn/gui/role/student/Syllabus Details.aspx?sylid=11847\n",
      "\n",
      "--- TIME ALLOCATION ---\n",
      "12 slots\n",
      "---TIME ALLOCATION END ---\n",
      "\n",
      "Note:\n",
      "- None\n",
      "...\n",
      "\n",
      "⭐ Top 6\n",
      "🔍 Score: 0.5462\n",
      "📘 Subject: SSL101c - overview\n",
      "📄 Content Gốc: TYPE: overview\n",
      "Subject Code: SSL101c\n",
      "Subject Name: Academic Skills for University Success_Kỹ năng học tập đại học\n",
      "Degree Level: Bachelor | Credits: 3 | Semester: 1\n",
      "Pre-requisites: None\n",
      "Scoring Scale: 10.0 | Min Avg Mark to Pass: 5.0\n",
      "Approved: True on 4/9/2025\n",
      "Subject Link: https://flm.fpt.edu.vn/gui/role/student/Syllabuses.aspx?sub Code=SSL 101 c&curriculum ID=2347\n",
      "\n",
      "--- TIME ALLOCATION ---\n",
      "42 hours online + 4.5 hrs offline (3 slots) + 1 hr exam + 102.5 hours self-study\n",
      "---TIME ALLOCATION END ---\n",
      "\n",
      "Note:\n",
      "- 1) Ongoing assessment: Students who complete all MOOCs before the course deadline will receive 1 bonus point; otherwise, no bonus point will be awarded.2) Theoretical Exam (TE)3) Final Result (FR) =min (10, TE + Bonus)4) Completion Criteria: TE>=4 and FR>=5\n",
      "...\n",
      "\n",
      "⭐ Top 7\n",
      "🔍 Score: 0.5449\n",
      "📘 Subject: VOV134 - overview\n",
      "📄 Content Gốc: TYPE: overview\n",
      "Subject Code: VOV134\n",
      "Subject Name: Vovinam 3\n",
      "Degree Level: Bachelor | Credits: 2 | Semester: 2\n",
      "Pre-requisites: None\n",
      "Scoring Scale: 10.0 | Min Avg Mark to Pass: 5.0\n",
      "Approved: True on 8/16/2024\n",
      "Subject Link: https://flm.fpt.edu.vn/gui/role/student/Syllabus Details.aspx?sylid=11852\n",
      "\n",
      "--- TIME ALLOCATION ---\n",
      "28 slots\n",
      "---TIME ALLOCATION END ---\n",
      "\n",
      "Note:\n",
      "- None\n",
      "...\n",
      "\n",
      "⭐ Top 8\n",
      "🔍 Score: 0.5447\n",
      "📘 Subject: REL301m - overview\n",
      "📄 Content Gốc: TYPE: overview\n",
      "Subject Code: REL301m\n",
      "Subject Name: Reinforcement Learning_Học tăng cường\n",
      "Degree Level: Bachelor | Credits: 3 | Semester: 8\n",
      "Pre-requisites: AIL 303 m, DPL 302 m\n",
      "Scoring Scale: 10.0 | Min Avg Mark to Pass: 5.0\n",
      "Approved: True on 4/3/2024\n",
      "Subject Link: https://flm.fpt.edu.vn/gui/role/student/Syllabuses.aspx?sub Code=REL 301 m&curriculum ID=2347\n",
      "\n",
      "--- TIME ALLOCATION ---\n",
      "45 h (60 sessions) contact hours + 1 h final exam + 104 h self-study;\n",
      "---TIME ALLOCATION END ---\n",
      "\n",
      "Note:\n",
      "- None\n",
      "...\n",
      "\n",
      "⭐ Top 9\n",
      "🔍 Score: 0.5425\n",
      "📘 Subject: SEG301 - overview\n",
      "📄 Content Gốc: TYPE: overview\n",
      "Subject Code: SEG301\n",
      "Subject Name: Search Engines_Công cụ tìm kiếm\n",
      "Degree Level: Bachelor | Credits: 3 | Semester: 5\n",
      "Pre-requisites: None\n",
      "Scoring Scale: 10.0 | Min Avg Mark to Pass: 5.0\n",
      "Approved: True on 4/9/2025\n",
      "Subject Link: https://flm.fpt.edu.vn/gui/role/student/Syllabus Details.aspx?sylid=12633\n",
      "\n",
      "--- TIME ALLOCATION ---\n",
      "45 h (60 sessions) contact hours + 1 h final exam + 104 h self-study\n",
      "---TIME ALLOCATION END ---\n",
      "\n",
      "Note:\n",
      "- 1) On-going Assessment- 3 Assignments: 30%- 2 progress tests: 30%2) 1 Final Exam: 40%3) Final Result 100% (The Final result - including bonus score - is not greater than 10) Completion Criteria:1) Every on-going assessment component > 02) Final Exam Score >= 4 & Final Result >= 5 Bonus score for accepted paper (email accepted/ published):ISI/Scopus Q 1, Q 2: 5 ISI/Scopus Q 3, Q 4: 3 Scopus Q 1, Q 2: 3 Scopus Q 3, Q 4: 2 The accepted paper must be related to topics in AI 17_COM 2 and be assessed by the in-class Lecturer.Source to check Scopus ranking: https://www.scimagojr.com/Source to check ISI: https://mjl.clarivate.com\n",
      "...\n",
      "\n",
      "⭐ Top 10\n",
      "🔍 Score: 0.5417\n",
      "📘 Subject: VOV124 - overview\n",
      "📄 Content Gốc: TYPE: overview\n",
      "Subject Code: VOV124\n",
      "Subject Name: Vovinam 2\n",
      "Degree Level: Bachelor | Credits: 2 | Semester: 1\n",
      "Pre-requisites: None\n",
      "Scoring Scale: 10.0 | Min Avg Mark to Pass: 5.0\n",
      "Approved: True on 8/16/2024\n",
      "Subject Link: https://flm.fpt.edu.vn/gui/role/student/Syllabus Details.aspx?sylid=11851\n",
      "\n",
      "--- TIME ALLOCATION ---\n",
      "28 slots\n",
      "---TIME ALLOCATION END ---\n",
      "\n",
      "Note:\n",
      "- None\n",
      "...\n",
      "\n",
      "⭐ Top 11\n",
      "🔍 Score: 0.5405\n",
      "📘 Subject: VOV114 - overview\n",
      "📄 Content Gốc: TYPE: overview\n",
      "Subject Code: VOV114\n",
      "Subject Name: Vovinam 1\n",
      "Degree Level: Bachelor | Credits: 2 | Semester: 0\n",
      "Pre-requisites: None\n",
      "Scoring Scale: 10.0 | Min Avg Mark to Pass: 5.0\n",
      "Approved: True on 8/16/2024\n",
      "Subject Link: https://flm.fpt.edu.vn/gui/role/student/Syllabus Details.aspx?sylid=11850\n",
      "\n",
      "--- TIME ALLOCATION ---\n",
      "28 slots\n",
      "---TIME ALLOCATION END ---\n",
      "\n",
      "Note:\n",
      "- None\n",
      "...\n",
      "\n",
      "⭐ Top 12\n",
      "🔍 Score: 0.5392\n",
      "📘 Subject: DBM302m - overview\n",
      "📄 Content Gốc: TYPE: overview\n",
      "Subject Code: DBM302m\n",
      "Subject Name: Data Mining_Khai phá dữ liệu\n",
      "Degree Level: Bachelor | Credits: 3 | Semester: 7\n",
      "Pre-requisites: None\n",
      "Scoring Scale: 10.0 | Min Avg Mark to Pass: 5.0\n",
      "Approved: True on 4/3/2024\n",
      "Subject Link: https://flm.fpt.edu.vn/gui/role/student/Syllabus Details.aspx?sylid=11218\n",
      "\n",
      "--- TIME ALLOCATION ---\n",
      "45 h (60 sessions) contact hours + 1 h final exam + 104 h self-study;\n",
      "---TIME ALLOCATION END ---\n",
      "\n",
      "Note:\n",
      "- Assignment: plus 0.5 to 1 points for completed Coursera certification, Final Result <=10\n",
      "...\n",
      "\n",
      "⭐ Top 13\n",
      "🔍 Score: 0.5391\n",
      "📘 Subject: BDI302c - overview\n",
      "📄 Content Gốc: TYPE: overview\n",
      "Subject Code: BDI302c\n",
      "Subject Name: Big Data_Dữ liệu lớn\n",
      "Degree Level: Bachelor | Credits: 3 | Semester: 5\n",
      "Pre-requisites: None\n",
      "Scoring Scale: 10.0 | Min Avg Mark to Pass: 5.0\n",
      "Approved: True on 4/9/2025\n",
      "Subject Link: https://flm.fpt.edu.vn/gui/role/student/Syllabus Details.aspx?sylid=12550\n",
      "\n",
      "--- TIME ALLOCATION ---\n",
      "Study hour (150 h) = 81 h online + 3 h offline + 1 h final exam + 65 h self-study\n",
      "---TIME ALLOCATION END ---\n",
      "\n",
      "Note:\n",
      "- None\n",
      "...\n",
      "\n",
      "⭐ Top 14\n",
      "🔍 Score: 0.5358\n",
      "📘 Subject: COV131 - overview\n",
      "📄 Content Gốc: TYPE: overview\n",
      "Subject Code: COV131\n",
      "Subject Name: Cờ Vua 3_Chess 3\n",
      "Degree Level: Bachelor | Credits: 2 | Semester: 2\n",
      "Pre-requisites: None\n",
      "Scoring Scale: 10.0 | Min Avg Mark to Pass: 5.0\n",
      "Approved: True on 8/16/2024\n",
      "Subject Link: https://flm.fpt.edu.vn/gui/role/student/Syllabus Details.aspx?sylid=11849\n",
      "\n",
      "--- TIME ALLOCATION ---\n",
      "12 slots (90 minutes/slot)\n",
      "---TIME ALLOCATION END ---\n",
      "\n",
      "Note:\n",
      "- None\n",
      "...\n",
      "\n",
      "⭐ Top 15\n",
      "🔍 Score: 0.5347\n",
      "📘 Subject: DSP391m - overview\n",
      "📄 Content Gốc: TYPE: overview\n",
      "Subject Code: DSP391m\n",
      "Subject Name: Data Science - Capstone Project_Dự án KHDL\n",
      "Degree Level: Bachelor | Credits: 3 | Semester: 8\n",
      "Pre-requisites: None\n",
      "Scoring Scale: 10.0 | Min Avg Mark to Pass: 5.0\n",
      "Approved: True on 7/29/2024\n",
      "Subject Link: https://flm.fpt.edu.vn/gui/role/student/Syllabus Details.aspx?sylid=11717\n",
      "\n",
      "--- TIME ALLOCATION ---\n",
      "45 h (60 sessions) contact hours + 1 h final exam + 104 h self-study;\n",
      "---TIME ALLOCATION END ---\n",
      "\n",
      "Note:\n",
      "- \"- The essential capstone project is mandatory, focusing on solving a real-world data challenge. It comprises 100% of assessments, culminating in a final exam by oral presentation.- The final mark is determined by summing the weighted scores of Report 1 (10%), Report 2 (20%), Report 3 (40%), Final Report (10%), and Final Exam[Oral presentation] (20%).- The final exam [oral group presentation] takes place in class, individually evaluated by one professor. Retakes are permissible, involving the submission of a revised final report and presentation, also evaluated by one professor.\"\n",
      "...\n",
      "\n",
      "⭐ Top 16\n",
      "🔍 Score: 0.5326\n",
      "📘 Subject: COV121 - overview\n",
      "📄 Content Gốc: TYPE: overview\n",
      "Subject Code: COV121\n",
      "Subject Name: Cờ Vua 2_Chess 2\n",
      "Degree Level: Bachelor | Credits: 2 | Semester: 1\n",
      "Pre-requisites: None\n",
      "Scoring Scale: 10.0 | Min Avg Mark to Pass: 5.0\n",
      "Approved: True on 8/16/2024\n",
      "Subject Link: https://flm.fpt.edu.vn/gui/role/student/Syllabus Details.aspx?sylid=11848\n",
      "\n",
      "--- TIME ALLOCATION ---\n",
      "12 slots (90 minutes/slot)\n",
      "---TIME ALLOCATION END ---\n",
      "\n",
      "Note:\n",
      "- None\n",
      "...\n",
      "\n",
      "⭐ Top 17\n",
      "🔍 Score: 0.5312\n",
      "📘 Subject: AIH301m - overview\n",
      "📄 Content Gốc: TYPE: overview\n",
      "Subject Code: AIH301m\n",
      "Subject Name: AI in Healthcare_Ứng dụng TTNT trong chăm sóc sức khỏe\n",
      "Degree Level: Bachelor | Credits: 3 | Semester: 5\n",
      "Pre-requisites: None\n",
      "Scoring Scale: 10.0 | Min Avg Mark to Pass: 5.0\n",
      "Approved: True on 4/3/2024\n",
      "Subject Link: https://flm.fpt.edu.vn/gui/role/student/Syllabus Details.aspx?sylid=11221\n",
      "\n",
      "--- TIME ALLOCATION ---\n",
      "45 h (60 sessions) contact hours + 1 h final exam + 104 h self-study\n",
      "---TIME ALLOCATION END ---\n",
      "\n",
      "Note:\n",
      "- None\n",
      "...\n",
      "\n",
      "⭐ Top 18\n",
      "🔍 Score: 0.5310\n",
      "📘 Subject: DBI202-OLD - overview\n",
      "📄 Content Gốc: TYPE: overview\n",
      "Subject Code: DBI202-OLD\n",
      "Subject Name: Database Systems\n",
      "Degree Level: Bachelor | Credits: 3 | Semester: 2\n",
      "Pre-requisites: None\n",
      "Scoring Scale: 10.0 | Min Avg Mark to Pass: 5.0\n",
      "Approved: True on 4/12/2017\n",
      "Subject Link: https://flm.fpt.edu.vn/gui/role/student/Syllabus Details.aspx?sylid=871\n",
      "\n",
      "--- TIME ALLOCATION ---\n",
      "30 sessions Lectures: 17 Lab/Tutorials: 13\n",
      "---TIME ALLOCATION END ---\n",
      "\n",
      "Note:\n",
      "- None\n",
      "...\n",
      "\n",
      "⭐ Top 19\n",
      "🔍 Score: 0.5300\n",
      "📘 Subject: SWE201c - overview\n",
      "📄 Content Gốc: TYPE: overview\n",
      "Subject Code: SWE201c\n",
      "Subject Name: Introduction to Software Engineering_Nhập môn kĩ thuật phần mềm\n",
      "Degree Level: Bachelor | Credits: 3 | Semester: 4\n",
      "Pre-requisites: PRO 192 (not applied to the BIT_AI 17 and BA programs)\n",
      "Scoring Scale: 10.0 | Min Avg Mark to Pass: 5.0\n",
      "Approved: True on 4/9/2025\n",
      "Subject Link: https://flm.fpt.edu.vn/gui/role/student/Syllabuses.aspx?sub Code=SWE 201 c&curriculum ID=2347\n",
      "\n",
      "--- TIME ALLOCATION ---\n",
      "Study hour (150 h) = 62 h online + 3 h offline + 1 h TE + 2 h PE + 82 h self-study\n",
      "---TIME ALLOCATION END ---\n",
      "\n",
      "Note:\n",
      "- 1. Complete the online course to be allowed to take Final Exam 2. Final Exam is included of Final Theory Exam (TE) & Final Practical Exam (PE): 100%3. Students who complete all MOOCs before the course deadline will receive 1 bonus point; otherwise, no bonus point will be awarded.4. Completion Criteria: Final TE Score >=4 & Final PE Score >=4 & FR >= 5(FR = min(10, (Final TE Score + Final PE Score)/2 + bonus)\n",
      "...\n",
      "\n",
      "⭐ Top 20\n",
      "🔍 Score: 0.5293\n",
      "📘 Subject: DAP391m - overview\n",
      "📄 Content Gốc: TYPE: overview\n",
      "Subject Code: DAP391m\n",
      "Subject Name: AI-DS Project_Dự án TTNT-KHDL\n",
      "Degree Level: Bachelor | Credits: 3 | Semester: 4\n",
      "Pre-requisites: PFP 191, ADY 201 m\n",
      "Scoring Scale: 10.0 | Min Avg Mark to Pass: 5.0\n",
      "Approved: True on 11/22/2024\n",
      "Subject Link: https://flm.fpt.edu.vn/gui/role/student/Syllabuses.aspx?sub Code=DAP 391 m&curriculum ID=2347\n",
      "\n",
      "--- TIME ALLOCATION ---\n",
      "45 h (60 sessions) contact hours + 1 h final exam + 104 h self-study;\n",
      "---TIME ALLOCATION END ---\n",
      "\n",
      "Note:\n",
      "- The implementation of this course can be carried out in a traditional manner following the syllabus, or it can be standardized according to project topics. Once the project topic is determined, subsequent assessments will be designed according to the project topic. Please ensure compliance with the syllabus and corresponding CLOs.\n",
      "...\n",
      "\n",
      "⭐ Top 21\n",
      "🔍 Score: 0.5283\n",
      "📘 Subject: CSD203 - overview\n",
      "📄 Content Gốc: TYPE: overview\n",
      "Subject Code: CSD203\n",
      "Subject Name: Data Structures and Algorithm with Python_Cấu trúc dữ liệu và giải thuật với Python\n",
      "Degree Level: Bachelor | Credits: 3 | Semester: 2\n",
      "Pre-requisites: PFP 191 (Programming Fundamentals with Python_Cơ sở lập trình với Python)\n",
      "Scoring Scale: 10.0 | Min Avg Mark to Pass: 5.0\n",
      "Approved: True on 4/3/2024\n",
      "Subject Link: https://flm.fpt.edu.vn/gui/role/student/Syllabuses.aspx?sub Code=CSD 203&curriculum ID=2347\n",
      "\n",
      "--- TIME ALLOCATION ---\n",
      "45 h (60 sessions) contact hours + 1 h TE + 1 h PE + 103 h self-study\n",
      "---TIME ALLOCATION END ---\n",
      "\n",
      "Note:\n",
      "- None\n",
      "...\n",
      "\n",
      "⭐ Top 22\n",
      "🔍 Score: 0.5277\n",
      "📘 Subject: MLN122 - overview\n",
      "📄 Content Gốc: TYPE: overview\n",
      "Subject Code: MLN122\n",
      "Subject Name: Political economics of Marxism – Leninism_Kinh tế chính trị Mác - Lê-nin\n",
      "Degree Level: Bachelor | Credits: 2 | Semester: 8\n",
      "Pre-requisites: None\n",
      "Scoring Scale: 10.0 | Min Avg Mark to Pass: 5.0\n",
      "Approved: True on 8/16/2024\n",
      "Subject Link: https://flm.fpt.edu.vn/gui/role/student/Syllabuses.aspx?sub Code=MLN 122&curriculum ID=2347\n",
      "\n",
      "--- TIME ALLOCATION ---\n",
      "Thời gian học (100 h) = 22.5 giờ học trên lớp (30 tiết) + 1 giờ thi cuối kỳ + 76.5 giờ tự học Study hour (100 h) = 22.5 contact hours (30 sessions) + 1 hour final exam + 76.5 hours self-study\n",
      "---TIME ALLOCATION END ---\n",
      "\n",
      "Note:\n",
      "- 1) Progress test + Assignment: 70%- Participation: 10%- 02 Progress tests: 30% (2 x 15%)- 1 Assignment: 30 %2) Final Exam: 30%3) Final result: 100%4) Completion Criteria:Final Result >=5 & Final Exam Score >=4\n",
      "...\n",
      "\n",
      "⭐ Top 23\n",
      "🔍 Score: 0.5273\n",
      "📘 Subject: DBA103 - overview\n",
      "📄 Content Gốc: TYPE: overview\n",
      "Subject Code: DBA103\n",
      "Subject Name: Nhạc cụ truyền thống - Đàn Bầu\n",
      "Degree Level: Sơ cấp Beginner | Credits: 3 | Semester: 0\n",
      "Pre-requisites: None\n",
      "Scoring Scale: 10.0 | Min Avg Mark to Pass: 5.0\n",
      "Approved: True on 8/16/2024\n",
      "Subject Link: https://flm.fpt.edu.vn/gui/role/student/Syllabus Details.aspx?sylid=11835\n",
      "\n",
      "--- TIME ALLOCATION ---\n",
      "Giảng dạy trên lớp 30 slot; 90 phút/slot In class: 30 slots; 90 minutes/slot\n",
      "---TIME ALLOCATION END ---\n",
      "\n",
      "Note:\n",
      "- Bài tập: 15% Assignment: 15% Điểm ý thức tham gia lớp học: 15% Participation: 15% Thi cuối môn học: Điểm thực hành chơi nhạc cụ theo yêu cầu: 70% (=>4 điểm) Final exam: Playing musical instruments as required: 70% (=>4 points) Tổng điểm FE: =>5 Final Result: >=5\n",
      "...\n",
      "\n",
      "⭐ Top 24\n",
      "🔍 Score: 0.5256\n",
      "📘 Subject: ASR301c - overview\n",
      "📄 Content Gốc: TYPE: overview\n",
      "Subject Code: ASR301c\n",
      "Subject Name: AI for Scientific Research_TTNT cho Nghiên cứu khoa học\n",
      "Degree Level: Bachelor | Credits: 3 | Semester: 5\n",
      "Pre-requisites: None\n",
      "Scoring Scale: 10.0 | Min Avg Mark to Pass: 5.0\n",
      "Approved: True on 4/9/2025\n",
      "Subject Link: https://flm.fpt.edu.vn/gui/role/student/Syllabus Details.aspx?sylid=12628\n",
      "\n",
      "--- TIME ALLOCATION ---\n",
      "Study hour (150 h) = 46 h online + 3 h offline + 1 h final exam + 100 h self-study\n",
      "---TIME ALLOCATION END ---\n",
      "\n",
      "Note:\n",
      "- 1. Final Exam included Final Theory Exam (TE): 100%2. Students who complete all MOOCs before the course deadline will receive 1 bonus point; otherwise, no bonus point will be awarded.3.Completion Criteria: Final TE Score >=4 & (Final TE Score + bonus) >= 54. Complete the online courses and get all specialization certifications to be allowed to take Final Exam\n",
      "...\n",
      "\n",
      "⭐ Top 25\n",
      "🔍 Score: 0.5235\n",
      "📘 Subject: TMI_ELE - overview\n",
      "📄 Content Gốc: TYPE: overview\n",
      "Subject Code: TMI_ELE\n",
      "Subject Name: Traditional musical instrument_Nhạc cụ truyền thống\n",
      "Degree Level: N/A | Credits: 3 | Semester: 0\n",
      "Pre-requisites: None\n",
      "Scoring Scale: N/A | Min Avg Mark to Pass: N/A\n",
      "Approved: False on N/A\n",
      "Subject Link: https://flm.fpt.edu.vn/gui/role/student/Syllabuses.aspx?sub Code=TMI_ELE&curriculum ID=2347\n",
      "\n",
      "--- TIME ALLOCATION ---\n",
      "N/A\n",
      "---TIME ALLOCATION END ---\n",
      "\n",
      "Note:\n",
      "- None\n",
      "...\n",
      "\n",
      "⭐ Top 26\n",
      "🔍 Score: 0.5230\n",
      "📘 Subject: AIE301m - overview\n",
      "📄 Content Gốc: TYPE: overview\n",
      "Subject Code: AIE301m\n",
      "Subject Name: AI for Trading_Ứng dụng TTNT cho giao dịch\n",
      "Degree Level: Bachelor | Credits: 3 | Semester: 8\n",
      "Pre-requisites: None\n",
      "Scoring Scale: 10.0 | Min Avg Mark to Pass: 5.0\n",
      "Approved: True on 7/29/2024\n",
      "Subject Link: https://flm.fpt.edu.vn/gui/role/student/Syllabus Details.aspx?sylid=11703\n",
      "\n",
      "--- TIME ALLOCATION ---\n",
      "45 h (60 sessions) contact hours + 1 h final exam + 104 h self-study\n",
      "---TIME ALLOCATION END ---\n",
      "\n",
      "Note:\n",
      "- None\n",
      "...\n",
      "\n",
      "⭐ Top 27\n",
      "🔍 Score: 0.5230\n",
      "📘 Subject: DSR301m - overview\n",
      "📄 Content Gốc: TYPE: overview\n",
      "Subject Code: DSR301m\n",
      "Subject Name: Applied Data Science with R - Khoa học dữ liệu ứng dụng với R\n",
      "Degree Level: Bachelor | Credits: 3 | Semester: 5\n",
      "Pre-requisites: None\n",
      "Scoring Scale: 10.0 | Min Avg Mark to Pass: 5.0\n",
      "Approved: True on 4/3/2024\n",
      "Subject Link: https://flm.fpt.edu.vn/gui/role/student/Syllabus Details.aspx?sylid=11217\n",
      "\n",
      "--- TIME ALLOCATION ---\n",
      "Study hour (150 h) =45 h (60 sessions) contact hours + 1 h final exam + 104 h self-study\n",
      "---TIME ALLOCATION END ---\n",
      "\n",
      "Note:\n",
      "- Assignment: plus 0.5 to 1 points for completed IBM certification\n",
      "...\n",
      "\n",
      "⭐ Top 28\n",
      "🔍 Score: 0.5229\n",
      "📘 Subject: AIP491 - overview\n",
      "📄 Content Gốc: TYPE: overview\n",
      "Subject Code: AIP491\n",
      "Subject Name: AI Capstone Project_Đồ án tốt nghiệp TTNT\n",
      "Degree Level: Bachelor | Credits: 10 | Semester: 9\n",
      "Pre-requisites: None\n",
      "Scoring Scale: 10.0 | Min Avg Mark to Pass: 5.0\n",
      "Approved: True on 11/22/2024\n",
      "Subject Link: https://flm.fpt.edu.vn/gui/role/student/Syllabus Details.aspx?sylid=12078\n",
      "\n",
      "--- TIME ALLOCATION ---\n",
      "Study hour (500 h)= 33.75 h contact hours (1 newslot/week*15 week) + 1.5 h capstone project defense + 464.75 h self-study\n",
      "---TIME ALLOCATION END ---\n",
      "\n",
      "Note:\n",
      "- None\n",
      "...\n",
      "\n",
      "⭐ Top 29\n",
      "🔍 Score: 0.5221\n",
      "📘 Subject: MAE101 - overview\n",
      "📄 Content Gốc: TYPE: overview\n",
      "Subject Code: MAE101\n",
      "Subject Name: Mathematics for Engineering_Toán cho ngành kỹ thuật\n",
      "Degree Level: Bachelor | Credits: 3 | Semester: 1\n",
      "Pre-requisites: None\n",
      "Scoring Scale: 10.0 | Min Avg Mark to Pass: 5.0\n",
      "Approved: True on 8/16/2024\n",
      "Subject Link: https://flm.fpt.edu.vn/gui/role/student/Syllabuses.aspx?sub Code=MAE 101&curriculum ID=2347\n",
      "\n",
      "--- TIME ALLOCATION ---\n",
      "Study hour (150 h) = 45 contact hours (60 sessions) + 1 hour final exam + 104 hours self-study\n",
      "---TIME ALLOCATION END ---\n",
      "\n",
      "Note:\n",
      "- None\n",
      "...\n",
      "\n",
      "⭐ Top 30\n",
      "🔍 Score: 0.5218\n",
      "📘 Subject: CPV301 - overview\n",
      "📄 Content Gốc: TYPE: overview\n",
      "Subject Code: CPV301\n",
      "Subject Name: Computer Vision_Thị giác máy tính\n",
      "Degree Level: Bachelor | Credits: 3 | Semester: 4\n",
      "Pre-requisites: PFP 191, CSD 203\n",
      "Scoring Scale: 10.0 | Min Avg Mark to Pass: 5.0\n",
      "Approved: True on 11/24/2022\n",
      "Subject Link: https://flm.fpt.edu.vn/gui/role/student/Syllabuses.aspx?sub Code=CPV 301&curriculum ID=2347\n",
      "\n",
      "--- TIME ALLOCATION ---\n",
      "45 h (60 sessions) contact hours + 1 h final exam + 104 h self-study\n",
      "---TIME ALLOCATION END ---\n",
      "\n",
      "Note:\n",
      "- None\n",
      "...\n",
      "\n",
      "⭐ Top 31\n",
      "🔍 Score: 0.5212\n",
      "📘 Subject: CEA201 - overview\n",
      "📄 Content Gốc: TYPE: overview\n",
      "Subject Code: CEA201\n",
      "Subject Name: Computer Organization and Architecture_Tổ chức và Kiến trúc máy tính\n",
      "Degree Level: Bachelor | Credits: 3 | Semester: 2\n",
      "Pre-requisites: None\n",
      "Scoring Scale: 10.0 | Min Avg Mark to Pass: 5.0\n",
      "Approved: True on 4/3/2024\n",
      "Subject Link: https://flm.fpt.edu.vn/gui/role/student/Syllabuses.aspx?sub Code=CEA 201&curriculum ID=2347\n",
      "\n",
      "--- TIME ALLOCATION ---\n",
      "Study hour (150 h) = 45 h contact hours + 1 h final exam + 104 h self-study\n",
      "---TIME ALLOCATION END ---\n",
      "\n",
      "Note:\n",
      "- None\n",
      "...\n",
      "\n",
      "⭐ Top 32\n",
      "🔍 Score: 0.5212\n",
      "📘 Subject: AIL303m - overview\n",
      "📄 Content Gốc: TYPE: overview\n",
      "Subject Code: AIL303m\n",
      "Subject Name: Machine Learning_Học máy\n",
      "Degree Level: Bachelor | Credits: 3 | Semester: 4\n",
      "Pre-requisites: MAS 291, MAI 391, PFP 191\n",
      "Scoring Scale: 10.0 | Min Avg Mark to Pass: 5.0\n",
      "Approved: True on 4/3/2024\n",
      "Subject Link: https://flm.fpt.edu.vn/gui/role/student/Syllabuses.aspx?sub Code=AIL 303 m&curriculum ID=2347\n",
      "\n",
      "--- TIME ALLOCATION ---\n",
      "45 h (60 sessions) contact hours + 1 h final exam + 104 h self-study\n",
      "---TIME ALLOCATION END ---\n",
      "\n",
      "Note:\n",
      "- None\n",
      "...\n",
      "\n",
      "⭐ Top 33\n",
      "🔍 Score: 0.5185\n",
      "📘 Subject: MLN111 - overview\n",
      "📄 Content Gốc: TYPE: overview\n",
      "Subject Code: MLN111\n",
      "Subject Name: Philosophy of Marxism – Leninism_Triết học Mác - Lê-nin\n",
      "Degree Level: Bachelor | Credits: 3 | Semester: 8\n",
      "Pre-requisites: None\n",
      "Scoring Scale: 10.0 | Min Avg Mark to Pass: 5.0\n",
      "Approved: True on 8/16/2024\n",
      "Subject Link: https://flm.fpt.edu.vn/gui/role/student/Syllabuses.aspx?sub Code=MLN 111&curriculum ID=2347\n",
      "\n",
      "--- TIME ALLOCATION ---\n",
      "Thời gian học (150 h) = 27 giờ học trên lớp (36 tiết) + 18 giờ tự học theo hướng dẫn (24 tiết) + 1 giờ thi cuối kỳ + 113 giờ tự học ở nhà Study hour (150 h) = 27 contact hours (36 sessions) + 18 guided-online self-study hours (24 sessions) + 1 hour final exam + 113 hours self-study at home\n",
      "---TIME ALLOCATION END ---\n",
      "\n",
      "Note:\n",
      "- 1)'Progress test + Assignments: 70%- Participation: 10%- 02 Progress test: 30%(2 x 15%)- 1 Assignments: 30 %2) Final Exam : 30%3) Final results:100%4) Completion Criteria:Final Result >=5 & Final Exam Score >=4\n",
      "...\n",
      "\n",
      "⭐ Top 34\n",
      "🔍 Score: 0.5165\n",
      "📘 Subject: EXE401 - overview\n",
      "📄 Content Gốc: TYPE: overview\n",
      "Subject Code: EXE401\n",
      "Subject Name: Graduation Thesis Startup Project_Dự án khởi nghiệp tốt nghiệp\n",
      "Degree Level: Bachelor | Credits: 10 | Semester: 9\n",
      "Pre-requisites: None\n",
      "Scoring Scale: 10.0 | Min Avg Mark to Pass: 5.0\n",
      "Approved: True on 12/6/2024\n",
      "Subject Link: https://flm.fpt.edu.vn/gui/role/student/Syllabus Details.aspx?sylid=12279\n",
      "\n",
      "--- TIME ALLOCATION ---\n",
      "Study hour (500 h) =15 contact hours with supervisor (45 mn x 2 times/week x 10 weeks)7.5 contact hours with mentor (45 mn x 2 times/week x 5 weeks)477.5 h self-study\n",
      "---TIME ALLOCATION END ---\n",
      "\n",
      "Note:\n",
      "- None\n",
      "...\n",
      "\n",
      "⭐ Top 35\n",
      "🔍 Score: 0.5162\n",
      "📘 Subject: AIM301m - overview\n",
      "📄 Content Gốc: TYPE: overview\n",
      "Subject Code: AIM301m\n",
      "Subject Name: AI for Medicine_Ứng dụng TTNT cho y học\n",
      "Degree Level: Bachelor | Credits: 3 | Semester: 7\n",
      "Pre-requisites: None\n",
      "Scoring Scale: 10.0 | Min Avg Mark to Pass: 5.0\n",
      "Approved: True on 4/3/2024\n",
      "Subject Link: https://flm.fpt.edu.vn/gui/role/student/Syllabus Details.aspx?sylid=11175\n",
      "\n",
      "--- TIME ALLOCATION ---\n",
      "45 h (60 sessions) contact hours + 1 h final exam + 104 h self-study\n",
      "---TIME ALLOCATION END ---\n",
      "\n",
      "Note:\n",
      "- None\n",
      "...\n",
      "\n",
      "⭐ Top 36\n",
      "🔍 Score: 0.5157\n",
      "📘 Subject: VNR202 - overview\n",
      "📄 Content Gốc: TYPE: overview\n",
      "Subject Code: VNR202\n",
      "Subject Name: History of CPV_Lịch sử Đảng Cộng sản Việt Nam\n",
      "Degree Level: Bachelor | Credits: 2 | Semester: 9\n",
      "Pre-requisites: MLN 111, MLN 122\n",
      "Scoring Scale: 10.0 | Min Avg Mark to Pass: 5.0\n",
      "Approved: True on 8/16/2024\n",
      "Subject Link: https://flm.fpt.edu.vn/gui/role/student/Syllabuses.aspx?sub Code=VNR 202&curriculum ID=2347\n",
      "\n",
      "--- TIME ALLOCATION ---\n",
      "Thời gian học (100 h) = 22.5 giờ học trên lớp (30 tiết) + 1 giờ thi cuối kỳ + 76.5 giờ tự học Study hour (100 h) = 22.5 contact hours (30 sessions) + 1 hour final exam + 76.5 hours self-study\n",
      "---TIME ALLOCATION END ---\n",
      "\n",
      "Note:\n",
      "- 1)'Progress test + Assignments: 70%- Participation: 10%- 02 Progress tests: 30% (2 x 15%)- 1 Assignment: 30 %2) Final Exam: 30%3) Final result: 100%4) Completion Criteria:Every on-going assessment component > 0, Final Result >=5 & Final Exam Score >=4\n",
      "...\n",
      "\n",
      "⭐ Top 37\n",
      "🔍 Score: 0.5146\n",
      "📘 Subject: HCM202 - overview\n",
      "📄 Content Gốc: TYPE: overview\n",
      "Subject Code: HCM202\n",
      "Subject Name: HCM Ideology_Tư tưởng Hồ Chí Minh\n",
      "Degree Level: Bachelor | Credits: 2 | Semester: 9\n",
      "Pre-requisites: MLN 111, MLN 122\n",
      "Scoring Scale: 10.0 | Min Avg Mark to Pass: 5.0\n",
      "Approved: True on 8/16/2024\n",
      "Subject Link: https://flm.fpt.edu.vn/gui/role/student/Syllabuses.aspx?sub Code=HCM 202&curriculum ID=2347\n",
      "\n",
      "--- TIME ALLOCATION ---\n",
      "Thời gian học (100 h) = 22.5 giờ học trên lớp (30 tiết) + 1 giờ thi cuối kỳ + 76.5 giờ tự học Study hour (100 h) = 22.5 contact hours (30 sessions) + 1 hour final exam + 76.5 hours self-study\n",
      "---TIME ALLOCATION END ---\n",
      "\n",
      "Note:\n",
      "- 1) Progress test + Assignment: 70%- Participation: 10%- 02 Progress tests: 30% (2 x 15%)- 1 Assignment: 30 %2) Final Exam: 30%3) Final result: 100%4) Completion Criteria:Every on-going assessment component > 0, Final Result >=5 & Final Exam Score >=4\n",
      "...\n",
      "\n",
      "⭐ Top 38\n",
      "🔍 Score: 0.5138\n",
      "📘 Subject: MAS291 - overview\n",
      "📄 Content Gốc: TYPE: overview\n",
      "Subject Code: MAS291\n",
      "Subject Name: Statistics & Probability_Xác suất thống kê\n",
      "Degree Level: Bachelor | Credits: 3 | Semester: 3\n",
      "Pre-requisites: MAE 101 or MAC 101\n",
      "Scoring Scale: 10.0 | Min Avg Mark to Pass: 5.0\n",
      "Approved: True on 4/3/2024\n",
      "Subject Link: https://flm.fpt.edu.vn/gui/role/student/Syllabuses.aspx?sub Code=MAS 291&curriculum ID=2347\n",
      "\n",
      "--- TIME ALLOCATION ---\n",
      "Study hour (150 h) = 45 contact hours (60 sessions) + 1 hour final exam + 104 hours self-study\n",
      "---TIME ALLOCATION END ---\n",
      "\n",
      "Note:\n",
      "- \"On-going assessment:• 03 progress tests: 30% (a 1, i)• 02 assignments 20% (a 2)• 01 computer project 15% Final Examination 35% (a 1, a 2) Final results 100% Completion Criteria: Every on-going assessment component > 0, Final Result >=5 & Final Exam Score >=4 \"\n",
      "...\n",
      "\n",
      "⭐ Top 39\n",
      "🔍 Score: 0.5131\n",
      "📘 Subject: EXE101 - overview\n",
      "📄 Content Gốc: TYPE: overview\n",
      "Subject Code: EXE101\n",
      "Subject Name: Experiential Entrepreneurship 1_Trải nghiệm khởi nghiệp 1\n",
      "Degree Level: Bachelor | Credits: 3 | Semester: 7\n",
      "Pre-requisites: None\n",
      "Scoring Scale: 10.0 | Min Avg Mark to Pass: 5.0\n",
      "Approved: True on 8/25/2023\n",
      "Subject Link: https://flm.fpt.edu.vn/gui/role/student/Syllabuses.aspx?sub Code=EXE 101&curriculum ID=2347\n",
      "\n",
      "--- TIME ALLOCATION ---\n",
      "Study hour (150 h) ='-Self-paced online learning: 15 hours- Learning face-to-face with an instructor: 10 sessions (1 session/week x 10 weeks; 2,25 hrs/session)- Guest speakers' Sharing - Seminars: 3 sessions (2,25 hrs/session)- Mentors' Mentoring: 2 (2,25 hr/session). 1-3 additional sessions can be set up depending on the necessity and on the mentor's avaibility.- 102 h self-study\n",
      "---TIME ALLOCATION END ---\n",
      "\n",
      "Note:\n",
      "- None\n",
      "...\n",
      "\n",
      "⭐ Top 40\n",
      "🔍 Score: 0.5119\n",
      "📘 Subject: NLP301c - overview\n",
      "📄 Content Gốc: TYPE: overview\n",
      "Subject Code: NLP301c\n",
      "Subject Name: Natural Language Processing_Xử lý ngôn ngữ tự nhiên\n",
      "Degree Level: Bachelor | Credits: 3 | Semester: 6\n",
      "Pre-requisites: AIL 30 x and (PRP 201 c or PFP 191)\n",
      "Scoring Scale: 10.0 | Min Avg Mark to Pass: 5.0\n",
      "Approved: True on 4/9/2025\n",
      "Subject Link: https://flm.fpt.edu.vn/gui/role/student/Syllabuses.aspx?sub Code=NLP 301 c&curriculum ID=2347\n",
      "\n",
      "--- TIME ALLOCATION ---\n",
      "Study hour (150 h) = 121 h online + 3 h offline + 1 h TE + 2 h PE + 23 h self-study\n",
      "---TIME ALLOCATION END ---\n",
      "\n",
      "Note:\n",
      "- 1. Complete the online course to be allowed to take Final Exam 2. Final Exam is included of Final Theory Exam (TE) & Final Practical Exam (PE): 100%3. Students who complete all MOOCs before the course deadline will receive 1 bonus point; otherwise, no bonus point will be awarded.4. Completion Criteria: Final TE Score >=4 & Final PE Score >=4 & FR >= 5(FR = min(10, (Final TE Score + Final PE Score)/2 + bonus)\n",
      "...\n",
      "\n",
      "⭐ Top 41\n",
      "🔍 Score: 0.5118\n",
      "📘 Subject: MAD101 - overview\n",
      "📄 Content Gốc: TYPE: overview\n",
      "Subject Code: MAD101\n",
      "Subject Name: Discrete mathematics_Toán rời rạc\n",
      "Degree Level: Bachelor | Credits: 3 | Semester: 1\n",
      "Pre-requisites: None\n",
      "Scoring Scale: 10.0 | Min Avg Mark to Pass: 5.0\n",
      "Approved: True on 4/3/2024\n",
      "Subject Link: https://flm.fpt.edu.vn/gui/role/student/Syllabuses.aspx?sub Code=MAD 101&curriculum ID=2347\n",
      "\n",
      "--- TIME ALLOCATION ---\n",
      "Study hour (150 h) = 45 contact hours (60 sessions) + 1 hour final exam + 104 hours self-study\n",
      "---TIME ALLOCATION END ---\n",
      "\n",
      "Note:\n",
      "- None\n",
      "...\n",
      "\n",
      "⭐ Top 42\n",
      "🔍 Score: 0.5100\n",
      "📘 Subject: MAI391 - overview\n",
      "📄 Content Gốc: TYPE: overview\n",
      "Subject Code: MAI391\n",
      "Subject Name: Mathematics for Machine Learning_Toán cho học máy\n",
      "Degree Level: Bachelor | Credits: 3 | Semester: 3\n",
      "Pre-requisites: MAE 101\n",
      "Scoring Scale: 10.0 | Min Avg Mark to Pass: 5.0\n",
      "Approved: True on 4/3/2024\n",
      "Subject Link: https://flm.fpt.edu.vn/gui/role/student/Syllabuses.aspx?sub Code=MAI 391&curriculum ID=2347\n",
      "\n",
      "--- TIME ALLOCATION ---\n",
      "Study hour (150 h) = 45 contact hours (60 sessions) + 1 hour final exam + 104 hours self-study\n",
      "---TIME ALLOCATION END ---\n",
      "\n",
      "Note:\n",
      "- None\n",
      "...\n",
      "\n",
      "⭐ Top 43\n",
      "🔍 Score: 0.5098\n",
      "📘 Subject: AID301c - overview\n",
      "📄 Content Gốc: TYPE: overview\n",
      "Subject Code: AID301c\n",
      "Subject Name: AI in Production_Thiết kế sản phẩm TTNT\n",
      "Degree Level: Bachelor | Credits: 3 | Semester: 8\n",
      "Pre-requisites: SWE 201 c, AIL 303 m\n",
      "Scoring Scale: 10.0 | Min Avg Mark to Pass: 5.0\n",
      "Approved: True on 4/9/2025\n",
      "Subject Link: https://flm.fpt.edu.vn/gui/role/student/Syllabuses.aspx?sub Code=AID 301 c&curriculum ID=2347\n",
      "\n",
      "--- TIME ALLOCATION ---\n",
      "Study hour (150 h) = 50 h online + 3 h offline + 1 h final exam + 96 h self-study\n",
      "---TIME ALLOCATION END ---\n",
      "\n",
      "Note:\n",
      "- 1. Final Exam included Final Theory Exam (TE): 100%2. Students who complete all MOOCs before the course deadline will receive 1 bonus point; otherwise, no bonus point will be awarded.3.Completion Criteria: Final TE Score >=4 & (Final TE Score + bonus) >= 54. Complete the online courses and get all specialization certifications to be allowed to take the Final Exam\n",
      "...\n",
      "\n",
      "⭐ Top 44\n",
      "🔍 Score: 0.5092\n",
      "📘 Subject: EXE201 - overview\n",
      "📄 Content Gốc: TYPE: overview\n",
      "Subject Code: EXE201\n",
      "Subject Name: Experiential Entrepreneurship 2_Trải nghiệm khởi nghiệp 2\n",
      "Degree Level: Bachelor | Credits: 3 | Semester: 8\n",
      "Pre-requisites: EXE 101\n",
      "Scoring Scale: 10.0 | Min Avg Mark to Pass: 5.0\n",
      "Approved: True on 8/25/2023\n",
      "Subject Link: https://flm.fpt.edu.vn/gui/role/student/Syllabuses.aspx?sub Code=EXE 201&curriculum ID=2347\n",
      "\n",
      "--- TIME ALLOCATION ---\n",
      "Study hour (150 h) ='-Self-paced online learning: 15 hours- Learning face-to-face with an instructor: 10 sessions (1 session/week x 10 weeks; 2,25 hrs/session)- Guest speakers' Sharing - Seminars: 3 sessions (2,25 hrs/session)- Mentors' Mentoring: 2 (2,25 hr/session). 1-3 additional sessions can be set up depending on the necessity and on the mentor's avaibility.- 102 h self-study\n",
      "---TIME ALLOCATION END ---\n",
      "\n",
      "Note:\n",
      "- None\n",
      "...\n",
      "\n",
      "⭐ Top 45\n",
      "🔍 Score: 0.5060\n",
      "📘 Subject: JPD113 - overview\n",
      "📄 Content Gốc: TYPE: overview\n",
      "Subject Code: JPD113\n",
      "Subject Name: Elementary Japanese 1- A1.1_Tiếng Nhật sơ cấp 1-A1.1\n",
      "Degree Level: Cử nhân (bachelor) | Credits: 3 | Semester: 2\n",
      "Pre-requisites: Không\n",
      "Scoring Scale: 10.0 | Min Avg Mark to Pass: 5.0\n",
      "Approved: True on 4/9/2025\n",
      "Subject Link: https://flm.fpt.edu.vn/gui/role/student/Syllabuses.aspx?sub Code=JPD 113&curriculum ID=2347\n",
      "\n",
      "--- TIME ALLOCATION ---\n",
      "Thời gian học tập: 150 giờ Trong đó: 45 giờ trên lớp (20 sessions, mỗi session=135 p) +105 giờ tự học\n",
      "---TIME ALLOCATION END ---\n",
      "\n",
      "Note:\n",
      "- None\n",
      "...\n",
      "\n",
      "⭐ Top 46\n",
      "🔍 Score: 0.5042\n",
      "📘 Subject: DBI202 - overview\n",
      "📄 Content Gốc: TYPE: overview\n",
      "Subject Code: DBI202\n",
      "Subject Name: Database Systems_Các hệ cơ sở dữ liệu\n",
      "Degree Level: Bachelor | Credits: 3 | Semester: 2\n",
      "Pre-requisites: None\n",
      "Scoring Scale: 10.0 | Min Avg Mark to Pass: 5.0\n",
      "Approved: True on 11/22/2024\n",
      "Subject Link: https://flm.fpt.edu.vn/gui/role/student/Syllabus Details.aspx?sylid=12039\n",
      "\n",
      "--- TIME ALLOCATION ---\n",
      "Study hour (150 h) = 45 h contact hours + 1 h final exam + 85' practical exam + 104 h self-study\n",
      "---TIME ALLOCATION END ---\n",
      "\n",
      "Note:\n",
      "- None\n",
      "...\n",
      "\n",
      "⭐ Top 47\n",
      "🔍 Score: 0.5032\n",
      "📘 Subject: OJT202 - overview\n",
      "📄 Content Gốc: TYPE: overview\n",
      "Subject Code: OJT202\n",
      "Subject Name: On-The-Job Training_Đào tạo trong môi trường thực tế\n",
      "Degree Level: Bachelor | Credits: 10 | Semester: 6\n",
      "Pre-requisites: Students attained 90% of the total credits prior to the OJT term (excluding Physical Education and OTP Programs) Students choosing JS combo (Japanese Bridge Engineer) have to pass JPD 133\n",
      "Scoring Scale: 10.0 | Min Avg Mark to Pass: 5.0\n",
      "Approved: True on 12/6/2024\n",
      "Subject Link: https://flm.fpt.edu.vn/gui/role/student/Syllabuses.aspx?sub Code=OJT 202&curriculum ID=2347\n",
      "\n",
      "--- TIME ALLOCATION ---\n",
      "14 weeks (560 h)\n",
      "---TIME ALLOCATION END ---\n",
      "\n",
      "Note:\n",
      "- 1. For KS combo: Students have to study KOR 101 and KOR 201 at Fsoft.2. For JS combo: Students have to study JPD 134, JPD 216, and JPD 226 (or the courses of equivalent program) at Fsoft.3. Completion Criteria for KS combo & JS combo:- For KS combo: Pass KOR 101 and KOR 201 (GPA>=4)- For JS combo: Pass JPD 134, JPD 216, and JPD 226 (or the courses of equivalent program) (GPA>=4)\n",
      "...\n",
      "\n",
      "⭐ Top 48\n",
      "🔍 Score: 0.5028\n",
      "📘 Subject: PMG201c - overview\n",
      "📄 Content Gốc: TYPE: overview\n",
      "Subject Code: PMG201c\n",
      "Subject Name: Project Management\n",
      "Degree Level: Bachelor | Credits: 3 | Semester: 7\n",
      "Pre-requisites: None\n",
      "Scoring Scale: 10.0 | Min Avg Mark to Pass: 5.0\n",
      "Approved: True on 4/9/2025\n",
      "Subject Link: https://flm.fpt.edu.vn/gui/role/student/Syllabuses.aspx?sub Code=PMG 201 c&curriculum ID=2347\n",
      "\n",
      "--- TIME ALLOCATION ---\n",
      "Study hour (150 h) = 60 h online + 3 h offline + 1 h TE + 2 h PE + 84 h self-study\n",
      "---TIME ALLOCATION END ---\n",
      "\n",
      "Note:\n",
      "- 1. Complete the online course to be allowed to take Final Exam 2. Final Exam is included of Final Theory Exam (TE) & Final Practical Exam (PE): 100%3. Students who complete all MOOCs before the course deadline will receive 1 bonus point; otherwise, no bonus point will be awarded.4. Completion Criteria: Final TE Score >=4 & Final PE Score >=4 & FR >= 5(FR = min(10, (Final TE Score + Final PE Score)/2 + bonus)\n",
      "...\n",
      "\n",
      "⭐ Top 49\n",
      "🔍 Score: 0.5013\n",
      "📘 Subject: AIG202c - overview\n",
      "📄 Content Gốc: TYPE: overview\n",
      "Subject Code: AIG202c\n",
      "Subject Name: Artificial Intelligence_Trí tuệ nhân tạo\n",
      "Degree Level: Bachelor | Credits: 3 | Semester: 2\n",
      "Pre-requisites: None\n",
      "Scoring Scale: 10.0 | Min Avg Mark to Pass: 5.0\n",
      "Approved: True on 4/9/2025\n",
      "Subject Link: https://flm.fpt.edu.vn/gui/role/student/Syllabuses.aspx?sub Code=AIG 202 c&curriculum ID=2347\n",
      "\n",
      "--- TIME ALLOCATION ---\n",
      "Study hour (150 h) = 26 h online + 3 h offline + 1 h TE + 120 h self-study\n",
      "---TIME ALLOCATION END ---\n",
      "\n",
      "Note:\n",
      "- 1. Complete the online courses and get all specialization certifications to be allowed to take Final Exam 2. Final Exam included Final Theory Exam (TE): 100%3. Students who complete all MOOCs before the course deadline will receive 1 bonus point; otherwise, no bonus point will be awarded.4. Completion Criteria: Final TE Score >=4 & (Final TE Score + bonus) >= 5\n",
      "...\n",
      "\n",
      "⭐ Top 50\n",
      "🔍 Score: 0.4995\n",
      "📘 Subject: SSG104 - overview\n",
      "📄 Content Gốc: TYPE: overview\n",
      "Subject Code: SSG104\n",
      "Subject Name: Communication and In-Group Working Skills_Kỹ năng giao tiếp và cộng tác\n",
      "Degree Level: Bachelor | Credits: 3 | Semester: 4\n",
      "Pre-requisites: None\n",
      "Scoring Scale: 10.0 | Min Avg Mark to Pass: 5.0\n",
      "Approved: True on 8/16/2024\n",
      "Subject Link: https://flm.fpt.edu.vn/gui/role/student/Syllabuses.aspx?sub Code=SSG 104&curriculum ID=2347\n",
      "\n",
      "--- TIME ALLOCATION ---\n",
      "Study hour (150 h) = 45 contact hours (60 sessions) + 0.5 hour final exam + 104.5 hours self-study\n",
      "---TIME ALLOCATION END ---\n",
      "\n",
      "Note:\n",
      "- Progress marks:- 03 Activity: 15% (5% each activity)- 02 Group Assignment: 20% (10% each assignment)- 01 Participation: 10%- 01 Quiz: 5%- 01 Group Project: 30% (part 1: proposal, part 2: product, part 3: presentation/report; 10% each)- 01 Final exam: 20% Conditions to pass: Final exam >= 4 Grade Average >= 5/10\n",
      "...\n",
      "------------------------------------------\n",
      "[*] Gemini đang tổng hợp và trả lời...\n",
      "✨ Câu trả lời cuối cùng: Các môn học ở semester 5 bao gồm:\n",
      "\n",
      "*   **SEG301:** Search Engines (Công cụ tìm kiếm) - 3 tín chỉ\n",
      "*   **BDI302c:** Big Data (Dữ liệu lớn) - 3 tín chỉ\n",
      "*   **AIH301m:** AI in Healthcare (Ứng dụng TTNT trong chăm sóc sức khỏe) - 3 tín chỉ\n",
      "*   **ASR301c:** AI for Scientific Research (TTNT cho Nghiên cứu khoa học) - 3 tín chỉ\n",
      "*   **DSR301m:** Applied Data Science with R (Khoa học dữ liệu ứng dụng với R) - 3 tín chỉ\n"
     ]
    }
   ],
   "source": [
    "search('các môn học ở semester 5')"
   ]
  },
  {
   "cell_type": "code",
   "execution_count": null,
   "id": "8f6ae009",
   "metadata": {},
   "outputs": [],
   "source": []
  }
 ],
 "metadata": {
  "kernelspec": {
   "display_name": "Python 3",
   "language": "python",
   "name": "python3"
  },
  "language_info": {
   "codemirror_mode": {
    "name": "ipython",
    "version": 3
   },
   "file_extension": ".py",
   "mimetype": "text/x-python",
   "name": "python",
   "nbconvert_exporter": "python",
   "pygments_lexer": "ipython3",
   "version": "3.12.0"
  }
 },
 "nbformat": 4,
 "nbformat_minor": 5
}
