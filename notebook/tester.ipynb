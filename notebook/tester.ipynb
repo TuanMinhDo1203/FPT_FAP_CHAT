{
 "cells": [
  {
   "cell_type": "code",
   "execution_count": null,
   "id": "25089aac",
   "metadata": {},
   "outputs": [],
   "source": [
    "from dotenv import load_dotenv\n",
    "import os\n",
    "\n",
    "load_dotenv()\n",
    "qdrant_api_key = os.getenv(\"qdrant_api_key\")\n",
    "gemini_api_key = os.getenv(\"gemini_api_key\")\n",
    "mistal_api_key = os.getenv(\"mistal_api_key\")"
   ]
  },
  {
   "cell_type": "markdown",
   "id": "d057f9e2",
   "metadata": {},
   "source": [
    "# Load model embedding"
   ]
  },
  {
   "cell_type": "code",
   "execution_count": 1,
   "id": "977068e1",
   "metadata": {},
   "outputs": [],
   "source": [
    "\n",
    "import torch\n",
    "import tqdm\n",
    "\n",
    "\n",
    "from sentence_transformers import SentenceTransformer\n",
    "from tqdm import tqdm\n",
    "\n",
    "class BGEEmbedder:\n",
    "    def __init__(self, model_name=\"BAAI/bge-m3\"):\n",
    "        self.model = SentenceTransformer(model_name)\n",
    "        self.prefix = \"Represent this sentence for searching relevant passages: \"\n",
    "\n",
    "    def embed(self, texts, batch_size=16):\n",
    "        # BGE-M3 yêu cầu prefix cho truy vấn và văn bản\n",
    "        texts_with_prefix = [\n",
    "            text if text.startswith(self.prefix) else self.prefix + text\n",
    "            for text in texts\n",
    "        ]\n",
    "\n",
    "        # Dùng encode với batch size và normalize sẵn\n",
    "        embeddings = self.model.encode(\n",
    "            texts_with_prefix,\n",
    "            batch_size=batch_size,\n",
    "            normalize_embeddings=True,\n",
    "            show_progress_bar=True\n",
    "        )\n",
    "        return embeddings\n",
    "\n",
    "\n"
   ]
  },
  {
   "cell_type": "code",
   "execution_count": 2,
   "id": "37a11166",
   "metadata": {},
   "outputs": [],
   "source": [
    "# from sentence_transformers import SentenceTransformer\n",
    "\n",
    "# # Load model BGE-M3\n",
    "# model = SentenceTransformer(\"BAAI/bge-m3\")\n",
    "\n",
    "# def embed_fn(text: str):\n",
    "#     # BGE-M3 khuyến nghị prefix truy vấn bằng \"Represent this sentence for searching relevant passages:\"\n",
    "#     if not text.startswith(\"Represent\"):\n",
    "#         text = \"Represent this sentence for searching relevant passages: \" + text\n",
    "#     return model.encode(text, normalize_embeddings=True)\n"
   ]
  },
  {
   "cell_type": "markdown",
   "id": "d03c7161",
   "metadata": {},
   "source": [
    "# Gọi Qdrant vector DB"
   ]
  },
  {
   "cell_type": "code",
   "execution_count": null,
   "id": "14ef1b6c",
   "metadata": {},
   "outputs": [],
   "source": [
    "from qdrant_client import QdrantClient\n",
    "from qdrant_client.models import VectorParams, Distance\n",
    "from qdrant_client.models import Filter\n",
    "client = QdrantClient(\n",
    "    url=r\"https://0f47d391-b7c1-45d9-a956-5f7228cd80f3.europe-west3-0.gcp.cloud.qdrant.io:6333\",\n",
    "    api_key=qdrant_api_key,\n",
    "    prefer_grpc=False\n",
    ")\n",
    "# client = QdrantClient(\n",
    "#     host=\"localhost\",\n",
    "#     port=6333\n",
    "# )\n",
    "\n",
    "# client.recreate_collection(\n",
    "#     collection_name=\"flm_fap\",\n",
    "#     vectors_config=VectorParams(size=1024, distance=Distance.COSINE)\n",
    "# )\n",
    "# client.delete(\n",
    "#     collection_name=\"flm_fap\",\n",
    "#     points_selector=Filter(must=[])  # Xoá toàn bộ points\n",
    "# )\n"
   ]
  },
  {
   "cell_type": "code",
   "execution_count": 4,
   "id": "18247afb",
   "metadata": {},
   "outputs": [
    {
     "name": "stderr",
     "output_type": "stream",
     "text": [
      "c:\\Users\\DO TUAN MINH\\AppData\\Local\\Programs\\Python\\Python312\\Lib\\site-packages\\huggingface_hub\\file_download.py:795: FutureWarning: `resume_download` is deprecated and will be removed in version 1.0.0. Downloads always resume when possible. If you want to force a new download, use `force_download=True`.\n",
      "  warnings.warn(\n",
      "c:\\Users\\DO TUAN MINH\\AppData\\Local\\Programs\\Python\\Python312\\Lib\\site-packages\\huggingface_hub\\file_download.py:795: FutureWarning: `resume_download` is deprecated and will be removed in version 1.0.0. Downloads always resume when possible. If you want to force a new download, use `force_download=True`.\n",
      "  warnings.warn(\n"
     ]
    }
   ],
   "source": [
    "embedder = BGEEmbedder()  "
   ]
  },
  {
   "cell_type": "markdown",
   "id": "1230bfb1",
   "metadata": {},
   "source": [
    "# Demo search"
   ]
  },
  {
   "cell_type": "markdown",
   "id": "f79e1ec2",
   "metadata": {},
   "source": [
    "## Tạo subject map cho các môn học"
   ]
  },
  {
   "cell_type": "code",
   "execution_count": 5,
   "id": "1685bf4c",
   "metadata": {},
   "outputs": [
    {
     "data": {
      "application/vnd.jupyter.widget-view+json": {
       "model_id": "0fe4103aaf694d95a4d20754eaf18f57",
       "version_major": 2,
       "version_minor": 0
      },
      "text/plain": [
       "Batches:   0%|          | 0/1 [00:00<?, ?it/s]"
      ]
     },
     "metadata": {},
     "output_type": "display_data"
    },
    {
     "data": {
      "application/vnd.jupyter.widget-view+json": {
       "model_id": "a009250c61784368b13e99080ee89e88",
       "version_major": 2,
       "version_minor": 0
      },
      "text/plain": [
       "Batches:   0%|          | 0/1 [00:00<?, ?it/s]"
      ]
     },
     "metadata": {},
     "output_type": "display_data"
    },
    {
     "data": {
      "application/vnd.jupyter.widget-view+json": {
       "model_id": "ac3c7c1096094fa79d1706834bce0ad8",
       "version_major": 2,
       "version_minor": 0
      },
      "text/plain": [
       "Batches:   0%|          | 0/1 [00:00<?, ?it/s]"
      ]
     },
     "metadata": {},
     "output_type": "display_data"
    },
    {
     "data": {
      "application/vnd.jupyter.widget-view+json": {
       "model_id": "5a14c35000184b65870920f15a4c09dc",
       "version_major": 2,
       "version_minor": 0
      },
      "text/plain": [
       "Batches:   0%|          | 0/1 [00:00<?, ?it/s]"
      ]
     },
     "metadata": {},
     "output_type": "display_data"
    },
    {
     "data": {
      "application/vnd.jupyter.widget-view+json": {
       "model_id": "9e5985f2af964238900eb016f148f8b4",
       "version_major": 2,
       "version_minor": 0
      },
      "text/plain": [
       "Batches:   0%|          | 0/1 [00:00<?, ?it/s]"
      ]
     },
     "metadata": {},
     "output_type": "display_data"
    },
    {
     "data": {
      "application/vnd.jupyter.widget-view+json": {
       "model_id": "0c7f7c69fe0b4d2a83e0e73acf13ee80",
       "version_major": 2,
       "version_minor": 0
      },
      "text/plain": [
       "Batches:   0%|          | 0/1 [00:00<?, ?it/s]"
      ]
     },
     "metadata": {},
     "output_type": "display_data"
    },
    {
     "data": {
      "application/vnd.jupyter.widget-view+json": {
       "model_id": "551a10bb02f5428e9adf85ef219ac735",
       "version_major": 2,
       "version_minor": 0
      },
      "text/plain": [
       "Batches:   0%|          | 0/1 [00:00<?, ?it/s]"
      ]
     },
     "metadata": {},
     "output_type": "display_data"
    },
    {
     "data": {
      "application/vnd.jupyter.widget-view+json": {
       "model_id": "0dfa0418263642ae829a91e1991a9db3",
       "version_major": 2,
       "version_minor": 0
      },
      "text/plain": [
       "Batches:   0%|          | 0/1 [00:00<?, ?it/s]"
      ]
     },
     "metadata": {},
     "output_type": "display_data"
    },
    {
     "data": {
      "application/vnd.jupyter.widget-view+json": {
       "model_id": "8af4edd243b847b8bcca9addcce62e41",
       "version_major": 2,
       "version_minor": 0
      },
      "text/plain": [
       "Batches:   0%|          | 0/1 [00:00<?, ?it/s]"
      ]
     },
     "metadata": {},
     "output_type": "display_data"
    },
    {
     "data": {
      "application/vnd.jupyter.widget-view+json": {
       "model_id": "3ec667a850ba4a66b78c4b1d20db8c6c",
       "version_major": 2,
       "version_minor": 0
      },
      "text/plain": [
       "Batches:   0%|          | 0/1 [00:00<?, ?it/s]"
      ]
     },
     "metadata": {},
     "output_type": "display_data"
    },
    {
     "data": {
      "application/vnd.jupyter.widget-view+json": {
       "model_id": "c4de2b166c044269bed9d17d20f53c9f",
       "version_major": 2,
       "version_minor": 0
      },
      "text/plain": [
       "Batches:   0%|          | 0/1 [00:00<?, ?it/s]"
      ]
     },
     "metadata": {},
     "output_type": "display_data"
    },
    {
     "data": {
      "application/vnd.jupyter.widget-view+json": {
       "model_id": "805d4e6e66794d1fb9c89111ccfa54f8",
       "version_major": 2,
       "version_minor": 0
      },
      "text/plain": [
       "Batches:   0%|          | 0/1 [00:00<?, ?it/s]"
      ]
     },
     "metadata": {},
     "output_type": "display_data"
    },
    {
     "data": {
      "application/vnd.jupyter.widget-view+json": {
       "model_id": "0fe35f147a9b4eddbce867099b8f7d15",
       "version_major": 2,
       "version_minor": 0
      },
      "text/plain": [
       "Batches:   0%|          | 0/1 [00:00<?, ?it/s]"
      ]
     },
     "metadata": {},
     "output_type": "display_data"
    },
    {
     "data": {
      "application/vnd.jupyter.widget-view+json": {
       "model_id": "8c487d88d5d446358231f0aeb07811d2",
       "version_major": 2,
       "version_minor": 0
      },
      "text/plain": [
       "Batches:   0%|          | 0/1 [00:00<?, ?it/s]"
      ]
     },
     "metadata": {},
     "output_type": "display_data"
    },
    {
     "data": {
      "application/vnd.jupyter.widget-view+json": {
       "model_id": "dc8bcdc7136448aaa30a2564289d1e5f",
       "version_major": 2,
       "version_minor": 0
      },
      "text/plain": [
       "Batches:   0%|          | 0/1 [00:00<?, ?it/s]"
      ]
     },
     "metadata": {},
     "output_type": "display_data"
    },
    {
     "data": {
      "application/vnd.jupyter.widget-view+json": {
       "model_id": "155605616c9d41fe80f924d6d06b916e",
       "version_major": 2,
       "version_minor": 0
      },
      "text/plain": [
       "Batches:   0%|          | 0/1 [00:00<?, ?it/s]"
      ]
     },
     "metadata": {},
     "output_type": "display_data"
    },
    {
     "data": {
      "application/vnd.jupyter.widget-view+json": {
       "model_id": "c8e0f7291a5d466f84d3dcaf81e0b6a2",
       "version_major": 2,
       "version_minor": 0
      },
      "text/plain": [
       "Batches:   0%|          | 0/1 [00:00<?, ?it/s]"
      ]
     },
     "metadata": {},
     "output_type": "display_data"
    },
    {
     "data": {
      "application/vnd.jupyter.widget-view+json": {
       "model_id": "a06aeb161291413389ef3d7cc9efb048",
       "version_major": 2,
       "version_minor": 0
      },
      "text/plain": [
       "Batches:   0%|          | 0/1 [00:00<?, ?it/s]"
      ]
     },
     "metadata": {},
     "output_type": "display_data"
    },
    {
     "data": {
      "application/vnd.jupyter.widget-view+json": {
       "model_id": "941fe45e73b642bd821a3cd113347f88",
       "version_major": 2,
       "version_minor": 0
      },
      "text/plain": [
       "Batches:   0%|          | 0/1 [00:00<?, ?it/s]"
      ]
     },
     "metadata": {},
     "output_type": "display_data"
    },
    {
     "data": {
      "application/vnd.jupyter.widget-view+json": {
       "model_id": "4d024486bb8e4d379afba675063a6336",
       "version_major": 2,
       "version_minor": 0
      },
      "text/plain": [
       "Batches:   0%|          | 0/1 [00:00<?, ?it/s]"
      ]
     },
     "metadata": {},
     "output_type": "display_data"
    },
    {
     "data": {
      "application/vnd.jupyter.widget-view+json": {
       "model_id": "ee2e559bdb1944448c95903a1b893910",
       "version_major": 2,
       "version_minor": 0
      },
      "text/plain": [
       "Batches:   0%|          | 0/1 [00:00<?, ?it/s]"
      ]
     },
     "metadata": {},
     "output_type": "display_data"
    },
    {
     "data": {
      "application/vnd.jupyter.widget-view+json": {
       "model_id": "18b1ae9c442e4ba99923d037aa21485d",
       "version_major": 2,
       "version_minor": 0
      },
      "text/plain": [
       "Batches:   0%|          | 0/1 [00:00<?, ?it/s]"
      ]
     },
     "metadata": {},
     "output_type": "display_data"
    },
    {
     "data": {
      "application/vnd.jupyter.widget-view+json": {
       "model_id": "82f7e179e787446b8b6ce90b7f2332ef",
       "version_major": 2,
       "version_minor": 0
      },
      "text/plain": [
       "Batches:   0%|          | 0/1 [00:00<?, ?it/s]"
      ]
     },
     "metadata": {},
     "output_type": "display_data"
    },
    {
     "data": {
      "application/vnd.jupyter.widget-view+json": {
       "model_id": "8ecbe9c4ce4644909df56c3ad6b31064",
       "version_major": 2,
       "version_minor": 0
      },
      "text/plain": [
       "Batches:   0%|          | 0/1 [00:00<?, ?it/s]"
      ]
     },
     "metadata": {},
     "output_type": "display_data"
    },
    {
     "data": {
      "application/vnd.jupyter.widget-view+json": {
       "model_id": "189848b93cfb4bcd9dc53bd6d4cfea51",
       "version_major": 2,
       "version_minor": 0
      },
      "text/plain": [
       "Batches:   0%|          | 0/1 [00:00<?, ?it/s]"
      ]
     },
     "metadata": {},
     "output_type": "display_data"
    },
    {
     "data": {
      "application/vnd.jupyter.widget-view+json": {
       "model_id": "2838088a32c24d9998d6e05ab6b51881",
       "version_major": 2,
       "version_minor": 0
      },
      "text/plain": [
       "Batches:   0%|          | 0/1 [00:00<?, ?it/s]"
      ]
     },
     "metadata": {},
     "output_type": "display_data"
    },
    {
     "data": {
      "application/vnd.jupyter.widget-view+json": {
       "model_id": "3c9c75b0ef7b4726858b40eeabaf5d86",
       "version_major": 2,
       "version_minor": 0
      },
      "text/plain": [
       "Batches:   0%|          | 0/1 [00:00<?, ?it/s]"
      ]
     },
     "metadata": {},
     "output_type": "display_data"
    },
    {
     "data": {
      "application/vnd.jupyter.widget-view+json": {
       "model_id": "a98df33907d94149871d36392cf04f11",
       "version_major": 2,
       "version_minor": 0
      },
      "text/plain": [
       "Batches:   0%|          | 0/1 [00:00<?, ?it/s]"
      ]
     },
     "metadata": {},
     "output_type": "display_data"
    },
    {
     "data": {
      "application/vnd.jupyter.widget-view+json": {
       "model_id": "8d51960c4a4a4e16907f28e263dad55d",
       "version_major": 2,
       "version_minor": 0
      },
      "text/plain": [
       "Batches:   0%|          | 0/1 [00:00<?, ?it/s]"
      ]
     },
     "metadata": {},
     "output_type": "display_data"
    },
    {
     "data": {
      "application/vnd.jupyter.widget-view+json": {
       "model_id": "57781a9bad8a49339829c4b96f18dfaa",
       "version_major": 2,
       "version_minor": 0
      },
      "text/plain": [
       "Batches:   0%|          | 0/1 [00:00<?, ?it/s]"
      ]
     },
     "metadata": {},
     "output_type": "display_data"
    },
    {
     "data": {
      "application/vnd.jupyter.widget-view+json": {
       "model_id": "11e06673a6924725b0176b7ecf8067ad",
       "version_major": 2,
       "version_minor": 0
      },
      "text/plain": [
       "Batches:   0%|          | 0/1 [00:00<?, ?it/s]"
      ]
     },
     "metadata": {},
     "output_type": "display_data"
    },
    {
     "data": {
      "application/vnd.jupyter.widget-view+json": {
       "model_id": "2b4f5e91be0441bfbd53b9a81052a40f",
       "version_major": 2,
       "version_minor": 0
      },
      "text/plain": [
       "Batches:   0%|          | 0/1 [00:00<?, ?it/s]"
      ]
     },
     "metadata": {},
     "output_type": "display_data"
    },
    {
     "data": {
      "application/vnd.jupyter.widget-view+json": {
       "model_id": "8e69b8cd7b384849a674aa279b458962",
       "version_major": 2,
       "version_minor": 0
      },
      "text/plain": [
       "Batches:   0%|          | 0/1 [00:00<?, ?it/s]"
      ]
     },
     "metadata": {},
     "output_type": "display_data"
    },
    {
     "data": {
      "application/vnd.jupyter.widget-view+json": {
       "model_id": "3231402a787b44c9b3ef6614ef684cba",
       "version_major": 2,
       "version_minor": 0
      },
      "text/plain": [
       "Batches:   0%|          | 0/1 [00:00<?, ?it/s]"
      ]
     },
     "metadata": {},
     "output_type": "display_data"
    },
    {
     "data": {
      "application/vnd.jupyter.widget-view+json": {
       "model_id": "b992541623ea4d83883481ffe39e5a34",
       "version_major": 2,
       "version_minor": 0
      },
      "text/plain": [
       "Batches:   0%|          | 0/1 [00:00<?, ?it/s]"
      ]
     },
     "metadata": {},
     "output_type": "display_data"
    },
    {
     "data": {
      "application/vnd.jupyter.widget-view+json": {
       "model_id": "6217b80ecb8c46c98479901cf0fb2089",
       "version_major": 2,
       "version_minor": 0
      },
      "text/plain": [
       "Batches:   0%|          | 0/1 [00:00<?, ?it/s]"
      ]
     },
     "metadata": {},
     "output_type": "display_data"
    },
    {
     "data": {
      "application/vnd.jupyter.widget-view+json": {
       "model_id": "e3dceb5b17014fc3aacfd689b8bfaea0",
       "version_major": 2,
       "version_minor": 0
      },
      "text/plain": [
       "Batches:   0%|          | 0/1 [00:00<?, ?it/s]"
      ]
     },
     "metadata": {},
     "output_type": "display_data"
    },
    {
     "data": {
      "application/vnd.jupyter.widget-view+json": {
       "model_id": "ec38ffb867ce469aa8b45ad154eb9091",
       "version_major": 2,
       "version_minor": 0
      },
      "text/plain": [
       "Batches:   0%|          | 0/1 [00:00<?, ?it/s]"
      ]
     },
     "metadata": {},
     "output_type": "display_data"
    },
    {
     "data": {
      "application/vnd.jupyter.widget-view+json": {
       "model_id": "0de8f30f1ad54c36a3eb3b19cc7bbc8b",
       "version_major": 2,
       "version_minor": 0
      },
      "text/plain": [
       "Batches:   0%|          | 0/1 [00:00<?, ?it/s]"
      ]
     },
     "metadata": {},
     "output_type": "display_data"
    },
    {
     "data": {
      "application/vnd.jupyter.widget-view+json": {
       "model_id": "434460b991b1463eb3f5fa5e9e61cbb6",
       "version_major": 2,
       "version_minor": 0
      },
      "text/plain": [
       "Batches:   0%|          | 0/1 [00:00<?, ?it/s]"
      ]
     },
     "metadata": {},
     "output_type": "display_data"
    },
    {
     "data": {
      "application/vnd.jupyter.widget-view+json": {
       "model_id": "dd2c552964534152aa79fe84bad474fb",
       "version_major": 2,
       "version_minor": 0
      },
      "text/plain": [
       "Batches:   0%|          | 0/1 [00:00<?, ?it/s]"
      ]
     },
     "metadata": {},
     "output_type": "display_data"
    },
    {
     "data": {
      "application/vnd.jupyter.widget-view+json": {
       "model_id": "5f8963572c8f4f95bab0ec22c12649f3",
       "version_major": 2,
       "version_minor": 0
      },
      "text/plain": [
       "Batches:   0%|          | 0/1 [00:00<?, ?it/s]"
      ]
     },
     "metadata": {},
     "output_type": "display_data"
    },
    {
     "data": {
      "application/vnd.jupyter.widget-view+json": {
       "model_id": "edfce31703ea4fc6b12a390895c94184",
       "version_major": 2,
       "version_minor": 0
      },
      "text/plain": [
       "Batches:   0%|          | 0/1 [00:00<?, ?it/s]"
      ]
     },
     "metadata": {},
     "output_type": "display_data"
    },
    {
     "data": {
      "application/vnd.jupyter.widget-view+json": {
       "model_id": "f307a5e7d40944a69e94ed92b672639d",
       "version_major": 2,
       "version_minor": 0
      },
      "text/plain": [
       "Batches:   0%|          | 0/1 [00:00<?, ?it/s]"
      ]
     },
     "metadata": {},
     "output_type": "display_data"
    },
    {
     "data": {
      "application/vnd.jupyter.widget-view+json": {
       "model_id": "b71f8ac1eff14397802d0674401d5d54",
       "version_major": 2,
       "version_minor": 0
      },
      "text/plain": [
       "Batches:   0%|          | 0/1 [00:00<?, ?it/s]"
      ]
     },
     "metadata": {},
     "output_type": "display_data"
    },
    {
     "data": {
      "application/vnd.jupyter.widget-view+json": {
       "model_id": "d6f533b363cc449ab42afe74cd871efd",
       "version_major": 2,
       "version_minor": 0
      },
      "text/plain": [
       "Batches:   0%|          | 0/1 [00:00<?, ?it/s]"
      ]
     },
     "metadata": {},
     "output_type": "display_data"
    },
    {
     "data": {
      "application/vnd.jupyter.widget-view+json": {
       "model_id": "b398c12b162349db9c72f911c02fa0b6",
       "version_major": 2,
       "version_minor": 0
      },
      "text/plain": [
       "Batches:   0%|          | 0/1 [00:00<?, ?it/s]"
      ]
     },
     "metadata": {},
     "output_type": "display_data"
    },
    {
     "data": {
      "application/vnd.jupyter.widget-view+json": {
       "model_id": "6dd7c112c0294499b7867dd1a0c6d466",
       "version_major": 2,
       "version_minor": 0
      },
      "text/plain": [
       "Batches:   0%|          | 0/1 [00:00<?, ?it/s]"
      ]
     },
     "metadata": {},
     "output_type": "display_data"
    },
    {
     "data": {
      "application/vnd.jupyter.widget-view+json": {
       "model_id": "df92db576cdb45868ed7b18a1e5c85fc",
       "version_major": 2,
       "version_minor": 0
      },
      "text/plain": [
       "Batches:   0%|          | 0/1 [00:00<?, ?it/s]"
      ]
     },
     "metadata": {},
     "output_type": "display_data"
    },
    {
     "data": {
      "application/vnd.jupyter.widget-view+json": {
       "model_id": "352115f8551649adb80534a5d376662b",
       "version_major": 2,
       "version_minor": 0
      },
      "text/plain": [
       "Batches:   0%|          | 0/1 [00:00<?, ?it/s]"
      ]
     },
     "metadata": {},
     "output_type": "display_data"
    },
    {
     "data": {
      "application/vnd.jupyter.widget-view+json": {
       "model_id": "057bea7f0c09465ca3163aad679239e2",
       "version_major": 2,
       "version_minor": 0
      },
      "text/plain": [
       "Batches:   0%|          | 0/1 [00:00<?, ?it/s]"
      ]
     },
     "metadata": {},
     "output_type": "display_data"
    },
    {
     "data": {
      "application/vnd.jupyter.widget-view+json": {
       "model_id": "00ac208e08bd4389bbfcb5f1ea8e6e83",
       "version_major": 2,
       "version_minor": 0
      },
      "text/plain": [
       "Batches:   0%|          | 0/1 [00:00<?, ?it/s]"
      ]
     },
     "metadata": {},
     "output_type": "display_data"
    },
    {
     "data": {
      "application/vnd.jupyter.widget-view+json": {
       "model_id": "808f15dad5e34956aa29e90a8421a028",
       "version_major": 2,
       "version_minor": 0
      },
      "text/plain": [
       "Batches:   0%|          | 0/1 [00:00<?, ?it/s]"
      ]
     },
     "metadata": {},
     "output_type": "display_data"
    },
    {
     "data": {
      "application/vnd.jupyter.widget-view+json": {
       "model_id": "cc5d833a8211450e9f83e7eaca2088c5",
       "version_major": 2,
       "version_minor": 0
      },
      "text/plain": [
       "Batches:   0%|          | 0/1 [00:00<?, ?it/s]"
      ]
     },
     "metadata": {},
     "output_type": "display_data"
    },
    {
     "data": {
      "application/vnd.jupyter.widget-view+json": {
       "model_id": "f7e96faf0db64495ac4108eababcb3f2",
       "version_major": 2,
       "version_minor": 0
      },
      "text/plain": [
       "Batches:   0%|          | 0/1 [00:00<?, ?it/s]"
      ]
     },
     "metadata": {},
     "output_type": "display_data"
    },
    {
     "data": {
      "application/vnd.jupyter.widget-view+json": {
       "model_id": "ea8d685bf81e4dbe85219b5ed551b72a",
       "version_major": 2,
       "version_minor": 0
      },
      "text/plain": [
       "Batches:   0%|          | 0/1 [00:00<?, ?it/s]"
      ]
     },
     "metadata": {},
     "output_type": "display_data"
    },
    {
     "data": {
      "application/vnd.jupyter.widget-view+json": {
       "model_id": "ef8f88dbd0064e7c86f9384dbe8e1d7c",
       "version_major": 2,
       "version_minor": 0
      },
      "text/plain": [
       "Batches:   0%|          | 0/1 [00:00<?, ?it/s]"
      ]
     },
     "metadata": {},
     "output_type": "display_data"
    },
    {
     "data": {
      "application/vnd.jupyter.widget-view+json": {
       "model_id": "be69d57be1bd4d5db13c55e6bf652866",
       "version_major": 2,
       "version_minor": 0
      },
      "text/plain": [
       "Batches:   0%|          | 0/1 [00:00<?, ?it/s]"
      ]
     },
     "metadata": {},
     "output_type": "display_data"
    },
    {
     "data": {
      "application/vnd.jupyter.widget-view+json": {
       "model_id": "1eecac05b8c141be879de78873f69182",
       "version_major": 2,
       "version_minor": 0
      },
      "text/plain": [
       "Batches:   0%|          | 0/1 [00:00<?, ?it/s]"
      ]
     },
     "metadata": {},
     "output_type": "display_data"
    },
    {
     "data": {
      "application/vnd.jupyter.widget-view+json": {
       "model_id": "2d2b584760e74ed29da0d3c06d764d3c",
       "version_major": 2,
       "version_minor": 0
      },
      "text/plain": [
       "Batches:   0%|          | 0/1 [00:00<?, ?it/s]"
      ]
     },
     "metadata": {},
     "output_type": "display_data"
    },
    {
     "data": {
      "application/vnd.jupyter.widget-view+json": {
       "model_id": "b7808f5437e54636b00578a849fbf289",
       "version_major": 2,
       "version_minor": 0
      },
      "text/plain": [
       "Batches:   0%|          | 0/1 [00:00<?, ?it/s]"
      ]
     },
     "metadata": {},
     "output_type": "display_data"
    },
    {
     "data": {
      "application/vnd.jupyter.widget-view+json": {
       "model_id": "36cc3a68a43e43a28058cf8c1dbccee8",
       "version_major": 2,
       "version_minor": 0
      },
      "text/plain": [
       "Batches:   0%|          | 0/1 [00:00<?, ?it/s]"
      ]
     },
     "metadata": {},
     "output_type": "display_data"
    },
    {
     "data": {
      "application/vnd.jupyter.widget-view+json": {
       "model_id": "5a54b5394d0640f3ba99bada20c0330e",
       "version_major": 2,
       "version_minor": 0
      },
      "text/plain": [
       "Batches:   0%|          | 0/1 [00:00<?, ?it/s]"
      ]
     },
     "metadata": {},
     "output_type": "display_data"
    },
    {
     "data": {
      "application/vnd.jupyter.widget-view+json": {
       "model_id": "ff8ff834f294447db30359eff6ec90e5",
       "version_major": 2,
       "version_minor": 0
      },
      "text/plain": [
       "Batches:   0%|          | 0/1 [00:00<?, ?it/s]"
      ]
     },
     "metadata": {},
     "output_type": "display_data"
    },
    {
     "data": {
      "application/vnd.jupyter.widget-view+json": {
       "model_id": "5e7d7602293c4895b4198f0f5f220a62",
       "version_major": 2,
       "version_minor": 0
      },
      "text/plain": [
       "Batches:   0%|          | 0/1 [00:00<?, ?it/s]"
      ]
     },
     "metadata": {},
     "output_type": "display_data"
    },
    {
     "data": {
      "application/vnd.jupyter.widget-view+json": {
       "model_id": "f0900e3ea25b4aefb4eacce85f6704ba",
       "version_major": 2,
       "version_minor": 0
      },
      "text/plain": [
       "Batches:   0%|          | 0/1 [00:00<?, ?it/s]"
      ]
     },
     "metadata": {},
     "output_type": "display_data"
    },
    {
     "data": {
      "application/vnd.jupyter.widget-view+json": {
       "model_id": "2eaab0157d604cd4aaaf91fd0f072f06",
       "version_major": 2,
       "version_minor": 0
      },
      "text/plain": [
       "Batches:   0%|          | 0/1 [00:00<?, ?it/s]"
      ]
     },
     "metadata": {},
     "output_type": "display_data"
    },
    {
     "data": {
      "application/vnd.jupyter.widget-view+json": {
       "model_id": "9337c97dd943458c9f632c5228adc786",
       "version_major": 2,
       "version_minor": 0
      },
      "text/plain": [
       "Batches:   0%|          | 0/1 [00:00<?, ?it/s]"
      ]
     },
     "metadata": {},
     "output_type": "display_data"
    },
    {
     "data": {
      "application/vnd.jupyter.widget-view+json": {
       "model_id": "52a6a3269de14d498476a5f5d4a00819",
       "version_major": 2,
       "version_minor": 0
      },
      "text/plain": [
       "Batches:   0%|          | 0/1 [00:00<?, ?it/s]"
      ]
     },
     "metadata": {},
     "output_type": "display_data"
    },
    {
     "data": {
      "application/vnd.jupyter.widget-view+json": {
       "model_id": "456981e71ce44500aaa5409685731197",
       "version_major": 2,
       "version_minor": 0
      },
      "text/plain": [
       "Batches:   0%|          | 0/1 [00:00<?, ?it/s]"
      ]
     },
     "metadata": {},
     "output_type": "display_data"
    },
    {
     "data": {
      "application/vnd.jupyter.widget-view+json": {
       "model_id": "d2556e5d5d404d35a166afef2dc27f89",
       "version_major": 2,
       "version_minor": 0
      },
      "text/plain": [
       "Batches:   0%|          | 0/1 [00:00<?, ?it/s]"
      ]
     },
     "metadata": {},
     "output_type": "display_data"
    },
    {
     "data": {
      "application/vnd.jupyter.widget-view+json": {
       "model_id": "9bfb7f7b846d4954bfa0f6527dd33824",
       "version_major": 2,
       "version_minor": 0
      },
      "text/plain": [
       "Batches:   0%|          | 0/1 [00:00<?, ?it/s]"
      ]
     },
     "metadata": {},
     "output_type": "display_data"
    },
    {
     "data": {
      "application/vnd.jupyter.widget-view+json": {
       "model_id": "2869a720d02d4511a302b8c4aec3c894",
       "version_major": 2,
       "version_minor": 0
      },
      "text/plain": [
       "Batches:   0%|          | 0/1 [00:00<?, ?it/s]"
      ]
     },
     "metadata": {},
     "output_type": "display_data"
    }
   ],
   "source": [
    "import pandas as pd\n",
    "df_flm=pd.read_csv(r'D:\\Learn\\Semester_5\\SEG301\\Fap-Chat\\data\\DATA cố định\\FLM\\FINAL\\FINAL_DF_FLM.csv')\n",
    "subject_map = {\n",
    "    row[\"SubjectCode\"]: f\"{row[\"SubjectCode\"]} - {row[\"Subject Name\"]}\"\n",
    "    for _, row in df_flm[[\"SubjectCode\", \"Subject Name\"]].dropna().drop_duplicates().iterrows()\n",
    "}\n",
    "subject_embeddings = {\n",
    "    code: embedder.embed([name])[0]\n",
    "    for code, name in subject_map.items()\n",
    "}\n"
   ]
  },
  {
   "cell_type": "code",
   "execution_count": null,
   "id": "4c852f86",
   "metadata": {},
   "outputs": [
    {
     "data": {
      "text/plain": [
       "{'OTP101': 'OTP101 - Orientation and General Training Program_Định hướng và Rèn luyện tập trung',\n",
       " 'PEN': 'PEN - Preparation English_Tiếng Anh chuẩn bị',\n",
       " 'PHE_COM*1': 'PHE_COM*1 - Physical Education 1_Giáo dục thể chất 1',\n",
       " 'VOV114': 'VOV114 - Vovinam 1',\n",
       " 'COV111': 'COV111 - Cờ Vua 1_Chess 1',\n",
       " 'TMI_ELE': 'TMI_ELE - Traditional musical instrument_Nhạc cụ truyền thống',\n",
       " 'DTR103': 'DTR103 - Nhạc cụ truyền thống-Đàn Tranh',\n",
       " 'DBA103': 'DBA103 - Nhạc cụ truyền thống - Đàn Bầu',\n",
       " 'DSA103': 'DSA103 - Nhạc cụ truyền thống- Sáo trúc',\n",
       " 'DNG103': 'DNG103 - Nhạc cụ truyền thống-Đàn nguyệt',\n",
       " 'DTB103': 'DTB103 - Nhạc cụ truyền thống- Đàn Tỳ bà',\n",
       " 'TRG103': 'TRG103 - Nhạc cụ truyền thống -Trống dân tộc',\n",
       " 'DNH103': 'DNH103 - Nhạc cụ truyền thống- Đàn Nhị',\n",
       " 'CSI106': 'CSI106 - Introduction to Computer Science_Nhập môn khoa học máy tính',\n",
       " 'MAD101': 'MAD101 - Discrete mathematics_Toán rời rạc',\n",
       " 'MAE101': 'MAE101 - Mathematics for Engineering_Toán cho ngành kỹ thuật',\n",
       " 'PFP191': 'PFP191 - Programming Fundamentals with Python_Cơ sở lập trình với Python',\n",
       " 'PHE_COM*2': 'PHE_COM*2 - Physical Education 2_Giáo dục thể chất 2',\n",
       " 'VOV124': 'VOV124 - Vovinam 2',\n",
       " 'COV121': 'COV121 - Cờ Vua 2_Chess 2',\n",
       " 'SSL101c': 'SSL101c - Academic Skills for University Success_Kỹ năng học tập đại học',\n",
       " 'AIG202c': 'AIG202c - Artificial Intelligence_Trí tuệ nhân tạo',\n",
       " 'CEA201': 'CEA201 - Computer Organization and Architecture_Tổ chức và Kiến trúc máy tính',\n",
       " 'CSD203': 'CSD203 - Data Structures and Algorithm with Python_Cấu trúc dữ liệu và giải thuật với Python',\n",
       " 'DBI202-OLD': 'DBI202-OLD - Database Systems',\n",
       " 'DBI202': 'DBI202 - Database Systems_Các hệ cơ sở dữ liệu',\n",
       " 'JPD113': 'JPD113 - Elementary Japanese 1- A1.1_Tiếng Nhật sơ cấp 1-A1.1',\n",
       " 'PHE_COM*3': 'PHE_COM*3 - Physical Education 3_Giáo dục thể chất 3',\n",
       " 'VOV134': 'VOV134 - Vovinam 3',\n",
       " 'COV131': 'COV131 - Cờ Vua 3_Chess 3',\n",
       " 'ADY201m': 'ADY201m - AI, DS with Python & SQL_TTNT và KHDL với Python và SQL',\n",
       " 'ITE303c': 'ITE303c - Ethics in IT_Đạo đức trong CNTT',\n",
       " 'JPD123': 'JPD123 - Elementary Japanese 1-A1.2_Tiếng Nhật sơ cấp 1-A1.2',\n",
       " 'MAI391': 'MAI391 - Mathematics for Machine Learning_Toán cho học máy',\n",
       " 'MAS291': 'MAS291 - Statistics & Probability_Xác suất thống kê',\n",
       " 'AIL303m': 'AIL303m - Machine Learning_Học máy',\n",
       " 'CPV301': 'CPV301 - Computer Vision_Thị giác máy tính',\n",
       " 'DAP391m': 'DAP391m - AI-DS Project_Dự án TTNT-KHDL',\n",
       " 'SSG104': 'SSG104 - Communication and In-Group Working Skills_Kỹ năng giao tiếp và cộng tác',\n",
       " 'SWE201c': 'SWE201c - Introduction to Software Engineering_Nhập môn kĩ thuật phần mềm',\n",
       " 'AI17_COM*1': 'AI17_COM*1 - Subject 1 of Combo*_Học phần 1 của combo*',\n",
       " 'DSR301m': 'DSR301m - Applied Data Science with R - Khoa học dữ liệu ứng dụng với R',\n",
       " 'BDI302c': 'BDI302c - Big Data_Dữ liệu lớn',\n",
       " 'AIH301m': 'AIH301m - AI in Healthcare_Ứng dụng TTNT trong chăm sóc sức khỏe',\n",
       " 'ASR301c': 'ASR301c - AI for Scientific Research_TTNT cho Nghiên cứu khoa học',\n",
       " 'TMG301': 'TMG301 - Text Mining_Khai thác văn bản',\n",
       " 'SEG301': 'SEG301 - Search Engines_Công cụ tìm kiếm',\n",
       " 'AI17_COM*2': 'AI17_COM*2 - Subject 2 of Combo*_Học phần 2 của combo*',\n",
       " 'DPL302m': 'DPL302m - Deep Learning_Học sâu',\n",
       " 'DWP301c': 'DWP301c - Web Development with Python_Phát triển Web với Python',\n",
       " 'NLP301c': 'NLP301c - Natural Language Processing_Xử lý ngôn ngữ tự nhiên',\n",
       " 'OJT202': 'OJT202 - On-The-Job Training_Đào tạo trong môi trường thực tế',\n",
       " 'AI17_COM*3': 'AI17_COM*3 - Subject 3 of Combo*_Học phần 3 của combo*',\n",
       " 'DBM302m': 'DBM302m - Data Mining_Khai phá dữ liệu',\n",
       " 'AIM301m': 'AIM301m - AI for Medicine_Ứng dụng TTNT cho y học',\n",
       " 'DAT301m': 'DAT301m - AI Development with TensorFlow_Phát triển UDTTNT với TensorFlow',\n",
       " 'ENW493c': 'ENW493c - Research Methods & Academic Writing Skills_Phương pháp nghiên cứu & Kỹ năng viết học thuật',\n",
       " 'EXE101': 'EXE101 - Experiential Entrepreneurship 1_Trải nghiệm khởi nghiệp 1',\n",
       " 'PMG201c': 'PMG201c - Project Management',\n",
       " 'AI17_COM*4': 'AI17_COM*4 - Subject 4 of Combo*_Học phần 4 của combo*',\n",
       " 'DSP391m': 'DSP391m - Data Science - Capstone Project_Dự án KHDL',\n",
       " 'AIE301m': 'AIE301m - AI for Trading_Ứng dụng TTNT cho giao dịch',\n",
       " 'AID301c': 'AID301c - AI in Production_Thiết kế sản phẩm TTNT',\n",
       " 'EXE201': 'EXE201 - Experiential Entrepreneurship 2_Trải nghiệm khởi nghiệp 2',\n",
       " 'MLN111': 'MLN111 - Philosophy of Marxism – Leninism_Triết học Mác - Lê-nin',\n",
       " 'MLN122': 'MLN122 - Political economics of Marxism – Leninism_Kinh tế chính trị Mác - Lê-nin',\n",
       " 'REL301m': 'REL301m - Reinforcement Learning_Học tăng cường',\n",
       " 'AI17_GRA_ELE': 'AI17_GRA_ELE - Học phần lựa chọn Đồ án tốt nghiệp chuyên ngành Trí Tuệ Nhân Tạo',\n",
       " 'AIP491': 'AIP491 - AI Capstone Project_Đồ án tốt nghiệp TTNT',\n",
       " 'EXE401': 'EXE401 - Graduation Thesis Startup Project_Dự án khởi nghiệp tốt nghiệp',\n",
       " 'HCM202': 'HCM202 - HCM Ideology_Tư tưởng Hồ Chí Minh',\n",
       " 'MLN131': 'MLN131 - Scientific socialism_Chủ nghĩa xã hội khoa học',\n",
       " 'VNR202': 'VNR202 - History of CPV_Lịch sử Đảng Cộng sản Việt Nam'}"
      ]
     },
     "execution_count": 2,
     "metadata": {},
     "output_type": "execute_result"
    }
   ],
   "source": [
    "subject_map"
   ]
  },
  {
   "cell_type": "code",
   "execution_count": 6,
   "id": "c2067779",
   "metadata": {},
   "outputs": [],
   "source": [
    "# Xoá trong subject_map\n",
    "subject_map = {\n",
    "    k: v for k, v in subject_map.items()\n",
    "    if not k.startswith(\"PHE_COM\")\n",
    "}\n",
    "\n",
    "# Xoá trong embeddings\n",
    "subject_embeddings = {\n",
    "    k: v for k, v in subject_embeddings.items()\n",
    "    if not k.startswith(\"PHE_COM\")\n",
    "}\n",
    "# Xoá trong subject_map\n",
    "subject_map = {\n",
    "    k: v for k, v in subject_map.items()\n",
    "    if not k.startswith(\"AI17_COM\")\n",
    "}\n",
    "\n",
    "# Xoá trong embeddings\n",
    "subject_embeddings = {\n",
    "    k: v for k, v in subject_embeddings.items()\n",
    "    if not k.startswith(\"AI17_COM\")\n",
    "}\n",
    "# Xoá trong subject_map\n",
    "subject_map = {\n",
    "    k: v for k, v in subject_map.items()\n",
    "    if not k.startswith(\"AI17_GRA_ELE\")\n",
    "}\n",
    "\n",
    "# Xoá trong embeddings\n",
    "subject_embeddings = {\n",
    "    k: v for k, v in subject_embeddings.items()\n",
    "    if not k.startswith(\"AI17_GRA_ELE\")\n",
    "}\n"
   ]
  },
  {
   "cell_type": "code",
   "execution_count": 7,
   "id": "68f49e79",
   "metadata": {},
   "outputs": [
    {
     "data": {
      "text/plain": [
       "{'OTP101': 'OTP101 - Orientation and General Training Program_Định hướng và Rèn luyện tập trung',\n",
       " 'PEN': 'PEN - Preparation English_Tiếng Anh chuẩn bị',\n",
       " 'VOV114': 'VOV114 - Vovinam 1',\n",
       " 'COV111': 'COV111 - Cờ Vua 1_Chess 1',\n",
       " 'TMI_ELE': 'TMI_ELE - Traditional musical instrument_Nhạc cụ truyền thống',\n",
       " 'DTR103': 'DTR103 - Nhạc cụ truyền thống-Đàn Tranh',\n",
       " 'DBA103': 'DBA103 - Nhạc cụ truyền thống - Đàn Bầu',\n",
       " 'DSA103': 'DSA103 - Nhạc cụ truyền thống- Sáo trúc',\n",
       " 'DNG103': 'DNG103 - Nhạc cụ truyền thống-Đàn nguyệt',\n",
       " 'DTB103': 'DTB103 - Nhạc cụ truyền thống- Đàn Tỳ bà',\n",
       " 'TRG103': 'TRG103 - Nhạc cụ truyền thống -Trống dân tộc',\n",
       " 'DNH103': 'DNH103 - Nhạc cụ truyền thống- Đàn Nhị',\n",
       " 'CSI106': 'CSI106 - Introduction to Computer Science_Nhập môn khoa học máy tính',\n",
       " 'MAD101': 'MAD101 - Discrete mathematics_Toán rời rạc',\n",
       " 'MAE101': 'MAE101 - Mathematics for Engineering_Toán cho ngành kỹ thuật',\n",
       " 'PFP191': 'PFP191 - Programming Fundamentals with Python_Cơ sở lập trình với Python',\n",
       " 'VOV124': 'VOV124 - Vovinam 2',\n",
       " 'COV121': 'COV121 - Cờ Vua 2_Chess 2',\n",
       " 'SSL101c': 'SSL101c - Academic Skills for University Success_Kỹ năng học tập đại học',\n",
       " 'AIG202c': 'AIG202c - Artificial Intelligence_Trí tuệ nhân tạo',\n",
       " 'CEA201': 'CEA201 - Computer Organization and Architecture_Tổ chức và Kiến trúc máy tính',\n",
       " 'CSD203': 'CSD203 - Data Structures and Algorithm with Python_Cấu trúc dữ liệu và giải thuật với Python',\n",
       " 'DBI202-OLD': 'DBI202-OLD - Database Systems',\n",
       " 'DBI202': 'DBI202 - Database Systems_Các hệ cơ sở dữ liệu',\n",
       " 'JPD113': 'JPD113 - Elementary Japanese 1- A1.1_Tiếng Nhật sơ cấp 1-A1.1',\n",
       " 'VOV134': 'VOV134 - Vovinam 3',\n",
       " 'COV131': 'COV131 - Cờ Vua 3_Chess 3',\n",
       " 'ADY201m': 'ADY201m - AI, DS with Python & SQL_TTNT và KHDL với Python và SQL',\n",
       " 'ITE303c': 'ITE303c - Ethics in IT_Đạo đức trong CNTT',\n",
       " 'JPD123': 'JPD123 - Elementary Japanese 1-A1.2_Tiếng Nhật sơ cấp 1-A1.2',\n",
       " 'MAI391': 'MAI391 - Mathematics for Machine Learning_Toán cho học máy',\n",
       " 'MAS291': 'MAS291 - Statistics & Probability_Xác suất thống kê',\n",
       " 'AIL303m': 'AIL303m - Machine Learning_Học máy',\n",
       " 'CPV301': 'CPV301 - Computer Vision_Thị giác máy tính',\n",
       " 'DAP391m': 'DAP391m - AI-DS Project_Dự án TTNT-KHDL',\n",
       " 'SSG104': 'SSG104 - Communication and In-Group Working Skills_Kỹ năng giao tiếp và cộng tác',\n",
       " 'SWE201c': 'SWE201c - Introduction to Software Engineering_Nhập môn kĩ thuật phần mềm',\n",
       " 'DSR301m': 'DSR301m - Applied Data Science with R - Khoa học dữ liệu ứng dụng với R',\n",
       " 'BDI302c': 'BDI302c - Big Data_Dữ liệu lớn',\n",
       " 'AIH301m': 'AIH301m - AI in Healthcare_Ứng dụng TTNT trong chăm sóc sức khỏe',\n",
       " 'ASR301c': 'ASR301c - AI for Scientific Research_TTNT cho Nghiên cứu khoa học',\n",
       " 'TMG301': 'TMG301 - Text Mining_Khai thác văn bản',\n",
       " 'SEG301': 'SEG301 - Search Engines_Công cụ tìm kiếm',\n",
       " 'DPL302m': 'DPL302m - Deep Learning_Học sâu',\n",
       " 'DWP301c': 'DWP301c - Web Development with Python_Phát triển Web với Python',\n",
       " 'NLP301c': 'NLP301c - Natural Language Processing_Xử lý ngôn ngữ tự nhiên',\n",
       " 'OJT202': 'OJT202 - On-The-Job Training_Đào tạo trong môi trường thực tế',\n",
       " 'DBM302m': 'DBM302m - Data Mining_Khai phá dữ liệu',\n",
       " 'AIM301m': 'AIM301m - AI for Medicine_Ứng dụng TTNT cho y học',\n",
       " 'DAT301m': 'DAT301m - AI Development with TensorFlow_Phát triển UDTTNT với TensorFlow',\n",
       " 'ENW493c': 'ENW493c - Research Methods & Academic Writing Skills_Phương pháp nghiên cứu & Kỹ năng viết học thuật',\n",
       " 'EXE101': 'EXE101 - Experiential Entrepreneurship 1_Trải nghiệm khởi nghiệp 1',\n",
       " 'PMG201c': 'PMG201c - Project Management',\n",
       " 'DSP391m': 'DSP391m - Data Science - Capstone Project_Dự án KHDL',\n",
       " 'AIE301m': 'AIE301m - AI for Trading_Ứng dụng TTNT cho giao dịch',\n",
       " 'AID301c': 'AID301c - AI in Production_Thiết kế sản phẩm TTNT',\n",
       " 'EXE201': 'EXE201 - Experiential Entrepreneurship 2_Trải nghiệm khởi nghiệp 2',\n",
       " 'MLN111': 'MLN111 - Philosophy of Marxism – Leninism_Triết học Mác - Lê-nin',\n",
       " 'MLN122': 'MLN122 - Political economics of Marxism – Leninism_Kinh tế chính trị Mác - Lê-nin',\n",
       " 'REL301m': 'REL301m - Reinforcement Learning_Học tăng cường',\n",
       " 'AIP491': 'AIP491 - AI Capstone Project_Đồ án tốt nghiệp TTNT',\n",
       " 'EXE401': 'EXE401 - Graduation Thesis Startup Project_Dự án khởi nghiệp tốt nghiệp',\n",
       " 'HCM202': 'HCM202 - HCM Ideology_Tư tưởng Hồ Chí Minh',\n",
       " 'MLN131': 'MLN131 - Scientific socialism_Chủ nghĩa xã hội khoa học',\n",
       " 'VNR202': 'VNR202 - History of CPV_Lịch sử Đảng Cộng sản Việt Nam'}"
      ]
     },
     "execution_count": 7,
     "metadata": {},
     "output_type": "execute_result"
    }
   ],
   "source": [
    "subject_map"
   ]
  },
  {
   "cell_type": "markdown",
   "id": "210b3ab9",
   "metadata": {},
   "source": [
    "## Đây là hàm để chọn ra top các môn học liên quan dựa vào việc so sánh querry với các subject map mới tạo ở trên\n",
    "\n",
    "ae thấy có cái top_k là top các môn học nên trả ra"
   ]
  },
  {
   "cell_type": "code",
   "execution_count": 7,
   "id": "52d57fa4",
   "metadata": {},
   "outputs": [],
   "source": [
    "from numpy import dot\n",
    "from numpy.linalg import norm\n",
    "import heapq\n",
    "\n",
    "\n",
    "def detect_subject(query, top_k=2, threshold=0.7):\n",
    "    query_vec = embedder.embed([query])[0]\n",
    "    \n",
    "    sims = {\n",
    "        code: dot(query_vec, emb) / (norm(query_vec) * norm(emb))\n",
    "        for code, emb in subject_embeddings.items()\n",
    "    }\n",
    "\n",
    "    top_subjects = heapq.nlargest(top_k, sims.items(), key=lambda x: x[1])\n",
    "\n",
    "    # Chỉ giữ lại những cái vượt ngưỡng\n",
    "    top_subjects = [(code, score) for code, score in top_subjects if score >= threshold]\n",
    "\n",
    "    # Nếu không có gì đạt ngưỡng → trả về danh sách rỗng\n",
    "    return top_subjects\n",
    "\n"
   ]
  },
  {
   "cell_type": "markdown",
   "id": "ef5f9575",
   "metadata": {},
   "source": [
    "## Hàm dịch"
   ]
  },
  {
   "cell_type": "code",
   "execution_count": 8,
   "id": "dc1ad8dd",
   "metadata": {},
   "outputs": [
    {
     "name": "stderr",
     "output_type": "stream",
     "text": [
      "c:\\Users\\DO TUAN MINH\\AppData\\Local\\Programs\\Python\\Python312\\Lib\\site-packages\\huggingface_hub\\file_download.py:795: FutureWarning: `resume_download` is deprecated and will be removed in version 1.0.0. Downloads always resume when possible. If you want to force a new download, use `force_download=True`.\n",
      "  warnings.warn(\n"
     ]
    }
   ],
   "source": [
    "from deep_translator import GoogleTranslator\n",
    "\n",
    "def translate_vi_to_en_google(text):\n",
    "    return GoogleTranslator(source='vi', target='en').translate(text)\n",
    "\n",
    "from transformers import pipeline, AutoTokenizer, AutoModelForSeq2SeqLM\n",
    "\n",
    "# Load mô hình dịch\n",
    "model_id = \"facebook/nllb-200-distilled-600M\"\n",
    "tokenizer = AutoTokenizer.from_pretrained(model_id)\n",
    "model = AutoModelForSeq2SeqLM.from_pretrained(model_id)\n",
    "\n",
    "# Pipeline dịch offline\n",
    "translator = pipeline(\n",
    "    \"translation\",\n",
    "    model=model,\n",
    "    tokenizer=tokenizer,\n",
    "    src_lang=\"vie\",\n",
    "    tgt_lang=\"eng_Latn\",\n",
    "    max_length=512\n",
    ")\n",
    "\n",
    "def translate_vi_to_en_local(text):\n",
    "    result = translator(text)\n",
    "    return result[0]['translation_text']\n",
    "\n"
   ]
  },
  {
   "cell_type": "markdown",
   "id": "ef7ba2fd",
   "metadata": {},
   "source": [
    "## Type_map đây ae"
   ]
  },
  {
   "cell_type": "code",
   "execution_count": 81,
   "id": "f354e452",
   "metadata": {},
   "outputs": [
    {
     "data": {
      "application/vnd.jupyter.widget-view+json": {
       "model_id": "c7a40d4c1d3a443c8bfc8422ea2e6821",
       "version_major": 2,
       "version_minor": 0
      },
      "text/plain": [
       "Batches:   0%|          | 0/1 [00:00<?, ?it/s]"
      ]
     },
     "metadata": {},
     "output_type": "display_data"
    },
    {
     "data": {
      "application/vnd.jupyter.widget-view+json": {
       "model_id": "3d191434f4064c7c8c42f1e0fbba3bbb",
       "version_major": 2,
       "version_minor": 0
      },
      "text/plain": [
       "Batches:   0%|          | 0/1 [00:00<?, ?it/s]"
      ]
     },
     "metadata": {},
     "output_type": "display_data"
    },
    {
     "data": {
      "application/vnd.jupyter.widget-view+json": {
       "model_id": "1348a62423214233aec39720a11ddf7d",
       "version_major": 2,
       "version_minor": 0
      },
      "text/plain": [
       "Batches:   0%|          | 0/1 [00:00<?, ?it/s]"
      ]
     },
     "metadata": {},
     "output_type": "display_data"
    },
    {
     "data": {
      "application/vnd.jupyter.widget-view+json": {
       "model_id": "3f665df5831343a788e95bff974e7118",
       "version_major": 2,
       "version_minor": 0
      },
      "text/plain": [
       "Batches:   0%|          | 0/1 [00:00<?, ?it/s]"
      ]
     },
     "metadata": {},
     "output_type": "display_data"
    },
    {
     "data": {
      "application/vnd.jupyter.widget-view+json": {
       "model_id": "fec04e68b12c4bcba1bd6ce1a887d644",
       "version_major": 2,
       "version_minor": 0
      },
      "text/plain": [
       "Batches:   0%|          | 0/1 [00:00<?, ?it/s]"
      ]
     },
     "metadata": {},
     "output_type": "display_data"
    },
    {
     "data": {
      "application/vnd.jupyter.widget-view+json": {
       "model_id": "65512a1c28754513916f6bfd7845e4d9",
       "version_major": 2,
       "version_minor": 0
      },
      "text/plain": [
       "Batches:   0%|          | 0/1 [00:00<?, ?it/s]"
      ]
     },
     "metadata": {},
     "output_type": "display_data"
    },
    {
     "data": {
      "application/vnd.jupyter.widget-view+json": {
       "model_id": "042f9b366de84f9c95b00720f783779d",
       "version_major": 2,
       "version_minor": 0
      },
      "text/plain": [
       "Batches:   0%|          | 0/1 [00:00<?, ?it/s]"
      ]
     },
     "metadata": {},
     "output_type": "display_data"
    },
    {
     "data": {
      "application/vnd.jupyter.widget-view+json": {
       "model_id": "8f10863225534c21a3d7c23909aff4a2",
       "version_major": 2,
       "version_minor": 0
      },
      "text/plain": [
       "Batches:   0%|          | 0/1 [00:00<?, ?it/s]"
      ]
     },
     "metadata": {},
     "output_type": "display_data"
    },
    {
     "data": {
      "application/vnd.jupyter.widget-view+json": {
       "model_id": "b0e4d9400a834a678b6183db2f1df6ab",
       "version_major": 2,
       "version_minor": 0
      },
      "text/plain": [
       "Batches:   0%|          | 0/1 [00:00<?, ?it/s]"
      ]
     },
     "metadata": {},
     "output_type": "display_data"
    },
    {
     "data": {
      "application/vnd.jupyter.widget-view+json": {
       "model_id": "533ed374374a4e698a099899404d4798",
       "version_major": 2,
       "version_minor": 0
      },
      "text/plain": [
       "Batches:   0%|          | 0/1 [00:00<?, ?it/s]"
      ]
     },
     "metadata": {},
     "output_type": "display_data"
    },
    {
     "data": {
      "application/vnd.jupyter.widget-view+json": {
       "model_id": "32a5489a7b064b89b21abd15a39836fd",
       "version_major": 2,
       "version_minor": 0
      },
      "text/plain": [
       "Batches:   0%|          | 0/1 [00:00<?, ?it/s]"
      ]
     },
     "metadata": {},
     "output_type": "display_data"
    },
    {
     "data": {
      "application/vnd.jupyter.widget-view+json": {
       "model_id": "66c4a6d4fba342b1927220a66bb9256c",
       "version_major": 2,
       "version_minor": 0
      },
      "text/plain": [
       "Batches:   0%|          | 0/1 [00:00<?, ?it/s]"
      ]
     },
     "metadata": {},
     "output_type": "display_data"
    }
   ],
   "source": [
    "TYPE_DESCRIPTIONS = {\n",
    "    \"overview\": \"queries about which subjects match certain characteristics (e.g., taught in a specific semester, related to a topic, or general overviews of subject goals, credits, syllabus, or curriculum structure.\",\n",
    "    \"construtive_question\": \"thought-provoking questions that encourage critical thinking or reflection.\",\n",
    "    \"assessment\": \"evaluations, types of tests, exams, final exams (FE), progress exams (PE), term exams (TE), and grading weights.\",\n",
    "    \"session\": \"lecture sessions, lessons, and topics covered in each week or session.\",\n",
    "    \"material\": \"recommended textbooks, reference materials, lecture slides, readings, or other learning resources.\",\n",
    "    \"learning outcome\": \"expected knowledge, skills, or competencies students should gain after completing the course.\",\n",
    "    \"guide\": \"instructions or guidance for students on how to complete tasks, assignments, projects, or how to use certain tools or platforms.\",\n",
    "    \"student_list\": \"list of students enrolled in the course, including names, student IDs, and email addresses.\",\n",
    "    \"attendance\": \"records of student attendance per session, including presence or absence, date, room, and instructor.\",\n",
    "    \"grade detail\": \"detailed grade components, including evaluation item name, category, weight, and obtained score.\",\n",
    "    \"course summary\": \"final course summary including average score, status, and summary notes about course performance.\",\n",
    "    \"student profile\": \"personal profile of an unique student, including full name, student ID, email, program, and major.\"\n",
    "}\n",
    "\n",
    "TYPE_KEYWORDS = {\n",
    "    \"overview\": [\"overview\", \"objective\", \"goal\", \"credits\", \"semester\", \"prerequisite\", \"syllabus\", \"subject\", \"subjects\", 'general'],\n",
    "    \"construtive_question\": [\"why\", \"how\", \"what if\", \"critical\", \"discussion\", \"reflect\", \"ethical\", \"opinion\", \"thinking\"],\n",
    "    \"assessment\": [\"exam\", \"test\", \"quiz\", \"grading\", \"project\", \"evaluation\", \"score\", \"mark\", \"weight\", \"assessment\"],\n",
    "    \"session\": [\"week\", \"lesson\", \"lecture\", \"topic\", \"schedule\", \"session\", \"class\", \"timetable\"],\n",
    "    \"material\": [\"textbook\", \"slide\", \"document\", \"reading\", \"reference\", \"material\", \"resource\", \"book\", \"pdf\", \"file\"],\n",
    "    \"learning outcome\": [\"learn\", \"outcome\", \"skill\", \"competency\", \"ability\", \"achieve\", \"knowledge\", \"CLO\", \"LO\", \"learning outcome\"],\n",
    "    \"student_list\": [\"student\", \"name\", \"id\", \"mssv\", \"email\", \"class list\", \"enrolled\", \"danh sách sinh viên\", \"học sinh\", \"danh sách\"],\n",
    "    \"guide\": [\"how to\", \"instruction\", \"guide\", \"tutorial\", \"step\", \"steps\", \"do\", \"complete\", \"submit\", \"platform\", \"tool\", \"usage\", \"help\", \"assist\", \"support\", \"direction\"],\n",
    "    \"attendance\": [\"attendance\", \"present\", \"absent\", \"record\", \"check-in\", \"participation\", \"presence\", \"ca học\", \"phòng\", \"giảng viên\"],\n",
    "    \"grade detail\": [\"score\", \"mark\", \"value\", \"grade\", \"item\", \"category\", \"evaluation\", \"component\", \"trọng số\", \"điểm\"],\n",
    "    \"course summary\": [\"summarize\",\"summary\", \"average\", \"final\", \"result\", \"status\", \"performance\", \"overall\", \"total\", \"điểm trung bình\", \"kết quả\"],\n",
    "    \"student profile\": [\"student\", \"profile\", \"id\", \"name\", \"email\", \"program\", \"major\", \"class\", \"course\", \"personal\"]\n",
    "}\n",
    "\n",
    "\n",
    "\n",
    "type_embeddings = {\n",
    "    t: embedder.embed([desc])[0] for t, desc in TYPE_DESCRIPTIONS.items()\n",
    "}"
   ]
  },
  {
   "cell_type": "markdown",
   "id": "0d879d91",
   "metadata": {},
   "source": [
    "## Hàm chạy chính (ko có api GEMINI)"
   ]
  },
  {
   "cell_type": "code",
   "execution_count": 33,
   "id": "3abb35d4",
   "metadata": {},
   "outputs": [],
   "source": [
    "from numpy import dot\n",
    "from numpy.linalg import norm\n",
    "from collections import defaultdict\n",
    "import re\n",
    "# from rank_bm25 import BM25Okapi\n",
    "\n",
    "# # Tokenize mô tả\n",
    "# type_docs = [desc.lower().split() for desc in TYPE_DESCRIPTIONS.values()]\n",
    "# bm25 = BM25Okapi(type_docs)\n",
    "# type_list = list(TYPE_DESCRIPTIONS.keys())\n",
    "\n",
    "\n",
    "\n",
    "# # --- Step 0: Optional Translate Query (nếu cần)\n",
    "# query = \"tổng quan môn search engine\"\n",
    "\n",
    "# # Nếu có hàm dịch: query_en = translate_vi_to_en_nllb(query)\n",
    "# query_en = query  # nếu bạn không cần dịch hoặc đã là tiếng Anh\n",
    "\n",
    "# --- Step 1: Detect type bằng embedding\n",
    "# def detect_type_by_embedding(query_en):\n",
    "#     query_vec = embedder.embed([query_en])[0]\n",
    "#     sims = {\n",
    "#         t: dot(query_vec, vec) / (norm(query_vec) * norm(vec))\n",
    "#         for t, vec in type_embeddings.items()\n",
    "#     }\n",
    "#     print(sims)\n",
    "#     best_type = max(sims, key=sims.get)\n",
    "\n",
    "#     return best_type \n",
    "def detect_type_by_embedding(query_en, alpha=0.8, beta=0.2):\n",
    "    query_vec = embedder.embed([query_en])[0]\n",
    "    \n",
    "    # 1. Embedding similarity\n",
    "    sims = {\n",
    "        t: dot(query_vec, vec) / (norm(query_vec) * norm(vec))\n",
    "        for t, vec in type_embeddings.items()\n",
    "    }\n",
    "\n",
    "    # 2. Keyword score\n",
    "    keyword_scores = defaultdict(int)\n",
    "    query_lower = query_en.lower()\n",
    "    for t, keywords in TYPE_KEYWORDS.items():\n",
    "        for kw in keywords:\n",
    "            if re.search(rf\"\\b{re.escape(kw)}\\b\", query_lower):\n",
    "                keyword_scores[t] += 1\n",
    "\n",
    "    # 3. Normalize keyword scores\n",
    "    max_kw = max(keyword_scores.values(), default=1)\n",
    "    keyword_scores_norm = {\n",
    "        t: keyword_scores[t] / max_kw if max_kw > 0 else 0\n",
    "        for t in type_embeddings\n",
    "    }\n",
    "\n",
    "    # 4. Combine scores\n",
    "    final_scores = {\n",
    "        t: alpha * sims.get(t, 0) + beta * keyword_scores_norm.get(t, 0)\n",
    "        for t in type_embeddings\n",
    "    }\n",
    "\n",
    "    print(\"Similarity scores:\", sims)\n",
    "    print(\"Keyword scores:\", dict(keyword_scores))\n",
    "    print(\"Final combined scores:\", final_scores)\n",
    "\n",
    "    best_type = max(final_scores, key=final_scores.get)\n",
    "    return best_type\n",
    "# def detect_type_by_embedding(query_en, alpha=0.8, beta=0.2):\n",
    "#     # 1. Embedding similarity\n",
    "#     query_vec = embedder.embed([query_en])[0]\n",
    "#     sims = {\n",
    "#         t: dot(query_vec, vec) / (norm(query_vec) * norm(vec))\n",
    "#         for t, vec in type_embeddings.items()\n",
    "#     }\n",
    "\n",
    "#     # 2. BM25 keyword-based score\n",
    "#     query_tokens = query_en.lower().split()\n",
    "#     bm25_scores = bm25.get_scores(query_tokens)\n",
    "#     max_bm25 = max(bm25_scores) if max(bm25_scores) > 0 else 1\n",
    "#     bm25_scores_norm = {type_list[i]: bm25_scores[i] / max_bm25 for i in range(len(type_list))}\n",
    "\n",
    "#     # 3. Kết hợp\n",
    "#     final_scores = {\n",
    "#         t: alpha * sims.get(t, 0) + beta * bm25_scores_norm.get(t, 0)\n",
    "#         for t in type_list\n",
    "#     }\n",
    "\n",
    "#     print(\"Cosine scores:\", sims)\n",
    "#     print(\"BM25 scores:\", bm25_scores_norm)\n",
    "#     print(\"Combined scores:\", final_scores)\n",
    "\n",
    "#     best_type = max(final_scores, key=final_scores.get)\n",
    "#     return best_type\n",
    "\n",
    "# query_type = detect_type_by_embedding(query_en)\n",
    "\n",
    "\n",
    "# query = \"môn học được bonus point nhờ bài báo được accepted\"\n",
    "# query_en = query  # hoặc dùng translate nếu cần\n",
    "# query_en = translate_vi_to_en_google(query)\n",
    "def search_embedding(query=''):\n",
    "    \n",
    "    query_en = translate_vi_to_en_google(query)\n",
    "\n",
    "    print('I/--------------Querry sau khi dịch:---------------')\n",
    "    print(query_en)\n",
    "\n",
    "    print('II/--------------Xác định chủ đề của querry---------------')\n",
    "    detected_type = detect_type_by_embedding(query_en)\n",
    "    print('III/--------------Xác định môn học của querry (nếu có)---------------')\n",
    "    detected_subject = detect_subject(query_en)\n",
    "    \n",
    "    list_not_subject=['student_list','guide','student profile', 'attendance','course summary']\n",
    "    if detected_type in list_not_subject:\n",
    "        detected_subject=[]\n",
    "        query_vec = embedder.embed([query])[0]\n",
    "    else: \n",
    "        query_vec = embedder.embed([query_en])[0]\n",
    "\n",
    "    # query_vec = embedder.embed([query_en])[0]\n",
    "\n",
    "\n",
    "    # query_filter = {\"must\": []}\n",
    "    # if detected_type:\n",
    "    #     query_filter[\"must\"].append({\"key\": \"type\", \"match\": {\"value\": detected_type}})\n",
    "    # if detected_subject:\n",
    "    #     query_filter[\"must\"].append({\"key\": \"subject_code\", \"match\": {\"value\": detected_subject}})\n",
    "\n",
    "    query_filter = {\"should\": [], \"must\":[]}\n",
    "    if detected_type:\n",
    "        print(\"Loại detect được là:\")\n",
    "        print(detected_type)\n",
    "        query_filter[\"must\"].append({\"key\": \"type\", \"match\": {\"value\": detected_type}})\n",
    "    if detected_subject:\n",
    "        for subject_code in detected_subject:\n",
    "            print(subject_code[0])\n",
    "            query_filter[\"should\"].append({\n",
    "                \"key\": \"subject_code\",\n",
    "                \"match\": {\"value\": subject_code[0]}\n",
    "            })\n",
    "    \n",
    "    hits = client.search(\n",
    "        collection_name=\"FINAL\",\n",
    "        query_vector=query_vec.tolist(),\n",
    "        limit=10,\n",
    "        query_filter=query_filter if query_filter[\"must\"] or query_filter[\"should\"] else None\n",
    "    )\n",
    "    # print(\"\"\"⭐ Top 1\n",
    "    # 🔍 Score: 0.7008\n",
    "    # 📘 Subject: None - student_list\n",
    "    # 📄 Content:\n",
    "    # Họ và tên: Đỗ Tuấn Minh. Mã số sinh viên: DE190415. Email: tuanminhdo1203@gmail.com.\"\"\")\n",
    "\n",
    "    # --- Step 4: Hiển thị kết quả\n",
    "    for i, hit in enumerate(hits, 1):  # bắt đầu từ 1\n",
    "        print(f\"\\n⭐ Top {i}\")\n",
    "        print(f\"🔍 Score: {hit.score:.4f}\")\n",
    "        print(f\"📘 Subject: {hit.payload.get('subject_code')} - {hit.payload.get('type')}\")\n",
    "        print(f\"📄 Content:\\n{hit.payload.get('content')}\")\n",
    "        print(\"--------\")\n"
   ]
  },
  {
   "cell_type": "code",
   "execution_count": 39,
   "id": "80fa6b2b",
   "metadata": {},
   "outputs": [
    {
     "name": "stdout",
     "output_type": "stream",
     "text": [
      "I/--------------Querry sau khi dịch:---------------\n",
      "General about CPV\n",
      "II/--------------Xác định chủ đề của querry---------------\n"
     ]
    },
    {
     "data": {
      "application/vnd.jupyter.widget-view+json": {
       "model_id": "508be0d4ebe54b21a311c76ff7abfae1",
       "version_major": 2,
       "version_minor": 0
      },
      "text/plain": [
       "Batches:   0%|          | 0/1 [00:00<?, ?it/s]"
      ]
     },
     "metadata": {},
     "output_type": "display_data"
    },
    {
     "name": "stdout",
     "output_type": "stream",
     "text": [
      "Similarity scores: {'overview': 0.5990745, 'construtive_question': 0.5925197, 'assessment': 0.5958042, 'session': 0.6248232, 'material': 0.6507048, 'learning outcome': 0.54632723, 'guide': 0.58085966, 'student_list': 0.53178394, 'attendance': 0.5574317, 'grade detail': 0.60559034, 'course summary': 0.6181203, 'student profile': 0.5303377}\n",
      "Keyword scores: {'overview': 0, 'construtive_question': 0, 'assessment': 0, 'session': 0, 'material': 0, 'learning outcome': 0, 'guide': 0, 'student_list': 0, 'attendance': 0, 'grade detail': 0, 'course summary': 0, 'student profile': 0}\n",
      "Final combined scores: {'overview': 0.47925958633422855, 'construtive_question': 0.474015760421753, 'assessment': 0.4766433715820313, 'session': 0.49985857009887696, 'material': 0.5205638408660889, 'learning outcome': 0.43706178665161133, 'guide': 0.46468772888183596, 'student_list': 0.42542715072631837, 'attendance': 0.4459453582763672, 'grade detail': 0.48447227478027344, 'course summary': 0.4944962501525879, 'student profile': 0.4242701530456543}\n",
      "III/--------------Xác định môn học của querry (nếu có)---------------\n"
     ]
    },
    {
     "data": {
      "application/vnd.jupyter.widget-view+json": {
       "model_id": "c11fbaf7d2194f8eb6732aa02c4ed69e",
       "version_major": 2,
       "version_minor": 0
      },
      "text/plain": [
       "Batches:   0%|          | 0/1 [00:00<?, ?it/s]"
      ]
     },
     "metadata": {},
     "output_type": "display_data"
    },
    {
     "data": {
      "application/vnd.jupyter.widget-view+json": {
       "model_id": "27e3ac3a28de4b3aa3af747182f9c3c3",
       "version_major": 2,
       "version_minor": 0
      },
      "text/plain": [
       "Batches:   0%|          | 0/1 [00:00<?, ?it/s]"
      ]
     },
     "metadata": {},
     "output_type": "display_data"
    },
    {
     "name": "stdout",
     "output_type": "stream",
     "text": [
      "Loại detect được là:\n",
      "material\n",
      "VNR202\n",
      "CPV301\n"
     ]
    },
    {
     "name": "stderr",
     "output_type": "stream",
     "text": [
      "C:\\Users\\DO TUAN MINH\\AppData\\Local\\Temp\\ipykernel_6772\\1497093488.py:141: DeprecationWarning: `search` method is deprecated and will be removed in the future. Use `query_points` instead.\n",
      "  hits = client.search(\n"
     ]
    },
    {
     "name": "stdout",
     "output_type": "stream",
     "text": [
      "\n",
      "⭐ Top 1\n",
      "🔍 Score: 0.6740\n",
      "📘 Subject: CPV301 - material\n",
      "📄 Content:\n",
      "TYPE: material\n",
      "SubjectCode: CPV301\n",
      "Subject Name: Computer Vision_Thị giác máy tính\n",
      "MaterialDescription: Course slide\n",
      "Author: None\n",
      "Publisher: None\n",
      "PublishedDate: None\n",
      "Edition: None\n",
      "ISBN: None\n",
      "Note: None\n",
      "--------\n",
      "\n",
      "⭐ Top 2\n",
      "🔍 Score: 0.6675\n",
      "📘 Subject: VNR202 - material\n",
      "📄 Content:\n",
      "TYPE: material\n",
      "SubjectCode: VNR202\n",
      "Subject Name: History of CPV_Lịch sử Đảng Cộng sản Việt Nam\n",
      "MaterialDescription: Văn kiện Đại hội đại biểu toàn quốc lần thứ XIIPolitical report of the 13th Party Congress\n",
      "Author: Đảng Cộng sản Việt NamCommunist Party of Vietnam\n",
      "Publisher: Nhà xuất bản Chính trị quốc gia National Political Publishing House\n",
      "PublishedDate: 2016\n",
      "Edition: 1\n",
      "ISBN: None\n",
      "Note: None\n",
      "--------\n",
      "\n",
      "⭐ Top 3\n",
      "🔍 Score: 0.6652\n",
      "📘 Subject: VNR202 - material\n",
      "📄 Content:\n",
      "TYPE: material\n",
      "SubjectCode: VNR202\n",
      "Subject Name: History of CPV_Lịch sử Đảng Cộng sản Việt Nam\n",
      "MaterialDescription: Giáo trình Lịch sử Đảng Cộng sản Việt Nam (Dành cho sinh viên đại học, cao đẳng khối không chuyên ngành Mác – Lênin, tư tưởng Hồ Chí Minh)History of CPV textbook for students whose major is not Marxism-Leninism and Ho Chi Minh ideology\n",
      "Author: Bộ Giáo dục và Đào tạoMinistry of Education and Training\n",
      "Publisher: Nhà xuất bản Chính trị quốc gia sự thậtTruth National Political Publishing House\n",
      "PublishedDate: 2021\n",
      "Edition: 1\n",
      "ISBN: None\n",
      "Note: None\n",
      "--------\n",
      "\n",
      "⭐ Top 4\n",
      "🔍 Score: 0.6646\n",
      "📘 Subject: CPV301 - material\n",
      "📄 Content:\n",
      "TYPE: material\n",
      "SubjectCode: CPV301\n",
      "Subject Name: Computer Vision_Thị giác máy tính\n",
      "MaterialDescription: Labs & assignment\n",
      "Author: None\n",
      "Publisher: None\n",
      "PublishedDate: None\n",
      "Edition: None\n",
      "ISBN: None\n",
      "Note: None\n",
      "--------\n",
      "\n",
      "⭐ Top 5\n",
      "🔍 Score: 0.6640\n",
      "📘 Subject: VNR202 - material\n",
      "📄 Content:\n",
      "TYPE: material\n",
      "SubjectCode: VNR202\n",
      "Subject Name: History of CPV_Lịch sử Đảng Cộng sản Việt Nam\n",
      "MaterialDescription: Giáo trình Lịch sử Đảng Cộng sản Việt Nam (Dành cho sinh viên đại học, cao đẳng chuyên ngành Mác – Lênin, tư tưởng Hồ Chí Minh)History of CPV textbook for students whose major is Marxism-Leninism and Ho Chi Minh ideology\n",
      "Author: Bộ Giáo dục và Đào tạoMinistry of Education and Training\n",
      "Publisher: Nhà xuất bản Chính trị quốc gia sự thậtTruth National Political Publishing House\n",
      "PublishedDate: 2021\n",
      "Edition: 1\n",
      "ISBN: None\n",
      "Note: None\n",
      "--------\n",
      "\n",
      "⭐ Top 6\n",
      "🔍 Score: 0.6571\n",
      "📘 Subject: VNR202 - material\n",
      "📄 Content:\n",
      "TYPE: material\n",
      "SubjectCode: VNR202\n",
      "Subject Name: History of CPV_Lịch sử Đảng Cộng sản Việt Nam\n",
      "MaterialDescription: Lịch sử Đảng Cộng sản Việt Nam, tập 1History of the Communist Party of Vietnam, Vol. 1\n",
      "Author: Institute of History\n",
      "Publisher: Nhà xuất bản Chính trị quốc gia National Political Publishing House\n",
      "PublishedDate: 2018\n",
      "Edition: 1\n",
      "ISBN: None\n",
      "Note: None\n",
      "--------\n",
      "\n",
      "⭐ Top 7\n",
      "🔍 Score: 0.6553\n",
      "📘 Subject: VNR202 - material\n",
      "📄 Content:\n",
      "TYPE: material\n",
      "SubjectCode: VNR202\n",
      "Subject Name: History of CPV_Lịch sử Đảng Cộng sản Việt Nam\n",
      "MaterialDescription: Giáo trình Lịch sử Đảng Cộng sản Việt Nam (Dành cho sinh viên đại học, cao đẳng khối không chuyên ngành Mác – Lênin, tư tưởng Hồ Chí Minh) - Bản dự thảoHistory of CPV textbook for students whose major is not Marxism-Leninism and Ho Chi Minh ideology - Draft\n",
      "Author: Bộ Giáo dục và Đào tạoMinistry of Education and Training\n",
      "Publisher: Nhà xuất bản Chính trị quốc gia sự thậtTruth National Political Publishing House\n",
      "PublishedDate: 2019\n",
      "Edition: None\n",
      "ISBN: None\n",
      "Note: https://moet.gov.vn/van-ban/vbdh/Pages/chi-tiet-van-ban.aspx?ItemID=2729#divShowDialogDownload.\n",
      "--------\n",
      "\n",
      "⭐ Top 8\n",
      "🔍 Score: 0.6550\n",
      "📘 Subject: VNR202 - material\n",
      "📄 Content:\n",
      "TYPE: material\n",
      "SubjectCode: VNR202\n",
      "Subject Name: History of CPV_Lịch sử Đảng Cộng sản Việt Nam\n",
      "MaterialDescription: Báo cáo tổng kết một số vấn đề lý luận thực tiễn qua 30 năm đổi mớiThe final report on the summary of some theoretical-practical issues over the past 30 years of innovation\n",
      "Author: Đảng Cộng sản Việt Nam, Ban chấp hành Trung ương, Ban chỉ đạo tổng kếtCommunist Party of Vietnam, Central Committee of the Communist Party of Vietnam,National Steering Committee\n",
      "Publisher: Nhà xuất bản Chính trị quốc gia National Political Publishing House\n",
      "PublishedDate: 2015\n",
      "Edition: 1\n",
      "ISBN: None\n",
      "Note: None\n",
      "--------\n",
      "\n",
      "⭐ Top 9\n",
      "🔍 Score: 0.6362\n",
      "📘 Subject: VNR202 - material\n",
      "📄 Content:\n",
      "TYPE: material\n",
      "SubjectCode: VNR202\n",
      "Subject Name: History of CPV_Lịch sử Đảng Cộng sản Việt Nam\n",
      "MaterialDescription: Tài liệu giảng dạy về phòng, chống tham nhũng dùng cho các trường đại học, cao đẳng không chuyên về luật(Phê duyệt kèm theo Quyết định số 3468/QĐ-BGDĐT ngày 06 tháng 9 năm 2014 của Bộ trưởng Bộ Giáo dục và Đào tạo)\n",
      "Author: Chủ biên et al.\n",
      "Publisher: BỘ GIÁO DỤC VÀ ĐÀO TẠO\n",
      "PublishedDate: 2014\n",
      "Edition: None\n",
      "ISBN: None\n",
      "Note: https://drive.google.com/file/d/1Tf3Fyybs8puDEnp5JGw3zqezIfreh6H2/view?usp=sharing\n",
      "--------\n",
      "\n",
      "⭐ Top 10\n",
      "🔍 Score: 0.6298\n",
      "📘 Subject: VNR202 - material\n",
      "📄 Content:\n",
      "TYPE: material\n",
      "SubjectCode: VNR202\n",
      "Subject Name: History of CPV_Lịch sử Đảng Cộng sản Việt Nam\n",
      "MaterialDescription: Chiến tranh cách mạng Việt Nam 1945-1975, thắng lợi và bài họcVietnamese Revolutionary War, 1945–1975: Victory and Lessons\n",
      "Author: Ban chỉ đạo tổng kết chiến tranh trực thuộc Bộ chính trị\n",
      "Publisher: Nhà xuất bản Chính trị quốc gia National Political Publishing House\n",
      "PublishedDate: 2008\n",
      "Edition: 1\n",
      "ISBN: None\n",
      "Note: None\n",
      "--------\n"
     ]
    }
   ],
   "source": [
    "search_embedding(\"tổng quát về môn CPV\")"
   ]
  },
  {
   "cell_type": "code",
   "execution_count": 11,
   "id": "38b567ba",
   "metadata": {},
   "outputs": [],
   "source": [
    "def answer_query(query):\n",
    "    \"\"\"\n",
    "    Trả lời câu hỏi dựa trên kết quả từ hàm search_embedding(query).\n",
    "    \"\"\"\n",
    "    results = search_embedding(query)\n",
    "\n",
    "    if not results:\n",
    "        return \"Xin lỗi, tôi không tìm thấy thông tin phù hợp cho câu hỏi này.\"\n",
    "\n",
    "    # Nếu kết quả là list các dict với 'text' hoặc 'content'\n",
    "    if isinstance(results, list) and isinstance(results[0], dict):\n",
    "        top_results = results[:3]  # Lấy tối đa 3 đoạn liên quan nhất\n",
    "        answer = \"\\n\\n\".join([f\"- {res.get('text', res.get('content', str(res)))}\" for res in top_results])\n",
    "        return f\"Các thông tin phù hợp:\\n\\n{answer}\"\n",
    "\n",
    "    # Nếu kết quả là list string\n",
    "    elif isinstance(results, list) and isinstance(results[0], str):\n",
    "        top_results = results[:3]\n",
    "        answer = \"\\n\\n\".join([f\"- {res}\" for res in top_results])\n",
    "        return f\"Các thông tin phù hợp:\\n\\n{answer}\"\n",
    "\n",
    "    # Nếu kết quả là pandas DataFrame\n",
    "    elif hasattr(results, 'head'):\n",
    "        return f\"Dưới đây là kết quả tìm được:\\n{results.head(3).to_string(index=False)}\"\n",
    "\n",
    "    else:\n",
    "        return f\"Kết quả trả về:\\n{str(results)}\"\n"
   ]
  },
  {
   "cell_type": "code",
   "execution_count": null,
   "id": "b528748a",
   "metadata": {},
   "outputs": [
    {
     "name": "stdout",
     "output_type": "stream",
     "text": [
      "================================================================================\n",
      "Câu hỏi: Môn CSI106 dạy những gì vậy?\n",
      "I/--------------Querry sau khi dịch:---------------\n",
      "What does the CSI106 teach?\n",
      "II/--------------Xác định chủ đề của querry---------------\n"
     ]
    },
    {
     "data": {
      "application/vnd.jupyter.widget-view+json": {
       "model_id": "d521197cbd65415a950e5e3649e3529c",
       "version_major": 2,
       "version_minor": 0
      },
      "text/plain": [
       "Batches:   0%|          | 0/1 [00:00<?, ?it/s]"
      ]
     },
     "metadata": {},
     "output_type": "display_data"
    },
    {
     "name": "stdout",
     "output_type": "stream",
     "text": [
      "Similarity scores: {'overview': 0.49197784, 'construtive_question': 0.5045948, 'assessment': 0.49043027, 'session': 0.54013425, 'material': 0.5238789, 'learning outcome': 0.5235803, 'student_list': 0.5137727}\n",
      "Keyword scores: {'overview': 0, 'construtive_question': 0, 'assessment': 0, 'session': 0, 'material': 0, 'learning outcome': 0, 'student_list': 0}\n",
      "Final combined scores: {'overview': 0.3935822725296021, 'construtive_question': 0.4036758422851563, 'assessment': 0.3923442125320435, 'session': 0.43210740089416505, 'material': 0.4191030979156494, 'learning outcome': 0.41886425018310547, 'student_list': 0.411018180847168}\n",
      "III/--------------Xác định môn học của querry (nếu có)---------------\n"
     ]
    },
    {
     "data": {
      "application/vnd.jupyter.widget-view+json": {
       "model_id": "83bbd8de26ea4fd4b21f60e38169109b",
       "version_major": 2,
       "version_minor": 0
      },
      "text/plain": [
       "Batches:   0%|          | 0/1 [00:00<?, ?it/s]"
      ]
     },
     "metadata": {},
     "output_type": "display_data"
    },
    {
     "data": {
      "application/vnd.jupyter.widget-view+json": {
       "model_id": "8af29a86729f4c84a680982bcdeb320c",
       "version_major": 2,
       "version_minor": 0
      },
      "text/plain": [
       "Batches:   0%|          | 0/1 [00:00<?, ?it/s]"
      ]
     },
     "metadata": {},
     "output_type": "display_data"
    },
    {
     "name": "stdout",
     "output_type": "stream",
     "text": [
      "Loại detect được là:\n",
      "session\n",
      "CSI106\n"
     ]
    },
    {
     "name": "stderr",
     "output_type": "stream",
     "text": [
      "C:\\Users\\DO TUAN MINH\\AppData\\Local\\Temp\\ipykernel_15460\\1657362357.py:139: DeprecationWarning: `search` method is deprecated and will be removed in the future. Use `query_points` instead.\n",
      "  hits = client.search(\n"
     ]
    },
    {
     "name": "stdout",
     "output_type": "stream",
     "text": [
      "\n",
      "⭐ Top 1\n",
      "🔍 Score: 0.6719\n",
      "📘 Subject: CSI106 - session\n",
      "📄 Content:\n",
      "TYPE: session\n",
      "Subject: CSI106 - Introduction to Computer Science_Nhập môn khoa học máy tính\n",
      "Session: 12 | Lesson: None\n",
      "Topic: Introduction to presentation 1\n",
      "Learning Outcome: LO6\n",
      "--------\n",
      "\n",
      "⭐ Top 2\n",
      "🔍 Score: 0.6699\n",
      "📘 Subject: CSI106 - session\n",
      "📄 Content:\n",
      "TYPE: session\n",
      "Subject: CSI106 - Introduction to Computer Science_Nhập môn khoa học máy tính\n",
      "Session: 12 | Lesson: None\n",
      "Topic: Introduction to presentation 1\n",
      "Learning Outcome: LO10\n",
      "--------\n",
      "\n",
      "⭐ Top 3\n",
      "🔍 Score: 0.6691\n",
      "📘 Subject: CSI106 - session\n",
      "📄 Content:\n",
      "TYPE: session\n",
      "Subject: CSI106 - Introduction to Computer Science_Nhập môn khoa học máy tính\n",
      "Session: 12 | Lesson: None\n",
      "Topic: Introduction to presentation 1\n",
      "Learning Outcome: LO1\n",
      "--------\n",
      "\n",
      "⭐ Top 4\n",
      "🔍 Score: 0.6682\n",
      "📘 Subject: CSI106 - session\n",
      "📄 Content:\n",
      "TYPE: session\n",
      "Subject: CSI106 - Introduction to Computer Science_Nhập môn khoa học máy tính\n",
      "Session: 12 | Lesson: None\n",
      "Topic: Introduction to presentation 1\n",
      "Learning Outcome: LO7\n",
      "--------\n",
      "\n",
      "⭐ Top 5\n",
      "🔍 Score: 0.6680\n",
      "📘 Subject: CSI106 - session\n",
      "📄 Content:\n",
      "TYPE: session\n",
      "Subject: CSI106 - Introduction to Computer Science_Nhập môn khoa học máy tính\n",
      "Session: 12 | Lesson: None\n",
      "Topic: Introduction to presentation 1\n",
      "Learning Outcome: LO4\n",
      "--------\n",
      "\n",
      "⭐ Top 6\n",
      "🔍 Score: 0.6679\n",
      "📘 Subject: CSI106 - session\n",
      "📄 Content:\n",
      "TYPE: session\n",
      "Subject: CSI106 - Introduction to Computer Science_Nhập môn khoa học máy tính\n",
      "Session: 26 | Lesson: None\n",
      "Topic: 6.3 Algorithm representation6.4 Search Algorithms: linear, binary\n",
      "Learning Outcome: LO6\n",
      "--------\n",
      "\n",
      "⭐ Top 7\n",
      "🔍 Score: 0.6676\n",
      "📘 Subject: CSI106 - session\n",
      "📄 Content:\n",
      "TYPE: session\n",
      "Subject: CSI106 - Introduction to Computer Science_Nhập môn khoa học máy tính\n",
      "Session: 12 | Lesson: None\n",
      "Topic: Introduction to presentation 1\n",
      "Learning Outcome: LO9\n",
      "--------\n",
      "\n",
      "⭐ Top 8\n",
      "🔍 Score: 0.6675\n",
      "📘 Subject: CSI106 - session\n",
      "📄 Content:\n",
      "TYPE: session\n",
      "Subject: CSI106 - Introduction to Computer Science_Nhập môn khoa học máy tính\n",
      "Session: 12 | Lesson: None\n",
      "Topic: Introduction to presentation 1\n",
      "Learning Outcome: LO8\n",
      "--------\n",
      "\n",
      "⭐ Top 9\n",
      "🔍 Score: 0.6671\n",
      "📘 Subject: CSI106 - session\n",
      "📄 Content:\n",
      "TYPE: session\n",
      "Subject: CSI106 - Introduction to Computer Science_Nhập môn khoa học máy tính\n",
      "Session: 28 | Lesson: None\n",
      "Topic: Presentations 1\n",
      "Learning Outcome: LO6\n",
      "--------\n",
      "\n",
      "⭐ Top 10\n",
      "🔍 Score: 0.6664\n",
      "📘 Subject: CSI106 - session\n",
      "📄 Content:\n",
      "TYPE: session\n",
      "Subject: CSI106 - Introduction to Computer Science_Nhập môn khoa học máy tính\n",
      "Session: 12 | Lesson: None\n",
      "Topic: Introduction to presentation 1\n",
      "Learning Outcome: LO5\n",
      "--------\n",
      "Xin lỗi, tôi không tìm thấy thông tin phù hợp cho câu hỏi này.\n",
      "================================================================================\n",
      "Câu hỏi: Em cần mua sách gì cho môn MAT101?\n",
      "I/--------------Querry sau khi dịch:---------------\n",
      "What book should I buy for MAT101?\n",
      "II/--------------Xác định chủ đề của querry---------------\n"
     ]
    },
    {
     "data": {
      "application/vnd.jupyter.widget-view+json": {
       "model_id": "62c7d8f5d1b44c4a99407a2935b40ea4",
       "version_major": 2,
       "version_minor": 0
      },
      "text/plain": [
       "Batches:   0%|          | 0/1 [00:00<?, ?it/s]"
      ]
     },
     "metadata": {},
     "output_type": "display_data"
    },
    {
     "name": "stdout",
     "output_type": "stream",
     "text": [
      "Similarity scores: {'overview': 0.5619272, 'construtive_question': 0.61618775, 'assessment': 0.5894384, 'session': 0.6013224, 'material': 0.6909613, 'learning outcome': 0.5414208, 'student_list': 0.534024}\n",
      "Keyword scores: {'overview': 0, 'construtive_question': 0, 'assessment': 0, 'session': 0, 'material': 0, 'learning outcome': 0, 'student_list': 0}\n",
      "Final combined scores: {'overview': 0.4495417594909668, 'construtive_question': 0.4929502010345459, 'assessment': 0.47155070304870605, 'session': 0.4810579299926758, 'material': 0.5527690410614013, 'learning outcome': 0.4331366539001465, 'student_list': 0.4272192001342774}\n",
      "III/--------------Xác định môn học của querry (nếu có)---------------\n"
     ]
    },
    {
     "data": {
      "application/vnd.jupyter.widget-view+json": {
       "model_id": "11591a86186841a393c344cfb506f7e6",
       "version_major": 2,
       "version_minor": 0
      },
      "text/plain": [
       "Batches:   0%|          | 0/1 [00:00<?, ?it/s]"
      ]
     },
     "metadata": {},
     "output_type": "display_data"
    },
    {
     "data": {
      "application/vnd.jupyter.widget-view+json": {
       "model_id": "f9ccc0ce25c84076b1b64ac76d08f0b3",
       "version_major": 2,
       "version_minor": 0
      },
      "text/plain": [
       "Batches:   0%|          | 0/1 [00:00<?, ?it/s]"
      ]
     },
     "metadata": {},
     "output_type": "display_data"
    },
    {
     "name": "stdout",
     "output_type": "stream",
     "text": [
      "Loại detect được là:\n",
      "material\n",
      "MAI391\n",
      "\n",
      "⭐ Top 1\n",
      "🔍 Score: 0.6715\n",
      "📘 Subject: MAI391 - material\n",
      "📄 Content:\n",
      "TYPE: material\n",
      "SubjectCode: MAI391\n",
      "Subject Name: Mathematics for Machine Learning_Toán cho học máy\n",
      "MaterialDescription: PDF Slides\n",
      "Author: Instructors\n",
      "Publisher: None\n",
      "PublishedDate: None\n",
      "Edition: None\n",
      "ISBN: None\n",
      "Note: None\n",
      "--------\n",
      "\n",
      "⭐ Top 2\n",
      "🔍 Score: 0.6681\n",
      "📘 Subject: MAI391 - material\n",
      "📄 Content:\n",
      "TYPE: material\n",
      "SubjectCode: MAI391\n",
      "Subject Name: Mathematics for Machine Learning_Toán cho học máy\n",
      "MaterialDescription: Mathematics for Machine Learning\n",
      "Author: M. P. Deisenroth, A. Faisal, Ch. S. Ong\n",
      "Publisher: Cambrige Univeristy Press\n",
      "PublishedDate: 2020\n",
      "Edition: 1st\n",
      "ISBN: None\n",
      "Note: https://mml-book.github.io/?fbclid=IwAR2WAfBUZe-E6O-pbbGL3k6E7KngL8F9sbOqraZr9LD14PAnHw6Y_e-O6Q4\n",
      "--------\n",
      "\n",
      "⭐ Top 3\n",
      "🔍 Score: 0.6656\n",
      "📘 Subject: MAI391 - material\n",
      "📄 Content:\n",
      "TYPE: material\n",
      "SubjectCode: MAI391\n",
      "Subject Name: Mathematics for Machine Learning_Toán cho học máy\n",
      "MaterialDescription: Mathematics for machine learning\n",
      "Author: Mirror Neuron Chanel\n",
      "Publisher: None\n",
      "PublishedDate: None\n",
      "Edition: None\n",
      "ISBN: None\n",
      "Note: https://www.youtube.com/playlist?list=PLcQCwsZDEzFmlSc6levE3UV9rZ8yY-D_7\n",
      "--------\n",
      "\n",
      "⭐ Top 4\n",
      "🔍 Score: 0.6555\n",
      "📘 Subject: MAI391 - material\n",
      "📄 Content:\n",
      "TYPE: material\n",
      "SubjectCode: MAI391\n",
      "Subject Name: Mathematics for Machine Learning_Toán cho học máy\n",
      "MaterialDescription: Mathematics for machine Learning\n",
      "Author: Digital Learning Hub - Imperial College London Chanel\n",
      "Publisher: None\n",
      "PublishedDate: None\n",
      "Edition: None\n",
      "ISBN: None\n",
      "Note: https://www.youtube.com/channel/UCSzae1ITUdw9DCdELMduaQw/playlists\n",
      "--------\n",
      "\n",
      "⭐ Top 5\n",
      "🔍 Score: 0.6449\n",
      "📘 Subject: MAI391 - material\n",
      "📄 Content:\n",
      "TYPE: material\n",
      "SubjectCode: MAI391\n",
      "Subject Name: Mathematics for Machine Learning_Toán cho học máy\n",
      "MaterialDescription: Mathematics for Machine Learning\n",
      "Author: Cousera\n",
      "Publisher: None\n",
      "PublishedDate: None\n",
      "Edition: None\n",
      "ISBN: None\n",
      "Note: https://www.coursera.org/specializations/mathematics-machine-learning\n",
      "--------\n",
      "\n",
      "⭐ Top 6\n",
      "🔍 Score: 0.6428\n",
      "📘 Subject: MAI391 - material\n",
      "📄 Content:\n",
      "TYPE: material\n",
      "SubjectCode: MAI391\n",
      "Subject Name: Mathematics for Machine Learning_Toán cho học máy\n",
      "MaterialDescription: Machine Learning\n",
      "Author: Andrew Ng\n",
      "Publisher: Stanford Chanel\n",
      "PublishedDate: None\n",
      "Edition: None\n",
      "ISBN: None\n",
      "Note: https://www.youtube.com/watch?v=UzxYlbK2c7E&list=PLA89DCFA6ADACE599&index=1\n",
      "--------\n",
      "\n",
      "⭐ Top 7\n",
      "🔍 Score: 0.6371\n",
      "📘 Subject: MAI391 - material\n",
      "📄 Content:\n",
      "TYPE: material\n",
      "SubjectCode: MAI391\n",
      "Subject Name: Mathematics for Machine Learning_Toán cho học máy\n",
      "MaterialDescription: Machine Learning cơ bản\n",
      "Author: Vũ Hữu Tiệp\n",
      "Publisher: None\n",
      "PublishedDate: None\n",
      "Edition: None\n",
      "ISBN: None\n",
      "Note: https://github.com/tiepvupsu/ebookMLCB/blob/master/book_ML.pdf\n",
      "--------\n",
      "\n",
      "⭐ Top 8\n",
      "🔍 Score: 0.5972\n",
      "📘 Subject: MAI391 - material\n",
      "📄 Content:\n",
      "TYPE: material\n",
      "SubjectCode: MAI391\n",
      "Subject Name: Mathematics for Machine Learning_Toán cho học máy\n",
      "MaterialDescription: Multivariate Calculus\n",
      "Author: Denis Auroux\n",
      "Publisher: MIT OpenCourseWare\n",
      "PublishedDate: None\n",
      "Edition: None\n",
      "ISBN: None\n",
      "Note: https://ocw.mit.edu/courses/mathematics/18-02sc-multivariable-calculus-fall-2010/index.htm\n",
      "--------\n",
      "\n",
      "⭐ Top 9\n",
      "🔍 Score: 0.5894\n",
      "📘 Subject: MAI391 - material\n",
      "📄 Content:\n",
      "TYPE: material\n",
      "SubjectCode: MAI391\n",
      "Subject Name: Mathematics for Machine Learning_Toán cho học máy\n",
      "MaterialDescription: Linear Algebra Done Right\n",
      "Author: Sheldon Axler\n",
      "Publisher: Springer\n",
      "PublishedDate: 2015\n",
      "Edition: 3rd\n",
      "ISBN: None\n",
      "Note: None\n",
      "--------\n",
      "Xin lỗi, tôi không tìm thấy thông tin phù hợp cho câu hỏi này.\n",
      "================================================================================\n",
      "Câu hỏi: Môn CSI106 có học phần tiên quyết không?\n",
      "I/--------------Querry sau khi dịch:---------------\n",
      "Did the CSI106 learn the first part?\n",
      "II/--------------Xác định chủ đề của querry---------------\n"
     ]
    },
    {
     "data": {
      "application/vnd.jupyter.widget-view+json": {
       "model_id": "ad230c7bc02e40eb884afe61d30e02c9",
       "version_major": 2,
       "version_minor": 0
      },
      "text/plain": [
       "Batches:   0%|          | 0/1 [00:00<?, ?it/s]"
      ]
     },
     "metadata": {},
     "output_type": "display_data"
    },
    {
     "name": "stdout",
     "output_type": "stream",
     "text": [
      "Similarity scores: {'overview': 0.4191751, 'construtive_question': 0.48085168, 'assessment': 0.44141498, 'session': 0.48004767, 'material': 0.46459264, 'learning outcome': 0.47531152, 'student_list': 0.46457666}\n",
      "Keyword scores: {'learning outcome': 1, 'overview': 0, 'construtive_question': 0, 'assessment': 0, 'session': 0, 'material': 0, 'student_list': 0}\n",
      "Final combined scores: {'overview': 0.33534007072448735, 'construtive_question': 0.3846813440322876, 'assessment': 0.3531319856643677, 'session': 0.38403813838958745, 'material': 0.37167410850524907, 'learning outcome': 0.5802492141723633, 'student_list': 0.3716613292694092}\n",
      "III/--------------Xác định môn học của querry (nếu có)---------------\n"
     ]
    },
    {
     "data": {
      "application/vnd.jupyter.widget-view+json": {
       "model_id": "8bba74476a2242848835d93afa9e6314",
       "version_major": 2,
       "version_minor": 0
      },
      "text/plain": [
       "Batches:   0%|          | 0/1 [00:00<?, ?it/s]"
      ]
     },
     "metadata": {},
     "output_type": "display_data"
    },
    {
     "data": {
      "application/vnd.jupyter.widget-view+json": {
       "model_id": "378a9c5e21764bce8f4555a614d64514",
       "version_major": 2,
       "version_minor": 0
      },
      "text/plain": [
       "Batches:   0%|          | 0/1 [00:00<?, ?it/s]"
      ]
     },
     "metadata": {},
     "output_type": "display_data"
    },
    {
     "name": "stdout",
     "output_type": "stream",
     "text": [
      "Loại detect được là:\n",
      "learning outcome\n",
      "\n",
      "⭐ Top 1\n",
      "🔍 Score: 0.6289\n",
      "📘 Subject: CSI106 - learning outcome\n",
      "📄 Content:\n",
      "TYPE: learning outcome\n",
      "SubjectCode: CSI106\n",
      "Subject Name: Introduction to Computer Science_Nhập môn khoa học máy tính\n",
      "CLO Name: 1\n",
      "CLO Details: CLO1\n",
      "LO Details: Understand the subsystems of a computer and describe the role of these components\n",
      "--------\n",
      "\n",
      "⭐ Top 2\n",
      "🔍 Score: 0.6042\n",
      "📘 Subject: CSI106 - learning outcome\n",
      "📄 Content:\n",
      "TYPE: learning outcome\n",
      "SubjectCode: CSI106\n",
      "Subject Name: Introduction to Computer Science_Nhập môn khoa học máy tính\n",
      "CLO Name: 5\n",
      "CLO Details: CLO13\n",
      "LO Details: Describe artificial intelligence and its basic concepts\n",
      "--------\n",
      "\n",
      "⭐ Top 3\n",
      "🔍 Score: 0.6021\n",
      "📘 Subject: CSI106 - learning outcome\n",
      "📄 Content:\n",
      "TYPE: learning outcome\n",
      "SubjectCode: CSI106\n",
      "Subject Name: Introduction to Computer Science_Nhập môn khoa học máy tính\n",
      "CLO Name: 13\n",
      "CLO Details: CLO9\n",
      "LO Details: Discuss some data structures: Array, Records, Linked list\n",
      "--------\n",
      "\n",
      "⭐ Top 4\n",
      "🔍 Score: 0.6000\n",
      "📘 Subject: CSI106 - learning outcome\n",
      "📄 Content:\n",
      "TYPE: learning outcome\n",
      "SubjectCode: CSI106\n",
      "Subject Name: Introduction to Computer Science_Nhập môn khoa học máy tính\n",
      "CLO Name: 4\n",
      "CLO Details: CLO12\n",
      "LO Details: Descibe security goals and discuss ethical issues\n",
      "--------\n",
      "\n",
      "⭐ Top 5\n",
      "🔍 Score: 0.5911\n",
      "📘 Subject: CSI106 - learning outcome\n",
      "📄 Content:\n",
      "TYPE: learning outcome\n",
      "SubjectCode: CSI106\n",
      "Subject Name: Introduction to Computer Science_Nhập môn khoa học máy tính\n",
      "CLO Name: 6\n",
      "CLO Details: CLO2\n",
      "LO Details: Know how to convert a number from one base to other base( decimal, binary, octal and hexadecimal)\n",
      "--------\n",
      "\n",
      "⭐ Top 6\n",
      "🔍 Score: 0.5886\n",
      "📘 Subject: CSI106 - learning outcome\n",
      "📄 Content:\n",
      "TYPE: learning outcome\n",
      "SubjectCode: CSI106\n",
      "Subject Name: Introduction to Computer Science_Nhập môn khoa học máy tính\n",
      "CLO Name: 9\n",
      "CLO Details: CLO5\n",
      "LO Details: Undestand the role of OS in a computer system\n",
      "--------\n",
      "\n",
      "⭐ Top 7\n",
      "🔍 Score: 0.5871\n",
      "📘 Subject: CSI106 - learning outcome\n",
      "📄 Content:\n",
      "TYPE: learning outcome\n",
      "SubjectCode: CSI106\n",
      "Subject Name: Introduction to Computer Science_Nhập môn khoa học máy tính\n",
      "CLO Name: 12\n",
      "CLO Details: CLO8\n",
      "LO Details: Describe the software lifecycle\n",
      "--------\n",
      "\n",
      "⭐ Top 8\n",
      "🔍 Score: 0.5764\n",
      "📘 Subject: CSI106 - learning outcome\n",
      "📄 Content:\n",
      "TYPE: learning outcome\n",
      "SubjectCode: CSI106\n",
      "Subject Name: Introduction to Computer Science_Nhập môn khoa học máy tính\n",
      "CLO Name: 11\n",
      "CLO Details: CLO7\n",
      "LO Details: Explain how a program in a high-level language is translated into machine language\n",
      "--------\n",
      "\n",
      "⭐ Top 9\n",
      "🔍 Score: 0.5744\n",
      "📘 Subject: CSI106 - learning outcome\n",
      "📄 Content:\n",
      "TYPE: learning outcome\n",
      "SubjectCode: CSI106\n",
      "Subject Name: Introduction to Computer Science_Nhập môn khoa học máy tính\n",
      "CLO Name: 3\n",
      "CLO Details: CLO11\n",
      "LO Details: Describe and explain operations within a relational database\n",
      "--------\n",
      "\n",
      "⭐ Top 10\n",
      "🔍 Score: 0.5722\n",
      "📘 Subject: CSI106 - learning outcome\n",
      "📄 Content:\n",
      "TYPE: learning outcome\n",
      "SubjectCode: CSI106\n",
      "Subject Name: Introduction to Computer Science_Nhập môn khoa học máy tính\n",
      "CLO Name: 8\n",
      "CLO Details: CLO4\n",
      "LO Details: Describe the layers in netwoking and their relationship\n",
      "--------\n",
      "Xin lỗi, tôi không tìm thấy thông tin phù hợp cho câu hỏi này.\n",
      "================================================================================\n",
      "Câu hỏi: Môn MAT101 có phải thi cuối kỳ không?\n",
      "I/--------------Querry sau khi dịch:---------------\n",
      "Is the MAT101 the last of the series?\n",
      "II/--------------Xác định chủ đề của querry---------------\n"
     ]
    },
    {
     "data": {
      "application/vnd.jupyter.widget-view+json": {
       "model_id": "69e930f02c4f4a1c80ac33549200958d",
       "version_major": 2,
       "version_minor": 0
      },
      "text/plain": [
       "Batches:   0%|          | 0/1 [00:00<?, ?it/s]"
      ]
     },
     "metadata": {},
     "output_type": "display_data"
    },
    {
     "name": "stdout",
     "output_type": "stream",
     "text": [
      "Similarity scores: {'overview': 0.42015234, 'construtive_question': 0.47710824, 'assessment': 0.4851138, 'session': 0.48909706, 'material': 0.49795488, 'learning outcome': 0.44334316, 'student_list': 0.45071533}\n",
      "Keyword scores: {'overview': 0, 'construtive_question': 0, 'assessment': 0, 'session': 0, 'material': 0, 'learning outcome': 0, 'student_list': 0}\n",
      "Final combined scores: {'overview': 0.33612186908721925, 'construtive_question': 0.3816865921020508, 'assessment': 0.3880910396575928, 'session': 0.39127764701843265, 'material': 0.39836390018463136, 'learning outcome': 0.3546745300292969, 'student_list': 0.36057226657867436}\n",
      "III/--------------Xác định môn học của querry (nếu có)---------------\n"
     ]
    },
    {
     "data": {
      "application/vnd.jupyter.widget-view+json": {
       "model_id": "a0d73d13e1da43e7bfbad6e14fbd6d74",
       "version_major": 2,
       "version_minor": 0
      },
      "text/plain": [
       "Batches:   0%|          | 0/1 [00:00<?, ?it/s]"
      ]
     },
     "metadata": {},
     "output_type": "display_data"
    },
    {
     "data": {
      "application/vnd.jupyter.widget-view+json": {
       "model_id": "545eb1d67cd447df8ea001bed3023268",
       "version_major": 2,
       "version_minor": 0
      },
      "text/plain": [
       "Batches:   0%|          | 0/1 [00:00<?, ?it/s]"
      ]
     },
     "metadata": {},
     "output_type": "display_data"
    },
    {
     "name": "stdout",
     "output_type": "stream",
     "text": [
      "Loại detect được là:\n",
      "material\n",
      "\n",
      "⭐ Top 1\n",
      "🔍 Score: 0.5554\n",
      "📘 Subject: MAE101 - material\n",
      "📄 Content:\n",
      "TYPE: material\n",
      "SubjectCode: MAE101\n",
      "Subject Name: Mathematics for Engineering_Toán cho ngành kỹ thuật\n",
      "MaterialDescription: powerpoint in CD + Powerpoint prepared by previous lecturers (PP).\n",
      "Author: None\n",
      "Publisher: None\n",
      "PublishedDate: None\n",
      "Edition: None\n",
      "ISBN: None\n",
      "Note: None\n",
      "--------\n",
      "\n",
      "⭐ Top 2\n",
      "🔍 Score: 0.5552\n",
      "📘 Subject: MAD101 - material\n",
      "📄 Content:\n",
      "TYPE: material\n",
      "SubjectCode: MAD101\n",
      "Subject Name: Discrete mathematics_Toán rời rạc\n",
      "MaterialDescription: Testbank for ST1\n",
      "Author: None\n",
      "Publisher: None\n",
      "PublishedDate: None\n",
      "Edition: None\n",
      "ISBN: None\n",
      "Note: None\n",
      "--------\n",
      "\n",
      "⭐ Top 3\n",
      "🔍 Score: 0.5533\n",
      "📘 Subject: MAE101 - material\n",
      "📄 Content:\n",
      "TYPE: material\n",
      "SubjectCode: MAE101\n",
      "Subject Name: Mathematics for Engineering_Toán cho ngành kỹ thuật\n",
      "MaterialDescription: Computerized tools (for example Maxima http://maxima.sourceforge.net/) (CT)\n",
      "Author: None\n",
      "Publisher: None\n",
      "PublishedDate: None\n",
      "Edition: None\n",
      "ISBN: None\n",
      "Note: None\n",
      "--------\n",
      "\n",
      "⭐ Top 4\n",
      "🔍 Score: 0.5496\n",
      "📘 Subject: MAD101 - material\n",
      "📄 Content:\n",
      "TYPE: material\n",
      "SubjectCode: MAD101\n",
      "Subject Name: Discrete mathematics_Toán rời rạc\n",
      "MaterialDescription: Powerpoint image in CD + Powerpoint prepared by previous lecturers (PP)\n",
      "Author: None\n",
      "Publisher: None\n",
      "PublishedDate: None\n",
      "Edition: None\n",
      "ISBN: None\n",
      "Note: None\n",
      "--------\n",
      "\n",
      "⭐ Top 5\n",
      "🔍 Score: 0.5489\n",
      "📘 Subject: MAE101 - material\n",
      "📄 Content:\n",
      "TYPE: material\n",
      "SubjectCode: MAE101\n",
      "Subject Name: Mathematics for Engineering_Toán cho ngành kỹ thuật\n",
      "MaterialDescription: Coursera - FPT University Private Authored Courses: Linear transformation with python (Guided Project)\n",
      "Author: None\n",
      "Publisher: None\n",
      "PublishedDate: None\n",
      "Edition: None\n",
      "ISBN: None\n",
      "Note: Optional practice\n",
      "--------\n",
      "\n",
      "⭐ Top 6\n",
      "🔍 Score: 0.5410\n",
      "📘 Subject: MAE101 - material\n",
      "📄 Content:\n",
      "TYPE: material\n",
      "SubjectCode: MAE101\n",
      "Subject Name: Mathematics for Engineering_Toán cho ngành kỹ thuật\n",
      "MaterialDescription: Calculus 1\n",
      "Author: None\n",
      "Publisher: None\n",
      "PublishedDate: None\n",
      "Edition: None\n",
      "ISBN: None\n",
      "Note: https://openstax.org/details/books/calculus-volume-1\n",
      "--------\n",
      "\n",
      "⭐ Top 7\n",
      "🔍 Score: 0.5371\n",
      "📘 Subject: MAE101 - material\n",
      "📄 Content:\n",
      "TYPE: material\n",
      "SubjectCode: MAE101\n",
      "Subject Name: Mathematics for Engineering_Toán cho ngành kỹ thuật\n",
      "MaterialDescription: Calculus 2\n",
      "Author: None\n",
      "Publisher: None\n",
      "PublishedDate: None\n",
      "Edition: None\n",
      "ISBN: None\n",
      "Note: https://openstax.org/details/books/calculus-volume-2\n",
      "--------\n",
      "\n",
      "⭐ Top 8\n",
      "🔍 Score: 0.5351\n",
      "📘 Subject: MAD101 - material\n",
      "📄 Content:\n",
      "TYPE: material\n",
      "SubjectCode: MAD101\n",
      "Subject Name: Discrete mathematics_Toán rời rạc\n",
      "MaterialDescription: Computerized tools (for example C programming tools, Maxima http://maxima.sourceforge.net/) (CT)\n",
      "Author: None\n",
      "Publisher: None\n",
      "PublishedDate: None\n",
      "Edition: None\n",
      "ISBN: None\n",
      "Note: None\n",
      "--------\n",
      "\n",
      "⭐ Top 9\n",
      "🔍 Score: 0.5347\n",
      "📘 Subject: MAD101 - material\n",
      "📄 Content:\n",
      "TYPE: material\n",
      "SubjectCode: MAD101\n",
      "Subject Name: Discrete mathematics_Toán rời rạc\n",
      "MaterialDescription: Teaching Suggestion and Applications of Discrete Mathematics for ST1 (TS)\n",
      "Author: None\n",
      "Publisher: None\n",
      "PublishedDate: None\n",
      "Edition: None\n",
      "ISBN: None\n",
      "Note: None\n",
      "--------\n",
      "\n",
      "⭐ Top 10\n",
      "🔍 Score: 0.5302\n",
      "📘 Subject: MAE101 - material\n",
      "📄 Content:\n",
      "TYPE: material\n",
      "SubjectCode: MAE101\n",
      "Subject Name: Mathematics for Engineering_Toán cho ngành kỹ thuật\n",
      "MaterialDescription: Student Video Skillbuilder in CD (Video).\n",
      "Author: None\n",
      "Publisher: None\n",
      "PublishedDate: None\n",
      "Edition: None\n",
      "ISBN: None\n",
      "Note: None\n",
      "--------\n",
      "Xin lỗi, tôi không tìm thấy thông tin phù hợp cho câu hỏi này.\n",
      "================================================================================\n",
      "Câu hỏi: Môn CSI106 dạy trong bao nhiêu buổi?\n",
      "I/--------------Querry sau khi dịch:---------------\n",
      "How many sessions does CSI106 take?\n",
      "II/--------------Xác định chủ đề của querry---------------\n"
     ]
    },
    {
     "data": {
      "application/vnd.jupyter.widget-view+json": {
       "model_id": "c6f258a0609a41d28340b343ed410790",
       "version_major": 2,
       "version_minor": 0
      },
      "text/plain": [
       "Batches:   0%|          | 0/1 [00:00<?, ?it/s]"
      ]
     },
     "metadata": {},
     "output_type": "display_data"
    },
    {
     "name": "stdout",
     "output_type": "stream",
     "text": [
      "Similarity scores: {'overview': 0.41800296, 'construtive_question': 0.5072585, 'assessment': 0.45636234, 'session': 0.6035395, 'material': 0.49181235, 'learning outcome': 0.44735205, 'student_list': 0.48487812}\n",
      "Keyword scores: {'construtive_question': 1, 'overview': 0, 'assessment': 0, 'session': 0, 'material': 0, 'learning outcome': 0, 'student_list': 0}\n",
      "Final combined scores: {'overview': 0.3344023704528809, 'construtive_question': 0.6058067798614502, 'assessment': 0.3650898694992066, 'session': 0.48283162117004397, 'material': 0.393449878692627, 'learning outcome': 0.3578816413879395, 'student_list': 0.38790249824523926}\n",
      "III/--------------Xác định môn học của querry (nếu có)---------------\n"
     ]
    },
    {
     "data": {
      "application/vnd.jupyter.widget-view+json": {
       "model_id": "8c876bc16c2c4cdeb430b643a43456e4",
       "version_major": 2,
       "version_minor": 0
      },
      "text/plain": [
       "Batches:   0%|          | 0/1 [00:00<?, ?it/s]"
      ]
     },
     "metadata": {},
     "output_type": "display_data"
    },
    {
     "data": {
      "application/vnd.jupyter.widget-view+json": {
       "model_id": "3f136c678ed14471ab167944b684de18",
       "version_major": 2,
       "version_minor": 0
      },
      "text/plain": [
       "Batches:   0%|          | 0/1 [00:00<?, ?it/s]"
      ]
     },
     "metadata": {},
     "output_type": "display_data"
    },
    {
     "name": "stdout",
     "output_type": "stream",
     "text": [
      "Loại detect được là:\n",
      "construtive_question\n",
      "\n",
      "⭐ Top 1\n",
      "🔍 Score: 0.5764\n",
      "📘 Subject: CSI106 - construtive_question\n",
      "📄 Content:\n",
      "TYPE: construtive_question\n",
      "Subject: CSI106 - Introduction to Computer Science_Nhập môn khoa học máy tính\n",
      "Session: 16 | Lesson: CQ6.1\n",
      "Topic: Compare and constrast characteristics LAN and WAN\n",
      "--------\n",
      "\n",
      "⭐ Top 2\n",
      "🔍 Score: 0.5668\n",
      "📘 Subject: CSI106 - construtive_question\n",
      "📄 Content:\n",
      "TYPE: construtive_question\n",
      "Subject: CSI106 - Introduction to Computer Science_Nhập môn khoa học máy tính\n",
      "Session: 52 | Lesson: CQ18.1\n",
      "Topic: What are security goals?\n",
      "--------\n",
      "\n",
      "⭐ Top 3\n",
      "🔍 Score: 0.5565\n",
      "📘 Subject: CSI106 - construtive_question\n",
      "📄 Content:\n",
      "TYPE: construtive_question\n",
      "Subject: CSI106 - Introduction to Computer Science_Nhập môn khoa học máy tính\n",
      "Session: 13 | Lesson: CQ5.2\n",
      "Topic: Compare and constrast storing text, image, sound and video on computer\n",
      "--------\n",
      "\n",
      "⭐ Top 4\n",
      "🔍 Score: 0.5547\n",
      "📘 Subject: CSI106 - construtive_question\n",
      "📄 Content:\n",
      "TYPE: construtive_question\n",
      "Subject: CSI106 - Introduction to Computer Science_Nhập môn khoa học máy tính\n",
      "Session: 35 | Lesson: CQ12.1\n",
      "Topic: What is the software lifecycle in software engineering?\n",
      "--------\n",
      "\n",
      "⭐ Top 5\n",
      "🔍 Score: 0.5543\n",
      "📘 Subject: CSI106 - construtive_question\n",
      "📄 Content:\n",
      "TYPE: construtive_question\n",
      "Subject: CSI106 - Introduction to Computer Science_Nhập môn khoa học máy tính\n",
      "Session: 25 | Lesson: CQ9.1\n",
      "Topic: Define three constructs: sequence, decision, and repetition. Describe their use in algorithms\n",
      "--------\n",
      "\n",
      "⭐ Top 6\n",
      "🔍 Score: 0.5426\n",
      "📘 Subject: CSI106 - construtive_question\n",
      "📄 Content:\n",
      "TYPE: construtive_question\n",
      "Subject: CSI106 - Introduction to Computer Science_Nhập môn khoa học máy tính\n",
      "Session: 44 | Lesson: CQ15.2\n",
      "Topic: How to retrieve information from the file?\n",
      "--------\n",
      "\n",
      "⭐ Top 7\n",
      "🔍 Score: 0.5399\n",
      "📘 Subject: MAD101 - construtive_question\n",
      "📄 Content:\n",
      "TYPE: construtive_question\n",
      "Subject: MAD101 - Discrete mathematics_Toán rời rạc\n",
      "Session: 34 | Lesson: CQ1_HCM\n",
      "Topic: How many bit strings of length six do not have two consecutive 1s or three consecutive 0s?\n",
      "--------\n",
      "\n",
      "⭐ Top 8\n",
      "🔍 Score: 0.5386\n",
      "📘 Subject: CSI106 - construtive_question\n",
      "📄 Content:\n",
      "TYPE: construtive_question\n",
      "Subject: CSI106 - Introduction to Computer Science_Nhập môn khoa học máy tính\n",
      "Session: 18 | Lesson: CQ6.3\n",
      "Topic: How to transfer data from one computer to another?\n",
      "--------\n",
      "\n",
      "⭐ Top 9\n",
      "🔍 Score: 0.5361\n",
      "📘 Subject: CSI106 - construtive_question\n",
      "📄 Content:\n",
      "TYPE: construtive_question\n",
      "Subject: CSI106 - Introduction to Computer Science_Nhập môn khoa học máy tính\n",
      "Session: 53 | Lesson: CQ18.2\n",
      "Topic: How confidentiality can be achieved using symmetric-key and asymmetric-key cipher?\n",
      "--------\n",
      "\n",
      "⭐ Top 10\n",
      "🔍 Score: 0.5273\n",
      "📘 Subject: CSI106 - construtive_question\n",
      "📄 Content:\n",
      "TYPE: construtive_question\n",
      "Subject: CSI106 - Introduction to Computer Science_Nhập môn khoa học máy tính\n",
      "Session: 32 | Lesson: CQ11.3\n",
      "Topic: How can four basic computer language paradigms be distinguished?\n",
      "--------\n",
      "Xin lỗi, tôi không tìm thấy thông tin phù hợp cho câu hỏi này.\n",
      "================================================================================\n",
      "Câu hỏi: CLO2 của môn CSI106 yêu cầu gì?\n",
      "I/--------------Querry sau khi dịch:---------------\n",
      "What is the CLO2 requirement of CSI106?\n",
      "II/--------------Xác định chủ đề của querry---------------\n"
     ]
    },
    {
     "data": {
      "application/vnd.jupyter.widget-view+json": {
       "model_id": "8fa1b31e362246d7a8bcfa2d3e2c1e5d",
       "version_major": 2,
       "version_minor": 0
      },
      "text/plain": [
       "Batches:   0%|          | 0/1 [00:00<?, ?it/s]"
      ]
     },
     "metadata": {},
     "output_type": "display_data"
    },
    {
     "name": "stdout",
     "output_type": "stream",
     "text": [
      "Similarity scores: {'overview': 0.40223008, 'construtive_question': 0.4715999, 'assessment': 0.4453805, 'session': 0.44181836, 'material': 0.47301027, 'learning outcome': 0.45484552, 'student_list': 0.43629354}\n",
      "Keyword scores: {'overview': 0, 'construtive_question': 0, 'assessment': 0, 'session': 0, 'material': 0, 'learning outcome': 0, 'student_list': 0}\n",
      "Final combined scores: {'overview': 0.3217840671539307, 'construtive_question': 0.37727992534637456, 'assessment': 0.356304407119751, 'session': 0.3534546852111817, 'material': 0.37840821743011477, 'learning outcome': 0.36387641429901124, 'student_list': 0.3490348339080811}\n",
      "III/--------------Xác định môn học của querry (nếu có)---------------\n"
     ]
    },
    {
     "data": {
      "application/vnd.jupyter.widget-view+json": {
       "model_id": "f876b1a0a2844d8c9d50b3e50e8caf03",
       "version_major": 2,
       "version_minor": 0
      },
      "text/plain": [
       "Batches:   0%|          | 0/1 [00:00<?, ?it/s]"
      ]
     },
     "metadata": {},
     "output_type": "display_data"
    },
    {
     "data": {
      "application/vnd.jupyter.widget-view+json": {
       "model_id": "6aa8dd8deeed43a198e45ef02cc68ed0",
       "version_major": 2,
       "version_minor": 0
      },
      "text/plain": [
       "Batches:   0%|          | 0/1 [00:00<?, ?it/s]"
      ]
     },
     "metadata": {},
     "output_type": "display_data"
    },
    {
     "name": "stdout",
     "output_type": "stream",
     "text": [
      "Loại detect được là:\n",
      "material\n",
      "\n",
      "⭐ Top 1\n",
      "🔍 Score: 0.5342\n",
      "📘 Subject: CSI106 - material\n",
      "📄 Content:\n",
      "TYPE: material\n",
      "SubjectCode: CSI106\n",
      "Subject Name: Introduction to Computer Science_Nhập môn khoa học máy tính\n",
      "MaterialDescription: Fundamentals of Information Systems Security\n",
      "Author: None\n",
      "Publisher: Jones & Bartlett\n",
      "PublishedDate: 2016\n",
      "Edition: 3rd\n",
      "ISBN: None\n",
      "Note: None\n",
      "--------\n",
      "\n",
      "⭐ Top 2\n",
      "🔍 Score: 0.5131\n",
      "📘 Subject: CSI106 - material\n",
      "📄 Content:\n",
      "TYPE: material\n",
      "SubjectCode: CSI106\n",
      "Subject Name: Introduction to Computer Science_Nhập môn khoa học máy tính\n",
      "MaterialDescription: Foundations Of Computer Science\n",
      "Author: Behrouz Forouzan\n",
      "Publisher: Cengage\n",
      "PublishedDate: 2017\n",
      "Edition: 4th\n",
      "ISBN: 978-1-4737-5104-0\n",
      "Note: None\n",
      "--------\n",
      "\n",
      "⭐ Top 3\n",
      "🔍 Score: 0.5055\n",
      "📘 Subject: CEA201 - material\n",
      "📄 Content:\n",
      "TYPE: material\n",
      "SubjectCode: CEA201\n",
      "Subject Name: Computer Organization and Architecture_Tổ chức và Kiến trúc máy tính\n",
      "MaterialDescription: Test banks\n",
      "Author: None\n",
      "Publisher: None\n",
      "PublishedDate: None\n",
      "Edition: None\n",
      "ISBN: None\n",
      "Note: None\n",
      "--------\n",
      "\n",
      "⭐ Top 4\n",
      "🔍 Score: 0.5053\n",
      "📘 Subject: CSI106 - material\n",
      "📄 Content:\n",
      "TYPE: material\n",
      "SubjectCode: CSI106\n",
      "Subject Name: Introduction to Computer Science_Nhập môn khoa học máy tính\n",
      "MaterialDescription: AI For Everyone\" course in Courserahttps://www.coursera.org/learn/ai-for-everyone/\n",
      "Author: Andrew Ng\n",
      "Publisher: DeepLearning.AI\n",
      "PublishedDate: None\n",
      "Edition: None\n",
      "ISBN: None\n",
      "Note: Additional Learning\n",
      "--------\n",
      "\n",
      "⭐ Top 5\n",
      "🔍 Score: 0.5037\n",
      "📘 Subject: CEA201 - material\n",
      "📄 Content:\n",
      "TYPE: material\n",
      "SubjectCode: CEA201\n",
      "Subject Name: Computer Organization and Architecture_Tổ chức và Kiến trúc máy tính\n",
      "MaterialDescription: http://williamstallings.com/ComputerOrganization/COA9e-Instructor/\n",
      "Author: None\n",
      "Publisher: None\n",
      "PublishedDate: None\n",
      "Edition: None\n",
      "ISBN: None\n",
      "Note: None\n",
      "--------\n",
      "\n",
      "⭐ Top 6\n",
      "🔍 Score: 0.4990\n",
      "📘 Subject: CEA201 - material\n",
      "📄 Content:\n",
      "TYPE: material\n",
      "SubjectCode: CEA201\n",
      "Subject Name: Computer Organization and Architecture_Tổ chức và Kiến trúc máy tính\n",
      "MaterialDescription: Instructor Solutions Manual\n",
      "Author: None\n",
      "Publisher: None\n",
      "PublishedDate: None\n",
      "Edition: None\n",
      "ISBN: None\n",
      "Note: None\n",
      "--------\n",
      "\n",
      "⭐ Top 7\n",
      "🔍 Score: 0.4984\n",
      "📘 Subject: CEA201 - material\n",
      "📄 Content:\n",
      "TYPE: material\n",
      "SubjectCode: CEA201\n",
      "Subject Name: Computer Organization and Architecture_Tổ chức và Kiến trúc máy tính\n",
      "MaterialDescription: Instructor Project Manual\n",
      "Author: None\n",
      "Publisher: None\n",
      "PublishedDate: None\n",
      "Edition: None\n",
      "ISBN: None\n",
      "Note: None\n",
      "--------\n",
      "\n",
      "⭐ Top 8\n",
      "🔍 Score: 0.4982\n",
      "📘 Subject: CEA201 - material\n",
      "📄 Content:\n",
      "TYPE: material\n",
      "SubjectCode: CEA201\n",
      "Subject Name: Computer Organization and Architecture_Tổ chức và Kiến trúc máy tính\n",
      "MaterialDescription: PowerPoint Lecture Slides\n",
      "Author: None\n",
      "Publisher: None\n",
      "PublishedDate: None\n",
      "Edition: None\n",
      "ISBN: None\n",
      "Note: None\n",
      "--------\n",
      "\n",
      "⭐ Top 9\n",
      "🔍 Score: 0.4976\n",
      "📘 Subject: CEA201 - material\n",
      "📄 Content:\n",
      "TYPE: material\n",
      "SubjectCode: CEA201\n",
      "Subject Name: Computer Organization and Architecture_Tổ chức và Kiến trúc máy tính\n",
      "MaterialDescription: http://williamstallings.com/ComputerOrganization/COA9e-student/\n",
      "Author: None\n",
      "Publisher: None\n",
      "PublishedDate: None\n",
      "Edition: None\n",
      "ISBN: None\n",
      "Note: None\n",
      "--------\n",
      "\n",
      "⭐ Top 10\n",
      "🔍 Score: 0.4972\n",
      "📘 Subject: SEG301 - material\n",
      "📄 Content:\n",
      "TYPE: material\n",
      "SubjectCode: SEG301\n",
      "Subject Name: Search Engines_Công cụ tìm kiếm\n",
      "MaterialDescription: - Assignments 2\n",
      "Author: None\n",
      "Publisher: None\n",
      "PublishedDate: None\n",
      "Edition: None\n",
      "ISBN: None\n",
      "Note: None\n",
      "--------\n",
      "Xin lỗi, tôi không tìm thấy thông tin phù hợp cho câu hỏi này.\n",
      "================================================================================\n",
      "Câu hỏi: Buổi số 8 của môn CSE202 có dạy kỹ năng gì?\n",
      "I/--------------Querry sau khi dịch:---------------\n",
      "What skills does the 8th grade of CSE202 teach?\n",
      "II/--------------Xác định chủ đề của querry---------------\n"
     ]
    },
    {
     "data": {
      "application/vnd.jupyter.widget-view+json": {
       "model_id": "637066ed3d514ea5aaa4db1dabf54251",
       "version_major": 2,
       "version_minor": 0
      },
      "text/plain": [
       "Batches:   0%|          | 0/1 [00:00<?, ?it/s]"
      ]
     },
     "metadata": {},
     "output_type": "display_data"
    },
    {
     "name": "stdout",
     "output_type": "stream",
     "text": [
      "Similarity scores: {'overview': 0.4962868, 'construtive_question': 0.48532858, 'assessment': 0.5397801, 'session': 0.5400867, 'material': 0.5619443, 'learning outcome': 0.59469265, 'student_list': 0.50025976}\n",
      "Keyword scores: {'overview': 0, 'construtive_question': 0, 'assessment': 0, 'session': 0, 'material': 0, 'learning outcome': 0, 'student_list': 0}\n",
      "Final combined scores: {'overview': 0.39702944755554204, 'construtive_question': 0.38826286792755127, 'assessment': 0.4318240642547608, 'session': 0.4320693492889405, 'material': 0.44955544471740727, 'learning outcome': 0.4757541179656983, 'student_list': 0.40020780563354497}\n",
      "III/--------------Xác định môn học của querry (nếu có)---------------\n"
     ]
    },
    {
     "data": {
      "application/vnd.jupyter.widget-view+json": {
       "model_id": "33c2b32362d848d09f674b218fc83ae5",
       "version_major": 2,
       "version_minor": 0
      },
      "text/plain": [
       "Batches:   0%|          | 0/1 [00:00<?, ?it/s]"
      ]
     },
     "metadata": {},
     "output_type": "display_data"
    },
    {
     "data": {
      "application/vnd.jupyter.widget-view+json": {
       "model_id": "ca4a68e0be6f4793a88408f29941c893",
       "version_major": 2,
       "version_minor": 0
      },
      "text/plain": [
       "Batches:   0%|          | 0/1 [00:00<?, ?it/s]"
      ]
     },
     "metadata": {},
     "output_type": "display_data"
    },
    {
     "name": "stdout",
     "output_type": "stream",
     "text": [
      "Loại detect được là:\n",
      "learning outcome\n",
      "\n",
      "⭐ Top 1\n",
      "🔍 Score: 0.6255\n",
      "📘 Subject: CEA201 - learning outcome\n",
      "📄 Content:\n",
      "TYPE: learning outcome\n",
      "SubjectCode: CEA201\n",
      "Subject Name: Computer Organization and Architecture_Tổ chức và Kiến trúc máy tính\n",
      "CLO Name: 8\n",
      "CLO Details: CLO8\n",
      "LO Details: Explain processor structure and function in details, the operations of Reduced Instruction Set Computers\n",
      "--------\n",
      "\n",
      "⭐ Top 2\n",
      "🔍 Score: 0.6157\n",
      "📘 Subject: CPV301 - learning outcome\n",
      "📄 Content:\n",
      "TYPE: learning outcome\n",
      "SubjectCode: CPV301\n",
      "Subject Name: Computer Vision_Thị giác máy tính\n",
      "CLO Name: 8\n",
      "CLO Details: CLO8\n",
      "LO Details: Understand and implement the object detection techniques\n",
      "--------\n",
      "\n",
      "⭐ Top 3\n",
      "🔍 Score: 0.6157\n",
      "📘 Subject: MAI391 - learning outcome\n",
      "📄 Content:\n",
      "TYPE: learning outcome\n",
      "SubjectCode: MAI391\n",
      "Subject Name: Mathematics for Machine Learning_Toán cho học máy\n",
      "CLO Name: 9\n",
      "CLO Details: CLO8\n",
      "LO Details: Attitude and soft skills\t LO 8 Develop working in group skills and self-discipline\n",
      "--------\n",
      "\n",
      "⭐ Top 4\n",
      "🔍 Score: 0.6075\n",
      "📘 Subject: SSG104 - learning outcome\n",
      "📄 Content:\n",
      "TYPE: learning outcome\n",
      "SubjectCode: SSG104\n",
      "Subject Name: Communication and In-Group Working Skills_Kỹ năng giao tiếp và cộng tác\n",
      "CLO Name: 8\n",
      "CLO Details: CLO5\n",
      "LO Details: Analyse ways to become effective and powerful leaders.\n",
      "--------\n",
      "\n",
      "⭐ Top 5\n",
      "🔍 Score: 0.6049\n",
      "📘 Subject: CEA201 - learning outcome\n",
      "📄 Content:\n",
      "TYPE: learning outcome\n",
      "SubjectCode: CEA201\n",
      "Subject Name: Computer Organization and Architecture_Tổ chức và Kiến trúc máy tính\n",
      "CLO Name: 9\n",
      "CLO Details: CLO9\n",
      "LO Details: Investigate, evaluate and communicate general trends in computing technologies such as Instruction-Level Parallelism and Superscalar Processors\n",
      "--------\n",
      "\n",
      "⭐ Top 6\n",
      "🔍 Score: 0.6017\n",
      "📘 Subject: MAE101 - learning outcome\n",
      "📄 Content:\n",
      "TYPE: learning outcome\n",
      "SubjectCode: MAE101\n",
      "Subject Name: Mathematics for Engineering_Toán cho ngành kỹ thuật\n",
      "CLO Name: 8\n",
      "CLO Details: CLO8\n",
      "LO Details: Manipulate vector operations and linear transformations in R^3. LO8.1\tManipulate vector operations; find equations of lines.  LO8.2\tCompute the dot product and the angle between two vectors; find the projection of a vector on another vector and manipulate equations of planes. LO8.3\tCompute the cross product; analyze areas and volumns in relation with dot and cross products. LO8.4\tDetermine linear transformations in R^3 and discuss applications in computer graphic.\n",
      "--------\n",
      "\n",
      "⭐ Top 7\n",
      "🔍 Score: 0.5991\n",
      "📘 Subject: EXE201 - learning outcome\n",
      "📄 Content:\n",
      "TYPE: learning outcome\n",
      "SubjectCode: EXE201\n",
      "Subject Name: Experiential Entrepreneurship 2_Trải nghiệm khởi nghiệp 2\n",
      "CLO Name: 1\n",
      "CLO Details: CLO1\n",
      "LO Details: Build physical product/service\n",
      "--------\n",
      "\n",
      "⭐ Top 8\n",
      "🔍 Score: 0.5982\n",
      "📘 Subject: SSG104 - learning outcome\n",
      "📄 Content:\n",
      "TYPE: learning outcome\n",
      "SubjectCode: SSG104\n",
      "Subject Name: Communication and In-Group Working Skills_Kỹ năng giao tiếp và cộng tác\n",
      "CLO Name: 3\n",
      "CLO Details: CLO11\n",
      "LO Details: Develop career skills\n",
      "--------\n",
      "\n",
      "⭐ Top 9\n",
      "🔍 Score: 0.5980\n",
      "📘 Subject: SSL101c - learning outcome\n",
      "📄 Content:\n",
      "TYPE: learning outcome\n",
      "SubjectCode: SSL101c\n",
      "Subject Name: Academic Skills for University Success_Kỹ năng học tập đại học\n",
      "CLO Name: 5\n",
      "CLO Details: CLO5\n",
      "LO Details: Apply all knowledge of skills learned in the courses to build a Capstone Project\n",
      "--------\n",
      "\n",
      "⭐ Top 10\n",
      "🔍 Score: 0.5940\n",
      "📘 Subject: SSG104 - learning outcome\n",
      "📄 Content:\n",
      "TYPE: learning outcome\n",
      "SubjectCode: SSG104\n",
      "Subject Name: Communication and In-Group Working Skills_Kỹ năng giao tiếp và cộng tác\n",
      "CLO Name: 2\n",
      "CLO Details: CLO10\n",
      "LO Details: Organizing a business meeting\n",
      "--------\n",
      "Xin lỗi, tôi không tìm thấy thông tin phù hợp cho câu hỏi này.\n",
      "================================================================================\n",
      "Câu hỏi: Câu hỏi tư duy của buổi 13 môn CSE202 là gì?\n",
      "I/--------------Querry sau khi dịch:---------------\n",
      "What is the thought-provoking question of the 13th session of CSE202?\n",
      "II/--------------Xác định chủ đề của querry---------------\n"
     ]
    },
    {
     "data": {
      "application/vnd.jupyter.widget-view+json": {
       "model_id": "e48aa3b8e28d44b38bc7ca928584e2d6",
       "version_major": 2,
       "version_minor": 0
      },
      "text/plain": [
       "Batches:   0%|          | 0/1 [00:00<?, ?it/s]"
      ]
     },
     "metadata": {},
     "output_type": "display_data"
    },
    {
     "name": "stdout",
     "output_type": "stream",
     "text": [
      "Similarity scores: {'overview': 0.45455822, 'construtive_question': 0.65960735, 'assessment': 0.46477827, 'session': 0.55335265, 'material': 0.5158298, 'learning outcome': 0.45448172, 'student_list': 0.46761018}\n",
      "Keyword scores: {'session': 1, 'overview': 0, 'construtive_question': 0, 'assessment': 0, 'material': 0, 'learning outcome': 0, 'student_list': 0}\n",
      "Final combined scores: {'overview': 0.36364657878875734, 'construtive_question': 0.5276858806610107, 'assessment': 0.3718226194381714, 'session': 0.6426821231842041, 'material': 0.4126638412475586, 'learning outcome': 0.363585376739502, 'student_list': 0.3740881443023682}\n",
      "III/--------------Xác định môn học của querry (nếu có)---------------\n"
     ]
    },
    {
     "data": {
      "application/vnd.jupyter.widget-view+json": {
       "model_id": "91bfcce7831f4934b94e30e3e69b85c2",
       "version_major": 2,
       "version_minor": 0
      },
      "text/plain": [
       "Batches:   0%|          | 0/1 [00:00<?, ?it/s]"
      ]
     },
     "metadata": {},
     "output_type": "display_data"
    },
    {
     "data": {
      "application/vnd.jupyter.widget-view+json": {
       "model_id": "ad81fcfd41bf4362b167f66d6ba4609c",
       "version_major": 2,
       "version_minor": 0
      },
      "text/plain": [
       "Batches:   0%|          | 0/1 [00:00<?, ?it/s]"
      ]
     },
     "metadata": {},
     "output_type": "display_data"
    },
    {
     "name": "stdout",
     "output_type": "stream",
     "text": [
      "Loại detect được là:\n",
      "session\n",
      "\n",
      "⭐ Top 1\n",
      "🔍 Score: 0.6115\n",
      "📘 Subject: OJT202 - session\n",
      "📄 Content:\n",
      "TYPE: session\n",
      "Subject: OJT202 - On-The-Job Training_Đào tạo trong môi trường thực tế\n",
      "Session: 13 | Lesson: None\n",
      "Topic: Thực tập tuần 13On-the-job training week 13\n",
      "Learning Outcome: LO2\n",
      "--------\n",
      "\n",
      "⭐ Top 2\n",
      "🔍 Score: 0.6054\n",
      "📘 Subject: OJT202 - session\n",
      "📄 Content:\n",
      "TYPE: session\n",
      "Subject: OJT202 - On-The-Job Training_Đào tạo trong môi trường thực tế\n",
      "Session: 13 | Lesson: None\n",
      "Topic: Thực tập tuần 13On-the-job training week 13\n",
      "Learning Outcome: LO3\n",
      "--------\n",
      "\n",
      "⭐ Top 3\n",
      "🔍 Score: 0.6031\n",
      "📘 Subject: OJT202 - session\n",
      "📄 Content:\n",
      "TYPE: session\n",
      "Subject: OJT202 - On-The-Job Training_Đào tạo trong môi trường thực tế\n",
      "Session: 13 | Lesson: None\n",
      "Topic: Thực tập tuần 13On-the-job training week 13\n",
      "Learning Outcome: LO1\n",
      "--------\n",
      "\n",
      "⭐ Top 4\n",
      "🔍 Score: 0.5989\n",
      "📘 Subject: AIG202c - session\n",
      "📄 Content:\n",
      "TYPE: session\n",
      "Subject: AIG202c - Artificial Intelligence_Trí tuệ nhân tạo\n",
      "Session: 12 | Lesson: None\n",
      "Topic: - Digressions- Summary- (Optional) Watson Actions- Final Exam (spec)Offline 2: Review AI Foundations for Everyone Specialization (Spec)\n",
      "Learning Outcome: LO5\n",
      "--------\n",
      "\n",
      "⭐ Top 5\n",
      "🔍 Score: 0.5916\n",
      "📘 Subject: CSI106 - session\n",
      "📄 Content:\n",
      "TYPE: session\n",
      "Subject: CSI106 - Introduction to Computer Science_Nhập môn khoa học máy tính\n",
      "Session: 51 | Lesson: None\n",
      "Topic: 12. Security and Ethical Issues12.3 Ethical Principles\n",
      "Learning Outcome: LO12\n",
      "--------\n",
      "\n",
      "⭐ Top 6\n",
      "🔍 Score: 0.5903\n",
      "📘 Subject: SEG301 - session\n",
      "📄 Content:\n",
      "TYPE: session\n",
      "Subject: SEG301 - Search Engines_Công cụ tìm kiếm\n",
      "Session: 13 | Lesson: None\n",
      "Topic: Assignment 1\n",
      "Learning Outcome: LO1\n",
      "--------\n",
      "\n",
      "⭐ Top 7\n",
      "🔍 Score: 0.5902\n",
      "📘 Subject: EXE201 - session\n",
      "📄 Content:\n",
      "TYPE: session\n",
      "Subject: EXE201 - Experiential Entrepreneurship 2_Trải nghiệm khởi nghiệp 2\n",
      "Session: 12 | Lesson: None\n",
      "Topic: Week 7Instructor's coachingHow to Sell\n",
      "Learning Outcome: LO3\n",
      "--------\n",
      "\n",
      "⭐ Top 8\n",
      "🔍 Score: 0.5894\n",
      "📘 Subject: AIG202c - session\n",
      "📄 Content:\n",
      "TYPE: session\n",
      "Subject: AIG202c - Artificial Intelligence_Trí tuệ nhân tạo\n",
      "Session: 2 | Lesson: None\n",
      "Topic: - AI: Issues, Concerns and Ethical Considerations\n",
      "Learning Outcome: LO2\n",
      "--------\n",
      "\n",
      "⭐ Top 9\n",
      "🔍 Score: 0.5888\n",
      "📘 Subject: CSI106 - session\n",
      "📄 Content:\n",
      "TYPE: session\n",
      "Subject: CSI106 - Introduction to Computer Science_Nhập môn khoa học máy tính\n",
      "Session: 13 | Lesson: None\n",
      "Topic: 3.Data storage and Operations on Data3.1 Storing Numbers\n",
      "Learning Outcome: LO3\n",
      "--------\n",
      "\n",
      "⭐ Top 10\n",
      "🔍 Score: 0.5880\n",
      "📘 Subject: OJT202 - session\n",
      "📄 Content:\n",
      "TYPE: session\n",
      "Subject: OJT202 - On-The-Job Training_Đào tạo trong môi trường thực tế\n",
      "Session: 12 | Lesson: None\n",
      "Topic: Thực tập tuần 12On-the-job training week 12\n",
      "Learning Outcome: LO3\n",
      "--------\n",
      "Xin lỗi, tôi không tìm thấy thông tin phù hợp cho câu hỏi này.\n",
      "================================================================================\n",
      "Câu hỏi: Final exam môn CSI106 đánh giá CLO nào?\n",
      "I/--------------Querry sau khi dịch:---------------\n",
      "What CLO is the final exam exam CSI106 exam rating?\n",
      "II/--------------Xác định chủ đề của querry---------------\n"
     ]
    },
    {
     "data": {
      "application/vnd.jupyter.widget-view+json": {
       "model_id": "098fdee0b98e4fd3ab6dfaa57f921443",
       "version_major": 2,
       "version_minor": 0
      },
      "text/plain": [
       "Batches:   0%|          | 0/1 [00:00<?, ?it/s]"
      ]
     },
     "metadata": {},
     "output_type": "display_data"
    },
    {
     "name": "stdout",
     "output_type": "stream",
     "text": [
      "Similarity scores: {'overview': 0.41253528, 'construtive_question': 0.4717767, 'assessment': 0.53276277, 'session': 0.461984, 'material': 0.48722094, 'learning outcome': 0.49654022, 'student_list': 0.4660311}\n",
      "Keyword scores: {'assessment': 1, 'overview': 0, 'construtive_question': 0, 'session': 0, 'material': 0, 'learning outcome': 0, 'student_list': 0}\n",
      "Final combined scores: {'overview': 0.3300282239913941, 'construtive_question': 0.3774213552474976, 'assessment': 0.6262102127075195, 'session': 0.36958720684051516, 'material': 0.3897767543792725, 'learning outcome': 0.39723217487335205, 'student_list': 0.37282488346099857}\n",
      "III/--------------Xác định môn học của querry (nếu có)---------------\n"
     ]
    },
    {
     "data": {
      "application/vnd.jupyter.widget-view+json": {
       "model_id": "eadddb672b194f309526273858a022aa",
       "version_major": 2,
       "version_minor": 0
      },
      "text/plain": [
       "Batches:   0%|          | 0/1 [00:00<?, ?it/s]"
      ]
     },
     "metadata": {},
     "output_type": "display_data"
    },
    {
     "data": {
      "application/vnd.jupyter.widget-view+json": {
       "model_id": "6929670741db467c8ef168b969d72212",
       "version_major": 2,
       "version_minor": 0
      },
      "text/plain": [
       "Batches:   0%|          | 0/1 [00:00<?, ?it/s]"
      ]
     },
     "metadata": {},
     "output_type": "display_data"
    },
    {
     "name": "stdout",
     "output_type": "stream",
     "text": [
      "Loại detect được là:\n",
      "assessment\n",
      "\n",
      "⭐ Top 1\n",
      "🔍 Score: 0.6376\n",
      "📘 Subject: CSI106 - assessment\n",
      "📄 Content:\n",
      "TYPE: assessment\n",
      "Subject: CSI106 - Introduction to Computer Science_Nhập môn khoa học máy tính\n",
      "Category: Final exam | Part: 1 | Weight: 40.0%\n",
      "Question Type: Multiple choices Marked by Computer\n",
      "Knowledge and Skill: concepts, algorithms; all studied Chapters.\n",
      "Grading Guide: by exam board,using computer\n",
      "Completion Criteria: 4\n",
      "Duration: 60'\n",
      "Note: Students must complete Additional Learning (AI For Everyone course in Coursera) and achieve the certificate in order to take final exam The exam questions must be updated or different at least 70% to the previous ones.\n",
      "--------\n",
      "\n",
      "⭐ Top 2\n",
      "🔍 Score: 0.6125\n",
      "📘 Subject: CSI106 - assessment\n",
      "📄 Content:\n",
      "TYPE: assessment\n",
      "Subject: CSI106 - Introduction to Computer Science_Nhập môn khoa học máy tính\n",
      "Category: Lab | Part: 2 | Weight: 20.0%\n",
      "Question Type: Option 1: practical exercises Option 2 (For Constructivism Approach only): Follow lecturer's proposal\n",
      "Knowledge and Skill: technical aspect of studied topics\n",
      "Grading Guide: Guided by instructor- Labs are arranged relevant to the chapter theory- Student must finish labs and submit the results to the lecturer in class.\n",
      "Completion Criteria: >0\n",
      "Duration: Option 1: 60-90'/each Option 2 (For Constructivism Approach only): Follow lecturer's proposal\n",
      "Note: .\n",
      "--------\n",
      "\n",
      "⭐ Top 3\n",
      "🔍 Score: 0.6029\n",
      "📘 Subject: CSI106 - assessment\n",
      "📄 Content:\n",
      "TYPE: assessment\n",
      "Subject: CSI106 - Introduction to Computer Science_Nhập môn khoa học máy tính\n",
      "Category: Progress test | Part: 3 | Weight: 30.0%\n",
      "Question Type: Option 1: MC or suitable format Option 2 (For Constructivism Approach only): Follow lecturer's proposal\n",
      "Knowledge and Skill: Test 1: Chapters 1, 2, 3, 4, 5 , 6, 7 Test 2: Chapters 8, 9, 10, 11, 12 Test 3: Chapters 13, 14, 16, 18, 20\n",
      "Grading Guide: in class, by instructor\n",
      "Completion Criteria: >0\n",
      "Duration: Option 1: 30'/each Option 2 (For Constructivism Approach only): Follow lecturer's proposal\n",
      "Note: Instruction and schedules for Progress Tests must be presented in the Course Implementation Plan approved by director of the campus.The test must be taken right after the last lectures of required material.Instructor has responsibility to review the test for students after graded\n",
      "--------\n",
      "\n",
      "⭐ Top 4\n",
      "🔍 Score: 0.5672\n",
      "📘 Subject: SEG301 - assessment\n",
      "📄 Content:\n",
      "TYPE: assessment\n",
      "Subject: SEG301 - Search Engines_Công cụ tìm kiếm\n",
      "Category: Final exam | Part: 1 | Weight: 40.0%\n",
      "Question Type: Multiple choices Marked by Computer\n",
      "Knowledge and Skill: concepts, algorithms;all studied slides\n",
      "Grading Guide: by exam board,using computer\n",
      "Completion Criteria: 4\n",
      "Duration: 60'\n",
      "Note: The exam questions must be updated or different at least 70% to the previous ones.\n",
      "--------\n",
      "\n",
      "⭐ Top 5\n",
      "🔍 Score: 0.5607\n",
      "📘 Subject: SSG104 - assessment\n",
      "📄 Content:\n",
      "TYPE: assessment\n",
      "Subject: SSG104 - Communication and In-Group Working Skills_Kỹ năng giao tiếp và cộng tác\n",
      "Category: Final exam | Part: 1 | Weight: 20.0%\n",
      "Question Type: Multiple choices Marked by Computer\n",
      "Knowledge and Skill: concepts, algorithms; all studied chapters\n",
      "Grading Guide: by exam board,using computer\n",
      "Completion Criteria: 4\n",
      "Duration: 30'\n",
      "Note: LO 1,2,3,6,7\n",
      "--------\n",
      "\n",
      "⭐ Top 6\n",
      "🔍 Score: 0.5563\n",
      "📘 Subject: CSI106 - assessment\n",
      "📄 Content:\n",
      "TYPE: assessment\n",
      "Subject: CSI106 - Introduction to Computer Science_Nhập môn khoa học máy tính\n",
      "Category: Group presentation | Part: 2 | Weight: 10.0%\n",
      "Question Type: Option 1: .ppt and oral presentation Option 2 (For Constructivism Approach only): Follow lecturer's proposal\n",
      "Knowledge and Skill: one of the appendices\n",
      "Grading Guide: Each group selects one topic ralated to Addional Learning ( (AI For Everyone course in Coursera) to present and has at least two weeks to prepare the presentation Presentation 2:- .ppt and oral presentation- Topics related to Additional Learning (Chapter 18 in Textbook, Deep Learning in Object Detection and Recognition, Speech Emotion Recognition, Traffic Sign Recognition, Federated Learning,…)\n",
      "Completion Criteria: >0\n",
      "Duration: Option 1: 30'/group Option 2 (For Constructivism Approach only): Follow lecturer's proposal\n",
      "Note: The presentation 2 is graded if and only if students complete Additional Learning (AI For Everyone course in Coursera) and achieve the certificate.\n",
      "--------\n",
      "\n",
      "⭐ Top 7\n",
      "🔍 Score: 0.5545\n",
      "📘 Subject: CSD203 - assessment\n",
      "📄 Content:\n",
      "TYPE: assessment\n",
      "Subject: CSD203 - Data Structures and Algorithm with Python_Cấu trúc dữ liệu và giải thuật với Python\n",
      "Category: Final exam | Part: 1 | Weight: 30.0%\n",
      "Question Type: Multiple choices Marked by Computer\n",
      "Knowledge and Skill: concepts, algorithms;all studied chapters\n",
      "Grading Guide: by exam board,using computer\n",
      "Completion Criteria: 4\n",
      "Duration: 60'\n",
      "Note: The exam questions must be updated or different at least 70% to the previous ones.\n",
      "--------\n",
      "\n",
      "⭐ Top 8\n",
      "🔍 Score: 0.5539\n",
      "📘 Subject: CEA201 - assessment\n",
      "📄 Content:\n",
      "TYPE: assessment\n",
      "Subject: CEA201 - Computer Organization and Architecture_Tổ chức và Kiến trúc máy tính\n",
      "Category: Final exam | Part: 1 | Weight: 40.0%\n",
      "Question Type: Multiple choice\n",
      "Knowledge and Skill: All chapters; knowledge and skills of digital system;\n",
      "Grading Guide: by Exam board\n",
      "Completion Criteria: 4\n",
      "Duration: 60'\n",
      "Note: 40% of total progress mark\n",
      "--------\n",
      "\n",
      "⭐ Top 9\n",
      "🔍 Score: 0.5489\n",
      "📘 Subject: DPL302m - assessment\n",
      "📄 Content:\n",
      "TYPE: assessment\n",
      "Subject: DPL302m - Deep Learning_Học sâu\n",
      "Category: Final exam | Part: 1 | Weight: 30.0%\n",
      "Question Type: Multiple choices Marked by Computer\n",
      "Knowledge and Skill: all studied modules\n",
      "Grading Guide: by exam board,using computer\n",
      "Completion Criteria: 4\n",
      "Duration: 60'\n",
      "Note: The exam questions must be updated or different at least 70% to the previous ones.\n",
      "--------\n",
      "\n",
      "⭐ Top 10\n",
      "🔍 Score: 0.5446\n",
      "📘 Subject: AIL303m - assessment\n",
      "📄 Content:\n",
      "TYPE: assessment\n",
      "Subject: AIL303m - Machine Learning_Học máy\n",
      "Category: Final exam | Part: 1 | Weight: 30.0%\n",
      "Question Type: Multiple choices Marked by Computer\n",
      "Knowledge and Skill: all studied modules\n",
      "Grading Guide: by exam board,using computer\n",
      "Completion Criteria: 4\n",
      "Duration: 60'\n",
      "Note: The exam questions must be updated or different at least 70% to the previous ones.\n",
      "--------\n",
      "Xin lỗi, tôi không tìm thấy thông tin phù hợp cho câu hỏi này.\n",
      "================================================================================\n",
      "Câu hỏi: Môn CSE202 có bao nhiêu CLO?\n",
      "I/--------------Querry sau khi dịch:---------------\n",
      "How much CLO does CSE202 have?\n",
      "II/--------------Xác định chủ đề của querry---------------\n"
     ]
    },
    {
     "data": {
      "application/vnd.jupyter.widget-view+json": {
       "model_id": "8ce78546de174a01a24e886ea18aaec3",
       "version_major": 2,
       "version_minor": 0
      },
      "text/plain": [
       "Batches:   0%|          | 0/1 [00:00<?, ?it/s]"
      ]
     },
     "metadata": {},
     "output_type": "display_data"
    },
    {
     "name": "stdout",
     "output_type": "stream",
     "text": [
      "Similarity scores: {'overview': 0.36820325, 'construtive_question': 0.4642032, 'assessment': 0.45695066, 'session': 0.45035547, 'material': 0.46840447, 'learning outcome': 0.41130263, 'student_list': 0.43321583}\n",
      "Keyword scores: {'construtive_question': 1, 'overview': 0, 'assessment': 0, 'session': 0, 'material': 0, 'learning outcome': 0, 'student_list': 0}\n",
      "Final combined scores: {'overview': 0.2945626020431519, 'construtive_question': 0.571362566947937, 'assessment': 0.36556053161621094, 'session': 0.3602843761444092, 'material': 0.37472357749938967, 'learning outcome': 0.3290421009063721, 'student_list': 0.34657266139984133}\n",
      "III/--------------Xác định môn học của querry (nếu có)---------------\n"
     ]
    },
    {
     "data": {
      "application/vnd.jupyter.widget-view+json": {
       "model_id": "9d43482161c8436ab1b16adc23f0f5e8",
       "version_major": 2,
       "version_minor": 0
      },
      "text/plain": [
       "Batches:   0%|          | 0/1 [00:00<?, ?it/s]"
      ]
     },
     "metadata": {},
     "output_type": "display_data"
    },
    {
     "data": {
      "application/vnd.jupyter.widget-view+json": {
       "model_id": "4b2b4a4608b749d28815c95f4a7aedf7",
       "version_major": 2,
       "version_minor": 0
      },
      "text/plain": [
       "Batches:   0%|          | 0/1 [00:00<?, ?it/s]"
      ]
     },
     "metadata": {},
     "output_type": "display_data"
    },
    {
     "name": "stdout",
     "output_type": "stream",
     "text": [
      "Loại detect được là:\n",
      "construtive_question\n",
      "\n",
      "⭐ Top 1\n",
      "🔍 Score: 0.5087\n",
      "📘 Subject: CEA201 - construtive_question\n",
      "📄 Content:\n",
      "TYPE: construtive_question\n",
      "Subject: CEA201 - Computer Organization and Architecture_Tổ chức và Kiến trúc máy tính\n",
      "Session: 26 | Lesson: CQ9.4\n",
      "Topic: Explain about characteristics of I/O Channels.\n",
      "--------\n",
      "\n",
      "⭐ Top 2\n",
      "🔍 Score: 0.5003\n",
      "📘 Subject: CEA201 - construtive_question\n",
      "📄 Content:\n",
      "TYPE: construtive_question\n",
      "Subject: CEA201 - Computer Organization and Architecture_Tổ chức và Kiến trúc máy tính\n",
      "Session: 6 | Lesson: CQ2.4\n",
      "Topic: Explain about System Clock.\n",
      "--------\n",
      "\n",
      "⭐ Top 3\n",
      "🔍 Score: 0.4985\n",
      "📘 Subject: CEA201 - construtive_question\n",
      "📄 Content:\n",
      "TYPE: construtive_question\n",
      "Subject: CEA201 - Computer Organization and Architecture_Tổ chức và Kiến trúc máy tính\n",
      "Session: 39 | Lesson: CQ13.3\n",
      "Topic: Distinguish between machine language and computer language. Explain and give some examples to illustrate the differences between them.\n",
      "--------\n",
      "\n",
      "⭐ Top 4\n",
      "🔍 Score: 0.4922\n",
      "📘 Subject: CEA201 - construtive_question\n",
      "📄 Content:\n",
      "TYPE: construtive_question\n",
      "Subject: CEA201 - Computer Organization and Architecture_Tổ chức và Kiến trúc máy tính\n",
      "Session: 6 | Lesson: CQ2.5\n",
      "Topic: Summarize some of the issues in computer performance assessment.\n",
      "--------\n",
      "\n",
      "⭐ Top 5\n",
      "🔍 Score: 0.4907\n",
      "📘 Subject: CEA201 - construtive_question\n",
      "📄 Content:\n",
      "TYPE: construtive_question\n",
      "Subject: CEA201 - Computer Organization and Architecture_Tổ chức và Kiến trúc máy tính\n",
      "Session: 42 | Lesson: CQ14.3\n",
      "Topic: What are the typical elements of an assembly language statement?\n",
      "--------\n",
      "\n",
      "⭐ Top 6\n",
      "🔍 Score: 0.4894\n",
      "📘 Subject: CEA201 - construtive_question\n",
      "📄 Content:\n",
      "TYPE: construtive_question\n",
      "Subject: CEA201 - Computer Organization and Architecture_Tổ chức và Kiến trúc máy tính\n",
      "Session: 26 | Lesson: CQ9.3\n",
      "Topic: Present the evolution of the I/O Function.\n",
      "--------\n",
      "\n",
      "⭐ Top 7\n",
      "🔍 Score: 0.4888\n",
      "📘 Subject: CEA201 - construtive_question\n",
      "📄 Content:\n",
      "TYPE: construtive_question\n",
      "Subject: CEA201 - Computer Organization and Architecture_Tổ chức và Kiến trúc máy tính\n",
      "Session: 43 | Lesson: CQ15.1\n",
      "Topic: List and briefly define four different kinds of assembly language statements.\n",
      "--------\n",
      "\n",
      "⭐ Top 8\n",
      "🔍 Score: 0.4876\n",
      "📘 Subject: CEA201 - construtive_question\n",
      "📄 Content:\n",
      "TYPE: construtive_question\n",
      "Subject: CEA201 - Computer Organization and Architecture_Tổ chức và Kiến trúc máy tính\n",
      "Session: 4 | Lesson: CQ2.2\n",
      "Topic: Explain the concept of performance balance.\n",
      "--------\n",
      "\n",
      "⭐ Top 9\n",
      "🔍 Score: 0.4856\n",
      "📘 Subject: CEA201 - construtive_question\n",
      "📄 Content:\n",
      "TYPE: construtive_question\n",
      "Subject: CEA201 - Computer Organization and Architecture_Tổ chức và Kiến trúc máy tính\n",
      "Session: 12 | Lesson: CQ4.5\n",
      "Topic: How does the principle of locality relate to the use of multiple memory levels?\n",
      "--------\n",
      "\n",
      "⭐ Top 10\n",
      "🔍 Score: 0.4843\n",
      "📘 Subject: CEA201 - construtive_question\n",
      "📄 Content:\n",
      "TYPE: construtive_question\n",
      "Subject: CEA201 - Computer Organization and Architecture_Tổ chức và Kiến trúc máy tính\n",
      "Session: 12 | Lesson: CQ4.4\n",
      "Topic: What is the cache memory?\n",
      "--------\n",
      "Xin lỗi, tôi không tìm thấy thông tin phù hợp cho câu hỏi này.\n",
      "================================================================================\n",
      "Câu hỏi: CLO1 của môn MAT101 được đánh giá như thế nào?\n",
      "I/--------------Querry sau khi dịch:---------------\n",
      "How is the CLO1 of MAT101 evaluated?\n",
      "II/--------------Xác định chủ đề của querry---------------\n"
     ]
    },
    {
     "data": {
      "application/vnd.jupyter.widget-view+json": {
       "model_id": "5e17fca1cf4946988f3060d6b20a4ad8",
       "version_major": 2,
       "version_minor": 0
      },
      "text/plain": [
       "Batches:   0%|          | 0/1 [00:00<?, ?it/s]"
      ]
     },
     "metadata": {},
     "output_type": "display_data"
    },
    {
     "name": "stdout",
     "output_type": "stream",
     "text": [
      "Similarity scores: {'overview': 0.4640894, 'construtive_question': 0.4987212, 'assessment': 0.53497726, 'session': 0.49132562, 'material': 0.51108, 'learning outcome': 0.46383673, 'student_list': 0.47057357}\n",
      "Keyword scores: {'construtive_question': 1, 'overview': 0, 'assessment': 0, 'session': 0, 'material': 0, 'learning outcome': 0, 'student_list': 0}\n",
      "Final combined scores: {'overview': 0.37127151489257815, 'construtive_question': 0.5989769697189331, 'assessment': 0.4279818058013916, 'session': 0.3930604934692383, 'material': 0.40886402130126953, 'learning outcome': 0.37106938362121583, 'student_list': 0.3764588594436646}\n",
      "III/--------------Xác định môn học của querry (nếu có)---------------\n"
     ]
    },
    {
     "data": {
      "application/vnd.jupyter.widget-view+json": {
       "model_id": "6f705b92e5b444c4b9b0ddbd16e63c50",
       "version_major": 2,
       "version_minor": 0
      },
      "text/plain": [
       "Batches:   0%|          | 0/1 [00:00<?, ?it/s]"
      ]
     },
     "metadata": {},
     "output_type": "display_data"
    },
    {
     "data": {
      "application/vnd.jupyter.widget-view+json": {
       "model_id": "76f0314be6a04eacb3dbe50f7dd6d897",
       "version_major": 2,
       "version_minor": 0
      },
      "text/plain": [
       "Batches:   0%|          | 0/1 [00:00<?, ?it/s]"
      ]
     },
     "metadata": {},
     "output_type": "display_data"
    },
    {
     "name": "stdout",
     "output_type": "stream",
     "text": [
      "Loại detect được là:\n",
      "construtive_question\n",
      "\n",
      "⭐ Top 1\n",
      "🔍 Score: 0.5650\n",
      "📘 Subject: MAD101 - construtive_question\n",
      "📄 Content:\n",
      "TYPE: construtive_question\n",
      "Subject: MAD101 - Discrete mathematics_Toán rời rạc\n",
      "Session: 19 | Lesson: CT_CQ1\n",
      "Topic: How can the efficiency of an algorithm be analyzed?\n",
      "--------\n",
      "\n",
      "⭐ Top 2\n",
      "🔍 Score: 0.5612\n",
      "📘 Subject: MAD101 - construtive_question\n",
      "📄 Content:\n",
      "TYPE: construtive_question\n",
      "Subject: MAD101 - Discrete mathematics_Toán rời rạc\n",
      "Session: 32 | Lesson: CT_CQ1\n",
      "Topic: Estimate the number of comparisons used to merge two ordered lists in the analysis of the merge sort.\n",
      "--------\n",
      "\n",
      "⭐ Top 3\n",
      "🔍 Score: 0.5534\n",
      "📘 Subject: MAI391 - construtive_question\n",
      "📄 Content:\n",
      "TYPE: construtive_question\n",
      "Subject: MAI391 - Mathematics for Machine Learning_Toán cho học máy\n",
      "Session: 46 | Lesson: HCM_CQ55\n",
      "Topic: How can we choose the next PC after we have chosen m-1 PCs?\n",
      "--------\n",
      "\n",
      "⭐ Top 4\n",
      "🔍 Score: 0.5522\n",
      "📘 Subject: MAE101 - construtive_question\n",
      "📄 Content:\n",
      "TYPE: construtive_question\n",
      "Subject: MAE101 - Mathematics for Engineering_Toán cho ngành kỹ thuật\n",
      "Session: 20 | Lesson: CT_CQ1\n",
      "Topic: Evaluate an integral over an infinite interval.\n",
      "--------\n",
      "\n",
      "⭐ Top 5\n",
      "🔍 Score: 0.5513\n",
      "📘 Subject: MAE101 - construtive_question\n",
      "📄 Content:\n",
      "TYPE: construtive_question\n",
      "Subject: MAE101 - Mathematics for Engineering_Toán cho ngành kỹ thuật\n",
      "Session: 27 | Lesson: CT_CQ1\n",
      "Topic: Practicing some matrix operations\n",
      "--------\n",
      "\n",
      "⭐ Top 6\n",
      "🔍 Score: 0.5500\n",
      "📘 Subject: MAE101 - construtive_question\n",
      "📄 Content:\n",
      "TYPE: construtive_question\n",
      "Subject: MAE101 - Mathematics for Engineering_Toán cho ngành kỹ thuật\n",
      "Session: 9 | Lesson: CT_CQ1\n",
      "Topic: Describe the linear approximation to a function at a point\n",
      "--------\n",
      "\n",
      "⭐ Top 7\n",
      "🔍 Score: 0.5493\n",
      "📘 Subject: MAE101 - construtive_question\n",
      "📄 Content:\n",
      "TYPE: construtive_question\n",
      "Subject: MAE101 - Mathematics for Engineering_Toán cho ngành kỹ thuật\n",
      "Session: 43 | Lesson: CT_CQ1\n",
      "Topic: Find the equations of the line. For example.\n",
      "--------\n",
      "\n",
      "⭐ Top 8\n",
      "🔍 Score: 0.5476\n",
      "📘 Subject: MAE101 - construtive_question\n",
      "📄 Content:\n",
      "TYPE: construtive_question\n",
      "Subject: MAE101 - Mathematics for Engineering_Toán cho ngành kỹ thuật\n",
      "Session: 58 | Lesson: CT_CQ1\n",
      "Topic: Find the relationship between rank of matrix and nullity\n",
      "--------\n",
      "\n",
      "⭐ Top 9\n",
      "🔍 Score: 0.5472\n",
      "📘 Subject: MAD101 - construtive_question\n",
      "📄 Content:\n",
      "TYPE: construtive_question\n",
      "Subject: MAD101 - Discrete mathematics_Toán rời rạc\n",
      "Session: 31 | Lesson: CQ1_HCM\n",
      "Topic: Write recursive versions of linear search algorithm.\n",
      "--------\n",
      "\n",
      "⭐ Top 10\n",
      "🔍 Score: 0.5448\n",
      "📘 Subject: MAE101 - construtive_question\n",
      "📄 Content:\n",
      "TYPE: construtive_question\n",
      "Subject: MAE101 - Mathematics for Engineering_Toán cho ngành kỹ thuật\n",
      "Session: 2 | Lesson: CT_CQ1\n",
      "Topic: Explain the relationship between one-sided and two-sided limits.\n",
      "--------\n",
      "Xin lỗi, tôi không tìm thấy thông tin phù hợp cho câu hỏi này.\n",
      "================================================================================\n",
      "Câu hỏi: Buổi số 5 của môn CSI106 dạy CLO nào?\n",
      "I/--------------Querry sau khi dịch:---------------\n",
      "What is CLO taught in CSI106 Class 5?\n",
      "II/--------------Xác định chủ đề của querry---------------\n"
     ]
    },
    {
     "data": {
      "application/vnd.jupyter.widget-view+json": {
       "model_id": "6615e890ae9f4c6b9e730d02f1f4429e",
       "version_major": 2,
       "version_minor": 0
      },
      "text/plain": [
       "Batches:   0%|          | 0/1 [00:00<?, ?it/s]"
      ]
     },
     "metadata": {},
     "output_type": "display_data"
    },
    {
     "name": "stdout",
     "output_type": "stream",
     "text": [
      "Similarity scores: {'overview': 0.45384812, 'construtive_question': 0.46795022, 'assessment': 0.46938336, 'session': 0.52399707, 'material': 0.49974954, 'learning outcome': 0.5105371, 'student_list': 0.5048232}\n",
      "Keyword scores: {'session': 1, 'overview': 0, 'construtive_question': 0, 'assessment': 0, 'material': 0, 'learning outcome': 0, 'student_list': 0}\n",
      "Final combined scores: {'overview': 0.36307849884033205, 'construtive_question': 0.3743601799011231, 'assessment': 0.3755066871643067, 'session': 0.6191976547241211, 'material': 0.3997996330261231, 'learning outcome': 0.40842967033386235, 'student_list': 0.4038585662841797}\n",
      "III/--------------Xác định môn học của querry (nếu có)---------------\n"
     ]
    },
    {
     "data": {
      "application/vnd.jupyter.widget-view+json": {
       "model_id": "b2d7215e51734b809a11f5b89d6dca58",
       "version_major": 2,
       "version_minor": 0
      },
      "text/plain": [
       "Batches:   0%|          | 0/1 [00:00<?, ?it/s]"
      ]
     },
     "metadata": {},
     "output_type": "display_data"
    },
    {
     "data": {
      "application/vnd.jupyter.widget-view+json": {
       "model_id": "081e45c0385b42e7ad237044421391d6",
       "version_major": 2,
       "version_minor": 0
      },
      "text/plain": [
       "Batches:   0%|          | 0/1 [00:00<?, ?it/s]"
      ]
     },
     "metadata": {},
     "output_type": "display_data"
    },
    {
     "name": "stdout",
     "output_type": "stream",
     "text": [
      "Loại detect được là:\n",
      "session\n",
      "\n",
      "⭐ Top 1\n",
      "🔍 Score: 0.6350\n",
      "📘 Subject: CSI106 - session\n",
      "📄 Content:\n",
      "TYPE: session\n",
      "Subject: CSI106 - Introduction to Computer Science_Nhập môn khoa học máy tính\n",
      "Session: 20 | Lesson: None\n",
      "Topic: 5. Operating System5.1 Introduction5.2 Evolution\n",
      "Learning Outcome: LO5\n",
      "--------\n",
      "\n",
      "⭐ Top 2\n",
      "🔍 Score: 0.6339\n",
      "📘 Subject: CSI106 - session\n",
      "📄 Content:\n",
      "TYPE: session\n",
      "Subject: CSI106 - Introduction to Computer Science_Nhập môn khoa học máy tính\n",
      "Session: 22 | Lesson: None\n",
      "Topic: 5. Operating System5.3 Components of OS: file manager\n",
      "Learning Outcome: LO5\n",
      "--------\n",
      "\n",
      "⭐ Top 3\n",
      "🔍 Score: 0.6311\n",
      "📘 Subject: CSI106 - session\n",
      "📄 Content:\n",
      "TYPE: session\n",
      "Subject: CSI106 - Introduction to Computer Science_Nhập môn khoa học máy tính\n",
      "Session: 28 | Lesson: None\n",
      "Topic: Presentations 1\n",
      "Learning Outcome: LO5\n",
      "--------\n",
      "\n",
      "⭐ Top 4\n",
      "🔍 Score: 0.6305\n",
      "📘 Subject: CSI106 - session\n",
      "📄 Content:\n",
      "TYPE: session\n",
      "Subject: CSI106 - Introduction to Computer Science_Nhập môn khoa học máy tính\n",
      "Session: 5 | Lesson: None\n",
      "Topic: 1.5 Memory: main memory\n",
      "Learning Outcome: LO1\n",
      "--------\n",
      "\n",
      "⭐ Top 5\n",
      "🔍 Score: 0.6296\n",
      "📘 Subject: CSI106 - session\n",
      "📄 Content:\n",
      "TYPE: session\n",
      "Subject: CSI106 - Introduction to Computer Science_Nhập môn khoa học máy tính\n",
      "Session: 21 | Lesson: None\n",
      "Topic: 5. Operating System5.3 Components of OS: UI, memory manager\n",
      "Learning Outcome: LO5\n",
      "--------\n",
      "\n",
      "⭐ Top 6\n",
      "🔍 Score: 0.6294\n",
      "📘 Subject: CSI106 - session\n",
      "📄 Content:\n",
      "TYPE: session\n",
      "Subject: CSI106 - Introduction to Computer Science_Nhập môn khoa học máy tính\n",
      "Session: 23 | Lesson: None\n",
      "Topic: 5. Operating System5.3 Components of OS: device manager\n",
      "Learning Outcome: LO5\n",
      "--------\n",
      "\n",
      "⭐ Top 7\n",
      "🔍 Score: 0.6278\n",
      "📘 Subject: CSI106 - session\n",
      "📄 Content:\n",
      "TYPE: session\n",
      "Subject: CSI106 - Introduction to Computer Science_Nhập môn khoa học máy tính\n",
      "Session: 12 | Lesson: None\n",
      "Topic: Introduction to presentation 1\n",
      "Learning Outcome: LO5\n",
      "--------\n",
      "\n",
      "⭐ Top 8\n",
      "🔍 Score: 0.6265\n",
      "📘 Subject: CSI106 - session\n",
      "📄 Content:\n",
      "TYPE: session\n",
      "Subject: CSI106 - Introduction to Computer Science_Nhập môn khoa học máy tính\n",
      "Session: 29 | Lesson: None\n",
      "Topic: Presentations 1\n",
      "Learning Outcome: LO5\n",
      "--------\n",
      "\n",
      "⭐ Top 9\n",
      "🔍 Score: 0.6228\n",
      "📘 Subject: CSI106 - session\n",
      "📄 Content:\n",
      "TYPE: session\n",
      "Subject: CSI106 - Introduction to Computer Science_Nhập môn khoa học máy tính\n",
      "Session: 15 | Lesson: None\n",
      "Topic: 3.3 Logic operations\n",
      "Learning Outcome: LO3\n",
      "--------\n",
      "\n",
      "⭐ Top 10\n",
      "🔍 Score: 0.6215\n",
      "📘 Subject: CSI106 - session\n",
      "📄 Content:\n",
      "TYPE: session\n",
      "Subject: CSI106 - Introduction to Computer Science_Nhập môn khoa học máy tính\n",
      "Session: 26 | Lesson: None\n",
      "Topic: 6.3 Algorithm representation6.4 Search Algorithms: linear, binary\n",
      "Learning Outcome: LO6\n",
      "--------\n",
      "Xin lỗi, tôi không tìm thấy thông tin phù hợp cho câu hỏi này.\n",
      "================================================================================\n",
      "Câu hỏi: Các môn nào có đánh giá thực hành?\n",
      "I/--------------Querry sau khi dịch:---------------\n",
      "What subjects are considered practical assessments?\n",
      "II/--------------Xác định chủ đề của querry---------------\n"
     ]
    },
    {
     "data": {
      "application/vnd.jupyter.widget-view+json": {
       "model_id": "50543a2ff1e8436fac05d77e511d0c0e",
       "version_major": 2,
       "version_minor": 0
      },
      "text/plain": [
       "Batches:   0%|          | 0/1 [00:00<?, ?it/s]"
      ]
     },
     "metadata": {},
     "output_type": "display_data"
    },
    {
     "name": "stdout",
     "output_type": "stream",
     "text": [
      "Similarity scores: {'overview': 0.6165509, 'construtive_question': 0.5917708, 'assessment': 0.63285017, 'session': 0.6027682, 'material': 0.5978204, 'learning outcome': 0.55451006, 'student_list': 0.5064267}\n",
      "Keyword scores: {'overview': 1, 'construtive_question': 0, 'assessment': 0, 'session': 0, 'material': 0, 'learning outcome': 0, 'student_list': 0}\n",
      "Final combined scores: {'overview': 0.6932407379150392, 'construtive_question': 0.47341666221618656, 'assessment': 0.5062801361083985, 'session': 0.4822145462036133, 'material': 0.4782563209533692, 'learning outcome': 0.44360804557800293, 'student_list': 0.40514135360717773}\n",
      "III/--------------Xác định môn học của querry (nếu có)---------------\n"
     ]
    },
    {
     "data": {
      "application/vnd.jupyter.widget-view+json": {
       "model_id": "e4e409adaded458e9cb2ad526ad39369",
       "version_major": 2,
       "version_minor": 0
      },
      "text/plain": [
       "Batches:   0%|          | 0/1 [00:00<?, ?it/s]"
      ]
     },
     "metadata": {},
     "output_type": "display_data"
    },
    {
     "data": {
      "application/vnd.jupyter.widget-view+json": {
       "model_id": "d402c7c5e74e425cb66c7887fee740b3",
       "version_major": 2,
       "version_minor": 0
      },
      "text/plain": [
       "Batches:   0%|          | 0/1 [00:00<?, ?it/s]"
      ]
     },
     "metadata": {},
     "output_type": "display_data"
    },
    {
     "name": "stdout",
     "output_type": "stream",
     "text": [
      "Loại detect được là:\n",
      "overview\n",
      "\n",
      "⭐ Top 1\n",
      "🔍 Score: 0.5536\n",
      "📘 Subject: SEG301 - overview\n",
      "📄 Content:\n",
      "TYPE: overview\n",
      "Subject Code: SEG301\n",
      "Subject Name: Search Engines_Công cụ tìm kiếm\n",
      "Degree Level: Bachelor | Credits: 3 | Semester: 5\n",
      "Belong To Combo: AI17_COM2.1: Topic on AI Applied research_Chủ đề Định hướng nghiên cứu ứng dụng TTNT\n",
      "Pre-requisites: None\n",
      "Scoring Scale: 10.0 | Min Avg Mark to Pass: 5.0\n",
      "Approved: True on 4/9/2025\n",
      "Subject Link: https://flm.fpt.edu.vn/gui/role/student/SyllabusDetails.aspx?sylid=12633\n",
      "\n",
      "--- TIME ALLOCATION ---\n",
      "45 h (60 sessions) contact hours + 1 h final exam + 104 h self-study\n",
      "--- TIME ALLOCATION END ---\n",
      "\n",
      "--- DESCRIPTION ---\n",
      "- The theory, creation, and use of text-based search engines are covered in this lecture-based course. The main content includes experimental assessment, representation of information demands and documents, several significant retrieval models, and statistical features of the text. Besides, the course covers typical components of commercial search engines, such as federated search, vertical search, tailored search results, and diversified search results.\n",
      "--- END DESCRIPTION ---\n",
      "--- STUDENT TASKS ---\n",
      "- - Students must attend at least 80% of contact slots in order to be accepted to the final examination.- Student is responsible to do all exercises, assignments and labs given by instructor in class or at home and submit on time- Use laptop in class only for learning purpose- Promptly access to https://flm.fpt.edu.vn for up-to-date course information\n",
      "--- END STUDENT TASKS ---\n",
      "--- TOOLS ---\n",
      "- No\n",
      "--- END TOOLS ---\n",
      "--- NOTE ---\n",
      "- 1) On-going Assessment- 3 Assignments: 30%- 2 progress tests: 30%2) 1 Final Exam: 40%3) Final Result 100% (The Final result - including bonus score - is not greater than 10) Completion Criteria:1) Every on-going assessment component > 02) Final Exam Score >= 4 & Final Result >= 5 Bonus score for accepted paper (email accepted/ published):ISI/Scopus Q 1, Q 2: 5 ISI/Scopus Q 3, Q 4: 3 Scopus Q 1, Q 2: 3 Scopus Q 3, Q 4: 2 The accepted paper must be related to topics in AI 17_COM 2 and be assessed by the in-class Lecturer.Source to check Scopus ranking: https://www.scimagojr.com/Source to check ISI: https://mjl.clarivate.com\n",
      "--- END NOTE ---\n",
      "\n",
      "--------\n",
      "\n",
      "⭐ Top 2\n",
      "🔍 Score: 0.5230\n",
      "📘 Subject: PEN - overview\n",
      "📄 Content:\n",
      "TYPE: overview\n",
      "Subject Code: PEN\n",
      "Subject Name: Preparation English_Tiếng Anh chuẩn bị\n",
      "Degree Level: N/A | Credits: 0 | Semester: 0\n",
      "Belong To Combo: None\n",
      "Pre-requisites: None\n",
      "Scoring Scale: N/A | Min Avg Mark to Pass: N/A\n",
      "Approved: N/A on N/A\n",
      "Subject Link: https://flm.fpt.edu.vn/gui/role/student/Syllabuses.aspx?subCode=PEN&curriculumID=2347\n",
      "\n",
      "--- TIME ALLOCATION ---\n",
      "N/A\n",
      "--- TIME ALLOCATION END ---\n",
      "\n",
      "--- DESCRIPTION ---\n",
      "\n",
      "--- END DESCRIPTION ---\n",
      "--- STUDENT TASKS ---\n",
      "\n",
      "--- END STUDENT TASKS ---\n",
      "--- TOOLS ---\n",
      "\n",
      "--- END TOOLS ---\n",
      "--- NOTE ---\n",
      "\n",
      "--- END NOTE ---\n",
      "\n",
      "--------\n",
      "\n",
      "⭐ Top 3\n",
      "🔍 Score: 0.5170\n",
      "📘 Subject: EXE101 - overview\n",
      "📄 Content:\n",
      "TYPE: overview\n",
      "Subject Code: EXE101\n",
      "Subject Name: Experiential Entrepreneurship 1_Trải nghiệm khởi nghiệp 1\n",
      "Degree Level: Bachelor | Credits: 3 | Semester: 7\n",
      "Belong To Combo: None\n",
      "Pre-requisites: None\n",
      "Scoring Scale: 10.0 | Min Avg Mark to Pass: 5.0\n",
      "Approved: True on 8/25/2023\n",
      "Subject Link: https://flm.fpt.edu.vn/gui/role/student/Syllabuses.aspx?subCode=EXE101&curriculumID=2347\n",
      "\n",
      "--- TIME ALLOCATION ---\n",
      "Study hour (150 h) ='-Self-paced online learning: 15 hours- Learning face-to-face with an instructor: 10 sessions (1 session/week x 10 weeks; 2,25 hrs/session)- Guest speakers' Sharing - Seminars: 3 sessions (2,25 hrs/session)- Mentors' Mentoring: 2 (2,25 hr/session). 1-3 additional sessions can be set up depending on the necessity and on the mentor's avaibility.- 102 h self-study\n",
      "--- TIME ALLOCATION END ---\n",
      "\n",
      "--- DESCRIPTION ---\n",
      "- - This course will provide students with essential knowledge and tips on starting a start-up efficiently and effectively.- The course covers the most important aspects of modern entrepreneurship.- Students will study by watching videos shared by prolific startup founders on various topics. Each week, there will be a face-to-face session with an instructor, typically a faculty lecturer of business administration experimented in entrepreneurship, who will re-cap and check on students' understanding of the week's main topic.Students are grouped into teams of 4 to 6. Each team must be formed from at least 2 different majors.- Each team will have to develop a startup idea and work on the project with guidance and support from instructors and mentors throughout the course.- There will be seminars or workshops with guest speakers who are entrepreneurs or venture capitalists, who will share their extensive experience and unique perspective in the entrepreneurial world of startups.\n",
      "--- END DESCRIPTION ---\n",
      "--- STUDENT TASKS ---\n",
      "- - Students must attend at least 80% of Instructor's Coaching sessions, Seminars and Mentor's Mentoring.- Students are responsible for doing all exercises and assignments given by the instructor in class or at home and submitting them on time.- Students must meet all checkpoints' requirements.- Use laptop in class only for learning purpose- Promplty access to the FPTU Learning Materials platform at https://flm.fpt.edu.vn/ and Edunext systems at https://fu.edunext.vn/ for up to date course information.\n",
      "--- END STUDENT TASKS ---\n",
      "--- TOOLS ---\n",
      "- - Laptop computer- Internet- Meeting hall with capacity of at least 200 seats for seminars- Video conference platforms, such as Google Meet, Microsoft Teams, or Zoom.\n",
      "--- END TOOLS ---\n",
      "--- NOTE ---\n",
      "\n",
      "--- END NOTE ---\n",
      "\n",
      "--------\n",
      "\n",
      "⭐ Top 4\n",
      "🔍 Score: 0.5159\n",
      "📘 Subject: VOV114 - overview\n",
      "📄 Content:\n",
      "TYPE: overview\n",
      "Subject Code: VOV114\n",
      "Subject Name: Vovinam 1\n",
      "Degree Level: Bachelor | Credits: 2 | Semester: 0\n",
      "Belong To Combo: PHE_COM1: Vovinam BIT_AI_K17C(FNO)\n",
      "Pre-requisites: None\n",
      "Scoring Scale: 10.0 | Min Avg Mark to Pass: 5.0\n",
      "Approved: True on 8/16/2024\n",
      "Subject Link: https://flm.fpt.edu.vn/gui/role/student/SyllabusDetails.aspx?sylid=11850\n",
      "\n",
      "--- TIME ALLOCATION ---\n",
      "28 slots\n",
      "--- TIME ALLOCATION END ---\n",
      "\n",
      "--- DESCRIPTION ---\n",
      "- Tấn pháp: Trung bình tấn; cung tiễn tấn; kiềm dương mã tấn; đinh tấn; tam giác tấn.Stances: Middle stance, bow stance, horse stance, front stance, triangle stance.Kỹ thuật tay:Hand techniques:* 4 lối chém cạnh tay;4 cutting edge techniques;* 7 lối đấm;7 punch techniques;* 4 lối gạt cạnh tay;4 hand parry techniques;* 4 lối chỏ;4 elbow techniques;Kỹ thuật chân: Đá thẳng; đá cạnh; đá tạt; đá đạp;Leg techniques: Straight kick; crescent kick; roundhouse kick; side kick;Phản đòn: Phản đòn đấm thẳng phải; phản đòn đấm lao phải; phản đòn đấm múc phải.Counter attack techniques: counter attack straight right punch; counter attack long right punch; counter attack right uppercut punch.Thể lực chung.Physical strength.\n",
      "--- END DESCRIPTION ---\n",
      "--- STUDENT TASKS ---\n",
      "- * Dự lớp: Đảm bảo dự ≥ 80% tổng thời lượng của kỳ học.Attend at least 80% of class hours.* Bài tập: Thực hiện tốt yêu cầu, nhiệm vụ các bài tập được giao.Assignments: Well perform assigned tasks and assignments.* Khác: Thường xuyên hoạt động tập luyện ngoại khóa.Other: Practice regularly.* Thực hành: Thực hiện các tập; bài kiểm tra; thi lấy điểm.Practice: Perform exercises, tests, and exams.\n",
      "--- END STUDENT TASKS ---\n",
      "--- TOOLS ---\n",
      "\n",
      "--- END TOOLS ---\n",
      "--- NOTE ---\n",
      "\n",
      "--- END NOTE ---\n",
      "\n",
      "--------\n",
      "\n",
      "⭐ Top 5\n",
      "🔍 Score: 0.5143\n",
      "📘 Subject: SSL101c - overview\n",
      "📄 Content:\n",
      "TYPE: overview\n",
      "Subject Code: SSL101c\n",
      "Subject Name: Academic Skills for University Success_Kỹ năng học tập đại học\n",
      "Degree Level: Bachelor | Credits: 3 | Semester: 1\n",
      "Belong To Combo: None\n",
      "Pre-requisites: None\n",
      "Scoring Scale: 10.0 | Min Avg Mark to Pass: 5.0\n",
      "Approved: True on 4/9/2025\n",
      "Subject Link: https://flm.fpt.edu.vn/gui/role/student/Syllabuses.aspx?subCode=SSL101c&curriculumID=2347\n",
      "\n",
      "--- TIME ALLOCATION ---\n",
      "42 hours online + 4.5 hrs offline (3 slots) + 1 hr exam + 102.5 hours self-study\n",
      "--- TIME ALLOCATION END ---\n",
      "\n",
      "--- DESCRIPTION ---\n",
      "- Upon finishing the course, students can:1) Knowledge: Understand- Method to develop your Information & Digital Literacy Skills- Method to develop your Problem Solving and Creativity Skills- How to develop your Critical Thinking Skills- How to develop your Communication Skills 2) Able to (ABET)- Access, search, filter, manage and organize Information by using a variety of digital tools, from wide variety of source for use in academic study.- Critically evaluate the reliability of sources and use digital tools for referencing in order to avoid plagiarism.- Demonstrate awareness of ethical issues related to academic integrity surrounding the access and use of information- Develop a toolkit to be able to identify real problems and goals within ill-defined problem & Recognize and apply analytical & creative problem solving technique- Use a variety of thinking tools to improve critical thinking- Identify types of argument, and bias within arguments- Demonstrate, negotiate, and further understanding through spoken, written, visual, and conversational modes- Effectively formulate arguments and communicate research findings through the process of researching, composing, and editing 3) Others: (ABET)- Improve study skills (academic reading, information searching, ...)\n",
      "--- END DESCRIPTION ---\n",
      "--- STUDENT TASKS ---\n",
      "- 1. Join the online course (spec.) when being invited by the admin.2. Enroll in each MOOC of spec., regularly study MOOCs at least 5 hrs/week by watching videos, reading materials, taking quizzes, doing assignments... as required 3. Respect the Coursera Code of Conduct, at https://learner.coursera.help/hc/en-us/articles/208280036-Coursera-Code-of-Conduct 3. Keep online learning progress promptly (bonus will be awarded)4. Communicate and discuss in forum 5. Attend off-line sessions in the Campus (Optional)6. Must complete all MOOCs of spec. with certification in order to take the Final Exam at Campus\n",
      "--- END STUDENT TASKS ---\n",
      "--- TOOLS ---\n",
      "- Online Spec. https://www.coursera.org/specializations/academic-skills; University of Sydney, including:- MOOC 1: Introduction to Information & Digital Literacy for University Success , https://www.coursera.org/learn/digital-literacy/home/welcome- MOOC 2: Introduction to Problem-Solving Skill for University Success, https://www.coursera.org/learn/problem-solving-skills/home/welcome- MOOC 3: Critical Thinking Skills for University Success, https://www.coursera.org/learn/critical-thinking-skills/home/welcome- MOOC 4: Communication Skills for University Success, https://www.coursera.org/learn/communication-skills/home/welcome- MOOC 5: Academic Skills for University Success: Capstone, https://www.coursera.org/learn/academic-skills-project/home/welcome\n",
      "--- END TOOLS ---\n",
      "--- NOTE ---\n",
      "- 1) Ongoing assessment: Students who complete all MOOCs before the course deadline will receive 1 bonus point; otherwise, no bonus point will be awarded.2) Theoretical Exam (TE)3) Final Result (FR) =min (10, TE + Bonus)4) Completion Criteria: TE>=4 and FR>=5\n",
      "--- END NOTE ---\n",
      "\n",
      "--------\n",
      "\n",
      "⭐ Top 6\n",
      "🔍 Score: 0.5139\n",
      "📘 Subject: AIP491 - overview\n",
      "📄 Content:\n",
      "TYPE: overview\n",
      "Subject Code: AIP491\n",
      "Subject Name: AI Capstone Project_Đồ án tốt nghiệp TTNT\n",
      "Degree Level: Bachelor | Credits: 10 | Semester: 9\n",
      "Belong To Combo: None\n",
      "Pre-requisites: None\n",
      "Scoring Scale: 10.0 | Min Avg Mark to Pass: 5.0\n",
      "Approved: True on 11/22/2024\n",
      "Subject Link: https://flm.fpt.edu.vn/gui/role/student/SyllabusDetails.aspx?sylid=12078\n",
      "\n",
      "--- TIME ALLOCATION ---\n",
      "Study hour (500 h)= 33.75 h contact hours (1 newslot/week*15 week) + 1.5 h capstone project defense + 464.75 h self-study\n",
      "--- TIME ALLOCATION END ---\n",
      "\n",
      "--- DESCRIPTION ---\n",
      "- The AI Capstone Project course is an integrative experience that consolidates the knowledge and skills acquired from the undergraduate AI curriculum into a practical, real-world application. The design of this course challenges students to apply their analytical, problem-solving, and technical skills to solve complex problems using AI technologies.Throughout this course, students will engage with all facets of the AI project development lifecycle, including problem identification, data collection and preprocessing, model design and implementation, evaluation, and deployment. Students will gain a comprehensive understanding of the professional standards and expectations required to successfully execute a project of this nature.This course is structured to be completed by small groups of 3-4 students, fostering collaboration and teamwork. Each group will be assigned a supervisor, who will offer critical support and guidance throughout the research and development process. The supervisor will assist students in refining their project ideas, conducting thorough research, developing and implementing AI solutions, composing a report on their capstone project, and preparing for the final presentation in front of the examination board.By the end of the course, students will have not only deepened their understanding of AI principles and techniques but also demonstrated their ability to apply these concepts effectively in a team-based project. This capstone project not only serves as a significant portfolio piece but also prepares students for professional careers in the field of artificial intelligence.\n",
      "--- END DESCRIPTION ---\n",
      "--- STUDENT TASKS ---\n",
      "- (1) Select a project within the chosen AI concentration: Teams should choose a project that aligns with their interests and the scope of the AI concentration. This may involve identifying a real-world problem that can be addressed with AI solutions.(2) Divide and schedule work: Once the project is chosen, teams should allocate tasks among members based on each individual's strengths and skills. A detailed schedule should be created, outlining milestones and deadlines to ensure timely progress.(3) Attend all scheduled meetings with supervisor: Teams must commit to regular meetings with their assigned supervisor. These sessions are crucial for receiving guidance, discussing progress, resolving any issues, and making necessary adjustments to the project plan.(4) Produce document and product according to project requirements: Teams are expected to produce comprehensive documentation and develop the AI product according to the specified requirements. This includes but is not limited to, designing algorithms, coding, testing, and validating the AI model(s). Documentation should detail the problem, methodology, implementation, results, and conclusions.(5) Present and defend individual contributions in front of the examination board: Each team member must be prepared to present and individually defend their specific contributions to the project in front of the examination board. This includes explaining the rationale behind their approach, the challenges faced, and the solutions implemented.\n",
      "--- END STUDENT TASKS ---\n",
      "--- TOOLS ---\n",
      "- Appropriate tools for design and implementation\n",
      "--- END TOOLS ---\n",
      "--- NOTE ---\n",
      "\n",
      "--- END NOTE ---\n",
      "\n",
      "--------\n",
      "\n",
      "⭐ Top 7\n",
      "🔍 Score: 0.5064\n",
      "📘 Subject: EXE201 - overview\n",
      "📄 Content:\n",
      "TYPE: overview\n",
      "Subject Code: EXE201\n",
      "Subject Name: Experiential Entrepreneurship 2_Trải nghiệm khởi nghiệp 2\n",
      "Degree Level: Bachelor | Credits: 3 | Semester: 8\n",
      "Belong To Combo: None\n",
      "Pre-requisites: EXE101\n",
      "Scoring Scale: 10.0 | Min Avg Mark to Pass: 5.0\n",
      "Approved: True on 8/25/2023\n",
      "Subject Link: https://flm.fpt.edu.vn/gui/role/student/Syllabuses.aspx?subCode=EXE201&curriculumID=2347\n",
      "\n",
      "--- TIME ALLOCATION ---\n",
      "Study hour (150 h) ='-Self-paced online learning: 15 hours- Learning face-to-face with an instructor: 10 sessions (1 session/week x 10 weeks; 2,25 hrs/session)- Guest speakers' Sharing - Seminars: 3 sessions (2,25 hrs/session)- Mentors' Mentoring: 2 (2,25 hr/session). 1-3 additional sessions can be set up depending on the necessity and on the mentor's avaibility.- 102 h self-study\n",
      "--- TIME ALLOCATION END ---\n",
      "\n",
      "--- DESCRIPTION ---\n",
      "- In Experiental Entrepreneurship 2, groups of students will develop product/service for their start-up ideas prepared from Experiental Entrepreneurship 1 and deploy sales and find real customers for their group's products/services.There is no mandatory content for this course, just a list of suggested lectures/talks that students can view to get useful tips and experiences for project realization.In addition, there will be seminars and workshops with related topics planned and implemented each semester according to actual needs and implementation situation.\n",
      "--- END DESCRIPTION ---\n",
      "--- STUDENT TASKS ---\n",
      "- - Students must attend at least 80% of Instructor's Coaching sections, Seminars and Mentor's Mentoring.- Students are responsible for doing all exercises and assignments given by the instructor in class or at home and submitting them on time.- Students must meet all milestones' requirements.- Promplty access to the learning material platform https://flm.fpt.edu.vn/ for up to date course information.\n",
      "--- END STUDENT TASKS ---\n",
      "--- TOOLS ---\n",
      "- - A hall for seminars has a capacity of at least 200 people\n",
      "--- END TOOLS ---\n",
      "--- NOTE ---\n",
      "\n",
      "--- END NOTE ---\n",
      "\n",
      "--------\n",
      "\n",
      "⭐ Top 8\n",
      "🔍 Score: 0.5044\n",
      "📘 Subject: CPV301 - overview\n",
      "📄 Content:\n",
      "TYPE: overview\n",
      "Subject Code: CPV301\n",
      "Subject Name: Computer Vision_Thị giác máy tính\n",
      "Degree Level: Bachelor | Credits: 3 | Semester: 4\n",
      "Belong To Combo: None\n",
      "Pre-requisites: PFP191, CSD203\n",
      "Scoring Scale: 10.0 | Min Avg Mark to Pass: 5.0\n",
      "Approved: True on 11/24/2022\n",
      "Subject Link: https://flm.fpt.edu.vn/gui/role/student/Syllabuses.aspx?subCode=CPV301&curriculumID=2347\n",
      "\n",
      "--- TIME ALLOCATION ---\n",
      "45 h (60 sessions) contact hours + 1 h final exam + 104 h self-study\n",
      "--- TIME ALLOCATION END ---\n",
      "\n",
      "--- DESCRIPTION ---\n",
      "- -This course provides the basics of computer vision.-Students will have access to knowledge from image representation, lighting, image acquisition through the camera, camera calibration techniques.-Learn line and edge detection techniques in images, filters as well as Canny, RANSAC methods-Students will learn advanced image processing knowledge such as Image segmentation, object detection, object recognition, and object tracking.-Implement a computer vision project in recognizing objects in photos or videos\n",
      "--- END DESCRIPTION ---\n",
      "--- STUDENT TASKS ---\n",
      "- - Students must attend at least 80% of contact slots in order to be accepted to the final examination.- Student is responsible to do all exercises given by instructor in class or at home and submit on time.- Use laptop in class only for learning purpose- Promptly access to the FU CMS at http://cms.fpt.edu.vn for up-to-date course information\n",
      "--- END STUDENT TASKS ---\n",
      "--- TOOLS ---\n",
      "- Text Book'Pycharm or Matlab Internet\n",
      "--- END TOOLS ---\n",
      "--- NOTE ---\n",
      "\n",
      "--- END NOTE ---\n",
      "\n",
      "--------\n",
      "\n",
      "⭐ Top 9\n",
      "🔍 Score: 0.5030\n",
      "📘 Subject: PMG201c - overview\n",
      "📄 Content:\n",
      "TYPE: overview\n",
      "Subject Code: PMG201c\n",
      "Subject Name: Project Management\n",
      "Degree Level: Bachelor | Credits: 3 | Semester: 7\n",
      "Belong To Combo: None\n",
      "Pre-requisites: None\n",
      "Scoring Scale: 10.0 | Min Avg Mark to Pass: 5.0\n",
      "Approved: True on 4/9/2025\n",
      "Subject Link: https://flm.fpt.edu.vn/gui/role/student/Syllabuses.aspx?subCode=PMG201c&curriculumID=2347\n",
      "\n",
      "--- TIME ALLOCATION ---\n",
      "Study hour (150 h) = 60 h online + 3 h offline + 1 h TE + 2 h PE + 84 h self-study\n",
      "--- TIME ALLOCATION END ---\n",
      "\n",
      "--- DESCRIPTION ---\n",
      "- This intensive and hands-on series of courses gives you the skills to ensure your projects are completed on time and on budget while giving the user the product they expect. You will gain a strong working knowledge of the basics of project management and be able to immediately use that knowledge to effectively manage work projects. At the end of the series you will be able to identify and manage the product scope, build a work breakdown structure, create a project plan, create the project budget, define and allocate resources and identify and manage risks, and then you will be able to manage the project development.\n",
      "--- END DESCRIPTION ---\n",
      "--- STUDENT TASKS ---\n",
      "- - Student must get the certification of Introduction to Project Management Principles and Practices specialization from Coursera to be accepted to the final examination\"\n",
      "--- END STUDENT TASKS ---\n",
      "--- TOOLS ---\n",
      "\n",
      "--- END TOOLS ---\n",
      "--- NOTE ---\n",
      "- 1. Complete the online course to be allowed to take Final Exam 2. Final Exam is included of Final Theory Exam (TE) & Final Practical Exam (PE): 100%3. Students who complete all MOOCs before the course deadline will receive 1 bonus point; otherwise, no bonus point will be awarded.4. Completion Criteria: Final TE Score >=4 & Final PE Score >=4 & FR >= 5(FR = min(10, (Final TE Score + Final PE Score)/2 + bonus)\n",
      "--- END NOTE ---\n",
      "\n",
      "--------\n",
      "\n",
      "⭐ Top 10\n",
      "🔍 Score: 0.5022\n",
      "📘 Subject: VOV134 - overview\n",
      "📄 Content:\n",
      "TYPE: overview\n",
      "Subject Code: VOV134\n",
      "Subject Name: Vovinam 3\n",
      "Degree Level: Bachelor | Credits: 2 | Semester: 2\n",
      "Belong To Combo: PHE_COM1: Vovinam BIT_AI_K17C(FNO)\n",
      "Pre-requisites: None\n",
      "Scoring Scale: 10.0 | Min Avg Mark to Pass: 5.0\n",
      "Approved: True on 8/16/2024\n",
      "Subject Link: https://flm.fpt.edu.vn/gui/role/student/SyllabusDetails.aspx?sylid=11852\n",
      "\n",
      "--- TIME ALLOCATION ---\n",
      "28 slots\n",
      "--- TIME ALLOCATION END ---\n",
      "\n",
      "--- DESCRIPTION ---\n",
      "- * Các kỹ thuật khóa gỡ: Nắm tóc trước số 1; Kỹ thuật hai tay nắm hai tay trước Self-defense techniques: Front hair grab 1; Two hands grab two front wrists technique.* Kỹ thuật tự vệ sáng tạo.Creative self-defense techniques.* Xây dựng bài đa luyện cuối khóa.Build multi-activity performances at the end of the course.\n",
      "--- END DESCRIPTION ---\n",
      "--- STUDENT TASKS ---\n",
      "- * Dự lớp: Đảm bảo dự ≥ 80% tổng thời lượng của kỳ học.Attend at least 80% of class hours.* Bài tập: Thực hiện tốt yêu cầu, nhiệm vụ các bài tập được giao.Assignments: Well perform assigned tasks and assignments.* Khác: Thường xuyên hoạt động tập luyện ngoại khóa.Other: Practice regularly.* Thực hành: Thực hiện các tập; bài kiểm tra; thi lấy điểm.Practice: Perform exercises, tests, and exams.\n",
      "--- END STUDENT TASKS ---\n",
      "--- TOOLS ---\n",
      "\n",
      "--- END TOOLS ---\n",
      "--- NOTE ---\n",
      "\n",
      "--- END NOTE ---\n",
      "\n",
      "--------\n",
      "Xin lỗi, tôi không tìm thấy thông tin phù hợp cho câu hỏi này.\n",
      "================================================================================\n",
      "Câu hỏi: Toàn bộ câu hỏi tư duy môn CSI106 là gì?\n",
      "I/--------------Querry sau khi dịch:---------------\n",
      "What is the whole CSI106 mindfulness question?\n",
      "II/--------------Xác định chủ đề của querry---------------\n"
     ]
    },
    {
     "data": {
      "application/vnd.jupyter.widget-view+json": {
       "model_id": "f489683335504fb4959a801b446dfec0",
       "version_major": 2,
       "version_minor": 0
      },
      "text/plain": [
       "Batches:   0%|          | 0/1 [00:00<?, ?it/s]"
      ]
     },
     "metadata": {},
     "output_type": "display_data"
    },
    {
     "name": "stdout",
     "output_type": "stream",
     "text": [
      "Similarity scores: {'overview': 0.4695683, 'construtive_question': 0.60944015, 'assessment': 0.4757383, 'session': 0.55014414, 'material': 0.5392049, 'learning outcome': 0.4751092, 'student_list': 0.50424176}\n",
      "Keyword scores: {'overview': 0, 'construtive_question': 0, 'assessment': 0, 'session': 0, 'material': 0, 'learning outcome': 0, 'student_list': 0}\n",
      "Final combined scores: {'overview': 0.3756546497344971, 'construtive_question': 0.4875521183013916, 'assessment': 0.38059062957763673, 'session': 0.4401153087615967, 'material': 0.43136391639709476, 'learning outcome': 0.38008735179901126, 'student_list': 0.40339341163635256}\n",
      "III/--------------Xác định môn học của querry (nếu có)---------------\n"
     ]
    },
    {
     "data": {
      "application/vnd.jupyter.widget-view+json": {
       "model_id": "a0a19d61e952460380b645799f09a9bd",
       "version_major": 2,
       "version_minor": 0
      },
      "text/plain": [
       "Batches:   0%|          | 0/1 [00:00<?, ?it/s]"
      ]
     },
     "metadata": {},
     "output_type": "display_data"
    },
    {
     "data": {
      "application/vnd.jupyter.widget-view+json": {
       "model_id": "47c94e9e8b044132ba4289d3b37ed426",
       "version_major": 2,
       "version_minor": 0
      },
      "text/plain": [
       "Batches:   0%|          | 0/1 [00:00<?, ?it/s]"
      ]
     },
     "metadata": {},
     "output_type": "display_data"
    },
    {
     "name": "stdout",
     "output_type": "stream",
     "text": [
      "Loại detect được là:\n",
      "construtive_question\n",
      "\n",
      "⭐ Top 1\n",
      "🔍 Score: 0.6037\n",
      "📘 Subject: CSI106 - construtive_question\n",
      "📄 Content:\n",
      "TYPE: construtive_question\n",
      "Subject: CSI106 - Introduction to Computer Science_Nhập môn khoa học máy tính\n",
      "Session: 13 | Lesson: CQ5.2\n",
      "Topic: Compare and constrast storing text, image, sound and video on computer\n",
      "--------\n",
      "\n",
      "⭐ Top 2\n",
      "🔍 Score: 0.6032\n",
      "📘 Subject: CSI106 - construtive_question\n",
      "📄 Content:\n",
      "TYPE: construtive_question\n",
      "Subject: CSI106 - Introduction to Computer Science_Nhập môn khoa học máy tính\n",
      "Session: 52 | Lesson: CQ18.1\n",
      "Topic: What are security goals?\n",
      "--------\n",
      "\n",
      "⭐ Top 3\n",
      "🔍 Score: 0.5916\n",
      "📘 Subject: CSI106 - construtive_question\n",
      "📄 Content:\n",
      "TYPE: construtive_question\n",
      "Subject: CSI106 - Introduction to Computer Science_Nhập môn khoa học máy tính\n",
      "Session: 16 | Lesson: CQ6.1\n",
      "Topic: Compare and constrast characteristics LAN and WAN\n",
      "--------\n",
      "\n",
      "⭐ Top 4\n",
      "🔍 Score: 0.5820\n",
      "📘 Subject: CSI106 - construtive_question\n",
      "📄 Content:\n",
      "TYPE: construtive_question\n",
      "Subject: CSI106 - Introduction to Computer Science_Nhập môn khoa học máy tính\n",
      "Session: 53 | Lesson: CQ18.2\n",
      "Topic: How confidentiality can be achieved using symmetric-key and asymmetric-key cipher?\n",
      "--------\n",
      "\n",
      "⭐ Top 5\n",
      "🔍 Score: 0.5703\n",
      "📘 Subject: CSI106 - construtive_question\n",
      "📄 Content:\n",
      "TYPE: construtive_question\n",
      "Subject: CSI106 - Introduction to Computer Science_Nhập môn khoa học máy tính\n",
      "Session: 54 | Lesson: CQ18.3\n",
      "Topic: What is the main ideas of aspect security?\n",
      "--------\n",
      "\n",
      "⭐ Top 6\n",
      "🔍 Score: 0.5682\n",
      "📘 Subject: CSI106 - construtive_question\n",
      "📄 Content:\n",
      "TYPE: construtive_question\n",
      "Subject: CSI106 - Introduction to Computer Science_Nhập môn khoa học máy tính\n",
      "Session: 25 | Lesson: CQ9.1\n",
      "Topic: Define three constructs: sequence, decision, and repetition. Describe their use in algorithms\n",
      "--------\n",
      "\n",
      "⭐ Top 7\n",
      "🔍 Score: 0.5638\n",
      "📘 Subject: CSI106 - construtive_question\n",
      "📄 Content:\n",
      "TYPE: construtive_question\n",
      "Subject: CSI106 - Introduction to Computer Science_Nhập môn khoa học máy tính\n",
      "Session: 35 | Lesson: CQ12.1\n",
      "Topic: What is the software lifecycle in software engineering?\n",
      "--------\n",
      "\n",
      "⭐ Top 8\n",
      "🔍 Score: 0.5601\n",
      "📘 Subject: CSI106 - construtive_question\n",
      "📄 Content:\n",
      "TYPE: construtive_question\n",
      "Subject: CSI106 - Introduction to Computer Science_Nhập môn khoa học máy tính\n",
      "Session: 44 | Lesson: CQ15.2\n",
      "Topic: How to retrieve information from the file?\n",
      "--------\n",
      "\n",
      "⭐ Top 9\n",
      "🔍 Score: 0.5584\n",
      "📘 Subject: CSI106 - construtive_question\n",
      "📄 Content:\n",
      "TYPE: construtive_question\n",
      "Subject: CSI106 - Introduction to Computer Science_Nhập môn khoa học máy tính\n",
      "Session: 13 | Lesson: CQ5.1\n",
      "Topic: How to store the sign of number on computer\n",
      "--------\n",
      "\n",
      "⭐ Top 10\n",
      "🔍 Score: 0.5578\n",
      "📘 Subject: SSG104 - construtive_question\n",
      "📄 Content:\n",
      "TYPE: construtive_question\n",
      "Subject: SSG104 - Communication and In-Group Working Skills_Kỹ năng giao tiếp và cộng tác\n",
      "Session: 28 | Lesson: CQ10.2\n",
      "Topic: How can a person realize they have stress? How does stress affect your mind and body?\n",
      "--------\n",
      "Xin lỗi, tôi không tìm thấy thông tin phù hợp cho câu hỏi này.\n",
      "================================================================================\n",
      "Câu hỏi: Những CLO nào trong môn CSE202 chưa có hình thức đánh giá?\n",
      "I/--------------Querry sau khi dịch:---------------\n",
      "Which CLOs in CSE202 have not yet been assessed?\n",
      "II/--------------Xác định chủ đề của querry---------------\n"
     ]
    },
    {
     "data": {
      "application/vnd.jupyter.widget-view+json": {
       "model_id": "69bedcc58bbc4f3bb0e9a30260c3b8c3",
       "version_major": 2,
       "version_minor": 0
      },
      "text/plain": [
       "Batches:   0%|          | 0/1 [00:00<?, ?it/s]"
      ]
     },
     "metadata": {},
     "output_type": "display_data"
    },
    {
     "name": "stdout",
     "output_type": "stream",
     "text": [
      "Similarity scores: {'overview': 0.3546872, 'construtive_question': 0.45699817, 'assessment': 0.4830696, 'session': 0.4358756, 'material': 0.4515596, 'learning outcome': 0.42275545, 'student_list': 0.42462087}\n",
      "Keyword scores: {'overview': 0, 'construtive_question': 0, 'assessment': 0, 'session': 0, 'material': 0, 'learning outcome': 0, 'student_list': 0}\n",
      "Final combined scores: {'overview': 0.2837497711181641, 'construtive_question': 0.36559853553771976, 'assessment': 0.38645567893981936, 'session': 0.34870047569274903, 'material': 0.36124768257141116, 'learning outcome': 0.3382043600082398, 'student_list': 0.3396966934204102}\n",
      "III/--------------Xác định môn học của querry (nếu có)---------------\n"
     ]
    },
    {
     "data": {
      "application/vnd.jupyter.widget-view+json": {
       "model_id": "325d8338726f4063987c45a080af8f01",
       "version_major": 2,
       "version_minor": 0
      },
      "text/plain": [
       "Batches:   0%|          | 0/1 [00:00<?, ?it/s]"
      ]
     },
     "metadata": {},
     "output_type": "display_data"
    },
    {
     "data": {
      "application/vnd.jupyter.widget-view+json": {
       "model_id": "54cc1fe1d80442edb7e978e6ed56f111",
       "version_major": 2,
       "version_minor": 0
      },
      "text/plain": [
       "Batches:   0%|          | 0/1 [00:00<?, ?it/s]"
      ]
     },
     "metadata": {},
     "output_type": "display_data"
    },
    {
     "name": "stdout",
     "output_type": "stream",
     "text": [
      "Loại detect được là:\n",
      "assessment\n",
      "\n",
      "⭐ Top 1\n",
      "🔍 Score: 0.5306\n",
      "📘 Subject: DBI202 - assessment\n",
      "📄 Content:\n",
      "TYPE: assessment\n",
      "Subject: DBI202 - Database Systems_Các hệ cơ sở dữ liệu\n",
      "Category: Lab | Part: 5 | Weight: 10.0%\n",
      "Question Type: N/A\n",
      "Knowledge and Skill: N/A\n",
      "Grading Guide: in class, by teacher\n",
      "Completion Criteria: >0\n",
      "Duration: 90'\n",
      "Note: N/A\n",
      "--------\n",
      "\n",
      "⭐ Top 2\n",
      "🔍 Score: 0.5162\n",
      "📘 Subject: DBI202-OLD - assessment\n",
      "📄 Content:\n",
      "TYPE: assessment\n",
      "Subject: DBI202-OLD - Database Systems\n",
      "Category: Labs | Part: 5 | Weight: 15.0%\n",
      "Question Type: practicalexercises\n",
      "Knowledge and Skill: related to studied modules\n",
      "Grading Guide: Guided by instructor\n",
      "Completion Criteria: >0\n",
      "Duration: in labsession\n",
      "Note: may be continued at home.\n",
      "--------\n",
      "\n",
      "⭐ Top 3\n",
      "🔍 Score: 0.5140\n",
      "📘 Subject: DBI202 - assessment\n",
      "📄 Content:\n",
      "TYPE: assessment\n",
      "Subject: DBI202 - Database Systems_Các hệ cơ sở dữ liệu\n",
      "Category: Assignment | Part: 1 | Weight: 20.0%\n",
      "Question Type: N/A\n",
      "Knowledge and Skill: All subjects in syllabus\n",
      "Grading Guide: in class, by teacher\n",
      "Completion Criteria: >0\n",
      "Duration: 28 slots\n",
      "Note: N/A\n",
      "--------\n",
      "\n",
      "⭐ Top 4\n",
      "🔍 Score: 0.5135\n",
      "📘 Subject: EXE401 - assessment\n",
      "📄 Content:\n",
      "TYPE: assessment\n",
      "Subject: EXE401 - Graduation Thesis Startup Project_Dự án khởi nghiệp tốt nghiệp\n",
      "Category: Results inherited from EXE 201 | Part: 1 | Weight: 20.0%\n",
      "Question Type: N/A\n",
      "Knowledge and Skill: N/A\n",
      "Grading Guide: The mark of EXE 201\n",
      "Completion Criteria: >0\n",
      "Duration: N/A\n",
      "Note: N/A\n",
      "--------\n",
      "\n",
      "⭐ Top 5\n",
      "🔍 Score: 0.5062\n",
      "📘 Subject: CEA201 - assessment\n",
      "📄 Content:\n",
      "TYPE: assessment\n",
      "Subject: CEA201 - Computer Organization and Architecture_Tổ chức và Kiến trúc máy tính\n",
      "Category: Assignment | Part: 2 | Weight: 30.0%\n",
      "Question Type: Option 1: Developing Assemly program Option 2 (For Constructivism Approach only): Follow lecturer's proposal\n",
      "Knowledge and Skill: Basic programs\n",
      "Grading Guide: Teachers assess their works on their computers\n",
      "Completion Criteria: >0\n",
      "Duration: Option 1: At home Option 2: (For Constructivism Approach only): Follow lecturer's proposal\n",
      "Note: 30% of total progress mark\n",
      "--------\n",
      "\n",
      "⭐ Top 6\n",
      "🔍 Score: 0.5014\n",
      "📘 Subject: CPV301 - assessment\n",
      "📄 Content:\n",
      "TYPE: assessment\n",
      "Subject: CPV301 - Computer Vision_Thị giác máy tính\n",
      "Category: Lab | Part: 8 | Weight: 10.0%\n",
      "Question Type: Option 1: N/AOption 2: Questions or Activities proposed by lecturer\n",
      "Knowledge and Skill: N/A\n",
      "Grading Guide: in class, by teacher\n",
      "Completion Criteria: >0\n",
      "Duration: 90'/each\n",
      "Note: N/A\n",
      "--------\n",
      "\n",
      "⭐ Top 7\n",
      "🔍 Score: 0.5013\n",
      "📘 Subject: DBI202 - assessment\n",
      "📄 Content:\n",
      "TYPE: assessment\n",
      "Subject: DBI202 - Database Systems_Các hệ cơ sở dữ liệu\n",
      "Category: Practical Exam | Part: 1 | Weight: 30.0%\n",
      "Question Type: N/A\n",
      "Knowledge and Skill: N/A\n",
      "Grading Guide: By exam board\n",
      "Completion Criteria: >0\n",
      "Duration: 85'\n",
      "Note: N/A\n",
      "--------\n",
      "\n",
      "⭐ Top 8\n",
      "🔍 Score: 0.5005\n",
      "📘 Subject: CEA201 - assessment\n",
      "📄 Content:\n",
      "TYPE: assessment\n",
      "Subject: CEA201 - Computer Organization and Architecture_Tổ chức và Kiến trúc máy tính\n",
      "Category: Final exam | Part: 1 | Weight: 40.0%\n",
      "Question Type: Multiple choice\n",
      "Knowledge and Skill: All chapters; knowledge and skills of digital system;\n",
      "Grading Guide: by Exam board\n",
      "Completion Criteria: 4\n",
      "Duration: 60'\n",
      "Note: 40% of total progress mark\n",
      "--------\n",
      "\n",
      "⭐ Top 9\n",
      "🔍 Score: 0.4896\n",
      "📘 Subject: CEA201 - assessment\n",
      "📄 Content:\n",
      "TYPE: assessment\n",
      "Subject: CEA201 - Computer Organization and Architecture_Tổ chức và Kiến trúc máy tính\n",
      "Category: Exercises | Part: 4 | Weight: 30.0%\n",
      "Question Type: Option 1: Writing Option 2 (For Constructivism Approach only): Follow lecturer's proposal\n",
      "Knowledge and Skill: Studied chapters; knowledge and skills\n",
      "Grading Guide: Students write answers to their notebook\n",
      "Completion Criteria: >0\n",
      "Duration: Option 1: N/A Option 2: (For Constructivism Approach only): Follow lecturer's proposal\n",
      "Note: 30% of total progress mark\n",
      "--------\n",
      "\n",
      "⭐ Top 10\n",
      "🔍 Score: 0.4894\n",
      "📘 Subject: VNR202 - assessment\n",
      "📄 Content:\n",
      "TYPE: assessment\n",
      "Subject: VNR202 - History of CPV_Lịch sử Đảng Cộng sản Việt Nam\n",
      "Category: Progress tests | Part: 2 | Weight: 30.0%\n",
      "Question Type: Câu hỏi trắc nghiệm dạng đúng sai, câu hỏi trắc nghiệm dạng nhiều lựa chọn.Yes-no questions, Multiple choice questions\n",
      "Knowledge and Skill: - Test 1: Kiến thức trong phạm vi chương mở đầu, chương 1 (LO 1, LO 2, LO 4, LO 5, LO 6, LO 7, LO 8, LO 9)- Test 2: Kiến thức trong phạm vi chương 2 (LO 2, LO 4, LO 5, LO 6, LO 7, LO 8, LO 9, LO 10)- Test 1: cover introductory chapter, chapter 1 (LO 1, LO 2, LO 4, LO 5, LO 6, LO 7, LO 8, LO 9)- Test 2: cover chapter 2 (LO 2, LO 4, LO 5, LO 6, LO 7, LO 8, LO 9, LO 10)\n",
      "Grading Guide: Trong lớp họcin class\n",
      "Completion Criteria: >0\n",
      "Duration: 20'\n",
      "Note: Sinh viên không được sử dụng tài liệu.Students are not allowed to use materials.\n",
      "--------\n",
      "Xin lỗi, tôi không tìm thấy thông tin phù hợp cho câu hỏi này.\n"
     ]
    }
   ],
   "source": [
    "question_list = [\n",
    "    \"Môn CSI106 dạy những gì vậy?\",\n",
    "    \"Em cần mua sách gì cho môn MAT101?\",\n",
    "    \"Môn CSI106 có học phần tiên quyết không?\",\n",
    "    \"Môn MAT101 có phải thi cuối kỳ không?\",\n",
    "    \"Môn CSI106 dạy trong bao nhiêu buổi?\",\n",
    "    \"CLO2 của môn CSI106 yêu cầu gì?\",\n",
    "    \"Buổi số 8 của môn CSE202 có dạy kỹ năng gì?\",\n",
    "    \"Câu hỏi tư duy của buổi 13 môn CSE202 là gì?\",\n",
    "    \"Final exam môn CSI106 đánh giá CLO nào?\",\n",
    "    \"Môn CSE202 có bao nhiêu CLO?\",\n",
    "    \"Buổi số 5 của môn CSI106 dạy CLO nào?\",\n",
    "    \"Các môn nào có đánh giá thực hành?\",\n",
    "    \"Toàn bộ câu hỏi tư duy môn CSI106 là gì?\",\n",
    "    \"Những CLO nào trong môn CSE202 chưa có hình thức đánh giá?\"\n",
    "]\n",
    "for q in question_list:\n",
    "    print(\"=\" * 80)\n",
    "    print(f\"Câu hỏi: {q}\")\n",
    "    print(answer_query(q))\n",
    "    \n"
   ]
  },
  {
   "cell_type": "markdown",
   "id": "94549b84",
   "metadata": {},
   "source": [
    "## GEMINI tóm tắt"
   ]
  },
  {
   "cell_type": "code",
   "execution_count": null,
   "id": "7cf7b2d2",
   "metadata": {},
   "outputs": [],
   "source": [
    "# --- CÁC IMPORT CẦN THIẾT ---\n",
    "from numpy import dot\n",
    "from numpy.linalg import norm\n",
    "from collections import defaultdict\n",
    "import re\n",
    "import requests\n",
    "import json\n",
    "import time # [THÊM MỚI] Import thư viện time\n",
    "\n",
    "# --- HÀM TÓM TẮT (GIỮ NGUYÊN NHƯ CODE GỐC CỦA BẠN) ---\n",
    "def summarize_with_gemini( api_key: str, model: str = \"models/gemini-2.0-flash\", retrieved_chunks='', user_query='') -> str:\n",
    "    \"\"\"\n",
    "    Tóm tắt nội dung sử dụng Gemini API qua REST request.\n",
    "    \"\"\"\n",
    "    url = f\"https://generativelanguage.googleapis.com/v1beta/{model}:generateContent?key={api_key}\"\n",
    "    headers = {\"Content-Type\": \"application/json\"}\n",
    "    \n",
    "    prompt = f\"\"\"\n",
    "    Bạn là một trợ lý AI có nhiệm vụ trả lời câu hỏi của người dùng dựa trên các đoạn thông tin đã được truy xuất từ tài liệu.\n",
    "\n",
    "    Dưới đây là nội dung truy xuất:\n",
    "\n",
    "    ==== context ====\n",
    "    {retrieved_chunks}\n",
    "    ===================\n",
    "\n",
    "    Câu hỏi của người dùng:\n",
    "    {user_query}\n",
    "\n",
    "    Yêu cầu:\n",
    "    - Chỉ sử dụng thông tin có trong phần \"context\" để trả lời. Có thể điều chỉnh cách ghi lại cho đẹp\n",
    "    - Nếu câu hỏi yêu cầu nhóm, liệt kê, hoặc so sánh thì hãy xử lý và tổng hợp từ các đoạn context.\n",
    "    \n",
    "\n",
    "    Trả lời bằng văn phong ngắn gọn, rõ ràng, chính xác. Trình bày rõ ràng đừng hiện các kí tự của markdown\n",
    "    Có thể đưa ra thông tin gần đúng nếu bạn không chắc và bạn phải cảnh báo điều đó\n",
    "    \"\"\"\n",
    "\n",
    "    \n",
    "    data = {\"contents\": [{\"parts\": [{\"text\": prompt}]}]}\n",
    "    \n",
    "    try:\n",
    "        response = requests.post(url, headers=headers, json=data)\n",
    "        response.raise_for_status()\n",
    "        result = response.json()\n",
    "        summary = result[\"candidates\"][0][\"content\"][\"parts\"][0][\"text\"]\n",
    "        return summary.strip()\n",
    "    except requests.exceptions.RequestException as e:\n",
    "        print(f\"Lỗi gọi API: {e}\")\n",
    "        return \"Lỗi khi gọi API tóm tắt.\"\n",
    "    except (KeyError, IndexError) as e:\n",
    "        print(f\"Lỗi khi xử lý response từ API: {e}. Response: {response.text}\")\n",
    "        return \"Không thể tóm tắt nội dung do lỗi xử lý response.\"\n",
    "    \n",
    "    \n",
    "def search(querry=''):    \n",
    "    # --- PHẦN CODE RAG CỦA BẠN (GIỮ NGUYÊN) ---\n",
    "    # ... (Giả sử toàn bộ phần code xử lý query và tìm kiếm `hits` của bạn nằm ở đây) ...\n",
    "    query = querry\n",
    "    # query_en = query  # hoặc dùng translate nếu cần\n",
    "    query_en = translate_vi_to_en_local(query)\n",
    "    # query_en = translate_vi_to_en_google(query)\n",
    "    print('I/--------------Querry sau khi dịch:---------------')\n",
    "    print(query_en)\n",
    "\n",
    "    print('II/--------------Xác định chủ đề của querry---------------')\n",
    "    detected_type = detect_type_by_embedding(query_en)\n",
    "    print('III/--------------Xác định môn học của querry (nếu có)---------------')\n",
    "    detected_subject = detect_subject(query_en)\n",
    "    if detected_type=='student_list':\n",
    "        query_vec = embedder.embed([query])[0]\n",
    "    else:\n",
    "        query_vec = embedder.embed([query_en])[0]\n",
    "\n",
    "\n",
    "    # query_filter = {\"must\": []}\n",
    "    # if detected_type:\n",
    "    #     query_filter[\"must\"].append({\"key\": \"type\", \"match\": {\"value\": detected_type}})\n",
    "    # if detected_subject:\n",
    "    #     query_filter[\"must\"].append({\"key\": \"subject_code\", \"match\": {\"value\": detected_subject}})\n",
    "\n",
    "    query_filter = {\"should\": [], \"must\":[]}\n",
    "    if detected_type:\n",
    "        print(\"Loại detect được là:\")\n",
    "        print(detected_type)\n",
    "        query_filter[\"must\"].append({\"key\": \"type\", \"match\": {\"value\": detected_type}})\n",
    "    if detected_subject:\n",
    "        for subject_code in detected_subject:\n",
    "            print(subject_code[0])\n",
    "            query_filter[\"should\"].append({\n",
    "                \"key\": \"subject_code\",\n",
    "                \"match\": {\"value\": subject_code[0]}\n",
    "            })\n",
    "\n",
    "    hits = client.search(\n",
    "        collection_name=\"flm_fap\",\n",
    "        query_vector=query_vec.tolist(),\n",
    "        limit=50,\n",
    "        query_filter=query_filter if query_filter[\"must\"] or query_filter[\"should\"] else None\n",
    "    )\n",
    "    # print(\"\"\"⭐ Top 1\n",
    "    # 🔍 Score: 0.7008\n",
    "    # 📘 Subject: None - student_list\n",
    "    # 📄 Content:\n",
    "    # Họ và tên: Đỗ Tuấn Minh. Mã số sinh viên: DE190415. Email: tuanminhdo1203@gmail.com.\"\"\")\n",
    "\n",
    "    # --- Step 4: Hiển thị kết quả\n",
    "    for i, hit in enumerate(hits, 1):  # bắt đầu từ 1\n",
    "        print(f\"\\n⭐ Top {i}\")\n",
    "        print(f\"🔍 Score: {hit.score:.4f}\")\n",
    "        print(f\"📘 Subject: {hit.payload.get('subject_code')} - {hit.payload.get('type')}\")\n",
    "        print(f\"📄 Content:\\n{hit.payload.get('content')}\")\n",
    "        print(\"--------\")\n",
    "\n",
    "\n",
    "    # --- VÒNG LẶP HIỂN THỊ KẾT QUẢ (PHẦN KẾT HỢP ĐÃ SỬA LỖI RATE LIMIT) ---\n",
    "\n",
    "    print(\"\\n==============================================\")\n",
    "    print(\"✅ KẾT QUẢ TÌM KIẾM VÀ TÓM TẮT BẰNG GEMINI ✅\")\n",
    "    print(\"==============================================\")\n",
    "\n",
    "    if not hits:\n",
    "        print(\"Không tìm thấy kết quả phù hợp.\")\n",
    "    else:\n",
    "        retrieved_chunks=''\n",
    "        for i, hit in enumerate(hits, 1):\n",
    "            original_content = hit.payload.get('content', '')\n",
    "            retrieved_chunks=retrieved_chunks + original_content\n",
    "        \n",
    "            \n",
    "\n",
    "            # [THÊM MỚI] Tạm dừng 4 giây sau mỗi lần gọi API để tránh Rate Limit\n",
    "            # Áp dụng cho đến khi chỉ còn kết quả cuối cùng\n",
    "            # if i < len(hits):\n",
    "            #     # print(\"... Tạm dừng 4 giây ...\")\n",
    "            #     time.sleep(4)\n",
    "        print(\"\\n[*] Gemini đang tóm tắt...\")\n",
    "            \n",
    "        # Giữ nguyên cách gọi hàm với API key được gõ trực tiếp như code gốc của bạn\n",
    "        summary = summarize_with_gemini(\n",
    "            original_content, \n",
    "            gemini_api_key,\n",
    "            retrieved_chunks=retrieved_chunks,\n",
    "            user_query=query\n",
    "        )\n",
    "        \n",
    "        print(f\"✨ Tóm tắt của Gemini: {summary}\")\n",
    "        print(\"------------------------------------------\")"
   ]
  },
  {
   "cell_type": "code",
   "execution_count": null,
   "id": "f4acd0b9",
   "metadata": {},
   "outputs": [],
   "source": [
    "search(querry='môn học có điểm bonus cho bài báo')"
   ]
  },
  {
   "cell_type": "code",
   "execution_count": 39,
   "id": "7eda7413",
   "metadata": {},
   "outputs": [
    {
     "name": "stdout",
     "output_type": "stream",
     "text": [
      "['325dcd8b-71ab-49a6-b831-59e8f47836b0', 'a72f02fb-ae0c-483c-b95b-6675ec2d04a6', 'da2f4d05-3b1d-4c87-9bb5-c51ce7c9bea2']\n",
      "Deleted 3 points.\n"
     ]
    }
   ],
   "source": [
    "# from qdrant_client.http import models\n",
    "# collection_name = \"flm_fap\"\n",
    "\n",
    "# # Scroll toàn bộ điểm có payload (bạn có thể chia batch nếu lớn)\n",
    "# scroll_result = client.scroll(\n",
    "#     collection_name=collection_name,\n",
    "#     with_payload=True,\n",
    "#     limit=10000  # Tùy chỉnh nếu nhiều hơn\n",
    "# )\n",
    "\n",
    "# # Lọc các point có SubjectCode bắt đầu bằng \"AI17_COM\"\n",
    "# points_to_delete = [\n",
    "#     point.id\n",
    "#     for point in scroll_result[0]\n",
    "#     if isinstance(point.payload.get(\"subject_code\"), str)\n",
    "#     and point.payload[\"subject_code\"].startswith(\"PHE_COM\")\n",
    "# ]\n",
    "# print(points_to_delete)\n",
    "# # Xoá các point\n",
    "# if points_to_delete:\n",
    "#     client.delete(\n",
    "#         collection_name=collection_name,\n",
    "#         points_selector=models.PointIdsList(points=points_to_delete)\n",
    "#     )\n",
    "#     print(f\"Deleted {len(points_to_delete)} points.\")\n",
    "# else:\n",
    "#     print(\"No points matched 'SubjectCode' starting with 'PHE_COM'.\")"
   ]
  },
  {
   "cell_type": "code",
   "execution_count": 15,
   "id": "a46902f7",
   "metadata": {},
   "outputs": [],
   "source": [
    "# for point in points:\n",
    "#     print(point.payload.keys())\n"
   ]
  },
  {
   "cell_type": "markdown",
   "id": "1aa3ee9b",
   "metadata": {},
   "source": [
    "## GEMINI giúp phân tích QUERY"
   ]
  },
  {
   "cell_type": "code",
   "execution_count": null,
   "id": "567a291f",
   "metadata": {},
   "outputs": [],
   "source": [
    "import re\n",
    "def extract_json_from_markdown(text):\n",
    "    match = re.search(r\"```json\\s*(\\{.*?\\})\\s*```\", text, re.DOTALL)\n",
    "    if match:\n",
    "        json_str = match.group(1)\n",
    "        return json.loads(json_str)\n",
    "    else:\n",
    "        raise ValueError(\"Không tìm thấy JSON trong markdown block.\")\n",
    "    \n",
    "\n",
    "def build_classification_prompt(query: str) -> str:\n",
    "    return f\"\"\"\n",
    "You are an AI assistant helping classify a student's academic query.\n",
    "\n",
    "## Task:\n",
    "Given a query (possibly in Vietnamese), you need to:\n",
    "1. **Translate the query to English** first.\n",
    "2. Determine the **type** of information being asked (from a fixed set of types).\n",
    "3. Identify any clearly related **subject codes**. Only return subjects if you're confident.\n",
    "4. Estimate the **semester** (0–9) if it is clearly implied. Omit this field if unsure.\n",
    "\n",
    "## Types:\n",
    "{json.dumps(TYPE_DESCRIPTIONS, indent=2)}\n",
    "\n",
    "## Subjects:\n",
    "You are provided a mapping of subject codes to their full names:\n",
    "{json.dumps(subject_map, indent=2)}\n",
    "\n",
    "## Output format:\n",
    "Return a JSON object with these fields:\n",
    "- `\"type\"`: One of the predefined type keys.\n",
    "- `\"subjects\"`: A list of subject codes (e.g., [\"SEG301\", \"SSL101c\"]). Leave empty if not confident.\n",
    "- `\"semester\"`: Integer from 0 to 9, **only if confident**. Omit this field if unsure.\n",
    "- `\"query_en\"`: The English translation of the input query.\n",
    "\n",
    "## Original Query:\n",
    "\"{query}\"\n",
    "\n",
    "## Output JSON:\n",
    "\"\"\".strip()\n",
    "\n",
    "\n",
    "\n",
    "\n",
    "\n",
    "\n",
    "def analyze_intent_with_gemini(api_key: str, model: str = \"models/gemini-2.0-flash\", query='') -> str:\n",
    "    \"\"\"\n",
    "    Tóm tắt nội dung sử dụng Gemini API qua REST request.\n",
    "    \"\"\"\n",
    "    url = f\"https://generativelanguage.googleapis.com/v1beta/{model}:generateContent?key={api_key}\"\n",
    "    headers = {\"Content-Type\": \"application/json\"}\n",
    "    \n",
    "    prompt = build_classification_prompt(query)\n",
    "\n",
    "    \n",
    "    data = {\"contents\": [{\"parts\": [{\"text\": prompt}]}]}\n",
    "    \n",
    "    try:\n",
    "        response = requests.post(url, headers=headers, json=data)\n",
    "        response.raise_for_status()\n",
    "        result = response.json()\n",
    "        summary = result[\"candidates\"][0][\"content\"][\"parts\"][0][\"text\"]\n",
    "        return extract_json_from_markdown(summary)\n",
    "    except requests.exceptions.RequestException as e:\n",
    "        print(f\"Lỗi gọi API: {e}\")\n",
    "        return \"Lỗi khi gọi API tóm tắt.\"\n",
    "    except (KeyError, IndexError) as e:\n",
    "        print(f\"Lỗi khi xử lý response từ API: {e}. Response: {response.text}\")\n",
    "        return \"Không thể tóm tắt nội dung do lỗi xử lý response.\"\n",
    "    \n",
    "\n",
    "\n",
    "\n",
    "\n"
   ]
  },
  {
   "cell_type": "code",
   "execution_count": null,
   "id": "1af32a9b",
   "metadata": {},
   "outputs": [
    {
     "name": "stdout",
     "output_type": "stream",
     "text": [
      "{'type': 'overview', 'subjects': ['AIL303m', 'DPL302m'], 'query_en': 'AIL and DPL'}\n"
     ]
    },
    {
     "data": {
      "application/vnd.jupyter.widget-view+json": {
       "model_id": "3865b19450ff481693bcc44f95de4dd0",
       "version_major": 2,
       "version_minor": 0
      },
      "text/plain": [
       "Batches:   0%|          | 0/1 [00:00<?, ?it/s]"
      ]
     },
     "metadata": {},
     "output_type": "display_data"
    },
    {
     "name": "stdout",
     "output_type": "stream",
     "text": [
      "Loại detect được là:\n",
      "overview\n",
      "AIL303m\n",
      "DPL302m\n"
     ]
    },
    {
     "name": "stderr",
     "output_type": "stream",
     "text": [
      "C:\\Users\\DO TUAN MINH\\AppData\\Local\\Temp\\ipykernel_15460\\2395562874.py:37: DeprecationWarning: `search` method is deprecated and will be removed in the future. Use `query_points` instead.\n",
      "  hits = client.search(\n"
     ]
    },
    {
     "name": "stdout",
     "output_type": "stream",
     "text": [
      "\n",
      "⭐ Top 1\n",
      "🔍 Score: 0.5185\n",
      "📘 Subject: DPL302m - overview\n",
      "📄 Content:\n",
      "TYPE: overview\n",
      "Subject Code: DPL302m\n",
      "Subject Name: Deep Learning_Học sâu\n",
      "Degree Level: Bachelor | Credits: 6 | Semester: 5\n",
      "Belong To Combo: None\n",
      "Pre-requisites: AIL303m\n",
      "Scoring Scale: 10.0 | Min Avg Mark to Pass: 5.0\n",
      "Approved: True on 11/22/2024\n",
      "Subject Link: https://flm.fpt.edu.vn/gui/role/student/Syllabuses.aspx?subCode=DPL302m&curriculumID=2347\n",
      "\n",
      "--- TIME ALLOCATION ---\n",
      "Study hour (300 h) = 90 h contact hours + 1 h final exam + 209 h self-study\n",
      "--- TIME ALLOCATION END ---\n",
      "\n",
      "--- DESCRIPTION ---\n",
      "- In this course, student will build and train neural network architectures such as Convolutional Neural Networks, Recurrent Neural Networks, LSTMs, Transformers, and learn how to make them better with strategies such as Dropout, Batch Norm, Xavier/He initialization, and more. Get ready to master theoretical concepts and their industry applications using Python and Tensor Flow and tackle real-world cases such as speech recognition, music synthesis, chatbots, machine translation, natural language processing, and more.\n",
      "--- END DESCRIPTION ---\n",
      "--- STUDENT TASKS ---\n",
      "- - Students must attend at least 80% of contact slots in order to be accepted to the final examination.- Student is responsible to do all exercises, assignments and labs given by instructor in class or at home and submit on time- Use laptop in class only for learning purpose- Promptly access to the FU LMS at http://flm.fpt.edu.vn for up-to-date course information\n",
      "--- END STUDENT TASKS ---\n",
      "--- TOOLS ---\n",
      "- - Jupyter notebook- Cloud server: 72 hours/project\n",
      "--- END TOOLS ---\n",
      "--- NOTE ---\n",
      "- 1) On-going Assessment- 4 labs: 20%- 1 Project: 40%- 2 progress tests: 10%2) 1 Final Exam: 30%3) Final Result 100% Completion Criteria:1) Every on-going assessment component > 02) Final Exam Score >= 4 & Final Result >= 5 Note: All GP certificates is a prerequisite for project grading.\n",
      "--- END NOTE ---\n",
      "\n",
      "--------\n",
      "\n",
      "⭐ Top 2\n",
      "🔍 Score: 0.4805\n",
      "📘 Subject: AIL303m - overview\n",
      "📄 Content:\n",
      "TYPE: overview\n",
      "Subject Code: AIL303m\n",
      "Subject Name: Machine Learning_Học máy\n",
      "Degree Level: Bachelor | Credits: 3 | Semester: 4\n",
      "Belong To Combo: None\n",
      "Pre-requisites: MAS291, MAI391, PFP191\n",
      "Scoring Scale: 10.0 | Min Avg Mark to Pass: 5.0\n",
      "Approved: True on 4/3/2024\n",
      "Subject Link: https://flm.fpt.edu.vn/gui/role/student/Syllabuses.aspx?subCode=AIL303m&curriculumID=2347\n",
      "\n",
      "--- TIME ALLOCATION ---\n",
      "45 h (60 sessions) contact hours + 1 h final exam + 104 h self-study\n",
      "--- TIME ALLOCATION END ---\n",
      "\n",
      "--- DESCRIPTION ---\n",
      "- The course provides an introduction to Exploratory Data Analysis for Machine Learning (common techniques to retrieve your data, clean it, apply feature engineering, and have it ready for preliminary analysis and hypothesis testing), Supervised Machine Learning (how to train models to predict outcomes and how to use error metrics to compare across different supervised models), , Unsupervised Machine Learning (how to find insights from data sets that do not have a target or labeled variable. Learners will learn several clustering and dimension reduction algorithms for unsupervised learning as well as how to select the algorithm that best suits your data).\n",
      "--- END DESCRIPTION ---\n",
      "--- STUDENT TASKS ---\n",
      "- - Students must attend at least 80% of contact slots in order to be accepted to the final examination.- Student is responsible to do all exercises, assignments and labs given by instructor in class or at home and submit on time- Use laptop in class only for learning purpose- Promptly access to the FU LMS at https://flm.fpt.edu.vn/ for up-to-date course information\n",
      "--- END STUDENT TASKS ---\n",
      "--- TOOLS ---\n",
      "- - jupyterlite- Jupyter Lab\n",
      "--- END TOOLS ---\n",
      "--- NOTE ---\n",
      "\n",
      "--- END NOTE ---\n",
      "\n",
      "--------\n"
     ]
    }
   ],
   "source": [
    "query = \"AIL và DPL\"\n",
    "\n",
    "# query_en = query  # hoặc dùng translate nếu cần\n",
    "# query_en = translate_vi_to_en_google(query)\n",
    "analyze=analyze_intent_with_gemini(gemini_api_key,query=query) \n",
    "print(analyze)\n",
    "query_en=analyze[\"query_en\"]\n",
    "detected_type=analyze[\"type\"]\n",
    "detected_subject=analyze[\"subjects\"] \n",
    "detected_semester=analyze[\"semester\"] if 'semester' in analyze.keys() else ''\n",
    "\n",
    "if detected_type=='student_list':\n",
    "    query_vec = embedder.embed([query])[0]\n",
    "else: \n",
    "    query_vec = embedder.embed([query_en])[0]\n",
    "\n",
    "\n",
    "query_filter = {\"should\": [], \"must\":[]}\n",
    "if detected_type:\n",
    "    print(\"Loại detect được là:\")\n",
    "    print(detected_type)\n",
    "    query_filter[\"must\"].append({\"key\": \"type\", \"match\": {\"value\": detected_type}})\n",
    "\n",
    "if detected_subject:\n",
    "    for subject_code in detected_subject:\n",
    "        print(subject_code)\n",
    "        query_filter[\"should\"].append({\n",
    "            \"key\": \"subject_code\",\n",
    "            \"match\": {\"value\": subject_code}\n",
    "        })\n",
    "\n",
    "if detected_semester:\n",
    "    print(\"Kì detect được là:\")\n",
    "    print(detected_semester)\n",
    "    query_filter[\"should\"].append({\"key\": \"semester\", \"match\": {\"value\": detected_semester}})\n",
    "\n",
    "hits = client.search(\n",
    "    collection_name=\"flm_fap\",\n",
    "    query_vector=query_vec.tolist(),\n",
    "    limit=10,\n",
    "    query_filter=query_filter if query_filter[\"must\"] or query_filter[\"should\"] else None\n",
    ")\n",
    "# print(\"\"\"⭐ Top 1\n",
    "# 🔍 Score: 0.7008\n",
    "# 📘 Subject: None - student_list\n",
    "# 📄 Content:\n",
    "# Họ và tên: Đỗ Tuấn Minh. Mã số sinh viên: DE190415. Email: tuanminhdo1203@gmail.com.\"\"\")\n",
    "\n",
    "# --- Step 4: Hiển thị kết quả\n",
    "for i, hit in enumerate(hits, 1):  # bắt đầu từ 1\n",
    "    print(f\"\\n⭐ Top {i}\")\n",
    "    print(f\"🔍 Score: {hit.score:.4f}\")\n",
    "    print(f\"📘 Subject: {hit.payload.get('subject_code')} - {hit.payload.get('type')}\")\n",
    "    print(f\"📄 Content:\\n{hit.payload.get('content')}\")\n",
    "    print(\"--------\")"
   ]
  },
  {
   "cell_type": "markdown",
   "id": "6c547871",
   "metadata": {},
   "source": [
    "## Hàm kết hợp hoàn chỉnh"
   ]
  },
  {
   "cell_type": "code",
   "execution_count": null,
   "id": "4c6a20a2",
   "metadata": {},
   "outputs": [],
   "source": [
    "# query = \"các môn học có điểm bonus cho bài báo được accept\"\n",
    "# query_en = query  # hoặc dùng translate nếu cần\n",
    "# query_en = translate_vi_to_en_google(query)\n",
    "def search_full(query=''):\n",
    "    query=query\n",
    "    query_filter = {\"should\": [], \"must\": []}\n",
    "    query_en = ''\n",
    "    detected_type = ''\n",
    "    detected_subject = []\n",
    "    detected_semester = ''\n",
    "    try:\n",
    "        # Gọi Gemini API phân tích intent\n",
    "        analyze = analyze_intent_with_gemini(gemini_api_key, query=query)\n",
    "        print(\"🔍 Analyze thành công từ Gemini:\")\n",
    "        print(analyze)\n",
    "\n",
    "        # Check các trường bắt buộc có trong kết quả\n",
    "        if \"query_en\" in analyze and \"type\" in analyze and \"subjects\" in analyze:\n",
    "            query_en = analyze[\"query_en\"]\n",
    "            detected_type = analyze[\"type\"]\n",
    "            detected_subject = analyze[\"subjects\"]\n",
    "            detected_semester = analyze.get(\"semester\", \"\")\n",
    "            if detected_type =='student_list' or detected_type =='guide': \n",
    "                detected_subject = []\n",
    "            if detected_subject:\n",
    "                for subject_code in detected_subject:\n",
    "                    print(f\"🎯 Mã môn phát hiện: {subject_code}\")\n",
    "                    query_filter[\"should\"].append({\n",
    "                        \"key\": \"subject_code\",\n",
    "                        \"match\": {\"value\": subject_code}\n",
    "                    })\n",
    "        else:\n",
    "            raise ValueError(\"Missing fields in Gemini response\")\n",
    "\n",
    "    except Exception as e:\n",
    "        print(f\"⚠️ Lỗi khi gọi hoặc xử lý Gemini: {e}\")\n",
    "        print(\"↩️ Fallback sang xử lý thủ công\")\n",
    "\n",
    "        query_en = translate_vi_to_en_local(query)\n",
    "        print('📝 Query dịch: ', query_en)\n",
    "\n",
    "        detected_type = detect_type_by_embedding(query_en)\n",
    "        detected_subject = detect_subject(query_en)\n",
    "        if detected_type =='student_list' or detected_type =='guide': \n",
    "            detected_subject = []\n",
    "        if detected_subject:\n",
    "            for subject_code in detected_subject:\n",
    "                code = subject_code[0] if isinstance(subject_code, (list, tuple)) else subject_code\n",
    "                print(f\"🎯 Mã môn phát hiện (thủ công): {code}\")\n",
    "                query_filter[\"should\"].append({\n",
    "                    \"key\": \"subject_code\",\n",
    "                    \"match\": {\"value\": code}\n",
    "                })\n",
    "\n",
    "    if detected_type=='student_list':\n",
    "        query_vec = embedder.embed([query])[0]\n",
    "    else: \n",
    "        query_vec = embedder.embed([query_en])[0]\n",
    "\n",
    "\n",
    "    # query_filter = {\"must\": []}\n",
    "    # if detected_type:\n",
    "    #     query_filter[\"must\"].append({\"key\": \"type\", \"match\": {\"value\": detected_type}})\n",
    "    # if detected_subject:\n",
    "    #     query_filter[\"must\"].append({\"key\": \"subject_code\", \"match\": {\"value\": detected_subject}})\n",
    "    \n",
    " \n",
    "    if detected_type:\n",
    "        print(\"Loại detect được là:\")\n",
    "        print(detected_type)\n",
    "        query_filter[\"must\"].append({\"key\": \"type\", \"match\": {\"value\": detected_type}})\n",
    "    # if detected_subject:\n",
    "    #     for subject_code in detected_subject:\n",
    "    #         print(subject_code)\n",
    "    #         query_filter[\"should\"].append({\n",
    "    #             \"key\": \"subject_code\",\n",
    "    #             \"match\": {\"value\": subject_code}\n",
    "    #         })\n",
    "    if detected_semester:\n",
    "        print(\"Kì detect được là:\")\n",
    "        print(detected_semester)\n",
    "        query_filter[\"should\"].append({\"key\": \"semester\", \"match\": {\"value\": detected_semester}})\n",
    "\n",
    "        \n",
    "    print(query_filter)\n",
    "    hits = client.search(\n",
    "        collection_name=\"FINAL\",\n",
    "        query_vector=query_vec.tolist(),\n",
    "        limit=30,\n",
    "        query_filter=query_filter if query_filter[\"must\"] or query_filter[\"should\"] else None\n",
    "    )\n",
    "    # print(\"\"\"⭐ Top 1\n",
    "    # 🔍 Score: 0.7008\n",
    "    # 📘 Subject: None - student_list\n",
    "    # 📄 Content:\n",
    "    # Họ và tên: Đỗ Tuấn Minh. Mã số sinh viên: DE190415. Email: tuanminhdo1203@gmail.com.\"\"\")\n",
    "\n",
    "    # --- Step 4: Hiển thị kết quả\n",
    "    for i, hit in enumerate(hits, 1):  # bắt đầu từ 1\n",
    "        print(f\"\\n⭐ Top {i}\")\n",
    "        print(f\"🔍 Score: {hit.score:.4f}\")\n",
    "        print(f\"📘 Subject: {hit.payload.get('subject_code')} - {hit.payload.get('type')}\")\n",
    "        print(f\"📄 Content:\\n{hit.payload.get('content')}\")\n",
    "        print(\"--------\")\n",
    "    retrieved_chunks=''\n",
    "    \n",
    "    for i, hit in enumerate(hits, 1):\n",
    "        original_content = hit.payload.get('content', '')\n",
    "        retrieved_chunks=retrieved_chunks + original_content\n",
    "\n",
    "        \n",
    "\n",
    "        # [THÊM MỚI] Tạm dừng 4 giây sau mỗi lần gọi API để tránh Rate Limit\n",
    "        # Áp dụng cho đến khi chỉ còn kết quả cuối cùng\n",
    "        # if i < len(hits):\n",
    "        #     # print(\"... Tạm dừng 4 giây ...\")\n",
    "        #     time.sleep(4)\n",
    "    print(\"\\n[*] Gemini đang tóm tắt...\")\n",
    "        \n",
    "    # Giữ nguyên cách gọi hàm với API key được gõ trực tiếp như code gốc của bạn\n",
    "    summary = summarize_with_gemini(\n",
    "        gemini_api_key,\n",
    "        retrieved_chunks=retrieved_chunks,\n",
    "        user_query=query\n",
    "    )\n",
    "\n",
    "    print(f\"✨ Tóm tắt của Gemini: {summary}\")\n",
    "    print(\"------------------------------------------\")"
   ]
  },
  {
   "cell_type": "code",
   "execution_count": 95,
   "id": "8e0c1103",
   "metadata": {},
   "outputs": [
    {
     "name": "stdout",
     "output_type": "stream",
     "text": [
      "🔍 Analyze thành công từ Gemini:\n",
      "{'type': 'overview', 'subjects': [], 'semester': 5, 'query_en': 'subjects in semester 5'}\n"
     ]
    },
    {
     "data": {
      "application/vnd.jupyter.widget-view+json": {
       "model_id": "f426727c497d402fabc0e7c04bfa877f",
       "version_major": 2,
       "version_minor": 0
      },
      "text/plain": [
       "Batches:   0%|          | 0/1 [00:00<?, ?it/s]"
      ]
     },
     "metadata": {},
     "output_type": "display_data"
    },
    {
     "name": "stdout",
     "output_type": "stream",
     "text": [
      "Loại detect được là:\n",
      "overview\n",
      "Kì detect được là:\n",
      "5\n",
      "{'should': [{'key': 'semester', 'match': {'value': 5}}], 'must': [{'key': 'type', 'match': {'value': 'overview'}}]}\n"
     ]
    },
    {
     "name": "stderr",
     "output_type": "stream",
     "text": [
      "C:\\Users\\DO TUAN MINH\\AppData\\Local\\Temp\\ipykernel_6772\\2650392956.py:86: DeprecationWarning: `search` method is deprecated and will be removed in the future. Use `query_points` instead.\n",
      "  hits = client.search(\n"
     ]
    },
    {
     "name": "stdout",
     "output_type": "stream",
     "text": [
      "\n",
      "⭐ Top 1\n",
      "🔍 Score: 0.6014\n",
      "📘 Subject: SEG301 - overview\n",
      "📄 Content:\n",
      "TYPE: overview\n",
      "Subject Code: SEG301\n",
      "Subject Name: Search Engines_Công cụ tìm kiếm\n",
      "Degree Level: Bachelor | Credits: 3 | Semester: 5\n",
      "Belong To Combo: AI17_COM2.1: Topic on AI Applied research_Chủ đề Định hướng nghiên cứu ứng dụng TTNT\n",
      "Pre-requisites: None\n",
      "Scoring Scale: 10.0 | Min Avg Mark to Pass: 5.0\n",
      "Approved: True on 4/9/2025\n",
      "Subject Link: https://flm.fpt.edu.vn/gui/role/student/SyllabusDetails.aspx?sylid=12633\n",
      "\n",
      "--- TIME ALLOCATION ---\n",
      "45 h (60 sessions) contact hours + 1 h final exam + 104 h self-study\n",
      "--- TIME ALLOCATION END ---\n",
      "\n",
      "--- DESCRIPTION ---\n",
      "- The theory, creation, and use of text-based search engines are covered in this lecture-based course. The main content includes experimental assessment, representation of information demands and documents, several significant retrieval models, and statistical features of the text. Besides, the course covers typical components of commercial search engines, such as federated search, vertical search, tailored search results, and diversified search results.\n",
      "--- END DESCRIPTION ---\n",
      "--- STUDENT TASKS ---\n",
      "- - Students must attend at least 80% of contact slots in order to be accepted to the final examination.- Student is responsible to do all exercises, assignments and labs given by instructor in class or at home and submit on time- Use laptop in class only for learning purpose- Promptly access to https://flm.fpt.edu.vn for up-to-date course information\n",
      "--- END STUDENT TASKS ---\n",
      "--- TOOLS ---\n",
      "- No\n",
      "--- END TOOLS ---\n",
      "--- NOTE ---\n",
      "- 1) On-going Assessment- 3 Assignments: 30%- 2 progress tests: 30%2) 1 Final Exam: 40%3) Final Result 100% (The Final result - including bonus score - is not greater than 10) Completion Criteria:1) Every on-going assessment component > 02) Final Exam Score >= 4 & Final Result >= 5 Bonus score for accepted paper (email accepted/ published):ISI/Scopus Q 1, Q 2: 5 ISI/Scopus Q 3, Q 4: 3 Scopus Q 1, Q 2: 3 Scopus Q 3, Q 4: 2 The accepted paper must be related to topics in AI 17_COM 2 and be assessed by the in-class Lecturer.Source to check Scopus ranking: https://www.scimagojr.com/Source to check ISI: https://mjl.clarivate.com\n",
      "--- END NOTE ---\n",
      "\n",
      "--------\n",
      "\n",
      "⭐ Top 2\n",
      "🔍 Score: 0.5658\n",
      "📘 Subject: BDI302c - overview\n",
      "📄 Content:\n",
      "TYPE: overview\n",
      "Subject Code: BDI302c\n",
      "Subject Name: Big Data_Dữ liệu lớn\n",
      "Degree Level: Bachelor | Credits: 3 | Semester: 5\n",
      "Belong To Combo: AI17_COM1: Topic on Applied Data Science_Chủ đề Khoa học dữ liệu ứng dụng BIT_AI_K17C(FNO)\n",
      "Pre-requisites: None\n",
      "Scoring Scale: 10.0 | Min Avg Mark to Pass: 5.0\n",
      "Approved: True on 4/9/2025\n",
      "Subject Link: https://flm.fpt.edu.vn/gui/role/student/SyllabusDetails.aspx?sylid=12550\n",
      "\n",
      "--- TIME ALLOCATION ---\n",
      "Study hour (150 h) = 81 h online + 3 h offline + 1 h final exam + 65 h self-study\n",
      "--- TIME ALLOCATION END ---\n",
      "\n",
      "--- DESCRIPTION ---\n",
      "- This course covers 5 of 6 courses of Big Data Specialization (UC San Diego) on the Coursera platform. This course will prepare students to ask the right questions about data, communicate effectively with data scientists, and do basic exploration of large, complex datasets. By following along with provided code, students will experience how one can perform predictive modeling and leverage graph analytics to model problems. They will be guided through the basics of using Hadoop with Map Reduce, Spark, Pig and Hive.\n",
      "--- END DESCRIPTION ---\n",
      "--- STUDENT TASKS ---\n",
      "- 1. Complete the online courses and get all course certifications to be allowed to take Final Exam 2. Final Exam included Final Theory Exam (TE): 100%3. Students who complete all MOOCs before the course deadline will receive 1 bonus point; otherwise, no bonus point will be awarded.4. Completion Criteria: Final TE Score >=4 & (Final TE Score + bonus) >= 5\n",
      "--- END STUDENT TASKS ---\n",
      "--- TOOLS ---\n",
      "- Hadoop, Cloudera VM, KNIME, Spark\n",
      "--- END TOOLS ---\n",
      "--- NOTE ---\n",
      "\n",
      "--- END NOTE ---\n",
      "\n",
      "--------\n",
      "\n",
      "⭐ Top 3\n",
      "🔍 Score: 0.5476\n",
      "📘 Subject: DSR301m - overview\n",
      "📄 Content:\n",
      "TYPE: overview\n",
      "Subject Code: DSR301m\n",
      "Subject Name: Applied Data Science with R - Khoa học dữ liệu ứng dụng với R\n",
      "Degree Level: Bachelor | Credits: 3 | Semester: 5\n",
      "Belong To Combo: AI17_COM1: Topic on Applied Data Science_Chủ đề Khoa học dữ liệu ứng dụng BIT_AI_K17C(FNO)\n",
      "Pre-requisites: None\n",
      "Scoring Scale: 10.0 | Min Avg Mark to Pass: 5.0\n",
      "Approved: True on 4/3/2024\n",
      "Subject Link: https://flm.fpt.edu.vn/gui/role/student/SyllabusDetails.aspx?sylid=11217\n",
      "\n",
      "--- TIME ALLOCATION ---\n",
      "Study hour (150 h) =45 h (60 sessions) contact hours + 1 h final exam + 104 h self-study\n",
      "--- TIME ALLOCATION END ---\n",
      "\n",
      "--- DESCRIPTION ---\n",
      "- This course introduces the basics of the R language such as data types, techniques for manipulation. Students will be able to perform basic R programming tasks to complete the data analysis process, create relational databases and query the data using SQL and R and communicate their data findings using data visualization techniques. Students will work with tools like R Studio and related R libraries for data science such as Tidyverse, Tidymodels, R Shiny, ggplot 2.\n",
      "--- END DESCRIPTION ---\n",
      "--- STUDENT TASKS ---\n",
      "- - Students must attend at least 80% of contact slots in order to be accepted to the final examination.- Student is responsible to do all exercises, assignments and labs given by instructor in class or at home and submit on time- Use laptop in class only for learning purpose- Promptly access to the FU LMS at http://lms.fpt.edu.vn for up-to-date course information\n",
      "--- END STUDENT TASKS ---\n",
      "--- TOOLS ---\n",
      "- Jupyter Notebooks, RStudio IDE\n",
      "--- END TOOLS ---\n",
      "--- NOTE ---\n",
      "- Assignment: plus 0.5 to 1 points for completed IBM certification\n",
      "--- END NOTE ---\n",
      "\n",
      "--------\n",
      "\n",
      "⭐ Top 4\n",
      "🔍 Score: 0.5346\n",
      "📘 Subject: TMG301 - overview\n",
      "📄 Content:\n",
      "TYPE: overview\n",
      "Subject Code: TMG301\n",
      "Subject Name: Text Mining_Khai thác văn bản\n",
      "Degree Level: Bachelor | Credits: 3 | Semester: 5\n",
      "Belong To Combo: AI17_COM2.1: Topic on AI Applied research_Chủ đề Định hướng nghiên cứu ứng dụng TTNT\n",
      "Pre-requisites: None\n",
      "Scoring Scale: 10.0 | Min Avg Mark to Pass: 5.0\n",
      "Approved: True on 7/29/2024\n",
      "Subject Link: https://flm.fpt.edu.vn/gui/role/student/SyllabusDetails.aspx?sylid=11561\n",
      "\n",
      "--- TIME ALLOCATION ---\n",
      "45 h (60 sessions) contact hours + 1 h final exam + 104 h self-study\n",
      "--- TIME ALLOCATION END ---\n",
      "\n",
      "--- DESCRIPTION ---\n",
      "- This course will cover the primary techniques for mining and analyzing text data to discover interesting patterns, extract practical knowledge, and support decision-making, emphasizing statistical approaches that can be generally applied to arbitrary text data in any natural language with no or minimum human effort. Detailed analysis of text data requires understanding natural language text, which is a difficult task for computers\n",
      "--- END DESCRIPTION ---\n",
      "--- STUDENT TASKS ---\n",
      "- - Students must attend at least 80% of contact slots in order to be accepted to the final examination.- Student is responsible to do all exercises, assignments and labs given by instructor in class or at home and submit on time- Use laptop in class only for learning purpose- Promptly access to the FU FLM at https://flm.fpt.edu.vn/ for up-to-date course information\n",
      "--- END STUDENT TASKS ---\n",
      "--- TOOLS ---\n",
      "- No\n",
      "--- END TOOLS ---\n",
      "--- NOTE ---\n",
      "- 1) On-going Assessment- 2 Assignments: 30%- 2 progress tests: 30%2) 1 Final Exam: 40%3) Final Result 100% (The Final result - including bonus score - is not greater than 10) Completion Criteria:1) Every on-going assessment component > 02) Final Exam Score >= 4 & Final Result >= 5 Bonus score for accepted paper (email accepted/ published):ISI/Scopus Q 1, Q 2: 5 ISI/Scopus Q 3, Q 4: 3 Scopus Q 1, Q 2: 3 Scopus Q 3, Q 4: 2 The accepted paper must be related to topics in AI 17_COM 2 and be assessed by the in-class Lecturer.Source to check Scopus ranking: https://www.scimagojr.com/Source to check ISI: https://mjl.clarivate.com\n",
      "--- END NOTE ---\n",
      "\n",
      "--------\n",
      "\n",
      "⭐ Top 5\n",
      "🔍 Score: 0.5282\n",
      "📘 Subject: AIH301m - overview\n",
      "📄 Content:\n",
      "TYPE: overview\n",
      "Subject Code: AIH301m\n",
      "Subject Name: AI in Healthcare_Ứng dụng TTNT trong chăm sóc sức khỏe\n",
      "Degree Level: Bachelor | Credits: 3 | Semester: 5\n",
      "Belong To Combo: AI17_COM3: Topic on AI application_Chủ đề Ứng dụng TTNT BIT_AI_K17C(FNO)\n",
      "Pre-requisites: None\n",
      "Scoring Scale: 10.0 | Min Avg Mark to Pass: 5.0\n",
      "Approved: True on 4/3/2024\n",
      "Subject Link: https://flm.fpt.edu.vn/gui/role/student/SyllabusDetails.aspx?sylid=11221\n",
      "\n",
      "--- TIME ALLOCATION ---\n",
      "45 h (60 sessions) contact hours + 1 h final exam + 104 h self-study\n",
      "--- TIME ALLOCATION END ---\n",
      "\n",
      "--- DESCRIPTION ---\n",
      "- Artificial intelligence (AI) has transformed industries around the world, and has the potential to radically alter the field of healthcare. The aim of this unit is to introducethe current and future applications of AI in healthcare with the goal of learning to bring AI technologies into the clinic safely and ethically. Students will be guided to analyze data on patient, such as diseases, medications, tests, or valuable health information, and get a sense of how AI could transform patient care and diagnoses.\n",
      "--- END DESCRIPTION ---\n",
      "--- STUDENT TASKS ---\n",
      "- - Students must attend at least 80% of contact slots in order to be accepted to the final examination.- Student is responsible to do all exercises, assignments and labs given by instructor in class or at home and submit on time- Use laptop in class only for learning purpose- Promptly access to the FU FLM at https://flm.fpt.edu.vn/ for up-to-date course information\n",
      "--- END STUDENT TASKS ---\n",
      "--- TOOLS ---\n",
      "- No\n",
      "--- END TOOLS ---\n",
      "--- NOTE ---\n",
      "\n",
      "--- END NOTE ---\n",
      "\n",
      "--------\n",
      "\n",
      "⭐ Top 6\n",
      "🔍 Score: 0.5208\n",
      "📘 Subject: ASR301c - overview\n",
      "📄 Content:\n",
      "TYPE: overview\n",
      "Subject Code: ASR301c\n",
      "Subject Name: AI for Scientific Research_TTNT cho Nghiên cứu khoa học\n",
      "Degree Level: Bachelor | Credits: 3 | Semester: 5\n",
      "Belong To Combo: AI17_COM3: Topic on AI application_Chủ đề Ứng dụng TTNT BIT_AI_K17C(FNO)\n",
      "Pre-requisites: None\n",
      "Scoring Scale: 10.0 | Min Avg Mark to Pass: 5.0\n",
      "Approved: True on 4/9/2025\n",
      "Subject Link: https://flm.fpt.edu.vn/gui/role/student/SyllabusDetails.aspx?sylid=12628\n",
      "\n",
      "--- TIME ALLOCATION ---\n",
      "Study hour (150 h) = 46 h online + 3 h offline + 1 h final exam + 100 h self-study\n",
      "--- TIME ALLOCATION END ---\n",
      "\n",
      "--- DESCRIPTION ---\n",
      "- This course is about using AI in scientific situations to discover trends and patterns within datasets. Course 1 teaches a little about the Python language related to data science. We'll share some existing libraries to help analyze your datasets. By the end of the course, you'll apply a classification model to predict the presence or absence of heart disease from a patient's health data. Course 2 covers the complete machine learning pipeline, from reading in, cleaning, and transforming data to running basic and advanced machine learning algorithms. In the final project, we'll apply our skills to compare different machine learning models in Python. In Course 3, we will build on our knowledge of basic models and explore more advanced AI techniques. We’ll describe the differences between the two techniques and explore how they differ. Then, we’ll complete a project predicting similarities between health patients using random forests. In Course 4, a capstone project course, we'll compare genome sequences of COVID-19 mutations to identify potential areas a drug therapy can look to target. By the end, you'll be well on your way to discovering ways to combat disease with genome sequencing.\n",
      "--- END DESCRIPTION ---\n",
      "--- STUDENT TASKS ---\n",
      "- Student must get the certification of AI for Scientific Research Specialization from Coursera to be accepted to the final examination\n",
      "--- END STUDENT TASKS ---\n",
      "--- TOOLS ---\n",
      "\n",
      "--- END TOOLS ---\n",
      "--- NOTE ---\n",
      "- 1. Final Exam included Final Theory Exam (TE): 100%2. Students who complete all MOOCs before the course deadline will receive 1 bonus point; otherwise, no bonus point will be awarded.3.Completion Criteria: Final TE Score >=4 & (Final TE Score + bonus) >= 54. Complete the online courses and get all specialization certifications to be allowed to take Final Exam\n",
      "--- END NOTE ---\n",
      "\n",
      "--------\n",
      "\n",
      "⭐ Top 7\n",
      "🔍 Score: 0.5116\n",
      "📘 Subject: DPL302m - overview\n",
      "📄 Content:\n",
      "TYPE: overview\n",
      "Subject Code: DPL302m\n",
      "Subject Name: Deep Learning_Học sâu\n",
      "Degree Level: Bachelor | Credits: 6 | Semester: 5\n",
      "Belong To Combo: None\n",
      "Pre-requisites: AIL303m\n",
      "Scoring Scale: 10.0 | Min Avg Mark to Pass: 5.0\n",
      "Approved: True on 11/22/2024\n",
      "Subject Link: https://flm.fpt.edu.vn/gui/role/student/Syllabuses.aspx?subCode=DPL302m&curriculumID=2347\n",
      "\n",
      "--- TIME ALLOCATION ---\n",
      "Study hour (300 h) = 90 h contact hours + 1 h final exam + 209 h self-study\n",
      "--- TIME ALLOCATION END ---\n",
      "\n",
      "--- DESCRIPTION ---\n",
      "- In this course, student will build and train neural network architectures such as Convolutional Neural Networks, Recurrent Neural Networks, LSTMs, Transformers, and learn how to make them better with strategies such as Dropout, Batch Norm, Xavier/He initialization, and more. Get ready to master theoretical concepts and their industry applications using Python and Tensor Flow and tackle real-world cases such as speech recognition, music synthesis, chatbots, machine translation, natural language processing, and more.\n",
      "--- END DESCRIPTION ---\n",
      "--- STUDENT TASKS ---\n",
      "- - Students must attend at least 80% of contact slots in order to be accepted to the final examination.- Student is responsible to do all exercises, assignments and labs given by instructor in class or at home and submit on time- Use laptop in class only for learning purpose- Promptly access to the FU LMS at http://flm.fpt.edu.vn for up-to-date course information\n",
      "--- END STUDENT TASKS ---\n",
      "--- TOOLS ---\n",
      "- - Jupyter notebook- Cloud server: 72 hours/project\n",
      "--- END TOOLS ---\n",
      "--- NOTE ---\n",
      "- 1) On-going Assessment- 4 labs: 20%- 1 Project: 40%- 2 progress tests: 10%2) 1 Final Exam: 30%3) Final Result 100% Completion Criteria:1) Every on-going assessment component > 02) Final Exam Score >= 4 & Final Result >= 5 Note: All GP certificates is a prerequisite for project grading.\n",
      "--- END NOTE ---\n",
      "\n",
      "--------\n",
      "\n",
      "⭐ Top 8\n",
      "🔍 Score: 0.5036\n",
      "📘 Subject: DWP301c - overview\n",
      "📄 Content:\n",
      "TYPE: overview\n",
      "Subject Code: DWP301c\n",
      "Subject Name: Web Development with Python_Phát triển Web với Python\n",
      "Degree Level: Bachelor | Credits: 3 | Semester: 5\n",
      "Belong To Combo: None\n",
      "Pre-requisites: PFP191\n",
      "Scoring Scale: 10.0 | Min Avg Mark to Pass: 5.0\n",
      "Approved: True on 4/9/2025\n",
      "Subject Link: https://flm.fpt.edu.vn/gui/role/student/Syllabuses.aspx?subCode=DWP301c&curriculumID=2347\n",
      "\n",
      "--- TIME ALLOCATION ---\n",
      "Study hour (150 h)= 107 h online + 3 h offline + 1 h final exam + 39 h self-study\n",
      "--- TIME ALLOCATION END ---\n",
      "\n",
      "--- DESCRIPTION ---\n",
      "- In this course, you will learn to build your own cloud-based applications and work with the technologies behind them. This program consists of 10 courses with ample instructional content as well as hands-on exercises and projects designed to hone your skills and help you build your portfolio.You'll skill up with the tools and technologies that successful software developers use to build, deploy, test, run, and manage Full Stack Cloud Native applications, giving you the practical skills to begin a new career in an in-demand area.The courses in this program will help you develop skill sets in many technologies including: Cloud foundations, HTML, CSS, Java Script, Git Hub, Node.js, React, Cloud Native practices, Dev Ops, CI/CD, Containers, Docker, Kubernetes, Open Shift, Istio, Python, Databases, SQL, No SQL, Django ORM, Bootstrap, Application Security, Microservices, Serverless computing, and more.After completing all the courses in the program, including the capstone project, you will have developed several applications using front-end and back-end technologies and deployed them on a cloud platform using Cloud Native methodologies.\n",
      "--- END DESCRIPTION ---\n",
      "--- STUDENT TASKS ---\n",
      "- Student must get the certification of IBM Full Stack Software Developer Specialization from Coursera to be accepted to the final examination\n",
      "--- END STUDENT TASKS ---\n",
      "--- TOOLS ---\n",
      "\n",
      "--- END TOOLS ---\n",
      "--- NOTE ---\n",
      "- 1. Final Exam included Final Theory Exam (TE): 100%2. Students who complete all MOOCs before the course deadline will receive 1 bonus point; otherwise, no bonus point will be awarded.3.Completion Criteria: Final TE Score >=4 & (Final TE Score + bonus) >= 54. Complete the online courses and get all specialization certifications to be allowed to take Final Exam\n",
      "--- END NOTE ---\n",
      "\n",
      "--------\n",
      "\n",
      "[*] Gemini đang tóm tắt...\n",
      "✨ Tóm tắt của Gemini: Các môn học trong học kỳ 5 bao gồm:\n",
      "\n",
      "*   Search Engines_Công cụ tìm kiếm (SEG301)\n",
      "*   Big Data_Dữ liệu lớn (BDI302c)\n",
      "*   Applied Data Science with R - Khoa học dữ liệu ứng dụng với R (DSR301m)\n",
      "*   Text Mining_Khai thác văn bản (TMG301)\n",
      "*   AI in Healthcare_Ứng dụng TTNT trong chăm sóc sức khỏe (AIH301m)\n",
      "*   AI for Scientific Research_TTNT cho Nghiên cứu khoa học (ASR301c)\n",
      "*   Deep Learning_Học sâu (DPL302m)\n",
      "*   Web Development with Python_Phát triển Web với Python (DWP301c)\n",
      "------------------------------------------\n"
     ]
    }
   ],
   "source": [
    "search_full('các môn kì 5')"
   ]
  },
  {
   "cell_type": "code",
   "execution_count": 92,
   "id": "fad6e2c3",
   "metadata": {},
   "outputs": [
    {
     "data": {
      "text/plain": [
       "UpdateResult(operation_id=140, status=<UpdateStatus.COMPLETED: 'completed'>)"
      ]
     },
     "execution_count": 92,
     "metadata": {},
     "output_type": "execute_result"
    }
   ],
   "source": [
    "client.create_payload_index(\n",
    "    collection_name=\"FINAL\",\n",
    "    field_name=\"semester\",\n",
    "    field_schema=\"integer\"\n",
    ")\n"
   ]
  },
  {
   "cell_type": "markdown",
   "id": "7ac4e702",
   "metadata": {},
   "source": [
    "# Thử với model mistral"
   ]
  },
  {
   "cell_type": "code",
   "execution_count": null,
   "id": "6f1dad03",
   "metadata": {},
   "outputs": [
    {
     "name": "stdout",
     "output_type": "stream",
     "text": [
      " The United States of America (USA), commonly known as the United States or America, is a federal republic consisting of 50 states, a federal district (Washington D.C.), five major self-governing territories, and various possessions. It's located in North America between Canada and Mexico, spanning an area of approximately 3.5 million square miles (9.1 million square kilometers). The capital is Washington D.C., although it isn't a state but the district where the federal government resides. The country was founded on July 4, 1776, declaring independence from Great Britain. It is a global leader in economics, science, technology, and culture.\n"
     ]
    }
   ],
   "source": [
    "from langchain_community.llms import Ollama\n",
    "\n",
    "llm = Ollama(model=\"mistral\")\n",
    "\n"
   ]
  },
  {
   "cell_type": "code",
   "execution_count": 98,
   "id": "245af786",
   "metadata": {},
   "outputs": [
    {
     "name": "stdout",
     "output_type": "stream",
     "text": [
      " The United States of America (USA), commonly known as the United States or America, is a country primarily located in North America. It is a federal republic consisting of 50 states, a federal district (Washington D.C.), five major self-governing territories, and various possessions.\n",
      "\n",
      "The contiguous 48 states and Washington D.C. are in central North America between the Pacific and Atlantic Oceans, bordered by Canada to the north and Mexico to the south. The state of Alaska is in the far northwestern part of North America and is separated from the contiguous states by Canada. Hawaii is an archipelago in the mid-Pacific Ocean.\n",
      "\n",
      "The United States was founded on July 4, 1776, after declaring independence from Great Britain. It's one of the world's most influential nations, playing a leading role in global politics, economics, science, technology, and culture. The capital is Washington, D.C., and its most populous city is New York City. English is the de facto national language, although there is no official national language at the federal level.\n"
     ]
    }
   ],
   "source": [
    "res = llm.invoke(\"\"\"What is USA\"\"\")\n",
    "\n",
    "print(res)"
   ]
  },
  {
   "cell_type": "code",
   "execution_count": null,
   "id": "6cae03e9",
   "metadata": {},
   "outputs": [],
   "source": [
    "# # --- Mistral API Configuration ---\n",
    "# API_KEY = \n",
    "# MODEL = \"mistralai/mistral-7b-instruct:free\"\n",
    "# API_URL = \"https://openrouter.ai/api/v1/chat/completions\"\n",
    "\n",
    "# def call_llama_api(messages, model=MODEL, api_key=API_KEY, max_tokens=512, temperature=0.2):\n",
    "#     headers = {\n",
    "#         \"Content-Type\": \"application/json\",\n",
    "#         \"Authorization\": f\"Bearer {api_key}\",\n",
    "#         \"HTTP-Referer\": \"https://openrouter.ai/\",\n",
    "#         \"X-Title\": \"FapChatbot\"\n",
    "#     }\n",
    "#     data = {\n",
    "#         \"model\": model,\n",
    "#         \"messages\": messages,\n",
    "#         \"temperature\": temperature,\n",
    "#         \"max_tokens\": max_tokens\n",
    "#     }\n",
    "#     response = requests.post(API_URL, headers=headers, json=data)\n",
    "#     if not response.ok:\n",
    "#         print(f\"Lỗi API: {response.status_code} - {response.text}\")\n",
    "#         return \"\"\n",
    "#     return response.json()[\"choices\"][0][\"message\"][\"content\"]"
   ]
  },
  {
   "cell_type": "code",
   "execution_count": 88,
   "id": "c08d0aef",
   "metadata": {},
   "outputs": [],
   "source": [
    "def summarize_with_mistral_local(content: str, retrieved_chunks='', user_query='', llm=None) -> str:\n",
    "    # Giới hạn context để tăng tốc\n",
    "    max_chunks = 3000\n",
    "    if len(retrieved_chunks) > max_chunks:\n",
    "        retrieved_chunks = retrieved_chunks[:max_chunks] + \"...\"\n",
    "    \n",
    "    prompt = f\"\"\"\n",
    "Answer the question based on the provided information:\n",
    "\n",
    "Context: {retrieved_chunks}\n",
    "\n",
    "Question: {user_query}\n",
    "\n",
    "Provide a concise and accurate answer:\n",
    "\"\"\"\n",
    "    \n",
    "    try:\n",
    "        response = llm.invoke(prompt)\n",
    "        return response.strip()\n",
    "    except Exception as e:\n",
    "        return \"Error during summarization.\"\n",
    "    \n",
    "\n",
    "def analyze_intent_with_mistral_local(query='', llm=None):\n",
    "    prompt = f\"\"\"\n",
    "Classify this academic query: \"{query}\"\n",
    "\n",
    "Question types:\n",
    "{json.dumps(TYPE_DESCRIPTIONS, indent=2)}\n",
    "\n",
    "Available subjects:\n",
    "{json.dumps(subject_map, indent=2)}\n",
    "\n",
    "Return a JSON object with these fields:\n",
    "{{\n",
    "  \"type\": \"question_type\",\n",
    "  \"subjects\": [\"subject_code\"],\n",
    "  \"semester\": semester_number,\n",
    "  \"query_en\": \"english_translation\"\n",
    "}}\n",
    "\n",
    "Rules:\n",
    "- \"type\": must be one of the predefined types above\n",
    "- \"subjects\": list of subject codes, leave empty if not confident\n",
    "- \"semester\": integer 0-9, only if clearly implied, omit if unsure\n",
    "- \"query_en\": translate the original query to English\n",
    "\n",
    "Your JSON response:\n",
    "\"\"\"\n",
    "    \n",
    "    try:\n",
    "        # Gọi trực tiếp, không cần messages format\n",
    "        response = llm.invoke(prompt)\n",
    "        print(f\"🔍 Raw response: {response}\")\n",
    "        \n",
    "        # Parse JSON nhanh\n",
    "        try:\n",
    "            return extract_json_from_markdown(response)\n",
    "        except:\n",
    "            import re\n",
    "            json_match = re.search(r'\\{.*\\}', response, re.DOTALL)\n",
    "            if json_match:\n",
    "                return json.loads(json_match.group(0))\n",
    "            return None\n",
    "                \n",
    "    except Exception as e:\n",
    "        print(f\"Error: {e}\")\n",
    "        return None"
   ]
  },
  {
   "cell_type": "code",
   "execution_count": 89,
   "id": "ffe8dbde",
   "metadata": {},
   "outputs": [],
   "source": [
    "def search_full_local(query='', llm=None):\n",
    "    query_filter = {\"should\": [], \"must\": []}\n",
    "    query_en = ''\n",
    "    detected_type = ''\n",
    "    detected_subject = []\n",
    "    detected_semester = ''\n",
    "    \n",
    "    try:\n",
    "        # 1. Phân tích query - tối ưu cho local\n",
    "        analyze = analyze_intent_with_mistral_local(query=query, llm=llm)\n",
    "        print(\"�� Analyze thành công từ Mistral Local:\")\n",
    "        print(analyze)\n",
    "\n",
    "        if analyze and \"query_en\" in analyze and \"type\" in analyze and \"subjects\" in analyze:\n",
    "            query_en = analyze[\"query_en\"]\n",
    "            detected_type = analyze[\"type\"]\n",
    "            detected_subject = analyze[\"subjects\"]\n",
    "            detected_semester = analyze.get(\"semester\", \"\")\n",
    "            \n",
    "            if detected_type == 'student_list' or detected_type == 'guide': \n",
    "                detected_subject = []\n",
    "                \n",
    "            if detected_subject:\n",
    "                for subject_code in detected_subject:\n",
    "                    print(f\"🎯 Mã môn phát hiện: {subject_code}\")\n",
    "                    query_filter[\"should\"].append({\n",
    "                        \"key\": \"subject_code\",\n",
    "                        \"match\": {\"value\": subject_code}\n",
    "                    })\n",
    "        else:\n",
    "            raise ValueError(\"Missing fields in response\")\n",
    "\n",
    "    except Exception as e:\n",
    "        print(f\"⚠️ Lỗi Mistral Local: {e}\")\n",
    "        print(\"↩️ Fallback sang xử lý thủ công\")\n",
    "\n",
    "        query_en = translate_vi_to_en_local(query)\n",
    "        print('📝 Query dịch: ', query_en)\n",
    "\n",
    "        detected_type = detect_type_by_embedding(query_en)\n",
    "        detected_subject = detect_subject(query_en)\n",
    "        if detected_type == 'student_list' or detected_type == 'guide': \n",
    "            detected_subject = []\n",
    "        if detected_subject:\n",
    "            for subject_code in detected_subject:\n",
    "                code = subject_code[0] if isinstance(subject_code, (list, tuple)) else subject_code\n",
    "                print(f\"�� Mã môn phát hiện (thủ công): {code}\")\n",
    "                query_filter[\"should\"].append({\n",
    "                    \"key\": \"subject_code\",\n",
    "                    \"match\": {\"value\": code}\n",
    "                })\n",
    "\n",
    "    if detected_type == 'student_list':\n",
    "        query_vec = embedder.embed([query])[0]\n",
    "    else: \n",
    "        query_vec = embedder.embed([query_en])[0]\n",
    "\n",
    "    if detected_type:\n",
    "        print(\"Loại detect được là:\", detected_type)\n",
    "        query_filter[\"must\"].append({\"key\": \"type\", \"match\": {\"value\": detected_type}})\n",
    "        \n",
    "    if detected_semester:\n",
    "        print(\"Kì detect được là:\", detected_semester)\n",
    "        query_filter[\"should\"].append({\"key\": \"semester\", \"match\": {\"value\": detected_semester}})\n",
    "\n",
    "    print(\"Query filter:\", query_filter)\n",
    "    \n",
    "    # Giảm limit để tăng tốc\n",
    "    hits = client.search(\n",
    "        collection_name=\"FINAL\",\n",
    "        query_vector=query_vec.tolist(),\n",
    "        limit=15,  # Giảm từ 30 xuống 15\n",
    "        query_filter=query_filter if query_filter[\"must\"] or query_filter[\"should\"] else None\n",
    "    )\n",
    "\n",
    "    # Hiển thị kết quả\n",
    "    for i, hit in enumerate(hits, 1):\n",
    "        print(f\"\\n⭐ Top {i}\")\n",
    "        print(f\"🔍 Score: {hit.score:.4f}\")\n",
    "        print(f\"📘 Subject: {hit.payload.get('subject_code')} - {hit.payload.get('type')}\")\n",
    "        print(f\"📄 Content:\\n{hit.payload.get('content')}\")\n",
    "        print(\"--------\")\n",
    "    \n",
    "    # Tóm tắt - chỉ lấy top 10 kết quả\n",
    "    retrieved_chunks = ''\n",
    "    for hit in hits[:10]:\n",
    "        retrieved_chunks += hit.payload.get('content', '') + '\\n'\n",
    "\n",
    "    print(\"\\n[*] Mistral Local đang tóm tắt...\")\n",
    "    \n",
    "    summary = summarize_with_mistral_local(\n",
    "        retrieved_chunks,\n",
    "        retrieved_chunks=retrieved_chunks,\n",
    "        user_query=query,\n",
    "        llm=llm\n",
    "    )\n",
    "\n",
    "    print(f\"✨ Tóm tắt của Mistral Local: {summary}\")\n",
    "    print(\"------------------------------------------\")\n",
    "    \n",
    "    return {\n",
    "        'query_translated': query_en,\n",
    "        'detected_type': detected_type,\n",
    "        'detected_subject': detected_subject,\n",
    "        'detected_semester': detected_semester,\n",
    "        'results': [hit.payload for hit in hits],\n",
    "        'summary': summary\n",
    "    }"
   ]
  },
  {
   "cell_type": "code",
   "execution_count": 90,
   "id": "03f816b2",
   "metadata": {},
   "outputs": [],
   "source": [
    "# # Khởi tạo LLM một lần\n",
    "from langchain_community.llms import Ollama\n",
    "\n",
    "llm = Ollama(\n",
    "    model=\"mistral\",\n",
    "    temperature=0.1,\n",
    "    num_ctx=4096,\n",
    "    num_thread=4\n",
    ")\n",
    "\n"
   ]
  },
  {
   "cell_type": "code",
   "execution_count": 96,
   "id": "a710341e",
   "metadata": {},
   "outputs": [
    {
     "name": "stdout",
     "output_type": "stream",
     "text": [
      "🔍 Raw response:  {\n",
      "  \"type\": \"information_request\",\n",
      "  \"subjects\": [\"CPV301\"],\n",
      "  \"semester\": 3,\n",
      "  \"query_en\": \"What is Computer Vision (CPV301) about in the third semester?\"\n",
      "}\n",
      "�� Analyze thành công từ Mistral Local:\n",
      "{'type': 'information_request', 'subjects': ['CPV301'], 'semester': 3, 'query_en': 'What is Computer Vision (CPV301) about in the third semester?'}\n",
      "🎯 Mã môn phát hiện: CPV301\n"
     ]
    },
    {
     "data": {
      "application/vnd.jupyter.widget-view+json": {
       "model_id": "9ae1db11b5a84671a4e4b16ab3478330",
       "version_major": 2,
       "version_minor": 0
      },
      "text/plain": [
       "Batches:   0%|          | 0/1 [00:00<?, ?it/s]"
      ]
     },
     "metadata": {},
     "output_type": "display_data"
    },
    {
     "name": "stdout",
     "output_type": "stream",
     "text": [
      "Loại detect được là: information_request\n",
      "Kì detect được là: 3\n",
      "Query filter: {'should': [{'key': 'subject_code', 'match': {'value': 'CPV301'}}, {'key': 'semester', 'match': {'value': 3}}], 'must': [{'key': 'type', 'match': {'value': 'information_request'}}]}\n"
     ]
    },
    {
     "name": "stderr",
     "output_type": "stream",
     "text": [
      "C:\\Users\\DO TUAN MINH\\AppData\\Local\\Temp\\ipykernel_6772\\1338565732.py:69: DeprecationWarning: `search` method is deprecated and will be removed in the future. Use `query_points` instead.\n",
      "  hits = client.search(\n"
     ]
    },
    {
     "name": "stdout",
     "output_type": "stream",
     "text": [
      "\n",
      "[*] Mistral Local đang tóm tắt...\n",
      "✨ Tóm tắt của Mistral Local: Trong thực tế, việc có điểm bonus hoặc không cho bài báo được chấp nhận phụ thuộc vào các quy định của mỗi học liệu. Ví dụ, trong học liệu khoa học máy tính, bài báo có thể nhận điểm bonus nếu được chấp nhận vào các cuộc họp hoặc sự kiện chuyên khoa. Tuy nhiên, trong bài viết này, thông tin về các môn học có điểm bonus cho bài báo được accept không được cung cấp.\n",
      "------------------------------------------\n"
     ]
    }
   ],
   "source": [
    "# Test\n",
    "query = \"các môn học có điểm bonus cho bài báo được accept\"\n",
    "result = search_full_local(query, llm)"
   ]
  },
  {
   "cell_type": "code",
   "execution_count": 83,
   "id": "b3b03bc6",
   "metadata": {},
   "outputs": [
    {
     "name": "stdout",
     "output_type": "stream",
     "text": [
      "{\"model\":\"mistral\",\"created_at\":\"2025-07-04T17:10:47.6831565Z\",\"response\":\" H\",\"done\":false}{\"model\":\"mistral\",\"created_at\":\"2025-07-04T17:10:47.8176581Z\",\"response\":\"ệ\",\"done\":false}{\"model\":\"mistral\",\"created_at\":\"2025-07-04T17:10:47.9501117Z\",\"response\":\" \",\"done\":false}{\"model\":\"mistral\",\"created_at\":\"2025-07-04T17:10:48.0811893Z\",\"response\":\"đ\",\"done\":false}{\"model\":\"mistral\",\"created_at\":\"2025-07-04T17:10:48.2001774Z\",\"response\":\"i\",\"done\":false}{\"model\":\"mistral\",\"created_at\":\"2025-07-04T17:10:48.3242759Z\",\"response\":\"ề\",\"done\":false}{\"model\":\"mistral\",\"created_at\":\"2025-07-04T17:10:48.4363643Z\",\"response\":\"u\",\"done\":false}{\"model\":\"mistral\",\"created_at\":\"2025-07-04T17:10:48.540768Z\",\"response\":\" h\",\"done\":false}{\"model\":\"mistral\",\"created_at\":\"2025-07-04T17:10:48.649833Z\",\"response\":\"à\",\"done\":false}{\"model\":\"mistral\",\"created_at\":\"2025-07-04T17:10:48.7599436Z\",\"response\":\"nh\",\"done\":false}{\"model\":\"mistral\",\"created_at\":\"2025-07-04T17:10:48.8781693Z\",\"response\":\" (\",\"done\":false}{\"model\":\"mistral\",\"created_at\":\"2025-07-04T17:10:48.993786Z\",\"response\":\"Oper\",\"done\":false}{\"model\":\"mistral\",\"created_at\":\"2025-07-04T17:10:49.1020788Z\",\"response\":\"ating\",\"done\":false}{\"model\":\"mistral\",\"created_at\":\"2025-07-04T17:10:49.2124521Z\",\"response\":\" System\",\"done\":false}{\"model\":\"mistral\",\"created_at\":\"2025-07-04T17:10:49.3213848Z\",\"response\":\")\",\"done\":false}{\"model\":\"mistral\",\"created_at\":\"2025-07-04T17:10:49.4303101Z\",\"response\":\" là\",\"done\":false}{\"model\":\"mistral\",\"created_at\":\"2025-07-04T17:10:49.5395142Z\",\"response\":\" m\",\"done\":false}{\"model\":\"mistral\",\"created_at\":\"2025-07-04T17:10:49.6476974Z\",\"response\":\"ộ\",\"done\":false}{\"model\":\"mistral\",\"created_at\":\"2025-07-04T17:10:49.7638513Z\",\"response\":\"t\",\"done\":false}{\"model\":\"mistral\",\"created_at\":\"2025-07-04T17:10:49.8679585Z\",\"response\":\" ph\",\"done\":false}{\"model\":\"mistral\",\"created_at\":\"2025-07-04T17:10:49.9853719Z\",\"response\":\"ầ\",\"done\":false}{\"model\":\"mistral\",\"created_at\":\"2025-07-04T17:10:50.0840271Z\",\"response\":\"n\",\"done\":false}{\"model\":\"mistral\",\"created_at\":\"2025-07-04T17:10:50.1999114Z\",\"response\":\" y\",\"done\":false}{\"model\":\"mistral\",\"created_at\":\"2025-07-04T17:10:50.3092379Z\",\"response\":\"ế\",\"done\":false}{\"model\":\"mistral\",\"created_at\":\"2025-07-04T17:10:50.4232254Z\",\"response\":\"u\",\"done\":false}{\"model\":\"mistral\",\"created_at\":\"2025-07-04T17:10:50.5338754Z\",\"response\":\" t\",\"done\":false}{\"model\":\"mistral\",\"created_at\":\"2025-07-04T17:10:50.6450698Z\",\"response\":\"ố\",\"done\":false}{\"model\":\"mistral\",\"created_at\":\"2025-07-04T17:10:50.7583354Z\",\"response\":\" qu\",\"done\":false}{\"model\":\"mistral\",\"created_at\":\"2025-07-04T17:10:50.878559Z\",\"response\":\"an\",\"done\":false}{\"model\":\"mistral\",\"created_at\":\"2025-07-04T17:10:50.9950142Z\",\"response\":\" tr\",\"done\":false}{\"model\":\"mistral\",\"created_at\":\"2025-07-04T17:10:51.1102061Z\",\"response\":\"ọ\",\"done\":false}{\"model\":\"mistral\",\"created_at\":\"2025-07-04T17:10:51.2320585Z\",\"response\":\"ng\",\"done\":false}{\"model\":\"mistral\",\"created_at\":\"2025-07-04T17:10:51.3581169Z\",\"response\":\" tr\",\"done\":false}{\"model\":\"mistral\",\"created_at\":\"2025-07-04T17:10:51.4945609Z\",\"response\":\"ong\",\"done\":false}{\"model\":\"mistral\",\"created_at\":\"2025-07-04T17:10:51.6171743Z\",\"response\":\" m\",\"done\":false}{\"model\":\"mistral\",\"created_at\":\"2025-07-04T17:10:51.7477764Z\",\"response\":\"ộ\",\"done\":false}{\"model\":\"mistral\",\"created_at\":\"2025-07-04T17:10:51.8785234Z\",\"response\":\"t\",\"done\":false}{\"model\":\"mistral\",\"created_at\":\"2025-07-04T17:10:52.0006668Z\",\"response\":\" má\",\"done\":false}{\"model\":\"mistral\",\"created_at\":\"2025-07-04T17:10:52.121337Z\",\"response\":\"y\",\"done\":false}{\"model\":\"mistral\",\"created_at\":\"2025-07-04T17:10:52.249489Z\",\"response\":\" t\",\"done\":false}{\"model\":\"mistral\",\"created_at\":\"2025-07-04T17:10:52.3835857Z\",\"response\":\"ín\",\"done\":false}{\"model\":\"mistral\",\"created_at\":\"2025-07-04T17:10:52.5149044Z\",\"response\":\"h\",\"done\":false}{\"model\":\"mistral\",\"created_at\":\"2025-07-04T17:10:52.6380865Z\",\"response\":\" ho\",\"done\":false}{\"model\":\"mistral\",\"created_at\":\"2025-07-04T17:10:52.7684849Z\",\"response\":\"ặ\",\"done\":false}{\"model\":\"mistral\",\"created_at\":\"2025-07-04T17:10:52.9026128Z\",\"response\":\"c\",\"done\":false}{\"model\":\"mistral\",\"created_at\":\"2025-07-04T17:10:53.0353362Z\",\"response\":\" th\",\"done\":false}{\"model\":\"mistral\",\"created_at\":\"2025-07-04T17:10:53.1589464Z\",\"response\":\"i\",\"done\":false}{\"model\":\"mistral\",\"created_at\":\"2025-07-04T17:10:53.291926Z\",\"response\":\"ế\",\"done\":false}{\"model\":\"mistral\",\"created_at\":\"2025-07-04T17:10:53.4255365Z\",\"response\":\"t\",\"done\":false}{\"model\":\"mistral\",\"created_at\":\"2025-07-04T17:10:53.5631857Z\",\"response\":\" b\",\"done\":false}{\"model\":\"mistral\",\"created_at\":\"2025-07-04T17:10:53.6914891Z\",\"response\":\"ị\",\"done\":false}{\"model\":\"mistral\",\"created_at\":\"2025-07-04T17:10:53.8309282Z\",\"response\":\" k\",\"done\":false}{\"model\":\"mistral\",\"created_at\":\"2025-07-04T17:10:53.9644412Z\",\"response\":\"h\",\"done\":false}{\"model\":\"mistral\",\"created_at\":\"2025-07-04T17:10:54.1051064Z\",\"response\":\"á\",\"done\":false}{\"model\":\"mistral\",\"created_at\":\"2025-07-04T17:10:54.2436455Z\",\"response\":\"c\",\"done\":false}{\"model\":\"mistral\",\"created_at\":\"2025-07-04T17:10:54.3754509Z\",\"response\":\",\",\"done\":false}{\"model\":\"mistral\",\"created_at\":\"2025-07-04T17:10:54.5149882Z\",\"response\":\" n\",\"done\":false}{\"model\":\"mistral\",\"created_at\":\"2025-07-04T17:10:54.6591352Z\",\"response\":\"ó\",\"done\":false}{\"model\":\"mistral\",\"created_at\":\"2025-07-04T17:10:54.8057117Z\",\"response\":\" qu\",\"done\":false}{\"model\":\"mistral\",\"created_at\":\"2025-07-04T17:10:54.9399057Z\",\"response\":\"ả\",\"done\":false}{\"model\":\"mistral\",\"created_at\":\"2025-07-04T17:10:55.0809477Z\",\"response\":\"n\",\"done\":false}{\"model\":\"mistral\",\"created_at\":\"2025-07-04T17:10:55.2209686Z\",\"response\":\" l\",\"done\":false}{\"model\":\"mistral\",\"created_at\":\"2025-07-04T17:10:55.3674643Z\",\"response\":\"ý\",\"done\":false}{\"model\":\"mistral\",\"created_at\":\"2025-07-04T17:10:55.5192642Z\",\"response\":\" c\",\"done\":false}{\"model\":\"mistral\",\"created_at\":\"2025-07-04T17:10:55.6547916Z\",\"response\":\"á\",\"done\":false}{\"model\":\"mistral\",\"created_at\":\"2025-07-04T17:10:55.7895283Z\",\"response\":\"c\",\"done\":false}{\"model\":\"mistral\",\"created_at\":\"2025-07-04T17:10:55.9217623Z\",\"response\":\" t\",\"done\":false}{\"model\":\"mistral\",\"created_at\":\"2025-07-04T17:10:56.0788791Z\",\"response\":\"à\",\"done\":false}{\"model\":\"mistral\",\"created_at\":\"2025-07-04T17:10:56.2113496Z\",\"response\":\"i\",\"done\":false}{\"model\":\"mistral\",\"created_at\":\"2025-07-04T17:10:56.3578124Z\",\"response\":\" n\",\"done\":false}{\"model\":\"mistral\",\"created_at\":\"2025-07-04T17:10:56.4958149Z\",\"response\":\"gu\",\"done\":false}{\"model\":\"mistral\",\"created_at\":\"2025-07-04T17:10:56.6394167Z\",\"response\":\"y\",\"done\":false}{\"model\":\"mistral\",\"created_at\":\"2025-07-04T17:10:56.7758879Z\",\"response\":\"ên\",\"done\":false}{\"model\":\"mistral\",\"created_at\":\"2025-07-04T17:10:56.9409721Z\",\"response\":\" v\",\"done\":false}{\"model\":\"mistral\",\"created_at\":\"2025-07-04T17:10:57.0958892Z\",\"response\":\"à\",\"done\":false}{\"model\":\"mistral\",\"created_at\":\"2025-07-04T17:10:57.2360125Z\",\"response\":\" t\",\"done\":false}{\"model\":\"mistral\",\"created_at\":\"2025-07-04T17:10:57.3756179Z\",\"response\":\"ậ\",\"done\":false}{\"model\":\"mistral\",\"created_at\":\"2025-07-04T17:10:57.5277037Z\",\"response\":\"p\",\"done\":false}{\"model\":\"mistral\",\"created_at\":\"2025-07-04T17:10:57.6795889Z\",\"response\":\" tin\",\"done\":false}{\"model\":\"mistral\",\"created_at\":\"2025-07-04T17:10:57.8231708Z\",\"response\":\" v\",\"done\":false}{\"model\":\"mistral\",\"created_at\":\"2025-07-04T17:10:57.9372457Z\",\"response\":\"à\",\"done\":false}{\"model\":\"mistral\",\"created_at\":\"2025-07-04T17:10:58.0618838Z\",\"response\":\" h\",\"done\":false}{\"model\":\"mistral\",\"created_at\":\"2025-07-04T17:10:58.1779203Z\",\"response\":\"ỗ\",\"done\":false}{\"model\":\"mistral\",\"created_at\":\"2025-07-04T17:10:58.2893121Z\",\"response\":\" tr\",\"done\":false}{\"model\":\"mistral\",\"created_at\":\"2025-07-04T17:10:58.393781Z\",\"response\":\"ợ\",\"done\":false}{\"model\":\"mistral\",\"created_at\":\"2025-07-04T17:10:58.4964566Z\",\"response\":\" ch\",\"done\":false}{\"model\":\"mistral\",\"created_at\":\"2025-07-04T17:10:58.6033823Z\",\"response\":\"ạ\",\"done\":false}{\"model\":\"mistral\",\"created_at\":\"2025-07-04T17:10:58.7172074Z\",\"response\":\"y\",\"done\":false}{\"model\":\"mistral\",\"created_at\":\"2025-07-04T17:10:58.827294Z\",\"response\":\" c\",\"done\":false}{\"model\":\"mistral\",\"created_at\":\"2025-07-04T17:10:58.9354123Z\",\"response\":\"á\",\"done\":false}{\"model\":\"mistral\",\"created_at\":\"2025-07-04T17:10:59.0556295Z\",\"response\":\"c\",\"done\":false}{\"model\":\"mistral\",\"created_at\":\"2025-07-04T17:10:59.1701625Z\",\"response\":\" \",\"done\":false}{\"model\":\"mistral\",\"created_at\":\"2025-07-04T17:10:59.2737138Z\",\"response\":\"ứ\",\"done\":false}{\"model\":\"mistral\",\"created_at\":\"2025-07-04T17:10:59.3835454Z\",\"response\":\"ng\",\"done\":false}{\"model\":\"mistral\",\"created_at\":\"2025-07-04T17:10:59.4932836Z\",\"response\":\" d\",\"done\":false}{\"model\":\"mistral\",\"created_at\":\"2025-07-04T17:10:59.6021598Z\",\"response\":\"ụ\",\"done\":false}{\"model\":\"mistral\",\"created_at\":\"2025-07-04T17:10:59.7138446Z\",\"response\":\"ng\",\"done\":false}{\"model\":\"mistral\",\"created_at\":\"2025-07-04T17:10:59.8183653Z\",\"response\":\" (\",\"done\":false}{\"model\":\"mistral\",\"created_at\":\"2025-07-04T17:11:00.0130676Z\",\"response\":\"ph\",\"done\":false}{\"model\":\"mistral\",\"created_at\":\"2025-07-04T17:11:00.1564353Z\",\"response\":\"ầ\",\"done\":false}{\"model\":\"mistral\",\"created_at\":\"2025-07-04T17:11:00.280554Z\",\"response\":\"n\",\"done\":false}{\"model\":\"mistral\",\"created_at\":\"2025-07-04T17:11:00.4053327Z\",\"response\":\" m\",\"done\":false}{\"model\":\"mistral\",\"created_at\":\"2025-07-04T17:11:00.5406539Z\",\"response\":\"ề\",\"done\":false}{\"model\":\"mistral\",\"created_at\":\"2025-07-04T17:11:00.6823472Z\",\"response\":\"m\",\"done\":false}{\"model\":\"mistral\",\"created_at\":\"2025-07-04T17:11:00.788419Z\",\"response\":\")\",\"done\":false}{\"model\":\"mistral\",\"created_at\":\"2025-07-04T17:11:00.9011758Z\",\"response\":\" tr\",\"done\":false}{\"model\":\"mistral\",\"created_at\":\"2025-07-04T17:11:01.0492837Z\",\"response\":\"ên\",\"done\":false}{\"model\":\"mistral\",\"created_at\":\"2025-07-04T17:11:01.2127803Z\",\"response\":\" má\",\"done\":false}{\"model\":\"mistral\",\"created_at\":\"2025-07-04T17:11:01.3400577Z\",\"response\":\"y\",\"done\":false}{\"model\":\"mistral\",\"created_at\":\"2025-07-04T17:11:01.4511482Z\",\"response\":\" t\",\"done\":false}{\"model\":\"mistral\",\"created_at\":\"2025-07-04T17:11:01.5561023Z\",\"response\":\"ín\",\"done\":false}{\"model\":\"mistral\",\"created_at\":\"2025-07-04T17:11:01.6611626Z\",\"response\":\"h\",\"done\":false}{\"model\":\"mistral\",\"created_at\":\"2025-07-04T17:11:01.7677946Z\",\"response\":\".\",\"done\":false}{\"model\":\"mistral\",\"created_at\":\"2025-07-04T17:11:01.870962Z\",\"response\":\" H\",\"done\":false}{\"model\":\"mistral\",\"created_at\":\"2025-07-04T17:11:01.9783861Z\",\"response\":\"ệ\",\"done\":false}{\"model\":\"mistral\",\"created_at\":\"2025-07-04T17:11:02.0882373Z\",\"response\":\" \",\"done\":false}{\"model\":\"mistral\",\"created_at\":\"2025-07-04T17:11:02.1967329Z\",\"response\":\"đ\",\"done\":false}{\"model\":\"mistral\",\"created_at\":\"2025-07-04T17:11:02.2951281Z\",\"response\":\"i\",\"done\":false}{\"model\":\"mistral\",\"created_at\":\"2025-07-04T17:11:02.3991822Z\",\"response\":\"ề\",\"done\":false}{\"model\":\"mistral\",\"created_at\":\"2025-07-04T17:11:02.5011125Z\",\"response\":\"u\",\"done\":false}{\"model\":\"mistral\",\"created_at\":\"2025-07-04T17:11:02.6111303Z\",\"response\":\" h\",\"done\":false}{\"model\":\"mistral\",\"created_at\":\"2025-07-04T17:11:02.7079338Z\",\"response\":\"à\",\"done\":false}{\"model\":\"mistral\",\"created_at\":\"2025-07-04T17:11:02.8090558Z\",\"response\":\"nh\",\"done\":false}{\"model\":\"mistral\",\"created_at\":\"2025-07-04T17:11:02.9076414Z\",\"response\":\" có\",\"done\":false}{\"model\":\"mistral\",\"created_at\":\"2025-07-04T17:11:03.002406Z\",\"response\":\" th\",\"done\":false}{\"model\":\"mistral\",\"created_at\":\"2025-07-04T17:11:03.1002064Z\",\"response\":\"ể\",\"done\":false}{\"model\":\"mistral\",\"created_at\":\"2025-07-04T17:11:03.1986933Z\",\"response\":\" là\",\"done\":false}{\"model\":\"mistral\",\"created_at\":\"2025-07-04T17:11:03.2945212Z\",\"response\":\" ph\",\"done\":false}{\"model\":\"mistral\",\"created_at\":\"2025-07-04T17:11:03.4001546Z\",\"response\":\"ầ\",\"done\":false}{\"model\":\"mistral\",\"created_at\":\"2025-07-04T17:11:03.501858Z\",\"response\":\"n\",\"done\":false}{\"model\":\"mistral\",\"created_at\":\"2025-07-04T17:11:03.6005726Z\",\"response\":\" m\",\"done\":false}{\"model\":\"mistral\",\"created_at\":\"2025-07-04T17:11:03.7022619Z\",\"response\":\"ề\",\"done\":false}{\"model\":\"mistral\",\"created_at\":\"2025-07-04T17:11:03.799532Z\",\"response\":\"m\",\"done\":false}{\"model\":\"mistral\",\"created_at\":\"2025-07-04T17:11:03.9020077Z\",\"response\":\" ho\",\"done\":false}{\"model\":\"mistral\",\"created_at\":\"2025-07-04T17:11:04.0005587Z\",\"response\":\"ặ\",\"done\":false}{\"model\":\"mistral\",\"created_at\":\"2025-07-04T17:11:04.1023015Z\",\"response\":\"c\",\"done\":false}{\"model\":\"mistral\",\"created_at\":\"2025-07-04T17:11:04.2028689Z\",\"response\":\" m\",\"done\":false}{\"model\":\"mistral\",\"created_at\":\"2025-07-04T17:11:04.3075051Z\",\"response\":\"ộ\",\"done\":false}{\"model\":\"mistral\",\"created_at\":\"2025-07-04T17:11:04.4108171Z\",\"response\":\"t\",\"done\":false}{\"model\":\"mistral\",\"created_at\":\"2025-07-04T17:11:04.5155165Z\",\"response\":\" ph\",\"done\":false}{\"model\":\"mistral\",\"created_at\":\"2025-07-04T17:11:04.6641195Z\",\"response\":\"ầ\",\"done\":false}{\"model\":\"mistral\",\"created_at\":\"2025-07-04T17:11:04.8105501Z\",\"response\":\"n\",\"done\":false}{\"model\":\"mistral\",\"created_at\":\"2025-07-04T17:11:04.9091984Z\",\"response\":\" c\",\"done\":false}{\"model\":\"mistral\",\"created_at\":\"2025-07-04T17:11:05.0107016Z\",\"response\":\"ứ\",\"done\":false}{\"model\":\"mistral\",\"created_at\":\"2025-07-04T17:11:05.1079324Z\",\"response\":\"ng\",\"done\":false}{\"model\":\"mistral\",\"created_at\":\"2025-07-04T17:11:05.2041546Z\",\"response\":\",\",\"done\":false}{\"model\":\"mistral\",\"created_at\":\"2025-07-04T17:11:05.3033228Z\",\"response\":\" v\",\"done\":false}{\"model\":\"mistral\",\"created_at\":\"2025-07-04T17:11:05.400081Z\",\"response\":\"à\",\"done\":false}{\"model\":\"mistral\",\"created_at\":\"2025-07-04T17:11:05.498206Z\",\"response\":\" n\",\"done\":false}{\"model\":\"mistral\",\"created_at\":\"2025-07-04T17:11:05.5983086Z\",\"response\":\"ó\",\"done\":false}{\"model\":\"mistral\",\"created_at\":\"2025-07-04T17:11:05.7015183Z\",\"response\":\" qu\",\"done\":false}{\"model\":\"mistral\",\"created_at\":\"2025-07-04T17:11:05.8028184Z\",\"response\":\"ả\",\"done\":false}{\"model\":\"mistral\",\"created_at\":\"2025-07-04T17:11:05.9077957Z\",\"response\":\"n\",\"done\":false}{\"model\":\"mistral\",\"created_at\":\"2025-07-04T17:11:06.0082004Z\",\"response\":\" l\",\"done\":false}{\"model\":\"mistral\",\"created_at\":\"2025-07-04T17:11:06.1082617Z\",\"response\":\"ý\",\"done\":false}{\"model\":\"mistral\",\"created_at\":\"2025-07-04T17:11:06.2108095Z\",\"response\":\" c\",\"done\":false}{\"model\":\"mistral\",\"created_at\":\"2025-07-04T17:11:06.3097225Z\",\"response\":\"á\",\"done\":false}{\"model\":\"mistral\",\"created_at\":\"2025-07-04T17:11:06.409793Z\",\"response\":\"c\",\"done\":false}{\"model\":\"mistral\",\"created_at\":\"2025-07-04T17:11:06.5130265Z\",\"response\":\" ti\",\"done\":false}{\"model\":\"mistral\",\"created_at\":\"2025-07-04T17:11:06.6136828Z\",\"response\":\"ế\",\"done\":false}{\"model\":\"mistral\",\"created_at\":\"2025-07-04T17:11:06.7197874Z\",\"response\":\"n\",\"done\":false}{\"model\":\"mistral\",\"created_at\":\"2025-07-04T17:11:06.8231927Z\",\"response\":\" tr\",\"done\":false}{\"model\":\"mistral\",\"created_at\":\"2025-07-04T17:11:06.935437Z\",\"response\":\"ì\",\"done\":false}{\"model\":\"mistral\",\"created_at\":\"2025-07-04T17:11:07.0492312Z\",\"response\":\"nh\",\"done\":false}{\"model\":\"mistral\",\"created_at\":\"2025-07-04T17:11:07.1542131Z\",\"response\":\" (\",\"done\":false}{\"model\":\"mistral\",\"created_at\":\"2025-07-04T17:11:07.2571317Z\",\"response\":\"process\",\"done\":false}{\"model\":\"mistral\",\"created_at\":\"2025-07-04T17:11:07.3616254Z\",\"response\":\"),\",\"done\":false}{\"model\":\"mistral\",\"created_at\":\"2025-07-04T17:11:07.4644643Z\",\"response\":\" g\",\"done\":false}{\"model\":\"mistral\",\"created_at\":\"2025-07-04T17:11:07.5693912Z\",\"response\":\"iao\",\"done\":false}{\"model\":\"mistral\",\"created_at\":\"2025-07-04T17:11:07.6771648Z\",\"response\":\" ti\",\"done\":false}{\"model\":\"mistral\",\"created_at\":\"2025-07-04T17:11:07.7859256Z\",\"response\":\"ế\",\"done\":false}{\"model\":\"mistral\",\"created_at\":\"2025-07-04T17:11:07.8929074Z\",\"response\":\"p\",\"done\":false}{\"model\":\"mistral\",\"created_at\":\"2025-07-04T17:11:07.9986193Z\",\"response\":\" gi\",\"done\":false}{\"model\":\"mistral\",\"created_at\":\"2025-07-04T17:11:08.1035985Z\",\"response\":\"ữ\",\"done\":false}{\"model\":\"mistral\",\"created_at\":\"2025-07-04T17:11:08.203241Z\",\"response\":\"a\",\"done\":false}{\"model\":\"mistral\",\"created_at\":\"2025-07-04T17:11:08.3014879Z\",\"response\":\" má\",\"done\":false}{\"model\":\"mistral\",\"created_at\":\"2025-07-04T17:11:08.4003782Z\",\"response\":\"y\",\"done\":false}{\"model\":\"mistral\",\"created_at\":\"2025-07-04T17:11:08.4991955Z\",\"response\":\" t\",\"done\":false}{\"model\":\"mistral\",\"created_at\":\"2025-07-04T17:11:08.6241211Z\",\"response\":\"ín\",\"done\":false}{\"model\":\"mistral\",\"created_at\":\"2025-07-04T17:11:08.7692385Z\",\"response\":\"h\",\"done\":false}{\"model\":\"mistral\",\"created_at\":\"2025-07-04T17:11:08.9107479Z\",\"response\":\" v\",\"done\":false}{\"model\":\"mistral\",\"created_at\":\"2025-07-04T17:11:09.0459247Z\",\"response\":\"à\",\"done\":false}{\"model\":\"mistral\",\"created_at\":\"2025-07-04T17:11:09.1880314Z\",\"response\":\" peripher\",\"done\":false}{\"model\":\"mistral\",\"created_at\":\"2025-07-04T17:11:09.3373766Z\",\"response\":\"al\",\"done\":false}{\"model\":\"mistral\",\"created_at\":\"2025-07-04T17:11:09.4693349Z\",\"response\":\" devices\",\"done\":false}{\"model\":\"mistral\",\"created_at\":\"2025-07-04T17:11:09.5922266Z\",\"response\":\",\",\"done\":false}{\"model\":\"mistral\",\"created_at\":\"2025-07-04T17:11:09.7081109Z\",\"response\":\" b\",\"done\":false}{\"model\":\"mistral\",\"created_at\":\"2025-07-04T17:11:09.8015327Z\",\"response\":\"ả\",\"done\":false}{\"model\":\"mistral\",\"created_at\":\"2025-07-04T17:11:09.9119538Z\",\"response\":\"o\",\"done\":false}{\"model\":\"mistral\",\"created_at\":\"2025-07-04T17:11:10.0195481Z\",\"response\":\" v\",\"done\":false}{\"model\":\"mistral\",\"created_at\":\"2025-07-04T17:11:10.1320448Z\",\"response\":\"ệ\",\"done\":false}{\"model\":\"mistral\",\"created_at\":\"2025-07-04T17:11:10.2434622Z\",\"response\":\" an\",\"done\":false}{\"model\":\"mistral\",\"created_at\":\"2025-07-04T17:11:10.3532117Z\",\"response\":\" to\",\"done\":false}{\"model\":\"mistral\",\"created_at\":\"2025-07-04T17:11:10.4609619Z\",\"response\":\"à\",\"done\":false}{\"model\":\"mistral\",\"created_at\":\"2025-07-04T17:11:10.5790954Z\",\"response\":\"n\",\"done\":false}{\"model\":\"mistral\",\"created_at\":\"2025-07-04T17:11:10.6900315Z\",\"response\":\" cho\",\"done\":false}{\"model\":\"mistral\",\"created_at\":\"2025-07-04T17:11:10.7984864Z\",\"response\":\" má\",\"done\":false}{\"model\":\"mistral\",\"created_at\":\"2025-07-04T17:11:10.9072876Z\",\"response\":\"y\",\"done\":false}{\"model\":\"mistral\",\"created_at\":\"2025-07-04T17:11:11.0200054Z\",\"response\":\" t\",\"done\":false}{\"model\":\"mistral\",\"created_at\":\"2025-07-04T17:11:11.1314313Z\",\"response\":\"ín\",\"done\":false}{\"model\":\"mistral\",\"created_at\":\"2025-07-04T17:11:11.2473822Z\",\"response\":\"h\",\"done\":false}{\"model\":\"mistral\",\"created_at\":\"2025-07-04T17:11:11.3584251Z\",\"response\":\",\",\"done\":false}{\"model\":\"mistral\",\"created_at\":\"2025-07-04T17:11:11.4718796Z\",\"response\":\" \",\"done\":false}{\"model\":\"mistral\",\"created_at\":\"2025-07-04T17:11:11.5913052Z\",\"response\":\"đ\",\"done\":false}{\"model\":\"mistral\",\"created_at\":\"2025-07-04T17:11:11.7025027Z\",\"response\":\"ư\",\"done\":false}{\"model\":\"mistral\",\"created_at\":\"2025-07-04T17:11:11.8123983Z\",\"response\":\"ợ\",\"done\":false}{\"model\":\"mistral\",\"created_at\":\"2025-07-04T17:11:11.9115479Z\",\"response\":\"c\",\"done\":false}{\"model\":\"mistral\",\"created_at\":\"2025-07-04T17:11:12.0876182Z\",\"response\":\" c\",\"done\":false}{\"model\":\"mistral\",\"created_at\":\"2025-07-04T17:11:12.2768123Z\",\"response\":\"ấ\",\"done\":false}{\"model\":\"mistral\",\"created_at\":\"2025-07-04T17:11:12.4403938Z\",\"response\":\"u\",\"done\":false}{\"model\":\"mistral\",\"created_at\":\"2025-07-04T17:11:12.5924748Z\",\"response\":\" h\",\"done\":false}{\"model\":\"mistral\",\"created_at\":\"2025-07-04T17:11:12.7682631Z\",\"response\":\"ì\",\"done\":false}{\"model\":\"mistral\",\"created_at\":\"2025-07-04T17:11:12.8881019Z\",\"response\":\"nh\",\"done\":false}{\"model\":\"mistral\",\"created_at\":\"2025-07-04T17:11:13.0031256Z\",\"response\":\" \",\"done\":false}{\"model\":\"mistral\",\"created_at\":\"2025-07-04T17:11:13.1062933Z\",\"response\":\"đ\",\"done\":false}{\"model\":\"mistral\",\"created_at\":\"2025-07-04T17:11:13.2112845Z\",\"response\":\"ể\",\"done\":false}{\"model\":\"mistral\",\"created_at\":\"2025-07-04T17:11:13.3066917Z\",\"response\":\" ch\",\"done\":false}{\"model\":\"mistral\",\"created_at\":\"2025-07-04T17:11:13.4089335Z\",\"response\":\"ạ\",\"done\":false}{\"model\":\"mistral\",\"created_at\":\"2025-07-04T17:11:13.5058336Z\",\"response\":\"y\",\"done\":false}{\"model\":\"mistral\",\"created_at\":\"2025-07-04T17:11:13.6134956Z\",\"response\":\" m\",\"done\":false}{\"model\":\"mistral\",\"created_at\":\"2025-07-04T17:11:13.7076755Z\",\"response\":\"ộ\",\"done\":false}{\"model\":\"mistral\",\"created_at\":\"2025-07-04T17:11:13.8121417Z\",\"response\":\"t\",\"done\":false}{\"model\":\"mistral\",\"created_at\":\"2025-07-04T17:11:13.9125599Z\",\"response\":\" ho\",\"done\":false}{\"model\":\"mistral\",\"created_at\":\"2025-07-04T17:11:14.0241634Z\",\"response\":\"ặ\",\"done\":false}{\"model\":\"mistral\",\"created_at\":\"2025-07-04T17:11:14.1236075Z\",\"response\":\"c\",\"done\":false}{\"model\":\"mistral\",\"created_at\":\"2025-07-04T17:11:14.2276544Z\",\"response\":\" n\",\"done\":false}{\"model\":\"mistral\",\"created_at\":\"2025-07-04T17:11:14.3263273Z\",\"response\":\"hi\",\"done\":false}{\"model\":\"mistral\",\"created_at\":\"2025-07-04T17:11:14.4362967Z\",\"response\":\"ề\",\"done\":false}{\"model\":\"mistral\",\"created_at\":\"2025-07-04T17:11:14.5465896Z\",\"response\":\"u\",\"done\":false}{\"model\":\"mistral\",\"created_at\":\"2025-07-04T17:11:14.6577005Z\",\"response\":\" ph\",\"done\":false}{\"model\":\"mistral\",\"created_at\":\"2025-07-04T17:11:14.7691174Z\",\"response\":\"ầ\",\"done\":false}{\"model\":\"mistral\",\"created_at\":\"2025-07-04T17:11:14.8758442Z\",\"response\":\"n\",\"done\":false}{\"model\":\"mistral\",\"created_at\":\"2025-07-04T17:11:14.9793738Z\",\"response\":\" m\",\"done\":false}{\"model\":\"mistral\",\"created_at\":\"2025-07-04T17:11:15.089404Z\",\"response\":\"ề\",\"done\":false}{\"model\":\"mistral\",\"created_at\":\"2025-07-04T17:11:15.2100823Z\",\"response\":\"m\",\"done\":false}{\"model\":\"mistral\",\"created_at\":\"2025-07-04T17:11:15.3120561Z\",\"response\":\" k\",\"done\":false}{\"model\":\"mistral\",\"created_at\":\"2025-07-04T17:11:15.4096697Z\",\"response\":\"h\",\"done\":false}{\"model\":\"mistral\",\"created_at\":\"2025-07-04T17:11:15.5056094Z\",\"response\":\"á\",\"done\":false}{\"model\":\"mistral\",\"created_at\":\"2025-07-04T17:11:15.6145492Z\",\"response\":\"c\",\"done\":false}{\"model\":\"mistral\",\"created_at\":\"2025-07-04T17:11:15.7176765Z\",\"response\":\".\",\"done\":false}{\"model\":\"mistral\",\"created_at\":\"2025-07-04T17:11:15.8266302Z\",\"response\":\"\\n\",\"done\":false}{\"model\":\"mistral\",\"created_at\":\"2025-07-04T17:11:15.9169157Z\",\"response\":\"\\n\",\"done\":false}{\"model\":\"mistral\",\"created_at\":\"2025-07-04T17:11:16.0281512Z\",\"response\":\"C\",\"done\":false}{\"model\":\"mistral\",\"created_at\":\"2025-07-04T17:11:16.1297187Z\",\"response\":\"á\",\"done\":false}{\"model\":\"mistral\",\"created_at\":\"2025-07-04T17:11:16.2407868Z\",\"response\":\"c\",\"done\":false}{\"model\":\"mistral\",\"created_at\":\"2025-07-04T17:11:16.3475104Z\",\"response\":\" h\",\"done\":false}{\"model\":\"mistral\",\"created_at\":\"2025-07-04T17:11:16.4644352Z\",\"response\":\"ệ\",\"done\":false}{\"model\":\"mistral\",\"created_at\":\"2025-07-04T17:11:16.5792857Z\",\"response\":\" \",\"done\":false}{\"model\":\"mistral\",\"created_at\":\"2025-07-04T17:11:16.6850701Z\",\"response\":\"đ\",\"done\":false}{\"model\":\"mistral\",\"created_at\":\"2025-07-04T17:11:16.7861293Z\",\"response\":\"i\",\"done\":false}{\"model\":\"mistral\",\"created_at\":\"2025-07-04T17:11:16.8905579Z\",\"response\":\"ề\",\"done\":false}{\"model\":\"mistral\",\"created_at\":\"2025-07-04T17:11:16.9901221Z\",\"response\":\"u\",\"done\":false}{\"model\":\"mistral\",\"created_at\":\"2025-07-04T17:11:17.0987088Z\",\"response\":\" h\",\"done\":false}{\"model\":\"mistral\",\"created_at\":\"2025-07-04T17:11:17.1972563Z\",\"response\":\"à\",\"done\":false}{\"model\":\"mistral\",\"created_at\":\"2025-07-04T17:11:17.3014177Z\",\"response\":\"nh\",\"done\":false}{\"model\":\"mistral\",\"created_at\":\"2025-07-04T17:11:17.4080042Z\",\"response\":\" ph\",\"done\":false}{\"model\":\"mistral\",\"created_at\":\"2025-07-04T17:11:17.502607Z\",\"response\":\"ổ\",\"done\":false}{\"model\":\"mistral\",\"created_at\":\"2025-07-04T17:11:17.6089412Z\",\"response\":\" bi\",\"done\":false}{\"model\":\"mistral\",\"created_at\":\"2025-07-04T17:11:17.7071071Z\",\"response\":\"ế\",\"done\":false}{\"model\":\"mistral\",\"created_at\":\"2025-07-04T17:11:17.8171171Z\",\"response\":\"n\",\"done\":false}{\"model\":\"mistral\",\"created_at\":\"2025-07-04T17:11:17.9166957Z\",\"response\":\" b\",\"done\":false}{\"model\":\"mistral\",\"created_at\":\"2025-07-04T17:11:18.030055Z\",\"response\":\"ao\",\"done\":false}{\"model\":\"mistral\",\"created_at\":\"2025-07-04T17:11:18.1346834Z\",\"response\":\" g\",\"done\":false}{\"model\":\"mistral\",\"created_at\":\"2025-07-04T17:11:18.2440664Z\",\"response\":\"ồ\",\"done\":false}{\"model\":\"mistral\",\"created_at\":\"2025-07-04T17:11:18.342732Z\",\"response\":\"m\",\"done\":false}{\"model\":\"mistral\",\"created_at\":\"2025-07-04T17:11:18.4548222Z\",\"response\":\" Microsoft\",\"done\":false}{\"model\":\"mistral\",\"created_at\":\"2025-07-04T17:11:18.5563894Z\",\"response\":\" Windows\",\"done\":false}{\"model\":\"mistral\",\"created_at\":\"2025-07-04T17:11:18.6620578Z\",\"response\":\",\",\"done\":false}{\"model\":\"mistral\",\"created_at\":\"2025-07-04T17:11:18.7645005Z\",\"response\":\" Linux\",\"done\":false}{\"model\":\"mistral\",\"created_at\":\"2025-07-04T17:11:18.8786466Z\",\"response\":\",\",\"done\":false}{\"model\":\"mistral\",\"created_at\":\"2025-07-04T17:11:18.9821978Z\",\"response\":\" Apple\",\"done\":false}{\"model\":\"mistral\",\"created_at\":\"2025-07-04T17:11:19.0894595Z\",\"response\":\" mac\",\"done\":false}{\"model\":\"mistral\",\"created_at\":\"2025-07-04T17:11:19.1959236Z\",\"response\":\"OS\",\"done\":false}{\"model\":\"mistral\",\"created_at\":\"2025-07-04T17:11:19.2918476Z\",\"response\":\",\",\"done\":false}{\"model\":\"mistral\",\"created_at\":\"2025-07-04T17:11:19.4020819Z\",\"response\":\" Android\",\"done\":false}{\"model\":\"mistral\",\"created_at\":\"2025-07-04T17:11:19.4997737Z\",\"response\":\" v\",\"done\":false}{\"model\":\"mistral\",\"created_at\":\"2025-07-04T17:11:19.6036411Z\",\"response\":\"à\",\"done\":false}{\"model\":\"mistral\",\"created_at\":\"2025-07-04T17:11:19.6997989Z\",\"response\":\" iOS\",\"done\":false}{\"model\":\"mistral\",\"created_at\":\"2025-07-04T17:11:19.8072143Z\",\"response\":\".\",\"done\":false}{\"model\":\"mistral\",\"created_at\":\"2025-07-04T17:11:19.9051716Z\",\"response\":\"\",\"done\":true,\"done_reason\":\"stop\",\"context\":[3,29473,7390,30276,29478,1074,29595,1106,1063,30307,29473,29745,29478,30907,29486,1063,29607,25779,27709,1087,29711,29572,4,29473,1150,30307,29473,29745,29478,30907,29486,1063,29607,25779,1093,4703,1845,2903,29499,27709,1058,30552,29475,1876,30817,29479,1105,30390,29486,1029,30509,1294,1044,1235,30865,1585,1235,1334,1058,30552,29475,18091,29492,1029,6673,29484,8231,31449,29485,1074,29478,30390,29475,1055,30533,1214,29484,29588,29485,29493,1075,29593,1294,30276,29479,1073,29657,1045,29588,29485,1029,29607,29478,1075,3619,29492,27609,1131,29607,1029,30435,29488,17857,1131,29607,1063,31694,1235,30676,1252,30191,29492,1045,29588,29485,29473,31190,1585,1049,31036,1585,1093,1489,30817,29479,1058,30907,29487,29499,1235,27609,18091,29492,1029,6673,29484,29491,1150,30307,29473,29745,29478,30907,29486,1063,29607,25779,22745,1074,30678,27709,1876,30817,29479,1058,30907,29487,8231,31449,29485,1058,30552,29475,1876,30817,29479,1045,31190,1585,29493,1131,29607,1075,29593,1294,30276,29479,1073,29657,1045,29588,29485,17829,30390,29479,1235,29711,25779,1093,5994,1325,1087,24753,17829,30390,29488,5988,31354,29476,18091,29492,1029,6673,29484,1131,29607,28475,1050,9077,29493,1055,30276,29477,1131,30307,1164,1066,29607,29479,2951,18091,29492,1029,6673,29484,29493,29473,29745,30091,30676,29485,1045,30684,29486,1063,29711,25779,29473,29745,30678,1252,30191,29492,1058,30552,29475,8231,31449,29485,1075,6133,30907,29486,1876,30817,29479,1058,30907,29487,1214,29484,29588,29485,29491,781,781,29511,29588,29485,1063,30307,29473,29745,29478,30907,29486,1063,29607,25779,1876,31454,5008,30390,29479,1055,5812,1087,31009,29487,8670,9723,29493,20254,29493,11012,9106,4611,29493,13422,1131,29607,24255,29491],\"total_duration\":33796187600,\"load_duration\":8563100,\"prompt_eval_count\":24,\"prompt_eval_duration\":1562441400,\"eval_count\":280,\"eval_duration\":32223386000}"
     ]
    }
   ],
   "source": [
    "import requests\n",
    "\n",
    "resp = requests.post(\n",
    "    \"http://localhost:11434/api/generate\",\n",
    "    json={\n",
    "        \"model\": \"mistral\",\n",
    "        \"prompt\": \"Giải thích hệ điều hành là gì?\",\n",
    "        \"stream\": True\n",
    "    },\n",
    "    stream=True\n",
    ")\n",
    "\n",
    "for line in resp.iter_lines():\n",
    "    if line:\n",
    "        print(line.decode().removeprefix(\"data: \"), end=\"\", flush=True)\n"
   ]
  },
  {
   "cell_type": "markdown",
   "id": "948e5a85",
   "metadata": {},
   "source": [
    "# DEMO với hugging face"
   ]
  },
  {
   "cell_type": "code",
   "execution_count": 99,
   "id": "416e23e6",
   "metadata": {},
   "outputs": [
    {
     "name": "stderr",
     "output_type": "stream",
     "text": [
      "c:\\Users\\DO TUAN MINH\\AppData\\Local\\Programs\\Python\\Python312\\Lib\\site-packages\\huggingface_hub\\file_download.py:795: FutureWarning: `resume_download` is deprecated and will be removed in version 1.0.0. Downloads always resume when possible. If you want to force a new download, use `force_download=True`.\n",
      "  warnings.warn(\n"
     ]
    },
    {
     "data": {
      "application/vnd.jupyter.widget-view+json": {
       "model_id": "200180f1852e418e9be1a28013349fd5",
       "version_major": 2,
       "version_minor": 0
      },
      "text/plain": [
       "tokenizer_config.json:   0%|          | 0.00/375 [00:00<?, ?B/s]"
      ]
     },
     "metadata": {},
     "output_type": "display_data"
    },
    {
     "name": "stderr",
     "output_type": "stream",
     "text": [
      "c:\\Users\\DO TUAN MINH\\AppData\\Local\\Programs\\Python\\Python312\\Lib\\site-packages\\huggingface_hub\\file_download.py:140: UserWarning: `huggingface_hub` cache-system uses symlinks by default to efficiently store duplicated files but your machine does not support them in C:\\Users\\DO TUAN MINH\\.cache\\huggingface\\hub\\models--csebuetnlp--mT5_multilingual_XLSum. Caching files will still work but in a degraded version that might require more space on your disk. This warning can be disabled by setting the `HF_HUB_DISABLE_SYMLINKS_WARNING` environment variable. For more details, see https://huggingface.co/docs/huggingface_hub/how-to-cache#limitations.\n",
      "To support symlinks on Windows, you either need to activate Developer Mode or to run Python as an administrator. In order to activate developer mode, see this article: https://docs.microsoft.com/en-us/windows/apps/get-started/enable-your-device-for-development\n",
      "  warnings.warn(message)\n"
     ]
    },
    {
     "data": {
      "application/vnd.jupyter.widget-view+json": {
       "model_id": "7310d5db71764ebf8c6f292746231f9a",
       "version_major": 2,
       "version_minor": 0
      },
      "text/plain": [
       "config.json:   0%|          | 0.00/730 [00:00<?, ?B/s]"
      ]
     },
     "metadata": {},
     "output_type": "display_data"
    },
    {
     "data": {
      "application/vnd.jupyter.widget-view+json": {
       "model_id": "2f6e4ffec7df4696bb08d2fe21da72a9",
       "version_major": 2,
       "version_minor": 0
      },
      "text/plain": [
       "spiece.model:   0%|          | 0.00/4.31M [00:00<?, ?B/s]"
      ]
     },
     "metadata": {},
     "output_type": "display_data"
    },
    {
     "data": {
      "application/vnd.jupyter.widget-view+json": {
       "model_id": "c5452d5a9d5a49c79aa84f680ac8e52f",
       "version_major": 2,
       "version_minor": 0
      },
      "text/plain": [
       "special_tokens_map.json:   0%|          | 0.00/65.0 [00:00<?, ?B/s]"
      ]
     },
     "metadata": {},
     "output_type": "display_data"
    },
    {
     "name": "stderr",
     "output_type": "stream",
     "text": [
      "You are using the default legacy behaviour of the <class 'transformers.models.t5.tokenization_t5.T5Tokenizer'>. This is expected, and simply means that the `legacy` (previous) behavior will be used so nothing changes for you. If you want to use the new behaviour, set `legacy=False`. This should only be set if you understand what it means, and thoroughly read the reason why this was added as explained in https://github.com/huggingface/transformers/pull/24565\n",
      "c:\\Users\\DO TUAN MINH\\AppData\\Local\\Programs\\Python\\Python312\\Lib\\site-packages\\transformers\\convert_slow_tokenizer.py:560: UserWarning: The sentencepiece tokenizer that you are converting to a fast tokenizer uses the byte fallback option which is not implemented in the fast tokenizers. In practice this means that the fast version of the tokenizer can produce unknown tokens whereas the sentencepiece version would have converted these unknown tokens into a sequence of byte tokens matching the original piece of text.\n",
      "  warnings.warn(\n"
     ]
    },
    {
     "data": {
      "application/vnd.jupyter.widget-view+json": {
       "model_id": "564b2067b46d43bfae8d83ff413e43ca",
       "version_major": 2,
       "version_minor": 0
      },
      "text/plain": [
       "pytorch_model.bin:   0%|          | 0.00/2.33G [00:00<?, ?B/s]"
      ]
     },
     "metadata": {},
     "output_type": "display_data"
    },
    {
     "name": "stdout",
     "output_type": "stream",
     "text": [
      "Tóm tắt: Hệ điều hành tài nguyên ở Việt Nam đang được công bố vào tháng này.\n"
     ]
    }
   ],
   "source": [
    "from transformers import AutoTokenizer, AutoModelForSeq2SeqLM\n",
    "import torch\n",
    "\n",
    "model_id = \"csebuetnlp/mT5_multilingual_XLSum\"\n",
    "  # hoặc đổi sang model khác\n",
    "\n",
    "tokenizer = AutoTokenizer.from_pretrained(model_id)\n",
    "model = AutoModelForSeq2SeqLM.from_pretrained(model_id)\n",
    "\n",
    "\n"
   ]
  },
  {
   "cell_type": "code",
   "execution_count": 102,
   "id": "0c0adb78",
   "metadata": {},
   "outputs": [
    {
     "name": "stdout",
     "output_type": "stream",
     "text": [
      "Tóm tắt: Công an phường Hòa Xuân mới đồng loạt ra quân quyết liệt đầu tiên sau sáp nhập.\n"
     ]
    }
   ],
   "source": [
    "text = \"\"\"RA QUÂN Ở PHƯỜNG HÒA XUÂN MỚI: SIẾT CHẶT ANTT, KIỂM SOÁT ĐỐI TƯỢNG NGUY CƠ! 🔍🚨\n",
    "🕔 5h sáng ngày 04/7/2025, Công an phường Hòa Xuân mới (sau sáp nhập từ 3 địa bàn: Hòa Xuân cũ, Hòa Phước, Hòa Châu) đồng loạt ra quân kiểm danh, kiểm diện, test nhanh ma túy đối với các đối tượng hình sự, ma túy có nguy cơ gây mất an ninh trật tự trên địa bàn.\n",
    "👮‍♂️ 45 CBCS cùng 48 lực lượng An ninh tham gia bảo vệ ANTT ở cơ sở được huy động.\n",
    "📋 Đã kiểm tra, test nhanh 22 đối tượng.\n",
    "✅ 20 đối tượng âm tính.\n",
    "❌ 2 đối tượng dương tính với ma túy – Công an phường đã lập hồ sơ xử lý theo quy định.\n",
    "🎯 Đây là đợt ra quân quyết liệt đầu tiên sau sáp nhập, thể hiện rõ quyết tâm của lực lượng Công an phường Hòa Xuân mới trong việc giữ vững ANTT, làm sạch địa bàn ngay từ ban đầu.\"\n",
    "\"\"\"\n",
    "inputs = tokenizer(text, return_tensors=\"pt\", max_length=512, truncation=True)\n",
    "summary_ids = model.generate(**inputs, max_new_tokens=100)\n",
    "\n",
    "summary = tokenizer.decode(summary_ids[0], skip_special_tokens=True)\n",
    "print(\"Tóm tắt:\", summary)"
   ]
  },
  {
   "cell_type": "code",
   "execution_count": null,
   "id": "47803b6a",
   "metadata": {},
   "outputs": [],
   "source": []
  }
 ],
 "metadata": {
  "kernelspec": {
   "display_name": "Python 3",
   "language": "python",
   "name": "python3"
  },
  "language_info": {
   "codemirror_mode": {
    "name": "ipython",
    "version": 3
   },
   "file_extension": ".py",
   "mimetype": "text/x-python",
   "name": "python",
   "nbconvert_exporter": "python",
   "pygments_lexer": "ipython3",
   "version": "3.12.0"
  }
 },
 "nbformat": 4,
 "nbformat_minor": 5
}
