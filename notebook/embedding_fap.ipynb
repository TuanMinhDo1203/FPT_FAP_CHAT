{
 "cells": [
  {
   "cell_type": "code",
   "execution_count": 4,
   "id": "8762c14a",
   "metadata": {},
   "outputs": [],
   "source": [
    "import torch\n",
    "import tqdm\n",
    "from sentence_transformers import SentenceTransformer\n",
    "\n",
    "class BGEEmbedder:\n",
    "    def __init__(self, model_name=\"BAAI/bge-m3\"):\n",
    "        self.model = SentenceTransformer(model_name)\n",
    "        self.prefix = \"Represent this sentence for searching relevant passages: \"\n",
    "\n",
    "    def embed(self, texts, batch_size=64):\n",
    "        # BGE-M3 yêu cầu prefix cho truy vấn và văn bản\n",
    "        texts_with_prefix = [\n",
    "            text if text.startswith(self.prefix) else self.prefix + text\n",
    "            for text in texts\n",
    "        ]\n",
    "\n",
    "        # Dùng encode với batch size và normalize sẵn\n",
    "        embeddings = self.model.encode(\n",
    "            texts_with_prefix,\n",
    "            batch_size=batch_size,\n",
    "            normalize_embeddings=True,\n",
    "            show_progress_bar=True\n",
    "        )\n",
    "        return embeddings"
   ]
  },
  {
   "cell_type": "code",
   "execution_count": 19,
   "id": "d50a2e59",
   "metadata": {},
   "outputs": [],
   "source": [
    "import pandas as pd\n",
    "\n",
    "course_summaries = pd.read_csv(r'D:\\Learn\\Semester_5\\SEG301\\Fap-Chat\\data\\FAP\\FINAL\\course_summaries.csv')\n",
    "grade_details = pd.read_csv(r'D:\\Learn\\Semester_5\\SEG301\\Fap-Chat\\data\\FAP\\FINAL\\grade_details.csv')\n",
    "student_profile = pd.read_csv(r'D:\\Learn\\Semester_5\\SEG301\\Fap-Chat\\data\\FAP\\student_profile.csv')\n",
    "attendance_reports = pd.read_csv(r'D:\\Learn\\Semester_5\\SEG301\\Fap-Chat\\data\\FAP\\FINAL\\attendance_reports.csv')\n"
   ]
  },
  {
   "cell_type": "code",
   "execution_count": 17,
   "id": "6fe6b201",
   "metadata": {},
   "outputs": [
    {
     "name": "stdout",
     "output_type": "stream",
     "text": [
      "Index(['term', 'course_name', 'course_code', 'avg_score', 'status', 'summary'], dtype='object')\n",
      "Index(['student_id', 'term', 'course_name', 'course_code', 'category', 'item',\n",
      "       'weight', 'value'],\n",
      "      dtype='object')\n",
      "Index(['full_name', 'date_of_birth', 'gender', 'id_card_number',\n",
      "       'home_address', 'phone_number', 'email_address', 'id_date_of_issue',\n",
      "       'id_place_of_issue', 'parent_full_name', 'parent_phone_number',\n",
      "       'parent_address', 'parent_email', 'parent_job', 'parent_workplace',\n",
      "       'roll_number', 'old_roll_number', 'member_code', 'enrollment_date',\n",
      "       'study_mode', 'current_status', 'current_term_number', 'major',\n",
      "       'curriculum', 'capstone_project', 'main_class', 'specialization',\n",
      "       'account_balance', 'previous_major', 'decision_graduate_check',\n",
      "       'is_full_time_student', 'full_time_confirmed_date',\n",
      "       'is_scholarship_student', 'valid_study_period', 'training_type',\n",
      "       'decision_dropout', 'decision_transfer_campus',\n",
      "       'decision_academic_leave', 'decision_graduation', 'decision_rejoin',\n",
      "       'destination_after_study', 'start_term'],\n",
      "      dtype='object')\n",
      "Index(['student_id', 'term', 'course_name', 'course_code', 'no', 'date',\n",
      "       'slot', 'room', 'lecturer', 'group', 'status', 'comment'],\n",
      "      dtype='object')\n"
     ]
    }
   ],
   "source": [
    "print(course_summaries.columns)\n",
    "print(grade_details.columns)\n",
    "print(student_profile.columns)\n",
    "print(attendance_reports.columns)"
   ]
  },
  {
   "cell_type": "code",
   "execution_count": 4,
   "id": "9c7cf855",
   "metadata": {},
   "outputs": [
    {
     "name": "stdout",
     "output_type": "stream",
     "text": [
      "{'term': 'Fall2024', 'course_name': 'AI, DS with Python & SQL ', 'course_code': 'ADY201m', 'avg_score': 8.6, 'status': 'Passed', 'summary': \"{'Assignment': {'weight': '10.0 %', 'value': '9'}, 'Progress test 1': {'weight': '10.0 %', 'value': '9.4'}, 'Progress test 2': {'weight': '10.0 %', 'value': '9'}, 'Lab': {'weight': '30.0 %', 'value': '9.3'}, 'Final exam': {'weight': '40.0 %', 'value': '7.6'}, 'Final exam Resit': {'weight': '40.0 %', 'value': None}}\"}\n",
      "{'student_id': 'DE190340', 'term': 'Fall2024', 'course_name': 'AI, DS with Python & SQL', 'course_code': 'ADY201m', 'no': 2, 'date': 'Monday 09/09/2024', 'slot': '3_(12:30-14:45)', 'room': 'Gamma 410.', 'lecturer': 'VuBC', 'group': 'AI18D02', 'status': 'Present', 'comment': 'unknown'}\n",
      "{'student_id': 'DE190340', 'term': 'Fall2024', 'course_name': 'AI, DS with Python & SQL ', 'course_code': 'ADY201m', 'category': 'Assignment', 'item': 'Assignment', 'weight': '10.0 %', 'value': '9.0'}\n",
      "{'full_name': 'Phan Công Tâm', 'date_of_birth': '19/03/2005', 'gender': 'Male', 'id_card_number': 48205008983, 'home_address': '37 An Thượng 18, Phường Mỹ An, Quận Ngũ Hành Sơn, Đà Nẵng', 'phone_number': 907930205, 'email_address': 'phancongtam190305@gmail.com', 'id_date_of_issue': '11/03/2020', 'id_place_of_issue': 'Cục cảnh sát quản lý hành chính về trật tự xã hội', 'parent_full_name': 'Phan Công Hùng', 'parent_phone_number': 913418948, 'parent_address': 'unknown', 'parent_email': 'unknown', 'parent_job': 'Kĩ Sư', 'parent_workplace': 'unknown', 'roll_number': 'DE190340', 'old_roll_number': 'unknown', 'member_code': 'unknown', 'enrollment_date': 'unknown', 'study_mode': 'Chính quy', 'current_status': 'HD - HD, Is progress', 'current_term_number': 5, 'major': 'BIT', 'curriculum': 'unknown', 'capstone_project': 'unknown', 'main_class': 'AI18D01', 'specialization': 'BIT_AI', 'account_balance': 'Account balance (Số dư tài khoản): 0 VNĐ', 'previous_major': 'unknown', 'decision_graduate_check': 'unknown', 'is_full_time_student': '1369/QĐ-ĐHFPT', 'full_time_confirmed_date': '12/29/2023 12:00:00 AM', 'is_scholarship_student': 'unknown', 'valid_study_period': 'FA29', 'training_type': 'UD 10% anh em', 'decision_dropout': 'unknown', 'decision_transfer_campus': 'unknown', 'decision_academic_leave': 'unknown', 'decision_graduation': 'unknown', 'decision_rejoin': 'unknown', 'destination_after_study': 'OLD', 'start_term': 'Fall2023'}\n"
     ]
    }
   ],
   "source": [
    "# Tạo các json cho FAP\n",
    "import json\n",
    "coursesummary_json_chunks = course_summaries.to_dict(orient='records')\n",
    "print(coursesummary_json_chunks[0])\n",
    "attendancerp_json_chunks = attendance_reports.to_dict(orient='records')\n",
    "print(attendancerp_json_chunks[0])\n",
    "gradedetail_json_chunks = grade_details.to_dict(orient='records')\n",
    "print(gradedetail_json_chunks[0])\n",
    "studentprofile_json_chunks = student_profile.to_dict(orient='records')\n",
    "print(studentprofile_json_chunks[0])"
   ]
  },
  {
   "cell_type": "code",
   "execution_count": 195,
   "id": "71cb75b8",
   "metadata": {},
   "outputs": [],
   "source": [
    "import os\n",
    "out_dir = r'D:\\Desktop\\tap tanh hoc code\\.vscode\\Summer_2025\\SEG301\\Fap-Chat\\data\\FAP\\FINAL\\FAP_Chunk_JSON'\n",
    "os.makedirs(out_dir, exist_ok=True)\n",
    "\n",
    "# Mapping tên file → biến\n",
    "chunk_map = {\n",
    "    \"coursesummary_json_chunks.json\": coursesummary_json_chunks,\n",
    "    \"attendancerp_json_chunks.json\": attendancerp_json_chunks,\n",
    "    \"gradedetail_json_chunks.json\": gradedetail_json_chunks,\n",
    "    \"studentprofile_json_chunks.json\": studentprofile_json_chunks,\n",
    "}\n",
    "\n",
    "# Ghi lần lượt\n",
    "for filename, data in chunk_map.items():\n",
    "    filepath = os.path.join(out_dir, filename)\n",
    "    with open(filepath, \"w\", encoding=\"utf-8\") as f:\n",
    "        json.dump(data, f, ensure_ascii=False, indent=2)"
   ]
  },
  {
   "cell_type": "code",
   "execution_count": 46,
   "id": "87c659c4",
   "metadata": {},
   "outputs": [
    {
     "name": "stdout",
     "output_type": "stream",
     "text": [
      "538\n"
     ]
    }
   ],
   "source": [
    "def build_attendance_payload(row):\n",
    "    def safe(x):\n",
    "        return str(x).strip() if pd.notnull(x) else \"Unknown\"\n",
    "    \n",
    "    return {\n",
    "        \"student_id\": safe(row[\"student_id\"]),\n",
    "        \"semsester\": safe(row[\"term\"]),\n",
    "        \"subject_name\": safe(row[\"course_name\"]),\n",
    "        \"subject_code\": safe(row[\"course_code\"]),\n",
    "        \"session_number\": int(row[\"no\"]) if pd.notnull(row[\"no\"]) else -1,\n",
    "        \"date\": safe(row[\"date\"]),\n",
    "        \"time_slot\": safe(row[\"slot\"]),\n",
    "        \"room\": safe(row[\"room\"]),\n",
    "        \"lecturer\": safe(row[\"lecturer\"]),\n",
    "        \"group\": safe(row[\"group\"]),\n",
    "        \"status\": safe(row[\"status\"]),  # e.g., \"present\", \"absent\"\n",
    "        \"comment\": safe(row[\"comment\"]),\n",
    "        \"type\": \"attendance\",\n",
    "        \"content\": (\n",
    "            f\"TYPE: Attendance\\n\"\n",
    "            f\"Student: {safe(row['student_id'])}\\n\"\n",
    "            f\"Course: {safe(row['course_code'])} - {safe(row['course_name'])}\\n\"\n",
    "            f\"Semeseter: {safe(row['term'])} | Session No.: {safe(row['no'])} - Date: {safe(row['date'])} - Slot: {safe(row['slot'])} - Room: {safe(row['room'])}\\n\"\n",
    "            f\"Lecturer: {safe(row['lecturer'])} | Group: {safe(row['group'])}\\n\"\n",
    "            f\"Status: {safe(row['status'])} | Comment: {safe(row['comment'])}\"\n",
    "        )\n",
    "    }\n",
    "\n",
    "attendance_payloads = [build_attendance_payload(row) for _, row in attendance_reports.iterrows()]\n",
    "print(len(attendance_payloads))\n"
   ]
  },
  {
   "cell_type": "code",
   "execution_count": 47,
   "id": "e3459aaf",
   "metadata": {},
   "outputs": [
    {
     "name": "stdout",
     "output_type": "stream",
     "text": [
      "27\n"
     ]
    }
   ],
   "source": [
    "def build_course_summary_payload(row):\n",
    "    def safe(x):\n",
    "        return str(x).strip() if pd.notnull(x) else \"Unknown\"\n",
    "\n",
    "    return {\n",
    "        \"student_id\": 'DE190340',\n",
    "        \"semester\": safe(row[\"term\"]),\n",
    "        \"subject_name\": safe(row[\"course_name\"]),\n",
    "        \"subject_code\": safe(row[\"course_code\"]),\n",
    "        \"average_score\": float(row[\"avg_score\"]) if pd.notnull(row[\"avg_score\"]) else -1.0,\n",
    "        \"status\": safe(row[\"status\"]),\n",
    "        \"summary\": safe(row[\"summary\"]),\n",
    "        \"type\": \"course summary\",\n",
    "        \"content\": (\n",
    "            f\"TYPE: Course Summary\\n\"\n",
    "            f\"Course: {safe(row['course_code'])} - {safe(row['course_name'])}\\n\"\n",
    "            f\"Term: {safe(row['term'])}\\n\"\n",
    "            f\"Average Score: {safe(row['avg_score'])}\\n\"\n",
    "            f\"Status: {safe(row['status'])}\\n\"\n",
    "            f\"Summary: {safe(row['summary'])}\"\n",
    "        )\n",
    "    }\n",
    "\n",
    "co_sum_payloads = [build_course_summary_payload(row) for _, row in course_summaries.iterrows()]\n",
    "print(len(co_sum_payloads))\n"
   ]
  },
  {
   "cell_type": "code",
   "execution_count": 48,
   "id": "c2f43201",
   "metadata": {},
   "outputs": [
    {
     "name": "stdout",
     "output_type": "stream",
     "text": [
      "167\n"
     ]
    }
   ],
   "source": [
    "def build_grade_detail_payload(row):\n",
    "    def safe(x):\n",
    "        return str(x).strip() if pd.notnull(x) else \"Unknown\"\n",
    "\n",
    "    return {\n",
    "        \"student_id\": safe(row[\"student_id\"]),\n",
    "        \"semester\": safe(row[\"term\"]),\n",
    "        \"subject_name\": safe(row[\"course_name\"]),\n",
    "        \"subject_code\": safe(row[\"course_code\"]),\n",
    "        \"category\": safe(row[\"category\"]),\n",
    "        \"assessment_item\": safe(row[\"item\"]),\n",
    "        \"weight\": safe(row[\"weight\"]),\n",
    "        \"score_value\": row[\"value\"] if pd.notnull(row[\"value\"]) else -1.0,\n",
    "        \"type\": \"grade detail\",\n",
    "        \"content\": (\n",
    "            f\"TYPE: Grade Detail\\n\"\n",
    "            f\"Student: {safe(row['student_id'])}\\n\"\n",
    "            f\"Course: {safe(row['course_code'])} - {safe(row['course_name'])}\\n\"\n",
    "            f\"Semester: {safe(row['term'])}\\n\"\n",
    "            f\"Item: {safe(row['item'])} | Category: {safe(row['category'])}\\n\"\n",
    "            f\"Weight: {safe(row['weight'])} | Score: {safe(row['value'])}\"\n",
    "        )\n",
    "    }\n",
    "\n",
    "grade_detail_payloads = [build_grade_detail_payload(row) for _, row in grade_details.iterrows()]\n",
    "print(len(grade_detail_payloads))\n"
   ]
  },
  {
   "cell_type": "code",
   "execution_count": 31,
   "id": "93f242d2",
   "metadata": {},
   "outputs": [
    {
     "name": "stdout",
     "output_type": "stream",
     "text": [
      "1\n"
     ]
    }
   ],
   "source": [
    "def build_student_profile_payload(row):\n",
    "    def safe(x):\n",
    "        return str(x).strip() if pd.notnull(x) else \"Unknown\"\n",
    "\n",
    "    return {\n",
    "        \"full_name\": safe(row[\"full_name\"]),\n",
    "        \"date_of_birth\": safe(row[\"date_of_birth\"]),\n",
    "        \"gender\": safe(row[\"gender\"]),\n",
    "        \"id_card_number\": safe(row[\"id_card_number\"]),\n",
    "        \"id_date_of_issue\": safe(row[\"id_date_of_issue\"]),\n",
    "        \"id_place_of_issue\": safe(row[\"id_place_of_issue\"]),\n",
    "        \"home_address\": safe(row[\"home_address\"]),\n",
    "        \"phone_number\": safe(row[\"phone_number\"]),\n",
    "        \"email_address\": safe(row[\"email_address\"]),\n",
    "        \"roll_number\": safe(row[\"roll_number\"]),\n",
    "        \"old_roll_number\": safe(row[\"old_roll_number\"]),\n",
    "        \"member_code\": safe(row[\"member_code\"]),\n",
    "        \"enrollment_date\": safe(row[\"enrollment_date\"]),\n",
    "        \"major\": safe(row[\"major\"]),\n",
    "        \"main_class\": safe(row[\"main_class\"]),\n",
    "        \"current_status\": safe(row[\"current_status\"]),\n",
    "        \"is_full_time_student\": bool(row[\"is_full_time_student\"]),\n",
    "        \"is_scholarship_student\": bool(row[\"is_scholarship_student\"]),\n",
    "        \"training_type\": safe(row[\"training_type\"]),\n",
    "        \"start_term\": safe(row[\"start_term\"]),\n",
    "        \"type\": \"student profile\",\n",
    "        \"content\": (\n",
    "            f\"Student Profile: {safe(row['full_name'])} | ID: {safe(row['roll_number'])}\\n\"\n",
    "            f\"Date of Birth: {safe(row['date_of_birth'])} | Gender: {safe(row['gender'])}\\n\"\n",
    "            f\"Major: {safe(row['major'])} | Class: {safe(row['main_class'])} | Status: {safe(row['current_status'])}\\n\"\n",
    "            f\"Training Type: {'Full-time' if bool(row['is_full_time_student']) else 'Part-time'} | Scholarship: {'Yes' if bool(row['is_scholarship_student']) else 'No'}\\n\"\n",
    "            f\"Address: {safe(row['home_address'])} | Email: {safe(row['email_address'])} | Phone: {safe(row['phone_number'])}\"\n",
    "        )\n",
    "    }\n",
    "\n",
    "\n",
    "profile_payload = [build_student_profile_payload(row) for _, row in student_profile.iterrows()]\n",
    "print(len(profile_payload))\n"
   ]
  },
  {
   "cell_type": "code",
   "execution_count": 49,
   "id": "40163f53",
   "metadata": {},
   "outputs": [
    {
     "name": "stdout",
     "output_type": "stream",
     "text": [
      "733 total payloads created.\n"
     ]
    }
   ],
   "source": [
    "payloads_total = profile_payload + grade_detail_payloads + co_sum_payloads + attendance_payloads\n",
    "print(len(payloads_total), \"total payloads created.\")\n"
   ]
  },
  {
   "cell_type": "code",
   "execution_count": 5,
   "id": "8586f605",
   "metadata": {},
   "outputs": [
    {
     "name": "stderr",
     "output_type": "stream",
     "text": [
      "c:\\Users\\DO TUAN MINH\\AppData\\Local\\Programs\\Python\\Python312\\Lib\\site-packages\\huggingface_hub\\file_download.py:795: FutureWarning: `resume_download` is deprecated and will be removed in version 1.0.0. Downloads always resume when possible. If you want to force a new download, use `force_download=True`.\n",
      "  warnings.warn(\n",
      "c:\\Users\\DO TUAN MINH\\AppData\\Local\\Programs\\Python\\Python312\\Lib\\site-packages\\huggingface_hub\\file_download.py:795: FutureWarning: `resume_download` is deprecated and will be removed in version 1.0.0. Downloads always resume when possible. If you want to force a new download, use `force_download=True`.\n",
      "  warnings.warn(\n"
     ]
    }
   ],
   "source": [
    "# Khởi tạo embedder\n",
    "embedder = BGEEmbedder()"
   ]
  },
  {
   "cell_type": "code",
   "execution_count": 1,
   "id": "5838f2b4",
   "metadata": {},
   "outputs": [],
   "source": [
    "from deep_translator import GoogleTranslator\n",
    "\n",
    "def translate_vi_to_en_google(text):\n",
    "    return GoogleTranslator(source='vi', target='en').translate(text)"
   ]
  },
  {
   "cell_type": "code",
   "execution_count": 12,
   "id": "c19c8393",
   "metadata": {},
   "outputs": [
    {
     "name": "stderr",
     "output_type": "stream",
     "text": [
      "c:\\Users\\DO TUAN MINH\\AppData\\Local\\Programs\\Python\\Python312\\Lib\\site-packages\\huggingface_hub\\file_download.py:795: FutureWarning: `resume_download` is deprecated and will be removed in version 1.0.0. Downloads always resume when possible. If you want to force a new download, use `force_download=True`.\n",
      "  warnings.warn(\n"
     ]
    }
   ],
   "source": [
    "\n",
    "\n",
    "from transformers import pipeline, AutoTokenizer, AutoModelForSeq2SeqLM\n",
    "\n",
    "# Load mô hình dịch\n",
    "model_id = \"facebook/nllb-200-distilled-600M\"\n",
    "tokenizer = AutoTokenizer.from_pretrained(model_id)\n",
    "model = AutoModelForSeq2SeqLM.from_pretrained(model_id)\n",
    "\n",
    "# Pipeline dịch offline\n",
    "translator = pipeline(\n",
    "    \"translation\",\n",
    "    model=model,\n",
    "    tokenizer=tokenizer,\n",
    "    src_lang=\"vie\",\n",
    "    tgt_lang=\"eng_Latn\",\n",
    "    max_length=512\n",
    ")\n",
    "\n",
    "def translate_vi_to_en_local(text):\n",
    "    result = translator(text)\n",
    "    return result[0]['translation_text']\n",
    "\n"
   ]
  },
  {
   "cell_type": "code",
   "execution_count": 20,
   "id": "e812e6fa",
   "metadata": {},
   "outputs": [
    {
     "name": "stderr",
     "output_type": "stream",
     "text": [
      "c:\\Users\\DO TUAN MINH\\AppData\\Local\\Programs\\Python\\Python312\\Lib\\site-packages\\huggingface_hub\\file_download.py:795: FutureWarning: `resume_download` is deprecated and will be removed in version 1.0.0. Downloads always resume when possible. If you want to force a new download, use `force_download=True`.\n",
      "  warnings.warn(\n"
     ]
    },
    {
     "data": {
      "application/vnd.jupyter.widget-view+json": {
       "model_id": "422b1b1b97fb4fc3841590bde5b3a714",
       "version_major": 2,
       "version_minor": 0
      },
      "text/plain": [
       "config.json: 0.00B [00:00, ?B/s]"
      ]
     },
     "metadata": {},
     "output_type": "display_data"
    },
    {
     "name": "stderr",
     "output_type": "stream",
     "text": [
      "c:\\Users\\DO TUAN MINH\\AppData\\Local\\Programs\\Python\\Python312\\Lib\\site-packages\\huggingface_hub\\file_download.py:140: UserWarning: `huggingface_hub` cache-system uses symlinks by default to efficiently store duplicated files but your machine does not support them in C:\\Users\\DO TUAN MINH\\.cache\\huggingface\\hub\\models--vinai--vinai-translate-vi2en. Caching files will still work but in a degraded version that might require more space on your disk. This warning can be disabled by setting the `HF_HUB_DISABLE_SYMLINKS_WARNING` environment variable. For more details, see https://huggingface.co/docs/huggingface_hub/how-to-cache#limitations.\n",
      "To support symlinks on Windows, you either need to activate Developer Mode or to run Python as an administrator. In order to activate developer mode, see this article: https://docs.microsoft.com/en-us/windows/apps/get-started/enable-your-device-for-development\n",
      "  warnings.warn(message)\n"
     ]
    },
    {
     "data": {
      "application/vnd.jupyter.widget-view+json": {
       "model_id": "56cf8755f6e54e46975361b881f92d1c",
       "version_major": 2,
       "version_minor": 0
      },
      "text/plain": [
       "sentencepiece.bpe.model:   0%|          | 0.00/1.88M [00:00<?, ?B/s]"
      ]
     },
     "metadata": {},
     "output_type": "display_data"
    },
    {
     "data": {
      "application/vnd.jupyter.widget-view+json": {
       "model_id": "36bd815c18614680a2b2ef8df99361e4",
       "version_major": 2,
       "version_minor": 0
      },
      "text/plain": [
       "pytorch_model.bin:   0%|          | 0.00/1.79G [00:00<?, ?B/s]"
      ]
     },
     "metadata": {},
     "output_type": "display_data"
    }
   ],
   "source": [
    "from transformers import AutoTokenizer, AutoModelForSeq2SeqLM\n",
    "\n",
    "tokenizer = AutoTokenizer.from_pretrained(\"vinai/vinai-translate-vi2en\")\n",
    "model = AutoModelForSeq2SeqLM.from_pretrained(\"vinai/vinai-translate-vi2en\")\n",
    "\n",
    "def translate_vi2en(text):\n",
    "    inputs = tokenizer(text, return_tensors=\"pt\", padding=True)\n",
    "    output = model.generate(**inputs)\n",
    "    return tokenizer.decode(output[0], skip_special_tokens=True)\n"
   ]
  },
  {
   "cell_type": "code",
   "execution_count": 23,
   "id": "5f722ebb",
   "metadata": {},
   "outputs": [
    {
     "name": "stdout",
     "output_type": "stream",
     "text": [
      "['Attendance this semester']\n"
     ]
    }
   ],
   "source": [
    "query = [\"điểm danh học kì này\"]  # [VI] truy vấn\n",
    "query=[translate_vi_to_en_google(query[0])]\n",
    "print(query)\n",
    "\n"
   ]
  },
  {
   "cell_type": "code",
   "execution_count": 24,
   "id": "f0b97fdd",
   "metadata": {},
   "outputs": [
    {
     "name": "stdout",
     "output_type": "stream",
     "text": [
      "['Attendance CPV for the previous semester']\n"
     ]
    },
    {
     "data": {
      "application/vnd.jupyter.widget-view+json": {
       "model_id": "44dfb9f735fb439cbd977fc88265abf6",
       "version_major": 2,
       "version_minor": 0
      },
      "text/plain": [
       "Batches:   0%|          | 0/1 [00:00<?, ?it/s]"
      ]
     },
     "metadata": {},
     "output_type": "display_data"
    },
    {
     "name": "stdout",
     "output_type": "stream",
     "text": [
      "Similarity between query and database entries:\n",
      "\n",
      "0.7197 : The student was marked present in today's attendance record.\n",
      "0.7013 : The attendance list was updated by the teacher today.\n",
      "0.6300 : The final exam score was released this morning.\n",
      "0.6313 : Grades for the midterm have been posted on the portal.\n"
     ]
    }
   ],
   "source": [
    "texts = [\n",
    "    \"The student was marked present in today's attendance record.\",    # [EN] đúng\n",
    "    \"The attendance list was updated by the teacher today.\",           # [EN] đúng\n",
    "    \"The final exam score was released this morning.\",                 # [EN] sai\n",
    "    \"Grades for the midterm have been posted on the portal.\",          # [EN] sai\n",
    "]\n",
    "\n",
    "query = [\"điểm danh môn CPV học kì trước\"]  # [VI] truy vấn\n",
    "query=[translate_vi_to_en_google(query[0])]\n",
    "print(query)\n",
    "# Embed\n",
    "all_texts = query + texts\n",
    "embeddings = embedder.embed(all_texts)\n",
    "\n",
    "# Tính cosine similarity giữa query và các câu trong database\n",
    "import numpy as np\n",
    "\n",
    "def cosine_similarity(a, b):\n",
    "    return np.dot(a, b) / (np.linalg.norm(a) * np.linalg.norm(b))\n",
    "\n",
    "query_emb = embeddings[0]\n",
    "print(\"Similarity between query and database entries:\\n\")\n",
    "for i, text in enumerate(texts):\n",
    "    sim = cosine_similarity(query_emb, embeddings[i + 1])\n",
    "    print(f\"{sim:.4f} : {text}\")\n"
   ]
  },
  {
   "cell_type": "code",
   "execution_count": null,
   "id": "2c4b79bc",
   "metadata": {},
   "outputs": [],
   "source": [
    "import numpy as np\n",
    "\n",
    "def cosine_similarity(a, b):\n",
    "    return np.dot(a, b) / (np.linalg.norm(a) * np.linalg.norm(b))\n",
    "\n",
    "sim = cosine_similarity(embeddings[0], embeddings[1])\n",
    "print(f\"Cosine similarity: {sim}\")\n"
   ]
  },
  {
   "cell_type": "code",
   "execution_count": 50,
   "id": "c8d94419",
   "metadata": {},
   "outputs": [
    {
     "data": {
      "application/vnd.jupyter.widget-view+json": {
       "model_id": "8f044a39125d41fb9f21daca0a9bbabf",
       "version_major": 2,
       "version_minor": 0
      },
      "text/plain": [
       "Batches:   0%|          | 0/12 [00:00<?, ?it/s]"
      ]
     },
     "metadata": {},
     "output_type": "display_data"
    },
    {
     "name": "stdout",
     "output_type": "stream",
     "text": [
      "733 embeddings generated.\n"
     ]
    }
   ],
   "source": [
    "# Only include payloads that have the 'noi_dung' key\n",
    "contents = [payload[\"content\"] for payload in payloads_total if \"content\" in payload]\n",
    "embedder = BGEEmbedder()\n",
    "embeddings = embedder.embed(contents, batch_size=64)\n",
    "\n",
    "print(len(embeddings), \"embeddings generated.\")"
   ]
  },
  {
   "cell_type": "code",
   "execution_count": 34,
   "id": "e0a931e3",
   "metadata": {},
   "outputs": [
    {
     "name": "stdout",
     "output_type": "stream",
     "text": [
      "Embedding shape: 733\n"
     ]
    }
   ],
   "source": [
    "print(\"Embedding shape:\", len(contents))"
   ]
  },
  {
   "cell_type": "code",
   "execution_count": 35,
   "id": "d8ec90c7",
   "metadata": {},
   "outputs": [
    {
     "name": "stdout",
     "output_type": "stream",
     "text": [
      "(1024,)\n"
     ]
    }
   ],
   "source": [
    "print(embeddings[0].shape)"
   ]
  },
  {
   "cell_type": "code",
   "execution_count": 36,
   "id": "b5ce0a01",
   "metadata": {},
   "outputs": [
    {
     "name": "stdout",
     "output_type": "stream",
     "text": [
      "Counter({'attendance': 538, 'grade detail': 167, 'course summary': 27, 'student profile': 1})\n"
     ]
    }
   ],
   "source": [
    "from collections import Counter\n",
    "\n",
    "types = [p[\"type\"] for p in payloads_total if \"type\" in p]\n",
    "print(Counter(types))"
   ]
  },
  {
   "cell_type": "code",
   "execution_count": 51,
   "id": "d69213fe",
   "metadata": {},
   "outputs": [
    {
     "name": "stdout",
     "output_type": "stream",
     "text": [
      "id='e5a19869-b441-4c2a-aa7d-e27ec2b36ee3' vector=[-0.021864915266633034, -0.018371619284152985, -0.03197566419839859, -0.04762747511267662, -0.03575019910931587, -0.00931945163756609, 0.02271103486418724, -0.04164685681462288, 0.022018978372216225, 0.04592790827155113, 0.00313775148242712, 0.007306504994630814, -0.033743780106306076, 0.010839799419045448, 0.022249720990657806, 0.0006440352881327271, -0.049894098192453384, -0.03302336111664772, 0.021032430231571198, -0.008073359727859497, -0.030714722350239754, 0.03631072863936424, 0.030450383201241493, 0.003917662426829338, 0.07265090197324753, -0.01197606697678566, 0.011288180947303772, -9.774034697329625e-05, -0.0053037917241454124, -0.01688930206000805, 0.0020776866003870964, 0.0021529917139559984, 0.08457872271537781, -0.04586654156446457, -0.0071980091743171215, -0.03617727383971214, 0.022130301222205162, -0.022903095930814743, -0.0648997351527214, 0.022557087242603302, 0.013195006176829338, -0.023907091468572617, -0.026889676228165627, 0.008618751540780067, -0.001725031528621912, -0.03455895185470581, -0.027531756088137627, -0.008150997571647167, -0.026680996641516685, -0.008432269096374512, 0.03832707926630974, -0.01834755390882492, 0.030476123094558716, -0.0114077627658844, -0.008343861438333988, -0.030557291582226753, 0.019735833629965782, -0.012850452214479446, -0.04247273504734039, -0.03404460847377777, -0.0008109165937639773, 0.009492464363574982, 0.009471002034842968, -0.06841954588890076, -0.021367795765399933, 0.04543519765138626, 0.05222875252366066, -0.017876913771033287, -0.002368420595303178, -0.007423019502311945, 0.00328629813157022, 0.025821249932050705, -0.013832884840667248, -0.019399721175432205, -0.07804299145936966, 0.005272292997688055, 0.012690892443060875, -0.002721758559346199, -0.0031493897549808025, -0.018938545137643814, 0.012533580884337425, -0.010060896165668964, 0.013732144609093666, -0.02499213069677353, 0.000837413128465414, 0.004139516036957502, 0.0012424642918631434, 0.06047893315553665, 0.01970861107110977, -0.026889387518167496, -0.03169609233736992, 0.011014692485332489, 0.0019359627040103078, -0.007776636630296707, -0.04571040719747543, -0.012650311924517155, -0.014632334001362324, -0.036512140184640884, 0.009939447976648808, -0.0004318197607062757, -0.004141414538025856, 0.0944228395819664, -0.02667902410030365, -0.016853077337145805, -0.009484698064625263, -0.012493882328271866, -0.0031572903972119093, 0.0280690286308527, -0.016384337097406387, -0.020265772938728333, -0.01284899190068245, 0.0016118100611492991, 0.03250029683113098, 0.002265868941321969, -0.0049719251692295074, -0.004389607813209295, -0.009271920658648014, 0.03667037934064865, 0.008307489566504955, -0.006616735830903053, 0.013134888373315334, -0.0069660586304962635, -0.012261866591870785, -0.04719765484333038, -0.03176846355199814, -0.0019242849666625261, 0.007074310444295406, 0.027700483798980713, -0.01909765601158142, 0.013048611581325531, 0.012301735579967499, 0.06899075955152512, -0.03294210508465767, 0.004194952081888914, -0.004129474516957998, -0.007811303250491619, -0.002944508334621787, 0.008891284465789795, -0.012251026928424835, -0.051265839487314224, 0.04516163840889931, 0.009742148220539093, -0.04944155365228653, 0.017672955989837646, 0.04035221412777901, -0.05591076612472534, 0.025109726935625076, -0.00943511351943016, 0.010965283960103989, 0.007556124124675989, 0.04928835108876228, 0.013750119134783745, -0.015420256182551384, -0.007211350370198488, -0.02236863598227501, -0.03407467529177666, -0.04485601931810379, -0.006706152111291885, 0.014383495785295963, 0.0019924594089388847, -0.05525756627321243, 0.01733272336423397, -0.04380393028259277, -0.020726457238197327, 0.007651136722415686, 0.01875922456383705, 0.06687077134847641, 0.009489603340625763, -0.007752142380923033, -0.004989787470549345, 0.0012539359740912914, 0.0008156148833222687, -0.003849102882668376, 0.004461503122001886, -0.014290967024862766, 0.018117520958185196, 0.025963811203837395, 0.031083622947335243, -0.020578568801283836, -0.011558945290744305, -0.031551964581012726, -0.027656421065330505, -0.041395578533411026, 0.04173872619867325, -0.006909427233040333, 0.011646811850368977, -0.020202722400426865, -0.007678793277591467, -0.022814840078353882, 0.0219762921333313, -0.029797391965985298, 0.018357930704951286, 0.007688669487833977, 0.003902108408510685, 0.050388697534799576, 0.005488471128046513, -0.03173566609621048, -0.02629702351987362, -0.03102889098227024, -0.04000924155116081, -0.024180680513381958, 0.04067752882838249, -0.016165345907211304, -0.021802298724651337, -0.029940690845251083, 0.016119416803121567, 0.022075556218624115, -0.02452171966433525, 0.010540180839598179, -0.05615975335240364, -0.04728328809142113, 0.00718673225492239, -0.0020113864447921515, -0.0011857911013066769, -0.014379647560417652, -0.01518067717552185, 0.03161334991455078, 0.05242888629436493, -0.054667528718709946, -0.0014517171075567603, -0.020595097914338112, -0.0010128422873094678, 0.022873075678944588, 0.002436291426420212, -0.022733889520168304, -0.0012331902980804443, -0.010985085740685463, 0.024656619876623154, 0.011636629700660706, -0.06613192707300186, -0.007405193988233805, 0.010587089695036411, -0.018222587183117867, -0.015606221742928028, 0.03563067317008972, 0.0035950203891843557, -0.03598236292600632, -0.016010502353310585, 0.009407931938767433, 0.04906771704554558, -0.06244983524084091, -0.019809206947684288, -0.0040558199398219585, 0.016141420230269432, -0.040382687002420425, 0.013689926825463772, 0.01274247094988823, 0.026305653154850006, -0.011240827850997448, -0.0004192404740024358, 0.06536640226840973, 0.010944677516818047, -0.01875431276857853, -0.007045140955597162, 0.0036031899508088827, 0.017780078575015068, 0.02426726743578911, -0.014890128746628761, -0.030666079372167587, 0.01614653319120407, 0.011230629868805408, -0.0025649028830230236, 0.016468148678541183, 0.023677336052060127, 0.026961402967572212, 0.012855244800448418, -0.010618602856993675, -0.01886923611164093, 0.02845720201730728, -0.024180898442864418, 0.0073763164691627026, -0.027065934613347054, -0.01713484525680542, -0.000600022089201957, -0.022631891071796417, 0.0459013357758522, 0.018599973991513252, -0.03521467372775078, 0.0577518567442894, -0.007202731911092997, 0.024661103263497353, 0.015790121629834175, 0.031457290053367615, -0.03411950170993805, 0.02423931658267975, 0.012512302957475185, -0.030513431876897812, -0.001078144065104425, -0.00018775583885144442, -0.04201800376176834, -0.04284346103668213, 0.0653463825583458, 0.050369735807180405, -0.04148972034454346, -0.013726707547903061, 0.047117769718170166, -0.008863053284585476, -0.1874743103981018, 0.0032692519016563892, 0.00659072445705533, 0.001771868672221899, 0.01739947497844696, 0.014941288158297539, -0.06945709884166718, 0.014622929506003857, -0.0272645466029644, -0.0040594181045889854, 0.009296070784330368, -0.046577200293540955, 0.009554029442369938, 0.05964682623744011, 0.0005667832447215915, -0.016482330858707428, -0.021427329629659653, 0.008260266855359077, -0.007844414561986923, -0.03526252135634422, 0.005187884904444218, -0.037529606372117996, 0.10342694818973541, -0.03507133200764656, 0.013647643849253654, 0.019359122961759567, 0.05444071814417839, -0.00937716569751501, -0.03518836200237274, -0.054112985730171204, 0.0072368597611784935, 0.00839611329138279, 0.012171169742941856, 0.017751267179846764, 0.021338291466236115, 0.008380665443837643, 0.021438054740428925, -0.005541954189538956, -0.024632710963487625, 0.020962843671441078, 0.02382742054760456, 0.034892451018095016, -0.03387141227722168, 0.04161827638745308, 0.022943729534745216, -0.02365361526608467, -0.001107271178625524, 0.01671341434121132, -0.004305175039917231, -0.008652335032820702, 0.008103729225695133, 0.005781136453151703, 0.01070423610508442, 0.01904834806919098, -0.02630213461816311, -0.030434327200055122, -0.012595883570611477, -0.0030854360666126013, -0.009059173054993153, 0.015665791928768158, -0.05413611978292465, -0.08206632733345032, 0.014881020411849022, -0.02198009379208088, 0.001512385904788971, -0.04652485251426697, 0.03547503426671028, -0.08135105669498444, 0.013541237451136112, -0.06371405720710754, 0.00927820522338152, 0.02744259126484394, -0.03165069594979286, -0.03389694541692734, -0.04804859682917595, 0.0068323505111038685, 0.030614163726568222, -0.030172593891620636, -0.004354578442871571, -0.11467621475458145, -0.06522547453641891, -0.01528053916990757, -0.014194049872457981, 0.001311550964601338, -0.03645620867609978, -0.013329281471669674, 0.020567895844578743, 0.03900756314396858, 0.056029751896858215, 0.24192389845848083, 0.012120209634304047, -0.01905633881688118, -0.06719667464494705, -0.016759119927883148, -0.004018812440335751, -0.04688059166073799, 0.024740543216466904, -0.003504417138174176, -0.016463931649923325, 0.006156404502689838, 0.03970225527882576, -0.02865801937878132, -0.006587921641767025, 0.008604335598647594, 0.01141059398651123, -0.045427627861499786, -0.02356080524623394, 0.06644906848669052, 0.004076134413480759, -0.012860000133514404, -0.020942464470863342, -0.030511463060975075, -0.009880618192255497, -0.06017157807946205, -0.020518802106380463, -0.01661018840968609, 0.04886836186051369, -0.03599056228995323, 0.0227874256670475, -0.026186347007751465, 0.03713805973529816, 0.013476344756782055, 0.01303261797875166, -0.01756121776998043, -0.015353905968368053, -0.009076557122170925, -0.020045800134539604, -0.0034296391531825066, 0.01513246726244688, -0.05447445809841156, -0.02819206938147545, -0.0010430325055494905, 0.028775617480278015, -0.008229111321270466, 0.0046518780291080475, -0.003291756147518754, -0.007761511951684952, 0.015272248536348343, -0.008020751178264618, -0.0030923655722290277, -0.028247663751244545, -0.022110413759946823, -0.016048533841967583, 0.047192782163619995, -0.023867981508374214, -0.003778899321332574, -0.06762001663446426, -0.013063226826488972, 0.025938119739294052, 0.02092745713889599, 0.009296131320297718, -0.006162899546325207, 0.035599350929260254, -0.013403096236288548, -0.0006835516542196274, -0.01239841803908348, -0.04949145391583443, 0.04970017448067665, 0.01686786115169525, 0.0547211579978466, 0.0407261922955513, 0.010804509744048119, 0.026360400021076202, 0.03813650831580162, -0.0011362117948010564, 0.014184859581291676, 0.021631134673953056, 0.006967281457036734, 0.001835628761909902, -0.03238879144191742, 0.010000706650316715, -0.011166218668222427, 0.009426085278391838, 0.0018994106212630868, -0.021069884300231934, -0.011117673479020596, -0.007138299290090799, 0.005687125027179718, -0.019065363332629204, -0.012547190301120281, -0.0022126592230051756, 0.010751559399068356, 0.021220844238996506, 0.03782539814710617, -0.025843452662229538, -0.0016908079851418734, 0.0395759716629982, -0.038451943546533585, -0.03549261391162872, -0.031332552433013916, -0.01356307603418827, 0.01630372926592827, -0.048929814249277115, 0.042572345584630966, -0.01087214145809412, 0.037680819630622864, 0.01886403001844883, -0.0008286988595500588, 0.020149951800704002, -0.05502348393201828, 0.04738123342394829, 0.029792429879307747, -0.03496043011546135, 0.006671587936580181, 0.03660561144351959, 0.05584992095828056, 0.026816431432962418, -0.019770514219999313, -0.007688079960644245, -0.003318607807159424, -0.00527812447398901, 0.0008686986984685063, 0.00956133846193552, 0.019481899216771126, 0.008654594421386719, -0.0067984662018716335, -0.058961059898138046, 0.01165979728102684, 0.009613296017050743, -0.004390951246023178, -0.017187312245368958, -0.0388791523873806, 0.036029569804668427, 0.021524135023355484, 0.022968128323554993, -0.0242296252399683, -0.007834818214178085, 0.021608887240290642, 0.015508110634982586, -0.018401166424155235, -0.052853841334581375, -0.016031159088015556, -0.0005739229382015765, -0.00821772776544094, 0.01733223721385002, -0.0541347935795784, 0.03735274076461792, -0.025596996769309044, 0.04526565223932266, 0.03657085448503494, 0.03199964016675949, 0.008823596872389317, -0.03845759853720665, -0.025249134749174118, -0.02360924333333969, -0.008894364349544048, -0.057200245559215546, -0.0005594846443273127, -0.05378280580043793, 0.01593085378408432, 0.012610920704901218, 0.03969049081206322, 0.07618837058544159, -0.010016406886279583, 0.04806516319513321, -0.017954953014850616, 0.03357952833175659, -0.00999546516686678, -0.021929863840341568, 0.015686282888054848, -0.02634274959564209, -0.02799825370311737, 0.03046576865017414, -0.015713850036263466, 0.029325993731617928, -0.002982140751555562, 0.00863682571798563, -0.05279364064335823, -0.01587960682809353, 0.0706271082162857, -0.006261484697461128, 0.007011176086962223, 0.027804549783468246, 0.025835463777184486, 0.02376614883542061, 0.010622690431773663, -0.027405915781855583, 0.06457466632127762, -0.00042759583448059857, 0.011232883669435978, 0.10199716687202454, 0.01489540096372366, -0.03589489310979843, 0.0024274184834212065, 0.020474964752793312, 0.033039771020412445, -0.002180966315791011, 0.024496667087078094, 0.006547645665705204, -0.0036235456354916096, -0.010844124481081963, 0.008991528302431107, -0.050374098122119904, -0.012471245601773262, -0.052008114755153656, -0.03768572956323624, 0.03712086006999016, -0.022714124992489815, -0.04435555264353752, 0.025378383696079254, -0.02476365491747856, -0.006132141686975956, 0.0003270635206717998, -0.03558412566781044, -0.011273305863142014, 0.031546976417303085, 0.047627318650484085, -0.02401418797671795, -0.024430226534605026, -0.035733889788389206, 0.014795606955885887, 0.033103205263614655, -0.031065477058291435, -0.04030810669064522, -0.0017626059707254171, 0.032970502972602844, -0.06495416909456253, -0.030477333813905716, 0.017490169033408165, 0.005329989828169346, 0.006514097563922405, -0.033359672874212265, 0.0005882396944798529, 0.007970748469233513, 0.008006357587873936, -0.007893125526607037, 0.042668115347623825, 0.0010230432962998748, -0.026248779147863388, 0.08002010732889175, 0.05743639916181564, 0.022655602544546127, -0.0030578298028558493, 0.031087009236216545, 0.040221527218818665, 0.00037961165071465075, -0.01023409515619278, -0.0030689591076225042, 0.026141654700040817, 0.02057679556310177, -0.007402925752103329, 0.007585855200886726, 0.005196673795580864, 0.037836670875549316, 0.012822815217077732, -0.008725378662347794, 0.01836453750729561, -0.043123867362737656, -0.009675399400293827, 0.0022103101946413517, 0.006880328990519047, -0.011494364589452744, -0.00546543812379241, -0.06091183051466942, -0.06748105585575104, -0.006859662942588329, 0.005532099865376949, -0.042165569961071014, -0.06517918407917023, 0.02062062919139862, 0.01519240252673626, -0.0319339856505394, -0.015896465629339218, 0.011553080752491951, 0.02668278105556965, 0.03688135743141174, 0.029280737042427063, 0.038832198828458786, 0.004347320646047592, -0.01229693554341793, 0.013661742210388184, 0.016674017533659935, -0.016431111842393875, -0.021173737943172455, -0.014416133984923363, -0.047652099281549454, -0.007491502910852432, 0.0281730554997921, 0.014662622474133968, -0.02845950797200203, -0.02550712414085865, -0.0746552050113678, 0.03206880763173103, -0.018886586651206017, 0.04316254332661629, -0.05031059682369232, 0.018531665205955505, -0.019665488973259926, -0.018149109557271004, -0.011760404333472252, -0.060697101056575775, -0.03867983818054199, 0.01859777607023716, -0.005210281815379858, -0.03534771502017975, 0.025406505912542343, 0.008782025426626205, -0.02198895625770092, 0.02650553546845913, 0.03218860551714897, -0.02477239817380905, -0.022256063297390938, -0.03393262252211571, -0.017217781394720078, -0.040033597499132156, -0.009133945219218731, -0.03403494134545326, 0.01472584530711174, -0.018174953758716583, 0.0346723347902298, 0.009236237965524197, 0.024012001231312752, -0.021785125136375427, -0.022189373150467873, 0.015022982843220234, 0.0019045143853873014, 0.009421958588063717, -0.03389718011021614, 0.05190623924136162, -0.023453155532479286, -0.034159086644649506, -0.023849979043006897, -0.000894802447874099, 0.006877626292407513, 0.0666411891579628, 0.024561351165175438, 0.024410780519247055, 0.023503433912992477, 0.012248020619153976, -0.0022173444740474224, 0.012885739095509052, 0.007642825599759817, -0.013819584622979164, 0.01829030178487301, -0.007038119249045849, 0.0013074581511318684, -0.012748824432492256, 0.034391943365335464, 0.002331820782274008, 0.008653094992041588, 0.017156174406409264, 0.014170308597385883, -0.03548049554228783, 0.049822848290205, 0.03412236273288727, -0.024399053305387497, 0.0431770384311676, 0.02114606648683548, 0.03358723223209381, -0.049012016505002975, 0.05447227135300636, 0.00506539037451148, 0.017732517793774605, -0.033344678580760956, 0.017725683748722076, 0.008732104673981667, 0.01158025860786438, -0.0006682086386717856, -0.02561570517718792, 0.006339456420391798, 0.051801178604364395, 0.021112674847245216, 0.04186089709401131, 0.0019061074126511812, 0.06060204654932022, -0.004693767987191677, 0.009828444570302963, 0.035935696214437485, -0.018850773572921753, -0.03578181192278862, -0.030196644365787506, -0.04413333162665367, 0.0025576527696102858, 0.024575624614953995, 0.03601729869842529, -0.01694987341761589, 0.012283903546631336, -0.0028929177206009626, 0.01795370876789093, -0.03819553554058075, -0.0649300292134285, 0.02337142825126648, -0.010636542923748493, -0.16218550503253937, -0.004651712253689766, -0.001127450494095683, -0.013465041294693947, -0.016746724024415016, 0.02283572405576706, -0.0709424763917923, -0.02087317407131195, 4.6649089199490845e-05, 0.01910979114472866, -0.002451525302603841, -0.04078955203294754, 0.04486658796668053, -0.0024698025081306696, 0.06387410312891006, -0.003119171829894185, 0.024987833574414253, -0.025873035192489624, 0.007044417783617973, 0.044790007174015045, 0.008461401797831059, 0.010191813111305237, 0.05471896380186081, 0.03849871829152107, -0.002130316337570548, 0.007871396839618683, 0.016685059294104576, 0.004634524695575237, -0.023353304713964462, -0.02870793454349041, 0.029471173882484436, -0.0011287130182608962, 0.00747506832703948, 0.015249715186655521, 0.02529180981218815, -0.009950423613190651, 0.006118869874626398, 0.00672809686511755, 0.01751808077096939, 0.019276835024356842, 0.039498526602983475, 0.012369072064757347, -0.004748367238789797, -0.03715944290161133, 0.009637474082410336, 0.048624441027641296, -0.0003425822942517698, -0.03560295328497887, -0.03201865777373314, -0.0024839118123054504, 0.050670020282268524, 0.035166673362255096, 0.009757929481565952, 0.014548389241099358, 0.000804786803200841, -0.006432174704968929, -0.030704893171787262, 0.027377324178814888, -0.0834876149892807, 0.00965241901576519, -0.028542233631014824, 0.058706946671009064, -0.048531316220760345, 0.010957423597574234, -0.025242479518055916, 0.03512713685631752, -0.030932048335671425, -0.006397945806384087, -0.03857794404029846, -0.013882608152925968, -0.011988726444542408, -0.0210722703486681, 0.03480590134859085, -0.03740501031279564, -0.01713576726615429, 0.04007122665643692, 0.05168933421373367, -0.01722579263150692, -0.03706124424934387, -0.019441306591033936, -0.03704378008842468, -0.01661559008061886, -0.07820060104131699, 0.03108810819685459, 0.0313749723136425, -0.03561750799417496, -0.010599398985505104, -0.0062517207115888596, -0.06109043210744858, 0.0416717603802681, -0.02841598354279995, -0.0013426714576780796, 0.033180829137563705, 0.014141799882054329, -0.008145596832036972, -0.001312528969720006, -0.021902134642004967, 0.0028851304668933153, -0.00036996029666624963, -0.012554226443171501, -0.025845564901828766, -0.012823247350752354, -0.0034286240115761757, -0.004214156419038773, -0.004981864709407091, 0.02713974565267563, 0.05494042858481407, -0.04062444344162941, 0.01408467534929514, -0.025239858776330948, -0.03393935784697533, 0.016036299988627434, -0.009551447816193104, 0.02224191650748253, -0.02673172764480114, 0.020483504980802536, -0.029007144272327423, -0.0358523428440094, -0.003244312945753336, 0.02627856843173504, -0.0007516383193433285, 0.02244003489613533, -0.032040610909461975, -0.05681360512971878, 0.026918498799204826, -0.002878654981032014, 0.06374509632587433, 0.0697651281952858, 0.047383833676576614, 0.0007735816179774702, 0.024869106709957123, -0.043269768357276917, 0.04888710379600525, 0.002593234647065401, -0.021846255287528038, -0.03995611518621445, 0.04914127290248871, 0.03072403185069561, -0.010613683611154556, -0.04696839675307274, -0.03167756274342537, 0.0055281915701925755, -0.04419701546430588, 0.002659754827618599, -0.015512392856180668, 0.00253974087536335, 0.05080049857497215, -0.003663869807496667, 0.022224130108952522, -0.0033583531621843576, 0.026078801602125168, 0.01183183491230011, -0.03288617730140686, -0.03272334113717079, -0.0017567400354892015, 0.025800760835409164, -0.02522960491478443, -0.004280861932784319, 0.025962121784687042, 0.028335103765130043, 0.0044752005487680435, -0.014681770466268063, -0.016676226630806923, -4.131738478463376e-06, 0.021090535447001457, 0.034485407173633575, -0.004932370036840439, -0.021525327116250992, -0.08539320528507233, 0.05434396490454674, 0.029721306636929512, 0.03516693785786629, -0.03852013126015663, -0.01112375594675541, 0.052988048642873764, -0.0028590119909495115, 5.092012361274101e-05, 0.044740546494722366, 0.04461827501654625, -0.00872795283794403, 0.041814692318439484, -0.007868688553571701, 0.010641991160809994, 0.013093591667711735, -0.03498463332653046, 0.029509594663977623, -0.0006804588483646512, 0.027487710118293762, -0.027532583102583885, 0.020823443308472633, -0.007672571577131748, 0.025375358760356903, -0.022281695157289505, 0.009406688623130322, 0.027055708691477776, 0.04718464985489845, -0.015083183534443378, 0.05690544843673706, -0.01820940524339676, -0.0018122406909242272, -0.0063203927129507065, 0.03288906812667847, -0.014174241572618484, 0.010579506866633892, -0.01166559662669897, 0.04608174040913582, -0.044836435467004776, -0.024973461404442787, 0.026923945173621178, 0.030685126781463623, -0.01906386762857437, 0.021862538531422615, -0.007258432451635599, 0.052020419389009476, -0.022750213742256165, 0.012410463765263557, -0.00409042788669467, 0.01630973257124424, 0.019841738045215607, -0.01797669008374214, 0.0306559931486845, 0.02418109029531479, 0.0019229965982958674, 0.00013337442942429334, -0.03736632317304611, 0.00749531714245677, -0.0053711701184511185, 0.03336329758167267, 0.014372608624398708, 0.0315953828394413, -0.018787018954753876, -0.036704130470752716, 0.007555523421615362, 0.020410355180501938, -0.0003110678226221353, -0.05779561772942543, 0.004159180447459221, 0.01885373145341873, 0.03080727532505989, -0.011420373804867268, 0.014802536927163601, -0.018171876668930054, 0.006843249779194593, 0.009405986405909061] payload={'full_name': 'Phan Công Tâm', 'date_of_birth': '19/03/2005', 'gender': 'Male', 'id_card_number': '48205008983', 'id_date_of_issue': '11/03/2020', 'id_place_of_issue': 'Cục cảnh sát quản lý hành chính về trật tự xã hội', 'home_address': '37 An Thượng 18, Phường Mỹ An, Quận Ngũ Hành Sơn, Đà Nẵng', 'phone_number': '907930205', 'email_address': 'phancongtam190305@gmail.com', 'roll_number': 'DE190340', 'old_roll_number': 'unknown', 'member_code': 'unknown', 'enrollment_date': 'unknown', 'major': 'BIT', 'main_class': 'AI18D01', 'current_status': 'HD - HD, Is progress', 'is_full_time_student': True, 'is_scholarship_student': True, 'training_type': 'UD 10% anh em', 'start_term': 'Fall2023', 'type': 'student profile', 'content': 'Student Profile: Phan Công Tâm | ID: DE190340\\nDate of Birth: 19/03/2005 | Gender: Male\\nMajor: BIT | Class: AI18D01 | Status: HD - HD, Is progress\\nTraining Type: Full-time | Scholarship: Yes\\nAddress: 37 An Thượng 18, Phường Mỹ An, Quận Ngũ Hành Sơn, Đà Nẵng | Email: phancongtam190305@gmail.com | Phone: 907930205'}\n"
     ]
    }
   ],
   "source": [
    "from qdrant_client.models import PointStruct \n",
    "import uuid\n",
    "\n",
    "points = [\n",
    "    PointStruct(\n",
    "        id=str(uuid.uuid4()),\n",
    "        vector=vec.tolist(),\n",
    "        payload=payload\n",
    "    )\n",
    "    for vec, payload in zip(embeddings, payloads_total)\n",
    "]\n",
    "print(points[0])"
   ]
  },
  {
   "cell_type": "code",
   "execution_count": 206,
   "id": "c569f3f7",
   "metadata": {},
   "outputs": [
    {
     "data": {
      "text/plain": [
       "733"
      ]
     },
     "execution_count": 206,
     "metadata": {},
     "output_type": "execute_result"
    }
   ],
   "source": [
    "len(points)"
   ]
  },
  {
   "cell_type": "markdown",
   "id": "83480269",
   "metadata": {},
   "source": [
    "# Clean vector data base"
   ]
  },
  {
   "cell_type": "code",
   "execution_count": null,
   "id": "93fd15e9",
   "metadata": {},
   "outputs": [],
   "source": [
    "from dotenv import load_dotenv\n",
    "import os\n",
    "\n",
    "load_dotenv()\n",
    "qdrant_api_key = os.getenv(\"qdrant_api_key\")\n"
   ]
  },
  {
   "cell_type": "code",
   "execution_count": null,
   "id": "1e86fc44",
   "metadata": {},
   "outputs": [
    {
     "name": "stdout",
     "output_type": "stream",
     "text": [
      "collections=[CollectionDescription(name='Fap_data_testing'), CollectionDescription(name='flm_fap'), CollectionDescription(name='star_charts'), CollectionDescription(name='FINAL')]\n"
     ]
    },
    {
     "data": {
      "text/plain": [
       "True"
      ]
     },
     "execution_count": 52,
     "metadata": {},
     "output_type": "execute_result"
    }
   ],
   "source": [
    "from qdrant_client import QdrantClient\n",
    "from qdrant_client.models import VectorParams, Distance\n",
    "from qdrant_client.models import Filter\n",
    "client = QdrantClient(\n",
    "    url=r\"https://0f47d391-b7c1-45d9-a956-5f7228cd80f3.europe-west3-0.gcp.cloud.qdrant.io:6333\",\n",
    "    api_key=qdrant_api_key,\n",
    "    prefer_grpc=False\n",
    ")\n",
    "print(client.get_collections())\n",
    "# Xóa các collection cũ nếu có\n",
    "# client.delete_collection(\"my_rag_vectors\")\n",
    "client.delete_collection(\"FINAL\")\n",
    "\n",
    "# print(client.get_collections())\n",
    "\n"
   ]
  },
  {
   "cell_type": "code",
   "execution_count": 53,
   "id": "fecb47c7",
   "metadata": {},
   "outputs": [
    {
     "name": "stderr",
     "output_type": "stream",
     "text": [
      "C:\\Users\\DO TUAN MINH\\AppData\\Local\\Temp\\ipykernel_24344\\2711709356.py:1: DeprecationWarning: `recreate_collection` method is deprecated and will be removed in the future. Use `collection_exists` to check collection existence and `create_collection` instead.\n",
      "  client.recreate_collection(\n"
     ]
    }
   ],
   "source": [
    "client.recreate_collection(\n",
    "    collection_name=\"FINAL\",\n",
    "    vectors_config=VectorParams(size=1024, distance=Distance.COSINE)\n",
    ")\n",
    "import time\n",
    "\n",
    "def safe_upsert(client, collection_name, points, retries=5, wait=5):\n",
    "    for attempt in range(retries):\n",
    "        try:\n",
    "            client.upsert(collection_name=collection_name, points=points)\n",
    "            return True\n",
    "        except Exception as e:\n",
    "            print(f\"❌ Retry {attempt+1}/{retries} - Lỗi: {e}\")\n",
    "            time.sleep(wait)\n",
    "    return False\n",
    "for i in range(0, len(points), 100):\n",
    "    success = safe_upsert(client, \"FINAL\", points[i:i+100])\n",
    "    if not success:\n",
    "        print(\"⚠️ Không thể upload batch\", i)\n"
   ]
  },
  {
   "cell_type": "code",
   "execution_count": 42,
   "id": "fffc1d1b",
   "metadata": {},
   "outputs": [
    {
     "name": "stdout",
     "output_type": "stream",
     "text": [
      "Total points in collection: 733\n"
     ]
    }
   ],
   "source": [
    "count = client.count(collection_name=\"FINAL\", exact=True).count\n",
    "print(f\"Total points in collection: {count}\")"
   ]
  },
  {
   "cell_type": "code",
   "execution_count": 54,
   "id": "ab7c2b2d",
   "metadata": {},
   "outputs": [
    {
     "data": {
      "text/plain": [
       "UpdateResult(operation_id=13, status=<UpdateStatus.COMPLETED: 'completed'>)"
      ]
     },
     "execution_count": 54,
     "metadata": {},
     "output_type": "execute_result"
    }
   ],
   "source": [
    "client.create_payload_index(\n",
    "    collection_name=\"FINAL\",\n",
    "    field_name=\"type\",\n",
    "    field_schema=\"keyword\"\n",
    ")\n",
    "client.create_payload_index(\n",
    "    collection_name=\"FINAL\",\n",
    "    field_name=\"semester\",  # Use ASCII-only field name\n",
    "    field_schema=\"keyword\"\n",
    ")\n",
    "client.create_payload_index(\n",
    "    collection_name=\"FINAL\",\n",
    "    field_name=\"subject_code\",\n",
    "    field_schema=\"keyword\"\n",
    ")\n"
   ]
  },
  {
   "cell_type": "code",
   "execution_count": 57,
   "id": "5a16cd27",
   "metadata": {},
   "outputs": [
    {
     "name": "stdout",
     "output_type": "stream",
     "text": [
      "✅ Copied 100 points, current offset: 046e6e58-ad35-494f-9e51-c62838e2ab9f\n",
      "✅ Copied 100 points, current offset: 08c4fbd3-22b0-4178-80cc-031f2f8f1b6d\n",
      "✅ Copied 100 points, current offset: 0cb1d358-7390-4424-bb6c-a49329b7fc73\n",
      "✅ Copied 100 points, current offset: 105b33ba-b3e7-4a56-9396-64f737837adb\n",
      "✅ Copied 100 points, current offset: 150c00c9-cb9b-4f07-8cf8-23d685bb7842\n",
      "✅ Copied 100 points, current offset: 1a46d564-d543-44ad-a46f-ad641ee4b9fc\n",
      "✅ Copied 100 points, current offset: 1f33929f-61e4-45f5-9f28-8d8474d0a5ef\n",
      "✅ Copied 100 points, current offset: 235afc33-1336-4534-bc76-63cdcb777303\n",
      "✅ Copied 100 points, current offset: 286746d7-2ec7-4ed6-8085-83cd2ef80636\n",
      "✅ Copied 100 points, current offset: 2d1bbc92-df55-4abb-840d-b751a838d423\n",
      "✅ Copied 100 points, current offset: 31302850-6017-4c02-b107-66edaaa482dc\n",
      "✅ Copied 100 points, current offset: 355b1dcb-c2d3-4e7d-baf4-ac73a1673c60\n",
      "✅ Copied 100 points, current offset: 3a206550-d404-430f-89e3-b0c2e82fd768\n",
      "✅ Copied 100 points, current offset: 3e05a0f2-641b-4060-94a2-7e9960a49fff\n",
      "✅ Copied 100 points, current offset: 42da269d-2258-4cb1-9ca1-9fc9c057cb67\n",
      "✅ Copied 100 points, current offset: 476c6ab1-613d-418e-9f06-d4bf9473c3fb\n",
      "✅ Copied 100 points, current offset: 4bbaceef-58f0-4346-9dc6-6600a8d99384\n",
      "✅ Copied 100 points, current offset: 5071b2ce-f761-4d78-8324-6d459cc9ced3\n",
      "✅ Copied 100 points, current offset: 541a03b6-42f2-4424-9866-504bface6600\n",
      "✅ Copied 100 points, current offset: 57bc5bef-bc1d-4090-aa25-f09367985d20\n",
      "✅ Copied 100 points, current offset: 5c14d206-7932-4a76-beff-61f96872dea7\n",
      "✅ Copied 100 points, current offset: 60923e9a-2366-4330-bf5a-2bcb650135a2\n",
      "✅ Copied 100 points, current offset: 653102e9-c63b-4723-90db-746a8b7c7c05\n",
      "✅ Copied 100 points, current offset: 6aaa1007-dc65-46b3-b2c6-8ed0f4cb672f\n",
      "✅ Copied 100 points, current offset: 6f1b5b70-d26a-4fcc-bae1-df8ceae9cf35\n",
      "✅ Copied 100 points, current offset: 73a2b5a1-8e93-40f9-9db0-c9d82bf38bf6\n",
      "✅ Copied 100 points, current offset: 783e4b0f-6135-4027-ace1-a9adacf44b57\n",
      "✅ Copied 100 points, current offset: 7bec4f83-1ad1-4c82-917f-b44c36b4efac\n",
      "✅ Copied 100 points, current offset: 80a50857-b211-42c4-b670-79cee61a0f33\n",
      "✅ Copied 100 points, current offset: 84e449e5-b8ff-40dc-aeeb-4c350971ab99\n",
      "✅ Copied 100 points, current offset: 8984ebe4-1763-4c98-b8cd-967857d44984\n",
      "✅ Copied 100 points, current offset: 8e063ba1-de79-4bee-a595-1d53b47d6971\n",
      "✅ Copied 100 points, current offset: 9279e894-4364-407b-ba9e-093b9e824f29\n",
      "✅ Copied 100 points, current offset: 97235296-fb79-4481-a03e-daab1feb559e\n",
      "✅ Copied 100 points, current offset: 9bb07124-a75f-4c16-8179-ec136fe9a841\n",
      "✅ Copied 100 points, current offset: a0271ca5-7cf4-4380-a755-af80dfced0e9\n",
      "✅ Copied 100 points, current offset: a4389efe-fe7d-4d30-99c1-2ef5de61f08e\n",
      "✅ Copied 100 points, current offset: a8ab2625-5c3b-465d-8202-e019125f006e\n",
      "✅ Copied 100 points, current offset: acee3061-d78f-4fc9-a9f8-795984c6d360\n",
      "✅ Copied 100 points, current offset: b104a5b8-7d36-4b2c-8cb6-94a5e6a9bdba\n",
      "✅ Copied 100 points, current offset: b5b1f34d-81d0-466b-b368-23d92faa4261\n",
      "✅ Copied 100 points, current offset: b9c1f500-854f-4938-b753-478a569ed0bd\n",
      "✅ Copied 100 points, current offset: befb8a4d-50c7-4e6f-8719-a11f83bda389\n",
      "✅ Copied 100 points, current offset: c2a2786e-6c9b-4b7c-9f76-ac47c144d9c5\n",
      "✅ Copied 100 points, current offset: c73800ee-525b-4042-bf09-c41cc1e292aa\n",
      "✅ Copied 100 points, current offset: cb503fb8-16af-4b8b-a968-cc1691675de5\n",
      "✅ Copied 100 points, current offset: cf586211-90de-434d-9f1a-8ac7ffa004db\n",
      "✅ Copied 100 points, current offset: d36cc13f-296d-44db-a707-c065df68c2ca\n",
      "✅ Copied 100 points, current offset: d7ac3f41-a4c2-4c8a-9e57-ff51954a8d79\n",
      "✅ Copied 100 points, current offset: dc93bfaa-6c2a-4e7f-ae2a-5be749e63a52\n",
      "✅ Copied 100 points, current offset: e05ebef9-0c14-45d1-94c0-15e533cdd9a2\n",
      "✅ Copied 100 points, current offset: e3eb0669-28c2-4163-8dcb-e67c0792c790\n",
      "✅ Copied 100 points, current offset: e819e9f8-5c62-4086-ad56-092db7d226e0\n",
      "✅ Copied 100 points, current offset: ec76fc3c-716a-4e45-ad51-c67780cecf0f\n",
      "✅ Copied 100 points, current offset: f0dcc193-039e-4d18-92f4-dd5f8301009f\n",
      "✅ Copied 100 points, current offset: f503e0e9-24d9-47e3-acb5-ed8eb9ef2863\n",
      "✅ Copied 100 points, current offset: f844dcc6-9419-42c2-8282-67429d78a717\n",
      "✅ Copied 100 points, current offset: fc846e47-5021-47d3-b206-8087a63b4400\n",
      "✅ Copied 78 points, current offset: None\n",
      "✅ Copied 100 points, current offset: 046e6e58-ad35-494f-9e51-c62838e2ab9f\n",
      "✅ Copied 100 points, current offset: 08c4fbd3-22b0-4178-80cc-031f2f8f1b6d\n",
      "✅ Copied 100 points, current offset: 0cb1d358-7390-4424-bb6c-a49329b7fc73\n",
      "✅ Copied 100 points, current offset: 105b33ba-b3e7-4a56-9396-64f737837adb\n",
      "✅ Copied 100 points, current offset: 150c00c9-cb9b-4f07-8cf8-23d685bb7842\n",
      "✅ Copied 100 points, current offset: 1a46d564-d543-44ad-a46f-ad641ee4b9fc\n",
      "✅ Copied 100 points, current offset: 1f33929f-61e4-45f5-9f28-8d8474d0a5ef\n",
      "✅ Copied 100 points, current offset: 235afc33-1336-4534-bc76-63cdcb777303\n",
      "✅ Copied 100 points, current offset: 286746d7-2ec7-4ed6-8085-83cd2ef80636\n",
      "✅ Copied 100 points, current offset: 2d1bbc92-df55-4abb-840d-b751a838d423\n",
      "✅ Copied 100 points, current offset: 31302850-6017-4c02-b107-66edaaa482dc\n",
      "✅ Copied 100 points, current offset: 355b1dcb-c2d3-4e7d-baf4-ac73a1673c60\n",
      "✅ Copied 100 points, current offset: 3a206550-d404-430f-89e3-b0c2e82fd768\n",
      "✅ Copied 100 points, current offset: 3e05a0f2-641b-4060-94a2-7e9960a49fff\n",
      "✅ Copied 100 points, current offset: 42da269d-2258-4cb1-9ca1-9fc9c057cb67\n",
      "✅ Copied 100 points, current offset: 476c6ab1-613d-418e-9f06-d4bf9473c3fb\n",
      "✅ Copied 100 points, current offset: 4bbaceef-58f0-4346-9dc6-6600a8d99384\n",
      "✅ Copied 100 points, current offset: 5071b2ce-f761-4d78-8324-6d459cc9ced3\n",
      "✅ Copied 100 points, current offset: 541a03b6-42f2-4424-9866-504bface6600\n",
      "✅ Copied 100 points, current offset: 57bc5bef-bc1d-4090-aa25-f09367985d20\n",
      "✅ Copied 100 points, current offset: 5c14d206-7932-4a76-beff-61f96872dea7\n",
      "✅ Copied 100 points, current offset: 60923e9a-2366-4330-bf5a-2bcb650135a2\n",
      "✅ Copied 100 points, current offset: 653102e9-c63b-4723-90db-746a8b7c7c05\n",
      "✅ Copied 100 points, current offset: 6aaa1007-dc65-46b3-b2c6-8ed0f4cb672f\n",
      "✅ Copied 100 points, current offset: 6f1b5b70-d26a-4fcc-bae1-df8ceae9cf35\n",
      "✅ Copied 100 points, current offset: 73a2b5a1-8e93-40f9-9db0-c9d82bf38bf6\n",
      "✅ Copied 100 points, current offset: 783e4b0f-6135-4027-ace1-a9adacf44b57\n",
      "✅ Copied 100 points, current offset: 7bec4f83-1ad1-4c82-917f-b44c36b4efac\n",
      "✅ Copied 100 points, current offset: 80a50857-b211-42c4-b670-79cee61a0f33\n",
      "✅ Copied 100 points, current offset: 84e449e5-b8ff-40dc-aeeb-4c350971ab99\n",
      "✅ Copied 100 points, current offset: 8984ebe4-1763-4c98-b8cd-967857d44984\n",
      "✅ Copied 100 points, current offset: 8e063ba1-de79-4bee-a595-1d53b47d6971\n",
      "✅ Copied 100 points, current offset: 9279e894-4364-407b-ba9e-093b9e824f29\n",
      "✅ Copied 100 points, current offset: 97235296-fb79-4481-a03e-daab1feb559e\n",
      "✅ Copied 100 points, current offset: 9bb07124-a75f-4c16-8179-ec136fe9a841\n",
      "✅ Copied 100 points, current offset: a0271ca5-7cf4-4380-a755-af80dfced0e9\n",
      "✅ Copied 100 points, current offset: a4389efe-fe7d-4d30-99c1-2ef5de61f08e\n",
      "✅ Copied 100 points, current offset: a8ab2625-5c3b-465d-8202-e019125f006e\n",
      "✅ Copied 100 points, current offset: acee3061-d78f-4fc9-a9f8-795984c6d360\n",
      "✅ Copied 100 points, current offset: b104a5b8-7d36-4b2c-8cb6-94a5e6a9bdba\n",
      "✅ Copied 100 points, current offset: b5b1f34d-81d0-466b-b368-23d92faa4261\n",
      "✅ Copied 100 points, current offset: b9c1f500-854f-4938-b753-478a569ed0bd\n",
      "✅ Copied 100 points, current offset: befb8a4d-50c7-4e6f-8719-a11f83bda389\n",
      "✅ Copied 100 points, current offset: c2a2786e-6c9b-4b7c-9f76-ac47c144d9c5\n",
      "✅ Copied 100 points, current offset: c73800ee-525b-4042-bf09-c41cc1e292aa\n",
      "✅ Copied 100 points, current offset: cb503fb8-16af-4b8b-a968-cc1691675de5\n",
      "✅ Copied 100 points, current offset: cf586211-90de-434d-9f1a-8ac7ffa004db\n",
      "✅ Copied 100 points, current offset: d36cc13f-296d-44db-a707-c065df68c2ca\n",
      "✅ Copied 100 points, current offset: d7ac3f41-a4c2-4c8a-9e57-ff51954a8d79\n",
      "✅ Copied 100 points, current offset: dc93bfaa-6c2a-4e7f-ae2a-5be749e63a52\n",
      "✅ Copied 100 points, current offset: e05ebef9-0c14-45d1-94c0-15e533cdd9a2\n",
      "✅ Copied 100 points, current offset: e3eb0669-28c2-4163-8dcb-e67c0792c790\n",
      "✅ Copied 100 points, current offset: e819e9f8-5c62-4086-ad56-092db7d226e0\n",
      "✅ Copied 100 points, current offset: ec76fc3c-716a-4e45-ad51-c67780cecf0f\n",
      "✅ Copied 100 points, current offset: f0dcc193-039e-4d18-92f4-dd5f8301009f\n",
      "✅ Copied 100 points, current offset: f503e0e9-24d9-47e3-acb5-ed8eb9ef2863\n",
      "✅ Copied 100 points, current offset: f844dcc6-9419-42c2-8282-67429d78a717\n",
      "✅ Copied 100 points, current offset: fc846e47-5021-47d3-b206-8087a63b4400\n",
      "✅ Copied 78 points, current offset: None\n",
      "✅ Copied 100 points, current offset: 046e6e58-ad35-494f-9e51-c62838e2ab9f\n",
      "✅ Copied 100 points, current offset: 08c4fbd3-22b0-4178-80cc-031f2f8f1b6d\n",
      "✅ Copied 100 points, current offset: 0cb1d358-7390-4424-bb6c-a49329b7fc73\n",
      "✅ Copied 100 points, current offset: 105b33ba-b3e7-4a56-9396-64f737837adb\n",
      "✅ Copied 100 points, current offset: 150c00c9-cb9b-4f07-8cf8-23d685bb7842\n",
      "✅ Copied 100 points, current offset: 1a46d564-d543-44ad-a46f-ad641ee4b9fc\n",
      "✅ Copied 100 points, current offset: 1f33929f-61e4-45f5-9f28-8d8474d0a5ef\n"
     ]
    },
    {
     "ename": "KeyboardInterrupt",
     "evalue": "",
     "output_type": "error",
     "traceback": [
      "\u001b[1;31m---------------------------------------------------------------------------\u001b[0m",
      "\u001b[1;31mKeyboardInterrupt\u001b[0m                         Traceback (most recent call last)",
      "Cell \u001b[1;32mIn[57], line 22\u001b[0m\n\u001b[0;32m     15\u001b[0m \u001b[38;5;28mprint\u001b[39m(\u001b[38;5;124mf\u001b[39m\u001b[38;5;124m\"\u001b[39m\u001b[38;5;124m✅ Copied \u001b[39m\u001b[38;5;132;01m{\u001b[39;00m\u001b[38;5;28mlen\u001b[39m(points)\u001b[38;5;132;01m}\u001b[39;00m\u001b[38;5;124m points, current offset: \u001b[39m\u001b[38;5;132;01m{\u001b[39;00mscroll_offset\u001b[38;5;132;01m}\u001b[39;00m\u001b[38;5;124m\"\u001b[39m)\n\u001b[0;32m     17\u001b[0m batch \u001b[38;5;241m=\u001b[39m [\n\u001b[0;32m     18\u001b[0m     PointStruct(\u001b[38;5;28mid\u001b[39m\u001b[38;5;241m=\u001b[39mp\u001b[38;5;241m.\u001b[39mid, vector\u001b[38;5;241m=\u001b[39mp\u001b[38;5;241m.\u001b[39mvector, payload\u001b[38;5;241m=\u001b[39mp\u001b[38;5;241m.\u001b[39mpayload)\n\u001b[0;32m     19\u001b[0m     \u001b[38;5;28;01mfor\u001b[39;00m p \u001b[38;5;129;01min\u001b[39;00m points\n\u001b[0;32m     20\u001b[0m ]\n\u001b[1;32m---> 22\u001b[0m success \u001b[38;5;241m=\u001b[39m \u001b[43msafe_upsert\u001b[49m\u001b[43m(\u001b[49m\u001b[43mclient\u001b[49m\u001b[43m,\u001b[49m\u001b[43m \u001b[49m\u001b[38;5;124;43m\"\u001b[39;49m\u001b[38;5;124;43mFINAL\u001b[39;49m\u001b[38;5;124;43m\"\u001b[39;49m\u001b[43m,\u001b[49m\u001b[43m \u001b[49m\u001b[43mbatch\u001b[49m\u001b[43m)\u001b[49m\n\u001b[0;32m     23\u001b[0m \u001b[38;5;28;01mif\u001b[39;00m \u001b[38;5;129;01mnot\u001b[39;00m success:\n\u001b[0;32m     24\u001b[0m     \u001b[38;5;28mprint\u001b[39m(\u001b[38;5;124m\"\u001b[39m\u001b[38;5;124m❌ Failed to upload batch at offset:\u001b[39m\u001b[38;5;124m\"\u001b[39m, scroll_offset)\n",
      "Cell \u001b[1;32mIn[53], line 10\u001b[0m, in \u001b[0;36msafe_upsert\u001b[1;34m(client, collection_name, points, retries, wait)\u001b[0m\n\u001b[0;32m      8\u001b[0m \u001b[38;5;28;01mfor\u001b[39;00m attempt \u001b[38;5;129;01min\u001b[39;00m \u001b[38;5;28mrange\u001b[39m(retries):\n\u001b[0;32m      9\u001b[0m     \u001b[38;5;28;01mtry\u001b[39;00m:\n\u001b[1;32m---> 10\u001b[0m         \u001b[43mclient\u001b[49m\u001b[38;5;241;43m.\u001b[39;49m\u001b[43mupsert\u001b[49m\u001b[43m(\u001b[49m\u001b[43mcollection_name\u001b[49m\u001b[38;5;241;43m=\u001b[39;49m\u001b[43mcollection_name\u001b[49m\u001b[43m,\u001b[49m\u001b[43m \u001b[49m\u001b[43mpoints\u001b[49m\u001b[38;5;241;43m=\u001b[39;49m\u001b[43mpoints\u001b[49m\u001b[43m)\u001b[49m\n\u001b[0;32m     11\u001b[0m         \u001b[38;5;28;01mreturn\u001b[39;00m \u001b[38;5;28;01mTrue\u001b[39;00m\n\u001b[0;32m     12\u001b[0m     \u001b[38;5;28;01mexcept\u001b[39;00m \u001b[38;5;167;01mException\u001b[39;00m \u001b[38;5;28;01mas\u001b[39;00m e:\n",
      "File \u001b[1;32mc:\\Users\\DO TUAN MINH\\AppData\\Local\\Programs\\Python\\Python312\\Lib\\site-packages\\qdrant_client\\qdrant_client.py:1633\u001b[0m, in \u001b[0;36mQdrantClient.upsert\u001b[1;34m(self, collection_name, points, wait, ordering, shard_key_selector, **kwargs)\u001b[0m\n\u001b[0;32m   1626\u001b[0m     \u001b[38;5;28;01melse\u001b[39;00m:\n\u001b[0;32m   1627\u001b[0m         points \u001b[38;5;241m=\u001b[39m \u001b[38;5;28mlist\u001b[39m(\n\u001b[0;32m   1628\u001b[0m             \u001b[38;5;28mself\u001b[39m\u001b[38;5;241m.\u001b[39m_embed_models(\n\u001b[0;32m   1629\u001b[0m                 points, is_query\u001b[38;5;241m=\u001b[39m\u001b[38;5;28;01mFalse\u001b[39;00m, batch_size\u001b[38;5;241m=\u001b[39m\u001b[38;5;28mself\u001b[39m\u001b[38;5;241m.\u001b[39mlocal_inference_batch_size\n\u001b[0;32m   1630\u001b[0m             )\n\u001b[0;32m   1631\u001b[0m         )\n\u001b[1;32m-> 1633\u001b[0m \u001b[38;5;28;01mreturn\u001b[39;00m \u001b[38;5;28;43mself\u001b[39;49m\u001b[38;5;241;43m.\u001b[39;49m\u001b[43m_client\u001b[49m\u001b[38;5;241;43m.\u001b[39;49m\u001b[43mupsert\u001b[49m\u001b[43m(\u001b[49m\n\u001b[0;32m   1634\u001b[0m \u001b[43m    \u001b[49m\u001b[43mcollection_name\u001b[49m\u001b[38;5;241;43m=\u001b[39;49m\u001b[43mcollection_name\u001b[49m\u001b[43m,\u001b[49m\n\u001b[0;32m   1635\u001b[0m \u001b[43m    \u001b[49m\u001b[43mpoints\u001b[49m\u001b[38;5;241;43m=\u001b[39;49m\u001b[43mpoints\u001b[49m\u001b[43m,\u001b[49m\n\u001b[0;32m   1636\u001b[0m \u001b[43m    \u001b[49m\u001b[43mwait\u001b[49m\u001b[38;5;241;43m=\u001b[39;49m\u001b[43mwait\u001b[49m\u001b[43m,\u001b[49m\n\u001b[0;32m   1637\u001b[0m \u001b[43m    \u001b[49m\u001b[43mordering\u001b[49m\u001b[38;5;241;43m=\u001b[39;49m\u001b[43mordering\u001b[49m\u001b[43m,\u001b[49m\n\u001b[0;32m   1638\u001b[0m \u001b[43m    \u001b[49m\u001b[43mshard_key_selector\u001b[49m\u001b[38;5;241;43m=\u001b[39;49m\u001b[43mshard_key_selector\u001b[49m\u001b[43m,\u001b[49m\n\u001b[0;32m   1639\u001b[0m \u001b[43m    \u001b[49m\u001b[38;5;241;43m*\u001b[39;49m\u001b[38;5;241;43m*\u001b[39;49m\u001b[43mkwargs\u001b[49m\u001b[43m,\u001b[49m\n\u001b[0;32m   1640\u001b[0m \u001b[43m\u001b[49m\u001b[43m)\u001b[49m\n",
      "File \u001b[1;32mc:\\Users\\DO TUAN MINH\\AppData\\Local\\Programs\\Python\\Python312\\Lib\\site-packages\\qdrant_client\\qdrant_remote.py:1911\u001b[0m, in \u001b[0;36mQdrantRemote.upsert\u001b[1;34m(self, collection_name, points, wait, ordering, shard_key_selector, **kwargs)\u001b[0m\n\u001b[0;32m   1908\u001b[0m \u001b[38;5;28;01mif\u001b[39;00m \u001b[38;5;28misinstance\u001b[39m(points, models\u001b[38;5;241m.\u001b[39mBatch):\n\u001b[0;32m   1909\u001b[0m     points \u001b[38;5;241m=\u001b[39m models\u001b[38;5;241m.\u001b[39mPointsBatch(batch\u001b[38;5;241m=\u001b[39mpoints, shard_key\u001b[38;5;241m=\u001b[39mshard_key_selector)\n\u001b[1;32m-> 1911\u001b[0m http_result \u001b[38;5;241m=\u001b[39m \u001b[38;5;28;43mself\u001b[39;49m\u001b[38;5;241;43m.\u001b[39;49m\u001b[43mopenapi_client\u001b[49m\u001b[38;5;241;43m.\u001b[39;49m\u001b[43mpoints_api\u001b[49m\u001b[38;5;241;43m.\u001b[39;49m\u001b[43mupsert_points\u001b[49m\u001b[43m(\u001b[49m\n\u001b[0;32m   1912\u001b[0m \u001b[43m    \u001b[49m\u001b[43mcollection_name\u001b[49m\u001b[38;5;241;43m=\u001b[39;49m\u001b[43mcollection_name\u001b[49m\u001b[43m,\u001b[49m\n\u001b[0;32m   1913\u001b[0m \u001b[43m    \u001b[49m\u001b[43mwait\u001b[49m\u001b[38;5;241;43m=\u001b[39;49m\u001b[43mwait\u001b[49m\u001b[43m,\u001b[49m\n\u001b[0;32m   1914\u001b[0m \u001b[43m    \u001b[49m\u001b[43mpoint_insert_operations\u001b[49m\u001b[38;5;241;43m=\u001b[39;49m\u001b[43mpoints\u001b[49m\u001b[43m,\u001b[49m\n\u001b[0;32m   1915\u001b[0m \u001b[43m    \u001b[49m\u001b[43mordering\u001b[49m\u001b[38;5;241;43m=\u001b[39;49m\u001b[43mordering\u001b[49m\u001b[43m,\u001b[49m\n\u001b[0;32m   1916\u001b[0m \u001b[43m\u001b[49m\u001b[43m)\u001b[49m\u001b[38;5;241m.\u001b[39mresult\n\u001b[0;32m   1917\u001b[0m \u001b[38;5;28;01massert\u001b[39;00m http_result \u001b[38;5;129;01mis\u001b[39;00m \u001b[38;5;129;01mnot\u001b[39;00m \u001b[38;5;28;01mNone\u001b[39;00m, \u001b[38;5;124m\"\u001b[39m\u001b[38;5;124mUpsert returned None result\u001b[39m\u001b[38;5;124m\"\u001b[39m\n\u001b[0;32m   1918\u001b[0m \u001b[38;5;28;01mreturn\u001b[39;00m http_result\n",
      "File \u001b[1;32mc:\\Users\\DO TUAN MINH\\AppData\\Local\\Programs\\Python\\Python312\\Lib\\site-packages\\qdrant_client\\http\\api\\points_api.py:987\u001b[0m, in \u001b[0;36mSyncPointsApi.upsert_points\u001b[1;34m(self, collection_name, wait, ordering, point_insert_operations)\u001b[0m\n\u001b[0;32m    977\u001b[0m \u001b[38;5;28;01mdef\u001b[39;00m\u001b[38;5;250m \u001b[39m\u001b[38;5;21mupsert_points\u001b[39m(\n\u001b[0;32m    978\u001b[0m     \u001b[38;5;28mself\u001b[39m,\n\u001b[0;32m    979\u001b[0m     collection_name: \u001b[38;5;28mstr\u001b[39m,\n\u001b[1;32m   (...)\u001b[0m\n\u001b[0;32m    982\u001b[0m     point_insert_operations: m\u001b[38;5;241m.\u001b[39mPointInsertOperations \u001b[38;5;241m=\u001b[39m \u001b[38;5;28;01mNone\u001b[39;00m,\n\u001b[0;32m    983\u001b[0m ) \u001b[38;5;241m-\u001b[39m\u001b[38;5;241m>\u001b[39m m\u001b[38;5;241m.\u001b[39mInlineResponse2006:\n\u001b[0;32m    984\u001b[0m \u001b[38;5;250m    \u001b[39m\u001b[38;5;124;03m\"\"\"\u001b[39;00m\n\u001b[0;32m    985\u001b[0m \u001b[38;5;124;03m    Perform insert + updates on points. If point with given ID already exists - it will be overwritten.\u001b[39;00m\n\u001b[0;32m    986\u001b[0m \u001b[38;5;124;03m    \"\"\"\u001b[39;00m\n\u001b[1;32m--> 987\u001b[0m     \u001b[38;5;28;01mreturn\u001b[39;00m \u001b[38;5;28;43mself\u001b[39;49m\u001b[38;5;241;43m.\u001b[39;49m\u001b[43m_build_for_upsert_points\u001b[49m\u001b[43m(\u001b[49m\n\u001b[0;32m    988\u001b[0m \u001b[43m        \u001b[49m\u001b[43mcollection_name\u001b[49m\u001b[38;5;241;43m=\u001b[39;49m\u001b[43mcollection_name\u001b[49m\u001b[43m,\u001b[49m\n\u001b[0;32m    989\u001b[0m \u001b[43m        \u001b[49m\u001b[43mwait\u001b[49m\u001b[38;5;241;43m=\u001b[39;49m\u001b[43mwait\u001b[49m\u001b[43m,\u001b[49m\n\u001b[0;32m    990\u001b[0m \u001b[43m        \u001b[49m\u001b[43mordering\u001b[49m\u001b[38;5;241;43m=\u001b[39;49m\u001b[43mordering\u001b[49m\u001b[43m,\u001b[49m\n\u001b[0;32m    991\u001b[0m \u001b[43m        \u001b[49m\u001b[43mpoint_insert_operations\u001b[49m\u001b[38;5;241;43m=\u001b[39;49m\u001b[43mpoint_insert_operations\u001b[49m\u001b[43m,\u001b[49m\n\u001b[0;32m    992\u001b[0m \u001b[43m    \u001b[49m\u001b[43m)\u001b[49m\n",
      "File \u001b[1;32mc:\\Users\\DO TUAN MINH\\AppData\\Local\\Programs\\Python\\Python312\\Lib\\site-packages\\qdrant_client\\http\\api\\points_api.py:512\u001b[0m, in \u001b[0;36m_PointsApi._build_for_upsert_points\u001b[1;34m(self, collection_name, wait, ordering, point_insert_operations)\u001b[0m\n\u001b[0;32m    510\u001b[0m \u001b[38;5;28;01mif\u001b[39;00m \u001b[38;5;124m\"\u001b[39m\u001b[38;5;124mContent-Type\u001b[39m\u001b[38;5;124m\"\u001b[39m \u001b[38;5;129;01mnot\u001b[39;00m \u001b[38;5;129;01min\u001b[39;00m headers:\n\u001b[0;32m    511\u001b[0m     headers[\u001b[38;5;124m\"\u001b[39m\u001b[38;5;124mContent-Type\u001b[39m\u001b[38;5;124m\"\u001b[39m] \u001b[38;5;241m=\u001b[39m \u001b[38;5;124m\"\u001b[39m\u001b[38;5;124mapplication/json\u001b[39m\u001b[38;5;124m\"\u001b[39m\n\u001b[1;32m--> 512\u001b[0m \u001b[38;5;28;01mreturn\u001b[39;00m \u001b[38;5;28;43mself\u001b[39;49m\u001b[38;5;241;43m.\u001b[39;49m\u001b[43mapi_client\u001b[49m\u001b[38;5;241;43m.\u001b[39;49m\u001b[43mrequest\u001b[49m\u001b[43m(\u001b[49m\n\u001b[0;32m    513\u001b[0m \u001b[43m    \u001b[49m\u001b[43mtype_\u001b[49m\u001b[38;5;241;43m=\u001b[39;49m\u001b[43mm\u001b[49m\u001b[38;5;241;43m.\u001b[39;49m\u001b[43mInlineResponse2006\u001b[49m\u001b[43m,\u001b[49m\n\u001b[0;32m    514\u001b[0m \u001b[43m    \u001b[49m\u001b[43mmethod\u001b[49m\u001b[38;5;241;43m=\u001b[39;49m\u001b[38;5;124;43m\"\u001b[39;49m\u001b[38;5;124;43mPUT\u001b[39;49m\u001b[38;5;124;43m\"\u001b[39;49m\u001b[43m,\u001b[49m\n\u001b[0;32m    515\u001b[0m \u001b[43m    \u001b[49m\u001b[43murl\u001b[49m\u001b[38;5;241;43m=\u001b[39;49m\u001b[38;5;124;43m\"\u001b[39;49m\u001b[38;5;124;43m/collections/\u001b[39;49m\u001b[38;5;132;43;01m{collection_name}\u001b[39;49;00m\u001b[38;5;124;43m/points\u001b[39;49m\u001b[38;5;124;43m\"\u001b[39;49m\u001b[43m,\u001b[49m\n\u001b[0;32m    516\u001b[0m \u001b[43m    \u001b[49m\u001b[43mheaders\u001b[49m\u001b[38;5;241;43m=\u001b[39;49m\u001b[43mheaders\u001b[49m\u001b[43m \u001b[49m\u001b[38;5;28;43;01mif\u001b[39;49;00m\u001b[43m \u001b[49m\u001b[43mheaders\u001b[49m\u001b[43m \u001b[49m\u001b[38;5;28;43;01melse\u001b[39;49;00m\u001b[43m \u001b[49m\u001b[38;5;28;43;01mNone\u001b[39;49;00m\u001b[43m,\u001b[49m\n\u001b[0;32m    517\u001b[0m \u001b[43m    \u001b[49m\u001b[43mpath_params\u001b[49m\u001b[38;5;241;43m=\u001b[39;49m\u001b[43mpath_params\u001b[49m\u001b[43m,\u001b[49m\n\u001b[0;32m    518\u001b[0m \u001b[43m    \u001b[49m\u001b[43mparams\u001b[49m\u001b[38;5;241;43m=\u001b[39;49m\u001b[43mquery_params\u001b[49m\u001b[43m,\u001b[49m\n\u001b[0;32m    519\u001b[0m \u001b[43m    \u001b[49m\u001b[43mcontent\u001b[49m\u001b[38;5;241;43m=\u001b[39;49m\u001b[43mbody\u001b[49m\u001b[43m,\u001b[49m\n\u001b[0;32m    520\u001b[0m \u001b[43m\u001b[49m\u001b[43m)\u001b[49m\n",
      "File \u001b[1;32mc:\\Users\\DO TUAN MINH\\AppData\\Local\\Programs\\Python\\Python312\\Lib\\site-packages\\qdrant_client\\http\\api_client.py:95\u001b[0m, in \u001b[0;36mApiClient.request\u001b[1;34m(self, type_, method, url, path_params, **kwargs)\u001b[0m\n\u001b[0;32m     93\u001b[0m     kwargs[\u001b[38;5;124m\"\u001b[39m\u001b[38;5;124mtimeout\u001b[39m\u001b[38;5;124m\"\u001b[39m] \u001b[38;5;241m=\u001b[39m \u001b[38;5;28mint\u001b[39m(kwargs[\u001b[38;5;124m\"\u001b[39m\u001b[38;5;124mparams\u001b[39m\u001b[38;5;124m\"\u001b[39m][\u001b[38;5;124m\"\u001b[39m\u001b[38;5;124mtimeout\u001b[39m\u001b[38;5;124m\"\u001b[39m])\n\u001b[0;32m     94\u001b[0m request \u001b[38;5;241m=\u001b[39m \u001b[38;5;28mself\u001b[39m\u001b[38;5;241m.\u001b[39m_client\u001b[38;5;241m.\u001b[39mbuild_request(method, url, \u001b[38;5;241m*\u001b[39m\u001b[38;5;241m*\u001b[39mkwargs)\n\u001b[1;32m---> 95\u001b[0m \u001b[38;5;28;01mreturn\u001b[39;00m \u001b[38;5;28;43mself\u001b[39;49m\u001b[38;5;241;43m.\u001b[39;49m\u001b[43msend\u001b[49m\u001b[43m(\u001b[49m\u001b[43mrequest\u001b[49m\u001b[43m,\u001b[49m\u001b[43m \u001b[49m\u001b[43mtype_\u001b[49m\u001b[43m)\u001b[49m\n",
      "File \u001b[1;32mc:\\Users\\DO TUAN MINH\\AppData\\Local\\Programs\\Python\\Python312\\Lib\\site-packages\\qdrant_client\\http\\api_client.py:112\u001b[0m, in \u001b[0;36mApiClient.send\u001b[1;34m(self, request, type_)\u001b[0m\n\u001b[0;32m    111\u001b[0m \u001b[38;5;28;01mdef\u001b[39;00m\u001b[38;5;250m \u001b[39m\u001b[38;5;21msend\u001b[39m(\u001b[38;5;28mself\u001b[39m, request: Request, type_: Type[T]) \u001b[38;5;241m-\u001b[39m\u001b[38;5;241m>\u001b[39m T:\n\u001b[1;32m--> 112\u001b[0m     response \u001b[38;5;241m=\u001b[39m \u001b[38;5;28;43mself\u001b[39;49m\u001b[38;5;241;43m.\u001b[39;49m\u001b[43mmiddleware\u001b[49m\u001b[43m(\u001b[49m\u001b[43mrequest\u001b[49m\u001b[43m,\u001b[49m\u001b[43m \u001b[49m\u001b[38;5;28;43mself\u001b[39;49m\u001b[38;5;241;43m.\u001b[39;49m\u001b[43msend_inner\u001b[49m\u001b[43m)\u001b[49m\n\u001b[0;32m    114\u001b[0m     \u001b[38;5;28;01mif\u001b[39;00m response\u001b[38;5;241m.\u001b[39mstatus_code \u001b[38;5;241m==\u001b[39m \u001b[38;5;241m429\u001b[39m:\n\u001b[0;32m    115\u001b[0m         retry_after_s \u001b[38;5;241m=\u001b[39m response\u001b[38;5;241m.\u001b[39mheaders\u001b[38;5;241m.\u001b[39mget(\u001b[38;5;124m\"\u001b[39m\u001b[38;5;124mRetry-After\u001b[39m\u001b[38;5;124m\"\u001b[39m, \u001b[38;5;28;01mNone\u001b[39;00m)\n",
      "File \u001b[1;32mc:\\Users\\DO TUAN MINH\\AppData\\Local\\Programs\\Python\\Python312\\Lib\\site-packages\\qdrant_client\\http\\api_client.py:250\u001b[0m, in \u001b[0;36mBaseMiddleware.__call__\u001b[1;34m(self, request, call_next)\u001b[0m\n\u001b[0;32m    249\u001b[0m \u001b[38;5;28;01mdef\u001b[39;00m\u001b[38;5;250m \u001b[39m\u001b[38;5;21m__call__\u001b[39m(\u001b[38;5;28mself\u001b[39m, request: Request, call_next: Send) \u001b[38;5;241m-\u001b[39m\u001b[38;5;241m>\u001b[39m Response:\n\u001b[1;32m--> 250\u001b[0m     \u001b[38;5;28;01mreturn\u001b[39;00m \u001b[43mcall_next\u001b[49m\u001b[43m(\u001b[49m\u001b[43mrequest\u001b[49m\u001b[43m)\u001b[49m\n",
      "File \u001b[1;32mc:\\Users\\DO TUAN MINH\\AppData\\Local\\Programs\\Python\\Python312\\Lib\\site-packages\\qdrant_client\\http\\api_client.py:134\u001b[0m, in \u001b[0;36mApiClient.send_inner\u001b[1;34m(self, request)\u001b[0m\n\u001b[0;32m    132\u001b[0m \u001b[38;5;28;01mdef\u001b[39;00m\u001b[38;5;250m \u001b[39m\u001b[38;5;21msend_inner\u001b[39m(\u001b[38;5;28mself\u001b[39m, request: Request) \u001b[38;5;241m-\u001b[39m\u001b[38;5;241m>\u001b[39m Response:\n\u001b[0;32m    133\u001b[0m     \u001b[38;5;28;01mtry\u001b[39;00m:\n\u001b[1;32m--> 134\u001b[0m         response \u001b[38;5;241m=\u001b[39m \u001b[38;5;28;43mself\u001b[39;49m\u001b[38;5;241;43m.\u001b[39;49m\u001b[43m_client\u001b[49m\u001b[38;5;241;43m.\u001b[39;49m\u001b[43msend\u001b[49m\u001b[43m(\u001b[49m\u001b[43mrequest\u001b[49m\u001b[43m)\u001b[49m\n\u001b[0;32m    135\u001b[0m     \u001b[38;5;28;01mexcept\u001b[39;00m \u001b[38;5;167;01mException\u001b[39;00m \u001b[38;5;28;01mas\u001b[39;00m e:\n\u001b[0;32m    136\u001b[0m         \u001b[38;5;28;01mraise\u001b[39;00m ResponseHandlingException(e)\n",
      "File \u001b[1;32mc:\\Users\\DO TUAN MINH\\AppData\\Local\\Programs\\Python\\Python312\\Lib\\site-packages\\httpx\\_client.py:901\u001b[0m, in \u001b[0;36mClient.send\u001b[1;34m(self, request, stream, auth, follow_redirects)\u001b[0m\n\u001b[0;32m    893\u001b[0m follow_redirects \u001b[38;5;241m=\u001b[39m (\n\u001b[0;32m    894\u001b[0m     \u001b[38;5;28mself\u001b[39m\u001b[38;5;241m.\u001b[39mfollow_redirects\n\u001b[0;32m    895\u001b[0m     \u001b[38;5;28;01mif\u001b[39;00m \u001b[38;5;28misinstance\u001b[39m(follow_redirects, UseClientDefault)\n\u001b[0;32m    896\u001b[0m     \u001b[38;5;28;01melse\u001b[39;00m follow_redirects\n\u001b[0;32m    897\u001b[0m )\n\u001b[0;32m    899\u001b[0m auth \u001b[38;5;241m=\u001b[39m \u001b[38;5;28mself\u001b[39m\u001b[38;5;241m.\u001b[39m_build_request_auth(request, auth)\n\u001b[1;32m--> 901\u001b[0m response \u001b[38;5;241m=\u001b[39m \u001b[38;5;28;43mself\u001b[39;49m\u001b[38;5;241;43m.\u001b[39;49m\u001b[43m_send_handling_auth\u001b[49m\u001b[43m(\u001b[49m\n\u001b[0;32m    902\u001b[0m \u001b[43m    \u001b[49m\u001b[43mrequest\u001b[49m\u001b[43m,\u001b[49m\n\u001b[0;32m    903\u001b[0m \u001b[43m    \u001b[49m\u001b[43mauth\u001b[49m\u001b[38;5;241;43m=\u001b[39;49m\u001b[43mauth\u001b[49m\u001b[43m,\u001b[49m\n\u001b[0;32m    904\u001b[0m \u001b[43m    \u001b[49m\u001b[43mfollow_redirects\u001b[49m\u001b[38;5;241;43m=\u001b[39;49m\u001b[43mfollow_redirects\u001b[49m\u001b[43m,\u001b[49m\n\u001b[0;32m    905\u001b[0m \u001b[43m    \u001b[49m\u001b[43mhistory\u001b[49m\u001b[38;5;241;43m=\u001b[39;49m\u001b[43m[\u001b[49m\u001b[43m]\u001b[49m\u001b[43m,\u001b[49m\n\u001b[0;32m    906\u001b[0m \u001b[43m\u001b[49m\u001b[43m)\u001b[49m\n\u001b[0;32m    907\u001b[0m \u001b[38;5;28;01mtry\u001b[39;00m:\n\u001b[0;32m    908\u001b[0m     \u001b[38;5;28;01mif\u001b[39;00m \u001b[38;5;129;01mnot\u001b[39;00m stream:\n",
      "File \u001b[1;32mc:\\Users\\DO TUAN MINH\\AppData\\Local\\Programs\\Python\\Python312\\Lib\\site-packages\\httpx\\_client.py:929\u001b[0m, in \u001b[0;36mClient._send_handling_auth\u001b[1;34m(self, request, auth, follow_redirects, history)\u001b[0m\n\u001b[0;32m    926\u001b[0m request \u001b[38;5;241m=\u001b[39m \u001b[38;5;28mnext\u001b[39m(auth_flow)\n\u001b[0;32m    928\u001b[0m \u001b[38;5;28;01mwhile\u001b[39;00m \u001b[38;5;28;01mTrue\u001b[39;00m:\n\u001b[1;32m--> 929\u001b[0m     response \u001b[38;5;241m=\u001b[39m \u001b[38;5;28;43mself\u001b[39;49m\u001b[38;5;241;43m.\u001b[39;49m\u001b[43m_send_handling_redirects\u001b[49m\u001b[43m(\u001b[49m\n\u001b[0;32m    930\u001b[0m \u001b[43m        \u001b[49m\u001b[43mrequest\u001b[49m\u001b[43m,\u001b[49m\n\u001b[0;32m    931\u001b[0m \u001b[43m        \u001b[49m\u001b[43mfollow_redirects\u001b[49m\u001b[38;5;241;43m=\u001b[39;49m\u001b[43mfollow_redirects\u001b[49m\u001b[43m,\u001b[49m\n\u001b[0;32m    932\u001b[0m \u001b[43m        \u001b[49m\u001b[43mhistory\u001b[49m\u001b[38;5;241;43m=\u001b[39;49m\u001b[43mhistory\u001b[49m\u001b[43m,\u001b[49m\n\u001b[0;32m    933\u001b[0m \u001b[43m    \u001b[49m\u001b[43m)\u001b[49m\n\u001b[0;32m    934\u001b[0m     \u001b[38;5;28;01mtry\u001b[39;00m:\n\u001b[0;32m    935\u001b[0m         \u001b[38;5;28;01mtry\u001b[39;00m:\n",
      "File \u001b[1;32mc:\\Users\\DO TUAN MINH\\AppData\\Local\\Programs\\Python\\Python312\\Lib\\site-packages\\httpx\\_client.py:966\u001b[0m, in \u001b[0;36mClient._send_handling_redirects\u001b[1;34m(self, request, follow_redirects, history)\u001b[0m\n\u001b[0;32m    963\u001b[0m \u001b[38;5;28;01mfor\u001b[39;00m hook \u001b[38;5;129;01min\u001b[39;00m \u001b[38;5;28mself\u001b[39m\u001b[38;5;241m.\u001b[39m_event_hooks[\u001b[38;5;124m\"\u001b[39m\u001b[38;5;124mrequest\u001b[39m\u001b[38;5;124m\"\u001b[39m]:\n\u001b[0;32m    964\u001b[0m     hook(request)\n\u001b[1;32m--> 966\u001b[0m response \u001b[38;5;241m=\u001b[39m \u001b[38;5;28;43mself\u001b[39;49m\u001b[38;5;241;43m.\u001b[39;49m\u001b[43m_send_single_request\u001b[49m\u001b[43m(\u001b[49m\u001b[43mrequest\u001b[49m\u001b[43m)\u001b[49m\n\u001b[0;32m    967\u001b[0m \u001b[38;5;28;01mtry\u001b[39;00m:\n\u001b[0;32m    968\u001b[0m     \u001b[38;5;28;01mfor\u001b[39;00m hook \u001b[38;5;129;01min\u001b[39;00m \u001b[38;5;28mself\u001b[39m\u001b[38;5;241m.\u001b[39m_event_hooks[\u001b[38;5;124m\"\u001b[39m\u001b[38;5;124mresponse\u001b[39m\u001b[38;5;124m\"\u001b[39m]:\n",
      "File \u001b[1;32mc:\\Users\\DO TUAN MINH\\AppData\\Local\\Programs\\Python\\Python312\\Lib\\site-packages\\httpx\\_client.py:1002\u001b[0m, in \u001b[0;36mClient._send_single_request\u001b[1;34m(self, request)\u001b[0m\n\u001b[0;32m    997\u001b[0m     \u001b[38;5;28;01mraise\u001b[39;00m \u001b[38;5;167;01mRuntimeError\u001b[39;00m(\n\u001b[0;32m    998\u001b[0m         \u001b[38;5;124m\"\u001b[39m\u001b[38;5;124mAttempted to send an async request with a sync Client instance.\u001b[39m\u001b[38;5;124m\"\u001b[39m\n\u001b[0;32m    999\u001b[0m     )\n\u001b[0;32m   1001\u001b[0m \u001b[38;5;28;01mwith\u001b[39;00m request_context(request\u001b[38;5;241m=\u001b[39mrequest):\n\u001b[1;32m-> 1002\u001b[0m     response \u001b[38;5;241m=\u001b[39m \u001b[43mtransport\u001b[49m\u001b[38;5;241;43m.\u001b[39;49m\u001b[43mhandle_request\u001b[49m\u001b[43m(\u001b[49m\u001b[43mrequest\u001b[49m\u001b[43m)\u001b[49m\n\u001b[0;32m   1004\u001b[0m \u001b[38;5;28;01massert\u001b[39;00m \u001b[38;5;28misinstance\u001b[39m(response\u001b[38;5;241m.\u001b[39mstream, SyncByteStream)\n\u001b[0;32m   1006\u001b[0m response\u001b[38;5;241m.\u001b[39mrequest \u001b[38;5;241m=\u001b[39m request\n",
      "File \u001b[1;32mc:\\Users\\DO TUAN MINH\\AppData\\Local\\Programs\\Python\\Python312\\Lib\\site-packages\\httpx\\_transports\\default.py:218\u001b[0m, in \u001b[0;36mHTTPTransport.handle_request\u001b[1;34m(self, request)\u001b[0m\n\u001b[0;32m    205\u001b[0m req \u001b[38;5;241m=\u001b[39m httpcore\u001b[38;5;241m.\u001b[39mRequest(\n\u001b[0;32m    206\u001b[0m     method\u001b[38;5;241m=\u001b[39mrequest\u001b[38;5;241m.\u001b[39mmethod,\n\u001b[0;32m    207\u001b[0m     url\u001b[38;5;241m=\u001b[39mhttpcore\u001b[38;5;241m.\u001b[39mURL(\n\u001b[1;32m   (...)\u001b[0m\n\u001b[0;32m    215\u001b[0m     extensions\u001b[38;5;241m=\u001b[39mrequest\u001b[38;5;241m.\u001b[39mextensions,\n\u001b[0;32m    216\u001b[0m )\n\u001b[0;32m    217\u001b[0m \u001b[38;5;28;01mwith\u001b[39;00m map_httpcore_exceptions():\n\u001b[1;32m--> 218\u001b[0m     resp \u001b[38;5;241m=\u001b[39m \u001b[38;5;28;43mself\u001b[39;49m\u001b[38;5;241;43m.\u001b[39;49m\u001b[43m_pool\u001b[49m\u001b[38;5;241;43m.\u001b[39;49m\u001b[43mhandle_request\u001b[49m\u001b[43m(\u001b[49m\u001b[43mreq\u001b[49m\u001b[43m)\u001b[49m\n\u001b[0;32m    220\u001b[0m \u001b[38;5;28;01massert\u001b[39;00m \u001b[38;5;28misinstance\u001b[39m(resp\u001b[38;5;241m.\u001b[39mstream, typing\u001b[38;5;241m.\u001b[39mIterable)\n\u001b[0;32m    222\u001b[0m \u001b[38;5;28;01mreturn\u001b[39;00m Response(\n\u001b[0;32m    223\u001b[0m     status_code\u001b[38;5;241m=\u001b[39mresp\u001b[38;5;241m.\u001b[39mstatus,\n\u001b[0;32m    224\u001b[0m     headers\u001b[38;5;241m=\u001b[39mresp\u001b[38;5;241m.\u001b[39mheaders,\n\u001b[0;32m    225\u001b[0m     stream\u001b[38;5;241m=\u001b[39mResponseStream(resp\u001b[38;5;241m.\u001b[39mstream),\n\u001b[0;32m    226\u001b[0m     extensions\u001b[38;5;241m=\u001b[39mresp\u001b[38;5;241m.\u001b[39mextensions,\n\u001b[0;32m    227\u001b[0m )\n",
      "File \u001b[1;32mc:\\Users\\DO TUAN MINH\\AppData\\Local\\Programs\\Python\\Python312\\Lib\\site-packages\\httpcore\\_sync\\connection_pool.py:262\u001b[0m, in \u001b[0;36mConnectionPool.handle_request\u001b[1;34m(self, request)\u001b[0m\n\u001b[0;32m    260\u001b[0m     \u001b[38;5;28;01mwith\u001b[39;00m ShieldCancellation():\n\u001b[0;32m    261\u001b[0m         \u001b[38;5;28mself\u001b[39m\u001b[38;5;241m.\u001b[39mresponse_closed(status)\n\u001b[1;32m--> 262\u001b[0m     \u001b[38;5;28;01mraise\u001b[39;00m exc\n\u001b[0;32m    263\u001b[0m \u001b[38;5;28;01melse\u001b[39;00m:\n\u001b[0;32m    264\u001b[0m     \u001b[38;5;28;01mbreak\u001b[39;00m\n",
      "File \u001b[1;32mc:\\Users\\DO TUAN MINH\\AppData\\Local\\Programs\\Python\\Python312\\Lib\\site-packages\\httpcore\\_sync\\connection_pool.py:245\u001b[0m, in \u001b[0;36mConnectionPool.handle_request\u001b[1;34m(self, request)\u001b[0m\n\u001b[0;32m    242\u001b[0m         \u001b[38;5;28;01mraise\u001b[39;00m exc\n\u001b[0;32m    244\u001b[0m \u001b[38;5;28;01mtry\u001b[39;00m:\n\u001b[1;32m--> 245\u001b[0m     response \u001b[38;5;241m=\u001b[39m \u001b[43mconnection\u001b[49m\u001b[38;5;241;43m.\u001b[39;49m\u001b[43mhandle_request\u001b[49m\u001b[43m(\u001b[49m\u001b[43mrequest\u001b[49m\u001b[43m)\u001b[49m\n\u001b[0;32m    246\u001b[0m \u001b[38;5;28;01mexcept\u001b[39;00m ConnectionNotAvailable:\n\u001b[0;32m    247\u001b[0m     \u001b[38;5;66;03m# The ConnectionNotAvailable exception is a special case, that\u001b[39;00m\n\u001b[0;32m    248\u001b[0m     \u001b[38;5;66;03m# indicates we need to retry the request on a new connection.\u001b[39;00m\n\u001b[1;32m   (...)\u001b[0m\n\u001b[0;32m    252\u001b[0m     \u001b[38;5;66;03m# might end up as an HTTP/2 connection, but which actually ends\u001b[39;00m\n\u001b[0;32m    253\u001b[0m     \u001b[38;5;66;03m# up as HTTP/1.1.\u001b[39;00m\n\u001b[0;32m    254\u001b[0m     \u001b[38;5;28;01mwith\u001b[39;00m \u001b[38;5;28mself\u001b[39m\u001b[38;5;241m.\u001b[39m_pool_lock:\n\u001b[0;32m    255\u001b[0m         \u001b[38;5;66;03m# Maintain our position in the request queue, but reset the\u001b[39;00m\n\u001b[0;32m    256\u001b[0m         \u001b[38;5;66;03m# status so that the request becomes queued again.\u001b[39;00m\n",
      "File \u001b[1;32mc:\\Users\\DO TUAN MINH\\AppData\\Local\\Programs\\Python\\Python312\\Lib\\site-packages\\httpcore\\_sync\\connection.py:96\u001b[0m, in \u001b[0;36mHTTPConnection.handle_request\u001b[1;34m(self, request)\u001b[0m\n\u001b[0;32m     93\u001b[0m     \u001b[38;5;28;01melif\u001b[39;00m \u001b[38;5;129;01mnot\u001b[39;00m \u001b[38;5;28mself\u001b[39m\u001b[38;5;241m.\u001b[39m_connection\u001b[38;5;241m.\u001b[39mis_available():\n\u001b[0;32m     94\u001b[0m         \u001b[38;5;28;01mraise\u001b[39;00m ConnectionNotAvailable()\n\u001b[1;32m---> 96\u001b[0m \u001b[38;5;28;01mreturn\u001b[39;00m \u001b[38;5;28;43mself\u001b[39;49m\u001b[38;5;241;43m.\u001b[39;49m\u001b[43m_connection\u001b[49m\u001b[38;5;241;43m.\u001b[39;49m\u001b[43mhandle_request\u001b[49m\u001b[43m(\u001b[49m\u001b[43mrequest\u001b[49m\u001b[43m)\u001b[49m\n",
      "File \u001b[1;32mc:\\Users\\DO TUAN MINH\\AppData\\Local\\Programs\\Python\\Python312\\Lib\\site-packages\\httpcore\\_sync\\http11.py:121\u001b[0m, in \u001b[0;36mHTTP11Connection.handle_request\u001b[1;34m(self, request)\u001b[0m\n\u001b[0;32m    119\u001b[0m     \u001b[38;5;28;01mwith\u001b[39;00m Trace(\u001b[38;5;124m\"\u001b[39m\u001b[38;5;124mresponse_closed\u001b[39m\u001b[38;5;124m\"\u001b[39m, logger, request) \u001b[38;5;28;01mas\u001b[39;00m trace:\n\u001b[0;32m    120\u001b[0m         \u001b[38;5;28mself\u001b[39m\u001b[38;5;241m.\u001b[39m_response_closed()\n\u001b[1;32m--> 121\u001b[0m \u001b[38;5;28;01mraise\u001b[39;00m exc\n",
      "File \u001b[1;32mc:\\Users\\DO TUAN MINH\\AppData\\Local\\Programs\\Python\\Python312\\Lib\\site-packages\\httpcore\\_sync\\http11.py:99\u001b[0m, in \u001b[0;36mHTTP11Connection.handle_request\u001b[1;34m(self, request)\u001b[0m\n\u001b[0;32m     90\u001b[0m     \u001b[38;5;28mself\u001b[39m\u001b[38;5;241m.\u001b[39m_send_request_body(\u001b[38;5;241m*\u001b[39m\u001b[38;5;241m*\u001b[39mkwargs)\n\u001b[0;32m     91\u001b[0m \u001b[38;5;28;01mwith\u001b[39;00m Trace(\n\u001b[0;32m     92\u001b[0m     \u001b[38;5;124m\"\u001b[39m\u001b[38;5;124mreceive_response_headers\u001b[39m\u001b[38;5;124m\"\u001b[39m, logger, request, kwargs\n\u001b[0;32m     93\u001b[0m ) \u001b[38;5;28;01mas\u001b[39;00m trace:\n\u001b[0;32m     94\u001b[0m     (\n\u001b[0;32m     95\u001b[0m         http_version,\n\u001b[0;32m     96\u001b[0m         status,\n\u001b[0;32m     97\u001b[0m         reason_phrase,\n\u001b[0;32m     98\u001b[0m         headers,\n\u001b[1;32m---> 99\u001b[0m     ) \u001b[38;5;241m=\u001b[39m \u001b[38;5;28;43mself\u001b[39;49m\u001b[38;5;241;43m.\u001b[39;49m\u001b[43m_receive_response_headers\u001b[49m\u001b[43m(\u001b[49m\u001b[38;5;241;43m*\u001b[39;49m\u001b[38;5;241;43m*\u001b[39;49m\u001b[43mkwargs\u001b[49m\u001b[43m)\u001b[49m\n\u001b[0;32m    100\u001b[0m     trace\u001b[38;5;241m.\u001b[39mreturn_value \u001b[38;5;241m=\u001b[39m (\n\u001b[0;32m    101\u001b[0m         http_version,\n\u001b[0;32m    102\u001b[0m         status,\n\u001b[0;32m    103\u001b[0m         reason_phrase,\n\u001b[0;32m    104\u001b[0m         headers,\n\u001b[0;32m    105\u001b[0m     )\n\u001b[0;32m    107\u001b[0m \u001b[38;5;28;01mreturn\u001b[39;00m Response(\n\u001b[0;32m    108\u001b[0m     status\u001b[38;5;241m=\u001b[39mstatus,\n\u001b[0;32m    109\u001b[0m     headers\u001b[38;5;241m=\u001b[39mheaders,\n\u001b[1;32m   (...)\u001b[0m\n\u001b[0;32m    115\u001b[0m     },\n\u001b[0;32m    116\u001b[0m )\n",
      "File \u001b[1;32mc:\\Users\\DO TUAN MINH\\AppData\\Local\\Programs\\Python\\Python312\\Lib\\site-packages\\httpcore\\_sync\\http11.py:164\u001b[0m, in \u001b[0;36mHTTP11Connection._receive_response_headers\u001b[1;34m(self, request)\u001b[0m\n\u001b[0;32m    161\u001b[0m timeout \u001b[38;5;241m=\u001b[39m timeouts\u001b[38;5;241m.\u001b[39mget(\u001b[38;5;124m\"\u001b[39m\u001b[38;5;124mread\u001b[39m\u001b[38;5;124m\"\u001b[39m, \u001b[38;5;28;01mNone\u001b[39;00m)\n\u001b[0;32m    163\u001b[0m \u001b[38;5;28;01mwhile\u001b[39;00m \u001b[38;5;28;01mTrue\u001b[39;00m:\n\u001b[1;32m--> 164\u001b[0m     event \u001b[38;5;241m=\u001b[39m \u001b[38;5;28;43mself\u001b[39;49m\u001b[38;5;241;43m.\u001b[39;49m\u001b[43m_receive_event\u001b[49m\u001b[43m(\u001b[49m\u001b[43mtimeout\u001b[49m\u001b[38;5;241;43m=\u001b[39;49m\u001b[43mtimeout\u001b[49m\u001b[43m)\u001b[49m\n\u001b[0;32m    165\u001b[0m     \u001b[38;5;28;01mif\u001b[39;00m \u001b[38;5;28misinstance\u001b[39m(event, h11\u001b[38;5;241m.\u001b[39mResponse):\n\u001b[0;32m    166\u001b[0m         \u001b[38;5;28;01mbreak\u001b[39;00m\n",
      "File \u001b[1;32mc:\\Users\\DO TUAN MINH\\AppData\\Local\\Programs\\Python\\Python312\\Lib\\site-packages\\httpcore\\_sync\\http11.py:200\u001b[0m, in \u001b[0;36mHTTP11Connection._receive_event\u001b[1;34m(self, timeout)\u001b[0m\n\u001b[0;32m    197\u001b[0m     event \u001b[38;5;241m=\u001b[39m \u001b[38;5;28mself\u001b[39m\u001b[38;5;241m.\u001b[39m_h11_state\u001b[38;5;241m.\u001b[39mnext_event()\n\u001b[0;32m    199\u001b[0m \u001b[38;5;28;01mif\u001b[39;00m event \u001b[38;5;129;01mis\u001b[39;00m h11\u001b[38;5;241m.\u001b[39mNEED_DATA:\n\u001b[1;32m--> 200\u001b[0m     data \u001b[38;5;241m=\u001b[39m \u001b[38;5;28;43mself\u001b[39;49m\u001b[38;5;241;43m.\u001b[39;49m\u001b[43m_network_stream\u001b[49m\u001b[38;5;241;43m.\u001b[39;49m\u001b[43mread\u001b[49m\u001b[43m(\u001b[49m\n\u001b[0;32m    201\u001b[0m \u001b[43m        \u001b[49m\u001b[38;5;28;43mself\u001b[39;49m\u001b[38;5;241;43m.\u001b[39;49m\u001b[43mREAD_NUM_BYTES\u001b[49m\u001b[43m,\u001b[49m\u001b[43m \u001b[49m\u001b[43mtimeout\u001b[49m\u001b[38;5;241;43m=\u001b[39;49m\u001b[43mtimeout\u001b[49m\n\u001b[0;32m    202\u001b[0m \u001b[43m    \u001b[49m\u001b[43m)\u001b[49m\n\u001b[0;32m    204\u001b[0m     \u001b[38;5;66;03m# If we feed this case through h11 we'll raise an exception like:\u001b[39;00m\n\u001b[0;32m    205\u001b[0m     \u001b[38;5;66;03m#\u001b[39;00m\n\u001b[0;32m    206\u001b[0m     \u001b[38;5;66;03m#     httpcore.RemoteProtocolError: can't handle event type\u001b[39;00m\n\u001b[1;32m   (...)\u001b[0m\n\u001b[0;32m    210\u001b[0m     \u001b[38;5;66;03m# perspective. Instead we handle this case distinctly and treat\u001b[39;00m\n\u001b[0;32m    211\u001b[0m     \u001b[38;5;66;03m# it as a ConnectError.\u001b[39;00m\n\u001b[0;32m    212\u001b[0m     \u001b[38;5;28;01mif\u001b[39;00m data \u001b[38;5;241m==\u001b[39m \u001b[38;5;124mb\u001b[39m\u001b[38;5;124m\"\u001b[39m\u001b[38;5;124m\"\u001b[39m \u001b[38;5;129;01mand\u001b[39;00m \u001b[38;5;28mself\u001b[39m\u001b[38;5;241m.\u001b[39m_h11_state\u001b[38;5;241m.\u001b[39mtheir_state \u001b[38;5;241m==\u001b[39m h11\u001b[38;5;241m.\u001b[39mSEND_RESPONSE:\n",
      "File \u001b[1;32mc:\\Users\\DO TUAN MINH\\AppData\\Local\\Programs\\Python\\Python312\\Lib\\site-packages\\httpcore\\_backends\\sync.py:28\u001b[0m, in \u001b[0;36mSyncStream.read\u001b[1;34m(self, max_bytes, timeout)\u001b[0m\n\u001b[0;32m     26\u001b[0m \u001b[38;5;28;01mwith\u001b[39;00m map_exceptions(exc_map):\n\u001b[0;32m     27\u001b[0m     \u001b[38;5;28mself\u001b[39m\u001b[38;5;241m.\u001b[39m_sock\u001b[38;5;241m.\u001b[39msettimeout(timeout)\n\u001b[1;32m---> 28\u001b[0m     \u001b[38;5;28;01mreturn\u001b[39;00m \u001b[38;5;28;43mself\u001b[39;49m\u001b[38;5;241;43m.\u001b[39;49m\u001b[43m_sock\u001b[49m\u001b[38;5;241;43m.\u001b[39;49m\u001b[43mrecv\u001b[49m\u001b[43m(\u001b[49m\u001b[43mmax_bytes\u001b[49m\u001b[43m)\u001b[49m\n",
      "File \u001b[1;32mc:\\Users\\DO TUAN MINH\\AppData\\Local\\Programs\\Python\\Python312\\Lib\\ssl.py:1234\u001b[0m, in \u001b[0;36mSSLSocket.recv\u001b[1;34m(self, buflen, flags)\u001b[0m\n\u001b[0;32m   1230\u001b[0m     \u001b[38;5;28;01mif\u001b[39;00m flags \u001b[38;5;241m!=\u001b[39m \u001b[38;5;241m0\u001b[39m:\n\u001b[0;32m   1231\u001b[0m         \u001b[38;5;28;01mraise\u001b[39;00m \u001b[38;5;167;01mValueError\u001b[39;00m(\n\u001b[0;32m   1232\u001b[0m             \u001b[38;5;124m\"\u001b[39m\u001b[38;5;124mnon-zero flags not allowed in calls to recv() on \u001b[39m\u001b[38;5;132;01m%s\u001b[39;00m\u001b[38;5;124m\"\u001b[39m \u001b[38;5;241m%\u001b[39m\n\u001b[0;32m   1233\u001b[0m             \u001b[38;5;28mself\u001b[39m\u001b[38;5;241m.\u001b[39m\u001b[38;5;18m__class__\u001b[39m)\n\u001b[1;32m-> 1234\u001b[0m     \u001b[38;5;28;01mreturn\u001b[39;00m \u001b[38;5;28;43mself\u001b[39;49m\u001b[38;5;241;43m.\u001b[39;49m\u001b[43mread\u001b[49m\u001b[43m(\u001b[49m\u001b[43mbuflen\u001b[49m\u001b[43m)\u001b[49m\n\u001b[0;32m   1235\u001b[0m \u001b[38;5;28;01melse\u001b[39;00m:\n\u001b[0;32m   1236\u001b[0m     \u001b[38;5;28;01mreturn\u001b[39;00m \u001b[38;5;28msuper\u001b[39m()\u001b[38;5;241m.\u001b[39mrecv(buflen, flags)\n",
      "File \u001b[1;32mc:\\Users\\DO TUAN MINH\\AppData\\Local\\Programs\\Python\\Python312\\Lib\\ssl.py:1107\u001b[0m, in \u001b[0;36mSSLSocket.read\u001b[1;34m(self, len, buffer)\u001b[0m\n\u001b[0;32m   1105\u001b[0m         \u001b[38;5;28;01mreturn\u001b[39;00m \u001b[38;5;28mself\u001b[39m\u001b[38;5;241m.\u001b[39m_sslobj\u001b[38;5;241m.\u001b[39mread(\u001b[38;5;28mlen\u001b[39m, buffer)\n\u001b[0;32m   1106\u001b[0m     \u001b[38;5;28;01melse\u001b[39;00m:\n\u001b[1;32m-> 1107\u001b[0m         \u001b[38;5;28;01mreturn\u001b[39;00m \u001b[38;5;28;43mself\u001b[39;49m\u001b[38;5;241;43m.\u001b[39;49m\u001b[43m_sslobj\u001b[49m\u001b[38;5;241;43m.\u001b[39;49m\u001b[43mread\u001b[49m\u001b[43m(\u001b[49m\u001b[38;5;28;43mlen\u001b[39;49m\u001b[43m)\u001b[49m\n\u001b[0;32m   1108\u001b[0m \u001b[38;5;28;01mexcept\u001b[39;00m SSLError \u001b[38;5;28;01mas\u001b[39;00m x:\n\u001b[0;32m   1109\u001b[0m     \u001b[38;5;28;01mif\u001b[39;00m x\u001b[38;5;241m.\u001b[39margs[\u001b[38;5;241m0\u001b[39m] \u001b[38;5;241m==\u001b[39m SSL_ERROR_EOF \u001b[38;5;129;01mand\u001b[39;00m \u001b[38;5;28mself\u001b[39m\u001b[38;5;241m.\u001b[39msuppress_ragged_eofs:\n",
      "\u001b[1;31mKeyboardInterrupt\u001b[0m: "
     ]
    }
   ],
   "source": [
    "scroll_offset = None\n",
    "batch_size = 100\n",
    "\n",
    "while True:\n",
    "    points, scroll_offset = client.scroll(\n",
    "        collection_name='flm_fap',\n",
    "        limit=batch_size,\n",
    "        offset=scroll_offset,\n",
    "        with_payload=True,\n",
    "        with_vectors=True\n",
    "    )\n",
    "    if not points:\n",
    "        break\n",
    "\n",
    "    print(f\"✅ Copied {len(points)} points, current offset: {scroll_offset}\")\n",
    "\n",
    "    batch = [\n",
    "        PointStruct(id=p.id, vector=p.vector, payload=p.payload)\n",
    "        for p in points\n",
    "    ]\n",
    "\n",
    "    success = safe_upsert(client, \"FINAL\", batch)\n",
    "    if not success:\n",
    "        print(\"❌ Failed to upload batch at offset:\", scroll_offset)\n",
    "\n",
    "    \n"
   ]
  },
  {
   "cell_type": "code",
   "execution_count": 59,
   "id": "beca85d9",
   "metadata": {},
   "outputs": [
    {
     "name": "stdout",
     "output_type": "stream",
     "text": [
      "✅ Batch 1 | Total scanned: 1000 | Unique types so far: 11\n",
      "✅ Batch 2 | Total scanned: 2000 | Unique types so far: 11\n",
      "✅ Batch 3 | Total scanned: 3000 | Unique types so far: 11\n",
      "✅ Batch 4 | Total scanned: 4000 | Unique types so far: 11\n",
      "✅ Batch 5 | Total scanned: 5000 | Unique types so far: 11\n",
      "✅ Batch 6 | Total scanned: 6000 | Unique types so far: 12\n",
      "✅ Batch 7 | Total scanned: 6611 | Unique types so far: 12\n",
      "✅ Batch 8 | Total scanned: 7611 | Unique types so far: 12\n"
     ]
    },
    {
     "ename": "KeyboardInterrupt",
     "evalue": "",
     "output_type": "error",
     "traceback": [
      "\u001b[1;31m---------------------------------------------------------------------------\u001b[0m",
      "\u001b[1;31mKeyboardInterrupt\u001b[0m                         Traceback (most recent call last)",
      "Cell \u001b[1;32mIn[59], line 7\u001b[0m\n\u001b[0;32m      4\u001b[0m batch_count \u001b[38;5;241m=\u001b[39m \u001b[38;5;241m0\u001b[39m\n\u001b[0;32m      6\u001b[0m \u001b[38;5;28;01mwhile\u001b[39;00m \u001b[38;5;28;01mTrue\u001b[39;00m:\n\u001b[1;32m----> 7\u001b[0m     points, scroll_offset \u001b[38;5;241m=\u001b[39m \u001b[43mclient\u001b[49m\u001b[38;5;241;43m.\u001b[39;49m\u001b[43mscroll\u001b[49m\u001b[43m(\u001b[49m\n\u001b[0;32m      8\u001b[0m \u001b[43m        \u001b[49m\u001b[43mcollection_name\u001b[49m\u001b[38;5;241;43m=\u001b[39;49m\u001b[38;5;124;43m\"\u001b[39;49m\u001b[38;5;124;43mFINAL\u001b[39;49m\u001b[38;5;124;43m\"\u001b[39;49m\u001b[43m,\u001b[49m\n\u001b[0;32m      9\u001b[0m \u001b[43m        \u001b[49m\u001b[43mlimit\u001b[49m\u001b[38;5;241;43m=\u001b[39;49m\u001b[38;5;241;43m1000\u001b[39;49m\u001b[43m,\u001b[49m\n\u001b[0;32m     10\u001b[0m \u001b[43m        \u001b[49m\u001b[43moffset\u001b[49m\u001b[38;5;241;43m=\u001b[39;49m\u001b[43mscroll_offset\u001b[49m\u001b[43m,\u001b[49m\n\u001b[0;32m     11\u001b[0m \u001b[43m        \u001b[49m\u001b[43mwith_payload\u001b[49m\u001b[38;5;241;43m=\u001b[39;49m\u001b[38;5;28;43;01mTrue\u001b[39;49;00m\u001b[43m,\u001b[49m\n\u001b[0;32m     12\u001b[0m \u001b[43m        \u001b[49m\u001b[43mwith_vectors\u001b[49m\u001b[38;5;241;43m=\u001b[39;49m\u001b[38;5;28;43;01mFalse\u001b[39;49;00m\n\u001b[0;32m     13\u001b[0m \u001b[43m    \u001b[49m\u001b[43m)\u001b[49m\n\u001b[0;32m     15\u001b[0m     \u001b[38;5;28;01mif\u001b[39;00m \u001b[38;5;129;01mnot\u001b[39;00m points:\n\u001b[0;32m     16\u001b[0m         \u001b[38;5;28;01mbreak\u001b[39;00m\n",
      "File \u001b[1;32mc:\\Users\\DO TUAN MINH\\AppData\\Local\\Programs\\Python\\Python312\\Lib\\site-packages\\qdrant_client\\qdrant_client.py:1459\u001b[0m, in \u001b[0;36mQdrantClient.scroll\u001b[1;34m(self, collection_name, scroll_filter, limit, order_by, offset, with_payload, with_vectors, consistency, shard_key_selector, timeout, **kwargs)\u001b[0m\n\u001b[0;32m   1417\u001b[0m \u001b[38;5;250m\u001b[39m\u001b[38;5;124;03m\"\"\"Scroll over all (matching) points in the collection.\u001b[39;00m\n\u001b[0;32m   1418\u001b[0m \n\u001b[0;32m   1419\u001b[0m \u001b[38;5;124;03mThis method provides a way to iterate over all stored points with some optional filtering condition.\u001b[39;00m\n\u001b[1;32m   (...)\u001b[0m\n\u001b[0;32m   1455\u001b[0m \u001b[38;5;124;03m    If next page offset is `None` - there is no more points in the collection to scroll.\u001b[39;00m\n\u001b[0;32m   1456\u001b[0m \u001b[38;5;124;03m\"\"\"\u001b[39;00m\n\u001b[0;32m   1457\u001b[0m \u001b[38;5;28;01massert\u001b[39;00m \u001b[38;5;28mlen\u001b[39m(kwargs) \u001b[38;5;241m==\u001b[39m \u001b[38;5;241m0\u001b[39m, \u001b[38;5;124mf\u001b[39m\u001b[38;5;124m\"\u001b[39m\u001b[38;5;124mUnknown arguments: \u001b[39m\u001b[38;5;132;01m{\u001b[39;00m\u001b[38;5;28mlist\u001b[39m(kwargs\u001b[38;5;241m.\u001b[39mkeys())\u001b[38;5;132;01m}\u001b[39;00m\u001b[38;5;124m\"\u001b[39m\n\u001b[1;32m-> 1459\u001b[0m \u001b[38;5;28;01mreturn\u001b[39;00m \u001b[38;5;28;43mself\u001b[39;49m\u001b[38;5;241;43m.\u001b[39;49m\u001b[43m_client\u001b[49m\u001b[38;5;241;43m.\u001b[39;49m\u001b[43mscroll\u001b[49m\u001b[43m(\u001b[49m\n\u001b[0;32m   1460\u001b[0m \u001b[43m    \u001b[49m\u001b[43mcollection_name\u001b[49m\u001b[38;5;241;43m=\u001b[39;49m\u001b[43mcollection_name\u001b[49m\u001b[43m,\u001b[49m\n\u001b[0;32m   1461\u001b[0m \u001b[43m    \u001b[49m\u001b[43mscroll_filter\u001b[49m\u001b[38;5;241;43m=\u001b[39;49m\u001b[43mscroll_filter\u001b[49m\u001b[43m,\u001b[49m\n\u001b[0;32m   1462\u001b[0m \u001b[43m    \u001b[49m\u001b[43mlimit\u001b[49m\u001b[38;5;241;43m=\u001b[39;49m\u001b[43mlimit\u001b[49m\u001b[43m,\u001b[49m\n\u001b[0;32m   1463\u001b[0m \u001b[43m    \u001b[49m\u001b[43morder_by\u001b[49m\u001b[38;5;241;43m=\u001b[39;49m\u001b[43morder_by\u001b[49m\u001b[43m,\u001b[49m\n\u001b[0;32m   1464\u001b[0m \u001b[43m    \u001b[49m\u001b[43moffset\u001b[49m\u001b[38;5;241;43m=\u001b[39;49m\u001b[43moffset\u001b[49m\u001b[43m,\u001b[49m\n\u001b[0;32m   1465\u001b[0m \u001b[43m    \u001b[49m\u001b[43mwith_payload\u001b[49m\u001b[38;5;241;43m=\u001b[39;49m\u001b[43mwith_payload\u001b[49m\u001b[43m,\u001b[49m\n\u001b[0;32m   1466\u001b[0m \u001b[43m    \u001b[49m\u001b[43mwith_vectors\u001b[49m\u001b[38;5;241;43m=\u001b[39;49m\u001b[43mwith_vectors\u001b[49m\u001b[43m,\u001b[49m\n\u001b[0;32m   1467\u001b[0m \u001b[43m    \u001b[49m\u001b[43mconsistency\u001b[49m\u001b[38;5;241;43m=\u001b[39;49m\u001b[43mconsistency\u001b[49m\u001b[43m,\u001b[49m\n\u001b[0;32m   1468\u001b[0m \u001b[43m    \u001b[49m\u001b[43mshard_key_selector\u001b[49m\u001b[38;5;241;43m=\u001b[39;49m\u001b[43mshard_key_selector\u001b[49m\u001b[43m,\u001b[49m\n\u001b[0;32m   1469\u001b[0m \u001b[43m    \u001b[49m\u001b[43mtimeout\u001b[49m\u001b[38;5;241;43m=\u001b[39;49m\u001b[43mtimeout\u001b[49m\u001b[43m,\u001b[49m\n\u001b[0;32m   1470\u001b[0m \u001b[43m    \u001b[49m\u001b[38;5;241;43m*\u001b[39;49m\u001b[38;5;241;43m*\u001b[39;49m\u001b[43mkwargs\u001b[49m\u001b[43m,\u001b[49m\n\u001b[0;32m   1471\u001b[0m \u001b[43m\u001b[49m\u001b[43m)\u001b[49m\n",
      "File \u001b[1;32mc:\\Users\\DO TUAN MINH\\AppData\\Local\\Programs\\Python\\Python312\\Lib\\site-packages\\qdrant_client\\qdrant_remote.py:1719\u001b[0m, in \u001b[0;36mQdrantRemote.scroll\u001b[1;34m(self, collection_name, scroll_filter, limit, order_by, offset, with_payload, with_vectors, consistency, shard_key_selector, timeout, **kwargs)\u001b[0m\n\u001b[0;32m   1715\u001b[0m \u001b[38;5;28;01mif\u001b[39;00m \u001b[38;5;28misinstance\u001b[39m(with_payload, grpc\u001b[38;5;241m.\u001b[39mWithPayloadSelector):\n\u001b[0;32m   1716\u001b[0m     with_payload \u001b[38;5;241m=\u001b[39m GrpcToRest\u001b[38;5;241m.\u001b[39mconvert_with_payload_selector(with_payload)\n\u001b[0;32m   1718\u001b[0m scroll_result: Optional[models\u001b[38;5;241m.\u001b[39mScrollResult] \u001b[38;5;241m=\u001b[39m (\n\u001b[1;32m-> 1719\u001b[0m     \u001b[38;5;28;43mself\u001b[39;49m\u001b[38;5;241;43m.\u001b[39;49m\u001b[43mopenapi_client\u001b[49m\u001b[38;5;241;43m.\u001b[39;49m\u001b[43mpoints_api\u001b[49m\u001b[38;5;241;43m.\u001b[39;49m\u001b[43mscroll_points\u001b[49m\u001b[43m(\u001b[49m\n\u001b[0;32m   1720\u001b[0m \u001b[43m        \u001b[49m\u001b[43mcollection_name\u001b[49m\u001b[38;5;241;43m=\u001b[39;49m\u001b[43mcollection_name\u001b[49m\u001b[43m,\u001b[49m\n\u001b[0;32m   1721\u001b[0m \u001b[43m        \u001b[49m\u001b[43mconsistency\u001b[49m\u001b[38;5;241;43m=\u001b[39;49m\u001b[43mconsistency\u001b[49m\u001b[43m,\u001b[49m\n\u001b[0;32m   1722\u001b[0m \u001b[43m        \u001b[49m\u001b[43mscroll_request\u001b[49m\u001b[38;5;241;43m=\u001b[39;49m\u001b[43mmodels\u001b[49m\u001b[38;5;241;43m.\u001b[39;49m\u001b[43mScrollRequest\u001b[49m\u001b[43m(\u001b[49m\n\u001b[0;32m   1723\u001b[0m \u001b[43m            \u001b[49m\u001b[38;5;28;43mfilter\u001b[39;49m\u001b[38;5;241;43m=\u001b[39;49m\u001b[43mscroll_filter\u001b[49m\u001b[43m,\u001b[49m\n\u001b[0;32m   1724\u001b[0m \u001b[43m            \u001b[49m\u001b[43mlimit\u001b[49m\u001b[38;5;241;43m=\u001b[39;49m\u001b[43mlimit\u001b[49m\u001b[43m,\u001b[49m\n\u001b[0;32m   1725\u001b[0m \u001b[43m            \u001b[49m\u001b[43morder_by\u001b[49m\u001b[38;5;241;43m=\u001b[39;49m\u001b[43morder_by\u001b[49m\u001b[43m,\u001b[49m\n\u001b[0;32m   1726\u001b[0m \u001b[43m            \u001b[49m\u001b[43moffset\u001b[49m\u001b[38;5;241;43m=\u001b[39;49m\u001b[43moffset\u001b[49m\u001b[43m,\u001b[49m\n\u001b[0;32m   1727\u001b[0m \u001b[43m            \u001b[49m\u001b[43mwith_payload\u001b[49m\u001b[38;5;241;43m=\u001b[39;49m\u001b[43mwith_payload\u001b[49m\u001b[43m,\u001b[49m\n\u001b[0;32m   1728\u001b[0m \u001b[43m            \u001b[49m\u001b[43mwith_vector\u001b[49m\u001b[38;5;241;43m=\u001b[39;49m\u001b[43mwith_vectors\u001b[49m\u001b[43m,\u001b[49m\n\u001b[0;32m   1729\u001b[0m \u001b[43m            \u001b[49m\u001b[43mshard_key\u001b[49m\u001b[38;5;241;43m=\u001b[39;49m\u001b[43mshard_key_selector\u001b[49m\u001b[43m,\u001b[49m\n\u001b[0;32m   1730\u001b[0m \u001b[43m        \u001b[49m\u001b[43m)\u001b[49m\u001b[43m,\u001b[49m\n\u001b[0;32m   1731\u001b[0m \u001b[43m        \u001b[49m\u001b[43mtimeout\u001b[49m\u001b[38;5;241;43m=\u001b[39;49m\u001b[43mtimeout\u001b[49m\u001b[43m,\u001b[49m\n\u001b[0;32m   1732\u001b[0m \u001b[43m    \u001b[49m\u001b[43m)\u001b[49m\u001b[38;5;241m.\u001b[39mresult\n\u001b[0;32m   1733\u001b[0m )\n\u001b[0;32m   1734\u001b[0m \u001b[38;5;28;01massert\u001b[39;00m scroll_result \u001b[38;5;129;01mis\u001b[39;00m \u001b[38;5;129;01mnot\u001b[39;00m \u001b[38;5;28;01mNone\u001b[39;00m, \u001b[38;5;124m\"\u001b[39m\u001b[38;5;124mScroll points API returned None result\u001b[39m\u001b[38;5;124m\"\u001b[39m\n\u001b[0;32m   1736\u001b[0m \u001b[38;5;28;01mreturn\u001b[39;00m scroll_result\u001b[38;5;241m.\u001b[39mpoints, scroll_result\u001b[38;5;241m.\u001b[39mnext_page_offset\n",
      "File \u001b[1;32mc:\\Users\\DO TUAN MINH\\AppData\\Local\\Programs\\Python\\Python312\\Lib\\site-packages\\qdrant_client\\http\\api\\points_api.py:936\u001b[0m, in \u001b[0;36mSyncPointsApi.scroll_points\u001b[1;34m(self, collection_name, consistency, timeout, scroll_request)\u001b[0m\n\u001b[0;32m    926\u001b[0m \u001b[38;5;28;01mdef\u001b[39;00m\u001b[38;5;250m \u001b[39m\u001b[38;5;21mscroll_points\u001b[39m(\n\u001b[0;32m    927\u001b[0m     \u001b[38;5;28mself\u001b[39m,\n\u001b[0;32m    928\u001b[0m     collection_name: \u001b[38;5;28mstr\u001b[39m,\n\u001b[1;32m   (...)\u001b[0m\n\u001b[0;32m    931\u001b[0m     scroll_request: m\u001b[38;5;241m.\u001b[39mScrollRequest \u001b[38;5;241m=\u001b[39m \u001b[38;5;28;01mNone\u001b[39;00m,\n\u001b[0;32m    932\u001b[0m ) \u001b[38;5;241m-\u001b[39m\u001b[38;5;241m>\u001b[39m m\u001b[38;5;241m.\u001b[39mInlineResponse20016:\n\u001b[0;32m    933\u001b[0m \u001b[38;5;250m    \u001b[39m\u001b[38;5;124;03m\"\"\"\u001b[39;00m\n\u001b[0;32m    934\u001b[0m \u001b[38;5;124;03m    Scroll request - paginate over all points which matches given filtering condition\u001b[39;00m\n\u001b[0;32m    935\u001b[0m \u001b[38;5;124;03m    \"\"\"\u001b[39;00m\n\u001b[1;32m--> 936\u001b[0m     \u001b[38;5;28;01mreturn\u001b[39;00m \u001b[38;5;28;43mself\u001b[39;49m\u001b[38;5;241;43m.\u001b[39;49m\u001b[43m_build_for_scroll_points\u001b[49m\u001b[43m(\u001b[49m\n\u001b[0;32m    937\u001b[0m \u001b[43m        \u001b[49m\u001b[43mcollection_name\u001b[49m\u001b[38;5;241;43m=\u001b[39;49m\u001b[43mcollection_name\u001b[49m\u001b[43m,\u001b[49m\n\u001b[0;32m    938\u001b[0m \u001b[43m        \u001b[49m\u001b[43mconsistency\u001b[49m\u001b[38;5;241;43m=\u001b[39;49m\u001b[43mconsistency\u001b[49m\u001b[43m,\u001b[49m\n\u001b[0;32m    939\u001b[0m \u001b[43m        \u001b[49m\u001b[43mtimeout\u001b[49m\u001b[38;5;241;43m=\u001b[39;49m\u001b[43mtimeout\u001b[49m\u001b[43m,\u001b[49m\n\u001b[0;32m    940\u001b[0m \u001b[43m        \u001b[49m\u001b[43mscroll_request\u001b[49m\u001b[38;5;241;43m=\u001b[39;49m\u001b[43mscroll_request\u001b[49m\u001b[43m,\u001b[49m\n\u001b[0;32m    941\u001b[0m \u001b[43m    \u001b[49m\u001b[43m)\u001b[49m\n",
      "File \u001b[1;32mc:\\Users\\DO TUAN MINH\\AppData\\Local\\Programs\\Python\\Python312\\Lib\\site-packages\\qdrant_client\\http\\api\\points_api.py:410\u001b[0m, in \u001b[0;36m_PointsApi._build_for_scroll_points\u001b[1;34m(self, collection_name, consistency, timeout, scroll_request)\u001b[0m\n\u001b[0;32m    408\u001b[0m \u001b[38;5;28;01mif\u001b[39;00m \u001b[38;5;124m\"\u001b[39m\u001b[38;5;124mContent-Type\u001b[39m\u001b[38;5;124m\"\u001b[39m \u001b[38;5;129;01mnot\u001b[39;00m \u001b[38;5;129;01min\u001b[39;00m headers:\n\u001b[0;32m    409\u001b[0m     headers[\u001b[38;5;124m\"\u001b[39m\u001b[38;5;124mContent-Type\u001b[39m\u001b[38;5;124m\"\u001b[39m] \u001b[38;5;241m=\u001b[39m \u001b[38;5;124m\"\u001b[39m\u001b[38;5;124mapplication/json\u001b[39m\u001b[38;5;124m\"\u001b[39m\n\u001b[1;32m--> 410\u001b[0m \u001b[38;5;28;01mreturn\u001b[39;00m \u001b[38;5;28;43mself\u001b[39;49m\u001b[38;5;241;43m.\u001b[39;49m\u001b[43mapi_client\u001b[49m\u001b[38;5;241;43m.\u001b[39;49m\u001b[43mrequest\u001b[49m\u001b[43m(\u001b[49m\n\u001b[0;32m    411\u001b[0m \u001b[43m    \u001b[49m\u001b[43mtype_\u001b[49m\u001b[38;5;241;43m=\u001b[39;49m\u001b[43mm\u001b[49m\u001b[38;5;241;43m.\u001b[39;49m\u001b[43mInlineResponse20016\u001b[49m\u001b[43m,\u001b[49m\n\u001b[0;32m    412\u001b[0m \u001b[43m    \u001b[49m\u001b[43mmethod\u001b[49m\u001b[38;5;241;43m=\u001b[39;49m\u001b[38;5;124;43m\"\u001b[39;49m\u001b[38;5;124;43mPOST\u001b[39;49m\u001b[38;5;124;43m\"\u001b[39;49m\u001b[43m,\u001b[49m\n\u001b[0;32m    413\u001b[0m \u001b[43m    \u001b[49m\u001b[43murl\u001b[49m\u001b[38;5;241;43m=\u001b[39;49m\u001b[38;5;124;43m\"\u001b[39;49m\u001b[38;5;124;43m/collections/\u001b[39;49m\u001b[38;5;132;43;01m{collection_name}\u001b[39;49;00m\u001b[38;5;124;43m/points/scroll\u001b[39;49m\u001b[38;5;124;43m\"\u001b[39;49m\u001b[43m,\u001b[49m\n\u001b[0;32m    414\u001b[0m \u001b[43m    \u001b[49m\u001b[43mheaders\u001b[49m\u001b[38;5;241;43m=\u001b[39;49m\u001b[43mheaders\u001b[49m\u001b[43m \u001b[49m\u001b[38;5;28;43;01mif\u001b[39;49;00m\u001b[43m \u001b[49m\u001b[43mheaders\u001b[49m\u001b[43m \u001b[49m\u001b[38;5;28;43;01melse\u001b[39;49;00m\u001b[43m \u001b[49m\u001b[38;5;28;43;01mNone\u001b[39;49;00m\u001b[43m,\u001b[49m\n\u001b[0;32m    415\u001b[0m \u001b[43m    \u001b[49m\u001b[43mpath_params\u001b[49m\u001b[38;5;241;43m=\u001b[39;49m\u001b[43mpath_params\u001b[49m\u001b[43m,\u001b[49m\n\u001b[0;32m    416\u001b[0m \u001b[43m    \u001b[49m\u001b[43mparams\u001b[49m\u001b[38;5;241;43m=\u001b[39;49m\u001b[43mquery_params\u001b[49m\u001b[43m,\u001b[49m\n\u001b[0;32m    417\u001b[0m \u001b[43m    \u001b[49m\u001b[43mcontent\u001b[49m\u001b[38;5;241;43m=\u001b[39;49m\u001b[43mbody\u001b[49m\u001b[43m,\u001b[49m\n\u001b[0;32m    418\u001b[0m \u001b[43m\u001b[49m\u001b[43m)\u001b[49m\n",
      "File \u001b[1;32mc:\\Users\\DO TUAN MINH\\AppData\\Local\\Programs\\Python\\Python312\\Lib\\site-packages\\qdrant_client\\http\\api_client.py:95\u001b[0m, in \u001b[0;36mApiClient.request\u001b[1;34m(self, type_, method, url, path_params, **kwargs)\u001b[0m\n\u001b[0;32m     93\u001b[0m     kwargs[\u001b[38;5;124m\"\u001b[39m\u001b[38;5;124mtimeout\u001b[39m\u001b[38;5;124m\"\u001b[39m] \u001b[38;5;241m=\u001b[39m \u001b[38;5;28mint\u001b[39m(kwargs[\u001b[38;5;124m\"\u001b[39m\u001b[38;5;124mparams\u001b[39m\u001b[38;5;124m\"\u001b[39m][\u001b[38;5;124m\"\u001b[39m\u001b[38;5;124mtimeout\u001b[39m\u001b[38;5;124m\"\u001b[39m])\n\u001b[0;32m     94\u001b[0m request \u001b[38;5;241m=\u001b[39m \u001b[38;5;28mself\u001b[39m\u001b[38;5;241m.\u001b[39m_client\u001b[38;5;241m.\u001b[39mbuild_request(method, url, \u001b[38;5;241m*\u001b[39m\u001b[38;5;241m*\u001b[39mkwargs)\n\u001b[1;32m---> 95\u001b[0m \u001b[38;5;28;01mreturn\u001b[39;00m \u001b[38;5;28;43mself\u001b[39;49m\u001b[38;5;241;43m.\u001b[39;49m\u001b[43msend\u001b[49m\u001b[43m(\u001b[49m\u001b[43mrequest\u001b[49m\u001b[43m,\u001b[49m\u001b[43m \u001b[49m\u001b[43mtype_\u001b[49m\u001b[43m)\u001b[49m\n",
      "File \u001b[1;32mc:\\Users\\DO TUAN MINH\\AppData\\Local\\Programs\\Python\\Python312\\Lib\\site-packages\\qdrant_client\\http\\api_client.py:112\u001b[0m, in \u001b[0;36mApiClient.send\u001b[1;34m(self, request, type_)\u001b[0m\n\u001b[0;32m    111\u001b[0m \u001b[38;5;28;01mdef\u001b[39;00m\u001b[38;5;250m \u001b[39m\u001b[38;5;21msend\u001b[39m(\u001b[38;5;28mself\u001b[39m, request: Request, type_: Type[T]) \u001b[38;5;241m-\u001b[39m\u001b[38;5;241m>\u001b[39m T:\n\u001b[1;32m--> 112\u001b[0m     response \u001b[38;5;241m=\u001b[39m \u001b[38;5;28;43mself\u001b[39;49m\u001b[38;5;241;43m.\u001b[39;49m\u001b[43mmiddleware\u001b[49m\u001b[43m(\u001b[49m\u001b[43mrequest\u001b[49m\u001b[43m,\u001b[49m\u001b[43m \u001b[49m\u001b[38;5;28;43mself\u001b[39;49m\u001b[38;5;241;43m.\u001b[39;49m\u001b[43msend_inner\u001b[49m\u001b[43m)\u001b[49m\n\u001b[0;32m    114\u001b[0m     \u001b[38;5;28;01mif\u001b[39;00m response\u001b[38;5;241m.\u001b[39mstatus_code \u001b[38;5;241m==\u001b[39m \u001b[38;5;241m429\u001b[39m:\n\u001b[0;32m    115\u001b[0m         retry_after_s \u001b[38;5;241m=\u001b[39m response\u001b[38;5;241m.\u001b[39mheaders\u001b[38;5;241m.\u001b[39mget(\u001b[38;5;124m\"\u001b[39m\u001b[38;5;124mRetry-After\u001b[39m\u001b[38;5;124m\"\u001b[39m, \u001b[38;5;28;01mNone\u001b[39;00m)\n",
      "File \u001b[1;32mc:\\Users\\DO TUAN MINH\\AppData\\Local\\Programs\\Python\\Python312\\Lib\\site-packages\\qdrant_client\\http\\api_client.py:250\u001b[0m, in \u001b[0;36mBaseMiddleware.__call__\u001b[1;34m(self, request, call_next)\u001b[0m\n\u001b[0;32m    249\u001b[0m \u001b[38;5;28;01mdef\u001b[39;00m\u001b[38;5;250m \u001b[39m\u001b[38;5;21m__call__\u001b[39m(\u001b[38;5;28mself\u001b[39m, request: Request, call_next: Send) \u001b[38;5;241m-\u001b[39m\u001b[38;5;241m>\u001b[39m Response:\n\u001b[1;32m--> 250\u001b[0m     \u001b[38;5;28;01mreturn\u001b[39;00m \u001b[43mcall_next\u001b[49m\u001b[43m(\u001b[49m\u001b[43mrequest\u001b[49m\u001b[43m)\u001b[49m\n",
      "File \u001b[1;32mc:\\Users\\DO TUAN MINH\\AppData\\Local\\Programs\\Python\\Python312\\Lib\\site-packages\\qdrant_client\\http\\api_client.py:134\u001b[0m, in \u001b[0;36mApiClient.send_inner\u001b[1;34m(self, request)\u001b[0m\n\u001b[0;32m    132\u001b[0m \u001b[38;5;28;01mdef\u001b[39;00m\u001b[38;5;250m \u001b[39m\u001b[38;5;21msend_inner\u001b[39m(\u001b[38;5;28mself\u001b[39m, request: Request) \u001b[38;5;241m-\u001b[39m\u001b[38;5;241m>\u001b[39m Response:\n\u001b[0;32m    133\u001b[0m     \u001b[38;5;28;01mtry\u001b[39;00m:\n\u001b[1;32m--> 134\u001b[0m         response \u001b[38;5;241m=\u001b[39m \u001b[38;5;28;43mself\u001b[39;49m\u001b[38;5;241;43m.\u001b[39;49m\u001b[43m_client\u001b[49m\u001b[38;5;241;43m.\u001b[39;49m\u001b[43msend\u001b[49m\u001b[43m(\u001b[49m\u001b[43mrequest\u001b[49m\u001b[43m)\u001b[49m\n\u001b[0;32m    135\u001b[0m     \u001b[38;5;28;01mexcept\u001b[39;00m \u001b[38;5;167;01mException\u001b[39;00m \u001b[38;5;28;01mas\u001b[39;00m e:\n\u001b[0;32m    136\u001b[0m         \u001b[38;5;28;01mraise\u001b[39;00m ResponseHandlingException(e)\n",
      "File \u001b[1;32mc:\\Users\\DO TUAN MINH\\AppData\\Local\\Programs\\Python\\Python312\\Lib\\site-packages\\httpx\\_client.py:915\u001b[0m, in \u001b[0;36mClient.send\u001b[1;34m(self, request, stream, auth, follow_redirects)\u001b[0m\n\u001b[0;32m    913\u001b[0m \u001b[38;5;28;01mexcept\u001b[39;00m \u001b[38;5;167;01mBaseException\u001b[39;00m \u001b[38;5;28;01mas\u001b[39;00m exc:\n\u001b[0;32m    914\u001b[0m     response\u001b[38;5;241m.\u001b[39mclose()\n\u001b[1;32m--> 915\u001b[0m     \u001b[38;5;28;01mraise\u001b[39;00m exc\n",
      "File \u001b[1;32mc:\\Users\\DO TUAN MINH\\AppData\\Local\\Programs\\Python\\Python312\\Lib\\site-packages\\httpx\\_client.py:909\u001b[0m, in \u001b[0;36mClient.send\u001b[1;34m(self, request, stream, auth, follow_redirects)\u001b[0m\n\u001b[0;32m    907\u001b[0m \u001b[38;5;28;01mtry\u001b[39;00m:\n\u001b[0;32m    908\u001b[0m     \u001b[38;5;28;01mif\u001b[39;00m \u001b[38;5;129;01mnot\u001b[39;00m stream:\n\u001b[1;32m--> 909\u001b[0m         \u001b[43mresponse\u001b[49m\u001b[38;5;241;43m.\u001b[39;49m\u001b[43mread\u001b[49m\u001b[43m(\u001b[49m\u001b[43m)\u001b[49m\n\u001b[0;32m    911\u001b[0m     \u001b[38;5;28;01mreturn\u001b[39;00m response\n\u001b[0;32m    913\u001b[0m \u001b[38;5;28;01mexcept\u001b[39;00m \u001b[38;5;167;01mBaseException\u001b[39;00m \u001b[38;5;28;01mas\u001b[39;00m exc:\n",
      "File \u001b[1;32mc:\\Users\\DO TUAN MINH\\AppData\\Local\\Programs\\Python\\Python312\\Lib\\site-packages\\httpx\\_models.py:805\u001b[0m, in \u001b[0;36mResponse.read\u001b[1;34m(self)\u001b[0m\n\u001b[0;32m    801\u001b[0m \u001b[38;5;250m\u001b[39m\u001b[38;5;124;03m\"\"\"\u001b[39;00m\n\u001b[0;32m    802\u001b[0m \u001b[38;5;124;03mRead and return the response content.\u001b[39;00m\n\u001b[0;32m    803\u001b[0m \u001b[38;5;124;03m\"\"\"\u001b[39;00m\n\u001b[0;32m    804\u001b[0m \u001b[38;5;28;01mif\u001b[39;00m \u001b[38;5;129;01mnot\u001b[39;00m \u001b[38;5;28mhasattr\u001b[39m(\u001b[38;5;28mself\u001b[39m, \u001b[38;5;124m\"\u001b[39m\u001b[38;5;124m_content\u001b[39m\u001b[38;5;124m\"\u001b[39m):\n\u001b[1;32m--> 805\u001b[0m     \u001b[38;5;28mself\u001b[39m\u001b[38;5;241m.\u001b[39m_content \u001b[38;5;241m=\u001b[39m \u001b[38;5;124;43mb\u001b[39;49m\u001b[38;5;124;43m\"\u001b[39;49m\u001b[38;5;124;43m\"\u001b[39;49m\u001b[38;5;241;43m.\u001b[39;49m\u001b[43mjoin\u001b[49m\u001b[43m(\u001b[49m\u001b[38;5;28;43mself\u001b[39;49m\u001b[38;5;241;43m.\u001b[39;49m\u001b[43miter_bytes\u001b[49m\u001b[43m(\u001b[49m\u001b[43m)\u001b[49m\u001b[43m)\u001b[49m\n\u001b[0;32m    806\u001b[0m \u001b[38;5;28;01mreturn\u001b[39;00m \u001b[38;5;28mself\u001b[39m\u001b[38;5;241m.\u001b[39m_content\n",
      "File \u001b[1;32mc:\\Users\\DO TUAN MINH\\AppData\\Local\\Programs\\Python\\Python312\\Lib\\site-packages\\httpx\\_models.py:823\u001b[0m, in \u001b[0;36mResponse.iter_bytes\u001b[1;34m(self, chunk_size)\u001b[0m\n\u001b[0;32m    821\u001b[0m chunker \u001b[38;5;241m=\u001b[39m ByteChunker(chunk_size\u001b[38;5;241m=\u001b[39mchunk_size)\n\u001b[0;32m    822\u001b[0m \u001b[38;5;28;01mwith\u001b[39;00m request_context(request\u001b[38;5;241m=\u001b[39m\u001b[38;5;28mself\u001b[39m\u001b[38;5;241m.\u001b[39m_request):\n\u001b[1;32m--> 823\u001b[0m \u001b[43m    \u001b[49m\u001b[38;5;28;43;01mfor\u001b[39;49;00m\u001b[43m \u001b[49m\u001b[43mraw_bytes\u001b[49m\u001b[43m \u001b[49m\u001b[38;5;129;43;01min\u001b[39;49;00m\u001b[43m \u001b[49m\u001b[38;5;28;43mself\u001b[39;49m\u001b[38;5;241;43m.\u001b[39;49m\u001b[43miter_raw\u001b[49m\u001b[43m(\u001b[49m\u001b[43m)\u001b[49m\u001b[43m:\u001b[49m\n\u001b[0;32m    824\u001b[0m \u001b[43m        \u001b[49m\u001b[43mdecoded\u001b[49m\u001b[43m \u001b[49m\u001b[38;5;241;43m=\u001b[39;49m\u001b[43m \u001b[49m\u001b[43mdecoder\u001b[49m\u001b[38;5;241;43m.\u001b[39;49m\u001b[43mdecode\u001b[49m\u001b[43m(\u001b[49m\u001b[43mraw_bytes\u001b[49m\u001b[43m)\u001b[49m\n\u001b[0;32m    825\u001b[0m \u001b[43m        \u001b[49m\u001b[38;5;28;43;01mfor\u001b[39;49;00m\u001b[43m \u001b[49m\u001b[43mchunk\u001b[49m\u001b[43m \u001b[49m\u001b[38;5;129;43;01min\u001b[39;49;00m\u001b[43m \u001b[49m\u001b[43mchunker\u001b[49m\u001b[38;5;241;43m.\u001b[39;49m\u001b[43mdecode\u001b[49m\u001b[43m(\u001b[49m\u001b[43mdecoded\u001b[49m\u001b[43m)\u001b[49m\u001b[43m:\u001b[49m\n",
      "File \u001b[1;32mc:\\Users\\DO TUAN MINH\\AppData\\Local\\Programs\\Python\\Python312\\Lib\\site-packages\\httpx\\_models.py:881\u001b[0m, in \u001b[0;36mResponse.iter_raw\u001b[1;34m(self, chunk_size)\u001b[0m\n\u001b[0;32m    878\u001b[0m chunker \u001b[38;5;241m=\u001b[39m ByteChunker(chunk_size\u001b[38;5;241m=\u001b[39mchunk_size)\n\u001b[0;32m    880\u001b[0m \u001b[38;5;28;01mwith\u001b[39;00m request_context(request\u001b[38;5;241m=\u001b[39m\u001b[38;5;28mself\u001b[39m\u001b[38;5;241m.\u001b[39m_request):\n\u001b[1;32m--> 881\u001b[0m \u001b[43m    \u001b[49m\u001b[38;5;28;43;01mfor\u001b[39;49;00m\u001b[43m \u001b[49m\u001b[43mraw_stream_bytes\u001b[49m\u001b[43m \u001b[49m\u001b[38;5;129;43;01min\u001b[39;49;00m\u001b[43m \u001b[49m\u001b[38;5;28;43mself\u001b[39;49m\u001b[38;5;241;43m.\u001b[39;49m\u001b[43mstream\u001b[49m\u001b[43m:\u001b[49m\n\u001b[0;32m    882\u001b[0m \u001b[43m        \u001b[49m\u001b[38;5;28;43mself\u001b[39;49m\u001b[38;5;241;43m.\u001b[39;49m\u001b[43m_num_bytes_downloaded\u001b[49m\u001b[43m \u001b[49m\u001b[38;5;241;43m+\u001b[39;49m\u001b[38;5;241;43m=\u001b[39;49m\u001b[43m \u001b[49m\u001b[38;5;28;43mlen\u001b[39;49m\u001b[43m(\u001b[49m\u001b[43mraw_stream_bytes\u001b[49m\u001b[43m)\u001b[49m\n\u001b[0;32m    883\u001b[0m \u001b[43m        \u001b[49m\u001b[38;5;28;43;01mfor\u001b[39;49;00m\u001b[43m \u001b[49m\u001b[43mchunk\u001b[49m\u001b[43m \u001b[49m\u001b[38;5;129;43;01min\u001b[39;49;00m\u001b[43m \u001b[49m\u001b[43mchunker\u001b[49m\u001b[38;5;241;43m.\u001b[39;49m\u001b[43mdecode\u001b[49m\u001b[43m(\u001b[49m\u001b[43mraw_stream_bytes\u001b[49m\u001b[43m)\u001b[49m\u001b[43m:\u001b[49m\n",
      "File \u001b[1;32mc:\\Users\\DO TUAN MINH\\AppData\\Local\\Programs\\Python\\Python312\\Lib\\site-packages\\httpx\\_client.py:123\u001b[0m, in \u001b[0;36mBoundSyncStream.__iter__\u001b[1;34m(self)\u001b[0m\n\u001b[0;32m    122\u001b[0m \u001b[38;5;28;01mdef\u001b[39;00m\u001b[38;5;250m \u001b[39m\u001b[38;5;21m__iter__\u001b[39m(\u001b[38;5;28mself\u001b[39m) \u001b[38;5;241m-\u001b[39m\u001b[38;5;241m>\u001b[39m typing\u001b[38;5;241m.\u001b[39mIterator[\u001b[38;5;28mbytes\u001b[39m]:\n\u001b[1;32m--> 123\u001b[0m \u001b[43m    \u001b[49m\u001b[38;5;28;43;01mfor\u001b[39;49;00m\u001b[43m \u001b[49m\u001b[43mchunk\u001b[49m\u001b[43m \u001b[49m\u001b[38;5;129;43;01min\u001b[39;49;00m\u001b[43m \u001b[49m\u001b[38;5;28;43mself\u001b[39;49m\u001b[38;5;241;43m.\u001b[39;49m\u001b[43m_stream\u001b[49m\u001b[43m:\u001b[49m\n\u001b[0;32m    124\u001b[0m \u001b[43m        \u001b[49m\u001b[38;5;28;43;01myield\u001b[39;49;00m\u001b[43m \u001b[49m\u001b[43mchunk\u001b[49m\n",
      "File \u001b[1;32mc:\\Users\\DO TUAN MINH\\AppData\\Local\\Programs\\Python\\Python312\\Lib\\site-packages\\httpx\\_transports\\default.py:104\u001b[0m, in \u001b[0;36mResponseStream.__iter__\u001b[1;34m(self)\u001b[0m\n\u001b[0;32m    102\u001b[0m \u001b[38;5;28;01mdef\u001b[39;00m\u001b[38;5;250m \u001b[39m\u001b[38;5;21m__iter__\u001b[39m(\u001b[38;5;28mself\u001b[39m) \u001b[38;5;241m-\u001b[39m\u001b[38;5;241m>\u001b[39m typing\u001b[38;5;241m.\u001b[39mIterator[\u001b[38;5;28mbytes\u001b[39m]:\n\u001b[0;32m    103\u001b[0m     \u001b[38;5;28;01mwith\u001b[39;00m map_httpcore_exceptions():\n\u001b[1;32m--> 104\u001b[0m \u001b[43m        \u001b[49m\u001b[38;5;28;43;01mfor\u001b[39;49;00m\u001b[43m \u001b[49m\u001b[43mpart\u001b[49m\u001b[43m \u001b[49m\u001b[38;5;129;43;01min\u001b[39;49;00m\u001b[43m \u001b[49m\u001b[38;5;28;43mself\u001b[39;49m\u001b[38;5;241;43m.\u001b[39;49m\u001b[43m_httpcore_stream\u001b[49m\u001b[43m:\u001b[49m\n\u001b[0;32m    105\u001b[0m \u001b[43m            \u001b[49m\u001b[38;5;28;43;01myield\u001b[39;49;00m\u001b[43m \u001b[49m\u001b[43mpart\u001b[49m\n",
      "File \u001b[1;32mc:\\Users\\DO TUAN MINH\\AppData\\Local\\Programs\\Python\\Python312\\Lib\\site-packages\\httpcore\\_sync\\connection_pool.py:347\u001b[0m, in \u001b[0;36mConnectionPoolByteStream.__iter__\u001b[1;34m(self)\u001b[0m\n\u001b[0;32m    346\u001b[0m \u001b[38;5;28;01mdef\u001b[39;00m\u001b[38;5;250m \u001b[39m\u001b[38;5;21m__iter__\u001b[39m(\u001b[38;5;28mself\u001b[39m) \u001b[38;5;241m-\u001b[39m\u001b[38;5;241m>\u001b[39m Iterator[\u001b[38;5;28mbytes\u001b[39m]:\n\u001b[1;32m--> 347\u001b[0m \u001b[43m    \u001b[49m\u001b[38;5;28;43;01mfor\u001b[39;49;00m\u001b[43m \u001b[49m\u001b[43mpart\u001b[49m\u001b[43m \u001b[49m\u001b[38;5;129;43;01min\u001b[39;49;00m\u001b[43m \u001b[49m\u001b[38;5;28;43mself\u001b[39;49m\u001b[38;5;241;43m.\u001b[39;49m\u001b[43m_stream\u001b[49m\u001b[43m:\u001b[49m\n\u001b[0;32m    348\u001b[0m \u001b[43m        \u001b[49m\u001b[38;5;28;43;01myield\u001b[39;49;00m\u001b[43m \u001b[49m\u001b[43mpart\u001b[49m\n",
      "File \u001b[1;32mc:\\Users\\DO TUAN MINH\\AppData\\Local\\Programs\\Python\\Python312\\Lib\\site-packages\\httpcore\\_sync\\http11.py:325\u001b[0m, in \u001b[0;36mHTTP11ConnectionByteStream.__iter__\u001b[1;34m(self)\u001b[0m\n\u001b[0;32m    323\u001b[0m \u001b[38;5;28;01mwith\u001b[39;00m ShieldCancellation():\n\u001b[0;32m    324\u001b[0m     \u001b[38;5;28mself\u001b[39m\u001b[38;5;241m.\u001b[39mclose()\n\u001b[1;32m--> 325\u001b[0m \u001b[38;5;28;01mraise\u001b[39;00m exc\n",
      "File \u001b[1;32mc:\\Users\\DO TUAN MINH\\AppData\\Local\\Programs\\Python\\Python312\\Lib\\site-packages\\httpcore\\_sync\\http11.py:317\u001b[0m, in \u001b[0;36mHTTP11ConnectionByteStream.__iter__\u001b[1;34m(self)\u001b[0m\n\u001b[0;32m    315\u001b[0m \u001b[38;5;28;01mtry\u001b[39;00m:\n\u001b[0;32m    316\u001b[0m     \u001b[38;5;28;01mwith\u001b[39;00m Trace(\u001b[38;5;124m\"\u001b[39m\u001b[38;5;124mreceive_response_body\u001b[39m\u001b[38;5;124m\"\u001b[39m, logger, \u001b[38;5;28mself\u001b[39m\u001b[38;5;241m.\u001b[39m_request, kwargs):\n\u001b[1;32m--> 317\u001b[0m \u001b[43m        \u001b[49m\u001b[38;5;28;43;01mfor\u001b[39;49;00m\u001b[43m \u001b[49m\u001b[43mchunk\u001b[49m\u001b[43m \u001b[49m\u001b[38;5;129;43;01min\u001b[39;49;00m\u001b[43m \u001b[49m\u001b[38;5;28;43mself\u001b[39;49m\u001b[38;5;241;43m.\u001b[39;49m\u001b[43m_connection\u001b[49m\u001b[38;5;241;43m.\u001b[39;49m\u001b[43m_receive_response_body\u001b[49m\u001b[43m(\u001b[49m\u001b[38;5;241;43m*\u001b[39;49m\u001b[38;5;241;43m*\u001b[39;49m\u001b[43mkwargs\u001b[49m\u001b[43m)\u001b[49m\u001b[43m:\u001b[49m\n\u001b[0;32m    318\u001b[0m \u001b[43m            \u001b[49m\u001b[38;5;28;43;01myield\u001b[39;49;00m\u001b[43m \u001b[49m\u001b[43mchunk\u001b[49m\n\u001b[0;32m    319\u001b[0m \u001b[38;5;28;01mexcept\u001b[39;00m \u001b[38;5;167;01mBaseException\u001b[39;00m \u001b[38;5;28;01mas\u001b[39;00m exc:\n\u001b[0;32m    320\u001b[0m     \u001b[38;5;66;03m# If we get an exception while streaming the response,\u001b[39;00m\n\u001b[0;32m    321\u001b[0m     \u001b[38;5;66;03m# we want to close the response (and possibly the connection)\u001b[39;00m\n\u001b[0;32m    322\u001b[0m     \u001b[38;5;66;03m# before raising that exception.\u001b[39;00m\n",
      "File \u001b[1;32mc:\\Users\\DO TUAN MINH\\AppData\\Local\\Programs\\Python\\Python312\\Lib\\site-packages\\httpcore\\_sync\\http11.py:186\u001b[0m, in \u001b[0;36mHTTP11Connection._receive_response_body\u001b[1;34m(self, request)\u001b[0m\n\u001b[0;32m    183\u001b[0m timeout \u001b[38;5;241m=\u001b[39m timeouts\u001b[38;5;241m.\u001b[39mget(\u001b[38;5;124m\"\u001b[39m\u001b[38;5;124mread\u001b[39m\u001b[38;5;124m\"\u001b[39m, \u001b[38;5;28;01mNone\u001b[39;00m)\n\u001b[0;32m    185\u001b[0m \u001b[38;5;28;01mwhile\u001b[39;00m \u001b[38;5;28;01mTrue\u001b[39;00m:\n\u001b[1;32m--> 186\u001b[0m     event \u001b[38;5;241m=\u001b[39m \u001b[38;5;28;43mself\u001b[39;49m\u001b[38;5;241;43m.\u001b[39;49m\u001b[43m_receive_event\u001b[49m\u001b[43m(\u001b[49m\u001b[43mtimeout\u001b[49m\u001b[38;5;241;43m=\u001b[39;49m\u001b[43mtimeout\u001b[49m\u001b[43m)\u001b[49m\n\u001b[0;32m    187\u001b[0m     \u001b[38;5;28;01mif\u001b[39;00m \u001b[38;5;28misinstance\u001b[39m(event, h11\u001b[38;5;241m.\u001b[39mData):\n\u001b[0;32m    188\u001b[0m         \u001b[38;5;28;01myield\u001b[39;00m \u001b[38;5;28mbytes\u001b[39m(event\u001b[38;5;241m.\u001b[39mdata)\n",
      "File \u001b[1;32mc:\\Users\\DO TUAN MINH\\AppData\\Local\\Programs\\Python\\Python312\\Lib\\site-packages\\httpcore\\_sync\\http11.py:200\u001b[0m, in \u001b[0;36mHTTP11Connection._receive_event\u001b[1;34m(self, timeout)\u001b[0m\n\u001b[0;32m    197\u001b[0m     event \u001b[38;5;241m=\u001b[39m \u001b[38;5;28mself\u001b[39m\u001b[38;5;241m.\u001b[39m_h11_state\u001b[38;5;241m.\u001b[39mnext_event()\n\u001b[0;32m    199\u001b[0m \u001b[38;5;28;01mif\u001b[39;00m event \u001b[38;5;129;01mis\u001b[39;00m h11\u001b[38;5;241m.\u001b[39mNEED_DATA:\n\u001b[1;32m--> 200\u001b[0m     data \u001b[38;5;241m=\u001b[39m \u001b[38;5;28;43mself\u001b[39;49m\u001b[38;5;241;43m.\u001b[39;49m\u001b[43m_network_stream\u001b[49m\u001b[38;5;241;43m.\u001b[39;49m\u001b[43mread\u001b[49m\u001b[43m(\u001b[49m\n\u001b[0;32m    201\u001b[0m \u001b[43m        \u001b[49m\u001b[38;5;28;43mself\u001b[39;49m\u001b[38;5;241;43m.\u001b[39;49m\u001b[43mREAD_NUM_BYTES\u001b[49m\u001b[43m,\u001b[49m\u001b[43m \u001b[49m\u001b[43mtimeout\u001b[49m\u001b[38;5;241;43m=\u001b[39;49m\u001b[43mtimeout\u001b[49m\n\u001b[0;32m    202\u001b[0m \u001b[43m    \u001b[49m\u001b[43m)\u001b[49m\n\u001b[0;32m    204\u001b[0m     \u001b[38;5;66;03m# If we feed this case through h11 we'll raise an exception like:\u001b[39;00m\n\u001b[0;32m    205\u001b[0m     \u001b[38;5;66;03m#\u001b[39;00m\n\u001b[0;32m    206\u001b[0m     \u001b[38;5;66;03m#     httpcore.RemoteProtocolError: can't handle event type\u001b[39;00m\n\u001b[1;32m   (...)\u001b[0m\n\u001b[0;32m    210\u001b[0m     \u001b[38;5;66;03m# perspective. Instead we handle this case distinctly and treat\u001b[39;00m\n\u001b[0;32m    211\u001b[0m     \u001b[38;5;66;03m# it as a ConnectError.\u001b[39;00m\n\u001b[0;32m    212\u001b[0m     \u001b[38;5;28;01mif\u001b[39;00m data \u001b[38;5;241m==\u001b[39m \u001b[38;5;124mb\u001b[39m\u001b[38;5;124m\"\u001b[39m\u001b[38;5;124m\"\u001b[39m \u001b[38;5;129;01mand\u001b[39;00m \u001b[38;5;28mself\u001b[39m\u001b[38;5;241m.\u001b[39m_h11_state\u001b[38;5;241m.\u001b[39mtheir_state \u001b[38;5;241m==\u001b[39m h11\u001b[38;5;241m.\u001b[39mSEND_RESPONSE:\n",
      "File \u001b[1;32mc:\\Users\\DO TUAN MINH\\AppData\\Local\\Programs\\Python\\Python312\\Lib\\site-packages\\httpcore\\_backends\\sync.py:28\u001b[0m, in \u001b[0;36mSyncStream.read\u001b[1;34m(self, max_bytes, timeout)\u001b[0m\n\u001b[0;32m     26\u001b[0m \u001b[38;5;28;01mwith\u001b[39;00m map_exceptions(exc_map):\n\u001b[0;32m     27\u001b[0m     \u001b[38;5;28mself\u001b[39m\u001b[38;5;241m.\u001b[39m_sock\u001b[38;5;241m.\u001b[39msettimeout(timeout)\n\u001b[1;32m---> 28\u001b[0m     \u001b[38;5;28;01mreturn\u001b[39;00m \u001b[38;5;28;43mself\u001b[39;49m\u001b[38;5;241;43m.\u001b[39;49m\u001b[43m_sock\u001b[49m\u001b[38;5;241;43m.\u001b[39;49m\u001b[43mrecv\u001b[49m\u001b[43m(\u001b[49m\u001b[43mmax_bytes\u001b[49m\u001b[43m)\u001b[49m\n",
      "File \u001b[1;32mc:\\Users\\DO TUAN MINH\\AppData\\Local\\Programs\\Python\\Python312\\Lib\\ssl.py:1234\u001b[0m, in \u001b[0;36mSSLSocket.recv\u001b[1;34m(self, buflen, flags)\u001b[0m\n\u001b[0;32m   1230\u001b[0m     \u001b[38;5;28;01mif\u001b[39;00m flags \u001b[38;5;241m!=\u001b[39m \u001b[38;5;241m0\u001b[39m:\n\u001b[0;32m   1231\u001b[0m         \u001b[38;5;28;01mraise\u001b[39;00m \u001b[38;5;167;01mValueError\u001b[39;00m(\n\u001b[0;32m   1232\u001b[0m             \u001b[38;5;124m\"\u001b[39m\u001b[38;5;124mnon-zero flags not allowed in calls to recv() on \u001b[39m\u001b[38;5;132;01m%s\u001b[39;00m\u001b[38;5;124m\"\u001b[39m \u001b[38;5;241m%\u001b[39m\n\u001b[0;32m   1233\u001b[0m             \u001b[38;5;28mself\u001b[39m\u001b[38;5;241m.\u001b[39m\u001b[38;5;18m__class__\u001b[39m)\n\u001b[1;32m-> 1234\u001b[0m     \u001b[38;5;28;01mreturn\u001b[39;00m \u001b[38;5;28;43mself\u001b[39;49m\u001b[38;5;241;43m.\u001b[39;49m\u001b[43mread\u001b[49m\u001b[43m(\u001b[49m\u001b[43mbuflen\u001b[49m\u001b[43m)\u001b[49m\n\u001b[0;32m   1235\u001b[0m \u001b[38;5;28;01melse\u001b[39;00m:\n\u001b[0;32m   1236\u001b[0m     \u001b[38;5;28;01mreturn\u001b[39;00m \u001b[38;5;28msuper\u001b[39m()\u001b[38;5;241m.\u001b[39mrecv(buflen, flags)\n",
      "File \u001b[1;32mc:\\Users\\DO TUAN MINH\\AppData\\Local\\Programs\\Python\\Python312\\Lib\\ssl.py:1107\u001b[0m, in \u001b[0;36mSSLSocket.read\u001b[1;34m(self, len, buffer)\u001b[0m\n\u001b[0;32m   1105\u001b[0m         \u001b[38;5;28;01mreturn\u001b[39;00m \u001b[38;5;28mself\u001b[39m\u001b[38;5;241m.\u001b[39m_sslobj\u001b[38;5;241m.\u001b[39mread(\u001b[38;5;28mlen\u001b[39m, buffer)\n\u001b[0;32m   1106\u001b[0m     \u001b[38;5;28;01melse\u001b[39;00m:\n\u001b[1;32m-> 1107\u001b[0m         \u001b[38;5;28;01mreturn\u001b[39;00m \u001b[38;5;28;43mself\u001b[39;49m\u001b[38;5;241;43m.\u001b[39;49m\u001b[43m_sslobj\u001b[49m\u001b[38;5;241;43m.\u001b[39;49m\u001b[43mread\u001b[49m\u001b[43m(\u001b[49m\u001b[38;5;28;43mlen\u001b[39;49m\u001b[43m)\u001b[49m\n\u001b[0;32m   1108\u001b[0m \u001b[38;5;28;01mexcept\u001b[39;00m SSLError \u001b[38;5;28;01mas\u001b[39;00m x:\n\u001b[0;32m   1109\u001b[0m     \u001b[38;5;28;01mif\u001b[39;00m x\u001b[38;5;241m.\u001b[39margs[\u001b[38;5;241m0\u001b[39m] \u001b[38;5;241m==\u001b[39m SSL_ERROR_EOF \u001b[38;5;129;01mand\u001b[39;00m \u001b[38;5;28mself\u001b[39m\u001b[38;5;241m.\u001b[39msuppress_ragged_eofs:\n",
      "\u001b[1;31mKeyboardInterrupt\u001b[0m: "
     ]
    }
   ],
   "source": [
    "all_types = set()\n",
    "scroll_offset = None\n",
    "total_points = 0\n",
    "batch_count = 0\n",
    "\n",
    "while True:\n",
    "    points, scroll_offset = client.scroll(\n",
    "        collection_name=\"FINAL\",\n",
    "        limit=1000,\n",
    "        offset=scroll_offset,\n",
    "        with_payload=True,\n",
    "        with_vectors=False\n",
    "    )\n",
    "    \n",
    "    if not points:\n",
    "        break\n",
    "\n",
    "    for p in points:\n",
    "        # Nếu payload có trường \"type\" thì thêm vào tập hợp\n",
    "        if \"type\" in p.payload:\n",
    "            all_types.add(p.payload[\"type\"])\n",
    "\n",
    "    total_points += len(points)\n",
    "    batch_count += 1\n",
    "    print(f\"✅ Batch {batch_count} | Total scanned: {total_points} | Unique types so far: {len(all_types)}\")\n",
    "\n",
    "print(\"\\n📌 Unique `type` values found in collection:\")\n",
    "for t in sorted(all_types):\n",
    "    print(\"  -\", t)"
   ]
  },
  {
   "cell_type": "code",
   "execution_count": 60,
   "id": "18753bc8",
   "metadata": {},
   "outputs": [
    {
     "name": "stdout",
     "output_type": "stream",
     "text": [
      "  - assessment\n",
      "  - attendance\n",
      "  - construtive_question\n",
      "  - course summary\n",
      "  - grade detail\n",
      "  - guide\n",
      "  - learning outcome\n",
      "  - material\n",
      "  - overview\n",
      "  - session\n",
      "  - student profile\n",
      "  - student_list\n"
     ]
    }
   ],
   "source": [
    "for t in sorted(all_types):\n",
    "    print(\"  -\", t)"
   ]
  },
  {
   "cell_type": "code",
   "execution_count": 211,
   "id": "16f05c6f",
   "metadata": {},
   "outputs": [
    {
     "data": {
      "application/vnd.jupyter.widget-view+json": {
       "model_id": "98c3ea4bedfe43fea9fe42f4b7b50431",
       "version_major": 2,
       "version_minor": 0
      },
      "text/plain": [
       "Batches:   0%|          | 0/1 [00:00<?, ?it/s]"
      ]
     },
     "metadata": {},
     "output_type": "display_data"
    },
    {
     "data": {
      "application/vnd.jupyter.widget-view+json": {
       "model_id": "6a2e58cd4674489bad40ca9d221a4722",
       "version_major": 2,
       "version_minor": 0
      },
      "text/plain": [
       "Batches:   0%|          | 0/1 [00:00<?, ?it/s]"
      ]
     },
     "metadata": {},
     "output_type": "display_data"
    },
    {
     "data": {
      "application/vnd.jupyter.widget-view+json": {
       "model_id": "fc84f13fb90c498eaf4b1cd4c10ec72d",
       "version_major": 2,
       "version_minor": 0
      },
      "text/plain": [
       "Batches:   0%|          | 0/1 [00:00<?, ?it/s]"
      ]
     },
     "metadata": {},
     "output_type": "display_data"
    },
    {
     "data": {
      "application/vnd.jupyter.widget-view+json": {
       "model_id": "8239ede8dcda442285397ab531e3ec31",
       "version_major": 2,
       "version_minor": 0
      },
      "text/plain": [
       "Batches:   0%|          | 0/1 [00:00<?, ?it/s]"
      ]
     },
     "metadata": {},
     "output_type": "display_data"
    },
    {
     "data": {
      "application/vnd.jupyter.widget-view+json": {
       "model_id": "a6f53cf3387a4e6c9513db539fc7ce4f",
       "version_major": 2,
       "version_minor": 0
      },
      "text/plain": [
       "Batches:   0%|          | 0/1 [00:00<?, ?it/s]"
      ]
     },
     "metadata": {},
     "output_type": "display_data"
    },
    {
     "data": {
      "application/vnd.jupyter.widget-view+json": {
       "model_id": "506413c19a144f32917f7fe3a3e429b6",
       "version_major": 2,
       "version_minor": 0
      },
      "text/plain": [
       "Batches:   0%|          | 0/1 [00:00<?, ?it/s]"
      ]
     },
     "metadata": {},
     "output_type": "display_data"
    },
    {
     "data": {
      "application/vnd.jupyter.widget-view+json": {
       "model_id": "2eb5b1c5f8924f649eb8b2b91c8ecf98",
       "version_major": 2,
       "version_minor": 0
      },
      "text/plain": [
       "Batches:   0%|          | 0/1 [00:00<?, ?it/s]"
      ]
     },
     "metadata": {},
     "output_type": "display_data"
    },
    {
     "data": {
      "application/vnd.jupyter.widget-view+json": {
       "model_id": "28cbd786883f4d4687f6fd300fd4d642",
       "version_major": 2,
       "version_minor": 0
      },
      "text/plain": [
       "Batches:   0%|          | 0/1 [00:00<?, ?it/s]"
      ]
     },
     "metadata": {},
     "output_type": "display_data"
    },
    {
     "data": {
      "application/vnd.jupyter.widget-view+json": {
       "model_id": "b63a056bbb03480cb8d734a9a399a4df",
       "version_major": 2,
       "version_minor": 0
      },
      "text/plain": [
       "Batches:   0%|          | 0/1 [00:00<?, ?it/s]"
      ]
     },
     "metadata": {},
     "output_type": "display_data"
    },
    {
     "data": {
      "application/vnd.jupyter.widget-view+json": {
       "model_id": "51e71311324341589b111156333f4ac7",
       "version_major": 2,
       "version_minor": 0
      },
      "text/plain": [
       "Batches:   0%|          | 0/1 [00:00<?, ?it/s]"
      ]
     },
     "metadata": {},
     "output_type": "display_data"
    },
    {
     "data": {
      "application/vnd.jupyter.widget-view+json": {
       "model_id": "2befe1cc62c442dcae30fe97c6175943",
       "version_major": 2,
       "version_minor": 0
      },
      "text/plain": [
       "Batches:   0%|          | 0/1 [00:00<?, ?it/s]"
      ]
     },
     "metadata": {},
     "output_type": "display_data"
    },
    {
     "data": {
      "application/vnd.jupyter.widget-view+json": {
       "model_id": "fcada55b84014b8aa55ae4fc411fe528",
       "version_major": 2,
       "version_minor": 0
      },
      "text/plain": [
       "Batches:   0%|          | 0/1 [00:00<?, ?it/s]"
      ]
     },
     "metadata": {},
     "output_type": "display_data"
    },
    {
     "data": {
      "application/vnd.jupyter.widget-view+json": {
       "model_id": "3a6cc2e68baa40c0a72ce1afb10403c0",
       "version_major": 2,
       "version_minor": 0
      },
      "text/plain": [
       "Batches:   0%|          | 0/1 [00:00<?, ?it/s]"
      ]
     },
     "metadata": {},
     "output_type": "display_data"
    },
    {
     "data": {
      "application/vnd.jupyter.widget-view+json": {
       "model_id": "10f10016b8644a35b0cc6711393870b6",
       "version_major": 2,
       "version_minor": 0
      },
      "text/plain": [
       "Batches:   0%|          | 0/1 [00:00<?, ?it/s]"
      ]
     },
     "metadata": {},
     "output_type": "display_data"
    },
    {
     "data": {
      "application/vnd.jupyter.widget-view+json": {
       "model_id": "c837b52646794a4bb4624fa3a0889a38",
       "version_major": 2,
       "version_minor": 0
      },
      "text/plain": [
       "Batches:   0%|          | 0/1 [00:00<?, ?it/s]"
      ]
     },
     "metadata": {},
     "output_type": "display_data"
    },
    {
     "data": {
      "application/vnd.jupyter.widget-view+json": {
       "model_id": "09c92a6b6048408baa3b04a3388abe36",
       "version_major": 2,
       "version_minor": 0
      },
      "text/plain": [
       "Batches:   0%|          | 0/1 [00:00<?, ?it/s]"
      ]
     },
     "metadata": {},
     "output_type": "display_data"
    },
    {
     "data": {
      "application/vnd.jupyter.widget-view+json": {
       "model_id": "47049bbf2baf476885cbf233b50b81cd",
       "version_major": 2,
       "version_minor": 0
      },
      "text/plain": [
       "Batches:   0%|          | 0/1 [00:00<?, ?it/s]"
      ]
     },
     "metadata": {},
     "output_type": "display_data"
    },
    {
     "data": {
      "application/vnd.jupyter.widget-view+json": {
       "model_id": "2db610e44ecc4c7582930869078711eb",
       "version_major": 2,
       "version_minor": 0
      },
      "text/plain": [
       "Batches:   0%|          | 0/1 [00:00<?, ?it/s]"
      ]
     },
     "metadata": {},
     "output_type": "display_data"
    },
    {
     "data": {
      "application/vnd.jupyter.widget-view+json": {
       "model_id": "e14db6e999cf43c39d0a10538924316f",
       "version_major": 2,
       "version_minor": 0
      },
      "text/plain": [
       "Batches:   0%|          | 0/1 [00:00<?, ?it/s]"
      ]
     },
     "metadata": {},
     "output_type": "display_data"
    },
    {
     "data": {
      "application/vnd.jupyter.widget-view+json": {
       "model_id": "73cb08be281f4a2b8f867662285c7aa8",
       "version_major": 2,
       "version_minor": 0
      },
      "text/plain": [
       "Batches:   0%|          | 0/1 [00:00<?, ?it/s]"
      ]
     },
     "metadata": {},
     "output_type": "display_data"
    },
    {
     "data": {
      "application/vnd.jupyter.widget-view+json": {
       "model_id": "e8777cca1b7043018c0ec6b265689ea6",
       "version_major": 2,
       "version_minor": 0
      },
      "text/plain": [
       "Batches:   0%|          | 0/1 [00:00<?, ?it/s]"
      ]
     },
     "metadata": {},
     "output_type": "display_data"
    },
    {
     "data": {
      "application/vnd.jupyter.widget-view+json": {
       "model_id": "8db8ddf62bf94b94821ffe12505c7ceb",
       "version_major": 2,
       "version_minor": 0
      },
      "text/plain": [
       "Batches:   0%|          | 0/1 [00:00<?, ?it/s]"
      ]
     },
     "metadata": {},
     "output_type": "display_data"
    },
    {
     "data": {
      "application/vnd.jupyter.widget-view+json": {
       "model_id": "aad8f8f7def245aeb3d1cda428fb34ea",
       "version_major": 2,
       "version_minor": 0
      },
      "text/plain": [
       "Batches:   0%|          | 0/1 [00:00<?, ?it/s]"
      ]
     },
     "metadata": {},
     "output_type": "display_data"
    },
    {
     "data": {
      "application/vnd.jupyter.widget-view+json": {
       "model_id": "055083f584304ac4b578e42697155c58",
       "version_major": 2,
       "version_minor": 0
      },
      "text/plain": [
       "Batches:   0%|          | 0/1 [00:00<?, ?it/s]"
      ]
     },
     "metadata": {},
     "output_type": "display_data"
    },
    {
     "data": {
      "application/vnd.jupyter.widget-view+json": {
       "model_id": "176c943645bc42fe92c755183642968d",
       "version_major": 2,
       "version_minor": 0
      },
      "text/plain": [
       "Batches:   0%|          | 0/1 [00:00<?, ?it/s]"
      ]
     },
     "metadata": {},
     "output_type": "display_data"
    },
    {
     "data": {
      "application/vnd.jupyter.widget-view+json": {
       "model_id": "c276d2792f804f86ad218c90a4048a2b",
       "version_major": 2,
       "version_minor": 0
      },
      "text/plain": [
       "Batches:   0%|          | 0/1 [00:00<?, ?it/s]"
      ]
     },
     "metadata": {},
     "output_type": "display_data"
    },
    {
     "data": {
      "application/vnd.jupyter.widget-view+json": {
       "model_id": "7ab63be6132f4f22b7e1297f15029716",
       "version_major": 2,
       "version_minor": 0
      },
      "text/plain": [
       "Batches:   0%|          | 0/1 [00:00<?, ?it/s]"
      ]
     },
     "metadata": {},
     "output_type": "display_data"
    },
    {
     "data": {
      "application/vnd.jupyter.widget-view+json": {
       "model_id": "e981f3a2733d49519077521c9e95d90d",
       "version_major": 2,
       "version_minor": 0
      },
      "text/plain": [
       "Batches:   0%|          | 0/1 [00:00<?, ?it/s]"
      ]
     },
     "metadata": {},
     "output_type": "display_data"
    },
    {
     "data": {
      "application/vnd.jupyter.widget-view+json": {
       "model_id": "5280f772d1fe4ea09a4ab4a139a7efb1",
       "version_major": 2,
       "version_minor": 0
      },
      "text/plain": [
       "Batches:   0%|          | 0/1 [00:00<?, ?it/s]"
      ]
     },
     "metadata": {},
     "output_type": "display_data"
    }
   ],
   "source": [
    "# subject_alias = {\n",
    "#     \"OTP101\": \"Chương trình định hướng, Nghĩa vụ quân sự\",\n",
    "#     \"VOV114\": \"Vovinam căn bản\",\n",
    "#     \"DSA103\": \"Nhạc cụ truyền thống\",\n",
    "#     \"CSI105\": \"Nhập môn Khoa học Máy tính\",\n",
    "#     \"MAE101\": \"Toán cho kỹ thuật/Đại số tuyến tính\",\n",
    "#     \"VOV124\": \"Vovinam nâng cao\",\n",
    "#     \"MAD101\": \"Toán rời rạc\",\n",
    "#     \"PFP191\": \"Lập trình Python cơ bản\",\n",
    "#     \"SSL101c\": \"Kỹ năng học đại học\",\n",
    "#     \"CEA201\": \"Kiến trúc máy tính\",\n",
    "#     \"AIG202c\": \"Trí tuệ nhân tạo\",\n",
    "#     \"VOV134\": \"Vovinam nâng cao 2\",\n",
    "#     \"SSG104\": \"Kỹ năng giao tiếp và làm việc nhóm\",\n",
    "#     \"DBI202\": \"Hệ quản trị cơ sở dữ liệu\",\n",
    "#     \"CSD203\": \"Cấu trúc dữ liệu và giải thuật Python\",\n",
    "#     \"ITE303c\": \"Đạo đức nghề nghiệp CNTT\",\n",
    "#     \"MAI391\": \"Toán cao cấp\",\n",
    "#     \"MAS291\": \"Xác suất thống kê\",\n",
    "#     \"ADY201m\": \"AI, DS với Python & SQL\",\n",
    "#     \"JPD113\": \"Tiếng Nhật sơ cấp 1-A1.1\",\n",
    "#     \"JPD123\": \"Tiếng Nhật sơ cấp 1-A1.2\",\n",
    "#     \"AIL303m\": \"Machine Learning\",\n",
    "#     \"CPV301\": \"Thị giác máy tính\",\n",
    "#     \"DAP391m\": \"Dự án AI-DS\",\n",
    "#     \"SWE201c\": \"Nhập môn Kỹ thuật phần mềm\",\n",
    "#     \"TMG301\": \"Text Mining\",\n",
    "#     \"SEG301\": \"Search Engines\",\n",
    "#     \"DPL302m\": \"Deep Learning\",\n",
    "#     \"DWP301c\": \"Lập trình web với Python\"\n",
    "# }\n",
    "subject_map = {row[\"course_code\"]: f\"{row[\"course_code\"]} - {row[\"course_name\"]}\" \n",
    "               for _, row in attendance_reports[[\"course_code\", \"course_name\"]].dropna().drop_duplicates().iterrows()}\n",
    "subject_embeddings = {\n",
    "    code: embedder.embed([embedder.prefix + name])[0]\n",
    "    for code, name in subject_map.items()\n",
    "}"
   ]
  },
  {
   "cell_type": "code",
   "execution_count": 212,
   "id": "d5a104eb",
   "metadata": {},
   "outputs": [],
   "source": [
    "# print(subject_embeddings)"
   ]
  },
  {
   "cell_type": "code",
   "execution_count": 220,
   "id": "ebe8ce84",
   "metadata": {},
   "outputs": [
    {
     "data": {
      "application/vnd.jupyter.widget-view+json": {
       "model_id": "8539d7cb91ce419e8884efd5a7c5cc34",
       "version_major": 2,
       "version_minor": 0
      },
      "text/plain": [
       "Batches:   0%|          | 0/1 [00:00<?, ?it/s]"
      ]
     },
     "metadata": {},
     "output_type": "display_data"
    },
    {
     "name": "stdout",
     "output_type": "stream",
     "text": [
      "[('DPL302m', 0.7501127), ('ADY201m', 0.74621), ('AIG202c', 0.7443107), ('AIL303m', 0.734198), ('MAI391', 0.72010875)]\n"
     ]
    }
   ],
   "source": [
    "from numpy import dot\n",
    "from numpy.linalg import norm\n",
    "import heapq\n",
    "def detect_subject_from_query(query, subject_embeddings, top_k = 1):\n",
    "    query_vec = embedder.embed([query])[0]\n",
    "\n",
    "    sims = {\n",
    "    code: dot(query_vec, emb) / (norm(query_vec) * norm(emb))\n",
    "    for code, emb in subject_embeddings.items()\n",
    "    } \n",
    "\n",
    "    top_subjects = heapq.nlargest(top_k, sims.items(), key=lambda x: x[1])\n",
    "    return top_subjects\n",
    "def detect_type_from_query(query, type_embeddings, top_k = 1):\n",
    "    query_vec = embedder.embed([query])[0]\n",
    "\n",
    "    sims = {\n",
    "    code: dot(query_vec, emb) / (norm(query_vec) * norm(emb))\n",
    "    for code, emb in type_embeddings.items()\n",
    "    } \n",
    "\n",
    "    top_subjects = heapq.nlargest(top_k, sims.items(), key=lambda x: x[1])\n",
    "    return top_subjects\n",
    "def detect_term_from_query(query, term_embeddings, top_k = 1):\n",
    "    query_vec = embedder.embed([query])[0]\n",
    "\n",
    "    sims = {\n",
    "    term: dot(query_vec, emb) / (norm(query_vec) * norm(emb))\n",
    "    for term, emb in term_embeddings.items()\n",
    "    } \n",
    "\n",
    "    top_terms = heapq.nlargest(top_k, sims.items(), key=lambda x: x[1])\n",
    "    return top_terms\n",
    "\n",
    "query_test_sub = \"khoa học máy tính, deeplearning, ai\"\n",
    "main_sub = detect_subject_from_query(query_test_sub, subject_embeddings, top_k=5)\n",
    "print(main_sub)\n"
   ]
  },
  {
   "cell_type": "code",
   "execution_count": 214,
   "id": "a7c6488e",
   "metadata": {},
   "outputs": [
    {
     "name": "stdout",
     "output_type": "stream",
     "text": [
      "Translated text: Chào mừng bạn đến với khóa học về công cụ tìm kiếm. Trong khóa học này, chúng tôi sẽ khám phá các nguyên tắc cơ bản của công nghệ công cụ tìm kiếm, bao gồm lập chỉ mục, truy vấn và thuật toán xếp hạng. Bạn sẽ học cách xây dựng các hệ thống tìm kiếm hiệu quả và hiểu những thách thức liên quan đến việc xử lý các bộ dữ liệu lớn.\n"
     ]
    }
   ],
   "source": [
    "from deep_translator import GoogleTranslator\n",
    "\n",
    "def translate_en_to_vi_google(text):\n",
    "    return GoogleTranslator(source='en', target='vi').translate(text)\n",
    "text = \"welcome to the course on Search Engines. In this course, we will explore the fundamentals of search engine technology, including indexing, querying, and ranking algorithms. You will learn how to build efficient search systems and understand the challenges involved in processing large datasets.\"\n",
    "translated_text = translate_en_to_vi_google(text)\n",
    "print(f\"Translated text: {translated_text}\")"
   ]
  },
  {
   "cell_type": "code",
   "execution_count": null,
   "id": "0351e7c5",
   "metadata": {},
   "outputs": [
    {
     "data": {
      "application/vnd.jupyter.widget-view+json": {
       "model_id": "5823f74b17f848298eb490b08caa2120",
       "version_major": 2,
       "version_minor": 0
      },
      "text/plain": [
       "Batches:   0%|          | 0/1 [00:00<?, ?it/s]"
      ]
     },
     "metadata": {},
     "output_type": "display_data"
    },
    {
     "data": {
      "application/vnd.jupyter.widget-view+json": {
       "model_id": "5656d1d23da14a9eb7374e00035dccfa",
       "version_major": 2,
       "version_minor": 0
      },
      "text/plain": [
       "Batches:   0%|          | 0/1 [00:00<?, ?it/s]"
      ]
     },
     "metadata": {},
     "output_type": "display_data"
    },
    {
     "data": {
      "application/vnd.jupyter.widget-view+json": {
       "model_id": "ed1d16c2eb7c434d82f51cddea38033f",
       "version_major": 2,
       "version_minor": 0
      },
      "text/plain": [
       "Batches:   0%|          | 0/1 [00:00<?, ?it/s]"
      ]
     },
     "metadata": {},
     "output_type": "display_data"
    },
    {
     "data": {
      "application/vnd.jupyter.widget-view+json": {
       "model_id": "3ef39c1513b348989359b3094655ba36",
       "version_major": 2,
       "version_minor": 0
      },
      "text/plain": [
       "Batches:   0%|          | 0/1 [00:00<?, ?it/s]"
      ]
     },
     "metadata": {},
     "output_type": "display_data"
    },
    {
     "data": {
      "application/vnd.jupyter.widget-view+json": {
       "model_id": "e3c604a2a4f94db5a90c603687d55097",
       "version_major": 2,
       "version_minor": 0
      },
      "text/plain": [
       "Batches:   0%|          | 0/1 [00:00<?, ?it/s]"
      ]
     },
     "metadata": {},
     "output_type": "display_data"
    },
    {
     "name": "stdout",
     "output_type": "stream",
     "text": [
      "[('thông tin sinh viên', 0.5223162), ('điểm danh', 0.5155834), ('chi tiết điểm', 0.500506), ('tổng kết môn học', 0.46564543)]\n"
     ]
    }
   ],
   "source": [
    "type_descriptions = {\n",
    "    \"tổng kết môn học\": \"Tóm tắt và đánh giá tổng quan về một môn học, bao gồm điểm trung bình, trạng thái và điểm số tổng quan các loại điểm như lab, assignment, Participation, final exam.\",\n",
    "    \"chi tiết điểm\": \"Thông tin chi tiết về điểm số của sinh viên trong các mục đánh giá khác nhau, bao gồm phân loại, trọng số và giá trị điểm chi tiết, ví dụ lab 1, lab 2, lab 3, progress test 1, 2, 3,...\",\n",
    "    \"điểm danh\": \"Thông tin về việc điểm danh, hoặc thời gian biểu, lịch học sinh viên trong các buổi học, bao gồm ngày, ca học, phòng học, giảng viên và trạng thái điểm danh.\",\n",
    "    \"thông tin sinh viên\": \"Thông tin cá nhân của sinh viên, bao gồm họ tên, ngày sinh, giới tính, địa chỉ, mã sinh viên và các thông tin liên quan đến học tập.\",\n",
    "}\n",
    "type_embeddings = {\n",
    "    type_name: embedder.embed([embedder.prefix + description])[0] for type_name, description in type_descriptions.items()}\n",
    "\n",
    "query_test_type = \"nghề nghiệp của bố\"\n",
    "main_type = detect_type_from_query(query_test_type, type_embeddings, top_k=5)\n",
    "print(main_type)"
   ]
  },
  {
   "cell_type": "code",
   "execution_count": null,
   "id": "b609d36c",
   "metadata": {},
   "outputs": [
    {
     "data": {
      "application/vnd.jupyter.widget-view+json": {
       "model_id": "bf1886e243c6495abb43a065c62b72d1",
       "version_major": 2,
       "version_minor": 0
      },
      "text/plain": [
       "Batches:   0%|          | 0/1 [00:00<?, ?it/s]"
      ]
     },
     "metadata": {},
     "output_type": "display_data"
    },
    {
     "data": {
      "application/vnd.jupyter.widget-view+json": {
       "model_id": "9a9d3192f66345b2b5d2efc41b6e8a83",
       "version_major": 2,
       "version_minor": 0
      },
      "text/plain": [
       "Batches:   0%|          | 0/1 [00:00<?, ?it/s]"
      ]
     },
     "metadata": {},
     "output_type": "display_data"
    },
    {
     "data": {
      "application/vnd.jupyter.widget-view+json": {
       "model_id": "9ade727db03940369dfdb70dc2821ddf",
       "version_major": 2,
       "version_minor": 0
      },
      "text/plain": [
       "Batches:   0%|          | 0/1 [00:00<?, ?it/s]"
      ]
     },
     "metadata": {},
     "output_type": "display_data"
    },
    {
     "data": {
      "application/vnd.jupyter.widget-view+json": {
       "model_id": "05a58833372f4abfabc32b20529e8d6c",
       "version_major": 2,
       "version_minor": 0
      },
      "text/plain": [
       "Batches:   0%|          | 0/1 [00:00<?, ?it/s]"
      ]
     },
     "metadata": {},
     "output_type": "display_data"
    },
    {
     "data": {
      "application/vnd.jupyter.widget-view+json": {
       "model_id": "30139b67b85849618ea8d04295a8e1b3",
       "version_major": 2,
       "version_minor": 0
      },
      "text/plain": [
       "Batches:   0%|          | 0/1 [00:00<?, ?it/s]"
      ]
     },
     "metadata": {},
     "output_type": "display_data"
    },
    {
     "data": {
      "application/vnd.jupyter.widget-view+json": {
       "model_id": "e2dc35b315344a8dbdebb72a0bd0df38",
       "version_major": 2,
       "version_minor": 0
      },
      "text/plain": [
       "Batches:   0%|          | 0/1 [00:00<?, ?it/s]"
      ]
     },
     "metadata": {},
     "output_type": "display_data"
    },
    {
     "name": "stdout",
     "output_type": "stream",
     "text": [
      "[('Fall2024', 0.74627334), ('Fall2023', 0.7413152), ('Summer2024', 0.6566202), ('Spring2025', 0.6481493), ('Spring2024', 0.6343021)]\n"
     ]
    }
   ],
   "source": [
    "term_descriptions = {\n",
    "    \"Fall2023\": \"Học kỳ mùa thu năm 2023, diễn ra từ tháng 9 đến tháng 12.\",\n",
    "    \"Spring2024\": \"Học kỳ mùa xuân năm 2024, bắt đầu từ tháng 1 đến tháng 4.\",\n",
    "    \"Summer2024\": \"Học kỳ hè năm 2024, diễn ra từ tháng 5 đến tháng 8.\",\n",
    "    \"Fall2024\": \"Học kỳ mùa thu năm 2024, từ tháng 9 đến tháng 12.\",\n",
    "    \"Spring2025\": \"Học kỳ mùa xuân năm 2025, từ tháng 1 đến tháng 4.\"\n",
    "}\n",
    "\n",
    "term_embeddings = {\n",
    "    term_name: embedder.embed([embedder.prefix + description])[0]\n",
    "    for term_name, description in term_descriptions.items()\n",
    "}\n",
    "query_test_term = \"học kỳ tháng 9 \"\n",
    "main_term = detect_term_from_query(query_test_term, term_embeddings, top_k=5)\n",
    "print(main_term)\n"
   ]
  },
  {
   "cell_type": "code",
   "execution_count": 217,
   "id": "dcba285f",
   "metadata": {},
   "outputs": [
    {
     "name": "stdout",
     "output_type": "stream",
     "text": [
      "Original query: lịch học CPV\n"
     ]
    }
   ],
   "source": [
    "query = \"lịch học CPV\"\n",
    "# Kiểm tra ngôn ngữ của query\n",
    "from langdetect import detect\n",
    "def is_english(text):\n",
    "    try:\n",
    "        return detect(text) == 'en'\n",
    "    except:\n",
    "        return False\n",
    "if is_english(query):\n",
    "    query = translate_en_to_vi_google(query)\n",
    "    print(f\"Translated query: {query}\")\n",
    "else:\n",
    "    query = query.strip()\n",
    "    print(f\"Original query: {query}\")"
   ]
  },
  {
   "cell_type": "code",
   "execution_count": 218,
   "id": "88812f07",
   "metadata": {},
   "outputs": [
    {
     "data": {
      "application/vnd.jupyter.widget-view+json": {
       "model_id": "ae7e909c182f4422bf232cf4e16a063e",
       "version_major": 2,
       "version_minor": 0
      },
      "text/plain": [
       "Batches:   0%|          | 0/1 [00:00<?, ?it/s]"
      ]
     },
     "metadata": {},
     "output_type": "display_data"
    },
    {
     "data": {
      "application/vnd.jupyter.widget-view+json": {
       "model_id": "70a59d908ac44d01bbd4d977c3f307dd",
       "version_major": 2,
       "version_minor": 0
      },
      "text/plain": [
       "Batches:   0%|          | 0/1 [00:00<?, ?it/s]"
      ]
     },
     "metadata": {},
     "output_type": "display_data"
    },
    {
     "data": {
      "application/vnd.jupyter.widget-view+json": {
       "model_id": "e4996ece7a8049989dbb059dede2234a",
       "version_major": 2,
       "version_minor": 0
      },
      "text/plain": [
       "Batches:   0%|          | 0/1 [00:00<?, ?it/s]"
      ]
     },
     "metadata": {},
     "output_type": "display_data"
    },
    {
     "data": {
      "application/vnd.jupyter.widget-view+json": {
       "model_id": "54f199721a2d4ae7bfa38d5f411e1dca",
       "version_major": 2,
       "version_minor": 0
      },
      "text/plain": [
       "Batches:   0%|          | 0/1 [00:00<?, ?it/s]"
      ]
     },
     "metadata": {},
     "output_type": "display_data"
    },
    {
     "name": "stdout",
     "output_type": "stream",
     "text": [
      "🟩 Loại detect: thông tin sinh viên\n",
      "➡️ Mã môn học detect: MAS291\n",
      "➡️ Học kỳ detect: Fall2023\n"
     ]
    },
    {
     "name": "stderr",
     "output_type": "stream",
     "text": [
      "C:\\Users\\ADMIN\\AppData\\Local\\Temp\\ipykernel_23440\\945788711.py:41: DeprecationWarning: `search` method is deprecated and will be removed in the future. Use `query_points` instead.\n",
      "  hits = client.search(\n"
     ]
    },
    {
     "name": "stdout",
     "output_type": "stream",
     "text": [
      "📄 Content:\n",
      "LOẠI: Điểm danh\n",
      "Sinh viên: DE190340\n",
      "Môn học: MAS291 - Statistics & Probability\n",
      "Học kỳ: Fall2024 | Buổi số: 8 - Ngày: Friday 27/09/2024 - Ca: 3_(12:30-14:45) - Phòng: Gamma 311.\n",
      "Giảng viên: trangtt106 | Nhóm: AI18D02\n",
      "Trạng thái: Present | Ghi chú: Không rõ\n",
      "--------\n"
     ]
    }
   ],
   "source": [
    "from qdrant_client.models import Filter, FieldCondition, MatchValue\n",
    "\n",
    "def search_qdrant_by_query(query, subject_embeddings, type_embeddings, client, collection_name=\"Fap_data_testing\", limit=1):\n",
    "    # Detect subjects and types\n",
    "    detected_subjects = detect_subject_from_query(query, subject_embeddings)\n",
    "    detected_types = detect_subject_from_query(query, type_embeddings)\n",
    "    detected_terms = detect_term_from_query(query, term_embeddings)\n",
    "    query_vec = embedder.embed([embedder.prefix + query])[0]\n",
    "\n",
    "    # print(f\"Detected subjects: {detected_subjects}\")\n",
    "    # print(f\"Detected types: {detected_types}\")\n",
    "\n",
    "    must = []\n",
    "    should = []\n",
    "\n",
    "    if detected_types:\n",
    "        print(\"🟩 Loại detect:\", detected_types[0][0])\n",
    "        should.append(FieldCondition(\n",
    "            key=\"loai\",\n",
    "            match=MatchValue(value=detected_types[0][0])\n",
    "        ))\n",
    "\n",
    "    if detected_subjects:\n",
    "        for subject_code, _ in detected_subjects:\n",
    "            print(\"➡️ Mã môn học detect:\", subject_code)\n",
    "            should.append(FieldCondition(\n",
    "                key=\"ma_mon_hoc\",\n",
    "                match=MatchValue(value=subject_code)\n",
    "            ))\n",
    "    \n",
    "    if detected_terms:\n",
    "        for term, _ in detected_terms:\n",
    "            print(\"➡️ Học kỳ detect:\", term)\n",
    "            should.append(FieldCondition(\n",
    "                key=\"hoc_ky\",\n",
    "                match=MatchValue(value=term)\n",
    "            ))\n",
    "\n",
    "    query_filter = Filter(must=must, should=should) if must or should else None\n",
    "\n",
    "    hits = client.search(\n",
    "        collection_name=collection_name,\n",
    "        query_vector=query_vec.tolist(),\n",
    "        limit=limit,\n",
    "        query_filter=query_filter\n",
    "    )\n",
    "\n",
    "    for hit in hits:\n",
    "        # print(f\"\\n🔍 Score: {hit.score:.4f}\")\n",
    "        # print(f\"📘 Subject: {hit.payload.get('ma_mon_hoc')} - {hit.payload.get('loai')}\")\n",
    "        print(f\"📄 Content:\\n{hit.payload.get('noi_dung')}\")\n",
    "        print(\"--------\")\n",
    "    return hits\n",
    "\n",
    "# Example usage:\n",
    "query = \"nghề nghiệp của bố\"\n",
    "hits = search_qdrant_by_query(query, subject_embeddings, type_embeddings, client)\n"
   ]
  },
  {
   "cell_type": "code",
   "execution_count": 219,
   "id": "005d742a",
   "metadata": {},
   "outputs": [
    {
     "name": "stdout",
     "output_type": "stream",
     "text": [
      "1. lịch học môn CPV301 tuần này\n",
      "2. điểm lab 1 môn DPL302m\n",
      "3. tóm tắt kết quả học tập học kỳ Fall2023\n",
      "4. giảng viên dạy môn Search Engines là ai\n",
      "5. điểm danh môn VOV114 ngày 12/10\n",
      "6. điểm trung bình môn AI18D01\n",
      "7. sinh viên DE190340 có học bổng không\n",
      "8. điểm final môn DBI202\n",
      "9. thông tin cá nhân sinh viên Phan Công Tâm\n",
      "10. kết quả bài kiểm tra giữa kỳ môn MAD101\n",
      "11. điểm tổng kết môn SWE201c\n",
      "12. điểm danh môn PFP191 tuần trước\n",
      "13. điểm lab 2 môn DPL302m\n",
      "14. điểm assignment môn DBI202\n",
      "15. điểm progress test 1 môn MAD101\n",
      "16. điểm giữa kỳ môn MAE101\n",
      "17. điểm cuối kỳ môn MAS291\n",
      "18. điểm danh môn SSL101c ngày 01/11\n",
      "19. giảng viên môn DSA103 là ai\n",
      "20. điểm bài tập lớn môn CSD203\n",
      "21. điểm danh môn VOV124 tuần này\n",
      "22. điểm lab 3 môn DWP301c\n",
      "23. điểm tổng kết môn SEG301\n",
      "24. điểm danh môn JPD113 ngày 15/10\n",
      "25. điểm final môn TMG301\n",
      "26. điểm assignment môn ITE303c\n",
      "27. điểm progress test 2 môn MAI391\n",
      "28. điểm danh môn JPD123 ngày 20/10\n",
      "29. điểm lab 1 môn SWE201c\n",
      "30. điểm tổng kết môn CEA201\n",
      "\n",
      "--- Kết quả tìm kiếm cho từng truy vấn ---\n",
      "\n",
      "\n",
      "🔎 Query 1: lịch học môn CPV301 tuần này\n"
     ]
    },
    {
     "data": {
      "application/vnd.jupyter.widget-view+json": {
       "model_id": "0bfad674b0494496b2a9459c000e1ab4",
       "version_major": 2,
       "version_minor": 0
      },
      "text/plain": [
       "Batches:   0%|          | 0/1 [00:00<?, ?it/s]"
      ]
     },
     "metadata": {},
     "output_type": "display_data"
    },
    {
     "data": {
      "application/vnd.jupyter.widget-view+json": {
       "model_id": "f7e3f8f42ddf420782ceada45ca83d8f",
       "version_major": 2,
       "version_minor": 0
      },
      "text/plain": [
       "Batches:   0%|          | 0/1 [00:00<?, ?it/s]"
      ]
     },
     "metadata": {},
     "output_type": "display_data"
    },
    {
     "data": {
      "application/vnd.jupyter.widget-view+json": {
       "model_id": "d132e613ccd948b5b07101908c799200",
       "version_major": 2,
       "version_minor": 0
      },
      "text/plain": [
       "Batches:   0%|          | 0/1 [00:00<?, ?it/s]"
      ]
     },
     "metadata": {},
     "output_type": "display_data"
    },
    {
     "data": {
      "application/vnd.jupyter.widget-view+json": {
       "model_id": "4b857fa24ca440fa939999d394f53fce",
       "version_major": 2,
       "version_minor": 0
      },
      "text/plain": [
       "Batches:   0%|          | 0/1 [00:00<?, ?it/s]"
      ]
     },
     "metadata": {},
     "output_type": "display_data"
    },
    {
     "name": "stdout",
     "output_type": "stream",
     "text": [
      "🟩 Loại detect: điểm danh\n",
      "➡️ Mã môn học detect: CPV301\n",
      "➡️ Học kỳ detect: Spring2025\n"
     ]
    },
    {
     "name": "stderr",
     "output_type": "stream",
     "text": [
      "C:\\Users\\ADMIN\\AppData\\Local\\Temp\\ipykernel_23440\\945788711.py:41: DeprecationWarning: `search` method is deprecated and will be removed in the future. Use `query_points` instead.\n",
      "  hits = client.search(\n"
     ]
    },
    {
     "name": "stdout",
     "output_type": "stream",
     "text": [
      "📄 Content:\n",
      "LOẠI: Điểm danh\n",
      "Sinh viên: DE190340\n",
      "Môn học: CPV301 - Computer Vision\n",
      "Học kỳ: Spring2025 | Buổi số: 1 - Ngày: Monday 06/01/2025 - Ca: 4_(15:00-17:15) - Phòng: Gamma 304.\n",
      "Giảng viên: VuBC | Nhóm: AI18D02\n",
      "Trạng thái: Present | Ghi chú: Không rõ\n",
      "--------\n",
      "📄 Content:\n",
      "LOẠI: Điểm danh\n",
      "Sinh viên: DE190340\n",
      "Môn học: CPV301 - Computer Vision\n",
      "Học kỳ: Spring2025 | Buổi số: 3 - Ngày: Monday 13/01/2025 - Ca: 4_(15:00-17:15) - Phòng: Gamma 304.\n",
      "Giảng viên: VuBC | Nhóm: AI18D02\n",
      "Trạng thái: Present | Ghi chú: Không rõ\n",
      "--------\n",
      "📄 Content:\n",
      "LOẠI: Điểm danh\n",
      "Sinh viên: DE190340\n",
      "Môn học: CPV301 - Computer Vision\n",
      "Học kỳ: Spring2025 | Buổi số: 15 - Ngày: Monday 10/03/2025 - Ca: 4_(15:00-17:15) - Phòng: Gamma 304.\n",
      "Giảng viên: VuBC | Nhóm: AI18D02\n",
      "Trạng thái: Present | Ghi chú: Không rõ\n",
      "--------\n",
      "==> 3 kết quả\n",
      "\n",
      "\n",
      "🔎 Query 2: điểm lab 1 môn DPL302m\n"
     ]
    },
    {
     "data": {
      "application/vnd.jupyter.widget-view+json": {
       "model_id": "ffd7b8856d8c47fda2a49b45010ef993",
       "version_major": 2,
       "version_minor": 0
      },
      "text/plain": [
       "Batches:   0%|          | 0/1 [00:00<?, ?it/s]"
      ]
     },
     "metadata": {},
     "output_type": "display_data"
    },
    {
     "data": {
      "application/vnd.jupyter.widget-view+json": {
       "model_id": "8a3bce38b64745a2871353265a38bd79",
       "version_major": 2,
       "version_minor": 0
      },
      "text/plain": [
       "Batches:   0%|          | 0/1 [00:00<?, ?it/s]"
      ]
     },
     "metadata": {},
     "output_type": "display_data"
    },
    {
     "data": {
      "application/vnd.jupyter.widget-view+json": {
       "model_id": "0fdb168abc0b4c52a1ef1bc4cbcfb140",
       "version_major": 2,
       "version_minor": 0
      },
      "text/plain": [
       "Batches:   0%|          | 0/1 [00:00<?, ?it/s]"
      ]
     },
     "metadata": {},
     "output_type": "display_data"
    },
    {
     "data": {
      "application/vnd.jupyter.widget-view+json": {
       "model_id": "259922923faa4689be3f9e14a0926a0f",
       "version_major": 2,
       "version_minor": 0
      },
      "text/plain": [
       "Batches:   0%|          | 0/1 [00:00<?, ?it/s]"
      ]
     },
     "metadata": {},
     "output_type": "display_data"
    },
    {
     "name": "stdout",
     "output_type": "stream",
     "text": [
      "🟩 Loại detect: chi tiết điểm\n",
      "➡️ Mã môn học detect: DPL302m\n",
      "➡️ Học kỳ detect: Spring2025\n",
      "📄 Content:\n",
      "LOẠI: Chi tiết điểm\n",
      "Sinh viên: DE190340\n",
      "Môn học: AIL303m - Machine Learning\n",
      "Học kỳ: Spring2025\n",
      "Mục: Lab 1 | Loại: Lab 1\n",
      "Trọng số: 10.0 % | Điểm đạt: 9.7\n",
      "--------\n",
      "📄 Content:\n",
      "LOẠI: Chi tiết điểm\n",
      "Sinh viên: DE190340\n",
      "Môn học: AIL303m - Machine Learning\n",
      "Học kỳ: Spring2025\n",
      "Mục: Lab 2 | Loại: Lab 2\n",
      "Trọng số: 10.0 % | Điểm đạt: 4.0\n",
      "--------\n",
      "📄 Content:\n",
      "LOẠI: Chi tiết điểm\n",
      "Sinh viên: DE190340\n",
      "Môn học: ADY201m - AI, DS with Python & SQL\n",
      "Học kỳ: Fall2024\n",
      "Mục: Lab 1 | Loại: Lab\n",
      "Trọng số: 5.0 % | Điểm đạt: 9.0\n",
      "--------\n",
      "==> 3 kết quả\n",
      "\n",
      "\n",
      "🔎 Query 3: tóm tắt kết quả học tập học kỳ Fall2023\n"
     ]
    },
    {
     "data": {
      "application/vnd.jupyter.widget-view+json": {
       "model_id": "79551138985e4a43b62dd7cb877a0a35",
       "version_major": 2,
       "version_minor": 0
      },
      "text/plain": [
       "Batches:   0%|          | 0/1 [00:00<?, ?it/s]"
      ]
     },
     "metadata": {},
     "output_type": "display_data"
    },
    {
     "data": {
      "application/vnd.jupyter.widget-view+json": {
       "model_id": "7b6eb6f66db248a193c916aaf8def4c8",
       "version_major": 2,
       "version_minor": 0
      },
      "text/plain": [
       "Batches:   0%|          | 0/1 [00:00<?, ?it/s]"
      ]
     },
     "metadata": {},
     "output_type": "display_data"
    },
    {
     "data": {
      "application/vnd.jupyter.widget-view+json": {
       "model_id": "09828a6bc413413aa70055130692dd42",
       "version_major": 2,
       "version_minor": 0
      },
      "text/plain": [
       "Batches:   0%|          | 0/1 [00:00<?, ?it/s]"
      ]
     },
     "metadata": {},
     "output_type": "display_data"
    },
    {
     "data": {
      "application/vnd.jupyter.widget-view+json": {
       "model_id": "52c4e27fd0dd46d8869f3091d02284ba",
       "version_major": 2,
       "version_minor": 0
      },
      "text/plain": [
       "Batches:   0%|          | 0/1 [00:00<?, ?it/s]"
      ]
     },
     "metadata": {},
     "output_type": "display_data"
    },
    {
     "name": "stdout",
     "output_type": "stream",
     "text": [
      "🟩 Loại detect: tổng kết môn học\n",
      "➡️ Mã môn học detect: SSL101c\n",
      "➡️ Học kỳ detect: Fall2023\n",
      "📄 Content:\n",
      "LOẠI: tổng kết môn học\n",
      "Môn học: ENT403 - Summit1\n",
      "Học kỳ: Fall2023\n",
      "Điểm trung bình: 0.0\n",
      "Trạng thái: Is Exempt\n",
      "Tóm tắt: {}\n",
      "--------\n",
      "📄 Content:\n",
      "LOẠI: tổng kết môn học\n",
      "Môn học: ENT503 - Summit2\n",
      "Học kỳ: Fall2023\n",
      "Điểm trung bình: 0.0\n",
      "Trạng thái: Is Exempt\n",
      "Tóm tắt: {}\n",
      "--------\n",
      "📄 Content:\n",
      "LOẠI: tổng kết môn học\n",
      "Môn học: OTP101 - Orientation and General Training Program\n",
      "Học kỳ: Fall2023\n",
      "Điểm trung bình: 6.8\n",
      "Trạng thái: Passed\n",
      "Tóm tắt: {'Final': {'weight': '100.0 %', 'value': '6.8'}, 'Final Resit': {'weight': '100.0 %', 'value': None}}\n",
      "--------\n",
      "==> 3 kết quả\n",
      "\n",
      "\n",
      "🔎 Query 4: giảng viên dạy môn Search Engines là ai\n"
     ]
    },
    {
     "data": {
      "application/vnd.jupyter.widget-view+json": {
       "model_id": "09ac75f007c14432aeab4a2ace555bd8",
       "version_major": 2,
       "version_minor": 0
      },
      "text/plain": [
       "Batches:   0%|          | 0/1 [00:00<?, ?it/s]"
      ]
     },
     "metadata": {},
     "output_type": "display_data"
    },
    {
     "data": {
      "application/vnd.jupyter.widget-view+json": {
       "model_id": "ffc7fc3941004d5fa74e7ebefe85690d",
       "version_major": 2,
       "version_minor": 0
      },
      "text/plain": [
       "Batches:   0%|          | 0/1 [00:00<?, ?it/s]"
      ]
     },
     "metadata": {},
     "output_type": "display_data"
    },
    {
     "data": {
      "application/vnd.jupyter.widget-view+json": {
       "model_id": "e0f798c77cfa42c2ad4fb4d7ce811b88",
       "version_major": 2,
       "version_minor": 0
      },
      "text/plain": [
       "Batches:   0%|          | 0/1 [00:00<?, ?it/s]"
      ]
     },
     "metadata": {},
     "output_type": "display_data"
    },
    {
     "data": {
      "application/vnd.jupyter.widget-view+json": {
       "model_id": "55776056b3e54913bfacc400ec834509",
       "version_major": 2,
       "version_minor": 0
      },
      "text/plain": [
       "Batches:   0%|          | 0/1 [00:00<?, ?it/s]"
      ]
     },
     "metadata": {},
     "output_type": "display_data"
    },
    {
     "name": "stdout",
     "output_type": "stream",
     "text": [
      "🟩 Loại detect: điểm danh\n",
      "➡️ Mã môn học detect: SEG301\n",
      "➡️ Học kỳ detect: Spring2025\n",
      "📄 Content:\n",
      "LOẠI: Điểm danh\n",
      "Sinh viên: DE190340\n",
      "Môn học: SEG301 - Search Engines\n",
      "Học kỳ: Summer2025 | Buổi số: 4 - Ngày: Thursday 22/05/2025 - Ca: 3_(12:30-14:45) - Phòng: Alpha 206.\n",
      "Giảng viên: VuBC | Nhóm: AI18D01\n",
      "Trạng thái: Present | Ghi chú: Không rõ\n",
      "--------\n",
      "📄 Content:\n",
      "LOẠI: Điểm danh\n",
      "Sinh viên: DE190340\n",
      "Môn học: SEG301 - Search Engines\n",
      "Học kỳ: Summer2025 | Buổi số: 2 - Ngày: Thursday 15/05/2025 - Ca: 3_(12:30-14:45) - Phòng: Alpha 206.\n",
      "Giảng viên: VuBC | Nhóm: AI18D01\n",
      "Trạng thái: Present | Ghi chú: Không rõ\n",
      "--------\n",
      "📄 Content:\n",
      "LOẠI: Điểm danh\n",
      "Sinh viên: DE190340\n",
      "Môn học: SEG301 - Search Engines\n",
      "Học kỳ: Summer2025 | Buổi số: 5 - Ngày: Monday 26/05/2025 - Ca: 4_(15:00-17:15) - Phòng: Alpha 206.\n",
      "Giảng viên: VuBC | Nhóm: AI18D01\n",
      "Trạng thái: Present | Ghi chú: Không rõ\n",
      "--------\n",
      "==> 3 kết quả\n",
      "\n",
      "\n",
      "🔎 Query 5: điểm danh môn VOV114 ngày 12/10\n"
     ]
    },
    {
     "data": {
      "application/vnd.jupyter.widget-view+json": {
       "model_id": "9efd656b7162473eab041be9f68ecd2a",
       "version_major": 2,
       "version_minor": 0
      },
      "text/plain": [
       "Batches:   0%|          | 0/1 [00:00<?, ?it/s]"
      ]
     },
     "metadata": {},
     "output_type": "display_data"
    },
    {
     "data": {
      "application/vnd.jupyter.widget-view+json": {
       "model_id": "a118683771c04ffbad8a0f84764c65c0",
       "version_major": 2,
       "version_minor": 0
      },
      "text/plain": [
       "Batches:   0%|          | 0/1 [00:00<?, ?it/s]"
      ]
     },
     "metadata": {},
     "output_type": "display_data"
    },
    {
     "data": {
      "application/vnd.jupyter.widget-view+json": {
       "model_id": "562279800792451fb3fef1e2d1c5d17c",
       "version_major": 2,
       "version_minor": 0
      },
      "text/plain": [
       "Batches:   0%|          | 0/1 [00:00<?, ?it/s]"
      ]
     },
     "metadata": {},
     "output_type": "display_data"
    },
    {
     "data": {
      "application/vnd.jupyter.widget-view+json": {
       "model_id": "2407688853bc4ab88226c4287c03dfc1",
       "version_major": 2,
       "version_minor": 0
      },
      "text/plain": [
       "Batches:   0%|          | 0/1 [00:00<?, ?it/s]"
      ]
     },
     "metadata": {},
     "output_type": "display_data"
    },
    {
     "name": "stdout",
     "output_type": "stream",
     "text": [
      "🟩 Loại detect: điểm danh\n",
      "➡️ Mã môn học detect: VOV114\n",
      "➡️ Học kỳ detect: Fall2024\n",
      "📄 Content:\n",
      "LOẠI: Điểm danh\n",
      "Sinh viên: DE190340\n",
      "Môn học: VOV114 - Vovinam 1\n",
      "Học kỳ: Fall2023 | Buổi số: 10 - Ngày: Tuesday 10/10/2023 - Ca: 7_(17:45-19:15) - Phòng: 314\n",
      "Giảng viên: teacher11 | Nhóm: PC1919_VOV114_FU\n",
      "Trạng thái: Present | Ghi chú: Không rõ\n",
      "--------\n",
      "📄 Content:\n",
      "LOẠI: Điểm danh\n",
      "Sinh viên: DE190340\n",
      "Môn học: VOV114 - Vovinam 1\n",
      "Học kỳ: Fall2023 | Buổi số: 9 - Ngày: Saturday 07/10/2023 - Ca: 7_(17:45-19:15) - Phòng: 314\n",
      "Giảng viên: teacher11 | Nhóm: PC1919_VOV114_FU\n",
      "Trạng thái: Present | Ghi chú: Không rõ\n",
      "--------\n",
      "📄 Content:\n",
      "LOẠI: Điểm danh\n",
      "Sinh viên: DE190340\n",
      "Môn học: VOV114 - Vovinam 1\n",
      "Học kỳ: Fall2023 | Buổi số: 12 - Ngày: Thursday 26/10/2023 - Ca: 6_(16:00-17:30) - Phòng: 500\n",
      "Giảng viên: TienTT28 | Nhóm: PC1919_VOV114_FU\n",
      "Trạng thái: Absent | Ghi chú: Không rõ\n",
      "--------\n",
      "==> 3 kết quả\n",
      "\n",
      "\n",
      "🔎 Query 6: điểm trung bình môn AI18D01\n"
     ]
    },
    {
     "data": {
      "application/vnd.jupyter.widget-view+json": {
       "model_id": "7eaa6ebafcaf41cabcbd686ccfeeeac5",
       "version_major": 2,
       "version_minor": 0
      },
      "text/plain": [
       "Batches:   0%|          | 0/1 [00:00<?, ?it/s]"
      ]
     },
     "metadata": {},
     "output_type": "display_data"
    },
    {
     "data": {
      "application/vnd.jupyter.widget-view+json": {
       "model_id": "d6b18ec180504300af1fe144f446a1a6",
       "version_major": 2,
       "version_minor": 0
      },
      "text/plain": [
       "Batches:   0%|          | 0/1 [00:00<?, ?it/s]"
      ]
     },
     "metadata": {},
     "output_type": "display_data"
    },
    {
     "data": {
      "application/vnd.jupyter.widget-view+json": {
       "model_id": "fbf52823f7fe4b3da1b23b52fc51a6d8",
       "version_major": 2,
       "version_minor": 0
      },
      "text/plain": [
       "Batches:   0%|          | 0/1 [00:00<?, ?it/s]"
      ]
     },
     "metadata": {},
     "output_type": "display_data"
    },
    {
     "data": {
      "application/vnd.jupyter.widget-view+json": {
       "model_id": "13d8740da8d443e186645d2567f6f650",
       "version_major": 2,
       "version_minor": 0
      },
      "text/plain": [
       "Batches:   0%|          | 0/1 [00:00<?, ?it/s]"
      ]
     },
     "metadata": {},
     "output_type": "display_data"
    },
    {
     "name": "stdout",
     "output_type": "stream",
     "text": [
      "🟩 Loại detect: tổng kết môn học\n",
      "➡️ Mã môn học detect: AIL303m\n",
      "➡️ Học kỳ detect: Spring2024\n",
      "📄 Content:\n",
      "LOẠI: tổng kết môn học\n",
      "Môn học: AIG202c - Artificial Intelligence\n",
      "Học kỳ: Summer2024\n",
      "Điểm trung bình: 8.3\n",
      "Trạng thái: Passed\n",
      "Tóm tắt: {'theory_exam': '8', 'practise_exam': None, 'bonus': '0.25'}\n",
      "--------\n",
      "📄 Content:\n",
      "LOẠI: tổng kết môn học\n",
      "Môn học: AIL303m - Machine Learning\n",
      "Học kỳ: Spring2025\n",
      "Điểm trung bình: 8.3\n",
      "Trạng thái: Passed\n",
      "Tóm tắt: {'Progress test 1': {'weight': '5.0 %', 'value': '8.8'}, 'Progress test 2': {'weight': '5.0 %', 'value': '8.8'}, 'Progress test 3': {'weight': '5.0 %', 'value': '8.9'}, 'Progress test 4': {'weight': '5.0 %', 'value': '8.9'}, 'Lab 1': {'weight': '10.0 %', 'value': '9.7'}, 'Lab 2': {'weight': '10.0 %', 'value': '4'}, 'Mini capstone': {'weight': '30.0 %', 'value': '8.5'}, 'Final exam': {'weight': '30.0 %', 'value': '8.6'}, 'Final exam Resit': {'weight': '30.0 %', 'value': None}}\n",
      "--------\n",
      "📄 Content:\n",
      "LOẠI: tổng kết môn học\n",
      "Môn học: ADY201m - AI, DS with Python & SQL\n",
      "Học kỳ: Fall2024\n",
      "Điểm trung bình: 8.6\n",
      "Trạng thái: Passed\n",
      "Tóm tắt: {'Assignment': {'weight': '10.0 %', 'value': '9'}, 'Progress test 1': {'weight': '10.0 %', 'value': '9.4'}, 'Progress test 2': {'weight': '10.0 %', 'value': '9'}, 'Lab': {'weight': '30.0 %', 'value': '9.3'}, 'Final exam': {'weight': '40.0 %', 'value': '7.6'}, 'Final exam Resit': {'weight': '40.0 %', 'value': None}}\n",
      "--------\n",
      "==> 3 kết quả\n",
      "\n",
      "\n",
      "🔎 Query 7: sinh viên DE190340 có học bổng không\n"
     ]
    },
    {
     "data": {
      "application/vnd.jupyter.widget-view+json": {
       "model_id": "16f9c5d57e244654a9cf1630ec6ea768",
       "version_major": 2,
       "version_minor": 0
      },
      "text/plain": [
       "Batches:   0%|          | 0/1 [00:00<?, ?it/s]"
      ]
     },
     "metadata": {},
     "output_type": "display_data"
    },
    {
     "data": {
      "application/vnd.jupyter.widget-view+json": {
       "model_id": "77468b2cd8c64c5db7e5ae07f6db9e0b",
       "version_major": 2,
       "version_minor": 0
      },
      "text/plain": [
       "Batches:   0%|          | 0/1 [00:00<?, ?it/s]"
      ]
     },
     "metadata": {},
     "output_type": "display_data"
    },
    {
     "data": {
      "application/vnd.jupyter.widget-view+json": {
       "model_id": "3f9126f2d4494911bb4b2fc71481778e",
       "version_major": 2,
       "version_minor": 0
      },
      "text/plain": [
       "Batches:   0%|          | 0/1 [00:00<?, ?it/s]"
      ]
     },
     "metadata": {},
     "output_type": "display_data"
    },
    {
     "data": {
      "application/vnd.jupyter.widget-view+json": {
       "model_id": "6dad23dfeba34350ad2949a364bf7860",
       "version_major": 2,
       "version_minor": 0
      },
      "text/plain": [
       "Batches:   0%|          | 0/1 [00:00<?, ?it/s]"
      ]
     },
     "metadata": {},
     "output_type": "display_data"
    },
    {
     "name": "stdout",
     "output_type": "stream",
     "text": [
      "🟩 Loại detect: thông tin sinh viên\n",
      "➡️ Mã môn học detect: MAI391\n",
      "➡️ Học kỳ detect: Fall2024\n",
      "📄 Content:\n",
      "LOẠI: Chi tiết điểm\n",
      "Sinh viên: DE190340\n",
      "Môn học: MAI391 - Advanced mathematics\n",
      "Học kỳ: Fall2024\n",
      "Mục: Computer Project | Loại: Computer Project\n",
      "Trọng số: 20.0 % | Điểm đạt: 9.4\n",
      "--------\n",
      "📄 Content:\n",
      "LOẠI: Chi tiết điểm\n",
      "Sinh viên: DE190340\n",
      "Môn học: MAI391 - Advanced mathematics\n",
      "Học kỳ: Fall2024\n",
      "Mục: Assignments 3 | Loại: Assignments\n",
      "Trọng số: 10.0 % | Điểm đạt: 9.0\n",
      "--------\n",
      "📄 Content:\n",
      "LOẠI: Chi tiết điểm\n",
      "Sinh viên: DE190340\n",
      "Môn học: MAI391 - Advanced mathematics\n",
      "Học kỳ: Fall2024\n",
      "Mục: Assignments 2 | Loại: Assignments\n",
      "Trọng số: 10.0 % | Điểm đạt: 8.0\n",
      "--------\n",
      "==> 3 kết quả\n",
      "\n",
      "\n",
      "🔎 Query 8: điểm final môn DBI202\n"
     ]
    },
    {
     "data": {
      "application/vnd.jupyter.widget-view+json": {
       "model_id": "643cccebacb241259c9588ca1b7a6fa3",
       "version_major": 2,
       "version_minor": 0
      },
      "text/plain": [
       "Batches:   0%|          | 0/1 [00:00<?, ?it/s]"
      ]
     },
     "metadata": {},
     "output_type": "display_data"
    },
    {
     "data": {
      "application/vnd.jupyter.widget-view+json": {
       "model_id": "5faa1cdb8bbc42df843ffc1d509000b8",
       "version_major": 2,
       "version_minor": 0
      },
      "text/plain": [
       "Batches:   0%|          | 0/1 [00:00<?, ?it/s]"
      ]
     },
     "metadata": {},
     "output_type": "display_data"
    },
    {
     "data": {
      "application/vnd.jupyter.widget-view+json": {
       "model_id": "21e7b3cb21f346b6bdbd0a771d9fc407",
       "version_major": 2,
       "version_minor": 0
      },
      "text/plain": [
       "Batches:   0%|          | 0/1 [00:00<?, ?it/s]"
      ]
     },
     "metadata": {},
     "output_type": "display_data"
    },
    {
     "data": {
      "application/vnd.jupyter.widget-view+json": {
       "model_id": "76b2c8b30ff34e62a27c1d41cbf6b0fa",
       "version_major": 2,
       "version_minor": 0
      },
      "text/plain": [
       "Batches:   0%|          | 0/1 [00:00<?, ?it/s]"
      ]
     },
     "metadata": {},
     "output_type": "display_data"
    },
    {
     "name": "stdout",
     "output_type": "stream",
     "text": [
      "🟩 Loại detect: chi tiết điểm\n",
      "➡️ Mã môn học detect: DBI202\n",
      "➡️ Học kỳ detect: Fall2024\n",
      "📄 Content:\n",
      "LOẠI: Chi tiết điểm\n",
      "Sinh viên: DE190340\n",
      "Môn học: DBI202 - Database Systems\n",
      "Học kỳ: Summer2024\n",
      "Mục: Final exam Resit | Loại: Final exam Resit\n",
      "Trọng số: 30.0 % | Điểm đạt: Khong ro\n",
      "--------\n",
      "📄 Content:\n",
      "LOẠI: Chi tiết điểm\n",
      "Sinh viên: DE190340\n",
      "Môn học: DBI202 - Database Systems\n",
      "Học kỳ: Summer2024\n",
      "Mục: Final exam | Loại: Final exam\n",
      "Trọng số: 30.0 % | Điểm đạt: 8.0\n",
      "--------\n",
      "📄 Content:\n",
      "LOẠI: Chi tiết điểm\n",
      "Sinh viên: DE190340\n",
      "Môn học: DBI202 - Database Systems\n",
      "Học kỳ: Summer2024\n",
      "Mục: Lab 1 | Loại: Lab\n",
      "Trọng số: 2.0 % | Điểm đạt: 8.0\n",
      "--------\n",
      "==> 3 kết quả\n",
      "\n",
      "\n",
      "🔎 Query 9: thông tin cá nhân sinh viên Phan Công Tâm\n"
     ]
    },
    {
     "data": {
      "application/vnd.jupyter.widget-view+json": {
       "model_id": "5243517655f245bebd8905932d7750d8",
       "version_major": 2,
       "version_minor": 0
      },
      "text/plain": [
       "Batches:   0%|          | 0/1 [00:00<?, ?it/s]"
      ]
     },
     "metadata": {},
     "output_type": "display_data"
    },
    {
     "data": {
      "application/vnd.jupyter.widget-view+json": {
       "model_id": "5a73c623122b4d45a9a0530742383140",
       "version_major": 2,
       "version_minor": 0
      },
      "text/plain": [
       "Batches:   0%|          | 0/1 [00:00<?, ?it/s]"
      ]
     },
     "metadata": {},
     "output_type": "display_data"
    },
    {
     "data": {
      "application/vnd.jupyter.widget-view+json": {
       "model_id": "9d3891158b16499a85732ec8178fc026",
       "version_major": 2,
       "version_minor": 0
      },
      "text/plain": [
       "Batches:   0%|          | 0/1 [00:00<?, ?it/s]"
      ]
     },
     "metadata": {},
     "output_type": "display_data"
    },
    {
     "data": {
      "application/vnd.jupyter.widget-view+json": {
       "model_id": "d2b62f2291cf4d2c8fb7b55f9d765d4b",
       "version_major": 2,
       "version_minor": 0
      },
      "text/plain": [
       "Batches:   0%|          | 0/1 [00:00<?, ?it/s]"
      ]
     },
     "metadata": {},
     "output_type": "display_data"
    },
    {
     "name": "stdout",
     "output_type": "stream",
     "text": [
      "🟩 Loại detect: thông tin sinh viên\n",
      "➡️ Mã môn học detect: CSD203\n",
      "➡️ Học kỳ detect: Fall2024\n",
      "📄 Content:\n",
      "Thông tin sinh viên: Phan Công Tâm | Mã SV: DE190340\n",
      "Ngày sinh: 19/03/2005 | Giới tính: Male\n",
      "Chuyên ngành: BIT | Lớp: AI18D01 | Trạng thái: HD - HD, Is progress\n",
      "Đào tạo: Chính quy | Học bổng: Có\n",
      "Địa chỉ: 37 An Thượng 18, Phường Mỹ An, Quận Ngũ Hành Sơn, Đà Nẵng | Email: phancongtam190305@gmail.com | SĐT: 907930205\n",
      "--------\n",
      "📄 Content:\n",
      "LOẠI: Điểm danh\n",
      "Sinh viên: DE190340\n",
      "Môn học: CSD203 - Data Structures and Algorithm with Python\n",
      "Học kỳ: Summer2024 | Buổi số: 2 - Ngày: Thursday 09/05/2024 - Ca: 4_(15:00-17:15) - Phòng: Gamma 407.\n",
      "Giảng viên: VuBC | Nhóm: AI18D02\n",
      "Trạng thái: Present | Ghi chú: Không rõ\n",
      "--------\n",
      "📄 Content:\n",
      "LOẠI: Điểm danh\n",
      "Sinh viên: DE190340\n",
      "Môn học: CSD203 - Data Structures and Algorithm with Python\n",
      "Học kỳ: Summer2024 | Buổi số: 6 - Ngày: Thursday 23/05/2024 - Ca: 4_(15:00-17:15) - Phòng: Gamma 407.\n",
      "Giảng viên: VuBC | Nhóm: AI18D02\n",
      "Trạng thái: Present | Ghi chú: Không rõ\n",
      "--------\n",
      "==> 3 kết quả\n",
      "\n",
      "\n",
      "🔎 Query 10: kết quả bài kiểm tra giữa kỳ môn MAD101\n"
     ]
    },
    {
     "data": {
      "application/vnd.jupyter.widget-view+json": {
       "model_id": "3d078edd76e2455aa6582425ce1cfa1f",
       "version_major": 2,
       "version_minor": 0
      },
      "text/plain": [
       "Batches:   0%|          | 0/1 [00:00<?, ?it/s]"
      ]
     },
     "metadata": {},
     "output_type": "display_data"
    },
    {
     "data": {
      "application/vnd.jupyter.widget-view+json": {
       "model_id": "ce7028ac97db4a23b7108a2bde2e4a69",
       "version_major": 2,
       "version_minor": 0
      },
      "text/plain": [
       "Batches:   0%|          | 0/1 [00:00<?, ?it/s]"
      ]
     },
     "metadata": {},
     "output_type": "display_data"
    },
    {
     "data": {
      "application/vnd.jupyter.widget-view+json": {
       "model_id": "309cc953c77044a6827c82b14fe6d4a1",
       "version_major": 2,
       "version_minor": 0
      },
      "text/plain": [
       "Batches:   0%|          | 0/1 [00:00<?, ?it/s]"
      ]
     },
     "metadata": {},
     "output_type": "display_data"
    },
    {
     "data": {
      "application/vnd.jupyter.widget-view+json": {
       "model_id": "6f72b2820fd64db48ad81273e9107e9f",
       "version_major": 2,
       "version_minor": 0
      },
      "text/plain": [
       "Batches:   0%|          | 0/1 [00:00<?, ?it/s]"
      ]
     },
     "metadata": {},
     "output_type": "display_data"
    },
    {
     "name": "stdout",
     "output_type": "stream",
     "text": [
      "🟩 Loại detect: chi tiết điểm\n",
      "➡️ Mã môn học detect: MAD101\n",
      "➡️ Học kỳ detect: Spring2025\n",
      "📄 Content:\n",
      "LOẠI: tổng kết môn học\n",
      "Môn học: MAD101 - Discrete mathematics\n",
      "Học kỳ: Spring2024\n",
      "Điểm trung bình: 7.4\n",
      "Trạng thái: Passed\n",
      "Tóm tắt: {'Assignment or exercises': {'weight': '30.0 %', 'value': '8.7'}, 'Progress test': {'weight': '30.0 %', 'value': '8.8'}, 'Final exam': {'weight': '40.0 %', 'value': '5.4'}, 'Final exam Resit': {'weight': '40.0 %', 'value': None}}\n",
      "--------\n",
      "📄 Content:\n",
      "LOẠI: Chi tiết điểm\n",
      "Sinh viên: DE190340\n",
      "Môn học: MAD101 - Discrete mathematics\n",
      "Học kỳ: Spring2024\n",
      "Mục: Final exam Resit | Loại: Final exam Resit\n",
      "Trọng số: 40.0 % | Điểm đạt: Khong ro\n",
      "--------\n",
      "📄 Content:\n",
      "LOẠI: Chi tiết điểm\n",
      "Sinh viên: DE190340\n",
      "Môn học: MAD101 - Discrete mathematics\n",
      "Học kỳ: Spring2024\n",
      "Mục: Assignment or exercises 2 | Loại: Assignment or exercises\n",
      "Trọng số: 10.0 % | Điểm đạt: 8.8\n",
      "--------\n",
      "==> 3 kết quả\n",
      "\n",
      "\n",
      "🔎 Query 11: điểm tổng kết môn SWE201c\n"
     ]
    },
    {
     "data": {
      "application/vnd.jupyter.widget-view+json": {
       "model_id": "a95f25e11e434048903cd98f980fd320",
       "version_major": 2,
       "version_minor": 0
      },
      "text/plain": [
       "Batches:   0%|          | 0/1 [00:00<?, ?it/s]"
      ]
     },
     "metadata": {},
     "output_type": "display_data"
    },
    {
     "data": {
      "application/vnd.jupyter.widget-view+json": {
       "model_id": "c4620b2c43c0436d8ee2421151fa154c",
       "version_major": 2,
       "version_minor": 0
      },
      "text/plain": [
       "Batches:   0%|          | 0/1 [00:00<?, ?it/s]"
      ]
     },
     "metadata": {},
     "output_type": "display_data"
    },
    {
     "data": {
      "application/vnd.jupyter.widget-view+json": {
       "model_id": "91d628e57d3c4fa4ae2d40845bc625bf",
       "version_major": 2,
       "version_minor": 0
      },
      "text/plain": [
       "Batches:   0%|          | 0/1 [00:00<?, ?it/s]"
      ]
     },
     "metadata": {},
     "output_type": "display_data"
    },
    {
     "data": {
      "application/vnd.jupyter.widget-view+json": {
       "model_id": "e88d6862c1a74f41871518049f258651",
       "version_major": 2,
       "version_minor": 0
      },
      "text/plain": [
       "Batches:   0%|          | 0/1 [00:00<?, ?it/s]"
      ]
     },
     "metadata": {},
     "output_type": "display_data"
    },
    {
     "name": "stdout",
     "output_type": "stream",
     "text": [
      "🟩 Loại detect: tổng kết môn học\n",
      "➡️ Mã môn học detect: SWE201c\n",
      "➡️ Học kỳ detect: Spring2025\n",
      "📄 Content:\n",
      "LOẠI: tổng kết môn học\n",
      "Môn học: SWE201c - Introduction to Software Engineering\n",
      "Học kỳ: Spring2025\n",
      "Điểm trung bình: 9.1\n",
      "Trạng thái: Passed\n",
      "Tóm tắt: {'PE': {'weight': '40.0 %', 'value': '7.7'}, 'PE Resit': {'weight': '40.0 %', 'value': '8'}, 'TE': {'weight': '60.0 %', 'value': '7.2'}, 'TE Resit': {'weight': '60.0 %', 'value': '8.2'}}\n",
      "--------\n",
      "📄 Content:\n",
      "LOẠI: Chi tiết điểm\n",
      "Sinh viên: DE190340\n",
      "Môn học: SWE201c - Introduction to Software Engineering\n",
      "Học kỳ: Spring2025\n",
      "Mục: TE | Loại: TE\n",
      "Trọng số: 60.0 % | Điểm đạt: 7.2\n",
      "--------\n",
      "📄 Content:\n",
      "LOẠI: tổng kết môn học\n",
      "Môn học: SSL101c - Academic Skills for University Success\n",
      "Học kỳ: Spring2024\n",
      "Điểm trung bình: 6.9\n",
      "Trạng thái: Passed\n",
      "Tóm tắt: {'theory_exam': '6.7', 'practise_exam': None, 'bonus': '0.2'}\n",
      "--------\n",
      "==> 3 kết quả\n",
      "\n",
      "\n",
      "🔎 Query 12: điểm danh môn PFP191 tuần trước\n"
     ]
    },
    {
     "data": {
      "application/vnd.jupyter.widget-view+json": {
       "model_id": "c15fec02d24f4d7cb464347cb0aad41b",
       "version_major": 2,
       "version_minor": 0
      },
      "text/plain": [
       "Batches:   0%|          | 0/1 [00:00<?, ?it/s]"
      ]
     },
     "metadata": {},
     "output_type": "display_data"
    },
    {
     "data": {
      "application/vnd.jupyter.widget-view+json": {
       "model_id": "5ce9afeffd9f44498a72865d357a1f41",
       "version_major": 2,
       "version_minor": 0
      },
      "text/plain": [
       "Batches:   0%|          | 0/1 [00:00<?, ?it/s]"
      ]
     },
     "metadata": {},
     "output_type": "display_data"
    },
    {
     "data": {
      "application/vnd.jupyter.widget-view+json": {
       "model_id": "1a1e85286bdf4ba3982743eba4cda6e6",
       "version_major": 2,
       "version_minor": 0
      },
      "text/plain": [
       "Batches:   0%|          | 0/1 [00:00<?, ?it/s]"
      ]
     },
     "metadata": {},
     "output_type": "display_data"
    },
    {
     "data": {
      "application/vnd.jupyter.widget-view+json": {
       "model_id": "cd4f59cf8c2a4cfdb00099fbfb13dd30",
       "version_major": 2,
       "version_minor": 0
      },
      "text/plain": [
       "Batches:   0%|          | 0/1 [00:00<?, ?it/s]"
      ]
     },
     "metadata": {},
     "output_type": "display_data"
    },
    {
     "name": "stdout",
     "output_type": "stream",
     "text": [
      "🟩 Loại detect: điểm danh\n",
      "➡️ Mã môn học detect: PFP191\n",
      "➡️ Học kỳ detect: Fall2024\n",
      "📄 Content:\n",
      "LOẠI: Điểm danh\n",
      "Sinh viên: DE190340\n",
      "Môn học: PFP191 - Programming Fundamentals with Python\n",
      "Học kỳ: Spring2024 | Buổi số: 6 - Ngày: Friday 19/01/2024 - Ca: 4_(15:00-17:15) - Phòng: 220.\n",
      "Giảng viên: HoangTV | Nhóm: AI18D02\n",
      "Trạng thái: Present | Ghi chú: Không rõ\n",
      "--------\n",
      "📄 Content:\n",
      "LOẠI: Điểm danh\n",
      "Sinh viên: DE190340\n",
      "Môn học: PFP191 - Programming Fundamentals with Python\n",
      "Học kỳ: Spring2024 | Buổi số: 11 - Ngày: Friday 23/02/2024 - Ca: 4_(15:00-17:15) - Phòng: 220.\n",
      "Giảng viên: HoangTV | Nhóm: AI18D02\n",
      "Trạng thái: Present | Ghi chú: Không rõ\n",
      "--------\n",
      "📄 Content:\n",
      "LOẠI: Điểm danh\n",
      "Sinh viên: DE190340\n",
      "Môn học: PFP191 - Programming Fundamentals with Python\n",
      "Học kỳ: Spring2024 | Buổi số: 8 - Ngày: Friday 26/01/2024 - Ca: 4_(15:00-17:15) - Phòng: 220.\n",
      "Giảng viên: HoangTV | Nhóm: AI18D02\n",
      "Trạng thái: Present | Ghi chú: Không rõ\n",
      "--------\n",
      "==> 3 kết quả\n",
      "\n",
      "\n",
      "🔎 Query 13: điểm lab 2 môn DPL302m\n"
     ]
    },
    {
     "data": {
      "application/vnd.jupyter.widget-view+json": {
       "model_id": "1af0210288c043e78db58705ca515ed0",
       "version_major": 2,
       "version_minor": 0
      },
      "text/plain": [
       "Batches:   0%|          | 0/1 [00:00<?, ?it/s]"
      ]
     },
     "metadata": {},
     "output_type": "display_data"
    },
    {
     "data": {
      "application/vnd.jupyter.widget-view+json": {
       "model_id": "155ad0b948a44ef6af2447ae8ddfc189",
       "version_major": 2,
       "version_minor": 0
      },
      "text/plain": [
       "Batches:   0%|          | 0/1 [00:00<?, ?it/s]"
      ]
     },
     "metadata": {},
     "output_type": "display_data"
    },
    {
     "data": {
      "application/vnd.jupyter.widget-view+json": {
       "model_id": "0f4d49e018644ae2932f844c3c5a7e1e",
       "version_major": 2,
       "version_minor": 0
      },
      "text/plain": [
       "Batches:   0%|          | 0/1 [00:00<?, ?it/s]"
      ]
     },
     "metadata": {},
     "output_type": "display_data"
    },
    {
     "data": {
      "application/vnd.jupyter.widget-view+json": {
       "model_id": "c85b3988d7f441c3b1cd330affeca500",
       "version_major": 2,
       "version_minor": 0
      },
      "text/plain": [
       "Batches:   0%|          | 0/1 [00:00<?, ?it/s]"
      ]
     },
     "metadata": {},
     "output_type": "display_data"
    },
    {
     "name": "stdout",
     "output_type": "stream",
     "text": [
      "🟩 Loại detect: chi tiết điểm\n",
      "➡️ Mã môn học detect: DPL302m\n",
      "➡️ Học kỳ detect: Spring2025\n",
      "📄 Content:\n",
      "LOẠI: Chi tiết điểm\n",
      "Sinh viên: DE190340\n",
      "Môn học: AIL303m - Machine Learning\n",
      "Học kỳ: Spring2025\n",
      "Mục: Lab 2 | Loại: Lab 2\n",
      "Trọng số: 10.0 % | Điểm đạt: 4.0\n",
      "--------\n",
      "📄 Content:\n",
      "LOẠI: Điểm danh\n",
      "Sinh viên: DE190340\n",
      "Môn học: DPL302m - Deep Learning\n",
      "Học kỳ: Summer2025 | Buổi số: 6 - Ngày: Tuesday 20/05/2025 - Ca: 2_(9:30-11:45) - Phòng: Gamma 101.\n",
      "Giảng viên: HongPTT11 | Nhóm: AI18D02\n",
      "Trạng thái: Present | Ghi chú: Không rõ\n",
      "--------\n",
      "📄 Content:\n",
      "LOẠI: Điểm danh\n",
      "Sinh viên: DE190340\n",
      "Môn học: DPL302m - Deep Learning\n",
      "Học kỳ: Summer2025 | Buổi số: 10 - Ngày: Tuesday 27/05/2025 - Ca: 2_(9:30-11:45) - Phòng: Gamma 101.\n",
      "Giảng viên: HongPTT11 | Nhóm: AI18D02\n",
      "Trạng thái: Present | Ghi chú: Không rõ\n",
      "--------\n",
      "==> 3 kết quả\n",
      "\n",
      "\n",
      "🔎 Query 14: điểm assignment môn DBI202\n"
     ]
    },
    {
     "data": {
      "application/vnd.jupyter.widget-view+json": {
       "model_id": "a8e1ecb7ab0c43a29c998bdfa2bebf60",
       "version_major": 2,
       "version_minor": 0
      },
      "text/plain": [
       "Batches:   0%|          | 0/1 [00:00<?, ?it/s]"
      ]
     },
     "metadata": {},
     "output_type": "display_data"
    },
    {
     "data": {
      "application/vnd.jupyter.widget-view+json": {
       "model_id": "9c858d887d5543569d106c714b086cb0",
       "version_major": 2,
       "version_minor": 0
      },
      "text/plain": [
       "Batches:   0%|          | 0/1 [00:00<?, ?it/s]"
      ]
     },
     "metadata": {},
     "output_type": "display_data"
    },
    {
     "data": {
      "application/vnd.jupyter.widget-view+json": {
       "model_id": "7c990af9387046b8802dacb4bf1c4d1f",
       "version_major": 2,
       "version_minor": 0
      },
      "text/plain": [
       "Batches:   0%|          | 0/1 [00:00<?, ?it/s]"
      ]
     },
     "metadata": {},
     "output_type": "display_data"
    },
    {
     "data": {
      "application/vnd.jupyter.widget-view+json": {
       "model_id": "a95fa4deb91b449fbf48258abdcd3d26",
       "version_major": 2,
       "version_minor": 0
      },
      "text/plain": [
       "Batches:   0%|          | 0/1 [00:00<?, ?it/s]"
      ]
     },
     "metadata": {},
     "output_type": "display_data"
    },
    {
     "name": "stdout",
     "output_type": "stream",
     "text": [
      "🟩 Loại detect: chi tiết điểm\n",
      "➡️ Mã môn học detect: DBI202\n",
      "➡️ Học kỳ detect: Spring2025\n",
      "📄 Content:\n",
      "LOẠI: Chi tiết điểm\n",
      "Sinh viên: DE190340\n",
      "Môn học: DBI202 - Database Systems\n",
      "Học kỳ: Summer2024\n",
      "Mục: Assignment | Loại: Assignment\n",
      "Trọng số: 20.0 % | Điểm đạt: 7.0\n",
      "--------\n",
      "📄 Content:\n",
      "LOẠI: Chi tiết điểm\n",
      "Sinh viên: DE190340\n",
      "Môn học: DBI202 - Database Systems\n",
      "Học kỳ: Summer2024\n",
      "Mục: Progress test 2 | Loại: Progress test\n",
      "Trọng số: 5.0 % | Điểm đạt: 8.2\n",
      "--------\n",
      "📄 Content:\n",
      "LOẠI: Chi tiết điểm\n",
      "Sinh viên: DE190340\n",
      "Môn học: DBI202 - Database Systems\n",
      "Học kỳ: Summer2024\n",
      "Mục: Lab 1 | Loại: Lab\n",
      "Trọng số: 2.0 % | Điểm đạt: 8.0\n",
      "--------\n",
      "==> 3 kết quả\n",
      "\n",
      "\n",
      "🔎 Query 15: điểm progress test 1 môn MAD101\n"
     ]
    },
    {
     "data": {
      "application/vnd.jupyter.widget-view+json": {
       "model_id": "e08ed65aff0246bb80190b6d7a5db4a5",
       "version_major": 2,
       "version_minor": 0
      },
      "text/plain": [
       "Batches:   0%|          | 0/1 [00:00<?, ?it/s]"
      ]
     },
     "metadata": {},
     "output_type": "display_data"
    },
    {
     "data": {
      "application/vnd.jupyter.widget-view+json": {
       "model_id": "1aa80aa5a2064a90bb88d703f19c7cba",
       "version_major": 2,
       "version_minor": 0
      },
      "text/plain": [
       "Batches:   0%|          | 0/1 [00:00<?, ?it/s]"
      ]
     },
     "metadata": {},
     "output_type": "display_data"
    },
    {
     "data": {
      "application/vnd.jupyter.widget-view+json": {
       "model_id": "53e81ebb55564ac1a98b605d01cf15b5",
       "version_major": 2,
       "version_minor": 0
      },
      "text/plain": [
       "Batches:   0%|          | 0/1 [00:00<?, ?it/s]"
      ]
     },
     "metadata": {},
     "output_type": "display_data"
    },
    {
     "data": {
      "application/vnd.jupyter.widget-view+json": {
       "model_id": "6aa03fe5c28a4485ae53612504de5db4",
       "version_major": 2,
       "version_minor": 0
      },
      "text/plain": [
       "Batches:   0%|          | 0/1 [00:00<?, ?it/s]"
      ]
     },
     "metadata": {},
     "output_type": "display_data"
    },
    {
     "name": "stdout",
     "output_type": "stream",
     "text": [
      "🟩 Loại detect: chi tiết điểm\n",
      "➡️ Mã môn học detect: MAD101\n",
      "➡️ Học kỳ detect: Spring2025\n",
      "📄 Content:\n",
      "LOẠI: Chi tiết điểm\n",
      "Sinh viên: DE190340\n",
      "Môn học: MAD101 - Discrete mathematics\n",
      "Học kỳ: Spring2024\n",
      "Mục: Progress test 1 | Loại: Progress test\n",
      "Trọng số: 10.0 % | Điểm đạt: 8.5\n",
      "--------\n",
      "📄 Content:\n",
      "LOẠI: Chi tiết điểm\n",
      "Sinh viên: DE190340\n",
      "Môn học: MAD101 - Discrete mathematics\n",
      "Học kỳ: Spring2024\n",
      "Mục: Progress test 2 | Loại: Progress test\n",
      "Trọng số: 10.0 % | Điểm đạt: 9.5\n",
      "--------\n",
      "📄 Content:\n",
      "LOẠI: Chi tiết điểm\n",
      "Sinh viên: DE190340\n",
      "Môn học: MAD101 - Discrete mathematics\n",
      "Học kỳ: Spring2024\n",
      "Mục: Progress test 3 | Loại: Progress test\n",
      "Trọng số: 10.0 % | Điểm đạt: 8.4\n",
      "--------\n",
      "==> 3 kết quả\n",
      "\n",
      "\n",
      "🔎 Query 16: điểm giữa kỳ môn MAE101\n"
     ]
    },
    {
     "data": {
      "application/vnd.jupyter.widget-view+json": {
       "model_id": "e7d23262bca04348b34057a5a53cca00",
       "version_major": 2,
       "version_minor": 0
      },
      "text/plain": [
       "Batches:   0%|          | 0/1 [00:00<?, ?it/s]"
      ]
     },
     "metadata": {},
     "output_type": "display_data"
    },
    {
     "data": {
      "application/vnd.jupyter.widget-view+json": {
       "model_id": "673ae093d8de4ab5b2c24460cfabb0fc",
       "version_major": 2,
       "version_minor": 0
      },
      "text/plain": [
       "Batches:   0%|          | 0/1 [00:00<?, ?it/s]"
      ]
     },
     "metadata": {},
     "output_type": "display_data"
    },
    {
     "data": {
      "application/vnd.jupyter.widget-view+json": {
       "model_id": "b92590ed93be488081ccc4c5affc3e82",
       "version_major": 2,
       "version_minor": 0
      },
      "text/plain": [
       "Batches:   0%|          | 0/1 [00:00<?, ?it/s]"
      ]
     },
     "metadata": {},
     "output_type": "display_data"
    },
    {
     "data": {
      "application/vnd.jupyter.widget-view+json": {
       "model_id": "3679037ba4334506ab25d3a2203d4447",
       "version_major": 2,
       "version_minor": 0
      },
      "text/plain": [
       "Batches:   0%|          | 0/1 [00:00<?, ?it/s]"
      ]
     },
     "metadata": {},
     "output_type": "display_data"
    },
    {
     "name": "stdout",
     "output_type": "stream",
     "text": [
      "🟩 Loại detect: chi tiết điểm\n",
      "➡️ Mã môn học detect: MAE101\n",
      "➡️ Học kỳ detect: Spring2025\n",
      "📄 Content:\n",
      "LOẠI: Chi tiết điểm\n",
      "Sinh viên: DE190340\n",
      "Môn học: MAE101 - Mathematics for Engineering\n",
      "Học kỳ: Spring2024\n",
      "Mục: Assignment / Excercise 1 | Loại: Assignment / Excercise\n",
      "Trọng số: 10.0 % | Điểm đạt: 9.0\n",
      "--------\n",
      "📄 Content:\n",
      "LOẠI: Chi tiết điểm\n",
      "Sinh viên: DE190340\n",
      "Môn học: JPD113 - Elementary Japanese 1-A1.1\n",
      "Học kỳ: Fall2024\n",
      "Mục: Kiểm tra giữa kì | Loại: Kiểm tra giữa kì\n",
      "Trọng số: 30.0 % | Điểm đạt: 9.3\n",
      "--------\n",
      "📄 Content:\n",
      "LOẠI: Chi tiết điểm\n",
      "Sinh viên: DE190340\n",
      "Môn học: MAE101 - Mathematics for Engineering\n",
      "Học kỳ: Spring2024\n",
      "Mục: Assignment / Excercise 2 | Loại: Assignment / Excercise\n",
      "Trọng số: 10.0 % | Điểm đạt: 9.0\n",
      "--------\n",
      "==> 3 kết quả\n",
      "\n",
      "\n",
      "🔎 Query 17: điểm cuối kỳ môn MAS291\n"
     ]
    },
    {
     "data": {
      "application/vnd.jupyter.widget-view+json": {
       "model_id": "4c69dc5fdf5f466d82603fd516121e33",
       "version_major": 2,
       "version_minor": 0
      },
      "text/plain": [
       "Batches:   0%|          | 0/1 [00:00<?, ?it/s]"
      ]
     },
     "metadata": {},
     "output_type": "display_data"
    },
    {
     "data": {
      "application/vnd.jupyter.widget-view+json": {
       "model_id": "7f283363f252401fbe35e05554315c50",
       "version_major": 2,
       "version_minor": 0
      },
      "text/plain": [
       "Batches:   0%|          | 0/1 [00:00<?, ?it/s]"
      ]
     },
     "metadata": {},
     "output_type": "display_data"
    },
    {
     "data": {
      "application/vnd.jupyter.widget-view+json": {
       "model_id": "980ee0fb5e3346e082fde414a7cf333e",
       "version_major": 2,
       "version_minor": 0
      },
      "text/plain": [
       "Batches:   0%|          | 0/1 [00:00<?, ?it/s]"
      ]
     },
     "metadata": {},
     "output_type": "display_data"
    },
    {
     "data": {
      "application/vnd.jupyter.widget-view+json": {
       "model_id": "02e04996eba34f158e344527fbb4938b",
       "version_major": 2,
       "version_minor": 0
      },
      "text/plain": [
       "Batches:   0%|          | 0/1 [00:00<?, ?it/s]"
      ]
     },
     "metadata": {},
     "output_type": "display_data"
    },
    {
     "name": "stdout",
     "output_type": "stream",
     "text": [
      "🟩 Loại detect: chi tiết điểm\n",
      "➡️ Mã môn học detect: MAS291\n",
      "➡️ Học kỳ detect: Fall2024\n",
      "📄 Content:\n",
      "LOẠI: Chi tiết điểm\n",
      "Sinh viên: DE190340\n",
      "Môn học: MAS291 - Statistics & Probability\n",
      "Học kỳ: Fall2024\n",
      "Mục: Final exam | Loại: Final exam\n",
      "Trọng số: 35.0 % | Điểm đạt: 7.2\n",
      "--------\n",
      "📄 Content:\n",
      "LOẠI: Chi tiết điểm\n",
      "Sinh viên: DE190340\n",
      "Môn học: MAS291 - Statistics & Probability\n",
      "Học kỳ: Fall2024\n",
      "Mục: Final exam Resit | Loại: Final exam Resit\n",
      "Trọng số: 35.0 % | Điểm đạt: Khong ro\n",
      "--------\n",
      "📄 Content:\n",
      "LOẠI: Chi tiết điểm\n",
      "Sinh viên: DE190340\n",
      "Môn học: MAS291 - Statistics & Probability\n",
      "Học kỳ: Fall2024\n",
      "Mục: Assignment 1 | Loại: Assignment\n",
      "Trọng số: 10.0 % | Điểm đạt: 10.0\n",
      "--------\n",
      "==> 3 kết quả\n",
      "\n",
      "\n",
      "🔎 Query 18: điểm danh môn SSL101c ngày 01/11\n"
     ]
    },
    {
     "data": {
      "application/vnd.jupyter.widget-view+json": {
       "model_id": "1d8ce97025b244059a6a8da49f94bca4",
       "version_major": 2,
       "version_minor": 0
      },
      "text/plain": [
       "Batches:   0%|          | 0/1 [00:00<?, ?it/s]"
      ]
     },
     "metadata": {},
     "output_type": "display_data"
    },
    {
     "data": {
      "application/vnd.jupyter.widget-view+json": {
       "model_id": "024e5f3a03e647da976067c7137e5c0e",
       "version_major": 2,
       "version_minor": 0
      },
      "text/plain": [
       "Batches:   0%|          | 0/1 [00:00<?, ?it/s]"
      ]
     },
     "metadata": {},
     "output_type": "display_data"
    },
    {
     "data": {
      "application/vnd.jupyter.widget-view+json": {
       "model_id": "e62cb7f975dd4ea1a1888294bc9a646b",
       "version_major": 2,
       "version_minor": 0
      },
      "text/plain": [
       "Batches:   0%|          | 0/1 [00:00<?, ?it/s]"
      ]
     },
     "metadata": {},
     "output_type": "display_data"
    },
    {
     "data": {
      "application/vnd.jupyter.widget-view+json": {
       "model_id": "8baaef4266da41219422adf24b8426e1",
       "version_major": 2,
       "version_minor": 0
      },
      "text/plain": [
       "Batches:   0%|          | 0/1 [00:00<?, ?it/s]"
      ]
     },
     "metadata": {},
     "output_type": "display_data"
    },
    {
     "name": "stdout",
     "output_type": "stream",
     "text": [
      "🟩 Loại detect: điểm danh\n",
      "➡️ Mã môn học detect: SSL101c\n",
      "➡️ Học kỳ detect: Spring2025\n",
      "📄 Content:\n",
      "LOẠI: Điểm danh\n",
      "Sinh viên: DE190340\n",
      "Môn học: SSL101c - Academic Skills for University Success\n",
      "Học kỳ: Spring2024 | Buổi số: 1 - Ngày: Saturday 06/01/2024 - Ca: 8_(19:30-21:00) - Phòng: 110\n",
      "Giảng viên: LongT3 | Nhóm: SSL101c_2\n",
      "Trạng thái: Present | Ghi chú: Không rõ\n",
      "--------\n",
      "📄 Content:\n",
      "LOẠI: Điểm danh\n",
      "Sinh viên: DE190340\n",
      "Môn học: SSL101c - Academic Skills for University Success\n",
      "Học kỳ: Spring2024 | Buổi số: 2 - Ngày: Monday 15/01/2024 - Ca: 8_(19:30-21:00) - Phòng: 110\n",
      "Giảng viên: LongT3 | Nhóm: SSL101c_2\n",
      "Trạng thái: Absent | Ghi chú: Không rõ\n",
      "--------\n",
      "📄 Content:\n",
      "LOẠI: Điểm danh\n",
      "Sinh viên: DE190340\n",
      "Môn học: SSL101c - Academic Skills for University Success\n",
      "Học kỳ: Spring2024 | Buổi số: 4 - Ngày: Monday 26/02/2024 - Ca: 8_(19:30-21:00) - Phòng: 110\n",
      "Giảng viên: LongT3 | Nhóm: SSL101c_2\n",
      "Trạng thái: Absent | Ghi chú: Không rõ\n",
      "--------\n",
      "==> 3 kết quả\n",
      "\n",
      "\n",
      "🔎 Query 19: giảng viên môn DSA103 là ai\n"
     ]
    },
    {
     "data": {
      "application/vnd.jupyter.widget-view+json": {
       "model_id": "1b16b14cd59d4ac3b1e7d5d7248c4893",
       "version_major": 2,
       "version_minor": 0
      },
      "text/plain": [
       "Batches:   0%|          | 0/1 [00:00<?, ?it/s]"
      ]
     },
     "metadata": {},
     "output_type": "display_data"
    },
    {
     "data": {
      "application/vnd.jupyter.widget-view+json": {
       "model_id": "7f68dfc44beb45118a76d9c87e09a4df",
       "version_major": 2,
       "version_minor": 0
      },
      "text/plain": [
       "Batches:   0%|          | 0/1 [00:00<?, ?it/s]"
      ]
     },
     "metadata": {},
     "output_type": "display_data"
    },
    {
     "data": {
      "application/vnd.jupyter.widget-view+json": {
       "model_id": "69716a569a9743f5950c54a94717b2c4",
       "version_major": 2,
       "version_minor": 0
      },
      "text/plain": [
       "Batches:   0%|          | 0/1 [00:00<?, ?it/s]"
      ]
     },
     "metadata": {},
     "output_type": "display_data"
    },
    {
     "data": {
      "application/vnd.jupyter.widget-view+json": {
       "model_id": "87d2ccd2b0bd454cbe628e2be48dcea9",
       "version_major": 2,
       "version_minor": 0
      },
      "text/plain": [
       "Batches:   0%|          | 0/1 [00:00<?, ?it/s]"
      ]
     },
     "metadata": {},
     "output_type": "display_data"
    },
    {
     "name": "stdout",
     "output_type": "stream",
     "text": [
      "🟩 Loại detect: điểm danh\n",
      "➡️ Mã môn học detect: DSA103\n",
      "➡️ Học kỳ detect: Fall2023\n",
      "📄 Content:\n",
      "LOẠI: Điểm danh\n",
      "Sinh viên: DE190340\n",
      "Môn học: DSA103 - Traditional musical instrument\n",
      "Học kỳ: Fall2023 | Buổi số: 1 - Ngày: Monday 13/11/2023 - Ca: 4_(12:30-14:00) - Phòng: 417\n",
      "Giảng viên: TANTN13 | Nhóm: PC1904_DSA103_H2\n",
      "Trạng thái: Absent | Ghi chú: Không rõ\n",
      "--------\n",
      "📄 Content:\n",
      "LOẠI: Điểm danh\n",
      "Sinh viên: DE190340\n",
      "Môn học: DSA103 - Traditional musical instrument\n",
      "Học kỳ: Fall2023 | Buổi số: 12 - Ngày: Tuesday 28/11/2023 - Ca: 4_(12:30-14:00) - Phòng: 417\n",
      "Giảng viên: TANTN13 | Nhóm: PC1904_DSA103_H2\n",
      "Trạng thái: Absent | Ghi chú: Không rõ\n",
      "--------\n",
      "📄 Content:\n",
      "LOẠI: Điểm danh\n",
      "Sinh viên: DE190340\n",
      "Môn học: DSA103 - Traditional musical instrument\n",
      "Học kỳ: Fall2023 | Buổi số: 13 - Ngày: Wednesday 29/11/2023 - Ca: 4_(12:30-14:00) - Phòng: 417\n",
      "Giảng viên: TANTN13 | Nhóm: PC1904_DSA103_H2\n",
      "Trạng thái: Present | Ghi chú: Không rõ\n",
      "--------\n",
      "==> 3 kết quả\n",
      "\n",
      "\n",
      "🔎 Query 20: điểm bài tập lớn môn CSD203\n"
     ]
    },
    {
     "data": {
      "application/vnd.jupyter.widget-view+json": {
       "model_id": "33b40db0905a46a8b751b2caff1aab3f",
       "version_major": 2,
       "version_minor": 0
      },
      "text/plain": [
       "Batches:   0%|          | 0/1 [00:00<?, ?it/s]"
      ]
     },
     "metadata": {},
     "output_type": "display_data"
    },
    {
     "data": {
      "application/vnd.jupyter.widget-view+json": {
       "model_id": "94945c8c9bc04f60903fb66677d038fc",
       "version_major": 2,
       "version_minor": 0
      },
      "text/plain": [
       "Batches:   0%|          | 0/1 [00:00<?, ?it/s]"
      ]
     },
     "metadata": {},
     "output_type": "display_data"
    },
    {
     "data": {
      "application/vnd.jupyter.widget-view+json": {
       "model_id": "cf46ca7371ac4b9298ea4a3eac8d3535",
       "version_major": 2,
       "version_minor": 0
      },
      "text/plain": [
       "Batches:   0%|          | 0/1 [00:00<?, ?it/s]"
      ]
     },
     "metadata": {},
     "output_type": "display_data"
    },
    {
     "data": {
      "application/vnd.jupyter.widget-view+json": {
       "model_id": "c56c14b2a3424cd6bbaa26863a70e8e5",
       "version_major": 2,
       "version_minor": 0
      },
      "text/plain": [
       "Batches:   0%|          | 0/1 [00:00<?, ?it/s]"
      ]
     },
     "metadata": {},
     "output_type": "display_data"
    },
    {
     "name": "stdout",
     "output_type": "stream",
     "text": [
      "🟩 Loại detect: chi tiết điểm\n",
      "➡️ Mã môn học detect: CSD203\n",
      "➡️ Học kỳ detect: Fall2023\n",
      "📄 Content:\n",
      "LOẠI: Chi tiết điểm\n",
      "Sinh viên: DE190340\n",
      "Môn học: CSD203 - Data Structures and Algorithm with Python\n",
      "Học kỳ: Summer2024\n",
      "Mục: Assignment 2 | Loại: Assignment 2\n",
      "Trọng số: 10.0 % | Điểm đạt: 8.5\n",
      "--------\n",
      "📄 Content:\n",
      "LOẠI: Chi tiết điểm\n",
      "Sinh viên: DE190340\n",
      "Môn học: CSD203 - Data Structures and Algorithm with Python\n",
      "Học kỳ: Summer2024\n",
      "Mục: Assignment 1 | Loại: Assignment 1\n",
      "Trọng số: 10.0 % | Điểm đạt: 7.5\n",
      "--------\n",
      "📄 Content:\n",
      "LOẠI: Chi tiết điểm\n",
      "Sinh viên: DE190340\n",
      "Môn học: CPV301 - Computer Vision\n",
      "Học kỳ: Spring2025\n",
      "Mục: Assignment | Loại: Assignment\n",
      "Trọng số: 30.0 % | Điểm đạt: 8.5\n",
      "--------\n",
      "==> 3 kết quả\n",
      "\n",
      "\n",
      "🔎 Query 21: điểm danh môn VOV124 tuần này\n"
     ]
    },
    {
     "data": {
      "application/vnd.jupyter.widget-view+json": {
       "model_id": "c8694a9c7d2347dfa900ff4efdf09408",
       "version_major": 2,
       "version_minor": 0
      },
      "text/plain": [
       "Batches:   0%|          | 0/1 [00:00<?, ?it/s]"
      ]
     },
     "metadata": {},
     "output_type": "display_data"
    },
    {
     "data": {
      "application/vnd.jupyter.widget-view+json": {
       "model_id": "82a8a91d76f2426380a90f062efa0876",
       "version_major": 2,
       "version_minor": 0
      },
      "text/plain": [
       "Batches:   0%|          | 0/1 [00:00<?, ?it/s]"
      ]
     },
     "metadata": {},
     "output_type": "display_data"
    },
    {
     "data": {
      "application/vnd.jupyter.widget-view+json": {
       "model_id": "c4312ef3b778406e95b979be5f09aa87",
       "version_major": 2,
       "version_minor": 0
      },
      "text/plain": [
       "Batches:   0%|          | 0/1 [00:00<?, ?it/s]"
      ]
     },
     "metadata": {},
     "output_type": "display_data"
    },
    {
     "data": {
      "application/vnd.jupyter.widget-view+json": {
       "model_id": "dba7370862164711a69650502115cb23",
       "version_major": 2,
       "version_minor": 0
      },
      "text/plain": [
       "Batches:   0%|          | 0/1 [00:00<?, ?it/s]"
      ]
     },
     "metadata": {},
     "output_type": "display_data"
    },
    {
     "name": "stdout",
     "output_type": "stream",
     "text": [
      "🟩 Loại detect: điểm danh\n",
      "➡️ Mã môn học detect: VOV124\n",
      "➡️ Học kỳ detect: Fall2024\n",
      "📄 Content:\n",
      "LOẠI: Điểm danh\n",
      "Sinh viên: DE190340\n",
      "Môn học: VOV124 - Vovinam 2\n",
      "Học kỳ: Spring2024 | Buổi số: 11 - Ngày: Friday 19/01/2024 - Ca: 1_(7:00-8:30) - Phòng: Vovinam 3\n",
      "Giảng viên: TienTT28 | Nhóm: VOV124_06\n",
      "Trạng thái: Present | Ghi chú: Không rõ\n",
      "--------\n",
      "📄 Content:\n",
      "LOẠI: Điểm danh\n",
      "Sinh viên: DE190340\n",
      "Môn học: VOV124 - Vovinam 2\n",
      "Học kỳ: Spring2024 | Buổi số: 4 - Ngày: Friday 05/01/2024 - Ca: 2_(8:45-10:15) - Phòng: Vovinam 3\n",
      "Giảng viên: TienTT28 | Nhóm: VOV124_06\n",
      "Trạng thái: Present | Ghi chú: Không rõ\n",
      "--------\n",
      "📄 Content:\n",
      "LOẠI: Điểm danh\n",
      "Sinh viên: DE190340\n",
      "Môn học: VOV124 - Vovinam 2\n",
      "Học kỳ: Spring2024 | Buổi số: 14 - Ngày: Tuesday 23/01/2024 - Ca: 2_(8:45-10:15) - Phòng: Vovinam 3\n",
      "Giảng viên: TienTT28 | Nhóm: VOV124_06\n",
      "Trạng thái: Present | Ghi chú: Không rõ\n",
      "--------\n",
      "==> 3 kết quả\n",
      "\n",
      "\n",
      "🔎 Query 22: điểm lab 3 môn DWP301c\n"
     ]
    },
    {
     "data": {
      "application/vnd.jupyter.widget-view+json": {
       "model_id": "c2c9247d574f4f599ae16a68b2a536bb",
       "version_major": 2,
       "version_minor": 0
      },
      "text/plain": [
       "Batches:   0%|          | 0/1 [00:00<?, ?it/s]"
      ]
     },
     "metadata": {},
     "output_type": "display_data"
    },
    {
     "data": {
      "application/vnd.jupyter.widget-view+json": {
       "model_id": "f2a74d5658b24b1d854556c11f4377db",
       "version_major": 2,
       "version_minor": 0
      },
      "text/plain": [
       "Batches:   0%|          | 0/1 [00:00<?, ?it/s]"
      ]
     },
     "metadata": {},
     "output_type": "display_data"
    },
    {
     "data": {
      "application/vnd.jupyter.widget-view+json": {
       "model_id": "09bd0880116447908baae1759b5aab3c",
       "version_major": 2,
       "version_minor": 0
      },
      "text/plain": [
       "Batches:   0%|          | 0/1 [00:00<?, ?it/s]"
      ]
     },
     "metadata": {},
     "output_type": "display_data"
    },
    {
     "data": {
      "application/vnd.jupyter.widget-view+json": {
       "model_id": "c99e78929ea24fa28b924519784eeaac",
       "version_major": 2,
       "version_minor": 0
      },
      "text/plain": [
       "Batches:   0%|          | 0/1 [00:00<?, ?it/s]"
      ]
     },
     "metadata": {},
     "output_type": "display_data"
    },
    {
     "name": "stdout",
     "output_type": "stream",
     "text": [
      "🟩 Loại detect: chi tiết điểm\n",
      "➡️ Mã môn học detect: DWP301c\n",
      "➡️ Học kỳ detect: Spring2025\n",
      "📄 Content:\n",
      "LOẠI: Chi tiết điểm\n",
      "Sinh viên: DE190340\n",
      "Môn học: CPV301 - Computer Vision\n",
      "Học kỳ: Spring2025\n",
      "Mục: Lab 3 | Loại: Lab\n",
      "Trọng số: 1.3 % | Điểm đạt: 9.0\n",
      "--------\n",
      "📄 Content:\n",
      "LOẠI: Chi tiết điểm\n",
      "Sinh viên: DE190340\n",
      "Môn học: CPV301 - Computer Vision\n",
      "Học kỳ: Spring2025\n",
      "Mục: Lab 6 | Loại: Lab\n",
      "Trọng số: 1.3 % | Điểm đạt: 9.0\n",
      "--------\n",
      "📄 Content:\n",
      "LOẠI: Chi tiết điểm\n",
      "Sinh viên: DE190340\n",
      "Môn học: CPV301 - Computer Vision\n",
      "Học kỳ: Spring2025\n",
      "Mục: Lab 2 | Loại: Lab\n",
      "Trọng số: 1.3 % | Điểm đạt: 9.0\n",
      "--------\n",
      "==> 3 kết quả\n",
      "\n",
      "\n",
      "🔎 Query 23: điểm tổng kết môn SEG301\n"
     ]
    },
    {
     "data": {
      "application/vnd.jupyter.widget-view+json": {
       "model_id": "ab2f251a7d5443d4b970ec1e55b7772e",
       "version_major": 2,
       "version_minor": 0
      },
      "text/plain": [
       "Batches:   0%|          | 0/1 [00:00<?, ?it/s]"
      ]
     },
     "metadata": {},
     "output_type": "display_data"
    },
    {
     "data": {
      "application/vnd.jupyter.widget-view+json": {
       "model_id": "2dd260f9a6a94bd0a29e29e504124dbe",
       "version_major": 2,
       "version_minor": 0
      },
      "text/plain": [
       "Batches:   0%|          | 0/1 [00:00<?, ?it/s]"
      ]
     },
     "metadata": {},
     "output_type": "display_data"
    },
    {
     "data": {
      "application/vnd.jupyter.widget-view+json": {
       "model_id": "ae840180f4234660b2a7cfa69292860f",
       "version_major": 2,
       "version_minor": 0
      },
      "text/plain": [
       "Batches:   0%|          | 0/1 [00:00<?, ?it/s]"
      ]
     },
     "metadata": {},
     "output_type": "display_data"
    },
    {
     "data": {
      "application/vnd.jupyter.widget-view+json": {
       "model_id": "0ffe169e06b440df8d5f5008f8d31603",
       "version_major": 2,
       "version_minor": 0
      },
      "text/plain": [
       "Batches:   0%|          | 0/1 [00:00<?, ?it/s]"
      ]
     },
     "metadata": {},
     "output_type": "display_data"
    },
    {
     "name": "stdout",
     "output_type": "stream",
     "text": [
      "🟩 Loại detect: chi tiết điểm\n",
      "➡️ Mã môn học detect: SEG301\n",
      "➡️ Học kỳ detect: Spring2025\n",
      "📄 Content:\n",
      "LOẠI: Điểm danh\n",
      "Sinh viên: DE190340\n",
      "Môn học: SEG301 - Search Engines\n",
      "Học kỳ: Summer2025 | Buổi số: 1 - Ngày: Monday 12/05/2025 - Ca: 4_(15:00-17:15) - Phòng: Alpha 206.\n",
      "Giảng viên: VuBC | Nhóm: AI18D01\n",
      "Trạng thái: Present | Ghi chú: Không rõ\n",
      "--------\n",
      "📄 Content:\n",
      "LOẠI: Điểm danh\n",
      "Sinh viên: DE190340\n",
      "Môn học: SEG301 - Search Engines\n",
      "Học kỳ: Summer2025 | Buổi số: 2 - Ngày: Thursday 15/05/2025 - Ca: 3_(12:30-14:45) - Phòng: Alpha 206.\n",
      "Giảng viên: VuBC | Nhóm: AI18D01\n",
      "Trạng thái: Present | Ghi chú: Không rõ\n",
      "--------\n",
      "📄 Content:\n",
      "LOẠI: Điểm danh\n",
      "Sinh viên: DE190340\n",
      "Môn học: SEG301 - Search Engines\n",
      "Học kỳ: Summer2025 | Buổi số: 3 - Ngày: Monday 19/05/2025 - Ca: 4_(15:00-17:15) - Phòng: Alpha 206.\n",
      "Giảng viên: VuBC | Nhóm: AI18D01\n",
      "Trạng thái: Present | Ghi chú: Không rõ\n",
      "--------\n",
      "==> 3 kết quả\n",
      "\n",
      "\n",
      "🔎 Query 24: điểm danh môn JPD113 ngày 15/10\n"
     ]
    },
    {
     "data": {
      "application/vnd.jupyter.widget-view+json": {
       "model_id": "6082770f496d4091a217b260609e305b",
       "version_major": 2,
       "version_minor": 0
      },
      "text/plain": [
       "Batches:   0%|          | 0/1 [00:00<?, ?it/s]"
      ]
     },
     "metadata": {},
     "output_type": "display_data"
    },
    {
     "data": {
      "application/vnd.jupyter.widget-view+json": {
       "model_id": "55e3386c6e104fe984d44981eae4a405",
       "version_major": 2,
       "version_minor": 0
      },
      "text/plain": [
       "Batches:   0%|          | 0/1 [00:00<?, ?it/s]"
      ]
     },
     "metadata": {},
     "output_type": "display_data"
    },
    {
     "data": {
      "application/vnd.jupyter.widget-view+json": {
       "model_id": "89f17a69dcff4703bd2f8833ff260f05",
       "version_major": 2,
       "version_minor": 0
      },
      "text/plain": [
       "Batches:   0%|          | 0/1 [00:00<?, ?it/s]"
      ]
     },
     "metadata": {},
     "output_type": "display_data"
    },
    {
     "data": {
      "application/vnd.jupyter.widget-view+json": {
       "model_id": "35028128cb3849a78b3d15b460c87b98",
       "version_major": 2,
       "version_minor": 0
      },
      "text/plain": [
       "Batches:   0%|          | 0/1 [00:00<?, ?it/s]"
      ]
     },
     "metadata": {},
     "output_type": "display_data"
    },
    {
     "name": "stdout",
     "output_type": "stream",
     "text": [
      "🟩 Loại detect: điểm danh\n",
      "➡️ Mã môn học detect: JPD113\n",
      "➡️ Học kỳ detect: Fall2023\n",
      "📄 Content:\n",
      "LOẠI: Điểm danh\n",
      "Sinh viên: DE190340\n",
      "Môn học: JPD113 - Elementary Japanese 1-A1.1\n",
      "Học kỳ: Fall2024 | Buổi số: 15 - Ngày: Tuesday 22/10/2024 - Ca: 1_(7:00-9:15) - Phòng: Gamma 203.\n",
      "Giảng viên: thuydt63 | Nhóm: GD18D01\n",
      "Trạng thái: Present | Ghi chú: Không rõ\n",
      "--------\n",
      "📄 Content:\n",
      "LOẠI: Điểm danh\n",
      "Sinh viên: DE190340\n",
      "Môn học: JPD123 - Japanese Elementary 1-A1.2\n",
      "Học kỳ: Spring2025 | Buổi số: 15 - Ngày: Monday 10/03/2025 - Ca: 1_(7:00-9:15) - Phòng: Gamma 302.\n",
      "Giảng viên: Linhtnm2 | Nhóm: GD18D02\n",
      "Trạng thái: Present | Ghi chú: Không rõ\n",
      "--------\n",
      "📄 Content:\n",
      "LOẠI: Điểm danh\n",
      "Sinh viên: DE190340\n",
      "Môn học: JPD113 - Elementary Japanese 1-A1.1\n",
      "Học kỳ: Fall2024 | Buổi số: 13 - Ngày: Tuesday 15/10/2024 - Ca: 1_(7:00-9:15) - Phòng: Gamma 203.\n",
      "Giảng viên: thuydt63 | Nhóm: GD18D01\n",
      "Trạng thái: Present | Ghi chú: Không rõ\n",
      "--------\n",
      "==> 3 kết quả\n",
      "\n",
      "\n",
      "🔎 Query 25: điểm final môn TMG301\n"
     ]
    },
    {
     "data": {
      "application/vnd.jupyter.widget-view+json": {
       "model_id": "b2d8da33478d4481804f46a42e38a463",
       "version_major": 2,
       "version_minor": 0
      },
      "text/plain": [
       "Batches:   0%|          | 0/1 [00:00<?, ?it/s]"
      ]
     },
     "metadata": {},
     "output_type": "display_data"
    },
    {
     "data": {
      "application/vnd.jupyter.widget-view+json": {
       "model_id": "60010fa0475347219ac4a57f1ce9b750",
       "version_major": 2,
       "version_minor": 0
      },
      "text/plain": [
       "Batches:   0%|          | 0/1 [00:00<?, ?it/s]"
      ]
     },
     "metadata": {},
     "output_type": "display_data"
    },
    {
     "data": {
      "application/vnd.jupyter.widget-view+json": {
       "model_id": "21d0de8a420c431aae20ced2f6333bca",
       "version_major": 2,
       "version_minor": 0
      },
      "text/plain": [
       "Batches:   0%|          | 0/1 [00:00<?, ?it/s]"
      ]
     },
     "metadata": {},
     "output_type": "display_data"
    },
    {
     "data": {
      "application/vnd.jupyter.widget-view+json": {
       "model_id": "57671e4f95db405a96bdc0c6ac7fd215",
       "version_major": 2,
       "version_minor": 0
      },
      "text/plain": [
       "Batches:   0%|          | 0/1 [00:00<?, ?it/s]"
      ]
     },
     "metadata": {},
     "output_type": "display_data"
    },
    {
     "name": "stdout",
     "output_type": "stream",
     "text": [
      "🟩 Loại detect: chi tiết điểm\n",
      "➡️ Mã môn học detect: TMG301\n",
      "➡️ Học kỳ detect: Spring2025\n",
      "📄 Content:\n",
      "LOẠI: Điểm danh\n",
      "Sinh viên: DE190340\n",
      "Môn học: TMG301 - Text Mining\n",
      "Học kỳ: Summer2025 | Buổi số: 1 - Ngày: Monday 12/05/2025 - Ca: 3_(12:30-14:45) - Phòng: Alpha 206.\n",
      "Giảng viên: VuongNL3 | Nhóm: AI18D01\n",
      "Trạng thái: Present | Ghi chú: Không rõ\n",
      "--------\n",
      "📄 Content:\n",
      "LOẠI: Chi tiết điểm\n",
      "Sinh viên: DE190340\n",
      "Môn học: OTP101 - Orientation and General Training Program\n",
      "Học kỳ: Fall2023\n",
      "Mục: Final Resit | Loại: Final Resit\n",
      "Trọng số: 100.0 % | Điểm đạt: Khong ro\n",
      "--------\n",
      "📄 Content:\n",
      "LOẠI: Điểm danh\n",
      "Sinh viên: DE190340\n",
      "Môn học: TMG301 - Text Mining\n",
      "Học kỳ: Summer2025 | Buổi số: 2 - Ngày: Thursday 15/05/2025 - Ca: 4_(15:00-17:15) - Phòng: Alpha 206.\n",
      "Giảng viên: VuongNL3 | Nhóm: AI18D01\n",
      "Trạng thái: Present | Ghi chú: Không rõ\n",
      "--------\n",
      "==> 3 kết quả\n",
      "\n",
      "\n",
      "🔎 Query 26: điểm assignment môn ITE303c\n"
     ]
    },
    {
     "data": {
      "application/vnd.jupyter.widget-view+json": {
       "model_id": "17aebe53cd6e4f44a078fc2170427afc",
       "version_major": 2,
       "version_minor": 0
      },
      "text/plain": [
       "Batches:   0%|          | 0/1 [00:00<?, ?it/s]"
      ]
     },
     "metadata": {},
     "output_type": "display_data"
    },
    {
     "data": {
      "application/vnd.jupyter.widget-view+json": {
       "model_id": "32d9c7f241584af6bcb3402ca4522419",
       "version_major": 2,
       "version_minor": 0
      },
      "text/plain": [
       "Batches:   0%|          | 0/1 [00:00<?, ?it/s]"
      ]
     },
     "metadata": {},
     "output_type": "display_data"
    },
    {
     "data": {
      "application/vnd.jupyter.widget-view+json": {
       "model_id": "f8bbf98f29b54a1fa0da1e6947b8bffd",
       "version_major": 2,
       "version_minor": 0
      },
      "text/plain": [
       "Batches:   0%|          | 0/1 [00:00<?, ?it/s]"
      ]
     },
     "metadata": {},
     "output_type": "display_data"
    },
    {
     "data": {
      "application/vnd.jupyter.widget-view+json": {
       "model_id": "c3d4103f6701416c9c3eecb6195fcda5",
       "version_major": 2,
       "version_minor": 0
      },
      "text/plain": [
       "Batches:   0%|          | 0/1 [00:00<?, ?it/s]"
      ]
     },
     "metadata": {},
     "output_type": "display_data"
    },
    {
     "name": "stdout",
     "output_type": "stream",
     "text": [
      "🟩 Loại detect: chi tiết điểm\n",
      "➡️ Mã môn học detect: ITE303c\n",
      "➡️ Học kỳ detect: Fall2023\n",
      "📄 Content:\n",
      "LOẠI: Chi tiết điểm\n",
      "Sinh viên: DE190340\n",
      "Môn học: MAE101 - Mathematics for Engineering\n",
      "Học kỳ: Spring2024\n",
      "Mục: Assignment / Excercise 3 | Loại: Assignment / Excercise\n",
      "Trọng số: 10.0 % | Điểm đạt: 9.0\n",
      "--------\n",
      "📄 Content:\n",
      "LOẠI: Chi tiết điểm\n",
      "Sinh viên: DE190340\n",
      "Môn học: MAE101 - Mathematics for Engineering\n",
      "Học kỳ: Spring2024\n",
      "Mục: Assignment / Excercise 2 | Loại: Assignment / Excercise\n",
      "Trọng số: 10.0 % | Điểm đạt: 9.0\n",
      "--------\n",
      "📄 Content:\n",
      "LOẠI: Chi tiết điểm\n",
      "Sinh viên: DE190340\n",
      "Môn học: MAE101 - Mathematics for Engineering\n",
      "Học kỳ: Spring2024\n",
      "Mục: Assignment / Excercise 1 | Loại: Assignment / Excercise\n",
      "Trọng số: 10.0 % | Điểm đạt: 9.0\n",
      "--------\n",
      "==> 3 kết quả\n",
      "\n",
      "\n",
      "🔎 Query 27: điểm progress test 2 môn MAI391\n"
     ]
    },
    {
     "data": {
      "application/vnd.jupyter.widget-view+json": {
       "model_id": "7c19943ad06c435fa6d423228fe7665b",
       "version_major": 2,
       "version_minor": 0
      },
      "text/plain": [
       "Batches:   0%|          | 0/1 [00:00<?, ?it/s]"
      ]
     },
     "metadata": {},
     "output_type": "display_data"
    },
    {
     "data": {
      "application/vnd.jupyter.widget-view+json": {
       "model_id": "1e676e0ab4014573a2f363cbc4c23635",
       "version_major": 2,
       "version_minor": 0
      },
      "text/plain": [
       "Batches:   0%|          | 0/1 [00:00<?, ?it/s]"
      ]
     },
     "metadata": {},
     "output_type": "display_data"
    },
    {
     "data": {
      "application/vnd.jupyter.widget-view+json": {
       "model_id": "8da089398c4f46538f59511b8b7642a7",
       "version_major": 2,
       "version_minor": 0
      },
      "text/plain": [
       "Batches:   0%|          | 0/1 [00:00<?, ?it/s]"
      ]
     },
     "metadata": {},
     "output_type": "display_data"
    },
    {
     "data": {
      "application/vnd.jupyter.widget-view+json": {
       "model_id": "8c33a8fd50934978bc9d8058082b6e44",
       "version_major": 2,
       "version_minor": 0
      },
      "text/plain": [
       "Batches:   0%|          | 0/1 [00:00<?, ?it/s]"
      ]
     },
     "metadata": {},
     "output_type": "display_data"
    },
    {
     "name": "stdout",
     "output_type": "stream",
     "text": [
      "🟩 Loại detect: chi tiết điểm\n",
      "➡️ Mã môn học detect: MAI391\n",
      "➡️ Học kỳ detect: Spring2025\n",
      "📄 Content:\n",
      "LOẠI: Chi tiết điểm\n",
      "Sinh viên: DE190340\n",
      "Môn học: MAI391 - Advanced mathematics\n",
      "Học kỳ: Fall2024\n",
      "Mục: Progress tests 2 | Loại: Progress tests\n",
      "Trọng số: 10.0 % | Điểm đạt: 8.0\n",
      "--------\n",
      "📄 Content:\n",
      "LOẠI: Chi tiết điểm\n",
      "Sinh viên: DE190340\n",
      "Môn học: MAI391 - Advanced mathematics\n",
      "Học kỳ: Fall2024\n",
      "Mục: Progress tests 1 | Loại: Progress tests\n",
      "Trọng số: 10.0 % | Điểm đạt: 9.5\n",
      "--------\n",
      "📄 Content:\n",
      "LOẠI: Chi tiết điểm\n",
      "Sinh viên: DE190340\n",
      "Môn học: MAE101 - Mathematics for Engineering\n",
      "Học kỳ: Spring2024\n",
      "Mục: Progress test 2 | Loại: Progress test\n",
      "Trọng số: 10.0 % | Điểm đạt: 7.5\n",
      "--------\n",
      "==> 3 kết quả\n",
      "\n",
      "\n",
      "🔎 Query 28: điểm danh môn JPD123 ngày 20/10\n"
     ]
    },
    {
     "data": {
      "application/vnd.jupyter.widget-view+json": {
       "model_id": "0d9599cca263472f920dd5f086d07e20",
       "version_major": 2,
       "version_minor": 0
      },
      "text/plain": [
       "Batches:   0%|          | 0/1 [00:00<?, ?it/s]"
      ]
     },
     "metadata": {},
     "output_type": "display_data"
    },
    {
     "data": {
      "application/vnd.jupyter.widget-view+json": {
       "model_id": "b8428713e5314350be5ed4612d272033",
       "version_major": 2,
       "version_minor": 0
      },
      "text/plain": [
       "Batches:   0%|          | 0/1 [00:00<?, ?it/s]"
      ]
     },
     "metadata": {},
     "output_type": "display_data"
    },
    {
     "data": {
      "application/vnd.jupyter.widget-view+json": {
       "model_id": "e1abdc8ae11147079d3c5f3f182ea8ba",
       "version_major": 2,
       "version_minor": 0
      },
      "text/plain": [
       "Batches:   0%|          | 0/1 [00:00<?, ?it/s]"
      ]
     },
     "metadata": {},
     "output_type": "display_data"
    },
    {
     "data": {
      "application/vnd.jupyter.widget-view+json": {
       "model_id": "db99b3f54b6b4e1b8905cba4a9b1e379",
       "version_major": 2,
       "version_minor": 0
      },
      "text/plain": [
       "Batches:   0%|          | 0/1 [00:00<?, ?it/s]"
      ]
     },
     "metadata": {},
     "output_type": "display_data"
    },
    {
     "name": "stdout",
     "output_type": "stream",
     "text": [
      "🟩 Loại detect: chi tiết điểm\n",
      "➡️ Mã môn học detect: JPD123\n",
      "➡️ Học kỳ detect: Fall2023\n",
      "📄 Content:\n",
      "LOẠI: Điểm danh\n",
      "Sinh viên: DE190340\n",
      "Môn học: JPD123 - Japanese Elementary 1-A1.2\n",
      "Học kỳ: Spring2025 | Buổi số: 20 - Ngày: Wednesday 26/03/2025 - Ca: 2_(9:30-11:45) - Phòng: Gamma 219.\n",
      "Giảng viên: Linhtnm2 | Nhóm: GD18D02\n",
      "Trạng thái: Present | Ghi chú: Không rõ\n",
      "--------\n",
      "📄 Content:\n",
      "LOẠI: Điểm danh\n",
      "Sinh viên: DE190340\n",
      "Môn học: JPD123 - Japanese Elementary 1-A1.2\n",
      "Học kỳ: Spring2025 | Buổi số: 10 - Ngày: Wednesday 19/02/2025 - Ca: 2_(9:30-11:45) - Phòng: Gamma 219.\n",
      "Giảng viên: Linhtnm2 | Nhóm: GD18D02\n",
      "Trạng thái: Present | Ghi chú: Không rõ\n",
      "--------\n",
      "📄 Content:\n",
      "LOẠI: Điểm danh\n",
      "Sinh viên: DE190340\n",
      "Môn học: JPD123 - Japanese Elementary 1-A1.2\n",
      "Học kỳ: Spring2025 | Buổi số: 15 - Ngày: Monday 10/03/2025 - Ca: 1_(7:00-9:15) - Phòng: Gamma 302.\n",
      "Giảng viên: Linhtnm2 | Nhóm: GD18D02\n",
      "Trạng thái: Present | Ghi chú: Không rõ\n",
      "--------\n",
      "==> 3 kết quả\n",
      "\n",
      "\n",
      "🔎 Query 29: điểm lab 1 môn SWE201c\n"
     ]
    },
    {
     "data": {
      "application/vnd.jupyter.widget-view+json": {
       "model_id": "42a01b84504b4960a73172ebe01ea11b",
       "version_major": 2,
       "version_minor": 0
      },
      "text/plain": [
       "Batches:   0%|          | 0/1 [00:00<?, ?it/s]"
      ]
     },
     "metadata": {},
     "output_type": "display_data"
    },
    {
     "data": {
      "application/vnd.jupyter.widget-view+json": {
       "model_id": "6efe42df47e84c0bb4cca44b8c5978ab",
       "version_major": 2,
       "version_minor": 0
      },
      "text/plain": [
       "Batches:   0%|          | 0/1 [00:00<?, ?it/s]"
      ]
     },
     "metadata": {},
     "output_type": "display_data"
    },
    {
     "data": {
      "application/vnd.jupyter.widget-view+json": {
       "model_id": "d66440b0c1514ca8b7111c6abfdbc679",
       "version_major": 2,
       "version_minor": 0
      },
      "text/plain": [
       "Batches:   0%|          | 0/1 [00:00<?, ?it/s]"
      ]
     },
     "metadata": {},
     "output_type": "display_data"
    },
    {
     "data": {
      "application/vnd.jupyter.widget-view+json": {
       "model_id": "9ddee25fb1f5401aa39be2fccd67fa52",
       "version_major": 2,
       "version_minor": 0
      },
      "text/plain": [
       "Batches:   0%|          | 0/1 [00:00<?, ?it/s]"
      ]
     },
     "metadata": {},
     "output_type": "display_data"
    },
    {
     "name": "stdout",
     "output_type": "stream",
     "text": [
      "🟩 Loại detect: chi tiết điểm\n",
      "➡️ Mã môn học detect: SSL101c\n",
      "➡️ Học kỳ detect: Spring2025\n",
      "📄 Content:\n",
      "LOẠI: Chi tiết điểm\n",
      "Sinh viên: DE190340\n",
      "Môn học: CPV301 - Computer Vision\n",
      "Học kỳ: Spring2025\n",
      "Mục: Lab 1 | Loại: Lab\n",
      "Trọng số: 1.3 % | Điểm đạt: 9.0\n",
      "--------\n",
      "📄 Content:\n",
      "LOẠI: Chi tiết điểm\n",
      "Sinh viên: DE190340\n",
      "Môn học: SWE201c - Introduction to Software Engineering\n",
      "Học kỳ: Spring2025\n",
      "Mục: TE | Loại: TE\n",
      "Trọng số: 60.0 % | Điểm đạt: 7.2\n",
      "--------\n",
      "📄 Content:\n",
      "LOẠI: Chi tiết điểm\n",
      "Sinh viên: DE190340\n",
      "Môn học: CPV301 - Computer Vision\n",
      "Học kỳ: Spring2025\n",
      "Mục: Lab 4 | Loại: Lab\n",
      "Trọng số: 1.3 % | Điểm đạt: 9.0\n",
      "--------\n",
      "==> 3 kết quả\n",
      "\n",
      "\n",
      "🔎 Query 30: điểm tổng kết môn CEA201\n"
     ]
    },
    {
     "data": {
      "application/vnd.jupyter.widget-view+json": {
       "model_id": "a111b951479f4e4fa895b292e3e2ba44",
       "version_major": 2,
       "version_minor": 0
      },
      "text/plain": [
       "Batches:   0%|          | 0/1 [00:00<?, ?it/s]"
      ]
     },
     "metadata": {},
     "output_type": "display_data"
    },
    {
     "data": {
      "application/vnd.jupyter.widget-view+json": {
       "model_id": "835e14b3edaf42a9a2f77c3fb41a77a4",
       "version_major": 2,
       "version_minor": 0
      },
      "text/plain": [
       "Batches:   0%|          | 0/1 [00:00<?, ?it/s]"
      ]
     },
     "metadata": {},
     "output_type": "display_data"
    },
    {
     "data": {
      "application/vnd.jupyter.widget-view+json": {
       "model_id": "9e3cd0d8ee5340efaa9917c3a95f4cc7",
       "version_major": 2,
       "version_minor": 0
      },
      "text/plain": [
       "Batches:   0%|          | 0/1 [00:00<?, ?it/s]"
      ]
     },
     "metadata": {},
     "output_type": "display_data"
    },
    {
     "data": {
      "application/vnd.jupyter.widget-view+json": {
       "model_id": "df702600ae1948d7bfaa3e44d1bf5f7c",
       "version_major": 2,
       "version_minor": 0
      },
      "text/plain": [
       "Batches:   0%|          | 0/1 [00:00<?, ?it/s]"
      ]
     },
     "metadata": {},
     "output_type": "display_data"
    },
    {
     "name": "stdout",
     "output_type": "stream",
     "text": [
      "🟩 Loại detect: tổng kết môn học\n",
      "➡️ Mã môn học detect: CEA201\n",
      "➡️ Học kỳ detect: Spring2025\n",
      "📄 Content:\n",
      "LOẠI: tổng kết môn học\n",
      "Môn học: CEA201 - Computer Organization and Architecture\n",
      "Học kỳ: Summer2024\n",
      "Điểm trung bình: 7.7\n",
      "Trạng thái: Passed\n",
      "Tóm tắt: {'Assignment': {'weight': '30.0 %', 'value': '6.8'}, 'Exercises': {'weight': '30.0 %', 'value': '8.3'}, 'Final exam': {'weight': '40.0 %', 'value': '8'}, 'Final exam Resit': {'weight': '40.0 %', 'value': None}}\n",
      "--------\n",
      "📄 Content:\n",
      "LOẠI: Chi tiết điểm\n",
      "Sinh viên: DE190340\n",
      "Môn học: CEA201 - Computer Organization and Architecture\n",
      "Học kỳ: Summer2024\n",
      "Mục: Final exam Resit | Loại: Final exam Resit\n",
      "Trọng số: 40.0 % | Điểm đạt: Khong ro\n",
      "--------\n",
      "📄 Content:\n",
      "LOẠI: Chi tiết điểm\n",
      "Sinh viên: DE190340\n",
      "Môn học: CEA201 - Computer Organization and Architecture\n",
      "Học kỳ: Summer2024\n",
      "Mục: Final exam | Loại: Final exam\n",
      "Trọng số: 40.0 % | Điểm đạt: 8.0\n",
      "--------\n",
      "==> 3 kết quả\n",
      "\n"
     ]
    }
   ],
   "source": [
    "test_queries = [\n",
    "    \"lịch học môn CPV301 tuần này\",\n",
    "    \"điểm lab 1 môn DPL302m\",\n",
    "    \"tóm tắt kết quả học tập học kỳ Fall2023\",\n",
    "    \"giảng viên dạy môn Search Engines là ai\",\n",
    "    \"điểm danh môn VOV114 ngày 12/10\",\n",
    "    \"điểm trung bình môn AI18D01\",\n",
    "    \"sinh viên DE190340 có học bổng không\",\n",
    "    \"điểm final môn DBI202\",\n",
    "    \"thông tin cá nhân sinh viên Phan Công Tâm\",\n",
    "    \"kết quả bài kiểm tra giữa kỳ môn MAD101\",\n",
    "    \"điểm tổng kết môn SWE201c\",\n",
    "    \"điểm danh môn PFP191 tuần trước\",\n",
    "    \"điểm lab 2 môn DPL302m\",\n",
    "    \"điểm assignment môn DBI202\",\n",
    "    \"điểm progress test 1 môn MAD101\",\n",
    "    \"điểm giữa kỳ môn MAE101\",\n",
    "    \"điểm cuối kỳ môn MAS291\",\n",
    "    \"điểm danh môn SSL101c ngày 01/11\",\n",
    "    \"giảng viên môn DSA103 là ai\",\n",
    "    \"điểm bài tập lớn môn CSD203\",\n",
    "    \"điểm danh môn VOV124 tuần này\",\n",
    "    \"điểm lab 3 môn DWP301c\",\n",
    "    \"điểm tổng kết môn SEG301\",\n",
    "    \"điểm danh môn JPD113 ngày 15/10\",\n",
    "    \"điểm final môn TMG301\",\n",
    "    \"điểm assignment môn ITE303c\",\n",
    "    \"điểm progress test 2 môn MAI391\",\n",
    "    \"điểm danh môn JPD123 ngày 20/10\",\n",
    "    \"điểm lab 1 môn SWE201c\",\n",
    "    \"điểm tổng kết môn CEA201\",\n",
    "]\n",
    "for i, q in enumerate(test_queries, 1):\n",
    "    print(f\"{i}. {q}\")\n",
    "\n",
    "print(\"\\n--- Kết quả tìm kiếm cho từng truy vấn ---\\n\")\n",
    "for stt, query in enumerate(test_queries, 1):\n",
    "    print(f\"\\n🔎 Query {stt}: {query}\")\n",
    "    hits = search_qdrant_by_query(query, subject_embeddings, type_embeddings, client, limit=3)\n",
    "    print(f\"==> {len(hits)} kết quả\\n\")"
   ]
  },
  {
   "cell_type": "code",
   "execution_count": 3,
   "id": "85df3ecc",
   "metadata": {},
   "outputs": [
    {
     "name": "stdout",
     "output_type": "stream",
     "text": [
      "Số trang trong file PDF: 34\n",
      "   \n",
      " \n",
      "0 \n",
      " \n",
      "HƯỚNG DẪ N SỬ DỤNG FAP  VÀ \n",
      "THỰC HI ỆN CÁC LO ẠI ĐƠN T Ừ   \n",
      "  \n",
      "\n",
      "   \n",
      "  \n",
      " \n",
      "   Phòng Dịch vụ sinh viên FPTU Đà Nẵng  \n",
      "Email: dvsv.fudn@fe.edu.vn  \n",
      "Hotline:  (0236) 730 8686  \n",
      "GIỚI THIỆU HỆ THỐNG FAP  \n",
      "FAP  là viết tắt của FPT Academic Portal , là cổng thông tin trực tuyến của Đại học FPT.  \n",
      "Hệ thống là kênh giao tiếp chính giữa nhà trường và sinh viên;  cung cấp nhiều tính năng hữu ích cho \n",
      "sinh viên, phụ huynh và giảng viên như:  \n",
      "• Theo dõi  thông báo:  Tất cả t hông báo từ các bộ phận nhà trường: phòng Đào tạo, Khảo thí, \n",
      "Dịch vụ sinh viên, Công tác sinh viên, Hợp tác quốc tế và Phát triển cá nhân, Hành chính thư \n",
      "viện, Công nghệ thông tin, Kế toán,…  \n",
      "• Tra cứu thông tin:  Lịch học, điểm thi, điểm danh, lịch thi, học phí,... \n",
      "• Thực hiện các loại đơn từ:  Đăng ký môn học, xin tạm ngừng, chuyển ngành, chuyển cơ sở , \n",
      "xác nhận sinh viên,...  \n",
      "Vì vậy, sinh viên cần theo dõi các thông báo, điểm danh, lịch thi, lịch học, … thường xuyên trên FAP \n",
      "để chủ động trong các hoạt động  học tập  và thi cử cũng như nắm được các thao tác thực hiện liên quan \n",
      "đến xử lý học vụ, xác nhận sinh viên,.. trên hệ thống FAP. \n",
      "Sinh viên có thể truy cập FAP qua website: https://fap.fpt.edu.vn/ hoặc tải ứng dụng myFAP \n",
      "về điện thoại.  \n",
      "Lưu ý: Các loại đơn từ chỉ thực hiện được qua website: https://fap.fpt.edu.vn/.  \n",
      " \n",
      "  \n",
      " \n",
      "  \n",
      " \n",
      "   \n",
      " \n",
      " \n",
      " \n",
      " \n",
      " \n",
      "   \n",
      "  \n",
      " \n",
      "   Phòng Dịch vụ sinh viên FPTU Đà Nẵng  \n",
      "Email: dvsv.fudn@fe.edu.vn  \n",
      "Hotline:  (0236) 730 8686  \n",
      "PHỤ LỤC \n",
      " \n",
      "PHẦN I.  HƯỚNG DẪN ĐĂNG NHẬP VÀ MỘT SỐ CHỨC NĂNG  .......................................... 1 \n",
      "1. Hướng dẫn đăng nhập:  ........................................................................................................ 1 \n",
      "2. Xem thông báo:  ................................................................................................................... 2 \n",
      "3. Xem lịch học:  ...................................................................................................................... 3 \n",
      "4. Xem điểm danh:  .................................................................................................................. 4 \n",
      "5. Xem báo cáo điểm:  ............................................................................................................. 5 \n",
      "6. Xem/ tải các chứng chỉ:  ...................................................................................................... 6 \n",
      "7. Xem lịch thi: ....................................................................................................................... 7 \n",
      "8. Xem lịch sử giao dịch tiền:  ................................................................................................. 8 \n",
      "PHẦN 2. HƯỚNG DẪN THỰC HIỆN CÁC LOẠI THỦ TỤC HỌC VỤ, ĐƠN TỪ  .................. 9 \n",
      "1. Đơn xin chuyển cơ sở:  ........................................................................................................ 9 \n",
      "2. Đơn xin chuyển ngành/chuyển combo:  ............................................................................ 10 \n",
      "3. Xin nhập học lại:  ............................................................................................................... 12 \n",
      "4. Xin tạm ngừng (bảo lưu) học kỳ:  ...................................................................................... 14 \n",
      "5. Xin tạm hoãn tiến độ một học kỳ để học lại/ học môn chậm kỳ:  ..................................... 14 \n",
      "6. Xin thôi học tự nguyện:  .................................................................................................... 15 \n",
      "7. Đăng ký thi cải thiện điểm:  ............................................................................................... 16 \n",
      "8. Đăng ký học lại:  ................................................................................................................ 17 \n",
      "9. Đăng ký chờ lớp học lại (Add Wishlist):  .......................................................................... 19 \n",
      "10. Đăng ký học cải thiện:  ...................................................................................................... 20 \n",
      "11. Đăng ký học môn chậm kỳ:  .............................................................................................. 21 \n",
      "12. Đăng ký phúc tra:  .............................................................................................................. 22 \n",
      "13. Đề nghị rút tiền ví FAP: .................................................................................................... 24 \n",
      "14. Thủ tục chuyển lớp/ đổi chéo lớp môn:  ............................................................................ 26 \n",
      "15. Đăng ký thi thẩm định môn coursera:  ............................................................................... 26 \n",
      "16. Đề nghị miễn điểm danh:  .................................................................................................. 28 \n",
      "17. Đề nghị xác nhận sinh viên:  .............................................................................................. 29 \n",
      "18. Đề nghị cấp bảng điểm:  .................................................................................................... 30 \n",
      " \n",
      " \n",
      "  \n",
      "   \n",
      "  \n",
      "1 \n",
      " Phòng Dịch vụ sinh viên FPTU Đà Nẵng  \n",
      "Email: dvsv.fudn@fe.edu.vn  \n",
      "Hotline:  (0236) 730 8686  \n",
      "PHẦN I .  HƯỚNG DẪN ĐĂNG NHẬP  VÀ             \n",
      "MỘT SỐ CHỨC NĂNG  \n",
      "1. Hướng dẫn đăng nhập:  \n",
      "Bước 1 : Sinh viên truy cập website: fap.fpt.edu.vn  \n",
      " \n",
      "  \n",
      " \n",
      " \n",
      " \n",
      "         Bước 2 : Lựa chọn campus “FU -Đà Nẵng” và đăng nhập bằng FEID  \n",
      "  \n",
      " \n",
      " \n",
      " \n",
      " \n",
      " \n",
      " \n",
      " \n",
      "\n",
      "   \n",
      "  \n",
      "2 \n",
      " Phòng Dịch vụ sinh viên FPTU Đà Nẵng  \n",
      "Email: dvsv.fudn@fe.edu.vn  \n",
      "Hotline:  (0236) 730 8686  \n",
      "2. Xem thông báo:   \n",
      "Bước 1 : Sinh viên đăng nhập FAP bằng tài khoản email “fpt.edu.vn” hoặc FEID (đối với \n",
      "sinh viên K19 trở đi ) \n",
      "Bước 2 : Tại mục News, sinh viên chọn “Xem tại đây”  \n",
      " \n",
      " \n",
      " \n",
      "Màn hình sẽ hiển thị các thông báo theo thời gian từ mới nhất đến cũ nhất. Sinh viên có thể \n",
      "chọn “More” để xem các thông báo cũ hơn.   \n",
      " \n",
      "    \n",
      " \n",
      " \n",
      " \n",
      " \n",
      " \n",
      " \n",
      "Lưu ý : Sinh viên vào FAP  theo dõi các thông báo thường xuyên để cập nhật các thông \n",
      "tin cần thiết và quan trọng trong quá trình học.  \n",
      " \n",
      " \n",
      "\n",
      "   \n",
      "  \n",
      "3 \n",
      " Phòng Dịch vụ sinh viên FPTU Đà Nẵng  \n",
      "Email: dvsv.fudn@fe.edu.vn  \n",
      "Hotline:  (0236) 730 8686  \n",
      "3. Xem lịch học:   \n",
      "Bước 1 : Sinh viên đăng nhập FAP bằng tài khoản email “fpt.edu.vn” hoặc FEID (đối với \n",
      "sinh viên K19 trở đi ) \n",
      "Bước 2 : Tại mục Academic Information, chọn “Weekly timetable”  \n",
      " \n",
      " \n",
      "Bước 3 : Màn hình sẽ hiện ra lịch học từng tuần của học kì.  \n",
      "               Sinh viên có thể chọn tuần tại “Week” để xem lịch học.  \n",
      "               Các môn có lịch học “Online” sẽ hiển thị nút tròn màu xanh và chữ “Online . \n",
      " \n",
      " \n",
      " \n",
      " \n",
      " \n",
      "  \n",
      " \n",
      "   \n",
      " \n",
      " \n",
      "\n",
      "   \n",
      "  \n",
      "4 \n",
      " Phòng Dịch vụ sinh viên FPTU Đà Nẵng  \n",
      "Email: dvsv.fudn@fe.edu.vn  \n",
      "Hotline:  (0236) 730 8686  \n",
      "4. Xem điểm danh : \n",
      "Bước 1 : Sinh viên đăng nhập FAP bằng tài khoản email “fpt.edu.vn” hoặc FEID (đối với \n",
      "sinh viên K19 trở đi)  \n",
      "Bước 2 : Tại mục Academic Information, chọn “ Attendance report ”. \n",
      " \n",
      "                    \n",
      "Bước 3 : Tại giao diện màn hình hiển thị các lớp môn sinh viên học trong kì. Sinh viên click \n",
      "vào từng lớp môn, tương ứng ngày và slot đã học, tại cột Attendance Status nếu hiển thị \n",
      "“Absent” => Sinh viên Vắng học; “Present” => Sinh viên Có mặt. \n",
      "                 \n",
      "\n",
      "   \n",
      "  \n",
      "5 \n",
      " Phòng Dịch vụ sinh viên FPTU Đà Nẵng  \n",
      "Email: dvsv.fudn@fe.edu.vn  \n",
      "Hotline:  (0236) 730 8686  \n",
      "Lưu ý : Sinh viên theo dõi tình trạng điểm danh hàng ngày trên FAP, trong trường hợp nhận \n",
      "thấy có sai sót về điểm danh sinh viên vui lòng làm theo hướng dẫn sau : \n",
      "- Sinh viên cần gửi mail cho giảng viên giảng dạy, và cc Phòng Đào tạo (daotao.fudn@fe.edu.vn) \n",
      "trong vòng 24 giờ kể từ thời gian phát sinh slot học để đề nghị cập nhật lại điểm danh. \n",
      "- Đối với chương trình LUK, sinh viên liên hệ văn phòng Little UK qua email \n",
      "LUKGlobalDN@gmail.com (sử dụng email LUK) với nội dung email gồm: Họ tên, lớp - đội, mã \n",
      "sinh viên, ngày thắc mắc điểm danh, nội dung buổi học - phòng học.  \n",
      "Nếu đã báo giảng viên hoặc văn phòng Little UK đúng thời hạn nhưng sau 48 giờ không được \n",
      "phản hồi, sinh viên vui lòng ngay sau đó chuyển tiếp email đã làm việc với giảng viên/ LUK qua \n",
      "email Dịch vụ sinh viên (dvsv.fudn@fe.edu.vn) để được hỗ trợ xử lý kịp thời. \n",
      "- Sinh viên được miễn điểm danh do có Hợp đồng lao động (đã được phê duyệt) chủ động liên hệ \n",
      "giảng viên để được hỗ trợ trong lớp học, hoàn thành bài tập và bài kiểm tra theo đúng quy định. \n",
      "5. Xem báo cáo điểm :  \n",
      "Bước 1 : Sinh viên đăng nhập FAP bằng tài khoản email “fpt.edu.vn” hoặc FEID (đối với \n",
      "sinh viên K19 trở đi)  \n",
      "Bước 2 : Tại mục “Reports”, sinh viên chọn “Academic Transcript” để xem thống kê điểm \n",
      "các môn học.  \n",
      " \n",
      " \n",
      " \n",
      " \n",
      " \n",
      " \n",
      " \n",
      " \n",
      " \n",
      "             \n",
      " \n",
      "Màn hình hiển thị bên dưới bao gồm các trường thông tin: ngành, chuyên ngành, combo, kì học, \n",
      "môn điều kiện tiên quyết, môn tương đương thay thế, số tín chỉ, điểm, tình trạng “passed” hoặc \n",
      "“failed ”. \n",
      " \n",
      " \n",
      "\n",
      "   \n",
      "  \n",
      "6 \n",
      " Phòng Dịch vụ sinh viên FPTU Đà Nẵng  \n",
      "Email: dvsv.fudn@fe.edu.vn  \n",
      "Hotline:  (0236) 730 8686  \n",
      " \n",
      " \n",
      " \n",
      " \n",
      " \n",
      " \n",
      " \n",
      " \n",
      " \n",
      " \n",
      " \n",
      " \n",
      " \n",
      " \n",
      " \n",
      "6. Xem/ tải các chứng chỉ:  \n",
      "Bước 1 : Sinh viên đăng nhập FAP bằng tài khoản email “fpt.edu.vn” hoặc FEID (đối với \n",
      "sinh viên K19 trở đi)  \n",
      "Bước 2 : Tại mục “ Others ”, sinh viên chọn “Các loại chứng chỉ”.  \n",
      " \n",
      " \n",
      " \n",
      " \n",
      " \n",
      " \n",
      " \n",
      " \n",
      " \n",
      " \n",
      " \n",
      "\n",
      "   \n",
      "  \n",
      "7 \n",
      " Phòng Dịch vụ sinh viên FPTU Đà Nẵng  \n",
      "Email: dvsv.fudn@fe.edu.vn  \n",
      "Hotline:  (0236) 730 8686  \n",
      "Màn hình hiển thị như bên dưới, sinh viên có thể bấm chọn “Export” để tải các chứng chỉ đã được \n",
      "nhà trường cấp dưới dạng bảng mềm. \n",
      "7. Xem lịch thi:  \n",
      "Bước 1 : Sinh viên đăng nhập FAP bằng tài khoản email “fpt.edu.vn” hoặc FEID (đối với \n",
      "sinh viên K19 trở đi)  \n",
      "Bước 2 : Tại mục “Academic information”, sinh viên chọn “View exam schedule”.  \n",
      " \n",
      "                 Thông tin  Ngày thi, giờ thi, phòng thi, hình thức thi, ngày trả điểm được thể hiện ở dạng bảng, \n",
      "trong đó phòng thi của đợt 2NDFE  sẽ không được hiển thị trước ngày thi  FE. Thông tin này chỉ \n",
      "hiện thị trước ngày thi  2NDFE  01 ngày.  \n",
      "         \n",
      "\n",
      "   \n",
      "  \n",
      "8 \n",
      " Phòng Dịch vụ sinh viên FPTU Đà Nẵng  \n",
      "Email: dvsv.fudn@fe.edu.vn  \n",
      "Hotline:  (0236) 730 8686  \n",
      "8. Xem lịch sử giao dịch tiền:  \n",
      " \n",
      "Bước 1 : Sinh viên đăng nhập FAP bằng tài khoản email “fpt.edu.vn” hoặc FEID (đối với \n",
      "sinh viên K19 trở đi ) \n",
      "Bước 2 : Tại mục “Reports”, sinh viên chọn “Transaction history”. \n",
      " \n",
      "                      \n",
      "Bước 3 : Sinh viên chọn ngày muốn xem lịch sử giao dịch và bấm View hoặc Export.  \n",
      "               \n",
      "\n",
      "   \n",
      "  \n",
      "9 \n",
      " Phòng Dịch vụ sinh viên FPTU Đà Nẵng  \n",
      "Email: dvsv.fudn@fe.edu.vn  \n",
      "Hotline:  (0236) 730 8686  \n",
      "PHẦN 2. HƯỚNG DẪN THỰC HIỆN                     \n",
      "CÁC LOẠI THỦ TỤC HỌC VỤ, ĐƠN TỪ  \n",
      "1. Đơn xin chuyển cơ sở : \n",
      "Bước 1 : Sinh viên đăng nhập vào hệ thống FAP, trên giao diện hệ thống bấm chọn “Send \n",
      "Application” . \n",
      " \n",
      "  \n",
      " \n",
      "   \n",
      " \n",
      "   \n",
      " \n",
      "Bước 2 : Tại mục “Application type”, sinh viên chọn “Đề nghị chuyển cơ sở” , điền đầy đủ \n",
      "các thông tin yêu cầu trên giao diện tại phần “Reason”. \n",
      "  \n",
      " \n",
      "   \n",
      " \n",
      "   \n",
      "\n",
      "   \n",
      "  \n",
      "10 \n",
      " Phòng Dịch vụ sinh viên FPTU Đà Nẵng  \n",
      "Email: dvsv.fudn@fe.edu.vn  \n",
      "Hotline:  (0236) 730 8686  \n",
      "Bước 3 : Sinh viên t ải mẫu đơn ở mục “Tải mẫu đơn tại đây”, điền các thông tin trong mẫu \n",
      "đơn và upload lên hệ thống tại mục “Chọn tệp”. \n",
      "Lưu ý:   \n",
      "- Sinh viên cần theo dõi  về thời hạn chuyển ngành theo thông báo Xử lý học vụ từ phòng Đào \n",
      "tạo. \n",
      "- Sinh viên cần có sự phê duyệt trên hệ thống của kế toán, thư viện và đào tạo về việc không \n",
      "nợ tài chính, nợ sách, … ở ngành cũ, cơ sở cũ. Kết quả xử lý sẽ được phản hồi chậm nhất 2 ngày \n",
      "làm việc kể từ khi sinh viên nộp đơn. Sinh viên kiểm tra tình trạng đơn tại “View application” để \n",
      "nắm thông tin kết quả đơn. Dựa trên các phản hồi của đào tạo để biết đơn đã được chấp nhận/ từ \n",
      "chối và điều chỉnh phù hợp (nếu cần).  \n",
      "2. Đơn xin chuyển ngành/chuyển combo : \n",
      "Giá dịch vụ  chuyển ngành/ chuyển combo: 2,300,000 (VND)  \n",
      " Bước 1: Sinh viên vào trang http://fap.fpt.edu.vn chọn Send Application (Gửi đơn)  \n",
      " \n",
      "   \n",
      " \n",
      "   \n",
      " \n",
      "  Bước 2:  Chọn loại đơn:  \n",
      "- Đề nghị chuyển ngành (nếu chuyển ngành hoặc chuyên ngành) hoặc  \n",
      "- Đề nghị đổi combo chuyên sâu (nếu chuyển combo)  \n",
      " \n",
      "   \n",
      "\n",
      "   \n",
      "  \n",
      "11 \n",
      " Phòng Dịch vụ sinh viên FPTU Đà Nẵng  \n",
      "Email: dvsv.fudn@fe.edu.vn  \n",
      "Hotline:  (0236) 730 8686  \n",
      " \n",
      "  \n",
      " \n",
      "   \n",
      " \n",
      "     Bước 3 : Điền nội  dung cần thiết trên màn hình giao diện. Ấn “Send”  để gửi. Hệ thống trừ \n",
      "số tiền  dịch vụ chuyển ngành/combo là  2.300.000đ  hoặc bấm “Thanh toán” nếu FAP không đủ số \n",
      "dư. \n",
      "            Bước 4 : Tiếp tục bấm “thanh toán” để hiện ra mã QR quét thanh toán. \n",
      "  Bước 5:  Sau khi nộp đơn 2 ngày, sinh viên vào View Application (Xem đơn)  để xem các \n",
      "thông tin:  các môn học thừa do đã học ở khung cũ mà khung mới không có, số tiền cần đóng cho \n",
      "các môn học thừa. Sau đó, sinh viên cần xác nhận “ đồng ý” hoặc “từ chối”. Sau 12 ngày kể từ thời \n",
      "điểm gửi đơn, nếu sinh viên không xác nhận thì hệ thống sẽ hiểu là sinh viên không muốn chuyển \n",
      "nữa và tự động từ chối đơn. \n",
      " \n",
      "Lưu ý:  \n",
      "Chuyển ngành cùng khối ngành; chuyển chuyên ngành trong cùng ngành (trừ BIT_GD sang chuyên ngành khác trong BIT hoặc ngược lại); chuyển combo chuyên sâu: Sinh viên học lên kỳ bình thường, các môn chuyên ngành đã học thừa ở khung cũ mà khung mới không có, sinh viên cần đóng phí học thừa môn (áp dụng mức phí tại thời điểm chuyển). \n",
      "\n",
      "   \n",
      "  \n",
      "12 \n",
      " Phòng Dịch vụ sinh viên FPTU Đà Nẵng  \n",
      "Email: dvsv.fudn@fe.edu.vn  \n",
      "Hotline:  (0236) 730 8686  \n",
      "Chuyển ngành khác khối; chuyển chuyên ngành BIT_GD sang chuyên ngành khác trong BIT hoặc \n",
      "ngược lại: Sinh viên học từ kỳ 1 của khung mới. Các môn chuyên ngành đã học thừa ở khung cũ mà khung mới không có, sinh viên cần đóng phí học thừa môn (áp dụng mức phí  tại thời điểm chuyển). \n",
      "Sinh viên được bảo lưu số kỳ học phí đã đóng ở ngành cũ.  \n",
      "Sinh viên chuyển ngành/chuyển cơ sở vẫn sẽ được duy trì các loại học bổng, ưu đãi tài năng trừ \n",
      "trường hợp loại học bổng đó phân biệt cụ thể theo ngành. SV chuyển chuyên ngành, ngành hẹp được bảo lưu các loại học bổng, ưu đãi này khi chuyển ngành. Sinh viên  chuyển ngành mà phải \n",
      "chuyển khóa thì sẽ nộp học phí theo biểu phí của khóa chuyển đến.  \n",
      "VD: Sinh viên học xong kỳ 3 ngành BIT_SE chuyển sang BBA_MC: Phải đóng phí thừa các môn chuyên ngành đã học ở BIT_SE mà ngành BBA_MC không có. Sinh viên được bảo lưu số kỳ học phí đã đóng ở ngành cũ, vì vậy đến kỳ 4 ngành BBA_MC sinh viên mới cần đóng tiếp học phí. \n",
      "3. Xin nhập học lại: \n",
      "Dịch vụ nhập  học lại: 2,300,000 VND  \n",
      "Bước 1 : Sinh viên truy cập vào hệ thống FAP, trên giao diện chọn \"Send application\" , chọn \n",
      "mẫu \"Đơn xin nhập học trở lại\"  \n",
      " \n",
      "Bước 2 : Sinh viên điền đầy đủ thông tin và bấm “Thanh toán” nếu FAP không đủ số dư. Nếu FAP \n",
      "đủ số dư thì chỉ cần bấm “Send”  để gửi đơn.  \n",
      " \n",
      " \n",
      "  \n",
      " \n",
      " \n",
      "\n",
      "   \n",
      "  \n",
      "13 \n",
      " Phòng Dịch vụ sinh viên FPTU Đà Nẵng  \n",
      "Email: dvsv.fudn@fe.edu.vn  \n",
      "Hotline:  (0236) 730 8686  \n",
      " \n",
      " \n",
      " \n",
      " \n",
      " \n",
      " \n",
      " \n",
      " \n",
      " \n",
      " \n",
      " \n",
      " \n",
      " \n",
      " \n",
      " \n",
      " \n",
      " \n",
      " \n",
      " \n",
      "Bước 3 : Tiếp tục bấm “Thanh toán” nếu FAP không đủ số dư.  \n",
      " \n",
      " \n",
      " \n",
      "Bước 4 : Quét mã QR để thực hiện thanh toán , giao dịch thành công đồng nghĩa với việc đã gửi đơn \n",
      "thành công.  \n",
      " \n",
      " \n",
      " \n",
      " \n",
      " \n",
      " \n",
      "  \n",
      " \n",
      " \n",
      " \n",
      " \n",
      " \n",
      "  \n",
      " \n",
      "\n",
      "   \n",
      "  \n",
      "14 \n",
      " Phòng Dịch vụ sinh viên FPTU Đà Nẵng  \n",
      "Email: dvsv.fudn@fe.edu.vn  \n",
      "Hotline:  (0236) 730 8686  \n",
      " \n",
      " \n",
      "Sinh viên kiểm tra tình trạng đơn tại “View application”. Dựa trên các phản hồi của đào tạo \n",
      "để biết đơn đã được chấp nhận/ từ chối và điều chỉnh phù hợp (nếu cần) . \n",
      "Lưu ý : Phòng TC&QLĐT có thể chấp thuận hoặc từ chối yêu cầu nhập học lại của sinh viên dựa \n",
      "trên khả năng có thể xếp lớp hay không.  \n",
      "4. Xin tạm n gừng  (bảo lưu) học kỳ : \n",
      "Sinh viên đăng nhập vào hệ thống FAP, trên giao diện hệ thống bấm chọn “Suspend one \n",
      "semester”  để tạm ngừng  01 học kỳ. \n",
      " \n",
      "Nếu tạm ng ừng thành công, hệ thống ghi nhận đơn và sẽ có thông báo trên màn hình giao diện. \n",
      "Ngoài ra, sinh viên sẽ nhận được email xác nhận từ phía đào tạo về việc tạm ngừng  học kỳ. Sinh \n",
      "viên cần theo dõi email để nắm thông tin chi tiết. \n",
      "Lưu ý : Sinh viên chỉ được phép tạm ngừng (bảo lưu) 2 học kỳ liên tiếp.   \n",
      "           Ví dụ: Nếu sinh viên đã tạm ngừng/không học môn nào trong 2 kỳ liên tiếp (Summer 2024 và \n",
      "Fall 2024) thì không được tạm ngừng học kỳ Spring 2025. \n",
      "5.  Xin tạm hoãn tiến độ một học kỳ để học lại/ học môn chậm kỳ : \n",
      "Sinh viên đăng nhập vào hệ thống FAP, trên giao diện hệ thống bấm chọn “Suspend one \n",
      "semester to take repeated course”  để tạm hoãn tiến độ 01 học kỳ.  \n",
      " \n",
      "  \n",
      " \n",
      " \n",
      " \n",
      "\n",
      "   \n",
      "  \n",
      "15 \n",
      " Phòng Dịch vụ sinh viên FPTU Đà Nẵng  \n",
      "Email: dvsv.fudn@fe.edu.vn  \n",
      "Hotline:  (0236) 730 8686  \n",
      " \n",
      " \n",
      "Nếu tạm hoãn thành công, hệ thống ghi nhận đơn và sẽ có thông báo trên màn hình giao diện. \n",
      "Ngoài ra, Sinh viên sẽ nhận được email xác nhận từ phía đào tạo về việc tạm hoãn học kỳ  \n",
      "Lưu ý:  Sinh viên tạm hoãn học kỳ cần phải đăng ký học lại/ học môn chậm kỳ ít nhất là 01 \n",
      "môn học  theo deadline thông báo của phòng Đào tạo.  \n",
      "6. Xin thôi học tự nguyện : \n",
      "Sinh viên đăng nhập vào hệ thống FAP, trên giao diện hệ thống bấm chọn “Send \n",
      "application”.  \n",
      " \n",
      "Chọn mẫu đơn “Đơn đề nghị thôi học”, điền các thông tin yêu cầu trên giao diện \n",
      "\n",
      "   \n",
      "  \n",
      "16 \n",
      " Phòng Dịch vụ sinh viên FPTU Đà Nẵng  \n",
      "Email: dvsv.fudn@fe.edu.vn  \n",
      "Hotline:  (0236) 730 8686  \n",
      " \n",
      "Sinh viên kiểm tra tình trạng đơn tại “View application”. Dựa trên các phản hồi của đào tạo \n",
      "để biết đơn đã được chấp nhận/ từ chối và điều chỉnh phù hợp (nếu cần)  \n",
      "Lưu ý:  Sinh viên cần có sự phê duyệt trên hệ thống của kế toán, thư viện và đào tạo về việc \n",
      "không nợ tài chính, nợ sách, …  \n",
      "7.  Đăng ký thi cải thiện điểm : \n",
      "Đơn cải thiện sinh viên cần nộp trước khi ngày thi retake diễn ra ½ ngày làm việc . \n",
      "Bước 1 : Sinh viên đăng nhập vào hệ thống FAP, trên giao diện hệ thống bấm chọn “Send \n",
      "application”.  \n",
      "\n",
      "   \n",
      "  \n",
      "17 \n",
      " Phòng Dịch vụ sinh viên FPTU Đà Nẵng  \n",
      "Email: dvsv.fudn@fe.edu.vn  \n",
      "Hotline:  (0236) 730 8686  \n",
      " \n",
      "Bước 2 : Chọn mẫu đơn “Đăng ký thi cải thiện điểm”, điền các thông tin yêu cầu trên giao \n",
      "diện. \n",
      " \n",
      "Sinh viên kiểm tra tình trạng đơn tại “View application”. Dựa trên các phản hồi của đào tạo/ \n",
      "khảo thí để biết đơn đã được chấp nhận/ từ chối và điều chỉnh phù hợp (nếu cần)  \n",
      "8.  Đăng ký học lại:   \n",
      "Bước 1 : Sinh viên đăng nhập vào hệ thống FAP, trên giao diện hệ thống bấm chọn “Register \n",
      "to repeat a course” . \n",
      " \n",
      "\n",
      "   \n",
      "  \n",
      "18 \n",
      " Phòng Dịch vụ sinh viên FPTU Đà Nẵng  \n",
      "Email: dvsv.fudn@fe.edu.vn  \n",
      "Hotline:  (0236) 730 8686  \n",
      " \n",
      "Bước 2 : Trên giao diện, gõ mã môn muốn đăng ký học lại tại ô “Subjectcode”  , tích ô trống \n",
      "bên cạnh để check mã môn và tên môn học . \n",
      "Sinh viên chọn lớp “Class” mà mình có nhu cầu học  mà không cấn lịch học các môn học \n",
      "khác . \n",
      "Sau đó nhấn vào “Save” để lưu lại đăng ký của mình về việc học lại  nếu FAP đủ số dư. \n",
      "Nếu FAP không đủ số dư thì bấm “ Thanh toán ” và thực hiện bước 3.  \n",
      " \n",
      "Bước 3 : Bấm thanh toán, hệ thống sẽ hiển thị mã QR và sinh viên tiến hành quét mã QR để \n",
      "thực hiện giao dịch. Giao dịch thành công đồng nghĩa việc sinh viên đã hoàn tất thủ tục đăng kí học \n",
      "lại.  \n",
      "Trường hợp sinh viên đăng kí học lại nhưng không có lớp thì thực hiện “Đăng ký chờ lớp học \n",
      "lạ (Add wishlist)”.  \n",
      "\n",
      "   \n",
      "  \n",
      "19 \n",
      " Phòng Dịch vụ sinh viên FPTU Đà Nẵng  \n",
      "Email: dvsv.fudn@fe.edu.vn  \n",
      "Hotline:  (0236) 730 8686  \n",
      "9. Đăng ký chờ lớp học lại (Add Wishlist) : \n",
      "Sinh viên phải học lại vì lý do trùng lịch, nhà trường không tổ chức được lớp, hết hạn đăng kí \n",
      "học lại, lớp full,… có thể đăng ký vào danh sách chờ lớp (wishlist) để được bảo lưu chế độ học lại \n",
      "sớm, tuy nhiên sinh viên có nghĩa vụ tự đăng kí lại vào lớp học từ Wishlist hoặc theo sự sắp xếp của phòng Đào tạo (nếu có). Phí học lại được tính theo biểu phí môn tại thời điểm đăng ký vào wishlist. \n",
      "Trường hợp sinh viên hủy wishlist sẽ chỉ được hoàn lại 50% số tiền đã nộp.  \n",
      "  Bước 1 : Sinh viên đăng ký vào wishlist trên hệ thống FAP tại mục  \"Register wishlist\" để \n",
      "thêm môn học lại vào danh sách chờ.  \n",
      " \n",
      " \n",
      " \n",
      " \n",
      " \n",
      " \n",
      " \n",
      " \n",
      " \n",
      " \n",
      "  Bước 2 : Nhập mã môn nợ mà sinh viên muốn đăng kí vào  ô trống và bấm tích chọn ô vuông bên \n",
      "cạnh. Nhấn nút thanh toán nếu không đủ số dư ví FAP. \n",
      " \n",
      " \n",
      " \n",
      " \n",
      " \n",
      " \n",
      "           Bước 3 : Tiếp tục bấm thanh toán.  \n",
      " \n",
      " \n",
      " \n",
      " \n",
      "          \n",
      "\n",
      "   \n",
      "  \n",
      "20 \n",
      " Phòng Dịch vụ sinh viên FPTU Đà Nẵng  \n",
      "Email: dvsv.fudn@fe.edu.vn  \n",
      "Hotline:  (0236) 730 8686  \n",
      "            Bước 4 : Hệ thống sẽ hiện mã QR để sinh viên có thể đóng tiền. Khi tiền được chuyển thành công \n",
      "đồng nghĩa việc đơn đăng kí của sinh viên đã thực hiện xong.  \n",
      " \n",
      " \n",
      " \n",
      " \n",
      " \n",
      " \n",
      " \n",
      " \n",
      " \n",
      " \n",
      "Khi đến đợt xử lý học vụ, sinh viên truy cập vào “Wishlist course” để chuyển các môn ở trạng thái \n",
      "“chờ lớp”  qua các lớp học sẵn có trong kỳ tới  theo thông báo về thời hạn “Đăng kí học lại”.  \n",
      "10.  Đăng ký học cải thiện : \n",
      " Sinh viên đăng nhập vào hệ thống FAP, trên giao diện hệ thống bấm chọn “Register to \n",
      "improve mark”  \n",
      " \n",
      "Trên giao diện, gõ mã môn muốn đăng ký học lại tại ô “Subjectcode”   \n",
      "Trong trường hợp chưa có lớp, sinh viên chọn “Wishlist”  để vào trạng thái chờ lớp và sẽ do \n",
      "đào tạo sắp xếp lớp học  \n",
      "\n",
      "   \n",
      "  \n",
      "21 \n",
      " Phòng Dịch vụ sinh viên FPTU Đà Nẵng  \n",
      "Email: dvsv.fudn@fe.edu.vn  \n",
      "Hotline:  (0236) 730 8686  \n",
      "Trong trường hợp có lớp học trong kỳ, sinh viên chọn lớp “Class” mà mình có nhu cầu học  \n",
      "Sau đó nhấn vào “Save” để lưu lại đăng ký của mình về việc học lại. \n",
      " \n",
      "Nếu đăng ký thành công, hệ thống ghi nhận và có thông báo trên màn hình giao diện, Account \n",
      "balance của sinh viên trừ đi phí học cải thiện của môn học đã đăng ký.  \n",
      "11.  Đăng ký học môn chậm kỳ : \n",
      "Sinh viên đăng ký học đi chậm kỳ cho các học phần chưa học  do sinh viên tạm ngưng hoặc \n",
      "chưa đủ điều kiện học từ các kỳ trước. Học đi chậm kỳ sinh viên không cần đóng học phí cho môn \n",
      "học chậm kỳ (do sinh viên đã thanh toán phí từ các học kỳ trước) . \n",
      "Bước 1 : Sinh viên đăng nhập vào hệ thống FAP, trên giao diện hệ thống bấm chọn “Register \n",
      "extra courses ” \n",
      " \n",
      "Bước 2 : Trên giao diện, gõ mã môn muốn đăng ký học chậm kỳ tại ô “Subjectcode”   \n",
      "               Sinh viên chọn lớp “Class” mà mình có nhu cầu học  \n",
      "               Sau đó nhấn vào “Save” để lưu lại đăng ký của mình về việc học lại  \n",
      "\n",
      "   \n",
      "  \n",
      "22 \n",
      " Phòng Dịch vụ sinh viên FPTU Đà Nẵng  \n",
      "Email: dvsv.fudn@fe.edu.vn  \n",
      "Hotline:  (0236) 730 8686  \n",
      " \n",
      "12.  Đăng ký phúc tra : \n",
      " Phí phúc tra: 200,000/ 1 lần phúc tra/ 1 môn  \n",
      " Sinh viên đăng ký phúc tra trong vòng 3 ngày kể từ khi có kết quả, kết quả trả về cho sinh \n",
      "viên trong vòng 5 ngày kể từ khi kết thúc nhận đơn.  \n",
      "Bước 1 : Sinh viên đăng nhập vào hệ thống FAP, trên giao diện hệ thống bấm chọn “Send \n",
      "application”.  \n",
      " \n",
      "Bước 2 : Chọn mẫu đơn “Đề nghị phúc tra” , điền đầy đủ các thông tin yêu cầu trên giao diện, \n",
      "đặc biệt Mục Kỳ thi/ ExamType: ghi Final (FE) hoặc Retake (2NDFE)  và bấm “Send”  để nộp \n",
      "đơn (nếu có số dư FAP); bấm “thanh toán” nếu không có số dư FAP.  \n",
      "\n",
      "   \n",
      "  \n",
      "23 \n",
      " Phòng Dịch vụ sinh viên FPTU Đà Nẵng  \n",
      "Email: dvsv.fudn@fe.edu.vn  \n",
      "Hotline:  (0236) 730 8686  \n",
      " \n",
      "  \n",
      " \n",
      "   \n",
      " \n",
      "    \n",
      " \n",
      " \n",
      " \n",
      "Ví dụ:   \n",
      "   \n",
      " \n",
      "Bước 3 : Bấm Thanh toán (nếu FAP không đủ số dư)  \n",
      "    \n",
      "\n",
      "   \n",
      "  \n",
      "24 \n",
      " Phòng Dịch vụ sinh viên FPTU Đà Nẵng  \n",
      "Email: dvsv.fudn@fe.edu.vn  \n",
      "Hotline:  (0236) 730 8686  \n",
      "         Bước 4 : Tiếp tục bấm thanh toán để hệ thống cung cấp mã QR, sinh viên quét mã QR để thực \n",
      "hiện thanh toán phí phúc tra. Đơn thành công khi giao dịch thực hiện thành công. \n",
      " \n",
      " \n",
      "   \n",
      " \n",
      "    \n",
      "Sinh viên kiểm tra tình trạng đơn tại “View application”. Dựa trên các phản hồi của đào tạo để biết \n",
      "đơn đã được chấp nhận/ từ chối và điều chỉnh phù hợp (nếu cần) . \n",
      "13.  Đề ngh ị rút tiền ví FAP:  \n",
      "Theo quy định, nhà trường sẽ không trả lại tiền vào tài khoản của sinh viên mà trả trực tiếp \n",
      "cho bố mẹ sinh viên. Vì vậy, hồ sơ đơn đề nghị rút tiền của sinh viên sẽ bao gồm:  \n",
      "- CMND/CCCD 2 mặt của chủ tài khoản nhận tiền (bố/mẹ) và của sinh viên. \n",
      "- Giấy khai sinh hoặc sổ hộ khẩu có tên của chủ tài khoản và tên của sinh viên để chứng \n",
      "minh mối quan hệ. \n",
      "- Trường hợp bố mẹ sinh viên không có tài khoản ngân hàng, sinh viên vui lòng cung cấp \n",
      "CMND/ CCCD của phụ huynh kèm với số điện thoại để liên hệ xác minh thông tin. \n",
      "Sinh viên chụp ảnh các hồ sơ trên to, rõ nét, khi in ra phải đọc được số. Sinh viên đưa ảnh \n",
      "vào 1 file word.docx đính kèm theo đơn rút tiền (mẫu tải tại extension file trên hệ thống)  \n",
      "Lưu ý:  Sinh viên gửi file kèm theo dung lượng không vượt quá 2MB. (file ảnh nên để ở độ phân \n",
      "giải trung bình ví dụ: JPG,…)  \n",
      "Sinh viên đăng nhập vào hệ thống FAP, trên giao diện hệ thống bấm chọn “Send \n",
      "application”.  \n",
      "\n",
      "   \n",
      "  \n",
      "25 \n",
      " Phòng Dịch vụ sinh viên FPTU Đà Nẵng  \n",
      "Email: dvsv.fudn@fe.edu.vn  \n",
      "Hotline:  (0236) 730 8686  \n",
      " \n",
      "Chọn mẫu đơn “Đơn đề nghị rút tiền”, điền đầy đủ các thông tin yêu cầu trên giao diện.  \n",
      "Tải mẫu đơn ở mục Extension file (click here) , điền các thông tin trong mẫu đơn (kèm theo \n",
      "hình ảnh các hồ sơ yêu cầu)  và upload lên hệ thống tại mục File attach  \n",
      " \n",
      "\n",
      "   \n",
      "  \n",
      "26 \n",
      " Phòng Dịch vụ sinh viên FPTU Đà Nẵng  \n",
      "Email: dvsv.fudn@fe.edu.vn  \n",
      "Hotline:  (0236) 730 8686  \n",
      "Sinh viên kiểm tra tình trạng đơn tại “View application”. Dựa trên các phản hồi của kế toán \n",
      "để biết đơn đã được chấp nhận/ từ chối và điều chỉnh phù hợp (nếu cần) . \n",
      "14.  Thủ tục chuyển lớp / đổi chéo lớp môn : \n",
      " Sinh viên được quyền chuyển lớp online trong thời gian theo thông báo của phòng Đào tạo mở \n",
      "lớp (có trong thông báo Xử lý học vụ).  Thủ tục chuyển lớp/đổi chéo lớp môn chỉ có thể thực hiện \n",
      "được nếu như lớp dự định chuyển đến chưa full và không trùng lịch học với những môn học khác  \n",
      " - Cách thức như sau: Truy cập fap.fpt.edu.vn mục “Thủ tục/đơn từ”  => “Move out class (Xin \n",
      "chuyển lớp)” hoặc  “Yêu cầu đổi chéo lớp với sinh viên ” \n",
      " \n",
      " \n",
      "Lưu ý:  - Không áp dụng chuyển lớp/đổi chéo lớp môn với những môn đăng ký học lại do sinh viên \n",
      "đã có quyền lựa chọn lớp học khi thao tác đăng ký. \n",
      "  - Phòng Đào tạo đã xếp lịch học các môn chuyên ngành tối ưu nhất có thể cho sinh viên, do \n",
      "vậy sinh viên cần suy nghĩ và cân nhắc kỹ trước khi đổi lớp để tránh trường hợp sinh viên phải đi \n",
      "học nhiều buổi trái nhau trong tuần. Sau thời gian trên, P. Đào tạo sẽ không giải quyết việc xin đổi \n",
      "lại lớp. \n",
      "15.  Đăng ký thi thẩm định môn coursera: \n",
      "Phí thi thẩm định: 2,300 ,000/ 1 lần/ 1 môn  từ học kì Spring 2025.  \n",
      "Bước 1 : Sinh viên đăng nhập vào hệ thống FAP, đăng ký tại mục “ Send application”, chọn \n",
      "thủ tục “Đăng ký thi thẩm định các môn học online”   \n",
      "  \n",
      "   \n",
      "  \n",
      "27 \n",
      " Phòng Dịch vụ sinh viên FPTU Đà Nẵng  \n",
      "Email: dvsv.fudn@fe.edu.vn  \n",
      "Hotline:  (0236) 730 8686  \n",
      " \n",
      "   \n",
      "Bước 2 : Sinh viên ghi rõ tên môn, đính kèm đầy đủ link chứng chỉ và lý do đăng ký thi vào \n",
      "mục \"Reason\". Sau đó bấm vào “Send”  để nộp đơn (nếu FAP có số dư) ; bấm “ Thanh toán ” nếu \n",
      "FAP không có số dư.  \n",
      " \n",
      " \n",
      " \n",
      " \n",
      " \n",
      " \n",
      " \n",
      " \n",
      " \n",
      " \n",
      " \n",
      " \n",
      "\n",
      "   \n",
      "  \n",
      "28 \n",
      " Phòng Dịch vụ sinh viên FPTU Đà Nẵng  \n",
      "Email: dvsv.fudn@fe.edu.vn  \n",
      "Hotline:  (0236) 730 8686  \n",
      "Bước 3 : Sinh viên bấm “ Thanh toán”   \n",
      "Sau khi hoàn thành thao tác đăng ký, sinh viên  theo dõi mục \"View Application\"  để cập nhật tình \n",
      "trạng xử lí đơn và thời gian thi dự kiến.  \n",
      " \n",
      "    \n",
      " \n",
      " \n",
      "Bước 4 : Tiếp tục bấm “Thanh toán” để hiển thị mã QR, sinh viên tiến hành thanh toán theo mã \n",
      "QR. Giao dịch thành công đồn nghĩa đơn thi của sinh viên đã nộp thành công. Sinh viên lưu ý kiểm tra tình trạng đơn tại “View application” để biết tình trạng đơn và  lịch thi dự \n",
      "kiến (nếu có).  \n",
      "16.  Đề nghị miễn điểm danh: \n",
      "- Đối với sinh viên lần đầu tiên nộp Hợp đồng lao động:  sinh viên nộp “Bản sao có công chứng \n",
      "Hợp đồng lao động” về bộ phận Dịch vụ sinh viên. Sau đó, sinh viên đăng ký miễn điểm danh trên \n",
      "FAP thông qua mục: Send application (gửi đơn) , chọn loại “Đề nghị miễn điểm danh” , đính kèm \n",
      "bản scan hợp đồng đang còn hiệu lực.  \n",
      " \n",
      "             \n",
      " \n",
      "- Hợp đồng lao động đã nộp và vẫn còn thời hạn:  sinh viên chỉ cần nộp “ Giấy xác nhận đang \n",
      "còn làm việc”  của công ty/cơ quan có chữ ký và đóng dấu của đơn vị về Bộ phận Dịch vụ sinh viên. \n",
      "\n",
      "   \n",
      "  \n",
      "29 \n",
      " Phòng Dịch vụ sinh viên FPTU Đà Nẵng  \n",
      "Email: dvsv.fudn@fe.edu.vn  \n",
      "Hotline:  (0236) 730 8686  \n",
      "Sau đó, sinh viên đăng ký đơn miễn điểm danh trên FAP thông qua mục: Send application (gửi \n",
      "đơn),  chọn loại “Đề nghị miễn điểm danh”, đính kèm bản scan hợp đồng đang còn hiệu lực.  \n",
      "17.  Đề nghị xác nhận sinh viên : \n",
      "Đề nghị xác nhận sinh viên bao gồm các thủ tục sau: hoãn nghĩa vụ quân sự, miễn thuế thu nhập \n",
      "cá nhân, đề nghị xác nhận vay vốn ngân hàng, đề nghị xác nhận sinh viên Tiếng Anh, đề nghị xác \n",
      "nhận sinh viên tiếng Việt, đề nghị làm thẻ sinh viên. \n",
      "Bước 1 : Truy cập website:  https://fap.fpt.edu.vn/  và tiến hành đăng nhập.  \n",
      "Bước 2 : Kiểm tra thông tin cá nhân ở mục  “Student Profile” . \n",
      "- Nếu thông tin đã chính xác, tiếp tục thực hiện bước 3. \n",
      "- Nếu thông tin chưa chính xác, sinh viên không thực hiện đăng ký giấy xác nhận mà cần đến trực  \n",
      "tiếp Phòng Dịch vụ sinh viên để nộp bản sao CCCD có công chứng. Phòng sẽ đối chiếu, kiểm tra \n",
      "và tiến hành cập nhật sau khi thông tin đã được xác minh. \n",
      " \n",
      "                \n",
      "Bước 3:  Tại mục  “Registration/Application (Thủ tục/đơn từ)” chọn “Xin xác nhận sinh viên”.  \n",
      "               Sau đó chọn các loại thủ tục yêu cầu.  \n",
      "               Tại ô “Địa chỉ theo hộ khẩu thường trú” sinh viên lưu ý nhập các trường thông tin chính xác, kiểm tra kĩ về chính tả.                    \n",
      "\n",
      "   \n",
      "  \n",
      "30 \n",
      " Phòng Dịch vụ sinh viên FPTU Đà Nẵng  \n",
      "Email: dvsv.fudn@fe.edu.vn  \n",
      "Hotline:  (0236) 730 8686  \n",
      " \n",
      "             \n",
      "   \n",
      " \n",
      " \n",
      "Bước 4 : Bấm send nếu tài khoản FAP đủ số dự, bấm Thanh toán nếu FAP không đủ số dư. \n",
      "              Lưu ý: sinh viên cần ghi rõ mục đích của việc xin giấy xác nhận. Đối với đề nghị làm \n",
      "thẻ sinh viên, sinh viên vần upload ảnh thẻ 3x4 theo yêu cầu. \n",
      "Bước 5 : Sinh theo dõi tình trạng đơn tại mục “ View applicaion ” và đến nhận giấy xác nhận tại \n",
      "phòng Dịch vụ sinh viên.  Sau khi tiếp nhận đơn của sinh viên, phòng Dịch vụ sinh viên sẽ tiến hành xử lý đơn và kiểm tra \n",
      "thông tin. Sau đó, chuyển các bộ phận liên quan kí, đóng dấu. Thời hạn trả đơn trên FAP là 2 ngày \n",
      "làm việc sau khi nhận đơn. Riêng đối với đơn “Đề nghị xác nhận vay vốn ngân hàng” có chữ kí \n",
      "Hà Nội thời hạn trả đơn là từ 7- 10 ngày.  \n",
      "18.  Đề nghị cấp bảng điểm:  \n",
      "Bước 1 : Sinh viên đăng nhập vào hệ thống FAP, đăng ký tại mục “ Send application” , chọn \n",
      "thủ tục “Đề nghị cấp bảng điểm quá trình”   \n",
      " \n",
      " \n",
      " \n",
      " \n",
      " \n",
      " \n",
      " \n",
      " \n",
      "\n",
      "   \n",
      "  \n",
      "31 \n",
      " Phòng Dịch vụ sinh viên FPTU Đà Nẵng  \n",
      "Email: dvsv.fudn@fe.edu.vn  \n",
      "Hotline:  (0236) 730 8686  \n",
      " \n",
      " \n",
      " \n",
      "        \n",
      "    \n",
      " \n",
      "Bước 2 : Sinh viên điền lý do vào đơn và bấm send nếu FAP có số dư và bấm “Thanh toán” \n",
      "nếu FAP không có số dư.  \n",
      "Bước 3 : Sinh viên theo dõi mục “View application” để theo dõi tình trạng đơn và đến nhận \n",
      "bảng điểm tại phòng Dịch vụ sinh viên. \n",
      "Moi thắc mắc vui lòng liên hệ phòng Dịch vụ sinh viên phòng 101, toàn nhà Alpha. \n",
      "Email: dvsv.fudn@fe.edu.vn \n",
      "Điện thoại : (0236) 730 8686 \n",
      "Trân trọng,  \n",
      "Phòng Dịch vụ sinh viên – Trường Đại học FPT Đà Nẵng \n",
      " \n",
      " \n",
      "\n",
      "\n",
      "Tổng số ký tự: 30267\n",
      "Trung bình số ký tự mỗi trang: 890.21\n",
      "\n",
      "Preview nội dung trang đầu tiên:\n",
      "   \n",
      " \n",
      "0 \n",
      " \n",
      "HƯỚNG DẪ N SỬ DỤNG FAP  VÀ \n",
      "THỰC HI ỆN CÁC LO ẠI ĐƠN T Ừ   \n",
      "  \n",
      "...\n"
     ]
    }
   ],
   "source": [
    "# Load data file pdf hướng dẫn sinh viên dùng FAP \n",
    "import PyPDF2\n",
    "import pandas as pd\n",
    "\n",
    "# Đọc file PDF\n",
    "pdf_path = r\"D:\\Desktop\\tap tanh hoc code\\.vscode\\Summer_2025\\SEG301\\Fap_Chat\\data\\Hướng dẫn sử dụng và thực hiện các loại đơn từ.pdf\"\n",
    "\n",
    "try:\n",
    "    with open(pdf_path, 'rb') as file:\n",
    "        # Tạo PDF reader object\n",
    "        pdf_reader = PyPDF2.PdfReader(file)\n",
    "        \n",
    "        # Số trang của file PDF\n",
    "        num_pages = len(pdf_reader.pages)\n",
    "        print(f\"Số trang trong file PDF: {num_pages}\")\n",
    "        \n",
    "        # Đọc nội dung từng trang\n",
    "        content = []\n",
    "        for page_num in range(num_pages):\n",
    "            page = pdf_reader.pages[page_num]\n",
    "            content.append(page.extract_text())\n",
    "            print(page.extract_text())\n",
    "            \n",
    "        # In ra một số thống kê cơ bản\n",
    "        total_chars = sum(len(text) for text in content)\n",
    "        avg_chars_per_page = total_chars / num_pages\n",
    "        \n",
    "        print(f\"\\nTổng số ký tự: {total_chars}\")\n",
    "        print(f\"Trung bình số ký tự mỗi trang: {avg_chars_per_page:.2f}\")\n",
    "        \n",
    "        # In ra preview nội dung trang đầu tiên\n",
    "        print(\"\\nPreview nội dung trang đầu tiên:\")\n",
    "        print(content[0][:500] + \"...\")\n",
    "\n",
    "except FileNotFoundError:\n",
    "    print(\"Không tìm thấy file PDF tại đường dẫn đã cho\")\n",
    "except Exception as e:\n",
    "    print(f\"Có lỗi xảy ra khi đọc file PDF: {str(e)}\")\n"
   ]
  }
 ],
 "metadata": {
  "kernelspec": {
   "display_name": "Python 3",
   "language": "python",
   "name": "python3"
  },
  "language_info": {
   "codemirror_mode": {
    "name": "ipython",
    "version": 3
   },
   "file_extension": ".py",
   "mimetype": "text/x-python",
   "name": "python",
   "nbconvert_exporter": "python",
   "pygments_lexer": "ipython3",
   "version": "3.12.0"
  }
 },
 "nbformat": 4,
 "nbformat_minor": 5
}
